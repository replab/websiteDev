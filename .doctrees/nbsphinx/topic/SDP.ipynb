{
 "cells": [
  {
   "cell_type": "markdown",
   "id": "a079f485",
   "metadata": {},
   "source": [
    "# Symmetric SDPs\n",
    "\n",
    "This document illustrated how *RepLAB* can be used to solve SemiDefinite Programs (SDP) subject to symmetries. Several methods for constructing\n",
    "SDPs subject to symmetries are presented.\n",
    "\n",
    "## Preparation\n",
    "As always, before using *RepLAB* commands, initialize the library:"
   ]
  },
  {
   "cell_type": "code",
   "execution_count": 1,
   "id": "82f725c0",
   "metadata": {
    "execution": {
     "iopub.execute_input": "2021-12-13T21:44:58.142122Z",
     "iopub.status.busy": "2021-12-13T21:44:58.141706Z",
     "iopub.status.idle": "2021-12-13T21:45:03.986791Z",
     "shell.execute_reply": "2021-12-13T21:45:03.986298Z"
    }
   },
   "outputs": [
    {
     "name": "stdout",
     "output_type": "stream",
     "text": [
      "replab_init: Initialization done.\r\n"
     ]
    }
   ],
   "source": [
    "addpath([pwd, '/../..']);\n",
    "replab_init('verbose', 0);"
   ]
  },
  {
   "cell_type": "markdown",
   "id": "88b9d350",
   "metadata": {
    "lines_to_next_cell": 2
   },
   "source": [
    "Commands in this document makes use ot the YALMIP interface to solve\n",
    "convex optimization problems, see\n",
    "<../installation.html installation instructions>."
   ]
  },
  {
   "cell_type": "markdown",
   "id": "64e329b2",
   "metadata": {},
   "source": [
    "## Introduction\n",
    "\n",
    "[Semidefinite programming](https://en.wikipedia.org/wiki/Semidefinite_programming)\n",
    "is a form of optimization that admits semidefinite\n",
    "constraints (as in the condition that all eigenvalues of a matrix must be\n",
    "positive). It naturally arises in various fields, including operational\n",
    "research and polynomial optimization.\n",
    "\n",
    "The ability to solve a semidefinite program depends heavily on:\n",
    "\n",
    "* the size of the positive semi-definite (PSD) blocks\n",
    "* the number of variables and constraints involved\n",
    "\n",
    "A positive semi-definite matrix that is invariant under some joint\n",
    "permutation of its lines and columns can be decomposed into a block\n",
    "diagonal form. This allows to:\n",
    "\n",
    "* decompose PSD blocks into smaller PSD blocks\n",
    "* set many variables to zero, hence reducing the number of variables in the problem\n",
    "\n",
    "As we shows below, *RepLAB* performs this simplification automatically.\n",
    "\n",
    "## Formulating a symmetric SDP\n",
    "\n",
    "To illustrate the usage of *RepLAB* for symmetric SDPs, we consider a\n",
    "simple example involving a 3x3 matrix $M$ with trace 1 that is symmetric\n",
    "under cyclic permutation of its indices, i.e. it satisfies $M([2\\ 3\\ 1], [2\\ 3\\ 1]) = M$.\n",
    "We ask what is the smallest value that the off-diagonal element\n",
    "$M(1,2)$ can take if this matrix $M$ has only positive eigenvalues."
   ]
  },
  {
   "cell_type": "markdown",
   "id": "b48d1c7b",
   "metadata": {},
   "source": [
    "### Symmetric formulation\n",
    "\n",
    "Using *RepLAB*, we can solve this problem as follows.\n",
    "\n",
    "We start by defining a matrix which satisfies the desired symmetry"
   ]
  },
  {
   "cell_type": "code",
   "execution_count": 2,
   "id": "7e1e9022",
   "metadata": {
    "execution": {
     "iopub.execute_input": "2021-12-13T21:45:03.989439Z",
     "iopub.status.busy": "2021-12-13T21:45:03.988733Z",
     "iopub.status.idle": "2021-12-13T21:45:04.834467Z",
     "shell.execute_reply": "2021-12-13T21:45:04.834836Z"
    }
   },
   "outputs": [],
   "source": [
    "permutation = [2 3 1];\n",
    "MSym = replab.CommutantVar.fromPermutations({permutation}, 'symmetric', 'real');"
   ]
  },
  {
   "cell_type": "markdown",
   "id": "98bed815",
   "metadata": {},
   "source": [
    "We can then perform the optimization with:"
   ]
  },
  {
   "cell_type": "code",
   "execution_count": 3,
   "id": "fae9fa9c",
   "metadata": {
    "execution": {
     "iopub.execute_input": "2021-12-13T21:45:04.837612Z",
     "iopub.status.busy": "2021-12-13T21:45:04.837182Z",
     "iopub.status.idle": "2021-12-13T21:45:07.666220Z",
     "shell.execute_reply": "2021-12-13T21:45:07.666591Z"
    }
   },
   "outputs": [
    {
     "name": "stdout",
     "output_type": "stream",
     "text": [
      "MSymOpt =\r\n",
      "\r\n",
      "   0.3333  -0.1667  -0.1667\r\n",
      "  -0.1667   0.3333  -0.1667\r\n",
      "  -0.1667  -0.1667   0.3333\r\n",
      "\r\n"
     ]
    }
   ],
   "source": [
    "constraintsSym = [trace(MSym) == 1, MSym >= 0];\n",
    "diagnosticSym = optimize(constraintsSym, MSym(1,2), sdpsettings('verbose', 0));\n",
    "MSymOpt = value(MSym)"
   ]
  },
  {
   "cell_type": "markdown",
   "id": "13f77e73",
   "metadata": {},
   "source": [
    "We find the critical value of $-1/6$.\n",
    "\n",
    "At the end of this page, we discuss how this formulation is more\n",
    "efficient than a direct formulation which would not take advantage of the\n",
    "symmetry properties of the considered matrix."
   ]
  },
  {
   "cell_type": "markdown",
   "id": "cf690ac1",
   "metadata": {},
   "source": [
    "## Constructing a symmetric SDP matrix with additional structure\n",
    "\n",
    "An SDP matrix might sometimes be subject to more than only symmetry\n",
    "constraints. When these additional constraints take the form of equality\n",
    "between some of the matrix elements, it can be conveniently described by\n",
    "a matrix having at each element the index of the corresponding variable.\n",
    "All elements with identical index are then understood as being equal to\n",
    "each other.\n",
    "\n",
    "For instance, imposing on a 3x3 matrix that elements (1,1) ans (2,1) are\n",
    "must be equal to each other can be described by the following index\n",
    "matrix:"
   ]
  },
  {
   "cell_type": "code",
   "execution_count": 4,
   "id": "a3b9da5b",
   "metadata": {
    "execution": {
     "iopub.execute_input": "2021-12-13T21:45:07.669530Z",
     "iopub.status.busy": "2021-12-13T21:45:07.668874Z",
     "iopub.status.idle": "2021-12-13T21:45:07.689267Z",
     "shell.execute_reply": "2021-12-13T21:45:07.688873Z"
    }
   },
   "outputs": [],
   "source": [
    "indexMatrix = [1 2 3\n",
    "1 4 5\n",
    "6 7 8];"
   ]
  },
  {
   "cell_type": "markdown",
   "id": "082f9f86",
   "metadata": {},
   "source": [
    "An SDP matrix satisfying this constraint is then obtained"
   ]
  },
  {
   "cell_type": "code",
   "execution_count": 5,
   "id": "549817b2",
   "metadata": {
    "execution": {
     "iopub.execute_input": "2021-12-13T21:45:07.691932Z",
     "iopub.status.busy": "2021-12-13T21:45:07.691497Z",
     "iopub.status.idle": "2021-12-13T21:45:08.125397Z",
     "shell.execute_reply": "2021-12-13T21:45:08.125741Z"
    }
   },
   "outputs": [
    {
     "name": "stdout",
     "output_type": "stream",
     "text": [
      "cstrSdpMatrix ="
     ]
    },
    {
     "name": "stdout",
     "output_type": "stream",
     "text": [
      "\r"
     ]
    },
    {
     "name": "stdout",
     "output_type": "stream",
     "text": [
      "\n"
     ]
    },
    {
     "name": "stdout",
     "output_type": "stream",
     "text": [
      "\r\n",
      "Commutant variable 3x3 (2 blocks, 1 scalar variables)\r\n",
      "           dim: 3\r\n",
      "   dimensions1: [1, 2]\r\n",
      "         field: 'real'\r\n",
      "    matrixType: 'symmetric'\r\n",
      "multiplicities: [1, 1]\r\n",
      "         types: 'RC'\r\n",
      "             U: 3 x 3 double\r\n",
      "        blocks: [1, 2]\r\n",
      "\r\n"
     ]
    }
   ],
   "source": [
    "cstrSdpMatrix = replab.CommutantVar.fromIndexMatrix(indexMatrix, {permutation}, 'symmetric', 'real')"
   ]
  },
  {
   "cell_type": "markdown",
   "id": "84f414db",
   "metadata": {
    "lines_to_next_cell": 2
   },
   "source": [
    "In this trivial case, the SDP matrix is left to contain only one variable: the additional constraints collapsed the all group orbits\n",
    "together."
   ]
  },
  {
   "cell_type": "markdown",
   "id": "ace36c2d",
   "metadata": {},
   "source": [
    "## Imposing symmetry to an existing SDP matrix\n",
    "\n",
    "Symmetry constraints can also be straightforwardly imposed on existing SDP matrices with arbitrary structure.\n",
    "\n",
    "For instance, consider the following special SDP matrix"
   ]
  },
  {
   "cell_type": "code",
   "execution_count": 6,
   "id": "45f1b7f9",
   "metadata": {
    "execution": {
     "iopub.execute_input": "2021-12-13T21:45:08.128269Z",
     "iopub.status.busy": "2021-12-13T21:45:08.127865Z",
     "iopub.status.idle": "2021-12-13T21:45:08.572929Z",
     "shell.execute_reply": "2021-12-13T21:45:08.572474Z"
    }
   },
   "outputs": [
    {
     "name": "stdout",
     "output_type": "stream",
     "text": [
      "Linear scalar (real, 1 variable)\r\n",
      "Coefficients range: 1 to 1\r\n"
     ]
    }
   ],
   "source": [
    "x = sdpvar;\n",
    "y = sdpvar\n",
    "MSpecial = [1 x y\n",
    "x 1 y\n",
    "x y 1];"
   ]
  },
  {
   "cell_type": "markdown",
   "id": "1a808c81",
   "metadata": {},
   "source": [
    "We can directly impose cyclic symmetry onto this matrix:"
   ]
  },
  {
   "cell_type": "code",
   "execution_count": 7,
   "id": "82460cee",
   "metadata": {
    "execution": {
     "iopub.execute_input": "2021-12-13T21:45:08.575709Z",
     "iopub.status.busy": "2021-12-13T21:45:08.575235Z",
     "iopub.status.idle": "2021-12-13T21:45:09.358051Z",
     "shell.execute_reply": "2021-12-13T21:45:09.357672Z"
    }
   },
   "outputs": [
    {
     "name": "stdout",
     "output_type": "stream",
     "text": [
      "MSpecialSym =\r\n",
      "\r\n",
      "Commutant variable 3x3 (2 blocks, 5 scalar variables)\r\n",
      "              dim: 3\r\n",
      "      dimensions1: [1, 2]\r\n",
      "            field: 'real'\r\n",
      "       matrixType: 'full'\r\n",
      "   multiplicities: [1, 1]\r\n",
      "            types: 'RC'\r\n",
      "                U: 3 x 3 double\r\n",
      "           blocks: [1, 2]\r\n",
      "linearConstraints: constraint\r\n",
      "\r\n"
     ]
    }
   ],
   "source": [
    "MSpecialSym = replab.CommutantVar.fromSdpMatrix(MSpecial, {[2 3 1]})"
   ]
  },
  {
   "cell_type": "markdown",
   "id": "32523f10",
   "metadata": {},
   "source": [
    "Requesting this matrix to be PSD now imposes both\n",
    "\n",
    "* Positivity of the 1x1 and 2x2 blocks\n",
    "* Equality with the imposed form\n",
    "\n",
    "as can be seen with"
   ]
  },
  {
   "cell_type": "code",
   "execution_count": 8,
   "id": "724b1894",
   "metadata": {
    "execution": {
     "iopub.execute_input": "2021-12-13T21:45:09.360603Z",
     "iopub.status.busy": "2021-12-13T21:45:09.360195Z",
     "iopub.status.idle": "2021-12-13T21:45:09.459997Z",
     "shell.execute_reply": "2021-12-13T21:45:09.459609Z"
    }
   },
   "outputs": [
    {
     "name": "stdout",
     "output_type": "stream",
     "text": [
      "+++++++++++++++++++++++++++++++++++++++++++++++++++++++++++\r\n",
      "|   ID|                    Constraint|   Coefficient range|\r\n",
      "+++++++++++++++++++++++++++++++++++++++++++++++++++++++++++\r\n",
      "|   #1|   Element-wise inequality 1x1|              1 to 1|\r\n",
      "|   #2|   Element-wise inequality 4x1|              1 to 1|\r\n",
      "|   #3|       Equality constraint 3x3|        0.33333 to 1|\r\n",
      "+++++++++++++++++++++++++++++++++++++++++++++++++++++++++++\r\n"
     ]
    }
   ],
   "source": [
    "MSpecialSym >= 0"
   ]
  },
  {
   "cell_type": "markdown",
   "id": "19254808",
   "metadata": {},
   "source": [
    "## Block-diagonalizing a symmetric SDP matrix\n",
    "\n",
    "When an SDP matrix is invariant under the considered permutations,\n",
    "*RepLAB* can be used to block-diagonalize it. This allows imposing the\n",
    "positivity of the matrix through the positivity of small blocks. As an\n",
    "example, consider the following matrix"
   ]
  },
  {
   "cell_type": "code",
   "execution_count": 9,
   "id": "5101166e",
   "metadata": {
    "execution": {
     "iopub.execute_input": "2021-12-13T21:45:09.462413Z",
     "iopub.status.busy": "2021-12-13T21:45:09.462003Z",
     "iopub.status.idle": "2021-12-13T21:45:09.548996Z",
     "shell.execute_reply": "2021-12-13T21:45:09.548581Z"
    }
   },
   "outputs": [],
   "source": [
    "MInvariant = [x 1 y\n",
    "y x 1\n",
    "1 y x];"
   ]
  },
  {
   "cell_type": "markdown",
   "id": "79866dc1",
   "metadata": {},
   "source": [
    "It is indeed invariant:"
   ]
  },
  {
   "cell_type": "code",
   "execution_count": 10,
   "id": "e8b4bc14",
   "metadata": {
    "execution": {
     "iopub.execute_input": "2021-12-13T21:45:09.552161Z",
     "iopub.status.busy": "2021-12-13T21:45:09.550954Z",
     "iopub.status.idle": "2021-12-13T21:45:09.566245Z",
     "shell.execute_reply": "2021-12-13T21:45:09.565874Z"
    }
   },
   "outputs": [
    {
     "name": "stdout",
     "output_type": "stream",
     "text": [
      "ans =\r\n",
      "\r\n",
      "   0   0   0\r\n",
      "   0   0   0\r\n",
      "   0   0   0\r\n",
      "\r\n"
     ]
    }
   ],
   "source": [
    "MInvariant - MInvariant(permutation,permutation)"
   ]
  },
  {
   "cell_type": "markdown",
   "id": "ca9082e3",
   "metadata": {},
   "source": [
    "But not transpose-invariant (which is necessary for PSD matrices), so we enforce it:"
   ]
  },
  {
   "cell_type": "code",
   "execution_count": 11,
   "id": "117a6dbe",
   "metadata": {
    "execution": {
     "iopub.execute_input": "2021-12-13T21:45:09.568794Z",
     "iopub.status.busy": "2021-12-13T21:45:09.568370Z",
     "iopub.status.idle": "2021-12-13T21:45:09.588011Z",
     "shell.execute_reply": "2021-12-13T21:45:09.587635Z"
    }
   },
   "outputs": [
    {
     "name": "stdout",
     "output_type": "stream",
     "text": [
      "ans =\r\n",
      "\r\n",
      "   0   0   0\r\n",
      "   0   0   0\r\n",
      "   0   0   0\r\n",
      "\r\n"
     ]
    }
   ],
   "source": [
    "MInvariant = MInvariant + MInvariant';\n",
    "MInvariant - MInvariant'"
   ]
  },
  {
   "cell_type": "markdown",
   "id": "62432841",
   "metadata": {},
   "source": [
    "We can now block-diagonalize it by calling"
   ]
  },
  {
   "cell_type": "code",
   "execution_count": 12,
   "id": "4fe94ac6",
   "metadata": {
    "execution": {
     "iopub.execute_input": "2021-12-13T21:45:09.590724Z",
     "iopub.status.busy": "2021-12-13T21:45:09.590320Z",
     "iopub.status.idle": "2021-12-13T21:45:09.843959Z",
     "shell.execute_reply": "2021-12-13T21:45:09.843481Z"
    }
   },
   "outputs": [
    {
     "name": "stdout",
     "output_type": "stream",
     "text": [
      "MInvariantBlock =\r\n",
      "\r\n",
      "Commutant variable 3x3 (2 blocks, 2 scalar variables)\r\n",
      "           dim: 3\r\n",
      "   dimensions1: [1, 2]\r\n",
      "         field: 'real'\r\n",
      "    matrixType: 'symmetric'\r\n",
      "multiplicities: [1, 1]\r\n",
      "         types: 'RC'\r\n",
      "             U: 3 x 3 double\r\n",
      "        blocks: [1, 2]\r\n",
      "\r\n"
     ]
    }
   ],
   "source": [
    "MInvariantBlock = replab.CommutantVar.fromSymSdpMatrix(MInvariant, {[2 3 1]})"
   ]
  },
  {
   "cell_type": "markdown",
   "id": "fe878e18",
   "metadata": {},
   "source": [
    "No new variable has been introduced in the new object, but the block structure has been found:"
   ]
  },
  {
   "cell_type": "code",
   "execution_count": 13,
   "id": "f9c36ed3",
   "metadata": {
    "execution": {
     "iopub.execute_input": "2021-12-13T21:45:09.846793Z",
     "iopub.status.busy": "2021-12-13T21:45:09.846374Z",
     "iopub.status.idle": "2021-12-13T21:45:09.858716Z",
     "shell.execute_reply": "2021-12-13T21:45:09.859068Z"
    }
   },
   "outputs": [
    {
     "name": "stdout",
     "output_type": "stream",
     "text": [
      "ans =\r\n",
      "\r\n",
      "   1   0   0\r\n",
      "   0   1   1\r\n",
      "   0   1   1\r\n",
      "\r\n"
     ]
    }
   ],
   "source": [
    "full(MInvariantBlock.blockMask)"
   ]
  },
  {
   "cell_type": "markdown",
   "id": "25ffa9dd",
   "metadata": {},
   "source": [
    "The block structure is used when requesting this matrix to be PSD:"
   ]
  },
  {
   "cell_type": "code",
   "execution_count": 14,
   "id": "fc5525ea",
   "metadata": {
    "execution": {
     "iopub.execute_input": "2021-12-13T21:45:09.861726Z",
     "iopub.status.busy": "2021-12-13T21:45:09.861314Z",
     "iopub.status.idle": "2021-12-13T21:45:09.928629Z",
     "shell.execute_reply": "2021-12-13T21:45:09.928268Z"
    }
   },
   "outputs": [
    {
     "name": "stdout",
     "output_type": "stream",
     "text": [
      "+++++++++++++++++++++++++++++++++++++++++++++++++++++++++++\r\n",
      "|   ID|                    Constraint|   Coefficient range|\r\n",
      "+++++++++++++++++++++++++++++++++++++++++++++++++++++++++++\r\n",
      "|   #1|   Element-wise inequality 1x1|              2 to 2|\r\n",
      "|   #2|         Matrix inequality 2x2|     2.7756e-17 to 2|\r\n",
      "+++++++++++++++++++++++++++++++++++++++++++++++++++++++++++\r\n"
     ]
    }
   ],
   "source": [
    "MInvariantBlock >= 0"
   ]
  },
  {
   "cell_type": "markdown",
   "id": "8d31cc01",
   "metadata": {},
   "source": [
    "## Comparison with a direct formulation\n",
    "\n",
    "To conclude, let us show in more detail why the SDP formulation of a\n",
    "problem is more efficient if it takes advantage of the available symmetry\n",
    "properties. For this, we consider again the problem described at the\n",
    "beginning of this page. This problem can be solved directly as follows:"
   ]
  },
  {
   "cell_type": "code",
   "execution_count": 15,
   "id": "e534693f",
   "metadata": {
    "execution": {
     "iopub.execute_input": "2021-12-13T21:45:09.931370Z",
     "iopub.status.busy": "2021-12-13T21:45:09.930966Z",
     "iopub.status.idle": "2021-12-13T21:45:12.437766Z",
     "shell.execute_reply": "2021-12-13T21:45:12.438087Z"
    }
   },
   "outputs": [
    {
     "name": "stdout",
     "output_type": "stream",
     "text": [
      "diagnostic =\r\n",
      "\r\n",
      "  scalar structure containing the fields:\r\n",
      "\r\n",
      "    yalmipversion = 20200930\r\n",
      "    matlabversion = 6.2.0\r\n",
      "    yalmiptime = 0.1083\r\n",
      "    solvertime = 0.9706\r\n",
      "    info = Successfully solved (SDPT3-4)\r\n",
      "    problem = 0\r\n",
      "\r\n"
     ]
    },
    {
     "name": "stdout",
     "output_type": "stream",
     "text": [
      "MOpt =\r\n",
      "\r\n",
      "   0.3333  -0.1667  -0.1667\r\n",
      "  -0.1667   0.3333  -0.1667\r\n",
      "  -0.1667  -0.1667   0.3333\r\n",
      "\r\n"
     ]
    }
   ],
   "source": [
    "M = sdpvar(3);\n",
    "constraints = [trace(M) == 1, M(permutation, permutation) == M, M >= 0];\n",
    "diagnostic = optimize(constraints, M(1,2), sdpsettings('verbose', 0))\n",
    "MOpt = value(M)"
   ]
  },
  {
   "cell_type": "markdown",
   "id": "7df22356",
   "metadata": {},
   "source": [
    "Again, we find that the lowest possible value of $M(1,2)$ which is\n",
    "compatible with the matrix $M$ having only positive eigenvalues is\n",
    "$-1/6$. However, this last SDP problem is more complex than the first one\n",
    "which takes into account symmetries."
   ]
  },
  {
   "cell_type": "markdown",
   "id": "cf69b2a6",
   "metadata": {},
   "source": [
    "### Complexity comparison\n",
    "\n",
    "The symmetric formulation of the above problem involves fewer variables\n",
    "and simpler constraints, as summarized in the following table:\n",
    "\n",
    "| Formulation:           | Direct | Symmetric   |\n",
    "|------------------------|--------|-------------|\n",
    "| # variables            | 6      | 2           |\n",
    "| # equality constraints | 10     | 1           |\n",
    "| Size of PSD blocks     | 3      | 1x1 and 2x2 |"
   ]
  },
  {
   "cell_type": "markdown",
   "id": "0fa584ef",
   "metadata": {},
   "source": [
    "This can be checked by examining the variables involved. In the non-symmetrized case, we have"
   ]
  },
  {
   "cell_type": "code",
   "execution_count": 16,
   "id": "11a06103",
   "metadata": {
    "execution": {
     "iopub.execute_input": "2021-12-13T21:45:12.440761Z",
     "iopub.status.busy": "2021-12-13T21:45:12.440351Z",
     "iopub.status.idle": "2021-12-13T21:45:12.483689Z",
     "shell.execute_reply": "2021-12-13T21:45:12.483008Z"
    }
   },
   "outputs": [
    {
     "name": "stdout",
     "output_type": "stream",
     "text": [
      "Linear matrix variable 3x3 (symmetric, real, 6 variables)\r\n",
      "Eigenvalues between [-2.2285e-09,0.5]\r\n",
      "Coeffiecient range: 1 to 1\r\n"
     ]
    }
   ],
   "source": [
    "M"
   ]
  },
  {
   "cell_type": "code",
   "execution_count": 17,
   "id": "20efc053",
   "metadata": {
    "execution": {
     "iopub.execute_input": "2021-12-13T21:45:12.486074Z",
     "iopub.status.busy": "2021-12-13T21:45:12.485670Z",
     "iopub.status.idle": "2021-12-13T21:45:12.576344Z",
     "shell.execute_reply": "2021-12-13T21:45:12.576694Z"
    }
   },
   "outputs": [
    {
     "name": "stdout",
     "output_type": "stream",
     "text": [
      "+++++++++++++++++++++++++++++++++++++++++++++++++++++++\r\n",
      "|   ID|                Constraint|   Coefficient range|\r\n",
      "+++++++++++++++++++++++++++++++++++++++++++++++++++++++\r\n",
      "|   #1|   Equality constraint 1x1|              1 to 1|\r\n",
      "|   #2|   Equality constraint 3x3|              1 to 1|\r\n",
      "|   #3|     Matrix inequality 3x3|              1 to 1|\r\n",
      "+++++++++++++++++++++++++++++++++++++++++++++++++++++++\r\n"
     ]
    }
   ],
   "source": [
    "constraints"
   ]
  },
  {
   "cell_type": "markdown",
   "id": "56590cf3",
   "metadata": {},
   "source": [
    "we see that it involves\n",
    "\n",
    "* 6 variables\n",
    "* 1+3x3=10 equality constraints\n",
    "* 1 PSD block of size 3x3\n",
    "\n",
    "In the symmetrized case, we have"
   ]
  },
  {
   "cell_type": "code",
   "execution_count": 18,
   "id": "b8e118bc",
   "metadata": {
    "execution": {
     "iopub.execute_input": "2021-12-13T21:45:12.579467Z",
     "iopub.status.busy": "2021-12-13T21:45:12.579025Z",
     "iopub.status.idle": "2021-12-13T21:45:12.620412Z",
     "shell.execute_reply": "2021-12-13T21:45:12.619818Z"
    }
   },
   "outputs": [
    {
     "name": "stdout",
     "output_type": "stream",
     "text": [
      "MSym =\r\n",
      "\r\n",
      "Commutant variable 3x3 (2 blocks, 2 scalar variables)\r\n",
      "           dim: 3\r\n",
      "   dimensions1: [1, 2]\r\n",
      "         field: 'real'\r\n",
      "    matrixType: 'symmetric'\r\n",
      "multiplicities: [1, 1]\r\n",
      "         types: 'RC'\r\n",
      "             U: 3 x 3 double\r\n",
      "        blocks: [1, 2]\r\n",
      "\r\n"
     ]
    }
   ],
   "source": [
    "MSym"
   ]
  },
  {
   "cell_type": "markdown",
   "id": "b8a5e608",
   "metadata": {},
   "source": [
    "In other words, the matrix is made of two blocks of size 1x1 and 2x2, and\n",
    "involves altogether just 2 variables."
   ]
  },
  {
   "cell_type": "markdown",
   "id": "38f03cf4",
   "metadata": {},
   "source": [
    "The constraints this time are"
   ]
  },
  {
   "cell_type": "code",
   "execution_count": 19,
   "id": "a45ae0cb",
   "metadata": {
    "execution": {
     "iopub.execute_input": "2021-12-13T21:45:12.622853Z",
     "iopub.status.busy": "2021-12-13T21:45:12.622436Z",
     "iopub.status.idle": "2021-12-13T21:45:12.714429Z",
     "shell.execute_reply": "2021-12-13T21:45:12.714043Z"
    }
   },
   "outputs": [
    {
     "name": "stdout",
     "output_type": "stream",
     "text": [
      "+++++++++++++++++++++++++++++++++++++++++++++++++++++++++++\r\n",
      "|   ID|                    Constraint|   Coefficient range|\r\n",
      "+++++++++++++++++++++++++++++++++++++++++++++++++++++++++++\r\n",
      "|   #1|       Equality constraint 1x1|              1 to 2|\r\n",
      "|   #2|   Element-wise inequality 1x1|              1 to 1|\r\n",
      "|   #3|         Matrix inequality 2x2|              1 to 1|\r\n",
      "+++++++++++++++++++++++++++++++++++++++++++++++++++++++++++\r\n"
     ]
    }
   ],
   "source": [
    "constraintsSym"
   ]
  },
  {
   "cell_type": "markdown",
   "id": "5dd97fe0",
   "metadata": {},
   "source": [
    "This formulation thus involves:\n",
    "\n",
    "* 2 variables\n",
    "* 1 equality constraint\n",
    "* SDP blocks of size 1x1 and 2x2"
   ]
  },
  {
   "cell_type": "code",
   "execution_count": null,
   "id": "28392452",
   "metadata": {
    "lines_to_next_cell": 2
   },
   "outputs": [],
   "source": []
  }
 ],
 "metadata": {
  "jupytext": {
   "cell_metadata_filter": "-all",
   "main_language": "matlab",
   "notebook_metadata_filter": "-all",
   "text_representation": {
    "extension": ".m",
    "format_name": "light"
   }
  },
  "language_info": {
   "file_extension": ".m",
   "help_links": [
    {
     "text": "GNU Octave",
     "url": "https://www.gnu.org/software/octave/support.html"
    },
    {
     "text": "Octave Kernel",
     "url": "https://github.com/Calysto/octave_kernel"
    },
    {
     "text": "MetaKernel Magics",
     "url": "https://metakernel.readthedocs.io/en/latest/source/README.html"
    }
   ],
   "mimetype": "text/x-octave",
   "name": "octave",
   "version": "6.2.0"
  }
 },
 "nbformat": 4,
 "nbformat_minor": 5
}
