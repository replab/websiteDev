{
 "cells": [
  {
   "cell_type": "markdown",
   "id": "752fd207",
   "metadata": {},
   "source": [
    "# Symmetric SDPs\n",
    "\n",
    "This document illustrated how *RepLAB* can be used to solve SemiDefinite Programs (SDP) subject to symmetries. Several methods for constructing\n",
    "SDPs subject to symmetries are presented.\n",
    "\n",
    "## Preparation\n",
    "As always, before using *RepLAB* commands, initialize the library:"
   ]
  },
  {
   "cell_type": "code",
   "execution_count": 1,
   "id": "edeba7ef",
   "metadata": {
    "execution": {
     "iopub.execute_input": "2021-12-15T18:20:40.025768Z",
     "iopub.status.busy": "2021-12-15T18:20:40.025305Z",
     "iopub.status.idle": "2021-12-15T18:20:45.713680Z",
     "shell.execute_reply": "2021-12-15T18:20:45.713223Z"
    }
   },
   "outputs": [
    {
     "name": "stdout",
     "output_type": "stream",
     "text": [
      "replab_init: Initialization done.\r\n"
     ]
    }
   ],
   "source": [
    "addpath([pwd, '/../..']);\n",
    "replab_init('verbose', 0);"
   ]
  },
  {
   "cell_type": "markdown",
   "id": "fdeb8972",
   "metadata": {
    "lines_to_next_cell": 2
   },
   "source": [
    "Commands in this document makes use ot the YALMIP interface to solve\n",
    "convex optimization problems, see\n",
    "<../installation.html installation instructions>."
   ]
  },
  {
   "cell_type": "markdown",
   "id": "8daebbb7",
   "metadata": {},
   "source": [
    "## Introduction\n",
    "\n",
    "[Semidefinite programming](https://en.wikipedia.org/wiki/Semidefinite_programming)\n",
    "is a form of optimization that admits semidefinite\n",
    "constraints (as in the condition that all eigenvalues of a matrix must be\n",
    "positive). It naturally arises in various fields, including operational\n",
    "research and polynomial optimization.\n",
    "\n",
    "The ability to solve a semidefinite program depends heavily on:\n",
    "\n",
    "* the size of the positive semi-definite (PSD) blocks\n",
    "* the number of variables and constraints involved\n",
    "\n",
    "A positive semi-definite matrix that is invariant under some joint\n",
    "permutation of its lines and columns can be decomposed into a block\n",
    "diagonal form. This allows to:\n",
    "\n",
    "* decompose PSD blocks into smaller PSD blocks\n",
    "* set many variables to zero, hence reducing the number of variables in the problem\n",
    "\n",
    "As we shows below, *RepLAB* performs this simplification automatically.\n",
    "\n",
    "## Formulating a symmetric SDP\n",
    "\n",
    "To illustrate the usage of *RepLAB* for symmetric SDPs, we consider a\n",
    "simple example involving a 3x3 matrix $M$ with trace 1 that is symmetric\n",
    "under cyclic permutation of its indices, i.e. it satisfies $M([2\\ 3\\ 1], [2\\ 3\\ 1]) = M$.\n",
    "We ask what is the smallest value that the off-diagonal element\n",
    "$M(1,2)$ can take if this matrix $M$ has only positive eigenvalues."
   ]
  },
  {
   "cell_type": "markdown",
   "id": "95184a07",
   "metadata": {},
   "source": [
    "### Symmetric formulation\n",
    "\n",
    "Using *RepLAB*, we can solve this problem as follows.\n",
    "\n",
    "We start by defining a matrix which satisfies the desired symmetry"
   ]
  },
  {
   "cell_type": "code",
   "execution_count": 2,
   "id": "4b64ff40",
   "metadata": {
    "execution": {
     "iopub.execute_input": "2021-12-15T18:20:45.716601Z",
     "iopub.status.busy": "2021-12-15T18:20:45.716165Z",
     "iopub.status.idle": "2021-12-15T18:20:46.543799Z",
     "shell.execute_reply": "2021-12-15T18:20:46.543357Z"
    }
   },
   "outputs": [],
   "source": [
    "permutation = [2 3 1];\n",
    "MSym = replab.CommutantVar.fromPermutations({permutation}, 'symmetric', 'real');"
   ]
  },
  {
   "cell_type": "markdown",
   "id": "ee63d7da",
   "metadata": {},
   "source": [
    "We can then perform the optimization with:"
   ]
  },
  {
   "cell_type": "code",
   "execution_count": 3,
   "id": "418f25c0",
   "metadata": {
    "execution": {
     "iopub.execute_input": "2021-12-15T18:20:46.546896Z",
     "iopub.status.busy": "2021-12-15T18:20:46.546170Z",
     "iopub.status.idle": "2021-12-15T18:20:49.347049Z",
     "shell.execute_reply": "2021-12-15T18:20:49.346672Z"
    }
   },
   "outputs": [
    {
     "name": "stdout",
     "output_type": "stream",
     "text": [
      "MSymOpt =\r\n",
      "\r\n",
      "   0.3333  -0.1667  -0.1667\r\n",
      "  -0.1667   0.3333  -0.1667\r\n",
      "  -0.1667  -0.1667   0.3333\r\n",
      "\r\n"
     ]
    }
   ],
   "source": [
    "constraintsSym = [trace(MSym) == 1, MSym >= 0];\n",
    "diagnosticSym = optimize(constraintsSym, MSym(1,2), sdpsettings('verbose', 0));\n",
    "MSymOpt = value(MSym)"
   ]
  },
  {
   "cell_type": "markdown",
   "id": "b13e03f2",
   "metadata": {},
   "source": [
    "We find the critical value of $-1/6$.\n",
    "\n",
    "At the end of this page, we discuss how this formulation is more\n",
    "efficient than a direct formulation which would not take advantage of the\n",
    "symmetry properties of the considered matrix."
   ]
  },
  {
   "cell_type": "markdown",
   "id": "cccef87b",
   "metadata": {},
   "source": [
    "## Constructing a symmetric SDP matrix with additional structure\n",
    "\n",
    "An SDP matrix might sometimes be subject to more than only symmetry\n",
    "constraints. When these additional constraints take the form of equality\n",
    "between some of the matrix elements, it can be conveniently described by\n",
    "a matrix having at each element the index of the corresponding variable.\n",
    "All elements with identical index are then understood as being equal to\n",
    "each other.\n",
    "\n",
    "For instance, imposing on a 3x3 matrix that elements (1,1) ans (2,1) are\n",
    "must be equal to each other can be described by the following index\n",
    "matrix:"
   ]
  },
  {
   "cell_type": "code",
   "execution_count": 4,
   "id": "830ef9d1",
   "metadata": {
    "execution": {
     "iopub.execute_input": "2021-12-15T18:20:49.349731Z",
     "iopub.status.busy": "2021-12-15T18:20:49.349333Z",
     "iopub.status.idle": "2021-12-15T18:20:49.371218Z",
     "shell.execute_reply": "2021-12-15T18:20:49.370774Z"
    }
   },
   "outputs": [],
   "source": [
    "indexMatrix = [1 2 3\n",
    "1 4 5\n",
    "6 7 8];"
   ]
  },
  {
   "cell_type": "markdown",
   "id": "2fbdc1d5",
   "metadata": {},
   "source": [
    "An SDP matrix satisfying this constraint is then obtained"
   ]
  },
  {
   "cell_type": "code",
   "execution_count": 5,
   "id": "84781174",
   "metadata": {
    "execution": {
     "iopub.execute_input": "2021-12-15T18:20:49.374232Z",
     "iopub.status.busy": "2021-12-15T18:20:49.373474Z",
     "iopub.status.idle": "2021-12-15T18:20:49.818869Z",
     "shell.execute_reply": "2021-12-15T18:20:49.818481Z"
    }
   },
   "outputs": [
    {
     "name": "stdout",
     "output_type": "stream",
     "text": [
      "cstrSdpMatrix ="
     ]
    },
    {
     "name": "stdout",
     "output_type": "stream",
     "text": [
      "\r"
     ]
    },
    {
     "name": "stdout",
     "output_type": "stream",
     "text": [
      "\n"
     ]
    },
    {
     "name": "stdout",
     "output_type": "stream",
     "text": [
      "\r\n",
      "Commutant variable 3x3 (2 blocks, 1 scalar variables)\r\n",
      "           dim: 3\r\n",
      "   dimensions1: [1, 2]\r\n",
      "         field: 'real'\r\n",
      "    matrixType: 'symmetric'\r\n",
      "multiplicities: [1, 1]\r\n",
      "         types: 'RC'\r\n",
      "             U: 3 x 3 double\r\n",
      "        blocks: [1, 2]\r\n",
      "\r\n"
     ]
    }
   ],
   "source": [
    "cstrSdpMatrix = replab.CommutantVar.fromIndexMatrix(indexMatrix, {permutation}, 'symmetric', 'real')"
   ]
  },
  {
   "cell_type": "markdown",
   "id": "1d67184b",
   "metadata": {
    "lines_to_next_cell": 2
   },
   "source": [
    "In this trivial case, the SDP matrix is left to contain only one variable: the additional constraints collapsed the all group orbits\n",
    "together."
   ]
  },
  {
   "cell_type": "markdown",
   "id": "7f3d61c3",
   "metadata": {},
   "source": [
    "## Imposing symmetry to an existing SDP matrix\n",
    "\n",
    "Symmetry constraints can also be straightforwardly imposed on existing SDP matrices with arbitrary structure.\n",
    "\n",
    "For instance, consider the following special SDP matrix"
   ]
  },
  {
   "cell_type": "code",
   "execution_count": 6,
   "id": "274fdb44",
   "metadata": {
    "execution": {
     "iopub.execute_input": "2021-12-15T18:20:49.821658Z",
     "iopub.status.busy": "2021-12-15T18:20:49.821226Z",
     "iopub.status.idle": "2021-12-15T18:20:50.231163Z",
     "shell.execute_reply": "2021-12-15T18:20:50.230712Z"
    }
   },
   "outputs": [
    {
     "name": "stdout",
     "output_type": "stream",
     "text": [
      "Linear scalar (real, 1 variable)\r\n",
      "Coefficients range: 1 to 1\r\n"
     ]
    }
   ],
   "source": [
    "x = sdpvar;\n",
    "y = sdpvar\n",
    "MSpecial = [1 x y\n",
    "x 1 y\n",
    "x y 1];"
   ]
  },
  {
   "cell_type": "markdown",
   "id": "09216bb7",
   "metadata": {},
   "source": [
    "We can directly impose cyclic symmetry onto this matrix:"
   ]
  },
  {
   "cell_type": "code",
   "execution_count": 7,
   "id": "d1133a56",
   "metadata": {
    "execution": {
     "iopub.execute_input": "2021-12-15T18:20:50.234873Z",
     "iopub.status.busy": "2021-12-15T18:20:50.233781Z",
     "iopub.status.idle": "2021-12-15T18:20:50.947281Z",
     "shell.execute_reply": "2021-12-15T18:20:50.946853Z"
    }
   },
   "outputs": [
    {
     "name": "stdout",
     "output_type": "stream",
     "text": [
      "MSpecialSym =\r\n",
      "\r\n",
      "Commutant variable 3x3 (2 blocks, 5 scalar variables)\r\n",
      "              dim: 3\r\n",
      "      dimensions1: [1, 2]\r\n",
      "            field: 'real'\r\n",
      "       matrixType: 'full'\r\n",
      "   multiplicities: [1, 1]\r\n",
      "            types: 'RC'\r\n",
      "                U: 3 x 3 double\r\n",
      "           blocks: [1, 2]\r\n",
      "linearConstraints: constraint\r\n",
      "\r\n"
     ]
    }
   ],
   "source": [
    "MSpecialSym = replab.CommutantVar.fromSdpMatrix(MSpecial, {[2 3 1]})"
   ]
  },
  {
   "cell_type": "markdown",
   "id": "a7c025c4",
   "metadata": {},
   "source": [
    "Requesting this matrix to be PSD now imposes both\n",
    "\n",
    "* Positivity of the 1x1 and 2x2 blocks\n",
    "* Equality with the imposed form\n",
    "\n",
    "as can be seen with"
   ]
  },
  {
   "cell_type": "code",
   "execution_count": 8,
   "id": "0b986311",
   "metadata": {
    "execution": {
     "iopub.execute_input": "2021-12-15T18:20:50.949799Z",
     "iopub.status.busy": "2021-12-15T18:20:50.949389Z",
     "iopub.status.idle": "2021-12-15T18:20:51.050328Z",
     "shell.execute_reply": "2021-12-15T18:20:51.049913Z"
    }
   },
   "outputs": [
    {
     "name": "stdout",
     "output_type": "stream",
     "text": [
      "+++++++++++++++++++++++++++++++++++++++++++++++++++++++++++\r\n",
      "|   ID|                    Constraint|   Coefficient range|\r\n",
      "+++++++++++++++++++++++++++++++++++++++++++++++++++++++++++\r\n",
      "|   #1|   Element-wise inequality 1x1|              1 to 1|\r\n",
      "|   #2|   Element-wise inequality 4x1|              1 to 1|\r\n",
      "|   #3|       Equality constraint 3x3|        0.33333 to 1|\r\n",
      "+++++++++++++++++++++++++++++++++++++++++++++++++++++++++++\r\n"
     ]
    }
   ],
   "source": [
    "MSpecialSym >= 0"
   ]
  },
  {
   "cell_type": "markdown",
   "id": "1fad030c",
   "metadata": {},
   "source": [
    "## Block-diagonalizing a symmetric SDP matrix\n",
    "\n",
    "When an SDP matrix is invariant under the considered permutations,\n",
    "*RepLAB* can be used to block-diagonalize it. This allows imposing the\n",
    "positivity of the matrix through the positivity of small blocks. As an\n",
    "example, consider the following matrix"
   ]
  },
  {
   "cell_type": "code",
   "execution_count": 9,
   "id": "83f624f6",
   "metadata": {
    "execution": {
     "iopub.execute_input": "2021-12-15T18:20:51.052924Z",
     "iopub.status.busy": "2021-12-15T18:20:51.052513Z",
     "iopub.status.idle": "2021-12-15T18:20:51.141566Z",
     "shell.execute_reply": "2021-12-15T18:20:51.141162Z"
    }
   },
   "outputs": [],
   "source": [
    "MInvariant = [x 1 y\n",
    "y x 1\n",
    "1 y x];"
   ]
  },
  {
   "cell_type": "markdown",
   "id": "00c6f344",
   "metadata": {},
   "source": [
    "It is indeed invariant:"
   ]
  },
  {
   "cell_type": "code",
   "execution_count": 10,
   "id": "56aeaa0a",
   "metadata": {
    "execution": {
     "iopub.execute_input": "2021-12-15T18:20:51.144805Z",
     "iopub.status.busy": "2021-12-15T18:20:51.143631Z",
     "iopub.status.idle": "2021-12-15T18:20:51.157565Z",
     "shell.execute_reply": "2021-12-15T18:20:51.157883Z"
    }
   },
   "outputs": [
    {
     "name": "stdout",
     "output_type": "stream",
     "text": [
      "ans =\r\n",
      "\r\n",
      "   0   0   0\r\n",
      "   0   0   0\r\n",
      "   0   0   0\r\n",
      "\r\n"
     ]
    }
   ],
   "source": [
    "MInvariant - MInvariant(permutation,permutation)"
   ]
  },
  {
   "cell_type": "markdown",
   "id": "5a5c12b8",
   "metadata": {},
   "source": [
    "But not transpose-invariant (which is necessary for PSD matrices), so we enforce it:"
   ]
  },
  {
   "cell_type": "code",
   "execution_count": 11,
   "id": "53fc614b",
   "metadata": {
    "execution": {
     "iopub.execute_input": "2021-12-15T18:20:51.160599Z",
     "iopub.status.busy": "2021-12-15T18:20:51.160189Z",
     "iopub.status.idle": "2021-12-15T18:20:51.179871Z",
     "shell.execute_reply": "2021-12-15T18:20:51.179138Z"
    }
   },
   "outputs": [
    {
     "name": "stdout",
     "output_type": "stream",
     "text": [
      "ans =\r\n",
      "\r\n",
      "   0   0   0\r\n",
      "   0   0   0\r\n",
      "   0   0   0\r\n",
      "\r\n"
     ]
    }
   ],
   "source": [
    "MInvariant = MInvariant + MInvariant';\n",
    "MInvariant - MInvariant'"
   ]
  },
  {
   "cell_type": "markdown",
   "id": "eb5a8bbb",
   "metadata": {},
   "source": [
    "We can now block-diagonalize it by calling"
   ]
  },
  {
   "cell_type": "code",
   "execution_count": 12,
   "id": "eac0a336",
   "metadata": {
    "execution": {
     "iopub.execute_input": "2021-12-15T18:20:51.182671Z",
     "iopub.status.busy": "2021-12-15T18:20:51.182267Z",
     "iopub.status.idle": "2021-12-15T18:20:51.414402Z",
     "shell.execute_reply": "2021-12-15T18:20:51.413931Z"
    }
   },
   "outputs": [
    {
     "name": "stdout",
     "output_type": "stream",
     "text": [
      "MInvariantBlock ="
     ]
    },
    {
     "name": "stdout",
     "output_type": "stream",
     "text": [
      "\r"
     ]
    },
    {
     "name": "stdout",
     "output_type": "stream",
     "text": [
      "\n"
     ]
    },
    {
     "name": "stdout",
     "output_type": "stream",
     "text": [
      "\r\n",
      "Commutant variable 3x3 (2 blocks, 2 scalar variables)\r\n",
      "           dim: 3\r\n",
      "   dimensions1: [1, 2]\r\n",
      "         field: 'real'\r\n",
      "    matrixType: 'symmetric'\r\n",
      "multiplicities: [1, 1]\r\n",
      "         types: 'RC'\r\n",
      "             U: 3 x 3 double\r\n",
      "        blocks: [1, 2]\r\n",
      "\r\n"
     ]
    }
   ],
   "source": [
    "MInvariantBlock = replab.CommutantVar.fromSymSdpMatrix(MInvariant, {[2 3 1]})"
   ]
  },
  {
   "cell_type": "markdown",
   "id": "0971950f",
   "metadata": {},
   "source": [
    "No new variable has been introduced in the new object, but the block structure has been found:"
   ]
  },
  {
   "cell_type": "code",
   "execution_count": 13,
   "id": "bd1d3972",
   "metadata": {
    "execution": {
     "iopub.execute_input": "2021-12-15T18:20:51.417125Z",
     "iopub.status.busy": "2021-12-15T18:20:51.416649Z",
     "iopub.status.idle": "2021-12-15T18:20:51.430793Z",
     "shell.execute_reply": "2021-12-15T18:20:51.430421Z"
    }
   },
   "outputs": [
    {
     "name": "stdout",
     "output_type": "stream",
     "text": [
      "ans =\r\n",
      "\r\n",
      "   1   0   0\r\n",
      "   0   1   1\r\n",
      "   0   1   1\r\n",
      "\r\n"
     ]
    }
   ],
   "source": [
    "full(MInvariantBlock.blockMask)"
   ]
  },
  {
   "cell_type": "markdown",
   "id": "3f504dd9",
   "metadata": {},
   "source": [
    "The block structure is used when requesting this matrix to be PSD:"
   ]
  },
  {
   "cell_type": "code",
   "execution_count": 14,
   "id": "68ddabbe",
   "metadata": {
    "execution": {
     "iopub.execute_input": "2021-12-15T18:20:51.433280Z",
     "iopub.status.busy": "2021-12-15T18:20:51.432865Z",
     "iopub.status.idle": "2021-12-15T18:20:51.497721Z",
     "shell.execute_reply": "2021-12-15T18:20:51.497324Z"
    }
   },
   "outputs": [
    {
     "name": "stdout",
     "output_type": "stream",
     "text": [
      "+++++++++++++++++++++++++++++++++++++++++++++++++++++++++++\r\n",
      "|   ID|                    Constraint|   Coefficient range|\r\n",
      "+++++++++++++++++++++++++++++++++++++++++++++++++++++++++++\r\n",
      "|   #1|   Element-wise inequality 1x1|              2 to 2|\r\n",
      "|   #2|         Matrix inequality 2x2|     2.7756e-17 to 2|\r\n",
      "+++++++++++++++++++++++++++++++++++++++++++++++++++++++++++\r\n"
     ]
    }
   ],
   "source": [
    "MInvariantBlock >= 0"
   ]
  },
  {
   "cell_type": "markdown",
   "id": "89da461d",
   "metadata": {},
   "source": [
    "## Comparison with a direct formulation\n",
    "\n",
    "To conclude, let us show in more detail why the SDP formulation of a\n",
    "problem is more efficient if it takes advantage of the available symmetry\n",
    "properties. For this, we consider again the problem described at the\n",
    "beginning of this page. This problem can be solved directly as follows:"
   ]
  },
  {
   "cell_type": "code",
   "execution_count": 15,
   "id": "56cbfdcc",
   "metadata": {
    "execution": {
     "iopub.execute_input": "2021-12-15T18:20:51.500651Z",
     "iopub.status.busy": "2021-12-15T18:20:51.500223Z",
     "iopub.status.idle": "2021-12-15T18:20:53.801607Z",
     "shell.execute_reply": "2021-12-15T18:20:53.801201Z"
    }
   },
   "outputs": [
    {
     "name": "stdout",
     "output_type": "stream",
     "text": [
      "diagnostic =\r\n",
      "\r\n",
      "  scalar structure containing the fields:\r\n",
      "\r\n",
      "    yalmipversion = 20200930\r\n",
      "    matlabversion = 6.2.0\r\n",
      "    yalmiptime = 0.1028\r\n",
      "    solvertime = 0.8841\r\n",
      "    info = Successfully solved (SDPT3-4)\r\n",
      "    problem = 0\r\n",
      "\r\n"
     ]
    },
    {
     "name": "stdout",
     "output_type": "stream",
     "text": [
      "MOpt =\r\n",
      "\r\n",
      "   0.3333  -0.1667  -0.1667\r\n",
      "  -0.1667   0.3333  -0.1667\r\n",
      "  -0.1667  -0.1667   0.3333\r\n",
      "\r\n"
     ]
    }
   ],
   "source": [
    "M = sdpvar(3);\n",
    "constraints = [trace(M) == 1, M(permutation, permutation) == M, M >= 0];\n",
    "diagnostic = optimize(constraints, M(1,2), sdpsettings('verbose', 0))\n",
    "MOpt = value(M)"
   ]
  },
  {
   "cell_type": "markdown",
   "id": "e9ed4877",
   "metadata": {},
   "source": [
    "Again, we find that the lowest possible value of $M(1,2)$ which is\n",
    "compatible with the matrix $M$ having only positive eigenvalues is\n",
    "$-1/6$. However, this last SDP problem is more complex than the first one\n",
    "which takes into account symmetries."
   ]
  },
  {
   "cell_type": "markdown",
   "id": "48f06b3d",
   "metadata": {},
   "source": [
    "### Complexity comparison\n",
    "\n",
    "The symmetric formulation of the above problem involves fewer variables\n",
    "and simpler constraints, as summarized in the following table:\n",
    "\n",
    "| Formulation:           | Direct | Symmetric   |\n",
    "|------------------------|--------|-------------|\n",
    "| # variables            | 6      | 2           |\n",
    "| # equality constraints | 10     | 1           |\n",
    "| Size of PSD blocks     | 3      | 1x1 and 2x2 |"
   ]
  },
  {
   "cell_type": "markdown",
   "id": "9a4c9e6a",
   "metadata": {},
   "source": [
    "This can be checked by examining the variables involved. In the non-symmetrized case, we have"
   ]
  },
  {
   "cell_type": "code",
   "execution_count": 16,
   "id": "4ebaa812",
   "metadata": {
    "execution": {
     "iopub.execute_input": "2021-12-15T18:20:53.804153Z",
     "iopub.status.busy": "2021-12-15T18:20:53.803706Z",
     "iopub.status.idle": "2021-12-15T18:20:53.848825Z",
     "shell.execute_reply": "2021-12-15T18:20:53.848458Z"
    }
   },
   "outputs": [
    {
     "name": "stdout",
     "output_type": "stream",
     "text": [
      "Linear matrix variable 3x3 (symmetric, real, 6 variables)\r\n",
      "Eigenvalues between [-2.2285e-09,0.5]\r\n",
      "Coeffiecient range: 1 to 1\r\n"
     ]
    }
   ],
   "source": [
    "M"
   ]
  },
  {
   "cell_type": "code",
   "execution_count": 17,
   "id": "92f0e1f3",
   "metadata": {
    "execution": {
     "iopub.execute_input": "2021-12-15T18:20:53.851721Z",
     "iopub.status.busy": "2021-12-15T18:20:53.851310Z",
     "iopub.status.idle": "2021-12-15T18:20:53.935628Z",
     "shell.execute_reply": "2021-12-15T18:20:53.935243Z"
    }
   },
   "outputs": [
    {
     "name": "stdout",
     "output_type": "stream",
     "text": [
      "+++++++++++++++++++++++++++++++++++++++++++++++++++++++\r\n",
      "|   ID|                Constraint|   Coefficient range|\r\n",
      "+++++++++++++++++++++++++++++++++++++++++++++++++++++++\r\n",
      "|   #1|   Equality constraint 1x1|              1 to 1|\r\n",
      "|   #2|   Equality constraint 3x3|              1 to 1|\r\n",
      "|   #3|     Matrix inequality 3x3|              1 to 1|\r\n",
      "+++++++++++++++++++++++++++++++++++++++++++++++++++++++\r\n"
     ]
    }
   ],
   "source": [
    "constraints"
   ]
  },
  {
   "cell_type": "markdown",
   "id": "c0f4764c",
   "metadata": {},
   "source": [
    "we see that it involves\n",
    "\n",
    "* 6 variables\n",
    "* 1+3x3=10 equality constraints\n",
    "* 1 PSD block of size 3x3\n",
    "\n",
    "In the symmetrized case, we have"
   ]
  },
  {
   "cell_type": "code",
   "execution_count": 18,
   "id": "7bed1fc3",
   "metadata": {
    "execution": {
     "iopub.execute_input": "2021-12-15T18:20:53.938086Z",
     "iopub.status.busy": "2021-12-15T18:20:53.937672Z",
     "iopub.status.idle": "2021-12-15T18:20:53.977706Z",
     "shell.execute_reply": "2021-12-15T18:20:53.977304Z"
    }
   },
   "outputs": [
    {
     "name": "stdout",
     "output_type": "stream",
     "text": [
      "MSym =\r\n",
      "\r\n",
      "Commutant variable 3x3 (2 blocks, 2 scalar variables)\r\n",
      "           dim: 3\r\n",
      "   dimensions1: [1, 2]\r\n",
      "         field: 'real'\r\n",
      "    matrixType: 'symmetric'\r\n",
      "multiplicities: [1, 1]\r\n",
      "         types: 'RC'\r\n",
      "             U: 3 x 3 double\r\n",
      "        blocks: [1, 2]\r\n",
      "\r\n"
     ]
    }
   ],
   "source": [
    "MSym"
   ]
  },
  {
   "cell_type": "markdown",
   "id": "2c2ce701",
   "metadata": {},
   "source": [
    "In other words, the matrix is made of two blocks of size 1x1 and 2x2, and\n",
    "involves altogether just 2 variables."
   ]
  },
  {
   "cell_type": "markdown",
   "id": "e3410d5d",
   "metadata": {},
   "source": [
    "The constraints this time are"
   ]
  },
  {
   "cell_type": "code",
   "execution_count": 19,
   "id": "81647418",
   "metadata": {
    "execution": {
     "iopub.execute_input": "2021-12-15T18:20:53.980170Z",
     "iopub.status.busy": "2021-12-15T18:20:53.979696Z",
     "iopub.status.idle": "2021-12-15T18:20:54.067813Z",
     "shell.execute_reply": "2021-12-15T18:20:54.067398Z"
    }
   },
   "outputs": [
    {
     "name": "stdout",
     "output_type": "stream",
     "text": [
      "+++++++++++++++++++++++++++++++++++++++++++++++++++++++++++\r\n",
      "|   ID|                    Constraint|   Coefficient range|\r\n",
      "+++++++++++++++++++++++++++++++++++++++++++++++++++++++++++\r\n",
      "|   #1|       Equality constraint 1x1|              1 to 2|\r\n",
      "|   #2|   Element-wise inequality 1x1|              1 to 1|\r\n",
      "|   #3|         Matrix inequality 2x2|              1 to 1|\r\n",
      "+++++++++++++++++++++++++++++++++++++++++++++++++++++++++++\r\n"
     ]
    }
   ],
   "source": [
    "constraintsSym"
   ]
  },
  {
   "cell_type": "markdown",
   "id": "1c18461d",
   "metadata": {},
   "source": [
    "This formulation thus involves:\n",
    "\n",
    "* 2 variables\n",
    "* 1 equality constraint\n",
    "* SDP blocks of size 1x1 and 2x2"
   ]
  }
 ],
 "metadata": {
  "jupytext": {
   "cell_metadata_filter": "-all",
   "main_language": "matlab",
   "notebook_metadata_filter": "-all",
   "text_representation": {
    "extension": ".m",
    "format_name": "light"
   }
  },
  "language_info": {
   "file_extension": ".m",
   "help_links": [
    {
     "text": "GNU Octave",
     "url": "https://www.gnu.org/software/octave/support.html"
    },
    {
     "text": "Octave Kernel",
     "url": "https://github.com/Calysto/octave_kernel"
    },
    {
     "text": "MetaKernel Magics",
     "url": "https://metakernel.readthedocs.io/en/latest/source/README.html"
    }
   ],
   "mimetype": "text/x-octave",
   "name": "octave",
   "version": "6.2.0"
  }
 },
 "nbformat": 4,
 "nbformat_minor": 5
}
