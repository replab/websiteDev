{
 "cells": [
  {
   "cell_type": "markdown",
   "id": "110ee2dd",
   "metadata": {},
   "source": [
    "# Symmetric SDPs\n",
    "\n",
    "This document illustrated how *RepLAB* can be used to solve SemiDefinite Programs (SDP) subject to symmetries. Several methods for constructing\n",
    "SDPs subject to symmetries are presented.\n",
    "\n",
    "## Preparation\n",
    "As always, before using *RepLAB* commands, initialize the library:"
   ]
  },
  {
   "cell_type": "code",
   "execution_count": 1,
   "id": "5aa23d02",
   "metadata": {
    "execution": {
     "iopub.execute_input": "2022-01-26T23:08:38.259239Z",
     "iopub.status.busy": "2022-01-26T23:08:38.258666Z",
     "iopub.status.idle": "2022-01-26T23:08:43.841283Z",
     "shell.execute_reply": "2022-01-26T23:08:43.840776Z"
    }
   },
   "outputs": [
    {
     "name": "stdout",
     "output_type": "stream",
     "text": [
      "replab_init: Initialization done.\r\n"
     ]
    }
   ],
   "source": [
    "addpath([pwd, '/../../external/replab']);\n",
    "replab_init('verbose', 0);"
   ]
  },
  {
   "cell_type": "markdown",
   "id": "747ff710",
   "metadata": {
    "lines_to_next_cell": 2
   },
   "source": [
    "Commands in this document makes use ot the YALMIP interface to solve\n",
    "convex optimization problems, see\n",
    "[installation instructions](https://replab.github.io/web/tutorials/installation.html)."
   ]
  },
  {
   "cell_type": "markdown",
   "id": "8b6b58f9",
   "metadata": {},
   "source": [
    "## Introduction\n",
    "\n",
    "[Semidefinite programming](https://en.wikipedia.org/wiki/Semidefinite_programming)\n",
    "is a form of optimization that admits semidefinite\n",
    "constraints (as in the condition that all eigenvalues of a matrix must be\n",
    "positive). It naturally arises in various fields, including operational\n",
    "research and polynomial optimization.\n",
    "\n",
    "The ability to solve a semidefinite program depends heavily on:\n",
    "\n",
    "* the size of the positive semi-definite (PSD) blocks\n",
    "* the number of variables and constraints involved\n",
    "\n",
    "A positive semi-definite matrix that is invariant under some joint\n",
    "permutation of its lines and columns can be decomposed into a block\n",
    "diagonal form. This allows to:\n",
    "\n",
    "* decompose PSD blocks into smaller PSD blocks\n",
    "* set many variables to zero, hence reducing the number of variables in the problem\n",
    "\n",
    "As we shows below, *RepLAB* performs this simplification automatically.\n",
    "\n",
    "## Formulating a symmetric SDP\n",
    "\n",
    "To illustrate the usage of *RepLAB* for symmetric SDPs, we consider a\n",
    "simple example involving a 3x3 matrix $M$ with trace 1 that is symmetric\n",
    "under cyclic permutation of its indices, i.e. it satisfies $M([2\\ 3\\ 1], [2\\ 3\\ 1]) = M$.\n",
    "We ask what is the smallest value that the off-diagonal element\n",
    "$M(1,2)$ can take if this matrix $M$ has only positive eigenvalues."
   ]
  },
  {
   "cell_type": "markdown",
   "id": "ec3cc99c",
   "metadata": {},
   "source": [
    "### Symmetric formulation\n",
    "\n",
    "Using *RepLAB*, we can solve this problem as follows.\n",
    "\n",
    "We start by defining a matrix which satisfies the desired symmetry"
   ]
  },
  {
   "cell_type": "code",
   "execution_count": 2,
   "id": "e8488bfd",
   "metadata": {
    "execution": {
     "iopub.execute_input": "2022-01-26T23:08:43.844472Z",
     "iopub.status.busy": "2022-01-26T23:08:43.844085Z",
     "iopub.status.idle": "2022-01-26T23:08:45.461296Z",
     "shell.execute_reply": "2022-01-26T23:08:45.460894Z"
    }
   },
   "outputs": [
    {
     "name": "stdout",
     "output_type": "stream",
     "text": [
      "warning: -largeArrayDims and -compatibleArrayDims are accepted for compatibility, but ignored"
     ]
    },
    {
     "name": "stdout",
     "output_type": "stream",
     "text": [
      "\r\n"
     ]
    }
   ],
   "source": [
    "permutation = [2 3 1];\n",
    "MSym = replab.CommutantVar.fromPermutations({permutation}, 'symmetric', 'real');"
   ]
  },
  {
   "cell_type": "markdown",
   "id": "48bd52a6",
   "metadata": {},
   "source": [
    "We can then perform the optimization with:"
   ]
  },
  {
   "cell_type": "code",
   "execution_count": 3,
   "id": "e76454c8",
   "metadata": {
    "execution": {
     "iopub.execute_input": "2022-01-26T23:08:45.464359Z",
     "iopub.status.busy": "2022-01-26T23:08:45.463964Z",
     "iopub.status.idle": "2022-01-26T23:08:48.455460Z",
     "shell.execute_reply": "2022-01-26T23:08:48.455081Z"
    }
   },
   "outputs": [
    {
     "name": "stdout",
     "output_type": "stream",
     "text": [
      "MSymOpt =\r\n",
      "\r\n",
      "   0.3333  -0.1667  -0.1667\r\n",
      "  -0.1667   0.3333  -0.1667\r\n",
      "  -0.1667  -0.1667   0.3333\r\n",
      "\r\n"
     ]
    }
   ],
   "source": [
    "constraintsSym = [trace(MSym) == 1, MSym >= 0];\n",
    "diagnosticSym = optimize(constraintsSym, MSym(1,2), sdpsettings('verbose', 0));\n",
    "MSymOpt = value(MSym)"
   ]
  },
  {
   "cell_type": "markdown",
   "id": "c208880f",
   "metadata": {},
   "source": [
    "We find the critical value of $-1/6$.\n",
    "\n",
    "At the end of this page, we discuss how this formulation is more\n",
    "efficient than a direct formulation which would not take advantage of the\n",
    "symmetry properties of the considered matrix."
   ]
  },
  {
   "cell_type": "markdown",
   "id": "601d3682",
   "metadata": {},
   "source": [
    "## Constructing a symmetric SDP matrix with additional structure\n",
    "\n",
    "An SDP matrix might sometimes be subject to more than only symmetry\n",
    "constraints. When these additional constraints take the form of equality\n",
    "between some of the matrix elements, it can be conveniently described by\n",
    "a matrix having at each element the index of the corresponding variable.\n",
    "All elements with identical index are then understood as being equal to\n",
    "each other.\n",
    "\n",
    "For instance, imposing on a 3x3 matrix that elements (1,1) ans (2,1) are\n",
    "must be equal to each other can be described by the following index\n",
    "matrix:"
   ]
  },
  {
   "cell_type": "code",
   "execution_count": 4,
   "id": "668eb643",
   "metadata": {
    "execution": {
     "iopub.execute_input": "2022-01-26T23:08:48.458083Z",
     "iopub.status.busy": "2022-01-26T23:08:48.457699Z",
     "iopub.status.idle": "2022-01-26T23:08:48.480955Z",
     "shell.execute_reply": "2022-01-26T23:08:48.480555Z"
    }
   },
   "outputs": [],
   "source": [
    "indexMatrix = [1 2 3\n",
    "1 4 5\n",
    "6 7 8];"
   ]
  },
  {
   "cell_type": "markdown",
   "id": "2f002cfa",
   "metadata": {},
   "source": [
    "An SDP matrix satisfying this constraint is then obtained"
   ]
  },
  {
   "cell_type": "code",
   "execution_count": 5,
   "id": "40857282",
   "metadata": {
    "execution": {
     "iopub.execute_input": "2022-01-26T23:08:48.483789Z",
     "iopub.status.busy": "2022-01-26T23:08:48.483357Z",
     "iopub.status.idle": "2022-01-26T23:08:48.908746Z",
     "shell.execute_reply": "2022-01-26T23:08:48.908362Z"
    }
   },
   "outputs": [
    {
     "name": "stdout",
     "output_type": "stream",
     "text": [
      "cstrSdpMatrix ="
     ]
    },
    {
     "name": "stdout",
     "output_type": "stream",
     "text": [
      "\r"
     ]
    },
    {
     "name": "stdout",
     "output_type": "stream",
     "text": [
      "\n"
     ]
    },
    {
     "name": "stdout",
     "output_type": "stream",
     "text": [
      "\r\n",
      "Commutant variable 3x3 (2 blocks, 1 scalar variables)\r\n",
      "           dim: 3\r\n",
      "   dimensions1: [1, 2]\r\n",
      "         field: 'real'\r\n",
      "    matrixType: 'symmetric'\r\n",
      "multiplicities: [1, 1]\r\n",
      "         types: 'RC'\r\n",
      "             U: 3 x 3 double\r\n",
      "        blocks: [1, 2]\r\n",
      "\r\n"
     ]
    }
   ],
   "source": [
    "cstrSdpMatrix = replab.CommutantVar.fromIndexMatrix(indexMatrix, {permutation}, 'symmetric', 'real')"
   ]
  },
  {
   "cell_type": "markdown",
   "id": "1661b8d8",
   "metadata": {
    "lines_to_next_cell": 2
   },
   "source": [
    "In this trivial case, the SDP matrix is left to contain only one variable: the additional constraints collapsed the all group orbits\n",
    "together."
   ]
  },
  {
   "cell_type": "markdown",
   "id": "8104add4",
   "metadata": {},
   "source": [
    "## Imposing symmetry to an existing SDP matrix\n",
    "\n",
    "Symmetry constraints can also be straightforwardly imposed on existing SDP matrices with arbitrary structure.\n",
    "\n",
    "For instance, consider the following special SDP matrix"
   ]
  },
  {
   "cell_type": "code",
   "execution_count": 6,
   "id": "ab9da5f8",
   "metadata": {
    "execution": {
     "iopub.execute_input": "2022-01-26T23:08:48.911684Z",
     "iopub.status.busy": "2022-01-26T23:08:48.911313Z",
     "iopub.status.idle": "2022-01-26T23:08:49.340005Z",
     "shell.execute_reply": "2022-01-26T23:08:49.340442Z"
    }
   },
   "outputs": [
    {
     "name": "stdout",
     "output_type": "stream",
     "text": [
      "Linear scalar (real, 1 variable)\r\n",
      "Coefficients range: 1 to 1\r\n"
     ]
    }
   ],
   "source": [
    "x = sdpvar;\n",
    "y = sdpvar\n",
    "MSpecial = [1 x y\n",
    "x 1 y\n",
    "x y 1];"
   ]
  },
  {
   "cell_type": "markdown",
   "id": "30ea2764",
   "metadata": {},
   "source": [
    "We can directly impose cyclic symmetry onto this matrix:"
   ]
  },
  {
   "cell_type": "code",
   "execution_count": 7,
   "id": "764133c6",
   "metadata": {
    "execution": {
     "iopub.execute_input": "2022-01-26T23:08:49.343264Z",
     "iopub.status.busy": "2022-01-26T23:08:49.342444Z",
     "iopub.status.idle": "2022-01-26T23:08:50.093952Z",
     "shell.execute_reply": "2022-01-26T23:08:50.093567Z"
    }
   },
   "outputs": [
    {
     "name": "stdout",
     "output_type": "stream",
     "text": [
      "MSpecialSym =\r\n",
      "\r\n",
      "Commutant variable 3x3 (2 blocks, 5 scalar variables)\r\n",
      "              dim: 3\r\n",
      "      dimensions1: [1, 2]\r\n",
      "            field: 'real'\r\n",
      "       matrixType: 'full'\r\n",
      "   multiplicities: [1, 1]\r\n",
      "            types: 'RC'\r\n",
      "                U: 3 x 3 double\r\n",
      "           blocks: [1, 2]\r\n",
      "linearConstraints: constraint\r\n",
      "\r\n"
     ]
    }
   ],
   "source": [
    "MSpecialSym = replab.CommutantVar.fromSdpMatrix(MSpecial, {[2 3 1]})"
   ]
  },
  {
   "cell_type": "markdown",
   "id": "3a12f5ab",
   "metadata": {},
   "source": [
    "Requesting this matrix to be PSD now imposes both\n",
    "\n",
    "* Positivity of the 1x1 and 2x2 blocks\n",
    "* Equality with the imposed form\n",
    "\n",
    "as can be seen with"
   ]
  },
  {
   "cell_type": "code",
   "execution_count": 8,
   "id": "b8a16039",
   "metadata": {
    "execution": {
     "iopub.execute_input": "2022-01-26T23:08:50.096724Z",
     "iopub.status.busy": "2022-01-26T23:08:50.096340Z",
     "iopub.status.idle": "2022-01-26T23:08:50.201784Z",
     "shell.execute_reply": "2022-01-26T23:08:50.201126Z"
    }
   },
   "outputs": [
    {
     "name": "stdout",
     "output_type": "stream",
     "text": [
      "+++++++++++++++++++++++++++++++++++++++++++++++++++++++++++\r\n",
      "|   ID|                    Constraint|   Coefficient range|\r\n",
      "+++++++++++++++++++++++++++++++++++++++++++++++++++++++++++\r\n",
      "|   #1|   Element-wise inequality 1x1|              1 to 1|\r\n",
      "|   #2|   Element-wise inequality 4x1|              1 to 1|\r\n",
      "|   #3|       Equality constraint 3x3|        0.33333 to 1|\r\n",
      "+++++++++++++++++++++++++++++++++++++++++++++++++++++++++++\r\n"
     ]
    }
   ],
   "source": [
    "MSpecialSym >= 0"
   ]
  },
  {
   "cell_type": "markdown",
   "id": "1bfb921c",
   "metadata": {},
   "source": [
    "## Block-diagonalizing a symmetric SDP matrix\n",
    "\n",
    "When an SDP matrix is invariant under the considered permutations,\n",
    "*RepLAB* can be used to block-diagonalize it. This allows imposing the\n",
    "positivity of the matrix through the positivity of small blocks. As an\n",
    "example, consider the following matrix"
   ]
  },
  {
   "cell_type": "code",
   "execution_count": 9,
   "id": "6e03d89f",
   "metadata": {
    "execution": {
     "iopub.execute_input": "2022-01-26T23:08:50.204314Z",
     "iopub.status.busy": "2022-01-26T23:08:50.203920Z",
     "iopub.status.idle": "2022-01-26T23:08:50.290697Z",
     "shell.execute_reply": "2022-01-26T23:08:50.290288Z"
    }
   },
   "outputs": [],
   "source": [
    "MInvariant = [x 1 y\n",
    "y x 1\n",
    "1 y x];"
   ]
  },
  {
   "cell_type": "markdown",
   "id": "13578d80",
   "metadata": {},
   "source": [
    "It is indeed invariant:"
   ]
  },
  {
   "cell_type": "code",
   "execution_count": 10,
   "id": "2b00d324",
   "metadata": {
    "execution": {
     "iopub.execute_input": "2022-01-26T23:08:50.293181Z",
     "iopub.status.busy": "2022-01-26T23:08:50.292802Z",
     "iopub.status.idle": "2022-01-26T23:08:50.310744Z",
     "shell.execute_reply": "2022-01-26T23:08:50.310362Z"
    }
   },
   "outputs": [
    {
     "name": "stdout",
     "output_type": "stream",
     "text": [
      "ans =\r\n",
      "\r\n",
      "   0   0   0\r\n",
      "   0   0   0\r\n",
      "   0   0   0\r\n",
      "\r\n"
     ]
    }
   ],
   "source": [
    "MInvariant - MInvariant(permutation,permutation)"
   ]
  },
  {
   "cell_type": "markdown",
   "id": "3cd33aff",
   "metadata": {},
   "source": [
    "But not transpose-invariant (which is necessary for PSD matrices), so we enforce it:"
   ]
  },
  {
   "cell_type": "code",
   "execution_count": 11,
   "id": "3b73470a",
   "metadata": {
    "execution": {
     "iopub.execute_input": "2022-01-26T23:08:50.313394Z",
     "iopub.status.busy": "2022-01-26T23:08:50.313013Z",
     "iopub.status.idle": "2022-01-26T23:08:50.335121Z",
     "shell.execute_reply": "2022-01-26T23:08:50.335561Z"
    }
   },
   "outputs": [
    {
     "name": "stdout",
     "output_type": "stream",
     "text": [
      "ans =\r\n",
      "\r\n",
      "   0   0   0\r\n",
      "   0   0   0\r\n",
      "   0   0   0\r\n",
      "\r\n"
     ]
    }
   ],
   "source": [
    "MInvariant = MInvariant + MInvariant';\n",
    "MInvariant - MInvariant'"
   ]
  },
  {
   "cell_type": "markdown",
   "id": "7c161103",
   "metadata": {},
   "source": [
    "We can now block-diagonalize it by calling"
   ]
  },
  {
   "cell_type": "code",
   "execution_count": 12,
   "id": "b54ba9fd",
   "metadata": {
    "execution": {
     "iopub.execute_input": "2022-01-26T23:08:50.338398Z",
     "iopub.status.busy": "2022-01-26T23:08:50.337954Z",
     "iopub.status.idle": "2022-01-26T23:08:50.580775Z",
     "shell.execute_reply": "2022-01-26T23:08:50.580353Z"
    }
   },
   "outputs": [
    {
     "name": "stdout",
     "output_type": "stream",
     "text": [
      "MInvariantBlock =\r\n",
      "\r\n",
      "Commutant variable 3x3 (2 blocks, 2 scalar variables)\r\n",
      "           dim: 3\r\n",
      "   dimensions1: [1, 2]\r\n",
      "         field: 'real'\r\n",
      "    matrixType: 'symmetric'\r\n",
      "multiplicities: [1, 1]\r\n",
      "         types: 'RC'\r\n",
      "             U: 3 x 3 double\r\n",
      "        blocks: [1, 2]\r\n",
      "\r\n"
     ]
    }
   ],
   "source": [
    "MInvariantBlock = replab.CommutantVar.fromSymSdpMatrix(MInvariant, {[2 3 1]})"
   ]
  },
  {
   "cell_type": "markdown",
   "id": "40a2bc6b",
   "metadata": {},
   "source": [
    "No new variable has been introduced in the new object, but the block structure has been found:"
   ]
  },
  {
   "cell_type": "code",
   "execution_count": 13,
   "id": "718eaa18",
   "metadata": {
    "execution": {
     "iopub.execute_input": "2022-01-26T23:08:50.583620Z",
     "iopub.status.busy": "2022-01-26T23:08:50.583191Z",
     "iopub.status.idle": "2022-01-26T23:08:50.599990Z",
     "shell.execute_reply": "2022-01-26T23:08:50.600377Z"
    }
   },
   "outputs": [
    {
     "name": "stdout",
     "output_type": "stream",
     "text": [
      "ans =\r\n",
      "\r\n",
      "   1   0   0\r\n",
      "   0   1   1\r\n",
      "   0   1   1\r\n",
      "\r\n"
     ]
    }
   ],
   "source": [
    "full(MInvariantBlock.blockMask)"
   ]
  },
  {
   "cell_type": "markdown",
   "id": "bda53b8d",
   "metadata": {},
   "source": [
    "The block structure is used when requesting this matrix to be PSD:"
   ]
  },
  {
   "cell_type": "code",
   "execution_count": 14,
   "id": "5682819e",
   "metadata": {
    "execution": {
     "iopub.execute_input": "2022-01-26T23:08:50.602966Z",
     "iopub.status.busy": "2022-01-26T23:08:50.602585Z",
     "iopub.status.idle": "2022-01-26T23:08:50.679654Z",
     "shell.execute_reply": "2022-01-26T23:08:50.680043Z"
    }
   },
   "outputs": [
    {
     "name": "stdout",
     "output_type": "stream",
     "text": [
      "+++++++++++++++++++++++++++++++++++++++++++++++++++++++++++\r\n",
      "|   ID|                    Constraint|   Coefficient range|\r\n",
      "+++++++++++++++++++++++++++++++++++++++++++++++++++++++++++\r\n",
      "|   #1|   Element-wise inequality 1x1|              2 to 2|\r\n",
      "|   #2|         Matrix inequality 2x2|     2.7756e-17 to 2|\r\n",
      "+++++++++++++++++++++++++++++++++++++++++++++++++++++++++++\r\n"
     ]
    }
   ],
   "source": [
    "MInvariantBlock >= 0"
   ]
  },
  {
   "cell_type": "markdown",
   "id": "3cc1dde3",
   "metadata": {},
   "source": [
    "## Comparison with a direct formulation\n",
    "\n",
    "To conclude, let us show in more detail why the SDP formulation of a\n",
    "problem is more efficient if it takes advantage of the available symmetry\n",
    "properties. For this, we consider again the problem described at the\n",
    "beginning of this page. This problem can be solved directly as follows:"
   ]
  },
  {
   "cell_type": "code",
   "execution_count": 15,
   "id": "fe9c6593",
   "metadata": {
    "execution": {
     "iopub.execute_input": "2022-01-26T23:08:50.682695Z",
     "iopub.status.busy": "2022-01-26T23:08:50.681926Z",
     "iopub.status.idle": "2022-01-26T23:08:53.098866Z",
     "shell.execute_reply": "2022-01-26T23:08:53.098397Z"
    }
   },
   "outputs": [
    {
     "name": "stdout",
     "output_type": "stream",
     "text": [
      "diagnostic =\r\n",
      "\r\n",
      "  scalar structure containing the fields:\r\n",
      "\r\n",
      "    yalmipversion = 20200930\r\n",
      "    matlabversion = 6.2.0\r\n",
      "    yalmiptime = 0.1104\r\n",
      "    solvertime = 0.9305\r\n",
      "    info = Successfully solved (SDPT3-4)\r\n",
      "    problem = 0\r\n",
      "\r\n"
     ]
    },
    {
     "name": "stdout",
     "output_type": "stream",
     "text": [
      "MOpt =\r\n",
      "\r\n",
      "   0.3333  -0.1667  -0.1667\r\n",
      "  -0.1667   0.3333  -0.1667\r\n",
      "  -0.1667  -0.1667   0.3333\r\n",
      "\r\n"
     ]
    }
   ],
   "source": [
    "M = sdpvar(3);\n",
    "constraints = [trace(M) == 1, M(permutation, permutation) == M, M >= 0];\n",
    "diagnostic = optimize(constraints, M(1,2), sdpsettings('verbose', 0))\n",
    "MOpt = value(M)"
   ]
  },
  {
   "cell_type": "markdown",
   "id": "1299d7bb",
   "metadata": {},
   "source": [
    "Again, we find that the lowest possible value of $M(1,2)$ which is\n",
    "compatible with the matrix $M$ having only positive eigenvalues is\n",
    "$-1/6$. However, this last SDP problem is more complex than the first one\n",
    "which takes into account symmetries."
   ]
  },
  {
   "cell_type": "markdown",
   "id": "6f671bc5",
   "metadata": {},
   "source": [
    "### Complexity comparison\n",
    "\n",
    "The symmetric formulation of the above problem involves fewer variables\n",
    "and simpler constraints, as summarized in the following table:\n",
    "\n",
    "| Formulation:           | Direct | Symmetric   |\n",
    "|------------------------|--------|-------------|\n",
    "| # variables            | 6      | 2           |\n",
    "| # equality constraints | 10     | 1           |\n",
    "| Size of PSD blocks     | 3      | 1x1 and 2x2 |"
   ]
  },
  {
   "cell_type": "markdown",
   "id": "718ae672",
   "metadata": {},
   "source": [
    "This can be checked by examining the variables involved. In the non-symmetrized case, we have"
   ]
  },
  {
   "cell_type": "code",
   "execution_count": 16,
   "id": "59579a4a",
   "metadata": {
    "execution": {
     "iopub.execute_input": "2022-01-26T23:08:53.101712Z",
     "iopub.status.busy": "2022-01-26T23:08:53.101285Z",
     "iopub.status.idle": "2022-01-26T23:08:53.153831Z",
     "shell.execute_reply": "2022-01-26T23:08:53.153408Z"
    }
   },
   "outputs": [
    {
     "name": "stdout",
     "output_type": "stream",
     "text": [
      "Linear matrix variable 3x3 (symmetric, real, 6 variables)\r\n",
      "Eigenvalues between [-2.2285e-09,0.5]\r\n",
      "Coeffiecient range: 1 to 1\r\n"
     ]
    }
   ],
   "source": [
    "M"
   ]
  },
  {
   "cell_type": "code",
   "execution_count": 17,
   "id": "42e1eccb",
   "metadata": {
    "execution": {
     "iopub.execute_input": "2022-01-26T23:08:53.156413Z",
     "iopub.status.busy": "2022-01-26T23:08:53.156036Z",
     "iopub.status.idle": "2022-01-26T23:08:53.251754Z",
     "shell.execute_reply": "2022-01-26T23:08:53.252188Z"
    }
   },
   "outputs": [
    {
     "name": "stdout",
     "output_type": "stream",
     "text": [
      "+++++++++++++++++++++++++++++++++++++++++++++++++++++++\r\n",
      "|   ID|                Constraint|   Coefficient range|\r\n",
      "+++++++++++++++++++++++++++++++++++++++++++++++++++++++\r\n",
      "|   #1|   Equality constraint 1x1|              1 to 1|\r\n",
      "|   #2|   Equality constraint 3x3|              1 to 1|\r\n",
      "|   #3|     Matrix inequality 3x3|              1 to 1|\r\n",
      "+++++++++++++++++++++++++++++++++++++++++++++++++++++++\r\n"
     ]
    }
   ],
   "source": [
    "constraints"
   ]
  },
  {
   "cell_type": "markdown",
   "id": "9f5558ed",
   "metadata": {},
   "source": [
    "we see that it involves\n",
    "\n",
    "* 6 variables\n",
    "* 1+3x3=10 equality constraints\n",
    "* 1 PSD block of size 3x3\n",
    "\n",
    "In the symmetrized case, we have"
   ]
  },
  {
   "cell_type": "code",
   "execution_count": 18,
   "id": "74130a08",
   "metadata": {
    "execution": {
     "iopub.execute_input": "2022-01-26T23:08:53.255138Z",
     "iopub.status.busy": "2022-01-26T23:08:53.254708Z",
     "iopub.status.idle": "2022-01-26T23:08:53.302289Z",
     "shell.execute_reply": "2022-01-26T23:08:53.301855Z"
    }
   },
   "outputs": [
    {
     "name": "stdout",
     "output_type": "stream",
     "text": [
      "MSym =\r\n",
      "\r\n",
      "Commutant variable 3x3 (2 blocks, 2 scalar variables)\r\n",
      "           dim: 3\r\n",
      "   dimensions1: [1, 2]\r\n",
      "         field: 'real'\r\n",
      "    matrixType: 'symmetric'\r\n",
      "multiplicities: [1, 1]\r\n",
      "         types: 'RC'\r\n",
      "             U: 3 x 3 double\r\n",
      "        blocks: [1, 2]\r\n",
      "\r\n"
     ]
    }
   ],
   "source": [
    "MSym"
   ]
  },
  {
   "cell_type": "markdown",
   "id": "ed74e898",
   "metadata": {},
   "source": [
    "In other words, the matrix is made of two blocks of size 1x1 and 2x2, and\n",
    "involves altogether just 2 variables."
   ]
  },
  {
   "cell_type": "markdown",
   "id": "4d3c77d6",
   "metadata": {},
   "source": [
    "The constraints this time are"
   ]
  },
  {
   "cell_type": "code",
   "execution_count": 19,
   "id": "76424ca8",
   "metadata": {
    "execution": {
     "iopub.execute_input": "2022-01-26T23:08:53.305333Z",
     "iopub.status.busy": "2022-01-26T23:08:53.304520Z",
     "iopub.status.idle": "2022-01-26T23:08:53.400934Z",
     "shell.execute_reply": "2022-01-26T23:08:53.400481Z"
    }
   },
   "outputs": [
    {
     "name": "stdout",
     "output_type": "stream",
     "text": [
      "+++++++++++++++++++++++++++++++++++++++++++++++++++++++++++\r\n",
      "|   ID|                    Constraint|   Coefficient range|\r\n",
      "+++++++++++++++++++++++++++++++++++++++++++++++++++++++++++\r\n",
      "|   #1|       Equality constraint 1x1|              1 to 2|\r\n",
      "|   #2|   Element-wise inequality 1x1|              1 to 1|\r\n",
      "|   #3|         Matrix inequality 2x2|              1 to 1|\r\n",
      "+++++++++++++++++++++++++++++++++++++++++++++++++++++++++++\r\n"
     ]
    }
   ],
   "source": [
    "constraintsSym"
   ]
  },
  {
   "cell_type": "markdown",
   "id": "464c6cbf",
   "metadata": {},
   "source": [
    "This formulation thus involves:\n",
    "\n",
    "* 2 variables\n",
    "* 1 equality constraint\n",
    "* SDP blocks of size 1x1 and 2x2"
   ]
  }
 ],
 "metadata": {
  "jupytext": {
   "cell_metadata_filter": "-all",
   "main_language": "matlab",
   "notebook_metadata_filter": "-all",
   "text_representation": {
    "extension": ".m",
    "format_name": "light"
   }
  },
  "language_info": {
   "file_extension": ".m",
   "help_links": [
    {
     "text": "GNU Octave",
     "url": "https://www.gnu.org/software/octave/support.html"
    },
    {
     "text": "Octave Kernel",
     "url": "https://github.com/Calysto/octave_kernel"
    },
    {
     "text": "MetaKernel Magics",
     "url": "https://metakernel.readthedocs.io/en/latest/source/README.html"
    }
   ],
   "mimetype": "text/x-octave",
   "name": "octave",
   "version": "6.2.0"
  }
 },
 "nbformat": 4,
 "nbformat_minor": 5
}
