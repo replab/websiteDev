{
 "cells": [
  {
   "cell_type": "markdown",
   "id": "cce74466",
   "metadata": {},
   "source": [
    "# Tutorial for mathematicians\n",
    "\n",
    "The symmetric group $S_n$ is group of primary importance. Here, we consider this group for $n=3$ and discuss several of its representations with *RepLAB*.\n",
    "\n",
    "Before trying any of the *RepLAB* commands, we must initialize the library:"
   ]
  },
  {
   "cell_type": "code",
   "execution_count": 1,
   "id": "63c3ed87",
   "metadata": {
    "execution": {
     "iopub.execute_input": "2021-12-28T10:52:41.754389Z",
     "iopub.status.busy": "2021-12-28T10:52:41.751535Z",
     "iopub.status.idle": "2021-12-28T10:52:41.774601Z",
     "shell.execute_reply": "2021-12-28T10:52:41.774109Z"
    }
   },
   "outputs": [
    {
     "name": "stdout",
     "output_type": "stream",
     "text": [
      "error: 'replab_init' undefined near line 1, column 1\r\n"
     ]
    }
   ],
   "source": [
    "addpath([pwd, '/../..']);\n",
    "replab_init('verbose', 0);"
   ]
  },
  {
   "cell_type": "markdown",
   "id": "74828ede",
   "metadata": {},
   "source": [
    "## The symmetric group\n",
    "\n",
    "Consider $n$ distinct elements, numbered $1,2,\\ldots,n$. The symmetric group describes all possible ways in which these elements can be permuted.\n",
    "\n",
    "With $n=3$, for instance, two possible arrangements are"
   ]
  },
  {
   "cell_type": "code",
   "execution_count": 2,
   "id": "49d889d6",
   "metadata": {
    "execution": {
     "iopub.execute_input": "2021-12-28T10:52:41.777273Z",
     "iopub.status.busy": "2021-12-28T10:52:41.776843Z",
     "iopub.status.idle": "2021-12-28T10:52:41.782055Z",
     "shell.execute_reply": "2021-12-28T10:52:41.781667Z"
    }
   },
   "outputs": [],
   "source": [
    "[1 2 3];"
   ]
  },
  {
   "cell_type": "markdown",
   "id": "8c496982",
   "metadata": {},
   "source": [
    "and"
   ]
  },
  {
   "cell_type": "code",
   "execution_count": 3,
   "id": "ffc000d2",
   "metadata": {
    "execution": {
     "iopub.execute_input": "2021-12-28T10:52:41.784576Z",
     "iopub.status.busy": "2021-12-28T10:52:41.784152Z",
     "iopub.status.idle": "2021-12-28T10:52:41.788877Z",
     "shell.execute_reply": "2021-12-28T10:52:41.789228Z"
    }
   },
   "outputs": [],
   "source": [
    "[1 3 2];"
   ]
  },
  {
   "cell_type": "markdown",
   "id": "4a7bd3cc",
   "metadata": {},
   "source": [
    "In general there are $n!$ such arrangements (i.e. $6$ arrangements for $n=3$).\n",
    "\n",
    "In *RepLAB*, the symmetric group can be constructed with a simple command"
   ]
  },
  {
   "cell_type": "code",
   "execution_count": 4,
   "id": "9fc1e753",
   "metadata": {
    "execution": {
     "iopub.execute_input": "2021-12-28T10:52:41.791901Z",
     "iopub.status.busy": "2021-12-28T10:52:41.791478Z",
     "iopub.status.idle": "2021-12-28T10:52:41.800536Z",
     "shell.execute_reply": "2021-12-28T10:52:41.800176Z"
    }
   },
   "outputs": [
    {
     "name": "stdout",
     "output_type": "stream",
     "text": [
      "error: 'replab' undefined near line 1, column 1\r\n"
     ]
    }
   ],
   "source": [
    "n = 3;\n",
    "S3 = replab.S(n);"
   ]
  },
  {
   "cell_type": "markdown",
   "id": "2b244f8d",
   "metadata": {},
   "source": [
    "The elements of the group can be easily listed"
   ]
  },
  {
   "cell_type": "code",
   "execution_count": 5,
   "id": "bed28bc2",
   "metadata": {
    "execution": {
     "iopub.execute_input": "2021-12-28T10:52:41.803057Z",
     "iopub.status.busy": "2021-12-28T10:52:41.802639Z",
     "iopub.status.idle": "2021-12-28T10:52:41.808718Z",
     "shell.execute_reply": "2021-12-28T10:52:41.808363Z"
    }
   },
   "outputs": [
    {
     "name": "stdout",
     "output_type": "stream",
     "text": [
      "error: invalid call to script /github/workspace/generated/sphinx/tutorials/S3.m\r\n",
      "error: called from\r\n",
      "    S3\r\n"
     ]
    }
   ],
   "source": [
    "S3.elements"
   ]
  },
  {
   "cell_type": "markdown",
   "id": "930f07c1",
   "metadata": {},
   "source": [
    "The number of elements is the order of the group"
   ]
  },
  {
   "cell_type": "code",
   "execution_count": 6,
   "id": "16b42247",
   "metadata": {
    "execution": {
     "iopub.execute_input": "2021-12-28T10:52:41.811083Z",
     "iopub.status.busy": "2021-12-28T10:52:41.810660Z",
     "iopub.status.idle": "2021-12-28T10:52:41.816328Z",
     "shell.execute_reply": "2021-12-28T10:52:41.815934Z"
    }
   },
   "outputs": [
    {
     "name": "stdout",
     "output_type": "stream",
     "text": [
      "error: invalid call to script /github/workspace/generated/sphinx/tutorials/S3.m\r\n",
      "error: called from\r\n",
      "    S3\r\n"
     ]
    }
   ],
   "source": [
    "S3.order"
   ]
  },
  {
   "cell_type": "markdown",
   "id": "8dacfd41",
   "metadata": {},
   "source": [
    "As we see, permutations are represented by row-vectors with an arrangement of the elements $1,\\ldots,n$.\n",
    "\n",
    "The group structure defines how elements of the group compose with each other.\n",
    "For instance, permuting the first two elements in $1,2,3$, followed by a permutation of the second and third elements results in a cyclic permutation:"
   ]
  },
  {
   "cell_type": "code",
   "execution_count": 7,
   "id": "81aa7031",
   "metadata": {
    "execution": {
     "iopub.execute_input": "2021-12-28T10:52:41.818696Z",
     "iopub.status.busy": "2021-12-28T10:52:41.818270Z",
     "iopub.status.idle": "2021-12-28T10:52:41.826310Z",
     "shell.execute_reply": "2021-12-28T10:52:41.825931Z"
    }
   },
   "outputs": [
    {
     "name": "stdout",
     "output_type": "stream",
     "text": [
      "error: invalid call to script /github/workspace/generated/sphinx/tutorials/S3.m\r\n",
      "error: called from\r\n",
      "    S3\r\n"
     ]
    }
   ],
   "source": [
    "element1 = [2 1 3];\n",
    "element2 = [1 3 2];\n",
    "S3.compose(element1, element2)"
   ]
  },
  {
   "cell_type": "markdown",
   "id": "ce343127",
   "metadata": {},
   "source": [
    "## The natural representation of S(3)\n",
    "\n",
    "A group can always be represented by matrices of finite dimension. In a $d$-dimensional matrix representation, each group element is associated with a $d \\times d$ matrix called the image of the group\n",
    "element. The action of matrix multiplication on the images then reflects the group composition rule.\n",
    "\n",
    "Several matrix representations are possible for the same group, possibly in various dimension $d$. Here, we are going to explore some representations of the group $S_3$\n",
    "\n",
    "When seeing the group as a permutation within $n$ elements, a natural choice of representation arises in dimension $d=n$, where the permutation\n",
    "is applied to the coordinates of the vector space $R^n$. This is called the *natural representation* of a group. It can be constructed easily:"
   ]
  },
  {
   "cell_type": "code",
   "execution_count": 8,
   "id": "28a61839",
   "metadata": {
    "execution": {
     "iopub.execute_input": "2021-12-28T10:52:41.828719Z",
     "iopub.status.busy": "2021-12-28T10:52:41.828305Z",
     "iopub.status.idle": "2021-12-28T10:52:41.833641Z",
     "shell.execute_reply": "2021-12-28T10:52:41.833300Z"
    }
   },
   "outputs": [
    {
     "name": "stdout",
     "output_type": "stream",
     "text": [
      "error: invalid call to script /github/workspace/generated/sphinx/tutorials/S3.m\r\n",
      "error: called from\r\n",
      "    S3\r\n"
     ]
    }
   ],
   "source": [
    "natRep = S3.naturalRep;"
   ]
  },
  {
   "cell_type": "markdown",
   "id": "b09f52fb",
   "metadata": {},
   "source": [
    "The image of a group element in this representation can be extracted"
   ]
  },
  {
   "cell_type": "code",
   "execution_count": 9,
   "id": "b71e7895",
   "metadata": {
    "execution": {
     "iopub.execute_input": "2021-12-28T10:52:41.835848Z",
     "iopub.status.busy": "2021-12-28T10:52:41.835434Z",
     "iopub.status.idle": "2021-12-28T10:52:41.844264Z",
     "shell.execute_reply": "2021-12-28T10:52:41.843918Z"
    }
   },
   "outputs": [
    {
     "name": "stdout",
     "output_type": "stream",
     "text": [
      "error: 'natRep' undefined near line 1, column 1\r\n"
     ]
    }
   ],
   "source": [
    "natRep.image([2 1 3])"
   ]
  },
  {
   "cell_type": "markdown",
   "id": "3ba45b25",
   "metadata": {},
   "source": [
    "We see that the matrices representing the group elements are $n \\times n$ permutation matrices, which simply apply the permutation to the coordinates of the vector space $R^n$.\n",
    "\n",
    "For a representation to be valid, the images must follow the structure of the group:"
   ]
  },
  {
   "cell_type": "code",
   "execution_count": 10,
   "id": "98797bd5",
   "metadata": {
    "execution": {
     "iopub.execute_input": "2021-12-28T10:52:41.846692Z",
     "iopub.status.busy": "2021-12-28T10:52:41.846270Z",
     "iopub.status.idle": "2021-12-28T10:52:41.866326Z",
     "shell.execute_reply": "2021-12-28T10:52:41.866652Z"
    }
   },
   "outputs": [
    {
     "name": "stdout",
     "output_type": "stream",
     "text": [
      "error: 'natRep' undefined near line 1, column 1\r\n"
     ]
    },
    {
     "name": "stdout",
     "output_type": "stream",
     "text": [
      "error: 'natRep' undefined near line 1, column 1\r\n"
     ]
    },
    {
     "name": "stdout",
     "output_type": "stream",
     "text": [
      "error: 'image1' undefined near line 1, column 1\r\n"
     ]
    },
    {
     "name": "stdout",
     "output_type": "stream",
     "text": [
      "error: 'natRep' undefined near line 1, column 1\r\n"
     ]
    }
   ],
   "source": [
    "image1 = natRep.image(element1);\n",
    "image2 = natRep.image(element2);\n",
    "image1*image2\n",
    "natRep.image(S3.compose(element1, element2))"
   ]
  },
  {
   "cell_type": "markdown",
   "id": "f443b81d",
   "metadata": {},
   "source": [
    "We see that the image of the product of elements is indeed the product of the images of the respective elements, i.e. the algebra of matrices\n",
    "acting on the representation images accurately reflects the group algebra.\n",
    "\n",
    "It can be checked, moreover, that the natural representation is faithful, i.e. each group element has its own distinct image. This needs\n",
    "not always be the case as in the following two examples.\n",
    "\n",
    "## The parity representation of $S_3$\n",
    "\n",
    "To construct an arbitrary group representation in *RepLAB*, it is sufficient to provide the image of the generators of the group. The group $S_3$ has two generators:"
   ]
  },
  {
   "cell_type": "code",
   "execution_count": 11,
   "id": "dd3ae70f",
   "metadata": {
    "execution": {
     "iopub.execute_input": "2021-12-28T10:52:41.868910Z",
     "iopub.status.busy": "2021-12-28T10:52:41.868479Z",
     "iopub.status.idle": "2021-12-28T10:52:41.877685Z",
     "shell.execute_reply": "2021-12-28T10:52:41.877329Z"
    }
   },
   "outputs": [
    {
     "name": "stdout",
     "output_type": "stream",
     "text": [
      "error: invalid call to script /github/workspace/generated/sphinx/tutorials/S3.m\r\n",
      "error: called from\r\n",
      "    S3\r\n"
     ]
    },
    {
     "name": "stdout",
     "output_type": "stream",
     "text": [
      "error: 'generators' undefined near line 1, column 1\r\n"
     ]
    }
   ],
   "source": [
    "generators = S3.generators;\n",
    "generators{:}"
   ]
  },
  {
   "cell_type": "markdown",
   "id": "0283e590",
   "metadata": {},
   "source": [
    "Let us construct a representation of this group in dimension"
   ]
  },
  {
   "cell_type": "code",
   "execution_count": 12,
   "id": "f18a8893",
   "metadata": {
    "execution": {
     "iopub.execute_input": "2021-12-28T10:52:41.880158Z",
     "iopub.status.busy": "2021-12-28T10:52:41.879744Z",
     "iopub.status.idle": "2021-12-28T10:52:41.884648Z",
     "shell.execute_reply": "2021-12-28T10:52:41.884271Z"
    }
   },
   "outputs": [],
   "source": [
    "d = 1;"
   ]
  },
  {
   "cell_type": "markdown",
   "id": "75d4e46d",
   "metadata": {},
   "source": [
    "associating the each generator its parity (i.e. either $+1$ or $-1$). Since the parity of [2 3 1] is 1 and the parity of [2 1 3] is -1, this is achieved by instantiating calling the *repByImages* methods on the group:"
   ]
  },
  {
   "cell_type": "code",
   "execution_count": 13,
   "id": "0f49a370",
   "metadata": {
    "execution": {
     "iopub.execute_input": "2021-12-28T10:52:41.886849Z",
     "iopub.status.busy": "2021-12-28T10:52:41.886437Z",
     "iopub.status.idle": "2021-12-28T10:52:41.892575Z",
     "shell.execute_reply": "2021-12-28T10:52:41.892898Z"
    }
   },
   "outputs": [
    {
     "name": "stdout",
     "output_type": "stream",
     "text": [
      "error: invalid call to script /github/workspace/generated/sphinx/tutorials/S3.m\r\n",
      "error: called from\r\n",
      "    S3\r\n"
     ]
    }
   ],
   "source": [
    "parRep = S3.repByImages('R', d, 'preimages', S3.generators, 'images', {1 -1});"
   ]
  },
  {
   "cell_type": "markdown",
   "id": "205de755",
   "metadata": {},
   "source": [
    "We can check that this representation is valid"
   ]
  },
  {
   "cell_type": "code",
   "execution_count": 14,
   "id": "ca10ad3c",
   "metadata": {
    "execution": {
     "iopub.execute_input": "2021-12-28T10:52:41.895201Z",
     "iopub.status.busy": "2021-12-28T10:52:41.894783Z",
     "iopub.status.idle": "2021-12-28T10:52:41.915325Z",
     "shell.execute_reply": "2021-12-28T10:52:41.914976Z"
    }
   },
   "outputs": [
    {
     "name": "stdout",
     "output_type": "stream",
     "text": [
      "error: 'parRep' undefined near line 1, column 1\r\n"
     ]
    },
    {
     "name": "stdout",
     "output_type": "stream",
     "text": [
      "error: 'parRep' undefined near line 1, column 1\r\n"
     ]
    },
    {
     "name": "stdout",
     "output_type": "stream",
     "text": [
      "error: 'image1' undefined near line 1, column 1\r\n"
     ]
    },
    {
     "name": "stdout",
     "output_type": "stream",
     "text": [
      "error: 'parRep' undefined near line 1, column 1\r\n"
     ]
    }
   ],
   "source": [
    "image1 = parRep.image(element1)\n",
    "image2 = parRep.image(element2)\n",
    "image1*image2\n",
    "parRep.image(S3.compose(element1, element2))"
   ]
  },
  {
   "cell_type": "markdown",
   "id": "debdb772",
   "metadata": {},
   "source": [
    "The parity of each binary permutation ``[2 1 3]`` and ``[1 3 2]`` is $-1$, and their product, the cycle [2 3 1], has parity $1$.\n",
    "\n",
    "Clearly, this representation carries some information about the group, namely the parity, but some elements have the same image:"
   ]
  },
  {
   "cell_type": "code",
   "execution_count": 15,
   "id": "646ac887",
   "metadata": {
    "execution": {
     "iopub.execute_input": "2021-12-28T10:52:41.917737Z",
     "iopub.status.busy": "2021-12-28T10:52:41.917323Z",
     "iopub.status.idle": "2021-12-28T10:52:41.929203Z",
     "shell.execute_reply": "2021-12-28T10:52:41.928825Z"
    }
   },
   "outputs": [
    {
     "name": "stdout",
     "output_type": "stream",
     "text": [
      "error: invalid call to script /github/workspace/generated/sphinx/tutorials/S3.m\r\n",
      "error: called from\r\n",
      "    S3\r\n"
     ]
    },
    {
     "name": "stdout",
     "output_type": "stream",
     "text": [
      "error: 'allElements' undefined near line 1, column 1\r\n"
     ]
    }
   ],
   "source": [
    "allElements = S3.elements;\n",
    "for i = 1:length(allElements)\n",
    "disp(['Image of [', num2str(allElements{i}), '] : ', num2str(parRep.image(allElements{i}))]);\n",
    "end"
   ]
  },
  {
   "cell_type": "markdown",
   "id": "74315651",
   "metadata": {},
   "source": [
    "Therefore, this representation is not *faithful*.\n",
    "\n",
    "## The trivial representation of S(3)\n",
    "An even simpler representation of the group S(n) is one in which the image of all elements is set to $1$. This is called the *trivial representation*.\n",
    "\n",
    "It can be constructed similarly from the image of the generators:"
   ]
  },
  {
   "cell_type": "code",
   "execution_count": 16,
   "id": "d3054dae",
   "metadata": {
    "execution": {
     "iopub.execute_input": "2021-12-28T10:52:41.931645Z",
     "iopub.status.busy": "2021-12-28T10:52:41.931231Z",
     "iopub.status.idle": "2021-12-28T10:52:41.936686Z",
     "shell.execute_reply": "2021-12-28T10:52:41.936340Z"
    }
   },
   "outputs": [
    {
     "name": "stdout",
     "output_type": "stream",
     "text": [
      "error: invalid call to script /github/workspace/generated/sphinx/tutorials/S3.m\r\n",
      "error: called from\r\n",
      "    S3\r\n"
     ]
    }
   ],
   "source": [
    "trivRep = S3.repByImages('R', d, 'preimages', S3.generators, 'images', {1 1});"
   ]
  },
  {
   "cell_type": "markdown",
   "id": "d5e0ea47",
   "metadata": {},
   "source": [
    "This time, the group law is trivially satisfied since all images are indeed equal to $1$:"
   ]
  },
  {
   "cell_type": "code",
   "execution_count": 17,
   "id": "91b5551d",
   "metadata": {
    "execution": {
     "iopub.execute_input": "2021-12-28T10:52:41.939069Z",
     "iopub.status.busy": "2021-12-28T10:52:41.938653Z",
     "iopub.status.idle": "2021-12-28T10:52:41.948327Z",
     "shell.execute_reply": "2021-12-28T10:52:41.948650Z"
    }
   },
   "outputs": [
    {
     "name": "stdout",
     "output_type": "stream",
     "text": [
      "error: 'allElements' undefined near line 1, column 1\r\n"
     ]
    }
   ],
   "source": [
    "for i = 1:length(allElements)\n",
    "disp(['Image of [', num2str(allElements{i}), '] : ', num2str(trivRep.image(allElements{i}))]);\n",
    "end"
   ]
  },
  {
   "cell_type": "markdown",
   "id": "a28ec4b1",
   "metadata": {},
   "source": [
    "## Direct sum of representation of S(3)\n",
    "\n",
    "We have seen that a group can admit several representations. Any two representations of a group in dimension $d_1$ and $d_2$ can be joined\n",
    "together by taking their *direct sum* in order to create a new valid representation in dimension $d_1 + d_2$.\n",
    "\n",
    "For instance, we can construct a $4$-dimensional representation of S(3) by taking the direct sum of the natural representation with the parity\n",
    "representation"
   ]
  },
  {
   "cell_type": "code",
   "execution_count": 18,
   "id": "9b7a6506",
   "metadata": {
    "execution": {
     "iopub.execute_input": "2021-12-28T10:52:41.950912Z",
     "iopub.status.busy": "2021-12-28T10:52:41.950482Z",
     "iopub.status.idle": "2021-12-28T10:52:41.958630Z",
     "shell.execute_reply": "2021-12-28T10:52:41.958274Z"
    }
   },
   "outputs": [
    {
     "name": "stdout",
     "output_type": "stream",
     "text": [
      "error: 'natRep' undefined near line 1, column 1\r\n"
     ]
    }
   ],
   "source": [
    "newRep = blkdiag(natRep, parRep)"
   ]
  },
  {
   "cell_type": "markdown",
   "id": "d3455b3f",
   "metadata": {},
   "source": [
    "The images are then $4 \\times 4$ matrices"
   ]
  },
  {
   "cell_type": "code",
   "execution_count": 19,
   "id": "d0ce0f57",
   "metadata": {
    "execution": {
     "iopub.execute_input": "2021-12-28T10:52:41.961140Z",
     "iopub.status.busy": "2021-12-28T10:52:41.960723Z",
     "iopub.status.idle": "2021-12-28T10:52:41.972625Z",
     "shell.execute_reply": "2021-12-28T10:52:41.972259Z"
    }
   },
   "outputs": [
    {
     "name": "stdout",
     "output_type": "stream",
     "text": [
      "error: 'newRep' undefined near line 1, column 1\r\n"
     ]
    },
    {
     "name": "stdout",
     "output_type": "stream",
     "text": [
      "error: 'newRep' undefined near line 1, column 1\r\n"
     ]
    }
   ],
   "source": [
    "newRep.image(element1)\n",
    "newRep.image(element2)"
   ]
  },
  {
   "cell_type": "markdown",
   "id": "1f8601c7",
   "metadata": {},
   "source": [
    "As expected, the images have a block diagonal structure. The properties\n",
    "of a direct sum representation are thus captured by the properties of\n",
    "the representation in each block. Such a representation is *reducible*.\n",
    "\n",
    "## Irreducible representations of S(3)\n",
    "\n",
    "Given a representation, it is not always obvious whether it is the direct\n",
    "sum of more fundamental representations or if the representation is\n",
    "*irreducible*. For instance, the images of the natural representation\n",
    "introduced above are not obviously block-diagonal. Yet, this\n",
    "representation is also reducible. To see this, one needs to find a basis\n",
    "of the vector space $R^d$ in which the images have a block diagonal\n",
    "structure.\n",
    "\n",
    "This can be achieved in *RepLAB* by decomposing the representation"
   ]
  },
  {
   "cell_type": "code",
   "execution_count": 20,
   "id": "d618487c",
   "metadata": {
    "execution": {
     "iopub.execute_input": "2021-12-28T10:52:41.975000Z",
     "iopub.status.busy": "2021-12-28T10:52:41.974581Z",
     "iopub.status.idle": "2021-12-28T10:52:41.987602Z",
     "shell.execute_reply": "2021-12-28T10:52:41.987212Z"
    }
   },
   "outputs": [
    {
     "name": "stdout",
     "output_type": "stream",
     "text": [
      "error: 'natRep' undefined near line 1, column 1\r\n"
     ]
    },
    {
     "name": "stdout",
     "output_type": "stream",
     "text": [
      "error: 'natDec' undefined near line 1, column 1\r\n"
     ]
    }
   ],
   "source": [
    "natDec = natRep.decomposition.nice;\n",
    "natDec.nComponents"
   ]
  },
  {
   "cell_type": "markdown",
   "id": "027bf122",
   "metadata": {},
   "source": [
    "This shows that the defininig representation of $S_3$ has two *irreducible components*, of dimension $1$ and $2$ respectively:"
   ]
  },
  {
   "cell_type": "code",
   "execution_count": 21,
   "id": "cc43150a",
   "metadata": {
    "execution": {
     "iopub.execute_input": "2021-12-28T10:52:41.990091Z",
     "iopub.status.busy": "2021-12-28T10:52:41.989653Z",
     "iopub.status.idle": "2021-12-28T10:52:42.001124Z",
     "shell.execute_reply": "2021-12-28T10:52:42.001467Z"
    }
   },
   "outputs": [
    {
     "name": "stdout",
     "output_type": "stream",
     "text": [
      "error: 'natDec' undefined near line 1, column 1\r\n"
     ]
    },
    {
     "name": "stdout",
     "output_type": "stream",
     "text": [
      "error: 'natDec' undefined near line 1, column 1\r\n"
     ]
    }
   ],
   "source": [
    "natDec.component(1).irrepDimension\n",
    "natDec.component(2).irrepDimension"
   ]
  },
  {
   "cell_type": "markdown",
   "id": "c41fe7ce",
   "metadata": {},
   "source": [
    "The decomposition also provides the change of basis matrix which makes |this decomposition apparent"
   ]
  },
  {
   "cell_type": "code",
   "execution_count": 22,
   "id": "752d3cd5",
   "metadata": {
    "execution": {
     "iopub.execute_input": "2021-12-28T10:52:42.003735Z",
     "iopub.status.busy": "2021-12-28T10:52:42.003319Z",
     "iopub.status.idle": "2021-12-28T10:52:42.011276Z",
     "shell.execute_reply": "2021-12-28T10:52:42.010929Z"
    }
   },
   "outputs": [
    {
     "name": "stdout",
     "output_type": "stream",
     "text": [
      "error: 'natDec' undefined near line 1, column 1\r\n"
     ]
    }
   ],
   "source": [
    "basis = natDec.basis"
   ]
  },
  {
   "cell_type": "markdown",
   "id": "bc4e3805",
   "metadata": {},
   "source": [
    "The images of the two elements of $S_3$, ``[2 1 3]`` and ``[1 3 2]`` are indeed block-diagonal in this basis:"
   ]
  },
  {
   "cell_type": "code",
   "execution_count": 23,
   "id": "3dc0f5e1",
   "metadata": {
    "execution": {
     "iopub.execute_input": "2021-12-28T10:52:42.013667Z",
     "iopub.status.busy": "2021-12-28T10:52:42.013248Z",
     "iopub.status.idle": "2021-12-28T10:52:42.024803Z",
     "shell.execute_reply": "2021-12-28T10:52:42.024431Z"
    }
   },
   "outputs": [
    {
     "name": "stdout",
     "output_type": "stream",
     "text": [
      "error: 'basis' undefined near line 1, column 1\r\n"
     ]
    },
    {
     "name": "stdout",
     "output_type": "stream",
     "text": [
      "error: 'basis' undefined near line 1, column 1\r\n"
     ]
    }
   ],
   "source": [
    "inv(basis)*natRep.image(element1)*basis\n",
    "inv(basis)*natRep.image(element2)*basis"
   ]
  },
  {
   "cell_type": "markdown",
   "id": "f17c31c0",
   "metadata": {},
   "source": [
    "## Summary\n",
    "\n",
    "This shows that the natural representation of S(3) contains\n",
    "\n",
    "* One copy of the trivial representation of S(3)\n",
    "* One copy of the a faithful 2 x 2 representation of S(3)"
   ]
  }
 ],
 "metadata": {
  "jupytext": {
   "cell_metadata_filter": "-all",
   "main_language": "matlab",
   "notebook_metadata_filter": "-all",
   "text_representation": {
    "extension": ".m",
    "format_name": "light"
   }
  },
  "language_info": {
   "file_extension": ".m",
   "help_links": [
    {
     "text": "GNU Octave",
     "url": "https://www.gnu.org/software/octave/support.html"
    },
    {
     "text": "Octave Kernel",
     "url": "https://github.com/Calysto/octave_kernel"
    },
    {
     "text": "MetaKernel Magics",
     "url": "https://metakernel.readthedocs.io/en/latest/source/README.html"
    }
   ],
   "mimetype": "text/x-octave",
   "name": "octave",
   "version": "6.2.0"
  }
 },
 "nbformat": 4,
 "nbformat_minor": 5
}
