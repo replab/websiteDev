{
 "cells": [
  {
   "cell_type": "markdown",
   "id": "723c849b",
   "metadata": {},
   "source": [
    "# Tutorial for mathematicians\n",
    "\n",
    "The symmetric group $S_n$ is group of primary importance. Here, we consider this group for $n=3$ and discuss several of its representations with *RepLAB*.\n",
    "\n",
    "Before trying any of the *RepLAB* commands, we must initialize the library:"
   ]
  },
  {
   "cell_type": "code",
   "execution_count": 1,
   "id": "d0a2f2fa",
   "metadata": {
    "execution": {
     "iopub.execute_input": "2021-12-28T11:53:16.438026Z",
     "iopub.status.busy": "2021-12-28T11:53:16.437494Z",
     "iopub.status.idle": "2021-12-28T11:53:16.462037Z",
     "shell.execute_reply": "2021-12-28T11:53:16.461254Z"
    }
   },
   "outputs": [
    {
     "name": "stdout",
     "output_type": "stream",
     "text": [
      "error: 'replab_init' undefined near line 1, column 1\r\n"
     ]
    }
   ],
   "source": [
    "addpath([pwd, '/../..']);\n",
    "replab_init('verbose', 0);"
   ]
  },
  {
   "cell_type": "markdown",
   "id": "7fecb479",
   "metadata": {},
   "source": [
    "## The symmetric group\n",
    "\n",
    "Consider $n$ distinct elements, numbered $1,2,\\ldots,n$. The symmetric group describes all possible ways in which these elements can be permuted.\n",
    "\n",
    "With $n=3$, for instance, two possible arrangements are"
   ]
  },
  {
   "cell_type": "code",
   "execution_count": 2,
   "id": "37ca8b9b",
   "metadata": {
    "execution": {
     "iopub.execute_input": "2021-12-28T11:53:16.464606Z",
     "iopub.status.busy": "2021-12-28T11:53:16.464185Z",
     "iopub.status.idle": "2021-12-28T11:53:16.470706Z",
     "shell.execute_reply": "2021-12-28T11:53:16.470014Z"
    }
   },
   "outputs": [],
   "source": [
    "[1 2 3];"
   ]
  },
  {
   "cell_type": "markdown",
   "id": "c1a91220",
   "metadata": {},
   "source": [
    "and"
   ]
  },
  {
   "cell_type": "code",
   "execution_count": 3,
   "id": "d29b046e",
   "metadata": {
    "execution": {
     "iopub.execute_input": "2021-12-28T11:53:16.473362Z",
     "iopub.status.busy": "2021-12-28T11:53:16.472666Z",
     "iopub.status.idle": "2021-12-28T11:53:16.478916Z",
     "shell.execute_reply": "2021-12-28T11:53:16.478569Z"
    }
   },
   "outputs": [],
   "source": [
    "[1 3 2];"
   ]
  },
  {
   "cell_type": "markdown",
   "id": "475d8d20",
   "metadata": {},
   "source": [
    "In general there are $n!$ such arrangements (i.e. $6$ arrangements for $n=3$).\n",
    "\n",
    "In *RepLAB*, the symmetric group can be constructed with a simple command"
   ]
  },
  {
   "cell_type": "code",
   "execution_count": 4,
   "id": "aa1679ac",
   "metadata": {
    "execution": {
     "iopub.execute_input": "2021-12-28T11:53:16.481529Z",
     "iopub.status.busy": "2021-12-28T11:53:16.481112Z",
     "iopub.status.idle": "2021-12-28T11:53:16.490141Z",
     "shell.execute_reply": "2021-12-28T11:53:16.490460Z"
    }
   },
   "outputs": [
    {
     "name": "stdout",
     "output_type": "stream",
     "text": [
      "error: 'replab' undefined near line 1, column 1\r\n"
     ]
    }
   ],
   "source": [
    "n = 3;\n",
    "S3 = replab.S(n);"
   ]
  },
  {
   "cell_type": "markdown",
   "id": "be61e5f1",
   "metadata": {},
   "source": [
    "The elements of the group can be easily listed"
   ]
  },
  {
   "cell_type": "code",
   "execution_count": 5,
   "id": "55c938bb",
   "metadata": {
    "execution": {
     "iopub.execute_input": "2021-12-28T11:53:16.493067Z",
     "iopub.status.busy": "2021-12-28T11:53:16.492642Z",
     "iopub.status.idle": "2021-12-28T11:53:16.499813Z",
     "shell.execute_reply": "2021-12-28T11:53:16.499385Z"
    }
   },
   "outputs": [
    {
     "name": "stdout",
     "output_type": "stream",
     "text": [
      "error: invalid call to script /github/workspace/generated/sphinx/tutorials/S3.m\r\n",
      "error: called from\r\n",
      "    S3\r\n"
     ]
    }
   ],
   "source": [
    "S3.elements"
   ]
  },
  {
   "cell_type": "markdown",
   "id": "2fcc2256",
   "metadata": {},
   "source": [
    "The number of elements is the order of the group"
   ]
  },
  {
   "cell_type": "code",
   "execution_count": 6,
   "id": "f4dd3f52",
   "metadata": {
    "execution": {
     "iopub.execute_input": "2021-12-28T11:53:16.502163Z",
     "iopub.status.busy": "2021-12-28T11:53:16.501712Z",
     "iopub.status.idle": "2021-12-28T11:53:16.507246Z",
     "shell.execute_reply": "2021-12-28T11:53:16.506911Z"
    }
   },
   "outputs": [
    {
     "name": "stdout",
     "output_type": "stream",
     "text": [
      "error: invalid call to script /github/workspace/generated/sphinx/tutorials/S3.m\r\n",
      "error: called from\r\n",
      "    S3\r\n"
     ]
    }
   ],
   "source": [
    "S3.order"
   ]
  },
  {
   "cell_type": "markdown",
   "id": "9e69e4d5",
   "metadata": {},
   "source": [
    "As we see, permutations are represented by row-vectors with an arrangement of the elements $1,\\ldots,n$.\n",
    "\n",
    "The group structure defines how elements of the group compose with each other.\n",
    "For instance, permuting the first two elements in $1,2,3$, followed by a permutation of the second and third elements results in a cyclic permutation:"
   ]
  },
  {
   "cell_type": "code",
   "execution_count": 7,
   "id": "f993d054",
   "metadata": {
    "execution": {
     "iopub.execute_input": "2021-12-28T11:53:16.509764Z",
     "iopub.status.busy": "2021-12-28T11:53:16.509319Z",
     "iopub.status.idle": "2021-12-28T11:53:16.517402Z",
     "shell.execute_reply": "2021-12-28T11:53:16.517066Z"
    }
   },
   "outputs": [
    {
     "name": "stdout",
     "output_type": "stream",
     "text": [
      "error: invalid call to script /github/workspace/generated/sphinx/tutorials/S3.m\r\n",
      "error: called from\r\n",
      "    S3\r\n"
     ]
    }
   ],
   "source": [
    "element1 = [2 1 3];\n",
    "element2 = [1 3 2];\n",
    "S3.compose(element1, element2)"
   ]
  },
  {
   "cell_type": "markdown",
   "id": "d26aced1",
   "metadata": {},
   "source": [
    "## The natural representation of S(3)\n",
    "\n",
    "A group can always be represented by matrices of finite dimension. In a $d$-dimensional matrix representation, each group element is associated with a $d \\times d$ matrix called the image of the group\n",
    "element. The action of matrix multiplication on the images then reflects the group composition rule.\n",
    "\n",
    "Several matrix representations are possible for the same group, possibly in various dimension $d$. Here, we are going to explore some representations of the group $S_3$\n",
    "\n",
    "When seeing the group as a permutation within $n$ elements, a natural choice of representation arises in dimension $d=n$, where the permutation\n",
    "is applied to the coordinates of the vector space $R^n$. This is called the *natural representation* of a group. It can be constructed easily:"
   ]
  },
  {
   "cell_type": "code",
   "execution_count": 8,
   "id": "c18e8053",
   "metadata": {
    "execution": {
     "iopub.execute_input": "2021-12-28T11:53:16.519785Z",
     "iopub.status.busy": "2021-12-28T11:53:16.519382Z",
     "iopub.status.idle": "2021-12-28T11:53:16.524754Z",
     "shell.execute_reply": "2021-12-28T11:53:16.524418Z"
    }
   },
   "outputs": [
    {
     "name": "stdout",
     "output_type": "stream",
     "text": [
      "error: invalid call to script /github/workspace/generated/sphinx/tutorials/S3.m\r\n",
      "error: called from\r\n",
      "    S3\r\n"
     ]
    }
   ],
   "source": [
    "natRep = S3.naturalRep;"
   ]
  },
  {
   "cell_type": "markdown",
   "id": "3e74ab9c",
   "metadata": {},
   "source": [
    "The image of a group element in this representation can be extracted"
   ]
  },
  {
   "cell_type": "code",
   "execution_count": 9,
   "id": "7c8366a9",
   "metadata": {
    "execution": {
     "iopub.execute_input": "2021-12-28T11:53:16.527241Z",
     "iopub.status.busy": "2021-12-28T11:53:16.526837Z",
     "iopub.status.idle": "2021-12-28T11:53:16.534600Z",
     "shell.execute_reply": "2021-12-28T11:53:16.534912Z"
    }
   },
   "outputs": [
    {
     "name": "stdout",
     "output_type": "stream",
     "text": [
      "error: 'natRep' undefined near line 1, column 1\r\n"
     ]
    }
   ],
   "source": [
    "natRep.image([2 1 3])"
   ]
  },
  {
   "cell_type": "markdown",
   "id": "f836995e",
   "metadata": {},
   "source": [
    "We see that the matrices representing the group elements are $n \\times n$ permutation matrices, which simply apply the permutation to the coordinates of the vector space $R^n$.\n",
    "\n",
    "For a representation to be valid, the images must follow the structure of the group:"
   ]
  },
  {
   "cell_type": "code",
   "execution_count": 10,
   "id": "48d17343",
   "metadata": {
    "execution": {
     "iopub.execute_input": "2021-12-28T11:53:16.537348Z",
     "iopub.status.busy": "2021-12-28T11:53:16.536940Z",
     "iopub.status.idle": "2021-12-28T11:53:16.557580Z",
     "shell.execute_reply": "2021-12-28T11:53:16.557201Z"
    }
   },
   "outputs": [
    {
     "name": "stdout",
     "output_type": "stream",
     "text": [
      "error: 'natRep' undefined near line 1, column 1\r\n"
     ]
    },
    {
     "name": "stdout",
     "output_type": "stream",
     "text": [
      "error: 'natRep' undefined near line 1, column 1\r\n"
     ]
    },
    {
     "name": "stdout",
     "output_type": "stream",
     "text": [
      "error: 'image1' undefined near line 1, column 1\r\n"
     ]
    },
    {
     "name": "stdout",
     "output_type": "stream",
     "text": [
      "error: 'natRep' undefined near line 1, column 1\r\n"
     ]
    }
   ],
   "source": [
    "image1 = natRep.image(element1);\n",
    "image2 = natRep.image(element2);\n",
    "image1*image2\n",
    "natRep.image(S3.compose(element1, element2))"
   ]
  },
  {
   "cell_type": "markdown",
   "id": "15b3f486",
   "metadata": {},
   "source": [
    "We see that the image of the product of elements is indeed the product of the images of the respective elements, i.e. the algebra of matrices\n",
    "acting on the representation images accurately reflects the group algebra.\n",
    "\n",
    "It can be checked, moreover, that the natural representation is faithful, i.e. each group element has its own distinct image. This needs\n",
    "not always be the case as in the following two examples.\n",
    "\n",
    "## The parity representation of $S_3$\n",
    "\n",
    "To construct an arbitrary group representation in *RepLAB*, it is sufficient to provide the image of the generators of the group. The group $S_3$ has two generators:"
   ]
  },
  {
   "cell_type": "code",
   "execution_count": 11,
   "id": "6fbfca0d",
   "metadata": {
    "execution": {
     "iopub.execute_input": "2021-12-28T11:53:16.560071Z",
     "iopub.status.busy": "2021-12-28T11:53:16.559661Z",
     "iopub.status.idle": "2021-12-28T11:53:16.569155Z",
     "shell.execute_reply": "2021-12-28T11:53:16.568766Z"
    }
   },
   "outputs": [
    {
     "name": "stdout",
     "output_type": "stream",
     "text": [
      "error: invalid call to script /github/workspace/generated/sphinx/tutorials/S3.m\r\n",
      "error: called from\r\n",
      "    S3\r\n"
     ]
    },
    {
     "name": "stdout",
     "output_type": "stream",
     "text": [
      "error: 'generators' undefined near line 1, column 1\r\n"
     ]
    }
   ],
   "source": [
    "generators = S3.generators;\n",
    "generators{:}"
   ]
  },
  {
   "cell_type": "markdown",
   "id": "0267865a",
   "metadata": {},
   "source": [
    "Let us construct a representation of this group in dimension"
   ]
  },
  {
   "cell_type": "code",
   "execution_count": 12,
   "id": "9956b97c",
   "metadata": {
    "execution": {
     "iopub.execute_input": "2021-12-28T11:53:16.571600Z",
     "iopub.status.busy": "2021-12-28T11:53:16.571194Z",
     "iopub.status.idle": "2021-12-28T11:53:16.576199Z",
     "shell.execute_reply": "2021-12-28T11:53:16.575853Z"
    }
   },
   "outputs": [],
   "source": [
    "d = 1;"
   ]
  },
  {
   "cell_type": "markdown",
   "id": "f2265d87",
   "metadata": {},
   "source": [
    "associating the each generator its parity (i.e. either $+1$ or $-1$). Since the parity of [2 3 1] is 1 and the parity of [2 1 3] is -1, this is achieved by instantiating calling the *repByImages* methods on the group:"
   ]
  },
  {
   "cell_type": "code",
   "execution_count": 13,
   "id": "5c1920b1",
   "metadata": {
    "execution": {
     "iopub.execute_input": "2021-12-28T11:53:16.578691Z",
     "iopub.status.busy": "2021-12-28T11:53:16.578284Z",
     "iopub.status.idle": "2021-12-28T11:53:16.583766Z",
     "shell.execute_reply": "2021-12-28T11:53:16.583398Z"
    }
   },
   "outputs": [
    {
     "name": "stdout",
     "output_type": "stream",
     "text": [
      "error: invalid call to script /github/workspace/generated/sphinx/tutorials/S3.m\r\n",
      "error: called from\r\n",
      "    S3\r\n"
     ]
    }
   ],
   "source": [
    "parRep = S3.repByImages('R', d, 'preimages', S3.generators, 'images', {1 -1});"
   ]
  },
  {
   "cell_type": "markdown",
   "id": "f64e897f",
   "metadata": {},
   "source": [
    "We can check that this representation is valid"
   ]
  },
  {
   "cell_type": "code",
   "execution_count": 14,
   "id": "95df50bb",
   "metadata": {
    "execution": {
     "iopub.execute_input": "2021-12-28T11:53:16.586056Z",
     "iopub.status.busy": "2021-12-28T11:53:16.585615Z",
     "iopub.status.idle": "2021-12-28T11:53:16.606209Z",
     "shell.execute_reply": "2021-12-28T11:53:16.605854Z"
    }
   },
   "outputs": [
    {
     "name": "stdout",
     "output_type": "stream",
     "text": [
      "error: 'parRep' undefined near line 1, column 1\r\n"
     ]
    },
    {
     "name": "stdout",
     "output_type": "stream",
     "text": [
      "error: 'parRep' undefined near line 1, column 1\r\n"
     ]
    },
    {
     "name": "stdout",
     "output_type": "stream",
     "text": [
      "error: 'image1' undefined near line 1, column 1\r\n"
     ]
    },
    {
     "name": "stdout",
     "output_type": "stream",
     "text": [
      "error: 'parRep' undefined near line 1, column 1\r\n"
     ]
    }
   ],
   "source": [
    "image1 = parRep.image(element1)\n",
    "image2 = parRep.image(element2)\n",
    "image1*image2\n",
    "parRep.image(S3.compose(element1, element2))"
   ]
  },
  {
   "cell_type": "markdown",
   "id": "c394bbc3",
   "metadata": {},
   "source": [
    "The parity of each binary permutation ``[2 1 3]`` and ``[1 3 2]`` is $-1$, and their product, the cycle [2 3 1], has parity $1$.\n",
    "\n",
    "Clearly, this representation carries some information about the group, namely the parity, but some elements have the same image:"
   ]
  },
  {
   "cell_type": "code",
   "execution_count": 15,
   "id": "da10ab26",
   "metadata": {
    "execution": {
     "iopub.execute_input": "2021-12-28T11:53:16.608569Z",
     "iopub.status.busy": "2021-12-28T11:53:16.608150Z",
     "iopub.status.idle": "2021-12-28T11:53:16.620363Z",
     "shell.execute_reply": "2021-12-28T11:53:16.619997Z"
    }
   },
   "outputs": [
    {
     "name": "stdout",
     "output_type": "stream",
     "text": [
      "error: invalid call to script /github/workspace/generated/sphinx/tutorials/S3.m\r\n",
      "error: called from\r\n",
      "    S3\r\n"
     ]
    },
    {
     "name": "stdout",
     "output_type": "stream",
     "text": [
      "error: 'allElements' undefined near line 1, column 1\r\n"
     ]
    }
   ],
   "source": [
    "allElements = S3.elements;\n",
    "for i = 1:length(allElements)\n",
    "disp(['Image of [', num2str(allElements{i}), '] : ', num2str(parRep.image(allElements{i}))]);\n",
    "end"
   ]
  },
  {
   "cell_type": "markdown",
   "id": "30b991b9",
   "metadata": {},
   "source": [
    "Therefore, this representation is not *faithful*.\n",
    "\n",
    "## The trivial representation of S(3)\n",
    "An even simpler representation of the group S(n) is one in which the image of all elements is set to $1$. This is called the *trivial representation*.\n",
    "\n",
    "It can be constructed similarly from the image of the generators:"
   ]
  },
  {
   "cell_type": "code",
   "execution_count": 16,
   "id": "2e5b4e0d",
   "metadata": {
    "execution": {
     "iopub.execute_input": "2021-12-28T11:53:16.622975Z",
     "iopub.status.busy": "2021-12-28T11:53:16.622374Z",
     "iopub.status.idle": "2021-12-28T11:53:16.628244Z",
     "shell.execute_reply": "2021-12-28T11:53:16.627879Z"
    }
   },
   "outputs": [
    {
     "name": "stdout",
     "output_type": "stream",
     "text": [
      "error: invalid call to script /github/workspace/generated/sphinx/tutorials/S3.m\r\n",
      "error: called from\r\n",
      "    S3\r\n"
     ]
    }
   ],
   "source": [
    "trivRep = S3.repByImages('R', d, 'preimages', S3.generators, 'images', {1 1});"
   ]
  },
  {
   "cell_type": "markdown",
   "id": "e1a5bd23",
   "metadata": {},
   "source": [
    "This time, the group law is trivially satisfied since all images are indeed equal to $1$:"
   ]
  },
  {
   "cell_type": "code",
   "execution_count": 17,
   "id": "3e10a262",
   "metadata": {
    "execution": {
     "iopub.execute_input": "2021-12-28T11:53:16.630495Z",
     "iopub.status.busy": "2021-12-28T11:53:16.630079Z",
     "iopub.status.idle": "2021-12-28T11:53:16.640411Z",
     "shell.execute_reply": "2021-12-28T11:53:16.640061Z"
    }
   },
   "outputs": [
    {
     "name": "stdout",
     "output_type": "stream",
     "text": [
      "error: 'allElements' undefined near line 1, column 1\r\n"
     ]
    }
   ],
   "source": [
    "for i = 1:length(allElements)\n",
    "disp(['Image of [', num2str(allElements{i}), '] : ', num2str(trivRep.image(allElements{i}))]);\n",
    "end"
   ]
  },
  {
   "cell_type": "markdown",
   "id": "47f509cd",
   "metadata": {},
   "source": [
    "## Direct sum of representation of S(3)\n",
    "\n",
    "We have seen that a group can admit several representations. Any two representations of a group in dimension $d_1$ and $d_2$ can be joined\n",
    "together by taking their *direct sum* in order to create a new valid representation in dimension $d_1 + d_2$.\n",
    "\n",
    "For instance, we can construct a $4$-dimensional representation of S(3) by taking the direct sum of the natural representation with the parity\n",
    "representation"
   ]
  },
  {
   "cell_type": "code",
   "execution_count": 18,
   "id": "46413e5f",
   "metadata": {
    "execution": {
     "iopub.execute_input": "2021-12-28T11:53:16.642943Z",
     "iopub.status.busy": "2021-12-28T11:53:16.642532Z",
     "iopub.status.idle": "2021-12-28T11:53:16.650375Z",
     "shell.execute_reply": "2021-12-28T11:53:16.649992Z"
    }
   },
   "outputs": [
    {
     "name": "stdout",
     "output_type": "stream",
     "text": [
      "error: 'natRep' undefined near line 1, column 1\r\n"
     ]
    }
   ],
   "source": [
    "newRep = blkdiag(natRep, parRep)"
   ]
  },
  {
   "cell_type": "markdown",
   "id": "d56bbb31",
   "metadata": {},
   "source": [
    "The images are then $4 \\times 4$ matrices"
   ]
  },
  {
   "cell_type": "code",
   "execution_count": 19,
   "id": "caf08cfa",
   "metadata": {
    "execution": {
     "iopub.execute_input": "2021-12-28T11:53:16.652608Z",
     "iopub.status.busy": "2021-12-28T11:53:16.652191Z",
     "iopub.status.idle": "2021-12-28T11:53:16.664406Z",
     "shell.execute_reply": "2021-12-28T11:53:16.664061Z"
    }
   },
   "outputs": [
    {
     "name": "stdout",
     "output_type": "stream",
     "text": [
      "error: 'newRep' undefined near line 1, column 1\r\n"
     ]
    },
    {
     "name": "stdout",
     "output_type": "stream",
     "text": [
      "error: 'newRep' undefined near line 1, column 1\r\n"
     ]
    }
   ],
   "source": [
    "newRep.image(element1)\n",
    "newRep.image(element2)"
   ]
  },
  {
   "cell_type": "markdown",
   "id": "944ffad2",
   "metadata": {},
   "source": [
    "As expected, the images have a block diagonal structure. The properties\n",
    "of a direct sum representation are thus captured by the properties of\n",
    "the representation in each block. Such a representation is *reducible*.\n",
    "\n",
    "## Irreducible representations of S(3)\n",
    "\n",
    "Given a representation, it is not always obvious whether it is the direct\n",
    "sum of more fundamental representations or if the representation is\n",
    "*irreducible*. For instance, the images of the natural representation\n",
    "introduced above are not obviously block-diagonal. Yet, this\n",
    "representation is also reducible. To see this, one needs to find a basis\n",
    "of the vector space $R^d$ in which the images have a block diagonal\n",
    "structure.\n",
    "\n",
    "This can be achieved in *RepLAB* by decomposing the representation"
   ]
  },
  {
   "cell_type": "code",
   "execution_count": 20,
   "id": "e0c372c7",
   "metadata": {
    "execution": {
     "iopub.execute_input": "2021-12-28T11:53:16.666830Z",
     "iopub.status.busy": "2021-12-28T11:53:16.666420Z",
     "iopub.status.idle": "2021-12-28T11:53:16.678304Z",
     "shell.execute_reply": "2021-12-28T11:53:16.677940Z"
    }
   },
   "outputs": [
    {
     "name": "stdout",
     "output_type": "stream",
     "text": [
      "error: 'natRep' undefined near line 1, column 1\r\n"
     ]
    },
    {
     "name": "stdout",
     "output_type": "stream",
     "text": [
      "error: 'natDec' undefined near line 1, column 1\r\n"
     ]
    }
   ],
   "source": [
    "natDec = natRep.decomposition.nice;\n",
    "natDec.nComponents"
   ]
  },
  {
   "cell_type": "markdown",
   "id": "fcdb227e",
   "metadata": {},
   "source": [
    "This shows that the defininig representation of $S_3$ has two *irreducible components*, of dimension $1$ and $2$ respectively:"
   ]
  },
  {
   "cell_type": "code",
   "execution_count": 21,
   "id": "bcff881c",
   "metadata": {
    "execution": {
     "iopub.execute_input": "2021-12-28T11:53:16.680810Z",
     "iopub.status.busy": "2021-12-28T11:53:16.680398Z",
     "iopub.status.idle": "2021-12-28T11:53:16.692367Z",
     "shell.execute_reply": "2021-12-28T11:53:16.692010Z"
    }
   },
   "outputs": [
    {
     "name": "stdout",
     "output_type": "stream",
     "text": [
      "error: 'natDec' undefined near line 1, column 1\r\n"
     ]
    },
    {
     "name": "stdout",
     "output_type": "stream",
     "text": [
      "error: 'natDec' undefined near line 1, column 1\r\n"
     ]
    }
   ],
   "source": [
    "natDec.component(1).irrepDimension\n",
    "natDec.component(2).irrepDimension"
   ]
  },
  {
   "cell_type": "markdown",
   "id": "c35bb683",
   "metadata": {},
   "source": [
    "The decomposition also provides the change of basis matrix which makes |this decomposition apparent"
   ]
  },
  {
   "cell_type": "code",
   "execution_count": 22,
   "id": "fc0a2a8f",
   "metadata": {
    "execution": {
     "iopub.execute_input": "2021-12-28T11:53:16.694881Z",
     "iopub.status.busy": "2021-12-28T11:53:16.694471Z",
     "iopub.status.idle": "2021-12-28T11:53:16.701985Z",
     "shell.execute_reply": "2021-12-28T11:53:16.702307Z"
    }
   },
   "outputs": [
    {
     "name": "stdout",
     "output_type": "stream",
     "text": [
      "error: 'natDec' undefined near line 1, column 1\r\n"
     ]
    }
   ],
   "source": [
    "basis = natDec.basis"
   ]
  },
  {
   "cell_type": "markdown",
   "id": "04aead3c",
   "metadata": {},
   "source": [
    "The images of the two elements of $S_3$, ``[2 1 3]`` and ``[1 3 2]`` are indeed block-diagonal in this basis:"
   ]
  },
  {
   "cell_type": "code",
   "execution_count": 23,
   "id": "a52ad402",
   "metadata": {
    "execution": {
     "iopub.execute_input": "2021-12-28T11:53:16.704903Z",
     "iopub.status.busy": "2021-12-28T11:53:16.704490Z",
     "iopub.status.idle": "2021-12-28T11:53:16.716245Z",
     "shell.execute_reply": "2021-12-28T11:53:16.715868Z"
    }
   },
   "outputs": [
    {
     "name": "stdout",
     "output_type": "stream",
     "text": [
      "error: 'basis' undefined near line 1, column 1\r\n"
     ]
    },
    {
     "name": "stdout",
     "output_type": "stream",
     "text": [
      "error: 'basis' undefined near line 1, column 1\r\n"
     ]
    }
   ],
   "source": [
    "inv(basis)*natRep.image(element1)*basis\n",
    "inv(basis)*natRep.image(element2)*basis"
   ]
  },
  {
   "cell_type": "markdown",
   "id": "54fd601d",
   "metadata": {},
   "source": [
    "## Summary\n",
    "\n",
    "This shows that the natural representation of S(3) contains\n",
    "\n",
    "* One copy of the trivial representation of S(3)\n",
    "* One copy of the a faithful 2 x 2 representation of S(3)"
   ]
  }
 ],
 "metadata": {
  "jupytext": {
   "cell_metadata_filter": "-all",
   "main_language": "matlab",
   "notebook_metadata_filter": "-all",
   "text_representation": {
    "extension": ".m",
    "format_name": "light"
   }
  },
  "language_info": {
   "file_extension": ".m",
   "help_links": [
    {
     "text": "GNU Octave",
     "url": "https://www.gnu.org/software/octave/support.html"
    },
    {
     "text": "Octave Kernel",
     "url": "https://github.com/Calysto/octave_kernel"
    },
    {
     "text": "MetaKernel Magics",
     "url": "https://metakernel.readthedocs.io/en/latest/source/README.html"
    }
   ],
   "mimetype": "text/x-octave",
   "name": "octave",
   "version": "6.2.0"
  }
 },
 "nbformat": 4,
 "nbformat_minor": 5
}
