{
 "cells": [
  {
   "cell_type": "markdown",
   "id": "e2aa1d5d",
   "metadata": {},
   "source": [
    "# Tutorial for mathematicians\n",
    "\n",
    "The symmetric group $S_n$ is group of primary importance. Here, we consider this group for $n=3$ and discuss several of its representations with *RepLAB*.\n",
    "\n",
    "Before trying any of the *RepLAB* commands, we must initialize the library:"
   ]
  },
  {
   "cell_type": "code",
   "execution_count": 1,
   "id": "85321f3e",
   "metadata": {
    "execution": {
     "iopub.execute_input": "2021-12-14T09:19:04.725245Z",
     "iopub.status.busy": "2021-12-14T09:19:04.724878Z",
     "iopub.status.idle": "2021-12-14T09:19:10.547305Z",
     "shell.execute_reply": "2021-12-14T09:19:10.546835Z"
    }
   },
   "outputs": [
    {
     "name": "stdout",
     "output_type": "stream",
     "text": [
      "replab_init: Initialization done.\r\n"
     ]
    }
   ],
   "source": [
    "addpath([pwd, '/../..']);\n",
    "replab_init('verbose', 0);"
   ]
  },
  {
   "cell_type": "markdown",
   "id": "d7eb0da1",
   "metadata": {},
   "source": [
    "## The symmetric group\n",
    "\n",
    "Consider $n$ distinct elements, numbered $1,2,\\ldots,n$. The symmetric group describes all possible ways in which these elements can be permuted.\n",
    "\n",
    "With $n=3$, for instance, two possible arrangements are"
   ]
  },
  {
   "cell_type": "code",
   "execution_count": 2,
   "id": "74e6bf0c",
   "metadata": {
    "execution": {
     "iopub.execute_input": "2021-12-14T09:19:10.550074Z",
     "iopub.status.busy": "2021-12-14T09:19:10.549427Z",
     "iopub.status.idle": "2021-12-14T09:19:10.561814Z",
     "shell.execute_reply": "2021-12-14T09:19:10.561455Z"
    }
   },
   "outputs": [],
   "source": [
    "[1 2 3];"
   ]
  },
  {
   "cell_type": "markdown",
   "id": "eb1318b3",
   "metadata": {},
   "source": [
    "and"
   ]
  },
  {
   "cell_type": "code",
   "execution_count": 3,
   "id": "75dfb4b5",
   "metadata": {
    "execution": {
     "iopub.execute_input": "2021-12-14T09:19:10.564520Z",
     "iopub.status.busy": "2021-12-14T09:19:10.564125Z",
     "iopub.status.idle": "2021-12-14T09:19:10.575458Z",
     "shell.execute_reply": "2021-12-14T09:19:10.575109Z"
    }
   },
   "outputs": [],
   "source": [
    "[1 3 2];"
   ]
  },
  {
   "cell_type": "markdown",
   "id": "449d7f9f",
   "metadata": {},
   "source": [
    "In general there are $n!$ such arrangements (i.e. $6$ arrangements for $n=3$).\n",
    "\n",
    "In *RepLAB*, the symmetric group can be constructed with a simple command"
   ]
  },
  {
   "cell_type": "code",
   "execution_count": 4,
   "id": "7b5505fc",
   "metadata": {
    "execution": {
     "iopub.execute_input": "2021-12-14T09:19:10.577865Z",
     "iopub.status.busy": "2021-12-14T09:19:10.577475Z",
     "iopub.status.idle": "2021-12-14T09:19:10.620739Z",
     "shell.execute_reply": "2021-12-14T09:19:10.620364Z"
    }
   },
   "outputs": [],
   "source": [
    "n = 3;\n",
    "S3 = replab.S(n);"
   ]
  },
  {
   "cell_type": "markdown",
   "id": "4348b711",
   "metadata": {},
   "source": [
    "The elements of the group can be easily listed"
   ]
  },
  {
   "cell_type": "code",
   "execution_count": 5,
   "id": "a83d0188",
   "metadata": {
    "execution": {
     "iopub.execute_input": "2021-12-14T09:19:10.623225Z",
     "iopub.status.busy": "2021-12-14T09:19:10.622611Z",
     "iopub.status.idle": "2021-12-14T09:19:10.663347Z",
     "shell.execute_reply": "2021-12-14T09:19:10.662991Z"
    }
   },
   "outputs": [
    {
     "name": "stdout",
     "output_type": "stream",
     "text": [
      "ans =\r\n",
      "{\r\n",
      "  [1,1] =\r\n",
      "\r\n",
      "     1   2   3\r\n",
      "\r\n",
      "  [1,2] =\r\n",
      "\r\n",
      "     1   3   2\r\n",
      "\r\n",
      "  [1,3] =\r\n",
      "\r\n",
      "     2   1   3\r\n",
      "\r\n",
      "  [1,4] =\r\n",
      "\r\n",
      "     2   3   1\r\n",
      "\r\n",
      "  [1,5] =\r\n",
      "\r\n",
      "     3   1   2\r\n",
      "\r\n",
      "  [1,6] =\r\n",
      "\r\n",
      "     3   2   1\r\n",
      "\r\n",
      "}\r\n",
      "\r\n"
     ]
    }
   ],
   "source": [
    "S3.elements"
   ]
  },
  {
   "cell_type": "markdown",
   "id": "45463b47",
   "metadata": {},
   "source": [
    "The number of elements is the order of the group"
   ]
  },
  {
   "cell_type": "code",
   "execution_count": 6,
   "id": "9ce54205",
   "metadata": {
    "execution": {
     "iopub.execute_input": "2021-12-14T09:19:10.665854Z",
     "iopub.status.busy": "2021-12-14T09:19:10.665455Z",
     "iopub.status.idle": "2021-12-14T09:19:10.679533Z",
     "shell.execute_reply": "2021-12-14T09:19:10.679179Z"
    }
   },
   "outputs": [
    {
     "name": "stdout",
     "output_type": "stream",
     "text": [
      "ans =\r\n",
      "    6\r\n"
     ]
    }
   ],
   "source": [
    "S3.order"
   ]
  },
  {
   "cell_type": "markdown",
   "id": "ef53be57",
   "metadata": {},
   "source": [
    "As we see, permutations are represented by row-vectors with an arrangement of the elements $1,\\ldots,n$.\n",
    "\n",
    "The group structure defines how elements of the group compose with each other.\n",
    "For instance, permuting the first two elements in $1,2,3$, followed by a permutation of the second and third elements results in a cyclic permutation:"
   ]
  },
  {
   "cell_type": "code",
   "execution_count": 7,
   "id": "ff33b312",
   "metadata": {
    "execution": {
     "iopub.execute_input": "2021-12-14T09:19:10.681914Z",
     "iopub.status.busy": "2021-12-14T09:19:10.681539Z",
     "iopub.status.idle": "2021-12-14T09:19:10.703374Z",
     "shell.execute_reply": "2021-12-14T09:19:10.702977Z"
    }
   },
   "outputs": [
    {
     "name": "stdout",
     "output_type": "stream",
     "text": [
      "ans =\r\n",
      "\r\n",
      "   2   3   1\r\n",
      "\r\n"
     ]
    }
   ],
   "source": [
    "element1 = [2 1 3];\n",
    "element2 = [1 3 2];\n",
    "S3.compose(element1, element2)"
   ]
  },
  {
   "cell_type": "markdown",
   "id": "bb879559",
   "metadata": {},
   "source": [
    "## The natural representation of S(3)\n",
    "\n",
    "A group can always be represented by matrices of finite dimension. In a $d$-dimensional matrix representation, each group element is associated with a $d \\times d$ matrix called the image of the group\n",
    "element. The action of matrix multiplication on the images then reflects the group composition rule.\n",
    "\n",
    "Several matrix representations are possible for the same group, possibly in various dimension $d$. Here, we are going to explore some representations of the group $S_3$\n",
    "\n",
    "When seeing the group as a permutation within $n$ elements, a natural choice of representation arises in dimension $d=n$, where the permutation\n",
    "is applied to the coordinates of the vector space $R^n$. This is called the *natural representation* of a group. It can be constructed easily:"
   ]
  },
  {
   "cell_type": "code",
   "execution_count": 8,
   "id": "232d7c1c",
   "metadata": {
    "execution": {
     "iopub.execute_input": "2021-12-14T09:19:10.705978Z",
     "iopub.status.busy": "2021-12-14T09:19:10.705589Z",
     "iopub.status.idle": "2021-12-14T09:19:10.836035Z",
     "shell.execute_reply": "2021-12-14T09:19:10.835653Z"
    }
   },
   "outputs": [],
   "source": [
    "natRep = S3.naturalRep;"
   ]
  },
  {
   "cell_type": "markdown",
   "id": "2725db2c",
   "metadata": {},
   "source": [
    "The image of a group element in this representation can be extracted"
   ]
  },
  {
   "cell_type": "code",
   "execution_count": 9,
   "id": "ad5c6095",
   "metadata": {
    "execution": {
     "iopub.execute_input": "2021-12-14T09:19:10.838518Z",
     "iopub.status.busy": "2021-12-14T09:19:10.838112Z",
     "iopub.status.idle": "2021-12-14T09:19:10.854853Z",
     "shell.execute_reply": "2021-12-14T09:19:10.855194Z"
    }
   },
   "outputs": [
    {
     "name": "stdout",
     "output_type": "stream",
     "text": [
      "ans =\r\n",
      "\r\n",
      "   0   1   0\r\n",
      "   1   0   0\r\n",
      "   0   0   1\r\n",
      "\r\n"
     ]
    }
   ],
   "source": [
    "natRep.image([2 1 3])"
   ]
  },
  {
   "cell_type": "markdown",
   "id": "f868c93b",
   "metadata": {},
   "source": [
    "We see that the matrices representing the group elements are $n \\times n$ permutation matrices, which simply apply the permutation to the coordinates of the vector space $R^n$.\n",
    "\n",
    "For a representation to be valid, the images must follow the structure of the group:"
   ]
  },
  {
   "cell_type": "code",
   "execution_count": 10,
   "id": "842aa451",
   "metadata": {
    "execution": {
     "iopub.execute_input": "2021-12-14T09:19:10.857734Z",
     "iopub.status.busy": "2021-12-14T09:19:10.857323Z",
     "iopub.status.idle": "2021-12-14T09:19:10.893575Z",
     "shell.execute_reply": "2021-12-14T09:19:10.893052Z"
    }
   },
   "outputs": [
    {
     "name": "stdout",
     "output_type": "stream",
     "text": [
      "ans =\r\n",
      "\r\n",
      "   0   0   1\r\n",
      "   1   0   0\r\n",
      "   0   1   0\r\n",
      "\r\n"
     ]
    },
    {
     "name": "stdout",
     "output_type": "stream",
     "text": [
      "ans =\r\n",
      "\r\n",
      "   0   0   1\r\n",
      "   1   0   0\r\n",
      "   0   1   0\r\n",
      "\r\n"
     ]
    }
   ],
   "source": [
    "image1 = natRep.image(element1);\n",
    "image2 = natRep.image(element2);\n",
    "image1*image2\n",
    "natRep.image(S3.compose(element1, element2))"
   ]
  },
  {
   "cell_type": "markdown",
   "id": "bd446595",
   "metadata": {},
   "source": [
    "We see that the image of the product of elements is indeed the product of the images of the respective elements, i.e. the algebra of matrices\n",
    "acting on the representation images accurately reflects the group algebra.\n",
    "\n",
    "It can be checked, moreover, that the natural representation is faithful, i.e. each group element has its own distinct image. This needs\n",
    "not always be the case as in the following two examples.\n",
    "\n",
    "## The parity representation of $S_3$\n",
    "\n",
    "To construct an arbitrary group representation in *RepLAB*, it is sufficient to provide the image of the generators of the group. The group $S_3$ has two generators:"
   ]
  },
  {
   "cell_type": "code",
   "execution_count": 11,
   "id": "25407951",
   "metadata": {
    "execution": {
     "iopub.execute_input": "2021-12-14T09:19:10.899312Z",
     "iopub.status.busy": "2021-12-14T09:19:10.896630Z",
     "iopub.status.idle": "2021-12-14T09:19:10.918762Z",
     "shell.execute_reply": "2021-12-14T09:19:10.918276Z"
    }
   },
   "outputs": [
    {
     "name": "stdout",
     "output_type": "stream",
     "text": [
      "ans =\r\n",
      "\r\n",
      "   2   3   1\r\n",
      "\r\n",
      "ans =\r\n",
      "\r\n",
      "   2   1   3\r\n",
      "\r\n"
     ]
    }
   ],
   "source": [
    "generators = S3.generators;\n",
    "generators{:}"
   ]
  },
  {
   "cell_type": "markdown",
   "id": "a6b30abf",
   "metadata": {},
   "source": [
    "Let us construct a representation of this group in dimension"
   ]
  },
  {
   "cell_type": "code",
   "execution_count": 12,
   "id": "e1147dfc",
   "metadata": {
    "execution": {
     "iopub.execute_input": "2021-12-14T09:19:10.921432Z",
     "iopub.status.busy": "2021-12-14T09:19:10.921005Z",
     "iopub.status.idle": "2021-12-14T09:19:10.935279Z",
     "shell.execute_reply": "2021-12-14T09:19:10.935671Z"
    }
   },
   "outputs": [],
   "source": [
    "d = 1;"
   ]
  },
  {
   "cell_type": "markdown",
   "id": "177ec13a",
   "metadata": {},
   "source": [
    "associating the each generator its parity (i.e. either $+1$ or $-1$). Since the parity of [2 3 1] is 1 and the parity of [2 1 3] is -1, this is achieved by instantiating calling the *repByImages* methods on the group:"
   ]
  },
  {
   "cell_type": "code",
   "execution_count": 13,
   "id": "b29254c0",
   "metadata": {
    "execution": {
     "iopub.execute_input": "2021-12-14T09:19:10.938288Z",
     "iopub.status.busy": "2021-12-14T09:19:10.937824Z",
     "iopub.status.idle": "2021-12-14T09:19:11.080020Z",
     "shell.execute_reply": "2021-12-14T09:19:11.079618Z"
    }
   },
   "outputs": [],
   "source": [
    "parRep = S3.repByImages('R', d, 'preimages', S3.generators, 'images', {1 -1});"
   ]
  },
  {
   "cell_type": "markdown",
   "id": "fe0c67b3",
   "metadata": {},
   "source": [
    "We can check that this representation is valid"
   ]
  },
  {
   "cell_type": "code",
   "execution_count": 14,
   "id": "93799493",
   "metadata": {
    "execution": {
     "iopub.execute_input": "2021-12-14T09:19:11.082771Z",
     "iopub.status.busy": "2021-12-14T09:19:11.082369Z",
     "iopub.status.idle": "2021-12-14T09:19:11.118464Z",
     "shell.execute_reply": "2021-12-14T09:19:11.117774Z"
    }
   },
   "outputs": [
    {
     "name": "stdout",
     "output_type": "stream",
     "text": [
      "image1 = -1\r\n"
     ]
    },
    {
     "name": "stdout",
     "output_type": "stream",
     "text": [
      "image2 = -1\r\n"
     ]
    },
    {
     "name": "stdout",
     "output_type": "stream",
     "text": [
      "ans = 1\r\n"
     ]
    },
    {
     "name": "stdout",
     "output_type": "stream",
     "text": [
      "ans = 1\r\n"
     ]
    }
   ],
   "source": [
    "image1 = parRep.image(element1)\n",
    "image2 = parRep.image(element2)\n",
    "image1*image2\n",
    "parRep.image(S3.compose(element1, element2))"
   ]
  },
  {
   "cell_type": "markdown",
   "id": "6f37296c",
   "metadata": {},
   "source": [
    "The parity of each binary permutation ``[2 1 3]`` and ``[1 3 2]`` is $-1$, and their product, the cycle [2 3 1], has parity $1$.\n",
    "\n",
    "Clearly, this representation carries some information about the group, namely the parity, but some elements have the same image:"
   ]
  },
  {
   "cell_type": "code",
   "execution_count": 15,
   "id": "49f89ef2",
   "metadata": {
    "execution": {
     "iopub.execute_input": "2021-12-14T09:19:11.121012Z",
     "iopub.status.busy": "2021-12-14T09:19:11.120625Z",
     "iopub.status.idle": "2021-12-14T09:19:11.170958Z",
     "shell.execute_reply": "2021-12-14T09:19:11.170549Z"
    }
   },
   "outputs": [
    {
     "name": "stdout",
     "output_type": "stream",
     "text": [
      "Image of [1  2  3] : 1\r\n",
      "Image of [1  3  2] : -1\r\n",
      "Image of [2  1  3] : -1\r\n",
      "Image of [2  3  1] : 1\r\n",
      "Image of [3  1  2] : 1\r\n",
      "Image of [3  2  1] : -1\r\n"
     ]
    }
   ],
   "source": [
    "allElements = S3.elements;\n",
    "for i = 1:length(allElements)\n",
    "disp(['Image of [', num2str(allElements{i}), '] : ', num2str(parRep.image(allElements{i}))]);\n",
    "end"
   ]
  },
  {
   "cell_type": "markdown",
   "id": "8be4436a",
   "metadata": {},
   "source": [
    "Therefore, this representation is not *faithful*.\n",
    "\n",
    "## The trivial representation of S(3)\n",
    "An even simpler representation of the group S(n) is one in which the image of all elements is set to $1$. This is called the *trivial representation*.\n",
    "\n",
    "It can be constructed similarly from the image of the generators:"
   ]
  },
  {
   "cell_type": "code",
   "execution_count": 16,
   "id": "c65f5785",
   "metadata": {
    "execution": {
     "iopub.execute_input": "2021-12-14T09:19:11.173642Z",
     "iopub.status.busy": "2021-12-14T09:19:11.173255Z",
     "iopub.status.idle": "2021-12-14T09:19:11.300961Z",
     "shell.execute_reply": "2021-12-14T09:19:11.300212Z"
    }
   },
   "outputs": [],
   "source": [
    "trivRep = S3.repByImages('R', d, 'preimages', S3.generators, 'images', {1 1});"
   ]
  },
  {
   "cell_type": "markdown",
   "id": "5cdf0214",
   "metadata": {},
   "source": [
    "This time, the group law is trivially satisfied since all images are indeed equal to $1$:"
   ]
  },
  {
   "cell_type": "code",
   "execution_count": 17,
   "id": "60e4e0b8",
   "metadata": {
    "execution": {
     "iopub.execute_input": "2021-12-14T09:19:11.303694Z",
     "iopub.status.busy": "2021-12-14T09:19:11.303305Z",
     "iopub.status.idle": "2021-12-14T09:19:11.343763Z",
     "shell.execute_reply": "2021-12-14T09:19:11.343387Z"
    }
   },
   "outputs": [
    {
     "name": "stdout",
     "output_type": "stream",
     "text": [
      "Image of [1  2  3] : 1\r\n",
      "Image of [1  3  2] : 1\r\n",
      "Image of [2  1  3] : 1\r\n",
      "Image of [2  3  1] : 1\r\n",
      "Image of [3  1  2] : 1\r\n",
      "Image of [3  2  1] : 1\r\n"
     ]
    }
   ],
   "source": [
    "for i = 1:length(allElements)\n",
    "disp(['Image of [', num2str(allElements{i}), '] : ', num2str(trivRep.image(allElements{i}))]);\n",
    "end"
   ]
  },
  {
   "cell_type": "markdown",
   "id": "95beece9",
   "metadata": {},
   "source": [
    "## Direct sum of representation of S(3)\n",
    "\n",
    "We have seen that a group can admit several representations. Any two representations of a group in dimension $d_1$ and $d_2$ can be joined\n",
    "together by taking their *direct sum* in order to create a new valid representation in dimension $d_1 + d_2$.\n",
    "\n",
    "For instance, we can construct a $4$-dimensional representation of S(3) by taking the direct sum of the natural representation with the parity\n",
    "representation"
   ]
  },
  {
   "cell_type": "code",
   "execution_count": 18,
   "id": "cbc97a2b",
   "metadata": {
    "execution": {
     "iopub.execute_input": "2021-12-14T09:19:11.346382Z",
     "iopub.status.busy": "2021-12-14T09:19:11.345964Z",
     "iopub.status.idle": "2021-12-14T09:19:11.390425Z",
     "shell.execute_reply": "2021-12-14T09:19:11.390019Z"
    }
   },
   "outputs": [
    {
     "name": "stdout",
     "output_type": "stream",
     "text": [
      "newRep =\r\n",
      "\r\n",
      "Orthogonal direct sum representation\r\n",
      "dimension: 4\r\n",
      "    field: 'R'\r\n",
      "    group: Symmetric group acting on 3 elements\r\n",
      "isUnitary: true\r\n",
      "factor(1): Orthogonal reducible representation\r\n",
      "factor(2): Orthogonal representation\r\n",
      "\r\n"
     ]
    }
   ],
   "source": [
    "newRep = blkdiag(natRep, parRep)"
   ]
  },
  {
   "cell_type": "markdown",
   "id": "59d108e2",
   "metadata": {},
   "source": [
    "The images are then $4 \\times 4$ matrices"
   ]
  },
  {
   "cell_type": "code",
   "execution_count": 19,
   "id": "34db4f03",
   "metadata": {
    "execution": {
     "iopub.execute_input": "2021-12-14T09:19:11.393033Z",
     "iopub.status.busy": "2021-12-14T09:19:11.392648Z",
     "iopub.status.idle": "2021-12-14T09:19:11.421433Z",
     "shell.execute_reply": "2021-12-14T09:19:11.421018Z"
    }
   },
   "outputs": [
    {
     "name": "stdout",
     "output_type": "stream",
     "text": [
      "ans =\r\n",
      "\r\n",
      "   0   1   0   0\r\n",
      "   1   0   0   0\r\n",
      "   0   0   1   0\r\n",
      "   0   0   0  -1\r\n",
      "\r\n"
     ]
    },
    {
     "name": "stdout",
     "output_type": "stream",
     "text": [
      "ans =\r\n",
      "\r\n",
      "   1   0   0   0\r\n",
      "   0   0   1   0\r\n",
      "   0   1   0   0\r\n",
      "   0   0   0  -1\r\n",
      "\r\n"
     ]
    }
   ],
   "source": [
    "newRep.image(element1)\n",
    "newRep.image(element2)"
   ]
  },
  {
   "cell_type": "markdown",
   "id": "cbf598cf",
   "metadata": {},
   "source": [
    "As expected, the images have a block diagonal structure. The properties\n",
    "of a direct sum representation are thus captured by the properties of\n",
    "the representation in each block. Such a representation is *reducible*.\n",
    "\n",
    "## Irreducible representations of S(3)\n",
    "\n",
    "Given a representation, it is not always obvious whether it is the direct\n",
    "sum of more fundamental representations or if the representation is\n",
    "*irreducible*. For instance, the images of the natural representation\n",
    "introduced above are not obviously block-diagonal. Yet, this\n",
    "representation is also reducible. To see this, one needs to find a basis\n",
    "of the vector space $R^d$ in which the images have a block diagonal\n",
    "structure.\n",
    "\n",
    "This can be achieved in *RepLAB* by decomposing the representation"
   ]
  },
  {
   "cell_type": "code",
   "execution_count": 20,
   "id": "140c8e7d",
   "metadata": {
    "execution": {
     "iopub.execute_input": "2021-12-14T09:19:11.427027Z",
     "iopub.status.busy": "2021-12-14T09:19:11.426639Z",
     "iopub.status.idle": "2021-12-14T09:19:12.798364Z",
     "shell.execute_reply": "2021-12-14T09:19:12.797526Z"
    }
   },
   "outputs": [
    {
     "name": "stdout",
     "output_type": "stream",
     "text": [
      "ans = 2\r\n"
     ]
    }
   ],
   "source": [
    "natDec = natRep.decomposition.nice;\n",
    "natDec.nComponents"
   ]
  },
  {
   "cell_type": "markdown",
   "id": "6d8c744c",
   "metadata": {},
   "source": [
    "This shows that the defininig representation of $S_3$ has two *irreducible components*, of dimension $1$ and $2$ respectively:"
   ]
  },
  {
   "cell_type": "code",
   "execution_count": 21,
   "id": "149e491f",
   "metadata": {
    "execution": {
     "iopub.execute_input": "2021-12-14T09:19:12.801237Z",
     "iopub.status.busy": "2021-12-14T09:19:12.800843Z",
     "iopub.status.idle": "2021-12-14T09:19:12.821610Z",
     "shell.execute_reply": "2021-12-14T09:19:12.821955Z"
    }
   },
   "outputs": [
    {
     "name": "stdout",
     "output_type": "stream",
     "text": [
      "ans = 1\r\n"
     ]
    },
    {
     "name": "stdout",
     "output_type": "stream",
     "text": [
      "ans = 2\r\n"
     ]
    }
   ],
   "source": [
    "natDec.component(1).irrepDimension\n",
    "natDec.component(2).irrepDimension"
   ]
  },
  {
   "cell_type": "markdown",
   "id": "42deceee",
   "metadata": {},
   "source": [
    "The decomposition also provides the change of basis matrix which makes |this decomposition apparent"
   ]
  },
  {
   "cell_type": "code",
   "execution_count": 22,
   "id": "300caee7",
   "metadata": {
    "execution": {
     "iopub.execute_input": "2021-12-14T09:19:12.824726Z",
     "iopub.status.busy": "2021-12-14T09:19:12.824357Z",
     "iopub.status.idle": "2021-12-14T09:19:12.839691Z",
     "shell.execute_reply": "2021-12-14T09:19:12.840020Z"
    }
   },
   "outputs": [
    {
     "name": "stdout",
     "output_type": "stream",
     "text": [
      "basis =\r\n",
      "\r\n",
      "   0.3333   0.6667  -0.3333\r\n",
      "   0.3333  -0.3333   0.6667\r\n",
      "   0.3333  -0.3333  -0.3333\r\n",
      "\r\n"
     ]
    }
   ],
   "source": [
    "basis = natDec.basis"
   ]
  },
  {
   "cell_type": "markdown",
   "id": "2541befb",
   "metadata": {},
   "source": [
    "The images of the two elements of $S_3$, ``[2 1 3]`` and ``[1 3 2]`` are indeed block-diagonal in this basis:"
   ]
  },
  {
   "cell_type": "code",
   "execution_count": 23,
   "id": "d99946d7",
   "metadata": {
    "execution": {
     "iopub.execute_input": "2021-12-14T09:19:12.842529Z",
     "iopub.status.busy": "2021-12-14T09:19:12.842108Z",
     "iopub.status.idle": "2021-12-14T09:19:12.865152Z",
     "shell.execute_reply": "2021-12-14T09:19:12.865511Z"
    }
   },
   "outputs": [
    {
     "name": "stdout",
     "output_type": "stream",
     "text": [
      "ans =\r\n",
      "\r\n",
      "   1   0   0\r\n",
      "   0   0   1\r\n",
      "   0   1   0\r\n",
      "\r\n"
     ]
    },
    {
     "name": "stdout",
     "output_type": "stream",
     "text": [
      "ans =\r\n",
      "\r\n",
      "   1   0   0\r\n",
      "   0   1  -1\r\n",
      "   0   0  -1\r\n",
      "\r\n"
     ]
    }
   ],
   "source": [
    "inv(basis)*natRep.image(element1)*basis\n",
    "inv(basis)*natRep.image(element2)*basis"
   ]
  },
  {
   "cell_type": "markdown",
   "id": "467c577d",
   "metadata": {},
   "source": [
    "## Summary\n",
    "\n",
    "This shows that the natural representation of S(3) contains\n",
    "\n",
    "* One copy of the trivial representation of S(3)\n",
    "* One copy of the a faithful 2 x 2 representation of S(3)"
   ]
  }
 ],
 "metadata": {
  "jupytext": {
   "cell_metadata_filter": "-all",
   "main_language": "matlab",
   "notebook_metadata_filter": "-all",
   "text_representation": {
    "extension": ".m",
    "format_name": "light"
   }
  },
  "language_info": {
   "file_extension": ".m",
   "help_links": [
    {
     "text": "GNU Octave",
     "url": "https://www.gnu.org/software/octave/support.html"
    },
    {
     "text": "Octave Kernel",
     "url": "https://github.com/Calysto/octave_kernel"
    },
    {
     "text": "MetaKernel Magics",
     "url": "https://metakernel.readthedocs.io/en/latest/source/README.html"
    }
   ],
   "mimetype": "text/x-octave",
   "name": "octave",
   "version": "6.2.0"
  }
 },
 "nbformat": 4,
 "nbformat_minor": 5
}
