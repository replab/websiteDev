{
 "cells": [
  {
   "cell_type": "markdown",
   "id": "49535abc",
   "metadata": {},
   "source": [
    "# Tutorial for physicists\n",
    "\n",
    "The unitary group $U(n)$ describes the possible change of basis in the\n",
    "complex Hilbert space of dimension $n$. For $n=2$, this captures the\n",
    "possible choices of basis in the qubit space $C^2$. For a system composed\n",
    "of two qubits, we can similarly define the effect of a joint change of\n",
    "basis performed on both subsystems simultaneously. It is known that a\n",
    "single state is invariant under such joint change of basis. Here, we\n",
    "identify this state by extracting the subspace of $(C^2)^{\\otimes 2}$\n",
    "which is invariant under the joint change of basis for both subsystems."
   ]
  },
  {
   "cell_type": "markdown",
   "id": "622f5c8c",
   "metadata": {},
   "source": [
    "Before trying any of the *RepLAB* commands, we must initialize the library:"
   ]
  },
  {
   "cell_type": "code",
   "execution_count": 1,
   "id": "979c0043",
   "metadata": {
    "execution": {
     "iopub.execute_input": "2021-12-14T09:19:15.845861Z",
     "iopub.status.busy": "2021-12-14T09:19:15.845485Z",
     "iopub.status.idle": "2021-12-14T09:19:21.734894Z",
     "shell.execute_reply": "2021-12-14T09:19:21.734390Z"
    }
   },
   "outputs": [
    {
     "name": "stdout",
     "output_type": "stream",
     "text": [
      "replab_init: Initialization done.\r\n"
     ]
    }
   ],
   "source": [
    "addpath([pwd, '/../..']);\n",
    "replab_init('verbose', 0);"
   ]
  },
  {
   "cell_type": "markdown",
   "id": "50b846ab",
   "metadata": {},
   "source": [
    "## The unitary group representation\n",
    "\n",
    "Changes of bases for one system are described by the group $U(2)$"
   ]
  },
  {
   "cell_type": "code",
   "execution_count": 2,
   "id": "21882817",
   "metadata": {
    "execution": {
     "iopub.execute_input": "2021-12-14T09:19:21.737753Z",
     "iopub.status.busy": "2021-12-14T09:19:21.737081Z",
     "iopub.status.idle": "2021-12-14T09:19:21.760020Z",
     "shell.execute_reply": "2021-12-14T09:19:21.760451Z"
    }
   },
   "outputs": [],
   "source": [
    "d = 2;\n",
    "U2 = replab.U(d);"
   ]
  },
  {
   "cell_type": "markdown",
   "id": "e7c8f302",
   "metadata": {},
   "source": [
    "We construct the defining representation of this group, which acts on $C^2$:"
   ]
  },
  {
   "cell_type": "code",
   "execution_count": 3,
   "id": "40456a0c",
   "metadata": {
    "execution": {
     "iopub.execute_input": "2021-12-14T09:19:21.762912Z",
     "iopub.status.busy": "2021-12-14T09:19:21.762503Z",
     "iopub.status.idle": "2021-12-14T09:19:21.789174Z",
     "shell.execute_reply": "2021-12-14T09:19:21.788770Z"
    }
   },
   "outputs": [],
   "source": [
    "U2Rep = U2.definingRep;"
   ]
  },
  {
   "cell_type": "markdown",
   "id": "44f2dccc",
   "metadata": {},
   "source": [
    "## Tensor product of two representations\n",
    "\n",
    "We can now construct the representation which acts jointly on two\n",
    "subsystems of dimension 2:"
   ]
  },
  {
   "cell_type": "code",
   "execution_count": 4,
   "id": "d64102f5",
   "metadata": {
    "execution": {
     "iopub.execute_input": "2021-12-14T09:19:21.791909Z",
     "iopub.status.busy": "2021-12-14T09:19:21.791500Z",
     "iopub.status.idle": "2021-12-14T09:19:21.811789Z",
     "shell.execute_reply": "2021-12-14T09:19:21.811385Z"
    }
   },
   "outputs": [],
   "source": [
    "U2TensorRep = kron(U2Rep, U2Rep);"
   ]
  },
  {
   "cell_type": "markdown",
   "id": "5d0a837c",
   "metadata": {},
   "source": [
    "To identify the subspaces which are invariant under this group, we decompose the representation:"
   ]
  },
  {
   "cell_type": "code",
   "execution_count": 5,
   "id": "9a8825fc",
   "metadata": {
    "execution": {
     "iopub.execute_input": "2021-12-14T09:19:21.814890Z",
     "iopub.status.busy": "2021-12-14T09:19:21.814032Z",
     "iopub.status.idle": "2021-12-14T09:19:25.578427Z",
     "shell.execute_reply": "2021-12-14T09:19:25.577792Z"
    }
   },
   "outputs": [],
   "source": [
    "dec = U2TensorRep.decomposition.nice;"
   ]
  },
  {
   "cell_type": "markdown",
   "id": "67a97769",
   "metadata": {},
   "source": [
    "The decomposition has"
   ]
  },
  {
   "cell_type": "code",
   "execution_count": 6,
   "id": "d085a3c4",
   "metadata": {
    "execution": {
     "iopub.execute_input": "2021-12-14T09:19:25.581101Z",
     "iopub.status.busy": "2021-12-14T09:19:25.580698Z",
     "iopub.status.idle": "2021-12-14T09:19:25.593700Z",
     "shell.execute_reply": "2021-12-14T09:19:25.593006Z"
    }
   },
   "outputs": [
    {
     "name": "stdout",
     "output_type": "stream",
     "text": [
      "ans = 2\r\n"
     ]
    }
   ],
   "source": [
    "dec.nComponents"
   ]
  },
  {
   "cell_type": "markdown",
   "id": "1128a8bb",
   "metadata": {},
   "source": [
    "components, of dimension"
   ]
  },
  {
   "cell_type": "code",
   "execution_count": 7,
   "id": "56cf0d85",
   "metadata": {
    "execution": {
     "iopub.execute_input": "2021-12-14T09:19:25.596329Z",
     "iopub.status.busy": "2021-12-14T09:19:25.595782Z",
     "iopub.status.idle": "2021-12-14T09:19:25.609364Z",
     "shell.execute_reply": "2021-12-14T09:19:25.608705Z"
    }
   },
   "outputs": [
    {
     "name": "stdout",
     "output_type": "stream",
     "text": [
      "ans = 1\r\n"
     ]
    }
   ],
   "source": [
    "dec.component(1).irrepDimension"
   ]
  },
  {
   "cell_type": "markdown",
   "id": "54f07e4a",
   "metadata": {},
   "source": [
    "and"
   ]
  },
  {
   "cell_type": "code",
   "execution_count": 8,
   "id": "73bebe89",
   "metadata": {
    "execution": {
     "iopub.execute_input": "2021-12-14T09:19:25.611882Z",
     "iopub.status.busy": "2021-12-14T09:19:25.611487Z",
     "iopub.status.idle": "2021-12-14T09:19:25.624127Z",
     "shell.execute_reply": "2021-12-14T09:19:25.623773Z"
    }
   },
   "outputs": [
    {
     "name": "stdout",
     "output_type": "stream",
     "text": [
      "ans = 3\r\n"
     ]
    }
   ],
   "source": [
    "dec.component(2).irrepDimension"
   ]
  },
  {
   "cell_type": "markdown",
   "id": "17d1b11d",
   "metadata": {},
   "source": [
    "These are the antisymmetric and symmetric subspaces respectively. The change of basis into the first component\n",
    "identifies the antisymetric subspace, also known as the *singlet state*:"
   ]
  },
  {
   "cell_type": "code",
   "execution_count": 9,
   "id": "b2419a17",
   "metadata": {
    "execution": {
     "iopub.execute_input": "2021-12-14T09:19:25.626838Z",
     "iopub.status.busy": "2021-12-14T09:19:25.626444Z",
     "iopub.status.idle": "2021-12-14T09:19:25.644484Z",
     "shell.execute_reply": "2021-12-14T09:19:25.644131Z"
    }
   },
   "outputs": [
    {
     "name": "stdout",
     "output_type": "stream",
     "text": [
      "singletBasis =\r\n",
      "\r\n",
      "        0\r\n",
      "   0.5000\r\n",
      "  -0.5000\r\n",
      "        0\r\n",
      "\r\n"
     ]
    },
    {
     "name": "stdout",
     "output_type": "stream",
     "text": [
      "rest =\r\n",
      "\r\n",
      "   1.0000        0        0\r\n",
      "        0        0   0.5000\r\n",
      "        0        0   0.5000\r\n",
      "        0   1.0000        0\r\n",
      "\r\n"
     ]
    }
   ],
   "source": [
    "singletBasis = dec.component(1).basis\n",
    "rest = dec.component(2).basis"
   ]
  }
 ],
 "metadata": {
  "jupytext": {
   "cell_metadata_filter": "-all",
   "main_language": "matlab",
   "notebook_metadata_filter": "-all",
   "text_representation": {
    "extension": ".m",
    "format_name": "light"
   }
  },
  "language_info": {
   "file_extension": ".m",
   "help_links": [
    {
     "text": "GNU Octave",
     "url": "https://www.gnu.org/software/octave/support.html"
    },
    {
     "text": "Octave Kernel",
     "url": "https://github.com/Calysto/octave_kernel"
    },
    {
     "text": "MetaKernel Magics",
     "url": "https://metakernel.readthedocs.io/en/latest/source/README.html"
    }
   ],
   "mimetype": "text/x-octave",
   "name": "octave",
   "version": "6.2.0"
  }
 },
 "nbformat": 4,
 "nbformat_minor": 5
}
