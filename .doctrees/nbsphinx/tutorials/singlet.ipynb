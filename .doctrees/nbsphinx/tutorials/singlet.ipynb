{
 "cells": [
  {
   "cell_type": "markdown",
   "id": "5d4c2404",
   "metadata": {},
   "source": [
    "# Tutorial for physicists\n",
    "\n",
    "The unitary group $U(n)$ describes the possible change of basis in the\n",
    "complex Hilbert space of dimension $n$. For $n=2$, this captures the\n",
    "possible choices of basis in the qubit space $C^2$. For a system composed\n",
    "of two qubits, we can similarly define the effect of a joint change of\n",
    "basis performed on both subsystems simultaneously. It is known that a\n",
    "single state is invariant under such joint change of basis. Here, we\n",
    "identify this state by extracting the subspace of $(C^2)^{\\otimes 2}$\n",
    "which is invariant under the joint change of basis for both subsystems."
   ]
  },
  {
   "cell_type": "markdown",
   "id": "76646d31",
   "metadata": {},
   "source": [
    "Before trying any of the *RepLAB* commands, we must initialize the library:"
   ]
  },
  {
   "cell_type": "code",
   "execution_count": 1,
   "id": "6bd2564c",
   "metadata": {
    "execution": {
     "iopub.execute_input": "2021-12-13T20:32:32.274566Z",
     "iopub.status.busy": "2021-12-13T20:32:32.273661Z",
     "iopub.status.idle": "2021-12-13T20:32:39.412494Z",
     "shell.execute_reply": "2021-12-13T20:32:39.412944Z"
    }
   },
   "outputs": [
    {
     "name": "stdout",
     "output_type": "stream",
     "text": [
      "replab_init: Initialization done.\r\n"
     ]
    }
   ],
   "source": [
    "addpath([pwd, '/../..']);\n",
    "replab_init('verbose', 0);"
   ]
  },
  {
   "cell_type": "markdown",
   "id": "cb928573",
   "metadata": {},
   "source": [
    "## The unitary group representation\n",
    "\n",
    "Changes of bases for one system are described by the group $U(2)$"
   ]
  },
  {
   "cell_type": "code",
   "execution_count": 2,
   "id": "6ecce741",
   "metadata": {
    "execution": {
     "iopub.execute_input": "2021-12-13T20:32:39.416549Z",
     "iopub.status.busy": "2021-12-13T20:32:39.416041Z",
     "iopub.status.idle": "2021-12-13T20:32:39.442801Z",
     "shell.execute_reply": "2021-12-13T20:32:39.442002Z"
    }
   },
   "outputs": [],
   "source": [
    "d = 2;\n",
    "U2 = replab.U(d);"
   ]
  },
  {
   "cell_type": "markdown",
   "id": "df11d895",
   "metadata": {},
   "source": [
    "We construct the defining representation of this group, which acts on $C^2$:"
   ]
  },
  {
   "cell_type": "code",
   "execution_count": 3,
   "id": "8c35f4d2",
   "metadata": {
    "execution": {
     "iopub.execute_input": "2021-12-13T20:32:39.446165Z",
     "iopub.status.busy": "2021-12-13T20:32:39.445535Z",
     "iopub.status.idle": "2021-12-13T20:32:39.478988Z",
     "shell.execute_reply": "2021-12-13T20:32:39.478085Z"
    }
   },
   "outputs": [],
   "source": [
    "U2Rep = U2.definingRep;"
   ]
  },
  {
   "cell_type": "markdown",
   "id": "727cb814",
   "metadata": {},
   "source": [
    "## Tensor product of two representations\n",
    "\n",
    "We can now construct the representation which acts jointly on two\n",
    "subsystems of dimension 2:"
   ]
  },
  {
   "cell_type": "code",
   "execution_count": 4,
   "id": "5b01c8a2",
   "metadata": {
    "execution": {
     "iopub.execute_input": "2021-12-13T20:32:39.482420Z",
     "iopub.status.busy": "2021-12-13T20:32:39.481908Z",
     "iopub.status.idle": "2021-12-13T20:32:39.508504Z",
     "shell.execute_reply": "2021-12-13T20:32:39.507971Z"
    }
   },
   "outputs": [],
   "source": [
    "U2TensorRep = kron(U2Rep, U2Rep);"
   ]
  },
  {
   "cell_type": "markdown",
   "id": "09fb16f6",
   "metadata": {},
   "source": [
    "To identify the subspaces which are invariant under this group, we decompose the representation:"
   ]
  },
  {
   "cell_type": "code",
   "execution_count": 5,
   "id": "eb23c51e",
   "metadata": {
    "execution": {
     "iopub.execute_input": "2021-12-13T20:32:39.511958Z",
     "iopub.status.busy": "2021-12-13T20:32:39.511415Z",
     "iopub.status.idle": "2021-12-13T20:32:44.873715Z",
     "shell.execute_reply": "2021-12-13T20:32:44.873191Z"
    }
   },
   "outputs": [],
   "source": [
    "dec = U2TensorRep.decomposition.nice;"
   ]
  },
  {
   "cell_type": "markdown",
   "id": "67bc5ce5",
   "metadata": {},
   "source": [
    "The decomposition has"
   ]
  },
  {
   "cell_type": "code",
   "execution_count": 6,
   "id": "7546596c",
   "metadata": {
    "execution": {
     "iopub.execute_input": "2021-12-13T20:32:44.877021Z",
     "iopub.status.busy": "2021-12-13T20:32:44.876499Z",
     "iopub.status.idle": "2021-12-13T20:32:44.890925Z",
     "shell.execute_reply": "2021-12-13T20:32:44.890482Z"
    }
   },
   "outputs": [
    {
     "name": "stdout",
     "output_type": "stream",
     "text": [
      "ans = 2\r\n"
     ]
    }
   ],
   "source": [
    "dec.nComponents"
   ]
  },
  {
   "cell_type": "markdown",
   "id": "8d6b1d59",
   "metadata": {},
   "source": [
    "components, of dimension"
   ]
  },
  {
   "cell_type": "code",
   "execution_count": 7,
   "id": "b6138175",
   "metadata": {
    "execution": {
     "iopub.execute_input": "2021-12-13T20:32:44.894025Z",
     "iopub.status.busy": "2021-12-13T20:32:44.893532Z",
     "iopub.status.idle": "2021-12-13T20:32:44.911461Z",
     "shell.execute_reply": "2021-12-13T20:32:44.911042Z"
    }
   },
   "outputs": [
    {
     "name": "stdout",
     "output_type": "stream",
     "text": [
      "ans = 1\r\n"
     ]
    }
   ],
   "source": [
    "dec.component(1).irrepDimension"
   ]
  },
  {
   "cell_type": "markdown",
   "id": "73548559",
   "metadata": {},
   "source": [
    "and"
   ]
  },
  {
   "cell_type": "code",
   "execution_count": 8,
   "id": "b70bc76f",
   "metadata": {
    "execution": {
     "iopub.execute_input": "2021-12-13T20:32:44.914522Z",
     "iopub.status.busy": "2021-12-13T20:32:44.914041Z",
     "iopub.status.idle": "2021-12-13T20:32:44.927701Z",
     "shell.execute_reply": "2021-12-13T20:32:44.928086Z"
    }
   },
   "outputs": [
    {
     "name": "stdout",
     "output_type": "stream",
     "text": [
      "ans = 3\r\n"
     ]
    }
   ],
   "source": [
    "dec.component(2).irrepDimension"
   ]
  },
  {
   "cell_type": "markdown",
   "id": "324d5ee8",
   "metadata": {},
   "source": [
    "These are the antisymmetric and symmetric subspaces respectively. The change of basis into the first component\n",
    "identifies the antisymetric subspace, also known as the *singlet state*:"
   ]
  },
  {
   "cell_type": "code",
   "execution_count": 9,
   "id": "d86910ef",
   "metadata": {
    "execution": {
     "iopub.execute_input": "2021-12-13T20:32:44.931348Z",
     "iopub.status.busy": "2021-12-13T20:32:44.930846Z",
     "iopub.status.idle": "2021-12-13T20:32:44.953677Z",
     "shell.execute_reply": "2021-12-13T20:32:44.954188Z"
    }
   },
   "outputs": [
    {
     "name": "stdout",
     "output_type": "stream",
     "text": [
      "singletBasis =\r\n",
      "\r\n",
      "        0\r\n",
      "   0.5000\r\n",
      "  -0.5000\r\n",
      "        0\r\n",
      "\r\n"
     ]
    },
    {
     "name": "stdout",
     "output_type": "stream",
     "text": [
      "rest =\r\n",
      "\r\n",
      "   1.0000        0        0\r\n",
      "        0        0   0.5000\r\n",
      "        0        0   0.5000\r\n",
      "        0   1.0000        0\r\n",
      "\r\n"
     ]
    }
   ],
   "source": [
    "singletBasis = dec.component(1).basis\n",
    "rest = dec.component(2).basis"
   ]
  },
  {
   "cell_type": "code",
   "execution_count": null,
   "id": "b3f31064",
   "metadata": {},
   "outputs": [],
   "source": []
  }
 ],
 "metadata": {
  "jupytext": {
   "cell_metadata_filter": "-all",
   "main_language": "matlab",
   "notebook_metadata_filter": "-all",
   "text_representation": {
    "extension": ".m",
    "format_name": "light"
   }
  },
  "language_info": {
   "file_extension": ".m",
   "help_links": [
    {
     "text": "GNU Octave",
     "url": "https://www.gnu.org/software/octave/support.html"
    },
    {
     "text": "Octave Kernel",
     "url": "https://github.com/Calysto/octave_kernel"
    },
    {
     "text": "MetaKernel Magics",
     "url": "https://metakernel.readthedocs.io/en/latest/source/README.html"
    }
   ],
   "mimetype": "text/x-octave",
   "name": "octave",
   "version": "6.2.0"
  }
 },
 "nbformat": 4,
 "nbformat_minor": 5
}
