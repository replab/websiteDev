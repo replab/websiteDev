{
 "cells": [
  {
   "cell_type": "markdown",
   "id": "b01fd7b2",
   "metadata": {},
   "source": [
    "# Tutorial for physicists\n",
    "\n",
    "The unitary group $U(n)$ describes the possible change of basis in the\n",
    "complex Hilbert space of dimension $n$. For $n=2$, this captures the\n",
    "possible choices of basis in the qubit space $C^2$. For a system composed\n",
    "of two qubits, we can similarly define the effect of a joint change of\n",
    "basis performed on both subsystems simultaneously. It is known that a\n",
    "single state is invariant under such joint change of basis. Here, we\n",
    "identify this state by extracting the subspace of $(C^2)^{\\otimes 2}$\n",
    "which is invariant under the joint change of basis for both subsystems."
   ]
  },
  {
   "cell_type": "markdown",
   "id": "e76fe05f",
   "metadata": {},
   "source": [
    "Before trying any of the *RepLAB* commands, we must initialize the library:"
   ]
  },
  {
   "cell_type": "code",
   "execution_count": 1,
   "id": "0c423451",
   "metadata": {
    "execution": {
     "iopub.execute_input": "2021-12-18T22:09:31.276799Z",
     "iopub.status.busy": "2021-12-18T22:09:31.276355Z",
     "iopub.status.idle": "2021-12-18T22:09:31.300423Z",
     "shell.execute_reply": "2021-12-18T22:09:31.299996Z"
    }
   },
   "outputs": [
    {
     "name": "stdout",
     "output_type": "stream",
     "text": [
      "error: 'replab_init' undefined near line 1, column 1\r\n"
     ]
    }
   ],
   "source": [
    "addpath([pwd, '/../..']);\n",
    "replab_init('verbose', 0);"
   ]
  },
  {
   "cell_type": "markdown",
   "id": "c332c648",
   "metadata": {},
   "source": [
    "## The unitary group representation\n",
    "\n",
    "Changes of bases for one system are described by the group $U(2)$"
   ]
  },
  {
   "cell_type": "code",
   "execution_count": 2,
   "id": "964e4c1e",
   "metadata": {
    "execution": {
     "iopub.execute_input": "2021-12-18T22:09:31.302791Z",
     "iopub.status.busy": "2021-12-18T22:09:31.302357Z",
     "iopub.status.idle": "2021-12-18T22:09:31.311600Z",
     "shell.execute_reply": "2021-12-18T22:09:31.311250Z"
    }
   },
   "outputs": [
    {
     "name": "stdout",
     "output_type": "stream",
     "text": [
      "error: 'replab' undefined near line 1, column 1\r\n"
     ]
    }
   ],
   "source": [
    "d = 2;\n",
    "U2 = replab.U(d);"
   ]
  },
  {
   "cell_type": "markdown",
   "id": "dd1e5520",
   "metadata": {},
   "source": [
    "We construct the defining representation of this group, which acts on $C^2$:"
   ]
  },
  {
   "cell_type": "code",
   "execution_count": 3,
   "id": "647ebaa9",
   "metadata": {
    "execution": {
     "iopub.execute_input": "2021-12-18T22:09:31.313863Z",
     "iopub.status.busy": "2021-12-18T22:09:31.313452Z",
     "iopub.status.idle": "2021-12-18T22:09:31.321085Z",
     "shell.execute_reply": "2021-12-18T22:09:31.320681Z"
    }
   },
   "outputs": [
    {
     "name": "stdout",
     "output_type": "stream",
     "text": [
      "error: 'U2' undefined near line 1, column 1\r\n"
     ]
    }
   ],
   "source": [
    "U2Rep = U2.definingRep;"
   ]
  },
  {
   "cell_type": "markdown",
   "id": "5e414777",
   "metadata": {},
   "source": [
    "## Tensor product of two representations\n",
    "\n",
    "We can now construct the representation which acts jointly on two\n",
    "subsystems of dimension 2:"
   ]
  },
  {
   "cell_type": "code",
   "execution_count": 4,
   "id": "e2ae60bf",
   "metadata": {
    "execution": {
     "iopub.execute_input": "2021-12-18T22:09:31.323371Z",
     "iopub.status.busy": "2021-12-18T22:09:31.322963Z",
     "iopub.status.idle": "2021-12-18T22:09:31.331394Z",
     "shell.execute_reply": "2021-12-18T22:09:31.331052Z"
    }
   },
   "outputs": [
    {
     "name": "stdout",
     "output_type": "stream",
     "text": [
      "error: 'U2Rep' undefined near line 1, column 1\r\n"
     ]
    }
   ],
   "source": [
    "U2TensorRep = kron(U2Rep, U2Rep);"
   ]
  },
  {
   "cell_type": "markdown",
   "id": "59cb7878",
   "metadata": {},
   "source": [
    "To identify the subspaces which are invariant under this group, we decompose the representation:"
   ]
  },
  {
   "cell_type": "code",
   "execution_count": 5,
   "id": "094b8a4d",
   "metadata": {
    "execution": {
     "iopub.execute_input": "2021-12-18T22:09:31.333741Z",
     "iopub.status.busy": "2021-12-18T22:09:31.333339Z",
     "iopub.status.idle": "2021-12-18T22:09:31.340416Z",
     "shell.execute_reply": "2021-12-18T22:09:31.340751Z"
    }
   },
   "outputs": [
    {
     "name": "stdout",
     "output_type": "stream",
     "text": [
      "error: 'U2TensorRep' undefined near line 1, column 1\r\n"
     ]
    }
   ],
   "source": [
    "dec = U2TensorRep.decomposition.nice;"
   ]
  },
  {
   "cell_type": "markdown",
   "id": "8713eafa",
   "metadata": {},
   "source": [
    "The decomposition has"
   ]
  },
  {
   "cell_type": "code",
   "execution_count": 6,
   "id": "39475cb1",
   "metadata": {
    "execution": {
     "iopub.execute_input": "2021-12-18T22:09:31.343092Z",
     "iopub.status.busy": "2021-12-18T22:09:31.342691Z",
     "iopub.status.idle": "2021-12-18T22:09:31.350359Z",
     "shell.execute_reply": "2021-12-18T22:09:31.349995Z"
    }
   },
   "outputs": [
    {
     "name": "stdout",
     "output_type": "stream",
     "text": [
      "error: 'dec' undefined near line 1, column 1\r\n"
     ]
    }
   ],
   "source": [
    "dec.nComponents"
   ]
  },
  {
   "cell_type": "markdown",
   "id": "82c11f92",
   "metadata": {},
   "source": [
    "components, of dimension"
   ]
  },
  {
   "cell_type": "code",
   "execution_count": 7,
   "id": "c5e87718",
   "metadata": {
    "execution": {
     "iopub.execute_input": "2021-12-18T22:09:31.352587Z",
     "iopub.status.busy": "2021-12-18T22:09:31.352179Z",
     "iopub.status.idle": "2021-12-18T22:09:31.359824Z",
     "shell.execute_reply": "2021-12-18T22:09:31.359467Z"
    }
   },
   "outputs": [
    {
     "name": "stdout",
     "output_type": "stream",
     "text": [
      "error: 'dec' undefined near line 1, column 1\r\n"
     ]
    }
   ],
   "source": [
    "dec.component(1).irrepDimension"
   ]
  },
  {
   "cell_type": "markdown",
   "id": "dfb2ac3c",
   "metadata": {},
   "source": [
    "and"
   ]
  },
  {
   "cell_type": "code",
   "execution_count": 8,
   "id": "e1d18fde",
   "metadata": {
    "execution": {
     "iopub.execute_input": "2021-12-18T22:09:31.362298Z",
     "iopub.status.busy": "2021-12-18T22:09:31.361897Z",
     "iopub.status.idle": "2021-12-18T22:09:31.369254Z",
     "shell.execute_reply": "2021-12-18T22:09:31.368910Z"
    }
   },
   "outputs": [
    {
     "name": "stdout",
     "output_type": "stream",
     "text": [
      "error: 'dec' undefined near line 1, column 1\r\n"
     ]
    }
   ],
   "source": [
    "dec.component(2).irrepDimension"
   ]
  },
  {
   "cell_type": "markdown",
   "id": "d3d5c5b2",
   "metadata": {},
   "source": [
    "These are the antisymmetric and symmetric subspaces respectively. The change of basis into the first component\n",
    "identifies the antisymetric subspace, also known as the *singlet state*:"
   ]
  },
  {
   "cell_type": "code",
   "execution_count": 9,
   "id": "f675800e",
   "metadata": {
    "execution": {
     "iopub.execute_input": "2021-12-18T22:09:31.371475Z",
     "iopub.status.busy": "2021-12-18T22:09:31.371069Z",
     "iopub.status.idle": "2021-12-18T22:09:31.382547Z",
     "shell.execute_reply": "2021-12-18T22:09:31.382208Z"
    }
   },
   "outputs": [
    {
     "name": "stdout",
     "output_type": "stream",
     "text": [
      "error: 'dec' undefined near line 1, column 1\r\n"
     ]
    },
    {
     "name": "stdout",
     "output_type": "stream",
     "text": [
      "error: 'dec' undefined near line 1, column 1\r\n"
     ]
    }
   ],
   "source": [
    "singletBasis = dec.component(1).basis\n",
    "rest = dec.component(2).basis"
   ]
  }
 ],
 "metadata": {
  "jupytext": {
   "cell_metadata_filter": "-all",
   "main_language": "matlab",
   "notebook_metadata_filter": "-all",
   "text_representation": {
    "extension": ".m",
    "format_name": "light"
   }
  },
  "language_info": {
   "file_extension": ".m",
   "help_links": [
    {
     "text": "GNU Octave",
     "url": "https://www.gnu.org/software/octave/support.html"
    },
    {
     "text": "Octave Kernel",
     "url": "https://github.com/Calysto/octave_kernel"
    },
    {
     "text": "MetaKernel Magics",
     "url": "https://metakernel.readthedocs.io/en/latest/source/README.html"
    }
   ],
   "mimetype": "text/x-octave",
   "name": "octave",
   "version": "6.2.0"
  }
 },
 "nbformat": 4,
 "nbformat_minor": 5
}
