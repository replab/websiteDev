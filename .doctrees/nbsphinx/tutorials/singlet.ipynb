{
 "cells": [
  {
   "cell_type": "markdown",
   "id": "3bae0480",
   "metadata": {},
   "source": [
    "# Tutorial for physicists\n",
    "\n",
    "The unitary group $U(n)$ describes the possible change of basis in the\n",
    "complex Hilbert space of dimension $n$. For $n=2$, this captures the\n",
    "possible choices of basis in the qubit space $C^2$. For a system composed\n",
    "of two qubits, we can similarly define the effect of a joint change of\n",
    "basis performed on both subsystems simultaneously. It is known that a\n",
    "single state is invariant under such joint change of basis. Here, we\n",
    "identify this state by extracting the subspace of $(C^2)^{\\otimes 2}$\n",
    "which is invariant under the joint change of basis for both subsystems."
   ]
  },
  {
   "cell_type": "markdown",
   "id": "141ff1f7",
   "metadata": {},
   "source": [
    "Before trying any of the *RepLAB* commands, we must initialize the library:"
   ]
  },
  {
   "cell_type": "code",
   "execution_count": 1,
   "id": "c3737f9c",
   "metadata": {
    "execution": {
     "iopub.execute_input": "2021-12-28T10:52:45.680663Z",
     "iopub.status.busy": "2021-12-28T10:52:45.680227Z",
     "iopub.status.idle": "2021-12-28T10:52:45.703429Z",
     "shell.execute_reply": "2021-12-28T10:52:45.702964Z"
    }
   },
   "outputs": [
    {
     "name": "stdout",
     "output_type": "stream",
     "text": [
      "error: 'replab_init' undefined near line 1, column 1\r\n"
     ]
    }
   ],
   "source": [
    "addpath([pwd, '/../..']);\n",
    "replab_init('verbose', 0);"
   ]
  },
  {
   "cell_type": "markdown",
   "id": "1b99b8d0",
   "metadata": {},
   "source": [
    "## The unitary group representation\n",
    "\n",
    "Changes of bases for one system are described by the group $U(2)$"
   ]
  },
  {
   "cell_type": "code",
   "execution_count": 2,
   "id": "4b497901",
   "metadata": {
    "execution": {
     "iopub.execute_input": "2021-12-28T10:52:45.706242Z",
     "iopub.status.busy": "2021-12-28T10:52:45.705774Z",
     "iopub.status.idle": "2021-12-28T10:52:45.716036Z",
     "shell.execute_reply": "2021-12-28T10:52:45.715652Z"
    }
   },
   "outputs": [
    {
     "name": "stdout",
     "output_type": "stream",
     "text": [
      "error: 'replab' undefined near line 1, column 1\r\n"
     ]
    }
   ],
   "source": [
    "d = 2;\n",
    "U2 = replab.U(d);"
   ]
  },
  {
   "cell_type": "markdown",
   "id": "1289e47b",
   "metadata": {},
   "source": [
    "We construct the defining representation of this group, which acts on $C^2$:"
   ]
  },
  {
   "cell_type": "code",
   "execution_count": 3,
   "id": "7256c3db",
   "metadata": {
    "execution": {
     "iopub.execute_input": "2021-12-28T10:52:45.718829Z",
     "iopub.status.busy": "2021-12-28T10:52:45.718390Z",
     "iopub.status.idle": "2021-12-28T10:52:45.726609Z",
     "shell.execute_reply": "2021-12-28T10:52:45.726251Z"
    }
   },
   "outputs": [
    {
     "name": "stdout",
     "output_type": "stream",
     "text": [
      "error: 'U2' undefined near line 1, column 1\r\n"
     ]
    }
   ],
   "source": [
    "U2Rep = U2.definingRep;"
   ]
  },
  {
   "cell_type": "markdown",
   "id": "30a1de2c",
   "metadata": {},
   "source": [
    "## Tensor product of two representations\n",
    "\n",
    "We can now construct the representation which acts jointly on two\n",
    "subsystems of dimension 2:"
   ]
  },
  {
   "cell_type": "code",
   "execution_count": 4,
   "id": "54c34c20",
   "metadata": {
    "execution": {
     "iopub.execute_input": "2021-12-28T10:52:45.729271Z",
     "iopub.status.busy": "2021-12-28T10:52:45.728793Z",
     "iopub.status.idle": "2021-12-28T10:52:45.736413Z",
     "shell.execute_reply": "2021-12-28T10:52:45.736738Z"
    }
   },
   "outputs": [
    {
     "name": "stdout",
     "output_type": "stream",
     "text": [
      "error: 'U2Rep' undefined near line 1, column 1\r\n"
     ]
    }
   ],
   "source": [
    "U2TensorRep = kron(U2Rep, U2Rep);"
   ]
  },
  {
   "cell_type": "markdown",
   "id": "c8264d3c",
   "metadata": {},
   "source": [
    "To identify the subspaces which are invariant under this group, we decompose the representation:"
   ]
  },
  {
   "cell_type": "code",
   "execution_count": 5,
   "id": "b2bffc30",
   "metadata": {
    "execution": {
     "iopub.execute_input": "2021-12-28T10:52:45.739605Z",
     "iopub.status.busy": "2021-12-28T10:52:45.738888Z",
     "iopub.status.idle": "2021-12-28T10:52:45.746707Z",
     "shell.execute_reply": "2021-12-28T10:52:45.747029Z"
    }
   },
   "outputs": [
    {
     "name": "stdout",
     "output_type": "stream",
     "text": [
      "error: 'U2TensorRep' undefined near line 1, column 1\r\n"
     ]
    }
   ],
   "source": [
    "dec = U2TensorRep.decomposition.nice;"
   ]
  },
  {
   "cell_type": "markdown",
   "id": "c56bb118",
   "metadata": {},
   "source": [
    "The decomposition has"
   ]
  },
  {
   "cell_type": "code",
   "execution_count": 6,
   "id": "0513fe62",
   "metadata": {
    "execution": {
     "iopub.execute_input": "2021-12-28T10:52:45.749611Z",
     "iopub.status.busy": "2021-12-28T10:52:45.749197Z",
     "iopub.status.idle": "2021-12-28T10:52:45.756816Z",
     "shell.execute_reply": "2021-12-28T10:52:45.756459Z"
    }
   },
   "outputs": [
    {
     "name": "stdout",
     "output_type": "stream",
     "text": [
      "error: 'dec' undefined near line 1, column 1\r\n"
     ]
    }
   ],
   "source": [
    "dec.nComponents"
   ]
  },
  {
   "cell_type": "markdown",
   "id": "7bc3ae0c",
   "metadata": {},
   "source": [
    "components, of dimension"
   ]
  },
  {
   "cell_type": "code",
   "execution_count": 7,
   "id": "5aa70d5a",
   "metadata": {
    "execution": {
     "iopub.execute_input": "2021-12-28T10:52:45.759212Z",
     "iopub.status.busy": "2021-12-28T10:52:45.758802Z",
     "iopub.status.idle": "2021-12-28T10:52:45.766568Z",
     "shell.execute_reply": "2021-12-28T10:52:45.766213Z"
    }
   },
   "outputs": [
    {
     "name": "stdout",
     "output_type": "stream",
     "text": [
      "error: 'dec' undefined near line 1, column 1\r\n"
     ]
    }
   ],
   "source": [
    "dec.component(1).irrepDimension"
   ]
  },
  {
   "cell_type": "markdown",
   "id": "952d19c9",
   "metadata": {},
   "source": [
    "and"
   ]
  },
  {
   "cell_type": "code",
   "execution_count": 8,
   "id": "c55e93a1",
   "metadata": {
    "execution": {
     "iopub.execute_input": "2021-12-28T10:52:45.768974Z",
     "iopub.status.busy": "2021-12-28T10:52:45.768568Z",
     "iopub.status.idle": "2021-12-28T10:52:45.776229Z",
     "shell.execute_reply": "2021-12-28T10:52:45.775890Z"
    }
   },
   "outputs": [
    {
     "name": "stdout",
     "output_type": "stream",
     "text": [
      "error: 'dec' undefined near line 1, column 1\r\n"
     ]
    }
   ],
   "source": [
    "dec.component(2).irrepDimension"
   ]
  },
  {
   "cell_type": "markdown",
   "id": "d87efb5e",
   "metadata": {},
   "source": [
    "These are the antisymmetric and symmetric subspaces respectively. The change of basis into the first component\n",
    "identifies the antisymetric subspace, also known as the *singlet state*:"
   ]
  },
  {
   "cell_type": "code",
   "execution_count": 9,
   "id": "6852525b",
   "metadata": {
    "execution": {
     "iopub.execute_input": "2021-12-28T10:52:45.778776Z",
     "iopub.status.busy": "2021-12-28T10:52:45.778366Z",
     "iopub.status.idle": "2021-12-28T10:52:45.789542Z",
     "shell.execute_reply": "2021-12-28T10:52:45.789857Z"
    }
   },
   "outputs": [
    {
     "name": "stdout",
     "output_type": "stream",
     "text": [
      "error: 'dec' undefined near line 1, column 1\r\n"
     ]
    },
    {
     "name": "stdout",
     "output_type": "stream",
     "text": [
      "error: 'dec' undefined near line 1, column 1\r\n"
     ]
    }
   ],
   "source": [
    "singletBasis = dec.component(1).basis\n",
    "rest = dec.component(2).basis"
   ]
  }
 ],
 "metadata": {
  "jupytext": {
   "cell_metadata_filter": "-all",
   "main_language": "matlab",
   "notebook_metadata_filter": "-all",
   "text_representation": {
    "extension": ".m",
    "format_name": "light"
   }
  },
  "language_info": {
   "file_extension": ".m",
   "help_links": [
    {
     "text": "GNU Octave",
     "url": "https://www.gnu.org/software/octave/support.html"
    },
    {
     "text": "Octave Kernel",
     "url": "https://github.com/Calysto/octave_kernel"
    },
    {
     "text": "MetaKernel Magics",
     "url": "https://metakernel.readthedocs.io/en/latest/source/README.html"
    }
   ],
   "mimetype": "text/x-octave",
   "name": "octave",
   "version": "6.2.0"
  }
 },
 "nbformat": 4,
 "nbformat_minor": 5
}
