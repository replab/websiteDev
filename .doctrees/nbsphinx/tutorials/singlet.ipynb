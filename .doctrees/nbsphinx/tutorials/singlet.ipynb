{
 "cells": [
  {
   "cell_type": "markdown",
   "id": "99cedbfb",
   "metadata": {},
   "source": [
    "# Tutorial for quantum information people\n",
    "\n",
    "The unitary group $U(n)$ describes the possible change of basis in the\n",
    "complex Hilbert space of dimension $n$. For $n=2$, this captures the\n",
    "possible choices of basis in the qubit space $C^2$. For a system composed\n",
    "of two qubits, we can similarly define the effect of a joint change of\n",
    "basis performed on both subsystems simultaneously. It is known that a\n",
    "single state is invariant under such joint change of basis. Here, we\n",
    "identify this state by extracting the subspace of $(C^2)^{\\otimes 2}$\n",
    "which is invariant under the joint change of basis for both subsystems."
   ]
  },
  {
   "cell_type": "markdown",
   "id": "f02cf84d",
   "metadata": {},
   "source": [
    "Before trying any of the *RepLAB* commands, we must initialize the library:"
   ]
  },
  {
   "cell_type": "code",
   "execution_count": 1,
   "id": "439b7d69",
   "metadata": {
    "execution": {
     "iopub.execute_input": "2021-12-06T15:24:44.876819Z",
     "iopub.status.busy": "2021-12-06T15:24:44.873511Z",
     "iopub.status.idle": "2021-12-06T15:24:50.925566Z",
     "shell.execute_reply": "2021-12-06T15:24:50.925043Z"
    }
   },
   "outputs": [
    {
     "name": "stdout",
     "output_type": "stream",
     "text": [
      "replab_init: Initialization done.\r\n"
     ]
    }
   ],
   "source": [
    "addpath([pwd, '/../..']);\n",
    "replab_init('verbose', 0);"
   ]
  },
  {
   "cell_type": "markdown",
   "id": "2c76f1a1",
   "metadata": {},
   "source": [
    "## The unitary group representation\n",
    "\n",
    "Changes of bases for one system are described by the group $U(2)$"
   ]
  },
  {
   "cell_type": "code",
   "execution_count": 2,
   "id": "b94d8115",
   "metadata": {
    "execution": {
     "iopub.execute_input": "2021-12-06T15:24:50.928484Z",
     "iopub.status.busy": "2021-12-06T15:24:50.928058Z",
     "iopub.status.idle": "2021-12-06T15:24:50.952470Z",
     "shell.execute_reply": "2021-12-06T15:24:50.952075Z"
    }
   },
   "outputs": [],
   "source": [
    "d = 2;\n",
    "U2 = replab.U(d);"
   ]
  },
  {
   "cell_type": "markdown",
   "id": "a111fef3",
   "metadata": {},
   "source": [
    "We construct the defining representation of this group, which acts on $C^2$:"
   ]
  },
  {
   "cell_type": "code",
   "execution_count": 3,
   "id": "3f5a04e7",
   "metadata": {
    "execution": {
     "iopub.execute_input": "2021-12-06T15:24:50.955072Z",
     "iopub.status.busy": "2021-12-06T15:24:50.954464Z",
     "iopub.status.idle": "2021-12-06T15:24:50.980082Z",
     "shell.execute_reply": "2021-12-06T15:24:50.979676Z"
    }
   },
   "outputs": [],
   "source": [
    "U2Rep = U2.definingRep;"
   ]
  },
  {
   "cell_type": "markdown",
   "id": "dffdac46",
   "metadata": {},
   "source": [
    "## Tensor product of two representations\n",
    "\n",
    "We can now construct the representation which acts jointly on two\n",
    "subsystems of dimension 2:"
   ]
  },
  {
   "cell_type": "code",
   "execution_count": 4,
   "id": "148cab82",
   "metadata": {
    "execution": {
     "iopub.execute_input": "2021-12-06T15:24:50.983303Z",
     "iopub.status.busy": "2021-12-06T15:24:50.982468Z",
     "iopub.status.idle": "2021-12-06T15:24:51.002671Z",
     "shell.execute_reply": "2021-12-06T15:24:51.002260Z"
    }
   },
   "outputs": [],
   "source": [
    "U2TensorRep = kron(U2Rep, U2Rep);"
   ]
  },
  {
   "cell_type": "markdown",
   "id": "96ca8d5d",
   "metadata": {},
   "source": [
    "To identify the subspaces which are invariant under this group, we decompose the representation:"
   ]
  },
  {
   "cell_type": "code",
   "execution_count": 5,
   "id": "8c39469d",
   "metadata": {
    "execution": {
     "iopub.execute_input": "2021-12-06T15:24:51.005903Z",
     "iopub.status.busy": "2021-12-06T15:24:51.005434Z",
     "iopub.status.idle": "2021-12-06T15:24:55.010384Z",
     "shell.execute_reply": "2021-12-06T15:24:55.009666Z"
    }
   },
   "outputs": [],
   "source": [
    "dec = U2TensorRep.decomposition.nice;"
   ]
  },
  {
   "cell_type": "markdown",
   "id": "3a60aa9e",
   "metadata": {},
   "source": [
    "The decomposition has"
   ]
  },
  {
   "cell_type": "code",
   "execution_count": 6,
   "id": "d56e7a7c",
   "metadata": {
    "execution": {
     "iopub.execute_input": "2021-12-06T15:24:55.013363Z",
     "iopub.status.busy": "2021-12-06T15:24:55.012947Z",
     "iopub.status.idle": "2021-12-06T15:24:55.026538Z",
     "shell.execute_reply": "2021-12-06T15:24:55.026146Z"
    }
   },
   "outputs": [
    {
     "name": "stdout",
     "output_type": "stream",
     "text": [
      "ans = 2\r\n"
     ]
    }
   ],
   "source": [
    "dec.nComponents"
   ]
  },
  {
   "cell_type": "markdown",
   "id": "b3c7c7cc",
   "metadata": {},
   "source": [
    "components, of dimension"
   ]
  },
  {
   "cell_type": "code",
   "execution_count": 7,
   "id": "704427b8",
   "metadata": {
    "execution": {
     "iopub.execute_input": "2021-12-06T15:24:55.029214Z",
     "iopub.status.busy": "2021-12-06T15:24:55.028797Z",
     "iopub.status.idle": "2021-12-06T15:24:55.042185Z",
     "shell.execute_reply": "2021-12-06T15:24:55.041829Z"
    }
   },
   "outputs": [
    {
     "name": "stdout",
     "output_type": "stream",
     "text": [
      "ans = 1\r\n"
     ]
    }
   ],
   "source": [
    "dec.component(1).irrepDimension"
   ]
  },
  {
   "cell_type": "markdown",
   "id": "1a8abc98",
   "metadata": {},
   "source": [
    "and"
   ]
  },
  {
   "cell_type": "code",
   "execution_count": 8,
   "id": "02a56fe5",
   "metadata": {
    "execution": {
     "iopub.execute_input": "2021-12-06T15:24:55.044701Z",
     "iopub.status.busy": "2021-12-06T15:24:55.044258Z",
     "iopub.status.idle": "2021-12-06T15:24:55.057115Z",
     "shell.execute_reply": "2021-12-06T15:24:55.056757Z"
    }
   },
   "outputs": [
    {
     "name": "stdout",
     "output_type": "stream",
     "text": [
      "ans = 3\r\n"
     ]
    }
   ],
   "source": [
    "dec.component(2).irrepDimension"
   ]
  },
  {
   "cell_type": "markdown",
   "id": "d7f32a9f",
   "metadata": {},
   "source": [
    "These are the antisymmetric and symmetric subspaces respectively. The change of basis into the first component\n",
    "identifies the antisymetric subspace, also known as the *singlet state*:"
   ]
  },
  {
   "cell_type": "code",
   "execution_count": 9,
   "id": "a4fe8aa8",
   "metadata": {
    "execution": {
     "iopub.execute_input": "2021-12-06T15:24:55.059802Z",
     "iopub.status.busy": "2021-12-06T15:24:55.059398Z",
     "iopub.status.idle": "2021-12-06T15:24:55.077396Z",
     "shell.execute_reply": "2021-12-06T15:24:55.077713Z"
    }
   },
   "outputs": [
    {
     "name": "stdout",
     "output_type": "stream",
     "text": [
      "singletBasis =\r\n",
      "\r\n",
      "        0\r\n",
      "   0.5000\r\n",
      "  -0.5000\r\n",
      "        0\r\n",
      "\r\n"
     ]
    },
    {
     "name": "stdout",
     "output_type": "stream",
     "text": [
      "rest =\r\n",
      "\r\n",
      "   1.0000        0        0\r\n",
      "        0        0   0.5000\r\n",
      "        0        0   0.5000\r\n",
      "        0   1.0000        0\r\n",
      "\r\n"
     ]
    }
   ],
   "source": [
    "singletBasis = dec.component(1).basis\n",
    "rest = dec.component(2).basis"
   ]
  }
 ],
 "metadata": {
  "jupytext": {
   "cell_metadata_filter": "-all",
   "main_language": "matlab",
   "notebook_metadata_filter": "-all",
   "text_representation": {
    "extension": ".m",
    "format_name": "light"
   }
  },
  "language_info": {
   "file_extension": ".m",
   "help_links": [
    {
     "text": "GNU Octave",
     "url": "https://www.gnu.org/software/octave/support.html"
    },
    {
     "text": "Octave Kernel",
     "url": "https://github.com/Calysto/octave_kernel"
    },
    {
     "text": "MetaKernel Magics",
     "url": "https://metakernel.readthedocs.io/en/latest/source/README.html"
    }
   ],
   "mimetype": "text/x-octave",
   "name": "octave",
   "version": "6.2.0"
  }
 },
 "nbformat": 4,
 "nbformat_minor": 5
}
