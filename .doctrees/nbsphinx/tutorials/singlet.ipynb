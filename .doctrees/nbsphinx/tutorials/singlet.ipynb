{
 "cells": [
  {
   "cell_type": "markdown",
   "id": "b52ffc73",
   "metadata": {},
   "source": [
    "# Tutorial for physicists\n",
    "\n",
    "The unitary group $U(n)$ describes the possible change of basis in the\n",
    "complex Hilbert space of dimension $n$. For $n=2$, this captures the\n",
    "possible choices of basis in the qubit space $C^2$. For a system composed\n",
    "of two qubits, we can similarly define the effect of a joint change of\n",
    "basis performed on both subsystems simultaneously. It is known that a\n",
    "single state is invariant under such joint change of basis. Here, we\n",
    "identify this state by extracting the subspace of $(C^2)^{\\otimes 2}$\n",
    "which is invariant under the joint change of basis for both subsystems."
   ]
  },
  {
   "cell_type": "markdown",
   "id": "a48a3be8",
   "metadata": {},
   "source": [
    "Before trying any of the *RepLAB* commands, we must initialize the library:"
   ]
  },
  {
   "cell_type": "code",
   "execution_count": 1,
   "id": "173df4f4",
   "metadata": {
    "execution": {
     "iopub.execute_input": "2021-12-13T21:27:14.007826Z",
     "iopub.status.busy": "2021-12-13T21:27:14.004347Z",
     "iopub.status.idle": "2021-12-13T21:27:19.928567Z",
     "shell.execute_reply": "2021-12-13T21:27:19.928075Z"
    }
   },
   "outputs": [
    {
     "name": "stdout",
     "output_type": "stream",
     "text": [
      "replab_init: Initialization done.\r\n"
     ]
    }
   ],
   "source": [
    "addpath([pwd, '/../..']);\n",
    "replab_init('verbose', 0);"
   ]
  },
  {
   "cell_type": "markdown",
   "id": "aa667235",
   "metadata": {},
   "source": [
    "## The unitary group representation\n",
    "\n",
    "Changes of bases for one system are described by the group $U(2)$"
   ]
  },
  {
   "cell_type": "code",
   "execution_count": 2,
   "id": "77fcfb54",
   "metadata": {
    "execution": {
     "iopub.execute_input": "2021-12-13T21:27:19.931271Z",
     "iopub.status.busy": "2021-12-13T21:27:19.930839Z",
     "iopub.status.idle": "2021-12-13T21:27:19.953647Z",
     "shell.execute_reply": "2021-12-13T21:27:19.953286Z"
    }
   },
   "outputs": [],
   "source": [
    "d = 2;\n",
    "U2 = replab.U(d);"
   ]
  },
  {
   "cell_type": "markdown",
   "id": "ee99c6cf",
   "metadata": {},
   "source": [
    "We construct the defining representation of this group, which acts on $C^2$:"
   ]
  },
  {
   "cell_type": "code",
   "execution_count": 3,
   "id": "9de28367",
   "metadata": {
    "execution": {
     "iopub.execute_input": "2021-12-13T21:27:19.956424Z",
     "iopub.status.busy": "2021-12-13T21:27:19.955711Z",
     "iopub.status.idle": "2021-12-13T21:27:19.979708Z",
     "shell.execute_reply": "2021-12-13T21:27:19.979346Z"
    }
   },
   "outputs": [],
   "source": [
    "U2Rep = U2.definingRep;"
   ]
  },
  {
   "cell_type": "markdown",
   "id": "d3cd694b",
   "metadata": {},
   "source": [
    "## Tensor product of two representations\n",
    "\n",
    "We can now construct the representation which acts jointly on two\n",
    "subsystems of dimension 2:"
   ]
  },
  {
   "cell_type": "code",
   "execution_count": 4,
   "id": "69d45fe8",
   "metadata": {
    "execution": {
     "iopub.execute_input": "2021-12-13T21:27:19.982501Z",
     "iopub.status.busy": "2021-12-13T21:27:19.982084Z",
     "iopub.status.idle": "2021-12-13T21:27:19.999830Z",
     "shell.execute_reply": "2021-12-13T21:27:19.999457Z"
    }
   },
   "outputs": [],
   "source": [
    "U2TensorRep = kron(U2Rep, U2Rep);"
   ]
  },
  {
   "cell_type": "markdown",
   "id": "b39560cc",
   "metadata": {},
   "source": [
    "To identify the subspaces which are invariant under this group, we decompose the representation:"
   ]
  },
  {
   "cell_type": "code",
   "execution_count": 5,
   "id": "e8395125",
   "metadata": {
    "execution": {
     "iopub.execute_input": "2021-12-13T21:27:20.002600Z",
     "iopub.status.busy": "2021-12-13T21:27:20.002187Z",
     "iopub.status.idle": "2021-12-13T21:27:24.103997Z",
     "shell.execute_reply": "2021-12-13T21:27:24.103164Z"
    }
   },
   "outputs": [],
   "source": [
    "dec = U2TensorRep.decomposition.nice;"
   ]
  },
  {
   "cell_type": "markdown",
   "id": "977ec84e",
   "metadata": {},
   "source": [
    "The decomposition has"
   ]
  },
  {
   "cell_type": "code",
   "execution_count": 6,
   "id": "c22089ff",
   "metadata": {
    "execution": {
     "iopub.execute_input": "2021-12-13T21:27:24.106682Z",
     "iopub.status.busy": "2021-12-13T21:27:24.105984Z",
     "iopub.status.idle": "2021-12-13T21:27:24.119183Z",
     "shell.execute_reply": "2021-12-13T21:27:24.118792Z"
    }
   },
   "outputs": [
    {
     "name": "stdout",
     "output_type": "stream",
     "text": [
      "ans = 2\r\n"
     ]
    }
   ],
   "source": [
    "dec.nComponents"
   ]
  },
  {
   "cell_type": "markdown",
   "id": "dd28ef3c",
   "metadata": {},
   "source": [
    "components, of dimension"
   ]
  },
  {
   "cell_type": "code",
   "execution_count": 7,
   "id": "79255862",
   "metadata": {
    "execution": {
     "iopub.execute_input": "2021-12-13T21:27:24.121638Z",
     "iopub.status.busy": "2021-12-13T21:27:24.121223Z",
     "iopub.status.idle": "2021-12-13T21:27:24.134048Z",
     "shell.execute_reply": "2021-12-13T21:27:24.134371Z"
    }
   },
   "outputs": [
    {
     "name": "stdout",
     "output_type": "stream",
     "text": [
      "ans = 1\r\n"
     ]
    }
   ],
   "source": [
    "dec.component(1).irrepDimension"
   ]
  },
  {
   "cell_type": "markdown",
   "id": "ff0106bc",
   "metadata": {},
   "source": [
    "and"
   ]
  },
  {
   "cell_type": "code",
   "execution_count": 8,
   "id": "ace89866",
   "metadata": {
    "execution": {
     "iopub.execute_input": "2021-12-13T21:27:24.136979Z",
     "iopub.status.busy": "2021-12-13T21:27:24.136562Z",
     "iopub.status.idle": "2021-12-13T21:27:24.148433Z",
     "shell.execute_reply": "2021-12-13T21:27:24.148083Z"
    }
   },
   "outputs": [
    {
     "name": "stdout",
     "output_type": "stream",
     "text": [
      "ans = 3\r\n"
     ]
    }
   ],
   "source": [
    "dec.component(2).irrepDimension"
   ]
  },
  {
   "cell_type": "markdown",
   "id": "38ae3cc6",
   "metadata": {},
   "source": [
    "These are the antisymmetric and symmetric subspaces respectively. The change of basis into the first component\n",
    "identifies the antisymetric subspace, also known as the *singlet state*:"
   ]
  },
  {
   "cell_type": "code",
   "execution_count": 9,
   "id": "f5596784",
   "metadata": {
    "execution": {
     "iopub.execute_input": "2021-12-13T21:27:24.150732Z",
     "iopub.status.busy": "2021-12-13T21:27:24.150320Z",
     "iopub.status.idle": "2021-12-13T21:27:24.169270Z",
     "shell.execute_reply": "2021-12-13T21:27:24.168919Z"
    }
   },
   "outputs": [
    {
     "name": "stdout",
     "output_type": "stream",
     "text": [
      "singletBasis =\r\n",
      "\r\n",
      "        0\r\n",
      "   0.5000\r\n",
      "  -0.5000\r\n",
      "        0\r\n",
      "\r\n"
     ]
    },
    {
     "name": "stdout",
     "output_type": "stream",
     "text": [
      "rest =\r\n",
      "\r\n",
      "   1.0000        0        0\r\n",
      "        0        0   0.5000\r\n",
      "        0        0   0.5000\r\n",
      "        0   1.0000        0\r\n",
      "\r\n"
     ]
    }
   ],
   "source": [
    "singletBasis = dec.component(1).basis\n",
    "rest = dec.component(2).basis"
   ]
  },
  {
   "cell_type": "code",
   "execution_count": null,
   "id": "d1544ff6",
   "metadata": {},
   "outputs": [],
   "source": []
  }
 ],
 "metadata": {
  "jupytext": {
   "cell_metadata_filter": "-all",
   "main_language": "matlab",
   "notebook_metadata_filter": "-all",
   "text_representation": {
    "extension": ".m",
    "format_name": "light"
   }
  },
  "language_info": {
   "file_extension": ".m",
   "help_links": [
    {
     "text": "GNU Octave",
     "url": "https://www.gnu.org/software/octave/support.html"
    },
    {
     "text": "Octave Kernel",
     "url": "https://github.com/Calysto/octave_kernel"
    },
    {
     "text": "MetaKernel Magics",
     "url": "https://metakernel.readthedocs.io/en/latest/source/README.html"
    }
   ],
   "mimetype": "text/x-octave",
   "name": "octave",
   "version": "6.2.0"
  }
 },
 "nbformat": 4,
 "nbformat_minor": 5
}
