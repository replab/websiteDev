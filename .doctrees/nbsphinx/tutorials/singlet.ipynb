{
 "cells": [
  {
   "cell_type": "markdown",
   "id": "ca87ea71",
   "metadata": {},
   "source": [
    "# Tutorial for physicists\n",
    "\n",
    "The unitary group $U(n)$ describes the possible change of basis in the\n",
    "complex Hilbert space of dimension $n$. For $n=2$, this captures the\n",
    "possible choices of basis in the qubit space $C^2$. For a system composed\n",
    "of two qubits, we can similarly define the effect of a joint change of\n",
    "basis performed on both subsystems simultaneously. It is known that a\n",
    "single state is invariant under such joint change of basis. Here, we\n",
    "identify this state by extracting the subspace of $(C^2)^{\\otimes 2}$\n",
    "which is invariant under the joint change of basis for both subsystems."
   ]
  },
  {
   "cell_type": "markdown",
   "id": "374c301f",
   "metadata": {},
   "source": [
    "Before trying any of the *RepLAB* commands, we must initialize the library:"
   ]
  },
  {
   "cell_type": "code",
   "execution_count": 1,
   "id": "8d0d3640",
   "metadata": {
    "execution": {
     "iopub.execute_input": "2021-12-20T14:17:28.404272Z",
     "iopub.status.busy": "2021-12-20T14:17:28.403853Z",
     "iopub.status.idle": "2021-12-20T14:17:28.432369Z",
     "shell.execute_reply": "2021-12-20T14:17:28.431811Z"
    }
   },
   "outputs": [
    {
     "name": "stdout",
     "output_type": "stream",
     "text": [
      "error: 'replab_init' undefined near line 1, column 1\r\n"
     ]
    }
   ],
   "source": [
    "addpath([pwd, '/../..']);\n",
    "replab_init('verbose', 0);"
   ]
  },
  {
   "cell_type": "markdown",
   "id": "d276ab60",
   "metadata": {},
   "source": [
    "## The unitary group representation\n",
    "\n",
    "Changes of bases for one system are described by the group $U(2)$"
   ]
  },
  {
   "cell_type": "code",
   "execution_count": 2,
   "id": "ac3848db",
   "metadata": {
    "execution": {
     "iopub.execute_input": "2021-12-20T14:17:28.435787Z",
     "iopub.status.busy": "2021-12-20T14:17:28.435326Z",
     "iopub.status.idle": "2021-12-20T14:17:28.445746Z",
     "shell.execute_reply": "2021-12-20T14:17:28.445377Z"
    }
   },
   "outputs": [
    {
     "name": "stdout",
     "output_type": "stream",
     "text": [
      "error: 'replab' undefined near line 1, column 1\r\n"
     ]
    }
   ],
   "source": [
    "d = 2;\n",
    "U2 = replab.U(d);"
   ]
  },
  {
   "cell_type": "markdown",
   "id": "79e31291",
   "metadata": {},
   "source": [
    "We construct the defining representation of this group, which acts on $C^2$:"
   ]
  },
  {
   "cell_type": "code",
   "execution_count": 3,
   "id": "af3980e6",
   "metadata": {
    "execution": {
     "iopub.execute_input": "2021-12-20T14:17:28.448529Z",
     "iopub.status.busy": "2021-12-20T14:17:28.448063Z",
     "iopub.status.idle": "2021-12-20T14:17:28.456423Z",
     "shell.execute_reply": "2021-12-20T14:17:28.456031Z"
    }
   },
   "outputs": [
    {
     "name": "stdout",
     "output_type": "stream",
     "text": [
      "error: 'U2' undefined near line 1, column 1\r\n"
     ]
    }
   ],
   "source": [
    "U2Rep = U2.definingRep;"
   ]
  },
  {
   "cell_type": "markdown",
   "id": "bbc48dbc",
   "metadata": {},
   "source": [
    "## Tensor product of two representations\n",
    "\n",
    "We can now construct the representation which acts jointly on two\n",
    "subsystems of dimension 2:"
   ]
  },
  {
   "cell_type": "code",
   "execution_count": 4,
   "id": "8d9cb348",
   "metadata": {
    "execution": {
     "iopub.execute_input": "2021-12-20T14:17:28.458972Z",
     "iopub.status.busy": "2021-12-20T14:17:28.458549Z",
     "iopub.status.idle": "2021-12-20T14:17:28.468068Z",
     "shell.execute_reply": "2021-12-20T14:17:28.468418Z"
    }
   },
   "outputs": [
    {
     "name": "stdout",
     "output_type": "stream",
     "text": [
      "error: 'U2Rep' undefined near line 1, column 1\r\n"
     ]
    }
   ],
   "source": [
    "U2TensorRep = kron(U2Rep, U2Rep);"
   ]
  },
  {
   "cell_type": "markdown",
   "id": "9ea4e8d2",
   "metadata": {},
   "source": [
    "To identify the subspaces which are invariant under this group, we decompose the representation:"
   ]
  },
  {
   "cell_type": "code",
   "execution_count": 5,
   "id": "40f7f76f",
   "metadata": {
    "execution": {
     "iopub.execute_input": "2021-12-20T14:17:28.471031Z",
     "iopub.status.busy": "2021-12-20T14:17:28.470611Z",
     "iopub.status.idle": "2021-12-20T14:17:28.480845Z",
     "shell.execute_reply": "2021-12-20T14:17:28.480436Z"
    }
   },
   "outputs": [
    {
     "name": "stdout",
     "output_type": "stream",
     "text": [
      "error: 'U2TensorRep' undefined near line 1, column 1\r\n"
     ]
    }
   ],
   "source": [
    "dec = U2TensorRep.decomposition.nice;"
   ]
  },
  {
   "cell_type": "markdown",
   "id": "be905989",
   "metadata": {},
   "source": [
    "The decomposition has"
   ]
  },
  {
   "cell_type": "code",
   "execution_count": 6,
   "id": "6a7fc75a",
   "metadata": {
    "execution": {
     "iopub.execute_input": "2021-12-20T14:17:28.483149Z",
     "iopub.status.busy": "2021-12-20T14:17:28.482729Z",
     "iopub.status.idle": "2021-12-20T14:17:28.493142Z",
     "shell.execute_reply": "2021-12-20T14:17:28.492793Z"
    }
   },
   "outputs": [
    {
     "name": "stdout",
     "output_type": "stream",
     "text": [
      "error: 'dec' undefined near line 1, column 1\r\n"
     ]
    }
   ],
   "source": [
    "dec.nComponents"
   ]
  },
  {
   "cell_type": "markdown",
   "id": "7696d550",
   "metadata": {},
   "source": [
    "components, of dimension"
   ]
  },
  {
   "cell_type": "code",
   "execution_count": 7,
   "id": "92e4bed5",
   "metadata": {
    "execution": {
     "iopub.execute_input": "2021-12-20T14:17:28.495537Z",
     "iopub.status.busy": "2021-12-20T14:17:28.495160Z",
     "iopub.status.idle": "2021-12-20T14:17:28.506609Z",
     "shell.execute_reply": "2021-12-20T14:17:28.506242Z"
    }
   },
   "outputs": [
    {
     "name": "stdout",
     "output_type": "stream",
     "text": [
      "error: 'dec' undefined near line 1, column 1\r\n"
     ]
    }
   ],
   "source": [
    "dec.component(1).irrepDimension"
   ]
  },
  {
   "cell_type": "markdown",
   "id": "a269dee4",
   "metadata": {},
   "source": [
    "and"
   ]
  },
  {
   "cell_type": "code",
   "execution_count": 8,
   "id": "7bc4a7f3",
   "metadata": {
    "execution": {
     "iopub.execute_input": "2021-12-20T14:17:28.509314Z",
     "iopub.status.busy": "2021-12-20T14:17:28.508939Z",
     "iopub.status.idle": "2021-12-20T14:17:28.518583Z",
     "shell.execute_reply": "2021-12-20T14:17:28.518217Z"
    }
   },
   "outputs": [
    {
     "name": "stdout",
     "output_type": "stream",
     "text": [
      "error: 'dec' undefined near line 1, column 1\r\n"
     ]
    }
   ],
   "source": [
    "dec.component(2).irrepDimension"
   ]
  },
  {
   "cell_type": "markdown",
   "id": "2c28fc1f",
   "metadata": {},
   "source": [
    "These are the antisymmetric and symmetric subspaces respectively. The change of basis into the first component\n",
    "identifies the antisymetric subspace, also known as the *singlet state*:"
   ]
  },
  {
   "cell_type": "code",
   "execution_count": 9,
   "id": "cbe863ff",
   "metadata": {
    "execution": {
     "iopub.execute_input": "2021-12-20T14:17:28.521291Z",
     "iopub.status.busy": "2021-12-20T14:17:28.520915Z",
     "iopub.status.idle": "2021-12-20T14:17:28.535538Z",
     "shell.execute_reply": "2021-12-20T14:17:28.535140Z"
    }
   },
   "outputs": [
    {
     "name": "stdout",
     "output_type": "stream",
     "text": [
      "error: 'dec' undefined near line 1, column 1\r\n"
     ]
    },
    {
     "name": "stdout",
     "output_type": "stream",
     "text": [
      "error: 'dec' undefined near line 1, column 1\r\n"
     ]
    }
   ],
   "source": [
    "singletBasis = dec.component(1).basis\n",
    "rest = dec.component(2).basis"
   ]
  }
 ],
 "metadata": {
  "jupytext": {
   "cell_metadata_filter": "-all",
   "main_language": "matlab",
   "notebook_metadata_filter": "-all",
   "text_representation": {
    "extension": ".m",
    "format_name": "light"
   }
  },
  "language_info": {
   "file_extension": ".m",
   "help_links": [
    {
     "text": "GNU Octave",
     "url": "https://www.gnu.org/software/octave/support.html"
    },
    {
     "text": "Octave Kernel",
     "url": "https://github.com/Calysto/octave_kernel"
    },
    {
     "text": "MetaKernel Magics",
     "url": "https://metakernel.readthedocs.io/en/latest/source/README.html"
    }
   ],
   "mimetype": "text/x-octave",
   "name": "octave",
   "version": "6.2.0"
  }
 },
 "nbformat": 4,
 "nbformat_minor": 5
}
