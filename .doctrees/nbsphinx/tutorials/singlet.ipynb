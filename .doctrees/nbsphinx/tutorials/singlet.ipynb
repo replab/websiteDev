{
 "cells": [
  {
   "cell_type": "markdown",
   "id": "7213c5d9",
   "metadata": {},
   "source": [
    "# Tutorial for physicists\n",
    "\n",
    "The unitary group $U(n)$ describes the possible change of basis in the\n",
    "complex Hilbert space of dimension $n$. For $n=2$, this captures the\n",
    "possible choices of basis in the qubit space $C^2$. For a system composed\n",
    "of two qubits, we can similarly define the effect of a joint change of\n",
    "basis performed on both subsystems simultaneously. It is known that a\n",
    "single state is invariant under such joint change of basis. Here, we\n",
    "identify this state by extracting the subspace of $(C^2)^{\\otimes 2}$\n",
    "which is invariant under the joint change of basis for both subsystems."
   ]
  },
  {
   "cell_type": "markdown",
   "id": "afac30f4",
   "metadata": {},
   "source": [
    "Before trying any of the *RepLAB* commands, we must initialize the library:"
   ]
  },
  {
   "cell_type": "code",
   "execution_count": 1,
   "id": "e61e4b94",
   "metadata": {
    "execution": {
     "iopub.execute_input": "2021-12-28T11:53:20.393119Z",
     "iopub.status.busy": "2021-12-28T11:53:20.392638Z",
     "iopub.status.idle": "2021-12-28T11:53:20.415627Z",
     "shell.execute_reply": "2021-12-28T11:53:20.415204Z"
    }
   },
   "outputs": [
    {
     "name": "stdout",
     "output_type": "stream",
     "text": [
      "error: 'replab_init' undefined near line 1, column 1\r\n"
     ]
    }
   ],
   "source": [
    "addpath([pwd, '/../..']);\n",
    "replab_init('verbose', 0);"
   ]
  },
  {
   "cell_type": "markdown",
   "id": "f4fbe5b0",
   "metadata": {},
   "source": [
    "## The unitary group representation\n",
    "\n",
    "Changes of bases for one system are described by the group $U(2)$"
   ]
  },
  {
   "cell_type": "code",
   "execution_count": 2,
   "id": "733cfede",
   "metadata": {
    "execution": {
     "iopub.execute_input": "2021-12-28T11:53:20.418468Z",
     "iopub.status.busy": "2021-12-28T11:53:20.418041Z",
     "iopub.status.idle": "2021-12-28T11:53:20.428040Z",
     "shell.execute_reply": "2021-12-28T11:53:20.427636Z"
    }
   },
   "outputs": [
    {
     "name": "stdout",
     "output_type": "stream",
     "text": [
      "error: 'replab' undefined near line 1, column 1\r\n"
     ]
    }
   ],
   "source": [
    "d = 2;\n",
    "U2 = replab.U(d);"
   ]
  },
  {
   "cell_type": "markdown",
   "id": "7da677ba",
   "metadata": {},
   "source": [
    "We construct the defining representation of this group, which acts on $C^2$:"
   ]
  },
  {
   "cell_type": "code",
   "execution_count": 3,
   "id": "bc03ef33",
   "metadata": {
    "execution": {
     "iopub.execute_input": "2021-12-28T11:53:20.430600Z",
     "iopub.status.busy": "2021-12-28T11:53:20.430182Z",
     "iopub.status.idle": "2021-12-28T11:53:20.437848Z",
     "shell.execute_reply": "2021-12-28T11:53:20.438392Z"
    }
   },
   "outputs": [
    {
     "name": "stdout",
     "output_type": "stream",
     "text": [
      "error: 'U2' undefined near line 1, column 1\r\n"
     ]
    }
   ],
   "source": [
    "U2Rep = U2.definingRep;"
   ]
  },
  {
   "cell_type": "markdown",
   "id": "4ba08dd9",
   "metadata": {},
   "source": [
    "## Tensor product of two representations\n",
    "\n",
    "We can now construct the representation which acts jointly on two\n",
    "subsystems of dimension 2:"
   ]
  },
  {
   "cell_type": "code",
   "execution_count": 4,
   "id": "35e7dd49",
   "metadata": {
    "execution": {
     "iopub.execute_input": "2021-12-28T11:53:20.440798Z",
     "iopub.status.busy": "2021-12-28T11:53:20.440381Z",
     "iopub.status.idle": "2021-12-28T11:53:20.448960Z",
     "shell.execute_reply": "2021-12-28T11:53:20.448607Z"
    }
   },
   "outputs": [
    {
     "name": "stdout",
     "output_type": "stream",
     "text": [
      "error: 'U2Rep' undefined near line 1, column 1\r\n"
     ]
    }
   ],
   "source": [
    "U2TensorRep = kron(U2Rep, U2Rep);"
   ]
  },
  {
   "cell_type": "markdown",
   "id": "daa6d98c",
   "metadata": {},
   "source": [
    "To identify the subspaces which are invariant under this group, we decompose the representation:"
   ]
  },
  {
   "cell_type": "code",
   "execution_count": 5,
   "id": "98009244",
   "metadata": {
    "execution": {
     "iopub.execute_input": "2021-12-28T11:53:20.451326Z",
     "iopub.status.busy": "2021-12-28T11:53:20.450913Z",
     "iopub.status.idle": "2021-12-28T11:53:20.458403Z",
     "shell.execute_reply": "2021-12-28T11:53:20.458723Z"
    }
   },
   "outputs": [
    {
     "name": "stdout",
     "output_type": "stream",
     "text": [
      "error: 'U2TensorRep' undefined near line 1, column 1\r\n"
     ]
    }
   ],
   "source": [
    "dec = U2TensorRep.decomposition.nice;"
   ]
  },
  {
   "cell_type": "markdown",
   "id": "5e14c0e6",
   "metadata": {},
   "source": [
    "The decomposition has"
   ]
  },
  {
   "cell_type": "code",
   "execution_count": 6,
   "id": "10e32037",
   "metadata": {
    "execution": {
     "iopub.execute_input": "2021-12-28T11:53:20.460979Z",
     "iopub.status.busy": "2021-12-28T11:53:20.460568Z",
     "iopub.status.idle": "2021-12-28T11:53:20.468405Z",
     "shell.execute_reply": "2021-12-28T11:53:20.468064Z"
    }
   },
   "outputs": [
    {
     "name": "stdout",
     "output_type": "stream",
     "text": [
      "error: 'dec' undefined near line 1, column 1\r\n"
     ]
    }
   ],
   "source": [
    "dec.nComponents"
   ]
  },
  {
   "cell_type": "markdown",
   "id": "6d7bf141",
   "metadata": {},
   "source": [
    "components, of dimension"
   ]
  },
  {
   "cell_type": "code",
   "execution_count": 7,
   "id": "7a2d33e8",
   "metadata": {
    "execution": {
     "iopub.execute_input": "2021-12-28T11:53:20.470603Z",
     "iopub.status.busy": "2021-12-28T11:53:20.470191Z",
     "iopub.status.idle": "2021-12-28T11:53:20.479500Z",
     "shell.execute_reply": "2021-12-28T11:53:20.479143Z"
    }
   },
   "outputs": [
    {
     "name": "stdout",
     "output_type": "stream",
     "text": [
      "error: 'dec' undefined near line 1, column 1\r\n"
     ]
    }
   ],
   "source": [
    "dec.component(1).irrepDimension"
   ]
  },
  {
   "cell_type": "markdown",
   "id": "63c87b12",
   "metadata": {},
   "source": [
    "and"
   ]
  },
  {
   "cell_type": "code",
   "execution_count": 8,
   "id": "1c55ae05",
   "metadata": {
    "execution": {
     "iopub.execute_input": "2021-12-28T11:53:20.481712Z",
     "iopub.status.busy": "2021-12-28T11:53:20.481305Z",
     "iopub.status.idle": "2021-12-28T11:53:20.488944Z",
     "shell.execute_reply": "2021-12-28T11:53:20.488606Z"
    }
   },
   "outputs": [
    {
     "name": "stdout",
     "output_type": "stream",
     "text": [
      "error: 'dec' undefined near line 1, column 1\r\n"
     ]
    }
   ],
   "source": [
    "dec.component(2).irrepDimension"
   ]
  },
  {
   "cell_type": "markdown",
   "id": "180a92fe",
   "metadata": {},
   "source": [
    "These are the antisymmetric and symmetric subspaces respectively. The change of basis into the first component\n",
    "identifies the antisymetric subspace, also known as the *singlet state*:"
   ]
  },
  {
   "cell_type": "code",
   "execution_count": 9,
   "id": "cd28ca14",
   "metadata": {
    "execution": {
     "iopub.execute_input": "2021-12-28T11:53:20.491269Z",
     "iopub.status.busy": "2021-12-28T11:53:20.490855Z",
     "iopub.status.idle": "2021-12-28T11:53:20.503417Z",
     "shell.execute_reply": "2021-12-28T11:53:20.503073Z"
    }
   },
   "outputs": [
    {
     "name": "stdout",
     "output_type": "stream",
     "text": [
      "error: 'dec' undefined near line 1, column 1\r\n"
     ]
    },
    {
     "name": "stdout",
     "output_type": "stream",
     "text": [
      "error: 'dec' undefined near line 1, column 1\r\n"
     ]
    }
   ],
   "source": [
    "singletBasis = dec.component(1).basis\n",
    "rest = dec.component(2).basis"
   ]
  }
 ],
 "metadata": {
  "jupytext": {
   "cell_metadata_filter": "-all",
   "main_language": "matlab",
   "notebook_metadata_filter": "-all",
   "text_representation": {
    "extension": ".m",
    "format_name": "light"
   }
  },
  "language_info": {
   "file_extension": ".m",
   "help_links": [
    {
     "text": "GNU Octave",
     "url": "https://www.gnu.org/software/octave/support.html"
    },
    {
     "text": "Octave Kernel",
     "url": "https://github.com/Calysto/octave_kernel"
    },
    {
     "text": "MetaKernel Magics",
     "url": "https://metakernel.readthedocs.io/en/latest/source/README.html"
    }
   ],
   "mimetype": "text/x-octave",
   "name": "octave",
   "version": "6.2.0"
  }
 },
 "nbformat": 4,
 "nbformat_minor": 5
}
