{
 "cells": [
  {
   "cell_type": "markdown",
   "id": "526c77af",
   "metadata": {},
   "source": [
    "# Tutorial for quantum information people\n",
    "\n",
    "The unitary group $U(n)$ describes the possible change of basis in the\n",
    "complex Hilbert space of dimension $n$. For $n=2$, this captures the\n",
    "possible choices of basis in the qubit space $C^2$. For a system composed\n",
    "of two qubits, we can similarly define the effect of a joint change of\n",
    "basis performed on both subsystems simultaneously. It is known that a\n",
    "single state is invariant under such joint change of basis. Here, we\n",
    "identify this state by extracting the subspace of $(C^2)^{\\otimes 2}$\n",
    "which is invariant under the joint change of basis for both subsystems."
   ]
  },
  {
   "cell_type": "markdown",
   "id": "b349a61b",
   "metadata": {},
   "source": [
    "Before trying any of the *RepLAB* commands, we must initialize the library:"
   ]
  },
  {
   "cell_type": "code",
   "execution_count": 1,
   "id": "587d5e85",
   "metadata": {
    "execution": {
     "iopub.execute_input": "2021-12-06T15:46:54.118844Z",
     "iopub.status.busy": "2021-12-06T15:46:54.118473Z",
     "iopub.status.idle": "2021-12-06T15:46:59.781388Z",
     "shell.execute_reply": "2021-12-06T15:46:59.781716Z"
    }
   },
   "outputs": [
    {
     "name": "stdout",
     "output_type": "stream",
     "text": [
      "replab_init: Initialization done.\r\n"
     ]
    }
   ],
   "source": [
    "addpath([pwd, '/../..']);\n",
    "replab_init('verbose', 0);"
   ]
  },
  {
   "cell_type": "markdown",
   "id": "7011283a",
   "metadata": {},
   "source": [
    "## The unitary group representation\n",
    "\n",
    "Changes of bases for one system are described by the group $U(2)$"
   ]
  },
  {
   "cell_type": "code",
   "execution_count": 2,
   "id": "f6fd4693",
   "metadata": {
    "execution": {
     "iopub.execute_input": "2021-12-06T15:46:59.784186Z",
     "iopub.status.busy": "2021-12-06T15:46:59.783571Z",
     "iopub.status.idle": "2021-12-06T15:46:59.803624Z",
     "shell.execute_reply": "2021-12-06T15:46:59.803219Z"
    }
   },
   "outputs": [],
   "source": [
    "d = 2;\n",
    "U2 = replab.U(d);"
   ]
  },
  {
   "cell_type": "markdown",
   "id": "7ad9e98f",
   "metadata": {},
   "source": [
    "We construct the defining representation of this group, which acts on $C^2$:"
   ]
  },
  {
   "cell_type": "code",
   "execution_count": 3,
   "id": "ac6ac9b9",
   "metadata": {
    "execution": {
     "iopub.execute_input": "2021-12-06T15:46:59.805795Z",
     "iopub.status.busy": "2021-12-06T15:46:59.805395Z",
     "iopub.status.idle": "2021-12-06T15:46:59.827732Z",
     "shell.execute_reply": "2021-12-06T15:46:59.828035Z"
    }
   },
   "outputs": [],
   "source": [
    "U2Rep = U2.definingRep;"
   ]
  },
  {
   "cell_type": "markdown",
   "id": "75332390",
   "metadata": {},
   "source": [
    "## Tensor product of two representations\n",
    "\n",
    "We can now construct the representation which acts jointly on two\n",
    "subsystems of dimension 2:"
   ]
  },
  {
   "cell_type": "code",
   "execution_count": 4,
   "id": "a685d860",
   "metadata": {
    "execution": {
     "iopub.execute_input": "2021-12-06T15:46:59.830267Z",
     "iopub.status.busy": "2021-12-06T15:46:59.829895Z",
     "iopub.status.idle": "2021-12-06T15:46:59.845990Z",
     "shell.execute_reply": "2021-12-06T15:46:59.846293Z"
    }
   },
   "outputs": [],
   "source": [
    "U2TensorRep = kron(U2Rep, U2Rep);"
   ]
  },
  {
   "cell_type": "markdown",
   "id": "415d1f68",
   "metadata": {},
   "source": [
    "To identify the subspaces which are invariant under this group, we decompose the representation:"
   ]
  },
  {
   "cell_type": "code",
   "execution_count": 5,
   "id": "5eda5517",
   "metadata": {
    "execution": {
     "iopub.execute_input": "2021-12-06T15:46:59.848554Z",
     "iopub.status.busy": "2021-12-06T15:46:59.848185Z",
     "iopub.status.idle": "2021-12-06T15:47:03.583210Z",
     "shell.execute_reply": "2021-12-06T15:47:03.583588Z"
    }
   },
   "outputs": [],
   "source": [
    "dec = U2TensorRep.decomposition.nice;"
   ]
  },
  {
   "cell_type": "markdown",
   "id": "db1618a3",
   "metadata": {},
   "source": [
    "The decomposition has"
   ]
  },
  {
   "cell_type": "code",
   "execution_count": 6,
   "id": "471a0fe8",
   "metadata": {
    "execution": {
     "iopub.execute_input": "2021-12-06T15:47:03.586130Z",
     "iopub.status.busy": "2021-12-06T15:47:03.585714Z",
     "iopub.status.idle": "2021-12-06T15:47:03.598328Z",
     "shell.execute_reply": "2021-12-06T15:47:03.597782Z"
    }
   },
   "outputs": [
    {
     "name": "stdout",
     "output_type": "stream",
     "text": [
      "ans = 2\r\n"
     ]
    }
   ],
   "source": [
    "dec.nComponents"
   ]
  },
  {
   "cell_type": "markdown",
   "id": "26c40b97",
   "metadata": {},
   "source": [
    "components, of dimension"
   ]
  },
  {
   "cell_type": "code",
   "execution_count": 7,
   "id": "485acf65",
   "metadata": {
    "execution": {
     "iopub.execute_input": "2021-12-06T15:47:03.600715Z",
     "iopub.status.busy": "2021-12-06T15:47:03.600318Z",
     "iopub.status.idle": "2021-12-06T15:47:03.611652Z",
     "shell.execute_reply": "2021-12-06T15:47:03.611128Z"
    }
   },
   "outputs": [
    {
     "name": "stdout",
     "output_type": "stream",
     "text": [
      "ans = 1\r\n"
     ]
    }
   ],
   "source": [
    "dec.component(1).irrepDimension"
   ]
  },
  {
   "cell_type": "markdown",
   "id": "7463a029",
   "metadata": {},
   "source": [
    "and"
   ]
  },
  {
   "cell_type": "code",
   "execution_count": 8,
   "id": "e34b8b7c",
   "metadata": {
    "execution": {
     "iopub.execute_input": "2021-12-06T15:47:03.614027Z",
     "iopub.status.busy": "2021-12-06T15:47:03.613624Z",
     "iopub.status.idle": "2021-12-06T15:47:03.624859Z",
     "shell.execute_reply": "2021-12-06T15:47:03.624334Z"
    }
   },
   "outputs": [
    {
     "name": "stdout",
     "output_type": "stream",
     "text": [
      "ans = 3\r\n"
     ]
    }
   ],
   "source": [
    "dec.component(2).irrepDimension"
   ]
  },
  {
   "cell_type": "markdown",
   "id": "9e984850",
   "metadata": {},
   "source": [
    "These are the antisymmetric and symmetric subspaces respectively. The change of basis into the first component\n",
    "identifies the antisymetric subspace, also known as the *singlet state*:"
   ]
  },
  {
   "cell_type": "code",
   "execution_count": 9,
   "id": "76a85018",
   "metadata": {
    "execution": {
     "iopub.execute_input": "2021-12-06T15:47:03.627185Z",
     "iopub.status.busy": "2021-12-06T15:47:03.626795Z",
     "iopub.status.idle": "2021-12-06T15:47:03.643963Z",
     "shell.execute_reply": "2021-12-06T15:47:03.643628Z"
    }
   },
   "outputs": [
    {
     "name": "stdout",
     "output_type": "stream",
     "text": [
      "singletBasis =\r\n",
      "\r\n",
      "        0\r\n",
      "   0.5000\r\n",
      "  -0.5000\r\n",
      "        0\r\n",
      "\r\n"
     ]
    },
    {
     "name": "stdout",
     "output_type": "stream",
     "text": [
      "rest =\r\n",
      "\r\n",
      "   1.0000        0        0\r\n",
      "        0        0   0.5000\r\n",
      "        0        0   0.5000\r\n",
      "        0   1.0000        0\r\n",
      "\r\n"
     ]
    }
   ],
   "source": [
    "singletBasis = dec.component(1).basis\n",
    "rest = dec.component(2).basis"
   ]
  }
 ],
 "metadata": {
  "jupytext": {
   "cell_metadata_filter": "-all",
   "main_language": "matlab",
   "notebook_metadata_filter": "-all",
   "text_representation": {
    "extension": ".m",
    "format_name": "light"
   }
  },
  "language_info": {
   "file_extension": ".m",
   "help_links": [
    {
     "text": "GNU Octave",
     "url": "https://www.gnu.org/software/octave/support.html"
    },
    {
     "text": "Octave Kernel",
     "url": "https://github.com/Calysto/octave_kernel"
    },
    {
     "text": "MetaKernel Magics",
     "url": "https://metakernel.readthedocs.io/en/latest/source/README.html"
    }
   ],
   "mimetype": "text/x-octave",
   "name": "octave",
   "version": "6.2.0"
  }
 },
 "nbformat": 4,
 "nbformat_minor": 5
}
