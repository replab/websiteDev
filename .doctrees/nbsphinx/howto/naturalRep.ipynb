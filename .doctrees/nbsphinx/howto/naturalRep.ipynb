{
 "cells": [
  {
   "cell_type": "markdown",
   "id": "b22bed78",
   "metadata": {},
   "source": [
    "# Natural representation\n",
    "\n",
    "This document shows how to construct the natural representation of a permutation group in *RepLAB*.\n",
    "\n",
    "## Preparation\n",
    "As always, before using *RepLAB* commands, initialize the library:"
   ]
  },
  {
   "cell_type": "code",
   "execution_count": 1,
   "id": "17c68b6f",
   "metadata": {
    "execution": {
     "iopub.execute_input": "2021-12-18T22:08:59.138212Z",
     "iopub.status.busy": "2021-12-18T22:08:59.137703Z",
     "iopub.status.idle": "2021-12-18T22:08:59.161877Z",
     "shell.execute_reply": "2021-12-18T22:08:59.161441Z"
    }
   },
   "outputs": [
    {
     "name": "stdout",
     "output_type": "stream",
     "text": [
      "error: 'replab_init' undefined near line 1, column 1\r\n"
     ]
    }
   ],
   "source": [
    "addpath([pwd, '/../..']);\n",
    "replab_init('verbose', 0);"
   ]
  },
  {
   "cell_type": "markdown",
   "id": "f4be43b4",
   "metadata": {},
   "source": [
    "## Group definition\n",
    "\n",
    "Consider a permutation group acting on $n=5$ elements"
   ]
  },
  {
   "cell_type": "code",
   "execution_count": 2,
   "id": "64aa6989",
   "metadata": {
    "execution": {
     "iopub.execute_input": "2021-12-18T22:08:59.164451Z",
     "iopub.status.busy": "2021-12-18T22:08:59.164027Z",
     "iopub.status.idle": "2021-12-18T22:08:59.177123Z",
     "shell.execute_reply": "2021-12-18T22:08:59.176680Z"
    }
   },
   "outputs": [
    {
     "name": "stdout",
     "output_type": "stream",
     "text": [
      "error: 'replab' undefined near line 1, column 1\r\n"
     ]
    },
    {
     "name": "stdout",
     "output_type": "stream",
     "text": [
      "error: 'S5' undefined near line 1, column 1\r\n"
     ]
    }
   ],
   "source": [
    "S5 = replab.S(5);\n",
    "group = S5.subgroup({[2 1 4 5 3]})"
   ]
  },
  {
   "cell_type": "markdown",
   "id": "ae9ab016",
   "metadata": {},
   "source": [
    "## Representation\n",
    "\n",
    "The natural representation is"
   ]
  },
  {
   "cell_type": "code",
   "execution_count": 3,
   "id": "bf3a242d",
   "metadata": {
    "execution": {
     "iopub.execute_input": "2021-12-18T22:08:59.179629Z",
     "iopub.status.busy": "2021-12-18T22:08:59.179187Z",
     "iopub.status.idle": "2021-12-18T22:08:59.186919Z",
     "shell.execute_reply": "2021-12-18T22:08:59.186562Z"
    }
   },
   "outputs": [
    {
     "name": "stdout",
     "output_type": "stream",
     "text": [
      "error: 'group' undefined near line 1, column 1\r\n"
     ]
    }
   ],
   "source": [
    "rep = group.naturalRep"
   ]
  },
  {
   "cell_type": "markdown",
   "id": "e4c1658a",
   "metadata": {},
   "source": [
    "The representation of group elements are the expected $5 \\times 5$ matrices:"
   ]
  },
  {
   "cell_type": "code",
   "execution_count": 4,
   "id": "e12b8bb1",
   "metadata": {
    "execution": {
     "iopub.execute_input": "2021-12-18T22:08:59.189481Z",
     "iopub.status.busy": "2021-12-18T22:08:59.189052Z",
     "iopub.status.idle": "2021-12-18T22:08:59.196814Z",
     "shell.execute_reply": "2021-12-18T22:08:59.196413Z"
    }
   },
   "outputs": [
    {
     "name": "stdout",
     "output_type": "stream",
     "text": [
      "error: 'rep' undefined near line 1, column 1\r\n"
     ]
    }
   ],
   "source": [
    "rep.image([2 1 5 3 4])"
   ]
  }
 ],
 "metadata": {
  "jupytext": {
   "cell_metadata_filter": "-all",
   "main_language": "matlab",
   "notebook_metadata_filter": "-all",
   "text_representation": {
    "extension": ".m",
    "format_name": "light"
   }
  },
  "language_info": {
   "file_extension": ".m",
   "help_links": [
    {
     "text": "GNU Octave",
     "url": "https://www.gnu.org/software/octave/support.html"
    },
    {
     "text": "Octave Kernel",
     "url": "https://github.com/Calysto/octave_kernel"
    },
    {
     "text": "MetaKernel Magics",
     "url": "https://metakernel.readthedocs.io/en/latest/source/README.html"
    }
   ],
   "mimetype": "text/x-octave",
   "name": "octave",
   "version": "6.2.0"
  }
 },
 "nbformat": 4,
 "nbformat_minor": 5
}
