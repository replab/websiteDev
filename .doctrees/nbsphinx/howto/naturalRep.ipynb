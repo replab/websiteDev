{
 "cells": [
  {
   "cell_type": "markdown",
   "id": "bc38640a",
   "metadata": {},
   "source": [
    "# Natural representation\n",
    "\n",
    "This document shows how to construct the natural representation of a permutation group in *RepLAB*.\n",
    "\n",
    "## Preparation\n",
    "As always, before using *RepLAB* commands, initialize the library:"
   ]
  },
  {
   "cell_type": "code",
   "execution_count": 1,
   "id": "a097042d",
   "metadata": {
    "execution": {
     "iopub.execute_input": "2021-12-14T09:17:02.440370Z",
     "iopub.status.busy": "2021-12-14T09:17:02.440009Z",
     "iopub.status.idle": "2021-12-14T09:17:08.228201Z",
     "shell.execute_reply": "2021-12-14T09:17:08.227754Z"
    }
   },
   "outputs": [
    {
     "name": "stdout",
     "output_type": "stream",
     "text": [
      "replab_init: Initialization done.\r\n"
     ]
    }
   ],
   "source": [
    "addpath([pwd, '/../..']);\n",
    "replab_init('verbose', 0);"
   ]
  },
  {
   "cell_type": "markdown",
   "id": "e8da80a8",
   "metadata": {},
   "source": [
    "## Group definition\n",
    "\n",
    "Consider a permutation group acting on $n=5$ elements"
   ]
  },
  {
   "cell_type": "code",
   "execution_count": 2,
   "id": "d790717a",
   "metadata": {
    "execution": {
     "iopub.execute_input": "2021-12-14T09:17:08.230702Z",
     "iopub.status.busy": "2021-12-14T09:17:08.230285Z",
     "iopub.status.idle": "2021-12-14T09:17:10.777907Z",
     "shell.execute_reply": "2021-12-14T09:17:10.778259Z"
    }
   },
   "outputs": [
    {
     "name": "stdout",
     "output_type": "stream",
     "text": [
      "group ="
     ]
    },
    {
     "name": "stdout",
     "output_type": "stream",
     "text": [
      "\r"
     ]
    },
    {
     "name": "stdout",
     "output_type": "stream",
     "text": [
      "\n"
     ]
    },
    {
     "name": "stdout",
     "output_type": "stream",
     "text": [
      "\r\n",
      "Permutation group acting on 5 elements of order 6\r\n",
      "            identity: [1, 2, 3, 4, 5]\r\n",
      "generator(1 or 'x1'): [2, 1, 4, 5, 3]\r\n",
      "    recognize.source: Cyclic group C(6) of order 6 < x | x^6 = 1 >\r\n",
      "\r\n"
     ]
    }
   ],
   "source": [
    "S5 = replab.S(5);\n",
    "group = S5.subgroup({[2 1 4 5 3]})"
   ]
  },
  {
   "cell_type": "markdown",
   "id": "278cbb98",
   "metadata": {},
   "source": [
    "## Representation\n",
    "\n",
    "The natural representation is"
   ]
  },
  {
   "cell_type": "code",
   "execution_count": 3,
   "id": "142c6b30",
   "metadata": {
    "execution": {
     "iopub.execute_input": "2021-12-14T09:17:10.780784Z",
     "iopub.status.busy": "2021-12-14T09:17:10.780356Z",
     "iopub.status.idle": "2021-12-14T09:17:10.918990Z",
     "shell.execute_reply": "2021-12-14T09:17:10.918627Z"
    }
   },
   "outputs": [
    {
     "name": "stdout",
     "output_type": "stream",
     "text": [
      "rep ="
     ]
    },
    {
     "name": "stdout",
     "output_type": "stream",
     "text": [
      "\r"
     ]
    },
    {
     "name": "stdout",
     "output_type": "stream",
     "text": [
      "\n"
     ]
    },
    {
     "name": "stdout",
     "output_type": "stream",
     "text": [
      "\r\n",
      "Orthogonal reducible representation\r\n",
      "   dimension: 5\r\n",
      "       field: 'R'\r\n",
      "       group: Permutation group acting on 5 elements of order 6\r\n",
      "   isUnitary: true\r\n",
      "preimages{1}: [2, 1, 4, 5, 3]\r\n",
      "   images{1}: 5 x 5 double\r\n",
      "\r\n"
     ]
    }
   ],
   "source": [
    "rep = group.naturalRep"
   ]
  },
  {
   "cell_type": "markdown",
   "id": "a8929033",
   "metadata": {},
   "source": [
    "The representation of group elements are the expected $5 \\times 5$ matrices:"
   ]
  },
  {
   "cell_type": "code",
   "execution_count": 4,
   "id": "c6b4bdfa",
   "metadata": {
    "execution": {
     "iopub.execute_input": "2021-12-14T09:17:10.921663Z",
     "iopub.status.busy": "2021-12-14T09:17:10.921272Z",
     "iopub.status.idle": "2021-12-14T09:17:10.935420Z",
     "shell.execute_reply": "2021-12-14T09:17:10.935082Z"
    }
   },
   "outputs": [
    {
     "name": "stdout",
     "output_type": "stream",
     "text": [
      "ans =\r\n",
      "\r\n",
      "   0   1   0   0   0\r\n",
      "   1   0   0   0   0\r\n",
      "   0   0   0   1   0\r\n",
      "   0   0   0   0   1\r\n",
      "   0   0   1   0   0\r\n",
      "\r\n"
     ]
    }
   ],
   "source": [
    "rep.image([2 1 5 3 4])"
   ]
  }
 ],
 "metadata": {
  "jupytext": {
   "cell_metadata_filter": "-all",
   "main_language": "matlab",
   "notebook_metadata_filter": "-all",
   "text_representation": {
    "extension": ".m",
    "format_name": "light"
   }
  },
  "language_info": {
   "file_extension": ".m",
   "help_links": [
    {
     "text": "GNU Octave",
     "url": "https://www.gnu.org/software/octave/support.html"
    },
    {
     "text": "Octave Kernel",
     "url": "https://github.com/Calysto/octave_kernel"
    },
    {
     "text": "MetaKernel Magics",
     "url": "https://metakernel.readthedocs.io/en/latest/source/README.html"
    }
   ],
   "mimetype": "text/x-octave",
   "name": "octave",
   "version": "6.2.0"
  }
 },
 "nbformat": 4,
 "nbformat_minor": 5
}
