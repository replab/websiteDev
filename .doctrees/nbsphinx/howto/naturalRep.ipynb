{
 "cells": [
  {
   "cell_type": "markdown",
   "id": "12b29757",
   "metadata": {},
   "source": [
    "# Natural representation\n",
    "\n",
    "This document shows how to construct the natural representation of a permutation group in *RepLAB*.\n",
    "\n",
    "## Preparation\n",
    "As always, before using *RepLAB* commands, initialize the library:"
   ]
  },
  {
   "cell_type": "code",
   "execution_count": 1,
   "id": "f268595d",
   "metadata": {
    "execution": {
     "iopub.execute_input": "2021-12-28T11:52:48.180607Z",
     "iopub.status.busy": "2021-12-28T11:52:48.180177Z",
     "iopub.status.idle": "2021-12-28T11:52:48.203151Z",
     "shell.execute_reply": "2021-12-28T11:52:48.202732Z"
    }
   },
   "outputs": [
    {
     "name": "stdout",
     "output_type": "stream",
     "text": [
      "error: 'replab_init' undefined near line 1, column 1\r\n"
     ]
    }
   ],
   "source": [
    "addpath([pwd, '/../..']);\n",
    "replab_init('verbose', 0);"
   ]
  },
  {
   "cell_type": "markdown",
   "id": "8fdf84cc",
   "metadata": {},
   "source": [
    "## Group definition\n",
    "\n",
    "Consider a permutation group acting on $n=5$ elements"
   ]
  },
  {
   "cell_type": "code",
   "execution_count": 2,
   "id": "06b707cc",
   "metadata": {
    "execution": {
     "iopub.execute_input": "2021-12-28T11:52:48.206007Z",
     "iopub.status.busy": "2021-12-28T11:52:48.205559Z",
     "iopub.status.idle": "2021-12-28T11:52:48.217896Z",
     "shell.execute_reply": "2021-12-28T11:52:48.217499Z"
    }
   },
   "outputs": [
    {
     "name": "stdout",
     "output_type": "stream",
     "text": [
      "error: 'replab' undefined near line 1, column 1\r\n"
     ]
    },
    {
     "name": "stdout",
     "output_type": "stream",
     "text": [
      "error: 'S5' undefined near line 1, column 1\r\n"
     ]
    }
   ],
   "source": [
    "S5 = replab.S(5);\n",
    "group = S5.subgroup({[2 1 4 5 3]})"
   ]
  },
  {
   "cell_type": "markdown",
   "id": "2959bf4c",
   "metadata": {},
   "source": [
    "## Representation\n",
    "\n",
    "The natural representation is"
   ]
  },
  {
   "cell_type": "code",
   "execution_count": 3,
   "id": "f6b28410",
   "metadata": {
    "execution": {
     "iopub.execute_input": "2021-12-28T11:52:48.220184Z",
     "iopub.status.busy": "2021-12-28T11:52:48.219757Z",
     "iopub.status.idle": "2021-12-28T11:52:48.229021Z",
     "shell.execute_reply": "2021-12-28T11:52:48.228678Z"
    }
   },
   "outputs": [
    {
     "name": "stdout",
     "output_type": "stream",
     "text": [
      "error: 'group' undefined near line 1, column 1\r\n"
     ]
    }
   ],
   "source": [
    "rep = group.naturalRep"
   ]
  },
  {
   "cell_type": "markdown",
   "id": "c0f0562f",
   "metadata": {},
   "source": [
    "The representation of group elements are the expected $5 \\times 5$ matrices:"
   ]
  },
  {
   "cell_type": "code",
   "execution_count": 4,
   "id": "bb1bd6e5",
   "metadata": {
    "execution": {
     "iopub.execute_input": "2021-12-28T11:52:48.231500Z",
     "iopub.status.busy": "2021-12-28T11:52:48.231077Z",
     "iopub.status.idle": "2021-12-28T11:52:48.239190Z",
     "shell.execute_reply": "2021-12-28T11:52:48.238853Z"
    }
   },
   "outputs": [
    {
     "name": "stdout",
     "output_type": "stream",
     "text": [
      "error: 'rep' undefined near line 1, column 1\r\n"
     ]
    }
   ],
   "source": [
    "rep.image([2 1 5 3 4])"
   ]
  }
 ],
 "metadata": {
  "jupytext": {
   "cell_metadata_filter": "-all",
   "main_language": "matlab",
   "notebook_metadata_filter": "-all",
   "text_representation": {
    "extension": ".m",
    "format_name": "light"
   }
  },
  "language_info": {
   "file_extension": ".m",
   "help_links": [
    {
     "text": "GNU Octave",
     "url": "https://www.gnu.org/software/octave/support.html"
    },
    {
     "text": "Octave Kernel",
     "url": "https://github.com/Calysto/octave_kernel"
    },
    {
     "text": "MetaKernel Magics",
     "url": "https://metakernel.readthedocs.io/en/latest/source/README.html"
    }
   ],
   "mimetype": "text/x-octave",
   "name": "octave",
   "version": "6.2.0"
  }
 },
 "nbformat": 4,
 "nbformat_minor": 5
}
