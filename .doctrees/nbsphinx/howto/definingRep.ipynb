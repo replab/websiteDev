{
 "cells": [
  {
   "cell_type": "markdown",
   "id": "f5bcc47f",
   "metadata": {},
   "source": [
    "# Defining representation\n",
    "\n",
    "This document shows how to construct the defining representation of a compact group in *RepLAB*.\n",
    "\n",
    "## Preparation\n",
    "As always, before using *RepLAB* commands, initialize the library:"
   ]
  },
  {
   "cell_type": "code",
   "execution_count": 1,
   "id": "a921ccc5",
   "metadata": {
    "execution": {
     "iopub.execute_input": "2021-12-28T10:51:57.590242Z",
     "iopub.status.busy": "2021-12-28T10:51:57.586531Z",
     "iopub.status.idle": "2021-12-28T10:51:57.610960Z",
     "shell.execute_reply": "2021-12-28T10:51:57.610187Z"
    }
   },
   "outputs": [
    {
     "name": "stdout",
     "output_type": "stream",
     "text": [
      "error: 'replab_init' undefined near line 1, column 1\r\n"
     ]
    }
   ],
   "source": [
    "addpath([pwd, '/../..']);\n",
    "replab_init('verbose', 0);"
   ]
  },
  {
   "cell_type": "markdown",
   "id": "52f9869c",
   "metadata": {},
   "source": [
    "## Group definition\n",
    "\n",
    "Consider the group of unitary matrices in dimension $d=3$"
   ]
  },
  {
   "cell_type": "code",
   "execution_count": 2,
   "id": "ecc50d58",
   "metadata": {
    "execution": {
     "iopub.execute_input": "2021-12-28T10:51:57.613337Z",
     "iopub.status.busy": "2021-12-28T10:51:57.612909Z",
     "iopub.status.idle": "2021-12-28T10:51:57.621978Z",
     "shell.execute_reply": "2021-12-28T10:51:57.621618Z"
    }
   },
   "outputs": [
    {
     "name": "stdout",
     "output_type": "stream",
     "text": [
      "error: 'replab' undefined near line 1, column 1\r\n"
     ]
    }
   ],
   "source": [
    "group = replab.U(3);"
   ]
  },
  {
   "cell_type": "markdown",
   "id": "2cb73704",
   "metadata": {},
   "source": [
    "## Representation\n",
    "\n",
    "The defining representation is given by"
   ]
  },
  {
   "cell_type": "code",
   "execution_count": 3,
   "id": "3a9c2789",
   "metadata": {
    "execution": {
     "iopub.execute_input": "2021-12-28T10:51:57.624386Z",
     "iopub.status.busy": "2021-12-28T10:51:57.623958Z",
     "iopub.status.idle": "2021-12-28T10:51:57.632777Z",
     "shell.execute_reply": "2021-12-28T10:51:57.632363Z"
    }
   },
   "outputs": [
    {
     "name": "stdout",
     "output_type": "stream",
     "text": [
      "error: 'group' undefined near line 1, column 1\r\n"
     ]
    }
   ],
   "source": [
    "rep = group.definingRep"
   ]
  }
 ],
 "metadata": {
  "jupytext": {
   "cell_metadata_filter": "-all",
   "main_language": "matlab",
   "notebook_metadata_filter": "-all",
   "text_representation": {
    "extension": ".m",
    "format_name": "light"
   }
  },
  "language_info": {
   "file_extension": ".m",
   "help_links": [
    {
     "text": "GNU Octave",
     "url": "https://www.gnu.org/software/octave/support.html"
    },
    {
     "text": "Octave Kernel",
     "url": "https://github.com/Calysto/octave_kernel"
    },
    {
     "text": "MetaKernel Magics",
     "url": "https://metakernel.readthedocs.io/en/latest/source/README.html"
    }
   ],
   "mimetype": "text/x-octave",
   "name": "octave",
   "version": "6.2.0"
  }
 },
 "nbformat": 4,
 "nbformat_minor": 5
}
