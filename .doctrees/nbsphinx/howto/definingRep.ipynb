{
 "cells": [
  {
   "cell_type": "markdown",
   "id": "a3c59e6a",
   "metadata": {},
   "source": [
    "# Defining representation\n",
    "\n",
    "This document shows how to construct the defining representation of a compact group in *RepLAB*.\n",
    "\n",
    "## Preparation\n",
    "As always, before using *RepLAB* commands, initialize the library:"
   ]
  },
  {
   "cell_type": "code",
   "execution_count": 1,
   "id": "6299d0ae",
   "metadata": {
    "execution": {
     "iopub.execute_input": "2021-12-13T21:23:40.863559Z",
     "iopub.status.busy": "2021-12-13T21:23:40.859697Z",
     "iopub.status.idle": "2021-12-13T21:23:46.798398Z",
     "shell.execute_reply": "2021-12-13T21:23:46.797667Z"
    }
   },
   "outputs": [
    {
     "name": "stdout",
     "output_type": "stream",
     "text": [
      "replab_init: Initialization done.\r\n"
     ]
    }
   ],
   "source": [
    "addpath([pwd, '/../..']);\n",
    "replab_init('verbose', 0);"
   ]
  },
  {
   "cell_type": "markdown",
   "id": "31a5d01a",
   "metadata": {},
   "source": [
    "## Group definition\n",
    "\n",
    "Consider the group of unitary matrices in dimension $d=3$"
   ]
  },
  {
   "cell_type": "code",
   "execution_count": 2,
   "id": "0ad4798d",
   "metadata": {
    "execution": {
     "iopub.execute_input": "2021-12-13T21:23:46.801070Z",
     "iopub.status.busy": "2021-12-13T21:23:46.800647Z",
     "iopub.status.idle": "2021-12-13T21:23:46.818547Z",
     "shell.execute_reply": "2021-12-13T21:23:46.818159Z"
    }
   },
   "outputs": [],
   "source": [
    "group = replab.U(3);"
   ]
  },
  {
   "cell_type": "markdown",
   "id": "da8f6b82",
   "metadata": {},
   "source": [
    "## Representation\n",
    "\n",
    "The defining representation is given by"
   ]
  },
  {
   "cell_type": "code",
   "execution_count": 3,
   "id": "229df4a3",
   "metadata": {
    "execution": {
     "iopub.execute_input": "2021-12-13T21:23:46.821040Z",
     "iopub.status.busy": "2021-12-13T21:23:46.820620Z",
     "iopub.status.idle": "2021-12-13T21:23:46.865556Z",
     "shell.execute_reply": "2021-12-13T21:23:46.865095Z"
    }
   },
   "outputs": [
    {
     "name": "stdout",
     "output_type": "stream",
     "text": [
      "rep =\r\n",
      "\r\n",
      "Unitary fully nontrivial irreducible representation\r\n",
      "dimension: 3\r\n",
      "    field: 'C'\r\n",
      "    group: Unitary group U(3)\r\n",
      "isUnitary: true\r\n",
      "\r\n"
     ]
    }
   ],
   "source": [
    "rep = group.definingRep"
   ]
  },
  {
   "cell_type": "code",
   "execution_count": null,
   "id": "eb5162ce",
   "metadata": {
    "lines_to_next_cell": 2
   },
   "outputs": [],
   "source": []
  }
 ],
 "metadata": {
  "jupytext": {
   "cell_metadata_filter": "-all",
   "main_language": "matlab",
   "notebook_metadata_filter": "-all",
   "text_representation": {
    "extension": ".m",
    "format_name": "light"
   }
  },
  "language_info": {
   "file_extension": ".m",
   "help_links": [
    {
     "text": "GNU Octave",
     "url": "https://www.gnu.org/software/octave/support.html"
    },
    {
     "text": "Octave Kernel",
     "url": "https://github.com/Calysto/octave_kernel"
    },
    {
     "text": "MetaKernel Magics",
     "url": "https://metakernel.readthedocs.io/en/latest/source/README.html"
    }
   ],
   "mimetype": "text/x-octave",
   "name": "octave",
   "version": "6.2.0"
  }
 },
 "nbformat": 4,
 "nbformat_minor": 5
}
