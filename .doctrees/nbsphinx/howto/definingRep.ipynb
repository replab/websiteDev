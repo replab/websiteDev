{
 "cells": [
  {
   "cell_type": "markdown",
   "id": "1293a6a5",
   "metadata": {},
   "source": [
    "# Defining representation\n",
    "\n",
    "This document shows how to construct the defining representation of a compact group in *RepLAB*.\n",
    "\n",
    "## Preparation\n",
    "As always, before using *RepLAB* commands, initialize the library:"
   ]
  },
  {
   "cell_type": "code",
   "execution_count": 1,
   "id": "2a6d954a",
   "metadata": {
    "execution": {
     "iopub.execute_input": "2021-12-28T11:52:32.116952Z",
     "iopub.status.busy": "2021-12-28T11:52:32.116536Z",
     "iopub.status.idle": "2021-12-28T11:52:32.139937Z",
     "shell.execute_reply": "2021-12-28T11:52:32.139512Z"
    }
   },
   "outputs": [
    {
     "name": "stdout",
     "output_type": "stream",
     "text": [
      "error: 'replab_init' undefined near line 1, column 1\r\n"
     ]
    }
   ],
   "source": [
    "addpath([pwd, '/../..']);\n",
    "replab_init('verbose', 0);"
   ]
  },
  {
   "cell_type": "markdown",
   "id": "c34aec65",
   "metadata": {},
   "source": [
    "## Group definition\n",
    "\n",
    "Consider the group of unitary matrices in dimension $d=3$"
   ]
  },
  {
   "cell_type": "code",
   "execution_count": 2,
   "id": "9f7c0d20",
   "metadata": {
    "execution": {
     "iopub.execute_input": "2021-12-28T11:52:32.142525Z",
     "iopub.status.busy": "2021-12-28T11:52:32.142084Z",
     "iopub.status.idle": "2021-12-28T11:52:32.150216Z",
     "shell.execute_reply": "2021-12-28T11:52:32.149862Z"
    }
   },
   "outputs": [
    {
     "name": "stdout",
     "output_type": "stream",
     "text": [
      "error: 'replab' undefined near line 1, column 1\r\n"
     ]
    }
   ],
   "source": [
    "group = replab.U(3);"
   ]
  },
  {
   "cell_type": "markdown",
   "id": "8fe7c205",
   "metadata": {},
   "source": [
    "## Representation\n",
    "\n",
    "The defining representation is given by"
   ]
  },
  {
   "cell_type": "code",
   "execution_count": 3,
   "id": "c062335a",
   "metadata": {
    "execution": {
     "iopub.execute_input": "2021-12-28T11:52:32.152929Z",
     "iopub.status.busy": "2021-12-28T11:52:32.152260Z",
     "iopub.status.idle": "2021-12-28T11:52:32.161954Z",
     "shell.execute_reply": "2021-12-28T11:52:32.161570Z"
    }
   },
   "outputs": [
    {
     "name": "stdout",
     "output_type": "stream",
     "text": [
      "error: 'group' undefined near line 1, column 1\r\n"
     ]
    }
   ],
   "source": [
    "rep = group.definingRep"
   ]
  }
 ],
 "metadata": {
  "jupytext": {
   "cell_metadata_filter": "-all",
   "main_language": "matlab",
   "notebook_metadata_filter": "-all",
   "text_representation": {
    "extension": ".m",
    "format_name": "light"
   }
  },
  "language_info": {
   "file_extension": ".m",
   "help_links": [
    {
     "text": "GNU Octave",
     "url": "https://www.gnu.org/software/octave/support.html"
    },
    {
     "text": "Octave Kernel",
     "url": "https://github.com/Calysto/octave_kernel"
    },
    {
     "text": "MetaKernel Magics",
     "url": "https://metakernel.readthedocs.io/en/latest/source/README.html"
    }
   ],
   "mimetype": "text/x-octave",
   "name": "octave",
   "version": "6.2.0"
  }
 },
 "nbformat": 4,
 "nbformat_minor": 5
}
