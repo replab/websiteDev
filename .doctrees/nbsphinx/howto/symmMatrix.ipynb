{
 "cells": [
  {
   "cell_type": "markdown",
   "id": "b03daf3c",
   "metadata": {},
   "source": [
    "# Symmetrizing a matrix\n",
    "\n",
    "This document shows how to perform a Reynolds averaging of a matrix in *RepLAB*.\n",
    "\n",
    "## Preparation\n",
    "As always, before using *RepLAB* commands, initialize the library:"
   ]
  },
  {
   "cell_type": "code",
   "execution_count": 1,
   "id": "110db5dc",
   "metadata": {
    "execution": {
     "iopub.execute_input": "2021-12-13T21:25:29.153794Z",
     "iopub.status.busy": "2021-12-13T21:25:29.153294Z",
     "iopub.status.idle": "2021-12-13T21:25:35.110869Z",
     "shell.execute_reply": "2021-12-13T21:25:35.110031Z"
    }
   },
   "outputs": [
    {
     "name": "stdout",
     "output_type": "stream",
     "text": [
      "replab_init: Initialization done.\r\n"
     ]
    }
   ],
   "source": [
    "addpath([pwd, '/../..']);\n",
    "replab_init('verbose', 0);"
   ]
  },
  {
   "cell_type": "markdown",
   "id": "637966db",
   "metadata": {},
   "source": [
    "## Matrix to be symmetrized\n",
    "\n",
    "Let us consider a random matrix"
   ]
  },
  {
   "cell_type": "code",
   "execution_count": 2,
   "id": "8f00b127",
   "metadata": {
    "execution": {
     "iopub.execute_input": "2021-12-13T21:25:35.113912Z",
     "iopub.status.busy": "2021-12-13T21:25:35.113482Z",
     "iopub.status.idle": "2021-12-13T21:25:35.127461Z",
     "shell.execute_reply": "2021-12-13T21:25:35.127095Z"
    }
   },
   "outputs": [
    {
     "name": "stdout",
     "output_type": "stream",
     "text": [
      "M =\r\n",
      "\r\n",
      "   0.985754   0.919145   0.682057   0.712287   0.138178\r\n",
      "   0.737093   0.125165   0.304382   0.360572   0.986479\r\n",
      "   0.087967   0.707479   0.473359   0.561203   0.786389\r\n",
      "   0.067152   0.017768   0.315227   0.543418   0.018572\r\n",
      "   0.338205   0.413987   0.390861   0.340650   0.986267\r\n",
      "\r\n"
     ]
    }
   ],
   "source": [
    "M = rand(5)"
   ]
  },
  {
   "cell_type": "markdown",
   "id": "3f4a841e",
   "metadata": {},
   "source": [
    "Our aim is to compute the average $\\sum_{g\\in G} M(g,g)$ over a group $G$,\n",
    "where the group elements $g$ act on the rows and on the columns of our matrix."
   ]
  },
  {
   "cell_type": "markdown",
   "id": "7b84b97b",
   "metadata": {},
   "source": [
    "## Group definition\n",
    "\n",
    "Let us consider the permutation group over which we wish to perform the average"
   ]
  },
  {
   "cell_type": "code",
   "execution_count": 3,
   "id": "3c222e0e",
   "metadata": {
    "execution": {
     "iopub.execute_input": "2021-12-13T21:25:35.130356Z",
     "iopub.status.busy": "2021-12-13T21:25:35.129372Z",
     "iopub.status.idle": "2021-12-13T21:25:37.759364Z",
     "shell.execute_reply": "2021-12-13T21:25:37.758667Z"
    }
   },
   "outputs": [
    {
     "name": "stdout",
     "output_type": "stream",
     "text": [
      "group ="
     ]
    },
    {
     "name": "stdout",
     "output_type": "stream",
     "text": [
      "\r"
     ]
    },
    {
     "name": "stdout",
     "output_type": "stream",
     "text": [
      "\n"
     ]
    },
    {
     "name": "stdout",
     "output_type": "stream",
     "text": [
      "\r\n",
      "Permutation group acting on 5 elements of order 6\r\n",
      "            identity: [1, 2, 3, 4, 5]\r\n",
      "generator(1 or 'x1'): [2, 1, 4, 5, 3]\r\n",
      "    recognize.source: Cyclic group C(6) of order 6 < x | x^6 = 1 >\r\n",
      "\r\n"
     ]
    }
   ],
   "source": [
    "S5 = replab.S(5);\n",
    "group = S5.subgroup({[2 1 4 5 3]})"
   ]
  },
  {
   "cell_type": "markdown",
   "id": "e54b4be0",
   "metadata": {},
   "source": [
    "## Averaging over the group\n",
    "\n",
    "The averaging is done by projecting our matrix onto the commutant of the group's natural representation"
   ]
  },
  {
   "cell_type": "code",
   "execution_count": 4,
   "id": "63714150",
   "metadata": {
    "execution": {
     "iopub.execute_input": "2021-12-13T21:25:37.762055Z",
     "iopub.status.busy": "2021-12-13T21:25:37.761632Z",
     "iopub.status.idle": "2021-12-13T21:25:37.889982Z",
     "shell.execute_reply": "2021-12-13T21:25:37.889121Z"
    }
   },
   "outputs": [],
   "source": [
    "rep = group.naturalRep;\n",
    "com = rep.commutant;"
   ]
  },
  {
   "cell_type": "code",
   "execution_count": 5,
   "id": "ad9eb4a7",
   "metadata": {
    "execution": {
     "iopub.execute_input": "2021-12-13T21:25:37.893036Z",
     "iopub.status.busy": "2021-12-13T21:25:37.892370Z",
     "iopub.status.idle": "2021-12-13T21:25:37.912977Z",
     "shell.execute_reply": "2021-12-13T21:25:37.912617Z"
    }
   },
   "outputs": [
    {
     "name": "stdout",
     "output_type": "stream",
     "text": [
      "MP =\r\n",
      "\r\n",
      "   0.5555   0.8281   0.5307   0.5307   0.5307\r\n",
      "   0.8281   0.5555   0.5307   0.5307   0.5307\r\n",
      "   0.2721   0.2721   0.6677   0.3235   0.4808\r\n",
      "   0.2721   0.2721   0.4808   0.6677   0.3235\r\n",
      "   0.2721   0.2721   0.3235   0.4808   0.6677\r\n",
      "\r\n"
     ]
    }
   ],
   "source": [
    "MP = com.project(M)"
   ]
  },
  {
   "cell_type": "markdown",
   "id": "6ddefeae",
   "metadata": {},
   "source": [
    "We can check that the matrix is now invariant over permutation by the group elements"
   ]
  },
  {
   "cell_type": "code",
   "execution_count": 6,
   "id": "a225c482",
   "metadata": {
    "execution": {
     "iopub.execute_input": "2021-12-13T21:25:37.915983Z",
     "iopub.status.busy": "2021-12-13T21:25:37.915553Z",
     "iopub.status.idle": "2021-12-13T21:25:37.934109Z",
     "shell.execute_reply": "2021-12-13T21:25:37.933739Z"
    }
   },
   "outputs": [
    {
     "name": "stdout",
     "output_type": "stream",
     "text": [
      "el =\r\n",
      "\r\n",
      "   2   1   3   4   5\r\n",
      "\r\n"
     ]
    },
    {
     "name": "stdout",
     "output_type": "stream",
     "text": [
      "ans =\r\n",
      "\r\n",
      "   0.5555   0.8281   0.5307   0.5307   0.5307\r\n",
      "   0.8281   0.5555   0.5307   0.5307   0.5307\r\n",
      "   0.2721   0.2721   0.6677   0.3235   0.4808\r\n",
      "   0.2721   0.2721   0.4808   0.6677   0.3235\r\n",
      "   0.2721   0.2721   0.3235   0.4808   0.6677\r\n",
      "\r\n"
     ]
    }
   ],
   "source": [
    "el = group.sample\n",
    "MP(el,el)"
   ]
  },
  {
   "cell_type": "code",
   "execution_count": null,
   "id": "b2717a82",
   "metadata": {
    "lines_to_next_cell": 2
   },
   "outputs": [],
   "source": []
  }
 ],
 "metadata": {
  "jupytext": {
   "cell_metadata_filter": "-all",
   "main_language": "matlab",
   "notebook_metadata_filter": "-all",
   "text_representation": {
    "extension": ".m",
    "format_name": "light"
   }
  },
  "language_info": {
   "file_extension": ".m",
   "help_links": [
    {
     "text": "GNU Octave",
     "url": "https://www.gnu.org/software/octave/support.html"
    },
    {
     "text": "Octave Kernel",
     "url": "https://github.com/Calysto/octave_kernel"
    },
    {
     "text": "MetaKernel Magics",
     "url": "https://metakernel.readthedocs.io/en/latest/source/README.html"
    }
   ],
   "mimetype": "text/x-octave",
   "name": "octave",
   "version": "6.2.0"
  }
 },
 "nbformat": 4,
 "nbformat_minor": 5
}
