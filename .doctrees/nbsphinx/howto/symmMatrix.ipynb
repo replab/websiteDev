{
 "cells": [
  {
   "cell_type": "markdown",
   "id": "86c9db7f",
   "metadata": {},
   "source": [
    "# Symmetrizing a matrix\n",
    "\n",
    "This document shows how to perform a Reynolds averaging of a matrix in *RepLAB*.\n",
    "\n",
    "## Preparation\n",
    "As always, before using *RepLAB* commands, initialize the library:"
   ]
  },
  {
   "cell_type": "code",
   "execution_count": 1,
   "id": "a40c4aae",
   "metadata": {
    "execution": {
     "iopub.execute_input": "2021-12-18T22:09:07.055750Z",
     "iopub.status.busy": "2021-12-18T22:09:07.055340Z",
     "iopub.status.idle": "2021-12-18T22:09:07.078388Z",
     "shell.execute_reply": "2021-12-18T22:09:07.077959Z"
    }
   },
   "outputs": [
    {
     "name": "stdout",
     "output_type": "stream",
     "text": [
      "error: 'replab_init' undefined near line 1, column 1\r\n"
     ]
    }
   ],
   "source": [
    "addpath([pwd, '/../..']);\n",
    "replab_init('verbose', 0);"
   ]
  },
  {
   "cell_type": "markdown",
   "id": "24539994",
   "metadata": {},
   "source": [
    "## Matrix to be symmetrized\n",
    "\n",
    "Let us consider a random matrix"
   ]
  },
  {
   "cell_type": "code",
   "execution_count": 2,
   "id": "3cb8eafc",
   "metadata": {
    "execution": {
     "iopub.execute_input": "2021-12-18T22:09:07.080882Z",
     "iopub.status.busy": "2021-12-18T22:09:07.080426Z",
     "iopub.status.idle": "2021-12-18T22:09:07.087114Z",
     "shell.execute_reply": "2021-12-18T22:09:07.087442Z"
    }
   },
   "outputs": [
    {
     "name": "stdout",
     "output_type": "stream",
     "text": [
      "M =\r\n",
      "\r\n",
      "   0.621643   0.619090   0.081982   0.092140   0.913552\r\n",
      "   0.671542   0.743053   0.937668   0.976221   0.789840\r\n",
      "   0.383565   0.805961   0.125831   0.767786   0.268610\r\n",
      "   0.958131   0.081291   0.444176   0.724949   0.751837\r\n",
      "   0.221022   0.440804   0.710111   0.542094   0.964233\r\n",
      "\r\n"
     ]
    }
   ],
   "source": [
    "M = rand(5)"
   ]
  },
  {
   "cell_type": "markdown",
   "id": "5b2409e2",
   "metadata": {},
   "source": [
    "Our aim is to compute the average $\\sum_{g\\in G} M(g,g)$ over a group $G$,\n",
    "where the group elements $g$ act on the rows and on the columns of our matrix."
   ]
  },
  {
   "cell_type": "markdown",
   "id": "3a9dd29c",
   "metadata": {},
   "source": [
    "## Group definition\n",
    "\n",
    "Let us consider the permutation group over which we wish to perform the average"
   ]
  },
  {
   "cell_type": "code",
   "execution_count": 3,
   "id": "0be29051",
   "metadata": {
    "execution": {
     "iopub.execute_input": "2021-12-18T22:09:07.090331Z",
     "iopub.status.busy": "2021-12-18T22:09:07.089912Z",
     "iopub.status.idle": "2021-12-18T22:09:07.101796Z",
     "shell.execute_reply": "2021-12-18T22:09:07.101392Z"
    }
   },
   "outputs": [
    {
     "name": "stdout",
     "output_type": "stream",
     "text": [
      "error: 'replab' undefined near line 1, column 1\r\n"
     ]
    },
    {
     "name": "stdout",
     "output_type": "stream",
     "text": [
      "error: 'S5' undefined near line 1, column 1\r\n"
     ]
    }
   ],
   "source": [
    "S5 = replab.S(5);\n",
    "group = S5.subgroup({[2 1 4 5 3]})"
   ]
  },
  {
   "cell_type": "markdown",
   "id": "a3c46785",
   "metadata": {},
   "source": [
    "## Averaging over the group\n",
    "\n",
    "The averaging is done by projecting our matrix onto the commutant of the group's natural representation"
   ]
  },
  {
   "cell_type": "code",
   "execution_count": 4,
   "id": "267a7926",
   "metadata": {
    "execution": {
     "iopub.execute_input": "2021-12-18T22:09:07.104426Z",
     "iopub.status.busy": "2021-12-18T22:09:07.104002Z",
     "iopub.status.idle": "2021-12-18T22:09:07.115573Z",
     "shell.execute_reply": "2021-12-18T22:09:07.115216Z"
    }
   },
   "outputs": [
    {
     "name": "stdout",
     "output_type": "stream",
     "text": [
      "error: 'group' undefined near line 1, column 1\r\n"
     ]
    },
    {
     "name": "stdout",
     "output_type": "stream",
     "text": [
      "error: 'rep' undefined near line 1, column 1\r\n"
     ]
    }
   ],
   "source": [
    "rep = group.naturalRep;\n",
    "com = rep.commutant;"
   ]
  },
  {
   "cell_type": "code",
   "execution_count": 5,
   "id": "f25bbc8a",
   "metadata": {
    "execution": {
     "iopub.execute_input": "2021-12-18T22:09:07.118221Z",
     "iopub.status.busy": "2021-12-18T22:09:07.117800Z",
     "iopub.status.idle": "2021-12-18T22:09:07.125205Z",
     "shell.execute_reply": "2021-12-18T22:09:07.124823Z"
    }
   },
   "outputs": [
    {
     "name": "stdout",
     "output_type": "stream",
     "text": [
      "error: 'com' undefined near line 1, column 1\r\n"
     ]
    }
   ],
   "source": [
    "MP = com.project(M)"
   ]
  },
  {
   "cell_type": "markdown",
   "id": "857fb36a",
   "metadata": {},
   "source": [
    "We can check that the matrix is now invariant over permutation by the group elements"
   ]
  },
  {
   "cell_type": "code",
   "execution_count": 6,
   "id": "79a3c5ff",
   "metadata": {
    "execution": {
     "iopub.execute_input": "2021-12-18T22:09:07.127484Z",
     "iopub.status.busy": "2021-12-18T22:09:07.127062Z",
     "iopub.status.idle": "2021-12-18T22:09:07.138797Z",
     "shell.execute_reply": "2021-12-18T22:09:07.138421Z"
    }
   },
   "outputs": [
    {
     "name": "stdout",
     "output_type": "stream",
     "text": [
      "error: 'group' undefined near line 1, column 1\r\n"
     ]
    },
    {
     "name": "stdout",
     "output_type": "stream",
     "text": [
      "error: 'el' undefined near line 1, column 1\r\n"
     ]
    }
   ],
   "source": [
    "el = group.sample\n",
    "MP(el,el)"
   ]
  }
 ],
 "metadata": {
  "jupytext": {
   "cell_metadata_filter": "-all",
   "main_language": "matlab",
   "notebook_metadata_filter": "-all",
   "text_representation": {
    "extension": ".m",
    "format_name": "light"
   }
  },
  "language_info": {
   "file_extension": ".m",
   "help_links": [
    {
     "text": "GNU Octave",
     "url": "https://www.gnu.org/software/octave/support.html"
    },
    {
     "text": "Octave Kernel",
     "url": "https://github.com/Calysto/octave_kernel"
    },
    {
     "text": "MetaKernel Magics",
     "url": "https://metakernel.readthedocs.io/en/latest/source/README.html"
    }
   ],
   "mimetype": "text/x-octave",
   "name": "octave",
   "version": "6.2.0"
  }
 },
 "nbformat": 4,
 "nbformat_minor": 5
}
