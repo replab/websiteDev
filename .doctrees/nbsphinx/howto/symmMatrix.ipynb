{
 "cells": [
  {
   "cell_type": "markdown",
   "id": "1eb590df",
   "metadata": {},
   "source": [
    "# Symmetrizing a matrix\n",
    "\n",
    "This document shows how to perform a Reynolds averaging of a matrix in *RepLAB*.\n",
    "\n",
    "## Preparation\n",
    "As always, before using *RepLAB* commands, initialize the library:"
   ]
  },
  {
   "cell_type": "code",
   "execution_count": 1,
   "id": "a95e1de2",
   "metadata": {
    "execution": {
     "iopub.execute_input": "2021-12-28T11:52:56.128896Z",
     "iopub.status.busy": "2021-12-28T11:52:56.128321Z",
     "iopub.status.idle": "2021-12-28T11:52:56.152966Z",
     "shell.execute_reply": "2021-12-28T11:52:56.152223Z"
    }
   },
   "outputs": [
    {
     "name": "stdout",
     "output_type": "stream",
     "text": [
      "error: 'replab_init' undefined near line 1, column 1\r\n"
     ]
    }
   ],
   "source": [
    "addpath([pwd, '/../..']);\n",
    "replab_init('verbose', 0);"
   ]
  },
  {
   "cell_type": "markdown",
   "id": "df4c5264",
   "metadata": {},
   "source": [
    "## Matrix to be symmetrized\n",
    "\n",
    "Let us consider a random matrix"
   ]
  },
  {
   "cell_type": "code",
   "execution_count": 2,
   "id": "55aeebf2",
   "metadata": {
    "execution": {
     "iopub.execute_input": "2021-12-28T11:52:56.155750Z",
     "iopub.status.busy": "2021-12-28T11:52:56.155081Z",
     "iopub.status.idle": "2021-12-28T11:52:56.160529Z",
     "shell.execute_reply": "2021-12-28T11:52:56.160853Z"
    }
   },
   "outputs": [
    {
     "name": "stdout",
     "output_type": "stream",
     "text": [
      "M =\r\n",
      "\r\n",
      "   0.816367   0.552827   0.343938   0.446560   0.262584\r\n",
      "   0.538455   0.324404   0.844904   0.610219   0.289090\r\n",
      "   0.845767   0.130595   0.304460   0.894025   0.379184\r\n",
      "   0.798767   0.485524   0.959864   0.426917   0.330495\r\n",
      "   0.066886   0.956143   0.680250   0.152690   0.769601\r\n",
      "\r\n"
     ]
    }
   ],
   "source": [
    "M = rand(5)"
   ]
  },
  {
   "cell_type": "markdown",
   "id": "35065617",
   "metadata": {},
   "source": [
    "Our aim is to compute the average $\\sum_{g\\in G} M(g,g)$ over a group $G$,\n",
    "where the group elements $g$ act on the rows and on the columns of our matrix."
   ]
  },
  {
   "cell_type": "markdown",
   "id": "0ef5f84f",
   "metadata": {},
   "source": [
    "## Group definition\n",
    "\n",
    "Let us consider the permutation group over which we wish to perform the average"
   ]
  },
  {
   "cell_type": "code",
   "execution_count": 3,
   "id": "4942ba7f",
   "metadata": {
    "execution": {
     "iopub.execute_input": "2021-12-28T11:52:56.163449Z",
     "iopub.status.busy": "2021-12-28T11:52:56.163025Z",
     "iopub.status.idle": "2021-12-28T11:52:56.175336Z",
     "shell.execute_reply": "2021-12-28T11:52:56.174983Z"
    }
   },
   "outputs": [
    {
     "name": "stdout",
     "output_type": "stream",
     "text": [
      "error: 'replab' undefined near line 1, column 1\r\n"
     ]
    },
    {
     "name": "stdout",
     "output_type": "stream",
     "text": [
      "error: 'S5' undefined near line 1, column 1\r\n"
     ]
    }
   ],
   "source": [
    "S5 = replab.S(5);\n",
    "group = S5.subgroup({[2 1 4 5 3]})"
   ]
  },
  {
   "cell_type": "markdown",
   "id": "380b066b",
   "metadata": {},
   "source": [
    "## Averaging over the group\n",
    "\n",
    "The averaging is done by projecting our matrix onto the commutant of the group's natural representation"
   ]
  },
  {
   "cell_type": "code",
   "execution_count": 4,
   "id": "c57adcea",
   "metadata": {
    "execution": {
     "iopub.execute_input": "2021-12-28T11:52:56.177755Z",
     "iopub.status.busy": "2021-12-28T11:52:56.177306Z",
     "iopub.status.idle": "2021-12-28T11:52:56.189397Z",
     "shell.execute_reply": "2021-12-28T11:52:56.189718Z"
    }
   },
   "outputs": [
    {
     "name": "stdout",
     "output_type": "stream",
     "text": [
      "error: 'group' undefined near line 1, column 1\r\n"
     ]
    },
    {
     "name": "stdout",
     "output_type": "stream",
     "text": [
      "error: 'rep' undefined near line 1, column 1\r\n"
     ]
    }
   ],
   "source": [
    "rep = group.naturalRep;\n",
    "com = rep.commutant;"
   ]
  },
  {
   "cell_type": "code",
   "execution_count": 5,
   "id": "07d51283",
   "metadata": {
    "execution": {
     "iopub.execute_input": "2021-12-28T11:52:56.192010Z",
     "iopub.status.busy": "2021-12-28T11:52:56.191595Z",
     "iopub.status.idle": "2021-12-28T11:52:56.200841Z",
     "shell.execute_reply": "2021-12-28T11:52:56.200455Z"
    }
   },
   "outputs": [
    {
     "name": "stdout",
     "output_type": "stream",
     "text": [
      "error: 'com' undefined near line 1, column 1\r\n"
     ]
    }
   ],
   "source": [
    "MP = com.project(M)"
   ]
  },
  {
   "cell_type": "markdown",
   "id": "0744ebb6",
   "metadata": {},
   "source": [
    "We can check that the matrix is now invariant over permutation by the group elements"
   ]
  },
  {
   "cell_type": "code",
   "execution_count": 6,
   "id": "1baceb6d",
   "metadata": {
    "execution": {
     "iopub.execute_input": "2021-12-28T11:52:56.203100Z",
     "iopub.status.busy": "2021-12-28T11:52:56.202691Z",
     "iopub.status.idle": "2021-12-28T11:52:56.217288Z",
     "shell.execute_reply": "2021-12-28T11:52:56.216597Z"
    }
   },
   "outputs": [
    {
     "name": "stdout",
     "output_type": "stream",
     "text": [
      "error: 'group' undefined near line 1, column 1\r\n"
     ]
    },
    {
     "name": "stdout",
     "output_type": "stream",
     "text": [
      "error: 'el' undefined near line 1, column 1\r\n"
     ]
    }
   ],
   "source": [
    "el = group.sample\n",
    "MP(el,el)"
   ]
  }
 ],
 "metadata": {
  "jupytext": {
   "cell_metadata_filter": "-all",
   "main_language": "matlab",
   "notebook_metadata_filter": "-all",
   "text_representation": {
    "extension": ".m",
    "format_name": "light"
   }
  },
  "language_info": {
   "file_extension": ".m",
   "help_links": [
    {
     "text": "GNU Octave",
     "url": "https://www.gnu.org/software/octave/support.html"
    },
    {
     "text": "Octave Kernel",
     "url": "https://github.com/Calysto/octave_kernel"
    },
    {
     "text": "MetaKernel Magics",
     "url": "https://metakernel.readthedocs.io/en/latest/source/README.html"
    }
   ],
   "mimetype": "text/x-octave",
   "name": "octave",
   "version": "6.2.0"
  }
 },
 "nbformat": 4,
 "nbformat_minor": 5
}
