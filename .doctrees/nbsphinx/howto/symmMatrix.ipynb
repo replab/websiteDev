{
 "cells": [
  {
   "cell_type": "markdown",
   "id": "5770aad2",
   "metadata": {},
   "source": [
    "# Symmetrizing a matrix\n",
    "\n",
    "This document shows how to perform a Reynolds averaging of a matrix in *RepLAB*.\n",
    "\n",
    "## Preparation\n",
    "As always, before using *RepLAB* commands, initialize the library:"
   ]
  },
  {
   "cell_type": "code",
   "execution_count": 1,
   "id": "72547d49",
   "metadata": {
    "execution": {
     "iopub.execute_input": "2021-12-15T18:20:14.369394Z",
     "iopub.status.busy": "2021-12-15T18:20:14.368908Z",
     "iopub.status.idle": "2021-12-15T18:20:19.737657Z",
     "shell.execute_reply": "2021-12-15T18:20:19.737187Z"
    }
   },
   "outputs": [
    {
     "name": "stdout",
     "output_type": "stream",
     "text": [
      "replab_init: Initialization done.\r\n"
     ]
    }
   ],
   "source": [
    "addpath([pwd, '/../..']);\n",
    "replab_init('verbose', 0);"
   ]
  },
  {
   "cell_type": "markdown",
   "id": "2e24f6f7",
   "metadata": {},
   "source": [
    "## Matrix to be symmetrized\n",
    "\n",
    "Let us consider a random matrix"
   ]
  },
  {
   "cell_type": "code",
   "execution_count": 2,
   "id": "d4f44506",
   "metadata": {
    "execution": {
     "iopub.execute_input": "2021-12-15T18:20:19.740201Z",
     "iopub.status.busy": "2021-12-15T18:20:19.739779Z",
     "iopub.status.idle": "2021-12-15T18:20:19.752511Z",
     "shell.execute_reply": "2021-12-15T18:20:19.752156Z"
    }
   },
   "outputs": [
    {
     "name": "stdout",
     "output_type": "stream",
     "text": [
      "M =\r\n",
      "\r\n",
      "   0.531952   0.047281   0.430443   0.285545   0.854200\r\n",
      "   0.280468   0.810314   0.106498   0.263814   0.776360\r\n",
      "   0.793715   0.778539   0.772261   0.139367   0.306664\r\n",
      "   0.509609   0.889524   0.025989   0.754250   0.083567\r\n",
      "   0.732350   0.680733   0.773470   0.448324   0.087431\r\n",
      "\r\n"
     ]
    }
   ],
   "source": [
    "M = rand(5)"
   ]
  },
  {
   "cell_type": "markdown",
   "id": "3284ba85",
   "metadata": {},
   "source": [
    "Our aim is to compute the average $\\sum_{g\\in G} M(g,g)$ over a group $G$,\n",
    "where the group elements $g$ act on the rows and on the columns of our matrix."
   ]
  },
  {
   "cell_type": "markdown",
   "id": "314c3357",
   "metadata": {},
   "source": [
    "## Group definition\n",
    "\n",
    "Let us consider the permutation group over which we wish to perform the average"
   ]
  },
  {
   "cell_type": "code",
   "execution_count": 3,
   "id": "1a30854f",
   "metadata": {
    "execution": {
     "iopub.execute_input": "2021-12-15T18:20:19.754822Z",
     "iopub.status.busy": "2021-12-15T18:20:19.754438Z",
     "iopub.status.idle": "2021-12-15T18:20:22.374325Z",
     "shell.execute_reply": "2021-12-15T18:20:22.373590Z"
    }
   },
   "outputs": [
    {
     "name": "stdout",
     "output_type": "stream",
     "text": [
      "group ="
     ]
    },
    {
     "name": "stdout",
     "output_type": "stream",
     "text": [
      "\r"
     ]
    },
    {
     "name": "stdout",
     "output_type": "stream",
     "text": [
      "\n"
     ]
    },
    {
     "name": "stdout",
     "output_type": "stream",
     "text": [
      "\r\n",
      "Permutation group acting on 5 elements of order 6\r\n",
      "            identity: [1, 2, 3, 4, 5]\r\n",
      "generator(1 or 'x1'): [2, 1, 4, 5, 3]\r\n",
      "    recognize.source: Cyclic group C(6) of order 6 < x | x^6 = 1 >\r\n",
      "\r\n"
     ]
    }
   ],
   "source": [
    "S5 = replab.S(5);\n",
    "group = S5.subgroup({[2 1 4 5 3]})"
   ]
  },
  {
   "cell_type": "markdown",
   "id": "8bb005a5",
   "metadata": {},
   "source": [
    "## Averaging over the group\n",
    "\n",
    "The averaging is done by projecting our matrix onto the commutant of the group's natural representation"
   ]
  },
  {
   "cell_type": "code",
   "execution_count": 4,
   "id": "e5fafb35",
   "metadata": {
    "execution": {
     "iopub.execute_input": "2021-12-15T18:20:22.376884Z",
     "iopub.status.busy": "2021-12-15T18:20:22.376454Z",
     "iopub.status.idle": "2021-12-15T18:20:22.504227Z",
     "shell.execute_reply": "2021-12-15T18:20:22.503749Z"
    }
   },
   "outputs": [],
   "source": [
    "rep = group.naturalRep;\n",
    "com = rep.commutant;"
   ]
  },
  {
   "cell_type": "code",
   "execution_count": 5,
   "id": "0cb6e33c",
   "metadata": {
    "execution": {
     "iopub.execute_input": "2021-12-15T18:20:22.507524Z",
     "iopub.status.busy": "2021-12-15T18:20:22.507093Z",
     "iopub.status.idle": "2021-12-15T18:20:22.526202Z",
     "shell.execute_reply": "2021-12-15T18:20:22.525818Z"
    }
   },
   "outputs": [
    {
     "name": "stdout",
     "output_type": "stream",
     "text": [
      "MP =\r\n",
      "\r\n",
      "   0.6711   0.1639   0.4528   0.4528   0.4528\r\n",
      "   0.1639   0.6711   0.4528   0.4528   0.4528\r\n",
      "   0.7307   0.7307   0.5380   0.3321   0.2603\r\n",
      "   0.7307   0.7307   0.2603   0.5380   0.3321\r\n",
      "   0.7307   0.7307   0.3321   0.2603   0.5380\r\n",
      "\r\n"
     ]
    }
   ],
   "source": [
    "MP = com.project(M)"
   ]
  },
  {
   "cell_type": "markdown",
   "id": "ebf4d882",
   "metadata": {},
   "source": [
    "We can check that the matrix is now invariant over permutation by the group elements"
   ]
  },
  {
   "cell_type": "code",
   "execution_count": 6,
   "id": "89b8a07f",
   "metadata": {
    "execution": {
     "iopub.execute_input": "2021-12-15T18:20:22.528838Z",
     "iopub.status.busy": "2021-12-15T18:20:22.528373Z",
     "iopub.status.idle": "2021-12-15T18:20:22.546140Z",
     "shell.execute_reply": "2021-12-15T18:20:22.546454Z"
    }
   },
   "outputs": [
    {
     "name": "stdout",
     "output_type": "stream",
     "text": [
      "el =\r\n",
      "\r\n",
      "   1   2   3   4   5\r\n",
      "\r\n"
     ]
    },
    {
     "name": "stdout",
     "output_type": "stream",
     "text": [
      "ans =\r\n",
      "\r\n",
      "   0.6711   0.1639   0.4528   0.4528   0.4528\r\n",
      "   0.1639   0.6711   0.4528   0.4528   0.4528\r\n",
      "   0.7307   0.7307   0.5380   0.3321   0.2603\r\n",
      "   0.7307   0.7307   0.2603   0.5380   0.3321\r\n",
      "   0.7307   0.7307   0.3321   0.2603   0.5380\r\n",
      "\r\n"
     ]
    }
   ],
   "source": [
    "el = group.sample\n",
    "MP(el,el)"
   ]
  }
 ],
 "metadata": {
  "jupytext": {
   "cell_metadata_filter": "-all",
   "main_language": "matlab",
   "notebook_metadata_filter": "-all",
   "text_representation": {
    "extension": ".m",
    "format_name": "light"
   }
  },
  "language_info": {
   "file_extension": ".m",
   "help_links": [
    {
     "text": "GNU Octave",
     "url": "https://www.gnu.org/software/octave/support.html"
    },
    {
     "text": "Octave Kernel",
     "url": "https://github.com/Calysto/octave_kernel"
    },
    {
     "text": "MetaKernel Magics",
     "url": "https://metakernel.readthedocs.io/en/latest/source/README.html"
    }
   ],
   "mimetype": "text/x-octave",
   "name": "octave",
   "version": "6.2.0"
  }
 },
 "nbformat": 4,
 "nbformat_minor": 5
}
