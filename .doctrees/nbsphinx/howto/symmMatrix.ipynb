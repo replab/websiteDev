{
 "cells": [
  {
   "cell_type": "markdown",
   "id": "d9151d2d",
   "metadata": {},
   "source": [
    "# Symmetrizing a matrix\n",
    "\n",
    "This document shows how to perform a Reynolds averaging of a matrix in *RepLAB*.\n",
    "\n",
    "## Preparation\n",
    "As always, before using *RepLAB* commands, initialize the library:"
   ]
  },
  {
   "cell_type": "code",
   "execution_count": 1,
   "id": "c273b1b0",
   "metadata": {
    "execution": {
     "iopub.execute_input": "2021-12-07T09:52:18.341871Z",
     "iopub.status.busy": "2021-12-07T09:52:18.341265Z",
     "iopub.status.idle": "2021-12-07T09:52:25.470857Z",
     "shell.execute_reply": "2021-12-07T09:52:25.469786Z"
    }
   },
   "outputs": [
    {
     "name": "stdout",
     "output_type": "stream",
     "text": [
      "replab_init: Initialization done.\r\n"
     ]
    }
   ],
   "source": [
    "addpath([pwd, '/../..']);\n",
    "replab_init('verbose', 0);"
   ]
  },
  {
   "cell_type": "markdown",
   "id": "8acc79b1",
   "metadata": {},
   "source": [
    "## Matrix to be symmetrized\n",
    "\n",
    "Let us consider a random matrix"
   ]
  },
  {
   "cell_type": "code",
   "execution_count": 2,
   "id": "d88ff4fd",
   "metadata": {
    "execution": {
     "iopub.execute_input": "2021-12-07T09:52:25.474013Z",
     "iopub.status.busy": "2021-12-07T09:52:25.473536Z",
     "iopub.status.idle": "2021-12-07T09:52:25.489749Z",
     "shell.execute_reply": "2021-12-07T09:52:25.489217Z"
    }
   },
   "outputs": [
    {
     "name": "stdout",
     "output_type": "stream",
     "text": [
      "M =\r\n",
      "\r\n",
      "   6.0441e-01   6.8711e-01   8.9144e-01   9.9683e-01   3.7809e-01\r\n",
      "   5.9479e-01   6.9042e-01   7.7816e-01   2.6821e-01   1.7023e-02\r\n",
      "   3.6010e-01   6.8121e-01   2.4051e-01   4.8751e-01   1.0806e-01\r\n",
      "   8.9813e-03   5.0507e-01   5.1180e-02   6.5778e-01   7.8339e-01\r\n",
      "   1.7332e-02   9.7505e-01   1.3946e-01   1.7779e-01   3.3472e-01\r\n",
      "\r\n"
     ]
    }
   ],
   "source": [
    "M = rand(5)"
   ]
  },
  {
   "cell_type": "markdown",
   "id": "31187a43",
   "metadata": {},
   "source": [
    "Our aim is to compute the average $\\sum_{g\\in G} M(g,g)$ over a group $G$,\n",
    "where the group elements $g$ act on the rows and on the columns of our matrix."
   ]
  },
  {
   "cell_type": "markdown",
   "id": "f666ad03",
   "metadata": {},
   "source": [
    "## Group definition\n",
    "\n",
    "Let us consider the permutation group over which we wish to perform the average"
   ]
  },
  {
   "cell_type": "code",
   "execution_count": 3,
   "id": "b97c2238",
   "metadata": {
    "execution": {
     "iopub.execute_input": "2021-12-07T09:52:25.493419Z",
     "iopub.status.busy": "2021-12-07T09:52:25.492684Z",
     "iopub.status.idle": "2021-12-07T09:52:29.271951Z",
     "shell.execute_reply": "2021-12-07T09:52:29.271457Z"
    }
   },
   "outputs": [
    {
     "name": "stdout",
     "output_type": "stream",
     "text": [
      "group ="
     ]
    },
    {
     "name": "stdout",
     "output_type": "stream",
     "text": [
      "\r"
     ]
    },
    {
     "name": "stdout",
     "output_type": "stream",
     "text": [
      "\n"
     ]
    },
    {
     "name": "stdout",
     "output_type": "stream",
     "text": [
      "\r\n",
      "Permutation group acting on 5 elements of order 6\r\n",
      "            identity: [1, 2, 3, 4, 5]\r\n",
      "generator(1 or 'x1'): [2, 1, 4, 5, 3]\r\n",
      "    recognize.source: Cyclic group C(6) of order 6 < x | x^6 = 1 >\r\n",
      "\r\n"
     ]
    }
   ],
   "source": [
    "S5 = replab.S(5);\n",
    "group = S5.subgroup({[2 1 4 5 3]})"
   ]
  },
  {
   "cell_type": "markdown",
   "id": "47e2574e",
   "metadata": {},
   "source": [
    "## Averaging over the group\n",
    "\n",
    "The averaging is done by projecting our matrix onto the commutant of the group's natural representation"
   ]
  },
  {
   "cell_type": "code",
   "execution_count": 4,
   "id": "e54e79a1",
   "metadata": {
    "execution": {
     "iopub.execute_input": "2021-12-07T09:52:29.275283Z",
     "iopub.status.busy": "2021-12-07T09:52:29.274792Z",
     "iopub.status.idle": "2021-12-07T09:52:29.412100Z",
     "shell.execute_reply": "2021-12-07T09:52:29.411565Z"
    }
   },
   "outputs": [],
   "source": [
    "rep = group.naturalRep;\n",
    "com = rep.commutant;"
   ]
  },
  {
   "cell_type": "code",
   "execution_count": 5,
   "id": "78020d16",
   "metadata": {
    "execution": {
     "iopub.execute_input": "2021-12-07T09:52:29.415937Z",
     "iopub.status.busy": "2021-12-07T09:52:29.414663Z",
     "iopub.status.idle": "2021-12-07T09:52:29.438090Z",
     "shell.execute_reply": "2021-12-07T09:52:29.437620Z"
    }
   },
   "outputs": [
    {
     "name": "stdout",
     "output_type": "stream",
     "text": [
      "MP =\r\n",
      "\r\n",
      "   0.6474   0.6409   0.5550   0.5550   0.5550\r\n",
      "   0.6409   0.6474   0.5550   0.5550   0.5550\r\n",
      "   0.4246   0.4246   0.4110   0.4701   0.1123\r\n",
      "   0.4246   0.4246   0.1123   0.4110   0.4701\r\n",
      "   0.4246   0.4246   0.4701   0.1123   0.4110\r\n",
      "\r\n"
     ]
    }
   ],
   "source": [
    "MP = com.project(M)"
   ]
  },
  {
   "cell_type": "markdown",
   "id": "9daca9eb",
   "metadata": {},
   "source": [
    "We can check that the matrix is now invariant over permutation by the group elements"
   ]
  },
  {
   "cell_type": "code",
   "execution_count": 6,
   "id": "2f4d68db",
   "metadata": {
    "execution": {
     "iopub.execute_input": "2021-12-07T09:52:29.441561Z",
     "iopub.status.busy": "2021-12-07T09:52:29.440996Z",
     "iopub.status.idle": "2021-12-07T09:52:29.464614Z",
     "shell.execute_reply": "2021-12-07T09:52:29.464187Z"
    },
    "lines_to_next_cell": 2
   },
   "outputs": [
    {
     "name": "stdout",
     "output_type": "stream",
     "text": [
      "el =\r\n",
      "\r\n",
      "   1   2   3   4   5\r\n",
      "\r\n"
     ]
    },
    {
     "name": "stdout",
     "output_type": "stream",
     "text": [
      "ans =\r\n",
      "\r\n",
      "   0.6474   0.6409   0.5550   0.5550   0.5550\r\n",
      "   0.6409   0.6474   0.5550   0.5550   0.5550\r\n",
      "   0.4246   0.4246   0.4110   0.4701   0.1123\r\n",
      "   0.4246   0.4246   0.1123   0.4110   0.4701\r\n",
      "   0.4246   0.4246   0.4701   0.1123   0.4110\r\n",
      "\r\n"
     ]
    }
   ],
   "source": [
    "el = group.sample\n",
    "MP(el,el)"
   ]
  }
 ],
 "metadata": {
  "jupytext": {
   "cell_metadata_filter": "-all",
   "main_language": "matlab",
   "notebook_metadata_filter": "-all",
   "text_representation": {
    "extension": ".m",
    "format_name": "light"
   }
  },
  "language_info": {
   "file_extension": ".m",
   "help_links": [
    {
     "text": "GNU Octave",
     "url": "https://www.gnu.org/software/octave/support.html"
    },
    {
     "text": "Octave Kernel",
     "url": "https://github.com/Calysto/octave_kernel"
    },
    {
     "text": "MetaKernel Magics",
     "url": "https://metakernel.readthedocs.io/en/latest/source/README.html"
    }
   ],
   "mimetype": "text/x-octave",
   "name": "octave",
   "version": "6.2.0"
  }
 },
 "nbformat": 4,
 "nbformat_minor": 5
}
