{
 "cells": [
  {
   "cell_type": "markdown",
   "id": "13d8699a",
   "metadata": {},
   "source": [
    "# Symmetrizing a matrix\n",
    "\n",
    "This document shows how to perform a Reynolds averaging of a matrix in *RepLAB*.\n",
    "\n",
    "## Preparation\n",
    "As always, before using *RepLAB* commands, initialize the library:"
   ]
  },
  {
   "cell_type": "code",
   "execution_count": 1,
   "id": "c9af4a7c",
   "metadata": {
    "execution": {
     "iopub.execute_input": "2021-12-14T09:17:35.683035Z",
     "iopub.status.busy": "2021-12-14T09:17:35.682664Z",
     "iopub.status.idle": "2021-12-14T09:17:41.462845Z",
     "shell.execute_reply": "2021-12-14T09:17:41.462195Z"
    }
   },
   "outputs": [
    {
     "name": "stdout",
     "output_type": "stream",
     "text": [
      "replab_init: Initialization done.\r\n"
     ]
    }
   ],
   "source": [
    "addpath([pwd, '/../..']);\n",
    "replab_init('verbose', 0);"
   ]
  },
  {
   "cell_type": "markdown",
   "id": "8b4b3ce5",
   "metadata": {},
   "source": [
    "## Matrix to be symmetrized\n",
    "\n",
    "Let us consider a random matrix"
   ]
  },
  {
   "cell_type": "code",
   "execution_count": 2,
   "id": "2bde5c31",
   "metadata": {
    "execution": {
     "iopub.execute_input": "2021-12-14T09:17:41.465516Z",
     "iopub.status.busy": "2021-12-14T09:17:41.465100Z",
     "iopub.status.idle": "2021-12-14T09:17:41.477125Z",
     "shell.execute_reply": "2021-12-14T09:17:41.476719Z"
    }
   },
   "outputs": [
    {
     "name": "stdout",
     "output_type": "stream",
     "text": [
      "M =\r\n",
      "\r\n",
      "   0.112568   0.706125   0.223532   0.437996   0.804132\r\n",
      "   0.562346   0.026718   0.912357   0.774924   0.375662\r\n",
      "   0.715094   0.698613   0.040811   0.389118   0.527939\r\n",
      "   0.732695   0.973420   0.586957   0.185504   0.920012\r\n",
      "   0.696740   0.302154   0.849611   0.179741   0.050976\r\n",
      "\r\n"
     ]
    }
   ],
   "source": [
    "M = rand(5)"
   ]
  },
  {
   "cell_type": "markdown",
   "id": "9942abf9",
   "metadata": {},
   "source": [
    "Our aim is to compute the average $\\sum_{g\\in G} M(g,g)$ over a group $G$,\n",
    "where the group elements $g$ act on the rows and on the columns of our matrix."
   ]
  },
  {
   "cell_type": "markdown",
   "id": "cf6d5b4b",
   "metadata": {},
   "source": [
    "## Group definition\n",
    "\n",
    "Let us consider the permutation group over which we wish to perform the average"
   ]
  },
  {
   "cell_type": "code",
   "execution_count": 3,
   "id": "4d590d6a",
   "metadata": {
    "execution": {
     "iopub.execute_input": "2021-12-14T09:17:41.479604Z",
     "iopub.status.busy": "2021-12-14T09:17:41.479206Z",
     "iopub.status.idle": "2021-12-14T09:17:44.011852Z",
     "shell.execute_reply": "2021-12-14T09:17:44.011465Z"
    }
   },
   "outputs": [
    {
     "name": "stdout",
     "output_type": "stream",
     "text": [
      "group ="
     ]
    },
    {
     "name": "stdout",
     "output_type": "stream",
     "text": [
      "\r"
     ]
    },
    {
     "name": "stdout",
     "output_type": "stream",
     "text": [
      "\n"
     ]
    },
    {
     "name": "stdout",
     "output_type": "stream",
     "text": [
      "\r\n",
      "Permutation group acting on 5 elements of order 6\r\n",
      "            identity: [1, 2, 3, 4, 5]\r\n",
      "generator(1 or 'x1'): [2, 1, 4, 5, 3]\r\n",
      "    recognize.source: Cyclic group C(6) of order 6 < x | x^6 = 1 >\r\n",
      "\r\n"
     ]
    }
   ],
   "source": [
    "S5 = replab.S(5);\n",
    "group = S5.subgroup({[2 1 4 5 3]})"
   ]
  },
  {
   "cell_type": "markdown",
   "id": "b556f297",
   "metadata": {},
   "source": [
    "## Averaging over the group\n",
    "\n",
    "The averaging is done by projecting our matrix onto the commutant of the group's natural representation"
   ]
  },
  {
   "cell_type": "code",
   "execution_count": 4,
   "id": "5ddc63c0",
   "metadata": {
    "execution": {
     "iopub.execute_input": "2021-12-14T09:17:44.014381Z",
     "iopub.status.busy": "2021-12-14T09:17:44.013947Z",
     "iopub.status.idle": "2021-12-14T09:17:44.137072Z",
     "shell.execute_reply": "2021-12-14T09:17:44.136682Z"
    }
   },
   "outputs": [],
   "source": [
    "rep = group.naturalRep;\n",
    "com = rep.commutant;"
   ]
  },
  {
   "cell_type": "code",
   "execution_count": 5,
   "id": "644e108c",
   "metadata": {
    "execution": {
     "iopub.execute_input": "2021-12-14T09:17:44.139926Z",
     "iopub.status.busy": "2021-12-14T09:17:44.139524Z",
     "iopub.status.idle": "2021-12-14T09:17:44.161916Z",
     "shell.execute_reply": "2021-12-14T09:17:44.161556Z"
    }
   },
   "outputs": [
    {
     "name": "stdout",
     "output_type": "stream",
     "text": [
      "MP =\r\n",
      "\r\n",
      "   0.069643   0.634236   0.588101   0.588101   0.588101\r\n",
      "   0.634236   0.069643   0.588101   0.588101   0.588101\r\n",
      "   0.686452   0.686452   0.092430   0.719580   0.431546\r\n",
      "   0.686452   0.686452   0.431546   0.092430   0.719580\r\n",
      "   0.686452   0.686452   0.719580   0.431546   0.092430\r\n",
      "\r\n"
     ]
    }
   ],
   "source": [
    "MP = com.project(M)"
   ]
  },
  {
   "cell_type": "markdown",
   "id": "4d13151b",
   "metadata": {},
   "source": [
    "We can check that the matrix is now invariant over permutation by the group elements"
   ]
  },
  {
   "cell_type": "code",
   "execution_count": 6,
   "id": "fd40111d",
   "metadata": {
    "execution": {
     "iopub.execute_input": "2021-12-14T09:17:44.164292Z",
     "iopub.status.busy": "2021-12-14T09:17:44.163904Z",
     "iopub.status.idle": "2021-12-14T09:17:44.182337Z",
     "shell.execute_reply": "2021-12-14T09:17:44.181941Z"
    }
   },
   "outputs": [
    {
     "name": "stdout",
     "output_type": "stream",
     "text": [
      "el =\r\n",
      "\r\n",
      "   2   1   3   4   5\r\n",
      "\r\n"
     ]
    },
    {
     "name": "stdout",
     "output_type": "stream",
     "text": [
      "ans =\r\n",
      "\r\n",
      "   0.069643   0.634236   0.588101   0.588101   0.588101\r\n",
      "   0.634236   0.069643   0.588101   0.588101   0.588101\r\n",
      "   0.686452   0.686452   0.092430   0.719580   0.431546\r\n",
      "   0.686452   0.686452   0.431546   0.092430   0.719580\r\n",
      "   0.686452   0.686452   0.719580   0.431546   0.092430\r\n",
      "\r\n"
     ]
    }
   ],
   "source": [
    "el = group.sample\n",
    "MP(el,el)"
   ]
  }
 ],
 "metadata": {
  "jupytext": {
   "cell_metadata_filter": "-all",
   "main_language": "matlab",
   "notebook_metadata_filter": "-all",
   "text_representation": {
    "extension": ".m",
    "format_name": "light"
   }
  },
  "language_info": {
   "file_extension": ".m",
   "help_links": [
    {
     "text": "GNU Octave",
     "url": "https://www.gnu.org/software/octave/support.html"
    },
    {
     "text": "Octave Kernel",
     "url": "https://github.com/Calysto/octave_kernel"
    },
    {
     "text": "MetaKernel Magics",
     "url": "https://metakernel.readthedocs.io/en/latest/source/README.html"
    }
   ],
   "mimetype": "text/x-octave",
   "name": "octave",
   "version": "6.2.0"
  }
 },
 "nbformat": 4,
 "nbformat_minor": 5
}
