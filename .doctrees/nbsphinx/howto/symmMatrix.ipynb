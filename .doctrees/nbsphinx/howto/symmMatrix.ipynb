{
 "cells": [
  {
   "cell_type": "markdown",
   "id": "b3505e79",
   "metadata": {},
   "source": [
    "# Symmetrizing a matrix\n",
    "\n",
    "This document shows how to perform a Reynolds averaging of a matrix in *RepLAB*.\n",
    "\n",
    "## Preparation\n",
    "As always, before using *RepLAB* commands, initialize the library:"
   ]
  },
  {
   "cell_type": "code",
   "execution_count": 1,
   "id": "8108093d",
   "metadata": {
    "execution": {
     "iopub.execute_input": "2021-12-15T17:55:24.458141Z",
     "iopub.status.busy": "2021-12-15T17:55:24.457533Z",
     "iopub.status.idle": "2021-12-15T17:55:32.138373Z",
     "shell.execute_reply": "2021-12-15T17:55:32.137586Z"
    }
   },
   "outputs": [
    {
     "name": "stdout",
     "output_type": "stream",
     "text": [
      "replab_init: Initialization done.\r\n"
     ]
    }
   ],
   "source": [
    "addpath([pwd, '/../..']);\n",
    "replab_init('verbose', 0);"
   ]
  },
  {
   "cell_type": "markdown",
   "id": "f7e0b72e",
   "metadata": {},
   "source": [
    "## Matrix to be symmetrized\n",
    "\n",
    "Let us consider a random matrix"
   ]
  },
  {
   "cell_type": "code",
   "execution_count": 2,
   "id": "f05f1329",
   "metadata": {
    "execution": {
     "iopub.execute_input": "2021-12-15T17:55:32.141698Z",
     "iopub.status.busy": "2021-12-15T17:55:32.141080Z",
     "iopub.status.idle": "2021-12-15T17:55:32.158384Z",
     "shell.execute_reply": "2021-12-15T17:55:32.157918Z"
    }
   },
   "outputs": [
    {
     "name": "stdout",
     "output_type": "stream",
     "text": [
      "M =\r\n",
      "\r\n",
      "   0.757328   0.387759   0.964704   0.491991   0.375331\r\n",
      "   0.996832   0.443747   0.415600   0.377683   0.725276\r\n",
      "   0.169980   0.766745   0.909453   0.087910   0.108792\r\n",
      "   0.327129   0.423235   0.592832   0.582345   0.484806\r\n",
      "   0.408231   0.605087   0.818361   0.061552   0.872415\r\n",
      "\r\n"
     ]
    }
   ],
   "source": [
    "M = rand(5)"
   ]
  },
  {
   "cell_type": "markdown",
   "id": "2b1138ff",
   "metadata": {},
   "source": [
    "Our aim is to compute the average $\\sum_{g\\in G} M(g,g)$ over a group $G$,\n",
    "where the group elements $g$ act on the rows and on the columns of our matrix."
   ]
  },
  {
   "cell_type": "markdown",
   "id": "94787bd4",
   "metadata": {},
   "source": [
    "## Group definition\n",
    "\n",
    "Let us consider the permutation group over which we wish to perform the average"
   ]
  },
  {
   "cell_type": "code",
   "execution_count": 3,
   "id": "c6990ac7",
   "metadata": {
    "execution": {
     "iopub.execute_input": "2021-12-15T17:55:32.161307Z",
     "iopub.status.busy": "2021-12-15T17:55:32.160751Z",
     "iopub.status.idle": "2021-12-15T17:55:35.670671Z",
     "shell.execute_reply": "2021-12-15T17:55:35.669907Z"
    }
   },
   "outputs": [
    {
     "name": "stdout",
     "output_type": "stream",
     "text": [
      "group ="
     ]
    },
    {
     "name": "stdout",
     "output_type": "stream",
     "text": [
      "\r"
     ]
    },
    {
     "name": "stdout",
     "output_type": "stream",
     "text": [
      "\n"
     ]
    },
    {
     "name": "stdout",
     "output_type": "stream",
     "text": [
      "\r\n",
      "Permutation group acting on 5 elements of order 6\r\n",
      "            identity: [1, 2, 3, 4, 5]\r\n",
      "generator(1 or 'x1'): [2, 1, 4, 5, 3]\r\n",
      "    recognize.source: Cyclic group C(6) of order 6 < x | x^6 = 1 >\r\n",
      "\r\n"
     ]
    }
   ],
   "source": [
    "S5 = replab.S(5);\n",
    "group = S5.subgroup({[2 1 4 5 3]})"
   ]
  },
  {
   "cell_type": "markdown",
   "id": "46b5b26a",
   "metadata": {},
   "source": [
    "## Averaging over the group\n",
    "\n",
    "The averaging is done by projecting our matrix onto the commutant of the group's natural representation"
   ]
  },
  {
   "cell_type": "code",
   "execution_count": 4,
   "id": "3ce1bb02",
   "metadata": {
    "execution": {
     "iopub.execute_input": "2021-12-15T17:55:35.673900Z",
     "iopub.status.busy": "2021-12-15T17:55:35.673360Z",
     "iopub.status.idle": "2021-12-15T17:55:35.832412Z",
     "shell.execute_reply": "2021-12-15T17:55:35.830489Z"
    }
   },
   "outputs": [],
   "source": [
    "rep = group.naturalRep;\n",
    "com = rep.commutant;"
   ]
  },
  {
   "cell_type": "code",
   "execution_count": 5,
   "id": "7ad236ab",
   "metadata": {
    "execution": {
     "iopub.execute_input": "2021-12-15T17:55:35.835489Z",
     "iopub.status.busy": "2021-12-15T17:55:35.835004Z",
     "iopub.status.idle": "2021-12-15T17:55:35.862227Z",
     "shell.execute_reply": "2021-12-15T17:55:35.861813Z"
    }
   },
   "outputs": [
    {
     "name": "stdout",
     "output_type": "stream",
     "text": [
      "MP =\r\n",
      "\r\n",
      "   0.6005   0.6923   0.5584   0.5584   0.5584\r\n",
      "   0.6923   0.6005   0.5584   0.5584   0.5584\r\n",
      "   0.4501   0.4501   0.7881   0.4637   0.2544\r\n",
      "   0.4501   0.4501   0.2544   0.7881   0.4637\r\n",
      "   0.4501   0.4501   0.4637   0.2544   0.7881\r\n",
      "\r\n"
     ]
    }
   ],
   "source": [
    "MP = com.project(M)"
   ]
  },
  {
   "cell_type": "markdown",
   "id": "add8fc46",
   "metadata": {},
   "source": [
    "We can check that the matrix is now invariant over permutation by the group elements"
   ]
  },
  {
   "cell_type": "code",
   "execution_count": 6,
   "id": "9dd272e0",
   "metadata": {
    "execution": {
     "iopub.execute_input": "2021-12-15T17:55:35.865581Z",
     "iopub.status.busy": "2021-12-15T17:55:35.865079Z",
     "iopub.status.idle": "2021-12-15T17:55:35.886467Z",
     "shell.execute_reply": "2021-12-15T17:55:35.886016Z"
    }
   },
   "outputs": [
    {
     "name": "stdout",
     "output_type": "stream",
     "text": [
      "el =\r\n",
      "\r\n",
      "   1   2   4   5   3\r\n",
      "\r\n"
     ]
    },
    {
     "name": "stdout",
     "output_type": "stream",
     "text": [
      "ans =\r\n",
      "\r\n",
      "   0.6005   0.6923   0.5584   0.5584   0.5584\r\n",
      "   0.6923   0.6005   0.5584   0.5584   0.5584\r\n",
      "   0.4501   0.4501   0.7881   0.4637   0.2544\r\n",
      "   0.4501   0.4501   0.2544   0.7881   0.4637\r\n",
      "   0.4501   0.4501   0.4637   0.2544   0.7881\r\n",
      "\r\n"
     ]
    }
   ],
   "source": [
    "el = group.sample\n",
    "MP(el,el)"
   ]
  }
 ],
 "metadata": {
  "jupytext": {
   "cell_metadata_filter": "-all",
   "main_language": "matlab",
   "notebook_metadata_filter": "-all",
   "text_representation": {
    "extension": ".m",
    "format_name": "light"
   }
  },
  "language_info": {
   "file_extension": ".m",
   "help_links": [
    {
     "text": "GNU Octave",
     "url": "https://www.gnu.org/software/octave/support.html"
    },
    {
     "text": "Octave Kernel",
     "url": "https://github.com/Calysto/octave_kernel"
    },
    {
     "text": "MetaKernel Magics",
     "url": "https://metakernel.readthedocs.io/en/latest/source/README.html"
    }
   ],
   "mimetype": "text/x-octave",
   "name": "octave",
   "version": "6.2.0"
  }
 },
 "nbformat": 4,
 "nbformat_minor": 5
}
