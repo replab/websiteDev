{
 "cells": [
  {
   "cell_type": "markdown",
   "id": "95831a69",
   "metadata": {},
   "source": [
    "# Symmetrizing a matrix\n",
    "\n",
    "This document shows how to perform a Reynolds averaging of a matrix in *RepLAB*.\n",
    "\n",
    "## Preparation\n",
    "As always, before using *RepLAB* commands, initialize the library:"
   ]
  },
  {
   "cell_type": "code",
   "execution_count": 1,
   "id": "d653f2c0",
   "metadata": {
    "execution": {
     "iopub.execute_input": "2021-12-06T15:21:20.476873Z",
     "iopub.status.busy": "2021-12-06T15:21:20.476388Z",
     "iopub.status.idle": "2021-12-06T15:21:26.441613Z",
     "shell.execute_reply": "2021-12-06T15:21:26.441144Z"
    }
   },
   "outputs": [
    {
     "name": "stdout",
     "output_type": "stream",
     "text": [
      "replab_init: Initialization done.\r\n"
     ]
    }
   ],
   "source": [
    "addpath([pwd, '/../..']);\n",
    "replab_init('verbose', 0);"
   ]
  },
  {
   "cell_type": "markdown",
   "id": "7c6f720f",
   "metadata": {},
   "source": [
    "## Definition of the matrix to symmetrize\n",
    "\n",
    "Let us consider a random matrix"
   ]
  },
  {
   "cell_type": "code",
   "execution_count": 2,
   "id": "8f89946d",
   "metadata": {
    "execution": {
     "iopub.execute_input": "2021-12-06T15:21:26.444278Z",
     "iopub.status.busy": "2021-12-06T15:21:26.443846Z",
     "iopub.status.idle": "2021-12-06T15:21:26.457451Z",
     "shell.execute_reply": "2021-12-06T15:21:26.457047Z"
    }
   },
   "outputs": [
    {
     "name": "stdout",
     "output_type": "stream",
     "text": [
      "M =\r\n",
      "\r\n",
      "   0.247361   0.814767   0.081144   0.519134   0.340633\r\n",
      "   0.959731   0.174343   0.782818   0.772889   0.906365\r\n",
      "   0.324417   0.976212   0.099380   0.836409   0.284839\r\n",
      "   0.575802   0.427921   0.163912   0.579640   0.813702\r\n",
      "   0.967045   0.315902   0.321412   0.561534   0.549935\r\n",
      "\r\n"
     ]
    }
   ],
   "source": [
    "M = rand(5)"
   ]
  },
  {
   "cell_type": "markdown",
   "id": "a2f26303",
   "metadata": {},
   "source": [
    "Our aim is to compute the average $\\sum_{g\\in G} M(g,g)$ over a group $G$,\n",
    "where the group elements $g$ act on the rows and on the columns of our matrix."
   ]
  },
  {
   "cell_type": "markdown",
   "id": "67a77340",
   "metadata": {},
   "source": [
    "## Definition of the group\n",
    "\n",
    "Let us consider the permutation group over which we wish to perform the average"
   ]
  },
  {
   "cell_type": "code",
   "execution_count": 3,
   "id": "afed5010",
   "metadata": {
    "execution": {
     "iopub.execute_input": "2021-12-06T15:21:26.460180Z",
     "iopub.status.busy": "2021-12-06T15:21:26.459747Z",
     "iopub.status.idle": "2021-12-06T15:21:29.421968Z",
     "shell.execute_reply": "2021-12-06T15:21:29.422361Z"
    }
   },
   "outputs": [
    {
     "name": "stdout",
     "output_type": "stream",
     "text": [
      "group ="
     ]
    },
    {
     "name": "stdout",
     "output_type": "stream",
     "text": [
      "\r"
     ]
    },
    {
     "name": "stdout",
     "output_type": "stream",
     "text": [
      "\n"
     ]
    },
    {
     "name": "stdout",
     "output_type": "stream",
     "text": [
      "\r\n",
      "Permutation group acting on 5 elements of order 6\r\n",
      "            identity: [1, 2, 3, 4, 5]\r\n",
      "generator(1 or 'x1'): [2, 1, 4, 5, 3]\r\n",
      "    recognize.source: Cyclic group C(6) of order 6 < x | x^6 = 1 >\r\n",
      "\r\n"
     ]
    }
   ],
   "source": [
    "S5 = replab.S(5);\n",
    "group = S5.subgroup({[2 1 4 5 3]})"
   ]
  },
  {
   "cell_type": "markdown",
   "id": "8bd16356",
   "metadata": {},
   "source": [
    "## Averaging\n",
    "\n",
    "The averaging is done by projecting our matrix onto the commutant of the group's natural representation"
   ]
  },
  {
   "cell_type": "code",
   "execution_count": 4,
   "id": "57b03853",
   "metadata": {
    "execution": {
     "iopub.execute_input": "2021-12-06T15:21:29.425417Z",
     "iopub.status.busy": "2021-12-06T15:21:29.424958Z",
     "iopub.status.idle": "2021-12-06T15:21:29.541771Z",
     "shell.execute_reply": "2021-12-06T15:21:29.540970Z"
    }
   },
   "outputs": [],
   "source": [
    "rep = group.naturalRep;\n",
    "com = rep.commutant;"
   ]
  },
  {
   "cell_type": "code",
   "execution_count": 5,
   "id": "5c000e34",
   "metadata": {
    "execution": {
     "iopub.execute_input": "2021-12-06T15:21:29.545048Z",
     "iopub.status.busy": "2021-12-06T15:21:29.544064Z",
     "iopub.status.idle": "2021-12-06T15:21:29.564561Z",
     "shell.execute_reply": "2021-12-06T15:21:29.564171Z"
    }
   },
   "outputs": [
    {
     "name": "stdout",
     "output_type": "stream",
     "text": [
      "MP =\r\n",
      "\r\n",
      "   0.2109   0.8872   0.5672   0.5672   0.5672\r\n",
      "   0.8872   0.2109   0.5672   0.5672   0.5672\r\n",
      "   0.5979   0.5979   0.4097   0.6572   0.3368\r\n",
      "   0.5979   0.5979   0.3368   0.4097   0.6572\r\n",
      "   0.5979   0.5979   0.6572   0.3368   0.4097\r\n",
      "\r\n"
     ]
    }
   ],
   "source": [
    "MP = com.project(M)"
   ]
  },
  {
   "cell_type": "markdown",
   "id": "4878fe30",
   "metadata": {},
   "source": [
    "We can check that the matrix is now invariant over permutation by the group elements"
   ]
  },
  {
   "cell_type": "code",
   "execution_count": 6,
   "id": "8cbf3606",
   "metadata": {
    "execution": {
     "iopub.execute_input": "2021-12-06T15:21:29.567220Z",
     "iopub.status.busy": "2021-12-06T15:21:29.566797Z",
     "iopub.status.idle": "2021-12-06T15:21:29.585698Z",
     "shell.execute_reply": "2021-12-06T15:21:29.585332Z"
    },
    "lines_to_next_cell": 2
   },
   "outputs": [
    {
     "name": "stdout",
     "output_type": "stream",
     "text": [
      "el =\r\n",
      "\r\n",
      "   1   2   3   4   5\r\n",
      "\r\n"
     ]
    },
    {
     "name": "stdout",
     "output_type": "stream",
     "text": [
      "ans =\r\n",
      "\r\n",
      "   0.2109   0.8872   0.5672   0.5672   0.5672\r\n",
      "   0.8872   0.2109   0.5672   0.5672   0.5672\r\n",
      "   0.5979   0.5979   0.4097   0.6572   0.3368\r\n",
      "   0.5979   0.5979   0.3368   0.4097   0.6572\r\n",
      "   0.5979   0.5979   0.6572   0.3368   0.4097\r\n",
      "\r\n"
     ]
    }
   ],
   "source": [
    "el = group.sample\n",
    "MP(el,el)"
   ]
  }
 ],
 "metadata": {
  "jupytext": {
   "cell_metadata_filter": "-all",
   "main_language": "matlab",
   "notebook_metadata_filter": "-all",
   "text_representation": {
    "extension": ".m",
    "format_name": "light"
   }
  },
  "language_info": {
   "file_extension": ".m",
   "help_links": [
    {
     "text": "GNU Octave",
     "url": "https://www.gnu.org/software/octave/support.html"
    },
    {
     "text": "Octave Kernel",
     "url": "https://github.com/Calysto/octave_kernel"
    },
    {
     "text": "MetaKernel Magics",
     "url": "https://metakernel.readthedocs.io/en/latest/source/README.html"
    }
   ],
   "mimetype": "text/x-octave",
   "name": "octave",
   "version": "6.2.0"
  }
 },
 "nbformat": 4,
 "nbformat_minor": 5
}
