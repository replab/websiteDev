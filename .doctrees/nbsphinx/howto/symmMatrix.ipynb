{
 "cells": [
  {
   "cell_type": "markdown",
   "id": "5d6e65eb",
   "metadata": {},
   "source": [
    "# Symmetrizing a matrix\n",
    "\n",
    "This document shows how to perform a Reynolds averaging of a matrix in *RepLAB*.\n",
    "\n",
    "## Preparation\n",
    "As always, before using *RepLAB* commands, initialize the library:"
   ]
  },
  {
   "cell_type": "code",
   "execution_count": 1,
   "id": "07001521",
   "metadata": {
    "execution": {
     "iopub.execute_input": "2021-12-28T10:52:21.490197Z",
     "iopub.status.busy": "2021-12-28T10:52:21.488821Z",
     "iopub.status.idle": "2021-12-28T10:52:21.512408Z",
     "shell.execute_reply": "2021-12-28T10:52:21.511987Z"
    }
   },
   "outputs": [
    {
     "name": "stdout",
     "output_type": "stream",
     "text": [
      "error: 'replab_init' undefined near line 1, column 1\r\n"
     ]
    }
   ],
   "source": [
    "addpath([pwd, '/../..']);\n",
    "replab_init('verbose', 0);"
   ]
  },
  {
   "cell_type": "markdown",
   "id": "a1d00d50",
   "metadata": {},
   "source": [
    "## Matrix to be symmetrized\n",
    "\n",
    "Let us consider a random matrix"
   ]
  },
  {
   "cell_type": "code",
   "execution_count": 2,
   "id": "1c0b0a40",
   "metadata": {
    "execution": {
     "iopub.execute_input": "2021-12-28T10:52:21.514988Z",
     "iopub.status.busy": "2021-12-28T10:52:21.514567Z",
     "iopub.status.idle": "2021-12-28T10:52:21.521537Z",
     "shell.execute_reply": "2021-12-28T10:52:21.521174Z"
    }
   },
   "outputs": [
    {
     "name": "stdout",
     "output_type": "stream",
     "text": [
      "M =\r\n",
      "\r\n",
      "   0.532313   0.873069   0.090920   0.875759   0.330838\r\n",
      "   0.473675   0.165024   0.397399   0.804392   0.833037\r\n",
      "   0.795530   0.083223   0.902248   0.317929   0.679121\r\n",
      "   0.573926   0.489326   0.771641   0.177294   0.040925\r\n",
      "   0.316761   0.213069   0.882570   0.680022   0.570388\r\n",
      "\r\n"
     ]
    }
   ],
   "source": [
    "M = rand(5)"
   ]
  },
  {
   "cell_type": "markdown",
   "id": "061cecad",
   "metadata": {},
   "source": [
    "Our aim is to compute the average $\\sum_{g\\in G} M(g,g)$ over a group $G$,\n",
    "where the group elements $g$ act on the rows and on the columns of our matrix."
   ]
  },
  {
   "cell_type": "markdown",
   "id": "efa51ffa",
   "metadata": {},
   "source": [
    "## Group definition\n",
    "\n",
    "Let us consider the permutation group over which we wish to perform the average"
   ]
  },
  {
   "cell_type": "code",
   "execution_count": 3,
   "id": "db87095b",
   "metadata": {
    "execution": {
     "iopub.execute_input": "2021-12-28T10:52:21.523916Z",
     "iopub.status.busy": "2021-12-28T10:52:21.523488Z",
     "iopub.status.idle": "2021-12-28T10:52:21.536442Z",
     "shell.execute_reply": "2021-12-28T10:52:21.536088Z"
    }
   },
   "outputs": [
    {
     "name": "stdout",
     "output_type": "stream",
     "text": [
      "error: 'replab' undefined near line 1, column 1\r\n"
     ]
    },
    {
     "name": "stdout",
     "output_type": "stream",
     "text": [
      "error: 'S5' undefined near line 1, column 1\r\n"
     ]
    }
   ],
   "source": [
    "S5 = replab.S(5);\n",
    "group = S5.subgroup({[2 1 4 5 3]})"
   ]
  },
  {
   "cell_type": "markdown",
   "id": "562da722",
   "metadata": {},
   "source": [
    "## Averaging over the group\n",
    "\n",
    "The averaging is done by projecting our matrix onto the commutant of the group's natural representation"
   ]
  },
  {
   "cell_type": "code",
   "execution_count": 4,
   "id": "adad8d25",
   "metadata": {
    "execution": {
     "iopub.execute_input": "2021-12-28T10:52:21.538700Z",
     "iopub.status.busy": "2021-12-28T10:52:21.538269Z",
     "iopub.status.idle": "2021-12-28T10:52:21.550155Z",
     "shell.execute_reply": "2021-12-28T10:52:21.549758Z"
    }
   },
   "outputs": [
    {
     "name": "stdout",
     "output_type": "stream",
     "text": [
      "error: 'group' undefined near line 1, column 1\r\n"
     ]
    },
    {
     "name": "stdout",
     "output_type": "stream",
     "text": [
      "error: 'rep' undefined near line 1, column 1\r\n"
     ]
    }
   ],
   "source": [
    "rep = group.naturalRep;\n",
    "com = rep.commutant;"
   ]
  },
  {
   "cell_type": "code",
   "execution_count": 5,
   "id": "55822295",
   "metadata": {
    "execution": {
     "iopub.execute_input": "2021-12-28T10:52:21.552536Z",
     "iopub.status.busy": "2021-12-28T10:52:21.552114Z",
     "iopub.status.idle": "2021-12-28T10:52:21.560109Z",
     "shell.execute_reply": "2021-12-28T10:52:21.559762Z"
    }
   },
   "outputs": [
    {
     "name": "stdout",
     "output_type": "stream",
     "text": [
      "error: 'com' undefined near line 1, column 1\r\n"
     ]
    }
   ],
   "source": [
    "MP = com.project(M)"
   ]
  },
  {
   "cell_type": "markdown",
   "id": "8915a42a",
   "metadata": {},
   "source": [
    "We can check that the matrix is now invariant over permutation by the group elements"
   ]
  },
  {
   "cell_type": "code",
   "execution_count": 6,
   "id": "75319545",
   "metadata": {
    "execution": {
     "iopub.execute_input": "2021-12-28T10:52:21.562613Z",
     "iopub.status.busy": "2021-12-28T10:52:21.562192Z",
     "iopub.status.idle": "2021-12-28T10:52:21.573958Z",
     "shell.execute_reply": "2021-12-28T10:52:21.573614Z"
    }
   },
   "outputs": [
    {
     "name": "stdout",
     "output_type": "stream",
     "text": [
      "error: 'group' undefined near line 1, column 1\r\n"
     ]
    },
    {
     "name": "stdout",
     "output_type": "stream",
     "text": [
      "error: 'el' undefined near line 1, column 1\r\n"
     ]
    }
   ],
   "source": [
    "el = group.sample\n",
    "MP(el,el)"
   ]
  }
 ],
 "metadata": {
  "jupytext": {
   "cell_metadata_filter": "-all",
   "main_language": "matlab",
   "notebook_metadata_filter": "-all",
   "text_representation": {
    "extension": ".m",
    "format_name": "light"
   }
  },
  "language_info": {
   "file_extension": ".m",
   "help_links": [
    {
     "text": "GNU Octave",
     "url": "https://www.gnu.org/software/octave/support.html"
    },
    {
     "text": "Octave Kernel",
     "url": "https://github.com/Calysto/octave_kernel"
    },
    {
     "text": "MetaKernel Magics",
     "url": "https://metakernel.readthedocs.io/en/latest/source/README.html"
    }
   ],
   "mimetype": "text/x-octave",
   "name": "octave",
   "version": "6.2.0"
  }
 },
 "nbformat": 4,
 "nbformat_minor": 5
}
