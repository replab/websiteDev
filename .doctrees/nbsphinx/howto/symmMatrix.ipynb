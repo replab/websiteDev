{
 "cells": [
  {
   "cell_type": "markdown",
   "id": "99294937",
   "metadata": {},
   "source": [
    "# Symmetrizing a matrix\n",
    "\n",
    "This document shows how to perform a Reynolds averaging of a matrix in *RepLAB*.\n",
    "\n",
    "## Preparation\n",
    "As always, before using *RepLAB* commands, initialize the library:"
   ]
  },
  {
   "cell_type": "code",
   "execution_count": 1,
   "id": "b4d307a2",
   "metadata": {
    "execution": {
     "iopub.execute_input": "2021-12-13T20:30:26.908161Z",
     "iopub.status.busy": "2021-12-13T20:30:26.907662Z",
     "iopub.status.idle": "2021-12-13T20:30:34.094527Z",
     "shell.execute_reply": "2021-12-13T20:30:34.093927Z"
    }
   },
   "outputs": [
    {
     "name": "stdout",
     "output_type": "stream",
     "text": [
      "replab_init: Initialization done.\r\n"
     ]
    }
   ],
   "source": [
    "addpath([pwd, '/../..']);\n",
    "replab_init('verbose', 0);"
   ]
  },
  {
   "cell_type": "markdown",
   "id": "e00706c9",
   "metadata": {},
   "source": [
    "## Matrix to be symmetrized\n",
    "\n",
    "Let us consider a random matrix"
   ]
  },
  {
   "cell_type": "code",
   "execution_count": 2,
   "id": "e36ff621",
   "metadata": {
    "execution": {
     "iopub.execute_input": "2021-12-13T20:30:34.097694Z",
     "iopub.status.busy": "2021-12-13T20:30:34.097195Z",
     "iopub.status.idle": "2021-12-13T20:30:34.114018Z",
     "shell.execute_reply": "2021-12-13T20:30:34.113575Z"
    }
   },
   "outputs": [
    {
     "name": "stdout",
     "output_type": "stream",
     "text": [
      "M =\r\n",
      "\r\n",
      "   3.9381e-01   9.8941e-01   5.4186e-01   4.2184e-01   7.7646e-01\r\n",
      "   3.2418e-02   6.0009e-04   1.5760e-02   4.8169e-01   8.9639e-01\r\n",
      "   9.1912e-01   8.6042e-01   8.3493e-01   7.9709e-01   6.6973e-01\r\n",
      "   6.5035e-01   5.3441e-01   1.5838e-01   3.4153e-01   7.3014e-01\r\n",
      "   3.5535e-01   1.7148e-01   7.3291e-01   4.7046e-01   4.3204e-01\r\n",
      "\r\n"
     ]
    }
   ],
   "source": [
    "M = rand(5)"
   ]
  },
  {
   "cell_type": "markdown",
   "id": "47f6968b",
   "metadata": {},
   "source": [
    "Our aim is to compute the average $\\sum_{g\\in G} M(g,g)$ over a group $G$,\n",
    "where the group elements $g$ act on the rows and on the columns of our matrix."
   ]
  },
  {
   "cell_type": "markdown",
   "id": "c2613fc4",
   "metadata": {},
   "source": [
    "## Group definition\n",
    "\n",
    "Let us consider the permutation group over which we wish to perform the average"
   ]
  },
  {
   "cell_type": "code",
   "execution_count": 3,
   "id": "8bcf5d70",
   "metadata": {
    "execution": {
     "iopub.execute_input": "2021-12-13T20:30:34.117230Z",
     "iopub.status.busy": "2021-12-13T20:30:34.116717Z",
     "iopub.status.idle": "2021-12-13T20:30:37.229696Z",
     "shell.execute_reply": "2021-12-13T20:30:37.228949Z"
    }
   },
   "outputs": [
    {
     "name": "stdout",
     "output_type": "stream",
     "text": [
      "group ="
     ]
    },
    {
     "name": "stdout",
     "output_type": "stream",
     "text": [
      "\r"
     ]
    },
    {
     "name": "stdout",
     "output_type": "stream",
     "text": [
      "\n"
     ]
    },
    {
     "name": "stdout",
     "output_type": "stream",
     "text": [
      "\r\n",
      "Permutation group acting on 5 elements of order 6\r\n",
      "            identity: [1, 2, 3, 4, 5]\r\n",
      "generator(1 or 'x1'): [2, 1, 4, 5, 3]\r\n",
      "    recognize.source: Cyclic group C(6) of order 6 < x | x^6 = 1 >\r\n",
      "\r\n"
     ]
    }
   ],
   "source": [
    "S5 = replab.S(5);\n",
    "group = S5.subgroup({[2 1 4 5 3]})"
   ]
  },
  {
   "cell_type": "markdown",
   "id": "27c970b2",
   "metadata": {},
   "source": [
    "## Averaging over the group\n",
    "\n",
    "The averaging is done by projecting our matrix onto the commutant of the group's natural representation"
   ]
  },
  {
   "cell_type": "code",
   "execution_count": 4,
   "id": "1a259a6e",
   "metadata": {
    "execution": {
     "iopub.execute_input": "2021-12-13T20:30:37.233269Z",
     "iopub.status.busy": "2021-12-13T20:30:37.232055Z",
     "iopub.status.idle": "2021-12-13T20:30:37.388764Z",
     "shell.execute_reply": "2021-12-13T20:30:37.388200Z"
    }
   },
   "outputs": [],
   "source": [
    "rep = group.naturalRep;\n",
    "com = rep.commutant;"
   ]
  },
  {
   "cell_type": "code",
   "execution_count": 5,
   "id": "622d38f6",
   "metadata": {
    "execution": {
     "iopub.execute_input": "2021-12-13T20:30:37.392673Z",
     "iopub.status.busy": "2021-12-13T20:30:37.391059Z",
     "iopub.status.idle": "2021-12-13T20:30:37.418270Z",
     "shell.execute_reply": "2021-12-13T20:30:37.417815Z"
    }
   },
   "outputs": [
    {
     "name": "stdout",
     "output_type": "stream",
     "text": [
      "MP =\r\n",
      "\r\n",
      "   0.1972   0.5109   0.5223   0.5223   0.5223\r\n",
      "   0.5109   0.1972   0.5223   0.5223   0.5223\r\n",
      "   0.5819   0.5819   0.5362   0.7534   0.4329\r\n",
      "   0.5819   0.5819   0.4329   0.5362   0.7534\r\n",
      "   0.5819   0.5819   0.7534   0.4329   0.5362\r\n",
      "\r\n"
     ]
    }
   ],
   "source": [
    "MP = com.project(M)"
   ]
  },
  {
   "cell_type": "markdown",
   "id": "ac28dd81",
   "metadata": {},
   "source": [
    "We can check that the matrix is now invariant over permutation by the group elements"
   ]
  },
  {
   "cell_type": "code",
   "execution_count": 6,
   "id": "6f013ea5",
   "metadata": {
    "execution": {
     "iopub.execute_input": "2021-12-13T20:30:37.421527Z",
     "iopub.status.busy": "2021-12-13T20:30:37.420925Z",
     "iopub.status.idle": "2021-12-13T20:30:37.444446Z",
     "shell.execute_reply": "2021-12-13T20:30:37.444037Z"
    }
   },
   "outputs": [
    {
     "name": "stdout",
     "output_type": "stream",
     "text": [
      "el =\r\n",
      "\r\n",
      "   1   2   3   4   5\r\n",
      "\r\n"
     ]
    },
    {
     "name": "stdout",
     "output_type": "stream",
     "text": [
      "ans =\r\n",
      "\r\n",
      "   0.1972   0.5109   0.5223   0.5223   0.5223\r\n",
      "   0.5109   0.1972   0.5223   0.5223   0.5223\r\n",
      "   0.5819   0.5819   0.5362   0.7534   0.4329\r\n",
      "   0.5819   0.5819   0.4329   0.5362   0.7534\r\n",
      "   0.5819   0.5819   0.7534   0.4329   0.5362\r\n",
      "\r\n"
     ]
    }
   ],
   "source": [
    "el = group.sample\n",
    "MP(el,el)"
   ]
  },
  {
   "cell_type": "code",
   "execution_count": null,
   "id": "7a58cd88",
   "metadata": {
    "lines_to_next_cell": 2
   },
   "outputs": [],
   "source": []
  }
 ],
 "metadata": {
  "jupytext": {
   "cell_metadata_filter": "-all",
   "main_language": "matlab",
   "notebook_metadata_filter": "-all",
   "text_representation": {
    "extension": ".m",
    "format_name": "light"
   }
  },
  "language_info": {
   "file_extension": ".m",
   "help_links": [
    {
     "text": "GNU Octave",
     "url": "https://www.gnu.org/software/octave/support.html"
    },
    {
     "text": "Octave Kernel",
     "url": "https://github.com/Calysto/octave_kernel"
    },
    {
     "text": "MetaKernel Magics",
     "url": "https://metakernel.readthedocs.io/en/latest/source/README.html"
    }
   ],
   "mimetype": "text/x-octave",
   "name": "octave",
   "version": "6.2.0"
  }
 },
 "nbformat": 4,
 "nbformat_minor": 5
}
