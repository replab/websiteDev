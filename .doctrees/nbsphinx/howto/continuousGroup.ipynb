{
 "cells": [
  {
   "cell_type": "markdown",
   "id": "c550b65f",
   "metadata": {},
   "source": [
    "# Defining a continuous group\n",
    "\n",
    "This document illustrates how to define a compact group in *RepLAB*.\n",
    "\n",
    "## Preparation\n",
    "As always, before using *RepLAB* commands, initialize the library:"
   ]
  },
  {
   "cell_type": "code",
   "execution_count": 1,
   "id": "dd9f7955",
   "metadata": {
    "execution": {
     "iopub.execute_input": "2021-12-13T20:27:52.718884Z",
     "iopub.status.busy": "2021-12-13T20:27:52.718392Z",
     "iopub.status.idle": "2021-12-13T20:27:59.859955Z",
     "shell.execute_reply": "2021-12-13T20:27:59.858937Z"
    }
   },
   "outputs": [
    {
     "name": "stdout",
     "output_type": "stream",
     "text": [
      "replab_init: Initialization done.\r\n"
     ]
    }
   ],
   "source": [
    "addpath([pwd, '/../..']);\n",
    "replab_init('verbose', 0);"
   ]
  },
  {
   "cell_type": "markdown",
   "id": "8cbe0ba4",
   "metadata": {},
   "source": [
    "## Group definition\n",
    "\n",
    "The group of unitary matrices in dimension 2 can be constructed simply as"
   ]
  },
  {
   "cell_type": "code",
   "execution_count": 2,
   "id": "2bc4e215",
   "metadata": {
    "execution": {
     "iopub.execute_input": "2021-12-13T20:27:59.863365Z",
     "iopub.status.busy": "2021-12-13T20:27:59.862843Z",
     "iopub.status.idle": "2021-12-13T20:27:59.917884Z",
     "shell.execute_reply": "2021-12-13T20:27:59.917349Z"
    }
   },
   "outputs": [
    {
     "name": "stdout",
     "output_type": "stream",
     "text": [
      "group =\r\n",
      "\r\n",
      "Unitary group U(2)\r\n",
      "  algebra: 'C'\r\n",
      " identity: [1, 0; 0, 1]\r\n",
      "isSpecial: false\r\n",
      "        n: 2\r\n",
      "\r\n"
     ]
    }
   ],
   "source": [
    "group = replab.U(2)"
   ]
  },
  {
   "cell_type": "markdown",
   "id": "7b29ee9d",
   "metadata": {},
   "source": [
    "*RepLAB* integrates several standard compact groups, which can be constructed\n",
    "in a similar fashion. This includes in particular the special unitary group,\n",
    "the (special) orthogonal group and the symplectic group."
   ]
  },
  {
   "cell_type": "code",
   "execution_count": null,
   "id": "c7ba1374",
   "metadata": {
    "lines_to_next_cell": 2
   },
   "outputs": [],
   "source": []
  }
 ],
 "metadata": {
  "jupytext": {
   "cell_metadata_filter": "-all",
   "main_language": "matlab",
   "notebook_metadata_filter": "-all",
   "text_representation": {
    "extension": ".m",
    "format_name": "light"
   }
  },
  "language_info": {
   "file_extension": ".m",
   "help_links": [
    {
     "text": "GNU Octave",
     "url": "https://www.gnu.org/software/octave/support.html"
    },
    {
     "text": "Octave Kernel",
     "url": "https://github.com/Calysto/octave_kernel"
    },
    {
     "text": "MetaKernel Magics",
     "url": "https://metakernel.readthedocs.io/en/latest/source/README.html"
    }
   ],
   "mimetype": "text/x-octave",
   "name": "octave",
   "version": "6.2.0"
  }
 },
 "nbformat": 4,
 "nbformat_minor": 5
}
