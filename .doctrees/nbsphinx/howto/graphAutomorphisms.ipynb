{
 "cells": [
  {
   "cell_type": "markdown",
   "id": "a680e7c0",
   "metadata": {},
   "source": [
    "# Graph automorphism group\n",
    "\n",
    "This document illustrated how *RepLAB* can be used to compute the automorphism group of a graph.\n",
    "\n",
    "## Preparation\n",
    "As always, before using *RepLAB* commands, initialize the library:"
   ]
  },
  {
   "cell_type": "code",
   "execution_count": 1,
   "id": "591ca79d",
   "metadata": {
    "execution": {
     "iopub.execute_input": "2021-12-28T11:52:34.678732Z",
     "iopub.status.busy": "2021-12-28T11:52:34.678296Z",
     "iopub.status.idle": "2021-12-28T11:52:34.701415Z",
     "shell.execute_reply": "2021-12-28T11:52:34.700967Z"
    }
   },
   "outputs": [
    {
     "name": "stdout",
     "output_type": "stream",
     "text": [
      "error: 'replab_init' undefined near line 1, column 1\r\n"
     ]
    }
   ],
   "source": [
    "addpath([pwd, '/../..']);\n",
    "replab_init('verbose', 0);"
   ]
  },
  {
   "cell_type": "markdown",
   "id": "b97b5122",
   "metadata": {},
   "source": [
    "## Graph definition\n",
    "\n",
    "In *RepLAB*, undirected graphs are represented by the class\n",
    "replab.UndirectedGraph. A graph can be initialized from a list of edges\n",
    "or from an adjacency matrix. For instance, the graph with adjacency matrix"
   ]
  },
  {
   "cell_type": "code",
   "execution_count": 2,
   "id": "9fe0ab33",
   "metadata": {
    "execution": {
     "iopub.execute_input": "2021-12-28T11:52:34.704289Z",
     "iopub.status.busy": "2021-12-28T11:52:34.703857Z",
     "iopub.status.idle": "2021-12-28T11:52:34.712454Z",
     "shell.execute_reply": "2021-12-28T11:52:34.712100Z"
    }
   },
   "outputs": [],
   "source": [
    "M = [0 1 1 1\n",
    "1 0 0 1\n",
    "1 0 0 1\n",
    "1 1 1 0];"
   ]
  },
  {
   "cell_type": "markdown",
   "id": "5f06023f",
   "metadata": {},
   "source": [
    "is constructed by calling"
   ]
  },
  {
   "cell_type": "code",
   "execution_count": 3,
   "id": "824af07d",
   "metadata": {
    "execution": {
     "iopub.execute_input": "2021-12-28T11:52:34.715108Z",
     "iopub.status.busy": "2021-12-28T11:52:34.714691Z",
     "iopub.status.idle": "2021-12-28T11:52:34.723028Z",
     "shell.execute_reply": "2021-12-28T11:52:34.722676Z"
    }
   },
   "outputs": [
    {
     "name": "stdout",
     "output_type": "stream",
     "text": [
      "error: 'replab' undefined near line 1, column 1\r\n"
     ]
    }
   ],
   "source": [
    "graph = replab.UndirectedGraph.fromAdjacencyMatrix(M)"
   ]
  },
  {
   "cell_type": "markdown",
   "id": "db5917f0",
   "metadata": {},
   "source": [
    "## Automorphism computation\n",
    "\n",
    "The automorphisms of a graph are obtained by simply calling"
   ]
  },
  {
   "cell_type": "code",
   "execution_count": 4,
   "id": "19ce76e6",
   "metadata": {
    "execution": {
     "iopub.execute_input": "2021-12-28T11:52:34.725529Z",
     "iopub.status.busy": "2021-12-28T11:52:34.725100Z",
     "iopub.status.idle": "2021-12-28T11:52:34.883648Z",
     "shell.execute_reply": "2021-12-28T11:52:34.884017Z"
    }
   },
   "outputs": [
    {
     "name": "stdout",
     "output_type": "stream",
     "text": [
      "error: 'graph' undefined near line 1, column 1\r\n",
      "\r\n",
      "The 'graph' function is not yet implemented in Octave.\r\n",
      "\r\n",
      "Please read <https://www.octave.org/missing.html> to learn how you can\r\n",
      "contribute missing functionality.\r\n"
     ]
    }
   ],
   "source": [
    "group = graph.automorphismGroup"
   ]
  },
  {
   "cell_type": "markdown",
   "id": "ed5ae758",
   "metadata": {},
   "source": [
    "This returns the group under which the graph is invariant. In the present case, this group is a Klein group of order 4, which admits 2 generators."
   ]
  },
  {
   "cell_type": "markdown",
   "id": "40494db0",
   "metadata": {},
   "source": [
    "## Bonus\n",
    "\n",
    "Graphs can have colored vertices as well as weighted edges. These are taken into account during the automorphism computation."
   ]
  }
 ],
 "metadata": {
  "jupytext": {
   "cell_metadata_filter": "-all",
   "main_language": "matlab",
   "notebook_metadata_filter": "-all",
   "text_representation": {
    "extension": ".m",
    "format_name": "light"
   }
  },
  "language_info": {
   "file_extension": ".m",
   "help_links": [
    {
     "text": "GNU Octave",
     "url": "https://www.gnu.org/software/octave/support.html"
    },
    {
     "text": "Octave Kernel",
     "url": "https://github.com/Calysto/octave_kernel"
    },
    {
     "text": "MetaKernel Magics",
     "url": "https://metakernel.readthedocs.io/en/latest/source/README.html"
    }
   ],
   "mimetype": "text/x-octave",
   "name": "octave",
   "version": "6.2.0"
  }
 },
 "nbformat": 4,
 "nbformat_minor": 5
}
