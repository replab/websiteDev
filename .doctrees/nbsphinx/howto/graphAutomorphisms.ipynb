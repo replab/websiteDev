{
 "cells": [
  {
   "cell_type": "markdown",
   "id": "bcc7a22c",
   "metadata": {},
   "source": [
    "# Graph automorphism group\n",
    "\n",
    "This document illustrated how *RepLAB* can be used to compute the automorphism group of a graph.\n",
    "\n",
    "## Preparation\n",
    "As always, before using *RepLAB* commands, initialize the library:"
   ]
  },
  {
   "cell_type": "code",
   "execution_count": 1,
   "id": "ce83e1b6",
   "metadata": {
    "execution": {
     "iopub.execute_input": "2021-12-18T22:08:45.645013Z",
     "iopub.status.busy": "2021-12-18T22:08:45.642076Z",
     "iopub.status.idle": "2021-12-18T22:08:45.665231Z",
     "shell.execute_reply": "2021-12-18T22:08:45.664769Z"
    }
   },
   "outputs": [
    {
     "name": "stdout",
     "output_type": "stream",
     "text": [
      "error: 'replab_init' undefined near line 1, column 1\r\n"
     ]
    }
   ],
   "source": [
    "addpath([pwd, '/../..']);\n",
    "replab_init('verbose', 0);"
   ]
  },
  {
   "cell_type": "markdown",
   "id": "1b2d3734",
   "metadata": {},
   "source": [
    "## Graph definition\n",
    "\n",
    "In *RepLAB*, undirected graphs are represented by the class\n",
    "replab.UndirectedGraph. A graph can be initialized from a list of edges\n",
    "or from an adjacency matrix. For instance, the graph with adjacency matrix"
   ]
  },
  {
   "cell_type": "code",
   "execution_count": 2,
   "id": "433bbff9",
   "metadata": {
    "execution": {
     "iopub.execute_input": "2021-12-18T22:08:45.667771Z",
     "iopub.status.busy": "2021-12-18T22:08:45.667338Z",
     "iopub.status.idle": "2021-12-18T22:08:45.677289Z",
     "shell.execute_reply": "2021-12-18T22:08:45.676885Z"
    }
   },
   "outputs": [],
   "source": [
    "M = [0 1 1 1\n",
    "1 0 0 1\n",
    "1 0 0 1\n",
    "1 1 1 0];"
   ]
  },
  {
   "cell_type": "markdown",
   "id": "c505d22f",
   "metadata": {},
   "source": [
    "is constructed by calling"
   ]
  },
  {
   "cell_type": "code",
   "execution_count": 3,
   "id": "f177d9a1",
   "metadata": {
    "execution": {
     "iopub.execute_input": "2021-12-18T22:08:45.679867Z",
     "iopub.status.busy": "2021-12-18T22:08:45.679449Z",
     "iopub.status.idle": "2021-12-18T22:08:45.688203Z",
     "shell.execute_reply": "2021-12-18T22:08:45.687855Z"
    }
   },
   "outputs": [
    {
     "name": "stdout",
     "output_type": "stream",
     "text": [
      "error: 'replab' undefined near line 1, column 1\r\n"
     ]
    }
   ],
   "source": [
    "graph = replab.UndirectedGraph.fromAdjacencyMatrix(M)"
   ]
  },
  {
   "cell_type": "markdown",
   "id": "6b62f68a",
   "metadata": {},
   "source": [
    "## Automorphism computation\n",
    "\n",
    "The automorphisms of a graph are obtained by simply calling"
   ]
  },
  {
   "cell_type": "code",
   "execution_count": 4,
   "id": "7a9bff4c",
   "metadata": {
    "execution": {
     "iopub.execute_input": "2021-12-18T22:08:45.690581Z",
     "iopub.status.busy": "2021-12-18T22:08:45.690164Z",
     "iopub.status.idle": "2021-12-18T22:08:45.850342Z",
     "shell.execute_reply": "2021-12-18T22:08:45.849628Z"
    }
   },
   "outputs": [
    {
     "name": "stdout",
     "output_type": "stream",
     "text": [
      "error: 'graph' undefined near line 1, column 1\r\n",
      "\r\n",
      "The 'graph' function is not yet implemented in Octave.\r\n",
      "\r\n",
      "Please read <https://www.octave.org/missing.html> to learn how you can\r\n",
      "contribute missing functionality.\r\n"
     ]
    }
   ],
   "source": [
    "group = graph.automorphismGroup"
   ]
  },
  {
   "cell_type": "markdown",
   "id": "81555a3c",
   "metadata": {},
   "source": [
    "This returns the group under which the graph is invariant. In the present case, this group is a Klein group of order 4, which admits 2 generators."
   ]
  },
  {
   "cell_type": "markdown",
   "id": "ba056995",
   "metadata": {},
   "source": [
    "## Bonus\n",
    "\n",
    "Graphs can have colored vertices as well as weighted edges. These are taken into account during the automorphism computation."
   ]
  }
 ],
 "metadata": {
  "jupytext": {
   "cell_metadata_filter": "-all",
   "main_language": "matlab",
   "notebook_metadata_filter": "-all",
   "text_representation": {
    "extension": ".m",
    "format_name": "light"
   }
  },
  "language_info": {
   "file_extension": ".m",
   "help_links": [
    {
     "text": "GNU Octave",
     "url": "https://www.gnu.org/software/octave/support.html"
    },
    {
     "text": "Octave Kernel",
     "url": "https://github.com/Calysto/octave_kernel"
    },
    {
     "text": "MetaKernel Magics",
     "url": "https://metakernel.readthedocs.io/en/latest/source/README.html"
    }
   ],
   "mimetype": "text/x-octave",
   "name": "octave",
   "version": "6.2.0"
  }
 },
 "nbformat": 4,
 "nbformat_minor": 5
}
