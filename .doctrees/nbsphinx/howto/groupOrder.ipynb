{
 "cells": [
  {
   "cell_type": "markdown",
   "id": "c4a130d0",
   "metadata": {},
   "source": [
    "# Computing the order of a permutation group\n",
    "\n",
    "This document shows how to compute the order of a permutation group in *RepLAB*.\n",
    "\n",
    "## Preparation\n",
    "As always, before using *RepLAB* commands, initialize the library:"
   ]
  },
  {
   "cell_type": "code",
   "execution_count": 1,
   "id": "e86d52d5",
   "metadata": {
    "execution": {
     "iopub.execute_input": "2021-12-15T18:19:01.584496Z",
     "iopub.status.busy": "2021-12-15T18:19:01.584054Z",
     "iopub.status.idle": "2021-12-15T18:19:07.077750Z",
     "shell.execute_reply": "2021-12-15T18:19:07.077284Z"
    }
   },
   "outputs": [
    {
     "name": "stdout",
     "output_type": "stream",
     "text": [
      "replab_init: Initialization done.\r\n"
     ]
    }
   ],
   "source": [
    "addpath([pwd, '/../..']);\n",
    "replab_init('verbose', 0);"
   ]
  },
  {
   "cell_type": "markdown",
   "id": "0b639dab",
   "metadata": {},
   "source": [
    "## Permutation group\n",
    "\n",
    "Consider the following group"
   ]
  },
  {
   "cell_type": "code",
   "execution_count": 2,
   "id": "1748435d",
   "metadata": {
    "execution": {
     "iopub.execute_input": "2021-12-15T18:19:07.080185Z",
     "iopub.status.busy": "2021-12-15T18:19:07.079734Z",
     "iopub.status.idle": "2021-12-15T18:19:07.206176Z",
     "shell.execute_reply": "2021-12-15T18:19:07.205731Z"
    }
   },
   "outputs": [
    {
     "name": "stdout",
     "output_type": "stream",
     "text": [
      "G ="
     ]
    },
    {
     "name": "stdout",
     "output_type": "stream",
     "text": [
      "\r"
     ]
    },
    {
     "name": "stdout",
     "output_type": "stream",
     "text": [
      "\n"
     ]
    },
    {
     "name": "stdout",
     "output_type": "stream",
     "text": [
      "\r\n",
      "Permutation group acting on 10 elements\r\n",
      "            identity: [1, 2, 3, 4, 5, 6, 7, 8, 9, 10]\r\n",
      "generator(1 or 'x1'): [2, 3, 4, 5, 1, 7, 8, 9, 10, 6]\r\n",
      "generator(2 or 'x2'): [2, 1, 4, 3, 6, 5, 8, 7, 10, 9]\r\n",
      "\r\n"
     ]
    }
   ],
   "source": [
    "G = replab.PermutationGroup.of([2 3 4 5 1 7 8 9 10 6], [2 1 4 3 6 5 8 7 10 9])"
   ]
  },
  {
   "cell_type": "markdown",
   "id": "ec083ef8",
   "metadata": {},
   "source": [
    "## Order computation\n",
    "\n",
    "The order of the group can be computed by simply"
   ]
  },
  {
   "cell_type": "code",
   "execution_count": 3,
   "id": "7b2a2a40",
   "metadata": {
    "execution": {
     "iopub.execute_input": "2021-12-15T18:19:07.209119Z",
     "iopub.status.busy": "2021-12-15T18:19:07.208701Z",
     "iopub.status.idle": "2021-12-15T18:19:07.222465Z",
     "shell.execute_reply": "2021-12-15T18:19:07.222103Z"
    }
   },
   "outputs": [
    {
     "name": "stdout",
     "output_type": "stream",
     "text": [
      "ans =\r\n",
      "    1920\r\n"
     ]
    }
   ],
   "source": [
    "G.order"
   ]
  },
  {
   "cell_type": "markdown",
   "id": "a8ee19bb",
   "metadata": {},
   "source": [
    "Once computed, the order is a property of the group"
   ]
  },
  {
   "cell_type": "code",
   "execution_count": 4,
   "id": "7aafcc60",
   "metadata": {
    "execution": {
     "iopub.execute_input": "2021-12-15T18:19:07.225267Z",
     "iopub.status.busy": "2021-12-15T18:19:07.224838Z",
     "iopub.status.idle": "2021-12-15T18:19:07.264876Z",
     "shell.execute_reply": "2021-12-15T18:19:07.264471Z"
    }
   },
   "outputs": [
    {
     "name": "stdout",
     "output_type": "stream",
     "text": [
      "G =\r\n",
      "\r\n",
      "Permutation group acting on 10 elements of order 1920\r\n",
      "            identity: [1, 2, 3, 4, 5, 6, 7, 8, 9, 10]\r\n",
      "generator(1 or 'x1'): [2, 3, 4, 5, 1, 7, 8, 9, 10, 6]\r\n",
      "generator(2 or 'x2'): [2, 1, 4, 3, 6, 5, 8, 7, 10, 9]\r\n",
      "\r\n"
     ]
    }
   ],
   "source": [
    "G"
   ]
  }
 ],
 "metadata": {
  "jupytext": {
   "cell_metadata_filter": "-all",
   "main_language": "matlab",
   "notebook_metadata_filter": "-all",
   "text_representation": {
    "extension": ".m",
    "format_name": "light"
   }
  },
  "language_info": {
   "file_extension": ".m",
   "help_links": [
    {
     "text": "GNU Octave",
     "url": "https://www.gnu.org/software/octave/support.html"
    },
    {
     "text": "Octave Kernel",
     "url": "https://github.com/Calysto/octave_kernel"
    },
    {
     "text": "MetaKernel Magics",
     "url": "https://metakernel.readthedocs.io/en/latest/source/README.html"
    }
   ],
   "mimetype": "text/x-octave",
   "name": "octave",
   "version": "6.2.0"
  }
 },
 "nbformat": 4,
 "nbformat_minor": 5
}
