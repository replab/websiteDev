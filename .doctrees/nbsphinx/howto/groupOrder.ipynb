{
 "cells": [
  {
   "cell_type": "markdown",
   "id": "04426545",
   "metadata": {},
   "source": [
    "# Computing the order of a permutation group\n",
    "\n",
    "This document shows how to compute the order of a permutation group in *RepLAB*.\n",
    "\n",
    "## Preparation\n",
    "As always, before using *RepLAB* commands, initialize the library:"
   ]
  },
  {
   "cell_type": "code",
   "execution_count": 1,
   "id": "969196b9",
   "metadata": {
    "execution": {
     "iopub.execute_input": "2021-12-13T21:43:17.106781Z",
     "iopub.status.busy": "2021-12-13T21:43:17.106285Z",
     "iopub.status.idle": "2021-12-13T21:43:23.058791Z",
     "shell.execute_reply": "2021-12-13T21:43:23.058302Z"
    }
   },
   "outputs": [
    {
     "name": "stdout",
     "output_type": "stream",
     "text": [
      "replab_init: Initialization done.\r\n"
     ]
    }
   ],
   "source": [
    "addpath([pwd, '/../..']);\n",
    "replab_init('verbose', 0);"
   ]
  },
  {
   "cell_type": "markdown",
   "id": "c57383e7",
   "metadata": {},
   "source": [
    "## Permutation group\n",
    "\n",
    "Consider the following group"
   ]
  },
  {
   "cell_type": "code",
   "execution_count": 2,
   "id": "36c787ea",
   "metadata": {
    "execution": {
     "iopub.execute_input": "2021-12-13T21:43:23.061620Z",
     "iopub.status.busy": "2021-12-13T21:43:23.061181Z",
     "iopub.status.idle": "2021-12-13T21:43:23.203867Z",
     "shell.execute_reply": "2021-12-13T21:43:23.204248Z"
    }
   },
   "outputs": [
    {
     "name": "stdout",
     "output_type": "stream",
     "text": [
      "G ="
     ]
    },
    {
     "name": "stdout",
     "output_type": "stream",
     "text": [
      "\r"
     ]
    },
    {
     "name": "stdout",
     "output_type": "stream",
     "text": [
      "\n"
     ]
    },
    {
     "name": "stdout",
     "output_type": "stream",
     "text": [
      "\r\n",
      "Permutation group acting on 10 elements\r\n",
      "            identity: [1, 2, 3, 4, 5, 6, 7, 8, 9, 10]\r\n",
      "generator(1 or 'x1'): [2, 3, 4, 5, 1, 7, 8, 9, 10, 6]\r\n",
      "generator(2 or 'x2'): [2, 1, 4, 3, 6, 5, 8, 7, 10, 9]\r\n",
      "\r\n"
     ]
    }
   ],
   "source": [
    "G = replab.PermutationGroup.of([2 3 4 5 1 7 8 9 10 6], [2 1 4 3 6 5 8 7 10 9])"
   ]
  },
  {
   "cell_type": "markdown",
   "id": "ecd36332",
   "metadata": {},
   "source": [
    "## Order computation\n",
    "\n",
    "The order of the group can be computed by simply"
   ]
  },
  {
   "cell_type": "code",
   "execution_count": 3,
   "id": "e9858a6f",
   "metadata": {
    "execution": {
     "iopub.execute_input": "2021-12-13T21:43:23.207398Z",
     "iopub.status.busy": "2021-12-13T21:43:23.206894Z",
     "iopub.status.idle": "2021-12-13T21:43:23.224233Z",
     "shell.execute_reply": "2021-12-13T21:43:23.223810Z"
    }
   },
   "outputs": [
    {
     "name": "stdout",
     "output_type": "stream",
     "text": [
      "ans =\r\n",
      "    1920\r\n"
     ]
    }
   ],
   "source": [
    "G.order"
   ]
  },
  {
   "cell_type": "markdown",
   "id": "e1cc0794",
   "metadata": {},
   "source": [
    "Once computed, the order is a property of the group"
   ]
  },
  {
   "cell_type": "code",
   "execution_count": 4,
   "id": "4c6ee19a",
   "metadata": {
    "execution": {
     "iopub.execute_input": "2021-12-13T21:43:23.226894Z",
     "iopub.status.busy": "2021-12-13T21:43:23.226464Z",
     "iopub.status.idle": "2021-12-13T21:43:23.272505Z",
     "shell.execute_reply": "2021-12-13T21:43:23.272066Z"
    }
   },
   "outputs": [
    {
     "name": "stdout",
     "output_type": "stream",
     "text": [
      "G =\r\n",
      "\r\n",
      "Permutation group acting on 10 elements of order 1920\r\n",
      "            identity: [1, 2, 3, 4, 5, 6, 7, 8, 9, 10]\r\n",
      "generator(1 or 'x1'): [2, 3, 4, 5, 1, 7, 8, 9, 10, 6]\r\n",
      "generator(2 or 'x2'): [2, 1, 4, 3, 6, 5, 8, 7, 10, 9]\r\n",
      "\r\n"
     ]
    }
   ],
   "source": [
    "G"
   ]
  },
  {
   "cell_type": "code",
   "execution_count": null,
   "id": "4063df09",
   "metadata": {
    "lines_to_next_cell": 2
   },
   "outputs": [],
   "source": []
  }
 ],
 "metadata": {
  "jupytext": {
   "cell_metadata_filter": "-all",
   "main_language": "matlab",
   "notebook_metadata_filter": "-all",
   "text_representation": {
    "extension": ".m",
    "format_name": "light"
   }
  },
  "language_info": {
   "file_extension": ".m",
   "help_links": [
    {
     "text": "GNU Octave",
     "url": "https://www.gnu.org/software/octave/support.html"
    },
    {
     "text": "Octave Kernel",
     "url": "https://github.com/Calysto/octave_kernel"
    },
    {
     "text": "MetaKernel Magics",
     "url": "https://metakernel.readthedocs.io/en/latest/source/README.html"
    }
   ],
   "mimetype": "text/x-octave",
   "name": "octave",
   "version": "6.2.0"
  }
 },
 "nbformat": 4,
 "nbformat_minor": 5
}
