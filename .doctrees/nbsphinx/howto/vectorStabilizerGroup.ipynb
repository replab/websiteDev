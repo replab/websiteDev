{
 "cells": [
  {
   "cell_type": "markdown",
   "id": "0ab39e7a",
   "metadata": {},
   "source": [
    "# Vector stabilizer group\n",
    "\n",
    "This document illustrated how to define groups which leave a vector invariant in *RepLAB*.\n",
    "\n",
    "## Preparation\n",
    "As always, before using *RepLAB* commands, initialize the library:"
   ]
  },
  {
   "cell_type": "code",
   "execution_count": 1,
   "id": "d2246b8e",
   "metadata": {
    "execution": {
     "iopub.execute_input": "2021-12-14T09:17:48.090088Z",
     "iopub.status.busy": "2021-12-14T09:17:48.089639Z",
     "iopub.status.idle": "2021-12-14T09:17:53.881547Z",
     "shell.execute_reply": "2021-12-14T09:17:53.881112Z"
    }
   },
   "outputs": [
    {
     "name": "stdout",
     "output_type": "stream",
     "text": [
      "replab_init: Initialization done.\r\n"
     ]
    }
   ],
   "source": [
    "addpath([pwd, '/../..']);\n",
    "replab_init('verbose', 0);"
   ]
  },
  {
   "cell_type": "markdown",
   "id": "b870be2b",
   "metadata": {},
   "source": [
    "## Vector stabilizer group\n",
    "\n",
    "Given a vector"
   ]
  },
  {
   "cell_type": "code",
   "execution_count": 2,
   "id": "c0490ecb",
   "metadata": {
    "execution": {
     "iopub.execute_input": "2021-12-14T09:17:53.884041Z",
     "iopub.status.busy": "2021-12-14T09:17:53.883649Z",
     "iopub.status.idle": "2021-12-14T09:17:53.895243Z",
     "shell.execute_reply": "2021-12-14T09:17:53.894897Z"
    }
   },
   "outputs": [],
   "source": [
    "v = [3 2 3 1 2 5 4];"
   ]
  },
  {
   "cell_type": "markdown",
   "id": "2c04c0e9",
   "metadata": {},
   "source": [
    "in $\\mathbb{R}^7$, the most general group acting on the components which leaves the vector invariant can be obtained by first defining the general group permuting all possible components"
   ]
  },
  {
   "cell_type": "code",
   "execution_count": 3,
   "id": "89927194",
   "metadata": {
    "execution": {
     "iopub.execute_input": "2021-12-14T09:17:53.897933Z",
     "iopub.status.busy": "2021-12-14T09:17:53.897537Z",
     "iopub.status.idle": "2021-12-14T09:17:54.047797Z",
     "shell.execute_reply": "2021-12-14T09:17:54.047432Z"
    }
   },
   "outputs": [
    {
     "name": "stdout",
     "output_type": "stream",
     "text": [
      "S7 ="
     ]
    },
    {
     "name": "stdout",
     "output_type": "stream",
     "text": [
      "\r"
     ]
    },
    {
     "name": "stdout",
     "output_type": "stream",
     "text": [
      "\n"
     ]
    },
    {
     "name": "stdout",
     "output_type": "stream",
     "text": [
      "\r\n",
      "Symmetric group acting on 7 elements\r\n",
      "            identity: [1, 2, 3, 4, 5, 6, 7]\r\n",
      "generator(1 or 'x1'): [2, 3, 4, 5, 6, 7, 1]\r\n",
      "generator(2 or 'x2'): [2, 1, 3, 4, 5, 6, 7]\r\n",
      "\r\n"
     ]
    }
   ],
   "source": [
    "S7 = replab.S(7)"
   ]
  },
  {
   "cell_type": "markdown",
   "id": "3cf0b859",
   "metadata": {},
   "source": [
    "and then asking for its stabilization over the vector"
   ]
  },
  {
   "cell_type": "code",
   "execution_count": 4,
   "id": "bfa6248a",
   "metadata": {
    "execution": {
     "iopub.execute_input": "2021-12-14T09:17:54.050614Z",
     "iopub.status.busy": "2021-12-14T09:17:54.050221Z",
     "iopub.status.idle": "2021-12-14T09:17:57.721212Z",
     "shell.execute_reply": "2021-12-14T09:17:57.721527Z"
    }
   },
   "outputs": [
    {
     "name": "stdout",
     "output_type": "stream",
     "text": [
      "Gv ="
     ]
    },
    {
     "name": "stdout",
     "output_type": "stream",
     "text": [
      "\r"
     ]
    },
    {
     "name": "stdout",
     "output_type": "stream",
     "text": [
      "\n"
     ]
    },
    {
     "name": "stdout",
     "output_type": "stream",
     "text": [
      "\r\n",
      "Permutation group acting on 7 elements of order 4\r\n",
      "            identity: [1, 2, 3, 4, 5, 6, 7]\r\n",
      "generator(1 or 'x1'): [3, 2, 1, 4, 5, 6, 7]\r\n",
      "generator(2 or 'x2'): [1, 5, 3, 4, 2, 6, 7]\r\n",
      "    recognize.source: Klein four-group < a, x | a^2 = x^2 = x a x^-1 a^-1 = 1 >\r\n",
      "\r\n"
     ]
    }
   ],
   "source": [
    "Gv = S7.vectorStabilizer(v)"
   ]
  },
  {
   "cell_type": "markdown",
   "id": "0c590aaf",
   "metadata": {},
   "source": [
    "This group G1 contains all 4 permutations which leave the vector v invariant:"
   ]
  },
  {
   "cell_type": "code",
   "execution_count": 5,
   "id": "dd483958",
   "metadata": {
    "execution": {
     "iopub.execute_input": "2021-12-14T09:17:57.724157Z",
     "iopub.status.busy": "2021-12-14T09:17:57.723614Z",
     "iopub.status.idle": "2021-12-14T09:17:57.742537Z",
     "shell.execute_reply": "2021-12-14T09:17:57.742096Z"
    }
   },
   "outputs": [
    {
     "name": "stdout",
     "output_type": "stream",
     "text": [
      "ans =\r\n",
      "{\r\n",
      "  [1,1] =\r\n",
      "\r\n",
      "     1   2   3   4   5   6   7\r\n",
      "\r\n",
      "  [1,2] =\r\n",
      "\r\n",
      "     1   5   3   4   2   6   7\r\n",
      "\r\n",
      "  [1,3] =\r\n",
      "\r\n",
      "     3   2   1   4   5   6   7\r\n",
      "\r\n",
      "  [1,4] =\r\n",
      "\r\n",
      "     3   5   1   4   2   6   7\r\n",
      "\r\n",
      "}\r\n",
      "\r\n"
     ]
    }
   ],
   "source": [
    "Gv.elements"
   ]
  },
  {
   "cell_type": "markdown",
   "id": "9175a53e",
   "metadata": {},
   "source": [
    "## Vector stabilization over a specific group\n",
    "\n",
    "Alternatively, it is possible to identify all the permutations which leave a vector invariant and which belong to a specific group. This is achieved by first defining the group of interest, for instance"
   ]
  },
  {
   "cell_type": "code",
   "execution_count": 6,
   "id": "9154d485",
   "metadata": {
    "execution": {
     "iopub.execute_input": "2021-12-14T09:17:57.744821Z",
     "iopub.status.busy": "2021-12-14T09:17:57.744442Z",
     "iopub.status.idle": "2021-12-14T09:18:00.233880Z",
     "shell.execute_reply": "2021-12-14T09:18:00.233528Z"
    }
   },
   "outputs": [
    {
     "name": "stdout",
     "output_type": "stream",
     "text": [
      "G1 ="
     ]
    },
    {
     "name": "stdout",
     "output_type": "stream",
     "text": [
      "\r"
     ]
    },
    {
     "name": "stdout",
     "output_type": "stream",
     "text": [
      "\n"
     ]
    },
    {
     "name": "stdout",
     "output_type": "stream",
     "text": [
      "\r\n",
      "Permutation group acting on 7 elements of order 6\r\n",
      "            identity: [1, 2, 3, 4, 5, 6, 7]\r\n",
      "generator(1 or 'x1'): [2, 1, 3, 4, 5, 6, 7]\r\n",
      "generator(2 or 'x2'): [2, 3, 1, 4, 5, 6, 7]\r\n",
      "    recognize.source: Dihedral group of order 6\r\n",
      "\r\n"
     ]
    }
   ],
   "source": [
    "G1 = replab.PermutationGroup.of([2 1 3:7], [2 3 1 4:7])"
   ]
  },
  {
   "cell_type": "markdown",
   "id": "09ea20a0",
   "metadata": {},
   "source": [
    "and then stabilize this group over the vector"
   ]
  },
  {
   "cell_type": "code",
   "execution_count": 7,
   "id": "ca073cce",
   "metadata": {
    "execution": {
     "iopub.execute_input": "2021-12-14T09:18:00.236345Z",
     "iopub.status.busy": "2021-12-14T09:18:00.235959Z",
     "iopub.status.idle": "2021-12-14T09:18:01.124333Z",
     "shell.execute_reply": "2021-12-14T09:18:01.123959Z"
    }
   },
   "outputs": [
    {
     "name": "stdout",
     "output_type": "stream",
     "text": [
      "G1v ="
     ]
    },
    {
     "name": "stdout",
     "output_type": "stream",
     "text": [
      "\r"
     ]
    },
    {
     "name": "stdout",
     "output_type": "stream",
     "text": [
      "\n"
     ]
    },
    {
     "name": "stdout",
     "output_type": "stream",
     "text": [
      "\r\n",
      "Permutation group acting on 7 elements of order 2\r\n",
      "            identity: [1, 2, 3, 4, 5, 6, 7]\r\n",
      "generator(1 or 'x1'): [3, 2, 1, 4, 5, 6, 7]\r\n",
      "    recognize.source: Cyclic group C(2) of order 2 < x | x^2 = 1 >\r\n",
      "\r\n"
     ]
    }
   ],
   "source": [
    "G1v = G1.vectorStabilizer(v)"
   ]
  },
  {
   "cell_type": "markdown",
   "id": "29f8d06e",
   "metadata": {},
   "source": [
    "This group only contains the two permutations of Gv which also belong to G1:"
   ]
  },
  {
   "cell_type": "code",
   "execution_count": 8,
   "id": "486035e6",
   "metadata": {
    "execution": {
     "iopub.execute_input": "2021-12-14T09:18:01.126861Z",
     "iopub.status.busy": "2021-12-14T09:18:01.126468Z",
     "iopub.status.idle": "2021-12-14T09:18:01.143279Z",
     "shell.execute_reply": "2021-12-14T09:18:01.142882Z"
    }
   },
   "outputs": [
    {
     "name": "stdout",
     "output_type": "stream",
     "text": [
      "ans =\r\n",
      "{\r\n",
      "  [1,1] =\r\n",
      "\r\n",
      "     1   2   3   4   5   6   7\r\n",
      "\r\n",
      "  [1,2] =\r\n",
      "\r\n",
      "     3   2   1   4   5   6   7\r\n",
      "\r\n",
      "}\r\n",
      "\r\n"
     ]
    }
   ],
   "source": [
    "G1v.elements"
   ]
  }
 ],
 "metadata": {
  "jupytext": {
   "cell_metadata_filter": "-all",
   "main_language": "matlab",
   "notebook_metadata_filter": "-all",
   "text_representation": {
    "extension": ".m",
    "format_name": "light"
   }
  },
  "language_info": {
   "file_extension": ".m",
   "help_links": [
    {
     "text": "GNU Octave",
     "url": "https://www.gnu.org/software/octave/support.html"
    },
    {
     "text": "Octave Kernel",
     "url": "https://github.com/Calysto/octave_kernel"
    },
    {
     "text": "MetaKernel Magics",
     "url": "https://metakernel.readthedocs.io/en/latest/source/README.html"
    }
   ],
   "mimetype": "text/x-octave",
   "name": "octave",
   "version": "6.2.0"
  }
 },
 "nbformat": 4,
 "nbformat_minor": 5
}
