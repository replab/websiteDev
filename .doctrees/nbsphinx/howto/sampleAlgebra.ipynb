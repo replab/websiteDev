{
 "cells": [
  {
   "cell_type": "markdown",
   "id": "14d4d8f8",
   "metadata": {},
   "source": [
    "# Sampling a group representation algebra\n",
    "\n",
    "This document shows how to sample the algebra of a representation in *RepLAB*.\n",
    "\n",
    "## Preparation\n",
    "As always, before using *RepLAB* commands, initialize the library:"
   ]
  },
  {
   "cell_type": "code",
   "execution_count": 1,
   "id": "ba406dca",
   "metadata": {
    "execution": {
     "iopub.execute_input": "2021-12-06T15:43:34.399799Z",
     "iopub.status.busy": "2021-12-06T15:43:34.399328Z",
     "iopub.status.idle": "2021-12-06T15:43:40.027640Z",
     "shell.execute_reply": "2021-12-06T15:43:40.026866Z"
    }
   },
   "outputs": [
    {
     "name": "stdout",
     "output_type": "stream",
     "text": [
      "replab_init: Initialization done.\r\n"
     ]
    }
   ],
   "source": [
    "addpath([pwd, '/../..']);\n",
    "replab_init('verbose', 0);"
   ]
  },
  {
   "cell_type": "markdown",
   "id": "88f49dfa",
   "metadata": {},
   "source": [
    "## Definition of the representation\n",
    "\n",
    "Consider a group representation"
   ]
  },
  {
   "cell_type": "code",
   "execution_count": 2,
   "id": "0f2ad14f",
   "metadata": {
    "execution": {
     "iopub.execute_input": "2021-12-06T15:43:40.030024Z",
     "iopub.status.busy": "2021-12-06T15:43:40.029624Z",
     "iopub.status.idle": "2021-12-06T15:43:42.973274Z",
     "shell.execute_reply": "2021-12-06T15:43:42.972885Z"
    }
   },
   "outputs": [
    {
     "name": "stdout",
     "output_type": "stream",
     "text": [
      "group ="
     ]
    },
    {
     "name": "stdout",
     "output_type": "stream",
     "text": [
      "\r"
     ]
    },
    {
     "name": "stdout",
     "output_type": "stream",
     "text": [
      "\n"
     ]
    },
    {
     "name": "stdout",
     "output_type": "stream",
     "text": [
      "\r\n",
      "Permutation group acting on 5 elements of order 6\r\n",
      "            identity: [1, 2, 3, 4, 5]\r\n",
      "generator(1 or 'x1'): [2, 1, 4, 5, 3]\r\n",
      "    recognize.source: Cyclic group C(6) of order 6 < x | x^6 = 1 >\r\n",
      "\r\n"
     ]
    },
    {
     "name": "stdout",
     "output_type": "stream",
     "text": [
      "rep ="
     ]
    },
    {
     "name": "stdout",
     "output_type": "stream",
     "text": [
      "\r"
     ]
    },
    {
     "name": "stdout",
     "output_type": "stream",
     "text": [
      "\n"
     ]
    },
    {
     "name": "stdout",
     "output_type": "stream",
     "text": [
      "\r\n",
      "Orthogonal reducible representation\r\n",
      "   dimension: 5\r\n",
      "       field: 'R'\r\n",
      "       group: Permutation group acting on 5 elements of order 6\r\n",
      "   isUnitary: true\r\n",
      "preimages{1}: [2, 1, 4, 5, 3]\r\n",
      "   images{1}: 5 x 5 double\r\n",
      "\r\n"
     ]
    }
   ],
   "source": [
    "S5 = replab.S(5);\n",
    "group = S5.subgroup({[2 1 4 5 3]})\n",
    "rep = group.naturalRep"
   ]
  },
  {
   "cell_type": "markdown",
   "id": "48aaf759",
   "metadata": {},
   "source": [
    "## Sampling the algebra\n",
    "\n",
    "Elements of the group representation can be sampled with the command"
   ]
  },
  {
   "cell_type": "code",
   "execution_count": 3,
   "id": "64612ab8",
   "metadata": {
    "execution": {
     "iopub.execute_input": "2021-12-06T15:43:42.975692Z",
     "iopub.status.busy": "2021-12-06T15:43:42.975293Z",
     "iopub.status.idle": "2021-12-06T15:43:42.988379Z",
     "shell.execute_reply": "2021-12-06T15:43:42.988678Z"
    }
   },
   "outputs": [
    {
     "name": "stdout",
     "output_type": "stream",
     "text": [
      "ans =\r\n",
      "\r\n",
      "   1   0   0   0   0\r\n",
      "   0   1   0   0   0\r\n",
      "   0   0   1   0   0\r\n",
      "   0   0   0   1   0\r\n",
      "   0   0   0   0   1\r\n",
      "\r\n"
     ]
    }
   ],
   "source": [
    "rep.sample"
   ]
  },
  {
   "cell_type": "markdown",
   "id": "b128ac20",
   "metadata": {
    "lines_to_next_cell": 2
   },
   "source": [
    "These matrices describe the action of the group elements on $\\mathbb{R}^5$."
   ]
  }
 ],
 "metadata": {
  "jupytext": {
   "cell_metadata_filter": "-all",
   "main_language": "matlab",
   "notebook_metadata_filter": "-all",
   "text_representation": {
    "extension": ".m",
    "format_name": "light"
   }
  },
  "language_info": {
   "file_extension": ".m",
   "help_links": [
    {
     "text": "GNU Octave",
     "url": "https://www.gnu.org/software/octave/support.html"
    },
    {
     "text": "Octave Kernel",
     "url": "https://github.com/Calysto/octave_kernel"
    },
    {
     "text": "MetaKernel Magics",
     "url": "https://metakernel.readthedocs.io/en/latest/source/README.html"
    }
   ],
   "mimetype": "text/x-octave",
   "name": "octave",
   "version": "6.2.0"
  }
 },
 "nbformat": 4,
 "nbformat_minor": 5
}
