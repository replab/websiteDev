{
 "cells": [
  {
   "cell_type": "markdown",
   "id": "8c2503a9",
   "metadata": {},
   "source": [
    "# Sampling a group representation algebra\n",
    "\n",
    "This document shows how to sample the algebra of a representation in *RepLAB*.\n",
    "\n",
    "## Preparation\n",
    "As always, before using *RepLAB* commands, initialize the library:"
   ]
  },
  {
   "cell_type": "code",
   "execution_count": 1,
   "id": "f104cd33",
   "metadata": {
    "execution": {
     "iopub.execute_input": "2021-12-18T22:09:01.754487Z",
     "iopub.status.busy": "2021-12-18T22:09:01.754069Z",
     "iopub.status.idle": "2021-12-18T22:09:01.778163Z",
     "shell.execute_reply": "2021-12-18T22:09:01.777637Z"
    }
   },
   "outputs": [
    {
     "name": "stdout",
     "output_type": "stream",
     "text": [
      "error: 'replab_init' undefined near line 1, column 1\r\n"
     ]
    }
   ],
   "source": [
    "addpath([pwd, '/../..']);\n",
    "replab_init('verbose', 0);"
   ]
  },
  {
   "cell_type": "markdown",
   "id": "8a10cd83",
   "metadata": {},
   "source": [
    "## Definition of the representation\n",
    "\n",
    "Consider a group representation"
   ]
  },
  {
   "cell_type": "code",
   "execution_count": 2,
   "id": "26e2da7f",
   "metadata": {
    "execution": {
     "iopub.execute_input": "2021-12-18T22:09:01.781108Z",
     "iopub.status.busy": "2021-12-18T22:09:01.780591Z",
     "iopub.status.idle": "2021-12-18T22:09:01.796940Z",
     "shell.execute_reply": "2021-12-18T22:09:01.796528Z"
    }
   },
   "outputs": [
    {
     "name": "stdout",
     "output_type": "stream",
     "text": [
      "error: 'replab' undefined near line 1, column 1\r\n"
     ]
    },
    {
     "name": "stdout",
     "output_type": "stream",
     "text": [
      "error: 'S5' undefined near line 1, column 1\r\n"
     ]
    },
    {
     "name": "stdout",
     "output_type": "stream",
     "text": [
      "error: 'group' undefined near line 1, column 1\r\n"
     ]
    }
   ],
   "source": [
    "S5 = replab.S(5);\n",
    "group = S5.subgroup({[2 1 4 5 3]})\n",
    "rep = group.naturalRep"
   ]
  },
  {
   "cell_type": "markdown",
   "id": "57aec2ca",
   "metadata": {},
   "source": [
    "## Sampling the algebra\n",
    "\n",
    "Elements of the group representation can be sampled with the command"
   ]
  },
  {
   "cell_type": "code",
   "execution_count": 3,
   "id": "37150a8c",
   "metadata": {
    "execution": {
     "iopub.execute_input": "2021-12-18T22:09:01.799627Z",
     "iopub.status.busy": "2021-12-18T22:09:01.799206Z",
     "iopub.status.idle": "2021-12-18T22:09:01.807393Z",
     "shell.execute_reply": "2021-12-18T22:09:01.807033Z"
    }
   },
   "outputs": [
    {
     "name": "stdout",
     "output_type": "stream",
     "text": [
      "error: 'rep' undefined near line 1, column 1\r\n"
     ]
    }
   ],
   "source": [
    "rep.sample"
   ]
  },
  {
   "cell_type": "markdown",
   "id": "568c3b68",
   "metadata": {},
   "source": [
    "These matrices describe the action of the group elements on $\\mathbb{R}^5$."
   ]
  }
 ],
 "metadata": {
  "jupytext": {
   "cell_metadata_filter": "-all",
   "main_language": "matlab",
   "notebook_metadata_filter": "-all",
   "text_representation": {
    "extension": ".m",
    "format_name": "light"
   }
  },
  "language_info": {
   "file_extension": ".m",
   "help_links": [
    {
     "text": "GNU Octave",
     "url": "https://www.gnu.org/software/octave/support.html"
    },
    {
     "text": "Octave Kernel",
     "url": "https://github.com/Calysto/octave_kernel"
    },
    {
     "text": "MetaKernel Magics",
     "url": "https://metakernel.readthedocs.io/en/latest/source/README.html"
    }
   ],
   "mimetype": "text/x-octave",
   "name": "octave",
   "version": "6.2.0"
  }
 },
 "nbformat": 4,
 "nbformat_minor": 5
}
