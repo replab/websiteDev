{
 "cells": [
  {
   "cell_type": "markdown",
   "id": "ac95dac3",
   "metadata": {},
   "source": [
    "# Sampling a group representation algebra\n",
    "\n",
    "This document shows how to sample the algebra of a representation in *RepLAB*.\n",
    "\n",
    "## Preparation\n",
    "As always, before using *RepLAB* commands, initialize the library:"
   ]
  },
  {
   "cell_type": "code",
   "execution_count": 1,
   "id": "72e59a0f",
   "metadata": {
    "execution": {
     "iopub.execute_input": "2021-12-28T11:52:50.804930Z",
     "iopub.status.busy": "2021-12-28T11:52:50.804412Z",
     "iopub.status.idle": "2021-12-28T11:52:50.828575Z",
     "shell.execute_reply": "2021-12-28T11:52:50.827846Z"
    }
   },
   "outputs": [
    {
     "name": "stdout",
     "output_type": "stream",
     "text": [
      "error: 'replab_init' undefined near line 1, column 1\r\n"
     ]
    }
   ],
   "source": [
    "addpath([pwd, '/../..']);\n",
    "replab_init('verbose', 0);"
   ]
  },
  {
   "cell_type": "markdown",
   "id": "39932184",
   "metadata": {},
   "source": [
    "## Definition of the representation\n",
    "\n",
    "Consider a group representation"
   ]
  },
  {
   "cell_type": "code",
   "execution_count": 2,
   "id": "7d7bd127",
   "metadata": {
    "execution": {
     "iopub.execute_input": "2021-12-28T11:52:50.831168Z",
     "iopub.status.busy": "2021-12-28T11:52:50.830743Z",
     "iopub.status.idle": "2021-12-28T11:52:50.847749Z",
     "shell.execute_reply": "2021-12-28T11:52:50.847390Z"
    }
   },
   "outputs": [
    {
     "name": "stdout",
     "output_type": "stream",
     "text": [
      "error: 'replab' undefined near line 1, column 1\r\n"
     ]
    },
    {
     "name": "stdout",
     "output_type": "stream",
     "text": [
      "error: 'S5' undefined near line 1, column 1\r\n"
     ]
    },
    {
     "name": "stdout",
     "output_type": "stream",
     "text": [
      "error: 'group' undefined near line 1, column 1\r\n"
     ]
    }
   ],
   "source": [
    "S5 = replab.S(5);\n",
    "group = S5.subgroup({[2 1 4 5 3]})\n",
    "rep = group.naturalRep"
   ]
  },
  {
   "cell_type": "markdown",
   "id": "fb1ddf0b",
   "metadata": {},
   "source": [
    "## Sampling the algebra\n",
    "\n",
    "Elements of the group representation can be sampled with the command"
   ]
  },
  {
   "cell_type": "code",
   "execution_count": 3,
   "id": "f6c4cd96",
   "metadata": {
    "execution": {
     "iopub.execute_input": "2021-12-28T11:52:50.850370Z",
     "iopub.status.busy": "2021-12-28T11:52:50.849633Z",
     "iopub.status.idle": "2021-12-28T11:52:50.858499Z",
     "shell.execute_reply": "2021-12-28T11:52:50.858825Z"
    }
   },
   "outputs": [
    {
     "name": "stdout",
     "output_type": "stream",
     "text": [
      "error: 'rep' undefined near line 1, column 1\r\n"
     ]
    }
   ],
   "source": [
    "rep.sample"
   ]
  },
  {
   "cell_type": "markdown",
   "id": "0a68c087",
   "metadata": {},
   "source": [
    "These matrices describe the action of the group elements on $\\mathbb{R}^5$."
   ]
  }
 ],
 "metadata": {
  "jupytext": {
   "cell_metadata_filter": "-all",
   "main_language": "matlab",
   "notebook_metadata_filter": "-all",
   "text_representation": {
    "extension": ".m",
    "format_name": "light"
   }
  },
  "language_info": {
   "file_extension": ".m",
   "help_links": [
    {
     "text": "GNU Octave",
     "url": "https://www.gnu.org/software/octave/support.html"
    },
    {
     "text": "Octave Kernel",
     "url": "https://github.com/Calysto/octave_kernel"
    },
    {
     "text": "MetaKernel Magics",
     "url": "https://metakernel.readthedocs.io/en/latest/source/README.html"
    }
   ],
   "mimetype": "text/x-octave",
   "name": "octave",
   "version": "6.2.0"
  }
 },
 "nbformat": 4,
 "nbformat_minor": 5
}
