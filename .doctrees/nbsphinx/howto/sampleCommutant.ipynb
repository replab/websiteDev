{
 "cells": [
  {
   "cell_type": "markdown",
   "id": "915c04c7",
   "metadata": {},
   "source": [
    "# Sampling the commutant of a representation\n",
    "\n",
    "This document shows how to sample the commutant of a representation in *RepLAB*.\n",
    "\n",
    "## Preparation\n",
    "As always, before using *RepLAB* commands, initialize the library:"
   ]
  },
  {
   "cell_type": "code",
   "execution_count": 1,
   "id": "8459890f",
   "metadata": {
    "execution": {
     "iopub.execute_input": "2021-12-15T18:20:01.927282Z",
     "iopub.status.busy": "2021-12-15T18:20:01.926798Z",
     "iopub.status.idle": "2021-12-15T18:20:07.300361Z",
     "shell.execute_reply": "2021-12-15T18:20:07.299860Z"
    }
   },
   "outputs": [
    {
     "name": "stdout",
     "output_type": "stream",
     "text": [
      "replab_init: Initialization done.\r\n"
     ]
    }
   ],
   "source": [
    "addpath([pwd, '/../..']);\n",
    "replab_init('verbose', 0);"
   ]
  },
  {
   "cell_type": "markdown",
   "id": "ff34aa95",
   "metadata": {},
   "source": [
    "## Definition of the commutant\n",
    "\n",
    "Consider a group representation"
   ]
  },
  {
   "cell_type": "code",
   "execution_count": 2,
   "id": "40688940",
   "metadata": {
    "execution": {
     "iopub.execute_input": "2021-12-15T18:20:07.303057Z",
     "iopub.status.busy": "2021-12-15T18:20:07.302626Z",
     "iopub.status.idle": "2021-12-15T18:20:09.791868Z",
     "shell.execute_reply": "2021-12-15T18:20:09.791456Z"
    }
   },
   "outputs": [
    {
     "name": "stdout",
     "output_type": "stream",
     "text": [
      "group ="
     ]
    },
    {
     "name": "stdout",
     "output_type": "stream",
     "text": [
      "\r"
     ]
    },
    {
     "name": "stdout",
     "output_type": "stream",
     "text": [
      "\n"
     ]
    },
    {
     "name": "stdout",
     "output_type": "stream",
     "text": [
      "\r\n",
      "Permutation group acting on 5 elements of order 6\r\n",
      "            identity: [1, 2, 3, 4, 5]\r\n",
      "generator(1 or 'x1'): [2, 1, 4, 5, 3]\r\n",
      "    recognize.source: Cyclic group C(6) of order 6 < x | x^6 = 1 >\r\n",
      "\r\n"
     ]
    },
    {
     "name": "stdout",
     "output_type": "stream",
     "text": [
      "rep ="
     ]
    },
    {
     "name": "stdout",
     "output_type": "stream",
     "text": [
      "\r"
     ]
    },
    {
     "name": "stdout",
     "output_type": "stream",
     "text": [
      "\n"
     ]
    },
    {
     "name": "stdout",
     "output_type": "stream",
     "text": [
      "\r\n",
      "Orthogonal reducible representation\r\n",
      "   dimension: 5\r\n",
      "       field: 'R'\r\n",
      "       group: Permutation group acting on 5 elements of order 6\r\n",
      "   isUnitary: true\r\n",
      "preimages{1}: [2, 1, 4, 5, 3]\r\n",
      "   images{1}: 5 x 5 double\r\n",
      "\r\n"
     ]
    }
   ],
   "source": [
    "S5 = replab.S(5);\n",
    "group = S5.subgroup({[2 1 4 5 3]})\n",
    "rep = group.naturalRep"
   ]
  },
  {
   "cell_type": "markdown",
   "id": "e8686d9b",
   "metadata": {},
   "source": [
    "The commutant is obtained with the command"
   ]
  },
  {
   "cell_type": "code",
   "execution_count": 3,
   "id": "cecb1831",
   "metadata": {
    "execution": {
     "iopub.execute_input": "2021-12-15T18:20:09.794485Z",
     "iopub.status.busy": "2021-12-15T18:20:09.794052Z",
     "iopub.status.idle": "2021-12-15T18:20:09.849338Z",
     "shell.execute_reply": "2021-12-15T18:20:09.848920Z"
    }
   },
   "outputs": [
    {
     "name": "stdout",
     "output_type": "stream",
     "text": [
      "comm =\r\n",
      "\r\n",
      "5 x 5 commutant matrices over R\r\n",
      "     field: 'R'\r\n",
      "     group: Permutation group acting on 5 elements of order 6\r\n",
      "   imagesC: {[2, 1, 4, 5, 3; 0, 0, 0, 0, 0]}\r\n",
      "   imagesR: {[2, 1, 4, 5, 3; 0, 0, 0, 0, 0]}\r\n",
      "        nC: 5\r\n",
      "        nR: 5\r\n",
      "phaseOrder: 1\r\n",
      "      repC: Orthogonal reducible representation\r\n",
      "      repR: Orthogonal reducible representation\r\n",
      "   special: 'commutant'\r\n",
      "\r\n"
     ]
    }
   ],
   "source": [
    "comm = rep.commutant"
   ]
  },
  {
   "cell_type": "markdown",
   "id": "c855adf4",
   "metadata": {},
   "source": [
    "## Sampling the commutant\n",
    "\n",
    "Elements of the commutant can then be sampled"
   ]
  },
  {
   "cell_type": "code",
   "execution_count": 4,
   "id": "5b20e4e0",
   "metadata": {
    "execution": {
     "iopub.execute_input": "2021-12-15T18:20:09.851885Z",
     "iopub.status.busy": "2021-12-15T18:20:09.851459Z",
     "iopub.status.idle": "2021-12-15T18:20:09.870878Z",
     "shell.execute_reply": "2021-12-15T18:20:09.870489Z"
    }
   },
   "outputs": [
    {
     "name": "stdout",
     "output_type": "stream",
     "text": [
      "commEl =\r\n",
      "\r\n",
      "   1.7979  -0.2034   0.3807   0.3807   0.3807\r\n",
      "  -0.2034   1.7979   0.3807   0.3807   0.3807\r\n",
      "  -0.1704  -0.1704  -0.2643   0.3304  -0.2118\r\n",
      "  -0.1704  -0.1704  -0.2118  -0.2643   0.3304\r\n",
      "  -0.1704  -0.1704   0.3304  -0.2118  -0.2643\r\n",
      "\r\n"
     ]
    }
   ],
   "source": [
    "commEl = comm.sample"
   ]
  },
  {
   "cell_type": "markdown",
   "id": "549967dd",
   "metadata": {},
   "source": [
    "These matrices are invariant under transformation by the group representations"
   ]
  },
  {
   "cell_type": "code",
   "execution_count": 5,
   "id": "9dc31e94",
   "metadata": {
    "execution": {
     "iopub.execute_input": "2021-12-15T18:20:09.873635Z",
     "iopub.status.busy": "2021-12-15T18:20:09.873216Z",
     "iopub.status.idle": "2021-12-15T18:20:09.886993Z",
     "shell.execute_reply": "2021-12-15T18:20:09.886614Z"
    }
   },
   "outputs": [
    {
     "name": "stdout",
     "output_type": "stream",
     "text": [
      "groupEl =\r\n",
      "\r\n",
      "   1   0   0   0   0\r\n",
      "   0   1   0   0   0\r\n",
      "   0   0   0   0   1\r\n",
      "   0   0   1   0   0\r\n",
      "   0   0   0   1   0\r\n",
      "\r\n"
     ]
    }
   ],
   "source": [
    "groupEl = rep.sample"
   ]
  },
  {
   "cell_type": "code",
   "execution_count": 6,
   "id": "ece45118",
   "metadata": {
    "execution": {
     "iopub.execute_input": "2021-12-15T18:20:09.892468Z",
     "iopub.status.busy": "2021-12-15T18:20:09.892062Z",
     "iopub.status.idle": "2021-12-15T18:20:09.901228Z",
     "shell.execute_reply": "2021-12-15T18:20:09.901543Z"
    }
   },
   "outputs": [
    {
     "name": "stdout",
     "output_type": "stream",
     "text": [
      "ans =\r\n",
      "\r\n",
      "   1.7979  -0.2034   0.3807   0.3807   0.3807\r\n",
      "  -0.2034   1.7979   0.3807   0.3807   0.3807\r\n",
      "  -0.1704  -0.1704  -0.2643   0.3304  -0.2118\r\n",
      "  -0.1704  -0.1704  -0.2118  -0.2643   0.3304\r\n",
      "  -0.1704  -0.1704   0.3304  -0.2118  -0.2643\r\n",
      "\r\n"
     ]
    }
   ],
   "source": [
    "groupEl*commEl*groupEl'"
   ]
  }
 ],
 "metadata": {
  "jupytext": {
   "cell_metadata_filter": "-all",
   "main_language": "matlab",
   "notebook_metadata_filter": "-all",
   "text_representation": {
    "extension": ".m",
    "format_name": "light"
   }
  },
  "language_info": {
   "file_extension": ".m",
   "help_links": [
    {
     "text": "GNU Octave",
     "url": "https://www.gnu.org/software/octave/support.html"
    },
    {
     "text": "Octave Kernel",
     "url": "https://github.com/Calysto/octave_kernel"
    },
    {
     "text": "MetaKernel Magics",
     "url": "https://metakernel.readthedocs.io/en/latest/source/README.html"
    }
   ],
   "mimetype": "text/x-octave",
   "name": "octave",
   "version": "6.2.0"
  }
 },
 "nbformat": 4,
 "nbformat_minor": 5
}
