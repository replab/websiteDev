{
 "cells": [
  {
   "cell_type": "markdown",
   "id": "d3ad9b03",
   "metadata": {},
   "source": [
    "# Sampling the commutant of a representation\n",
    "\n",
    "This document shows how to sample the commutant of a representation in *RepLAB*.\n",
    "\n",
    "## Preparation\n",
    "As always, before using *RepLAB* commands, initialize the library:"
   ]
  },
  {
   "cell_type": "code",
   "execution_count": 1,
   "id": "186106b5",
   "metadata": {
    "execution": {
     "iopub.execute_input": "2021-12-15T17:55:10.587683Z",
     "iopub.status.busy": "2021-12-15T17:55:10.586971Z",
     "iopub.status.idle": "2021-12-15T17:55:17.819889Z",
     "shell.execute_reply": "2021-12-15T17:55:17.818983Z"
    }
   },
   "outputs": [
    {
     "name": "stdout",
     "output_type": "stream",
     "text": [
      "replab_init: Initialization done.\r\n"
     ]
    }
   ],
   "source": [
    "addpath([pwd, '/../..']);\n",
    "replab_init('verbose', 0);"
   ]
  },
  {
   "cell_type": "markdown",
   "id": "228c6653",
   "metadata": {},
   "source": [
    "## Definition of the commutant\n",
    "\n",
    "Consider a group representation"
   ]
  },
  {
   "cell_type": "code",
   "execution_count": 2,
   "id": "db3d1e6f",
   "metadata": {
    "execution": {
     "iopub.execute_input": "2021-12-15T17:55:17.823108Z",
     "iopub.status.busy": "2021-12-15T17:55:17.822594Z",
     "iopub.status.idle": "2021-12-15T17:55:21.486833Z",
     "shell.execute_reply": "2021-12-15T17:55:21.486355Z"
    }
   },
   "outputs": [
    {
     "name": "stdout",
     "output_type": "stream",
     "text": [
      "group ="
     ]
    },
    {
     "name": "stdout",
     "output_type": "stream",
     "text": [
      "\r"
     ]
    },
    {
     "name": "stdout",
     "output_type": "stream",
     "text": [
      "\n"
     ]
    },
    {
     "name": "stdout",
     "output_type": "stream",
     "text": [
      "\r\n",
      "Permutation group acting on 5 elements of order 6\r\n",
      "            identity: [1, 2, 3, 4, 5]\r\n",
      "generator(1 or 'x1'): [2, 1, 4, 5, 3]\r\n",
      "    recognize.source: Cyclic group C(6) of order 6 < x | x^6 = 1 >\r\n",
      "\r\n"
     ]
    },
    {
     "name": "stdout",
     "output_type": "stream",
     "text": [
      "rep =\r\n",
      "\r\n",
      "Orthogonal reducible representation\r\n",
      "   dimension: 5\r\n",
      "       field: 'R'\r\n",
      "       group: Permutation group acting on 5 elements of order 6\r\n",
      "   isUnitary: true\r\n",
      "preimages{1}: [2, 1, 4, 5, 3]\r\n",
      "   images{1}: 5 x 5 double\r\n",
      "\r\n"
     ]
    }
   ],
   "source": [
    "S5 = replab.S(5);\n",
    "group = S5.subgroup({[2 1 4 5 3]})\n",
    "rep = group.naturalRep"
   ]
  },
  {
   "cell_type": "markdown",
   "id": "db41bed3",
   "metadata": {},
   "source": [
    "The commutant is obtained with the command"
   ]
  },
  {
   "cell_type": "code",
   "execution_count": 3,
   "id": "b42317eb",
   "metadata": {
    "execution": {
     "iopub.execute_input": "2021-12-15T17:55:21.489844Z",
     "iopub.status.busy": "2021-12-15T17:55:21.489345Z",
     "iopub.status.idle": "2021-12-15T17:55:21.568104Z",
     "shell.execute_reply": "2021-12-15T17:55:21.568523Z"
    }
   },
   "outputs": [
    {
     "name": "stdout",
     "output_type": "stream",
     "text": [
      "comm =\r\n",
      "\r\n",
      "5 x 5 commutant matrices over R\r\n",
      "     field: 'R'\r\n",
      "     group: Permutation group acting on 5 elements of order 6\r\n",
      "   imagesC: {[2, 1, 4, 5, 3; 0, 0, 0, 0, 0]}\r\n",
      "   imagesR: {[2, 1, 4, 5, 3; 0, 0, 0, 0, 0]}\r\n",
      "        nC: 5\r\n",
      "        nR: 5\r\n",
      "phaseOrder: 1\r\n",
      "      repC: Orthogonal reducible representation\r\n",
      "      repR: Orthogonal reducible representation\r\n",
      "   special: 'commutant'\r\n",
      "\r\n"
     ]
    }
   ],
   "source": [
    "comm = rep.commutant"
   ]
  },
  {
   "cell_type": "markdown",
   "id": "d61f9dd4",
   "metadata": {},
   "source": [
    "## Sampling the commutant\n",
    "\n",
    "Elements of the commutant can then be sampled"
   ]
  },
  {
   "cell_type": "code",
   "execution_count": 4,
   "id": "05aacf2c",
   "metadata": {
    "execution": {
     "iopub.execute_input": "2021-12-15T17:55:21.572005Z",
     "iopub.status.busy": "2021-12-15T17:55:21.571359Z",
     "iopub.status.idle": "2021-12-15T17:55:21.596164Z",
     "shell.execute_reply": "2021-12-15T17:55:21.595328Z"
    }
   },
   "outputs": [
    {
     "name": "stdout",
     "output_type": "stream",
     "text": [
      "commEl =\r\n",
      "\r\n",
      "  -0.024540   0.723346  -0.279222  -0.279222  -0.279222\r\n",
      "   0.723346  -0.024540  -0.279222  -0.279222  -0.279222\r\n",
      "   0.013386   0.013386  -0.314449   0.145638   0.507939\r\n",
      "   0.013386   0.013386   0.507939  -0.314449   0.145638\r\n",
      "   0.013386   0.013386   0.145638   0.507939  -0.314449\r\n",
      "\r\n"
     ]
    }
   ],
   "source": [
    "commEl = comm.sample"
   ]
  },
  {
   "cell_type": "markdown",
   "id": "566266c9",
   "metadata": {},
   "source": [
    "These matrices are invariant under transformation by the group representations"
   ]
  },
  {
   "cell_type": "code",
   "execution_count": 5,
   "id": "3deace67",
   "metadata": {
    "execution": {
     "iopub.execute_input": "2021-12-15T17:55:21.599666Z",
     "iopub.status.busy": "2021-12-15T17:55:21.599179Z",
     "iopub.status.idle": "2021-12-15T17:55:21.619610Z",
     "shell.execute_reply": "2021-12-15T17:55:21.619976Z"
    }
   },
   "outputs": [
    {
     "name": "stdout",
     "output_type": "stream",
     "text": [
      "groupEl =\r\n",
      "\r\n",
      "   1   0   0   0   0\r\n",
      "   0   1   0   0   0\r\n",
      "   0   0   0   0   1\r\n",
      "   0   0   1   0   0\r\n",
      "   0   0   0   1   0\r\n",
      "\r\n"
     ]
    }
   ],
   "source": [
    "groupEl = rep.sample"
   ]
  },
  {
   "cell_type": "code",
   "execution_count": 6,
   "id": "c45cce35",
   "metadata": {
    "execution": {
     "iopub.execute_input": "2021-12-15T17:55:21.622993Z",
     "iopub.status.busy": "2021-12-15T17:55:21.622472Z",
     "iopub.status.idle": "2021-12-15T17:55:21.637523Z",
     "shell.execute_reply": "2021-12-15T17:55:21.636938Z"
    }
   },
   "outputs": [
    {
     "name": "stdout",
     "output_type": "stream",
     "text": [
      "ans =\r\n",
      "\r\n",
      "  -0.024540   0.723346  -0.279222  -0.279222  -0.279222\r\n",
      "   0.723346  -0.024540  -0.279222  -0.279222  -0.279222\r\n",
      "   0.013386   0.013386  -0.314449   0.145638   0.507939\r\n",
      "   0.013386   0.013386   0.507939  -0.314449   0.145638\r\n",
      "   0.013386   0.013386   0.145638   0.507939  -0.314449\r\n",
      "\r\n"
     ]
    }
   ],
   "source": [
    "groupEl*commEl*groupEl'"
   ]
  }
 ],
 "metadata": {
  "jupytext": {
   "cell_metadata_filter": "-all",
   "main_language": "matlab",
   "notebook_metadata_filter": "-all",
   "text_representation": {
    "extension": ".m",
    "format_name": "light"
   }
  },
  "language_info": {
   "file_extension": ".m",
   "help_links": [
    {
     "text": "GNU Octave",
     "url": "https://www.gnu.org/software/octave/support.html"
    },
    {
     "text": "Octave Kernel",
     "url": "https://github.com/Calysto/octave_kernel"
    },
    {
     "text": "MetaKernel Magics",
     "url": "https://metakernel.readthedocs.io/en/latest/source/README.html"
    }
   ],
   "mimetype": "text/x-octave",
   "name": "octave",
   "version": "6.2.0"
  }
 },
 "nbformat": 4,
 "nbformat_minor": 5
}
