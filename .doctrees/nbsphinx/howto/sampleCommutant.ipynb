{
 "cells": [
  {
   "cell_type": "markdown",
   "id": "20831a60",
   "metadata": {},
   "source": [
    "# Sampling the commutant of a representation\n",
    "\n",
    "This document shows how to sample the commutant of a representation in *RepLAB*.\n",
    "\n",
    "## Preparation\n",
    "As always, before using *RepLAB* commands, initialize the library:"
   ]
  },
  {
   "cell_type": "code",
   "execution_count": 1,
   "id": "f15497ef",
   "metadata": {
    "execution": {
     "iopub.execute_input": "2021-12-28T11:52:53.434339Z",
     "iopub.status.busy": "2021-12-28T11:52:53.433832Z",
     "iopub.status.idle": "2021-12-28T11:52:53.457260Z",
     "shell.execute_reply": "2021-12-28T11:52:53.456785Z"
    }
   },
   "outputs": [
    {
     "name": "stdout",
     "output_type": "stream",
     "text": [
      "error: 'replab_init' undefined near line 1, column 1\r\n"
     ]
    }
   ],
   "source": [
    "addpath([pwd, '/../..']);\n",
    "replab_init('verbose', 0);"
   ]
  },
  {
   "cell_type": "markdown",
   "id": "26bfe902",
   "metadata": {},
   "source": [
    "## Definition of the commutant\n",
    "\n",
    "Consider a group representation"
   ]
  },
  {
   "cell_type": "code",
   "execution_count": 2,
   "id": "ffde619a",
   "metadata": {
    "execution": {
     "iopub.execute_input": "2021-12-28T11:52:53.459882Z",
     "iopub.status.busy": "2021-12-28T11:52:53.459451Z",
     "iopub.status.idle": "2021-12-28T11:52:53.475893Z",
     "shell.execute_reply": "2021-12-28T11:52:53.475492Z"
    }
   },
   "outputs": [
    {
     "name": "stdout",
     "output_type": "stream",
     "text": [
      "error: 'replab' undefined near line 1, column 1\r\n"
     ]
    },
    {
     "name": "stdout",
     "output_type": "stream",
     "text": [
      "error: 'S5' undefined near line 1, column 1\r\n"
     ]
    },
    {
     "name": "stdout",
     "output_type": "stream",
     "text": [
      "error: 'group' undefined near line 1, column 1\r\n"
     ]
    }
   ],
   "source": [
    "S5 = replab.S(5);\n",
    "group = S5.subgroup({[2 1 4 5 3]})\n",
    "rep = group.naturalRep"
   ]
  },
  {
   "cell_type": "markdown",
   "id": "27d76359",
   "metadata": {},
   "source": [
    "The commutant is obtained with the command"
   ]
  },
  {
   "cell_type": "code",
   "execution_count": 3,
   "id": "ab9f275e",
   "metadata": {
    "execution": {
     "iopub.execute_input": "2021-12-28T11:52:53.478583Z",
     "iopub.status.busy": "2021-12-28T11:52:53.478159Z",
     "iopub.status.idle": "2021-12-28T11:52:53.486184Z",
     "shell.execute_reply": "2021-12-28T11:52:53.485790Z"
    }
   },
   "outputs": [
    {
     "name": "stdout",
     "output_type": "stream",
     "text": [
      "error: 'rep' undefined near line 1, column 1\r\n"
     ]
    }
   ],
   "source": [
    "comm = rep.commutant"
   ]
  },
  {
   "cell_type": "markdown",
   "id": "0101f9e0",
   "metadata": {},
   "source": [
    "## Sampling the commutant\n",
    "\n",
    "Elements of the commutant can then be sampled"
   ]
  },
  {
   "cell_type": "code",
   "execution_count": 4,
   "id": "cce1a525",
   "metadata": {
    "execution": {
     "iopub.execute_input": "2021-12-28T11:52:53.488907Z",
     "iopub.status.busy": "2021-12-28T11:52:53.488481Z",
     "iopub.status.idle": "2021-12-28T11:52:53.496191Z",
     "shell.execute_reply": "2021-12-28T11:52:53.495830Z"
    }
   },
   "outputs": [
    {
     "name": "stdout",
     "output_type": "stream",
     "text": [
      "error: 'comm' undefined near line 1, column 1\r\n"
     ]
    }
   ],
   "source": [
    "commEl = comm.sample"
   ]
  },
  {
   "cell_type": "markdown",
   "id": "600fae66",
   "metadata": {},
   "source": [
    "These matrices are invariant under transformation by the group representations"
   ]
  },
  {
   "cell_type": "code",
   "execution_count": 5,
   "id": "dbb3066e",
   "metadata": {
    "execution": {
     "iopub.execute_input": "2021-12-28T11:52:53.498669Z",
     "iopub.status.busy": "2021-12-28T11:52:53.498250Z",
     "iopub.status.idle": "2021-12-28T11:52:53.505898Z",
     "shell.execute_reply": "2021-12-28T11:52:53.506243Z"
    }
   },
   "outputs": [
    {
     "name": "stdout",
     "output_type": "stream",
     "text": [
      "error: 'rep' undefined near line 1, column 1\r\n"
     ]
    }
   ],
   "source": [
    "groupEl = rep.sample"
   ]
  },
  {
   "cell_type": "code",
   "execution_count": 6,
   "id": "9b6cae23",
   "metadata": {
    "execution": {
     "iopub.execute_input": "2021-12-28T11:52:53.508850Z",
     "iopub.status.busy": "2021-12-28T11:52:53.508436Z",
     "iopub.status.idle": "2021-12-28T11:52:53.516465Z",
     "shell.execute_reply": "2021-12-28T11:52:53.516110Z"
    }
   },
   "outputs": [
    {
     "name": "stdout",
     "output_type": "stream",
     "text": [
      "error: 'groupEl' undefined near line 1, column 1\r\n"
     ]
    }
   ],
   "source": [
    "groupEl*commEl*groupEl'"
   ]
  }
 ],
 "metadata": {
  "jupytext": {
   "cell_metadata_filter": "-all",
   "main_language": "matlab",
   "notebook_metadata_filter": "-all",
   "text_representation": {
    "extension": ".m",
    "format_name": "light"
   }
  },
  "language_info": {
   "file_extension": ".m",
   "help_links": [
    {
     "text": "GNU Octave",
     "url": "https://www.gnu.org/software/octave/support.html"
    },
    {
     "text": "Octave Kernel",
     "url": "https://github.com/Calysto/octave_kernel"
    },
    {
     "text": "MetaKernel Magics",
     "url": "https://metakernel.readthedocs.io/en/latest/source/README.html"
    }
   ],
   "mimetype": "text/x-octave",
   "name": "octave",
   "version": "6.2.0"
  }
 },
 "nbformat": 4,
 "nbformat_minor": 5
}
