{
 "cells": [
  {
   "cell_type": "markdown",
   "id": "5da0d94e",
   "metadata": {},
   "source": [
    "# Sampling the commutant of a representation\n",
    "\n",
    "This document shows how to sample the commutant of a representation in *RepLAB*.\n",
    "\n",
    "## Preparation\n",
    "As always, before using *RepLAB* commands, initialize the library:"
   ]
  },
  {
   "cell_type": "code",
   "execution_count": 1,
   "id": "28380a6e",
   "metadata": {
    "execution": {
     "iopub.execute_input": "2021-12-18T22:09:04.379262Z",
     "iopub.status.busy": "2021-12-18T22:09:04.378835Z",
     "iopub.status.idle": "2021-12-18T22:09:04.403536Z",
     "shell.execute_reply": "2021-12-18T22:09:04.403105Z"
    }
   },
   "outputs": [
    {
     "name": "stdout",
     "output_type": "stream",
     "text": [
      "error: 'replab_init' undefined near line 1, column 1\r\n"
     ]
    }
   ],
   "source": [
    "addpath([pwd, '/../..']);\n",
    "replab_init('verbose', 0);"
   ]
  },
  {
   "cell_type": "markdown",
   "id": "12b380cc",
   "metadata": {},
   "source": [
    "## Definition of the commutant\n",
    "\n",
    "Consider a group representation"
   ]
  },
  {
   "cell_type": "code",
   "execution_count": 2,
   "id": "ffb2287b",
   "metadata": {
    "execution": {
     "iopub.execute_input": "2021-12-18T22:09:04.406064Z",
     "iopub.status.busy": "2021-12-18T22:09:04.405639Z",
     "iopub.status.idle": "2021-12-18T22:09:04.422887Z",
     "shell.execute_reply": "2021-12-18T22:09:04.422512Z"
    }
   },
   "outputs": [
    {
     "name": "stdout",
     "output_type": "stream",
     "text": [
      "error: 'replab' undefined near line 1, column 1\r\n"
     ]
    },
    {
     "name": "stdout",
     "output_type": "stream",
     "text": [
      "error: 'S5' undefined near line 1, column 1\r\n"
     ]
    },
    {
     "name": "stdout",
     "output_type": "stream",
     "text": [
      "error: 'group' undefined near line 1, column 1\r\n"
     ]
    }
   ],
   "source": [
    "S5 = replab.S(5);\n",
    "group = S5.subgroup({[2 1 4 5 3]})\n",
    "rep = group.naturalRep"
   ]
  },
  {
   "cell_type": "markdown",
   "id": "787871d4",
   "metadata": {},
   "source": [
    "The commutant is obtained with the command"
   ]
  },
  {
   "cell_type": "code",
   "execution_count": 3,
   "id": "b77c411b",
   "metadata": {
    "execution": {
     "iopub.execute_input": "2021-12-18T22:09:04.425630Z",
     "iopub.status.busy": "2021-12-18T22:09:04.425208Z",
     "iopub.status.idle": "2021-12-18T22:09:04.434519Z",
     "shell.execute_reply": "2021-12-18T22:09:04.434164Z"
    }
   },
   "outputs": [
    {
     "name": "stdout",
     "output_type": "stream",
     "text": [
      "error: 'rep' undefined near line 1, column 1\r\n"
     ]
    }
   ],
   "source": [
    "comm = rep.commutant"
   ]
  },
  {
   "cell_type": "markdown",
   "id": "403c483f",
   "metadata": {},
   "source": [
    "## Sampling the commutant\n",
    "\n",
    "Elements of the commutant can then be sampled"
   ]
  },
  {
   "cell_type": "code",
   "execution_count": 4,
   "id": "2b317889",
   "metadata": {
    "execution": {
     "iopub.execute_input": "2021-12-18T22:09:04.436802Z",
     "iopub.status.busy": "2021-12-18T22:09:04.436358Z",
     "iopub.status.idle": "2021-12-18T22:09:04.444804Z",
     "shell.execute_reply": "2021-12-18T22:09:04.445135Z"
    }
   },
   "outputs": [
    {
     "name": "stdout",
     "output_type": "stream",
     "text": [
      "error: 'comm' undefined near line 1, column 1\r\n"
     ]
    }
   ],
   "source": [
    "commEl = comm.sample"
   ]
  },
  {
   "cell_type": "markdown",
   "id": "eb1787c9",
   "metadata": {},
   "source": [
    "These matrices are invariant under transformation by the group representations"
   ]
  },
  {
   "cell_type": "code",
   "execution_count": 5,
   "id": "585b161c",
   "metadata": {
    "execution": {
     "iopub.execute_input": "2021-12-18T22:09:04.447598Z",
     "iopub.status.busy": "2021-12-18T22:09:04.447181Z",
     "iopub.status.idle": "2021-12-18T22:09:04.454935Z",
     "shell.execute_reply": "2021-12-18T22:09:04.454566Z"
    }
   },
   "outputs": [
    {
     "name": "stdout",
     "output_type": "stream",
     "text": [
      "error: 'rep' undefined near line 1, column 1\r\n"
     ]
    }
   ],
   "source": [
    "groupEl = rep.sample"
   ]
  },
  {
   "cell_type": "code",
   "execution_count": 6,
   "id": "d739e1ff",
   "metadata": {
    "execution": {
     "iopub.execute_input": "2021-12-18T22:09:04.457337Z",
     "iopub.status.busy": "2021-12-18T22:09:04.456917Z",
     "iopub.status.idle": "2021-12-18T22:09:04.464841Z",
     "shell.execute_reply": "2021-12-18T22:09:04.464471Z"
    }
   },
   "outputs": [
    {
     "name": "stdout",
     "output_type": "stream",
     "text": [
      "error: 'groupEl' undefined near line 1, column 1\r\n"
     ]
    }
   ],
   "source": [
    "groupEl*commEl*groupEl'"
   ]
  }
 ],
 "metadata": {
  "jupytext": {
   "cell_metadata_filter": "-all",
   "main_language": "matlab",
   "notebook_metadata_filter": "-all",
   "text_representation": {
    "extension": ".m",
    "format_name": "light"
   }
  },
  "language_info": {
   "file_extension": ".m",
   "help_links": [
    {
     "text": "GNU Octave",
     "url": "https://www.gnu.org/software/octave/support.html"
    },
    {
     "text": "Octave Kernel",
     "url": "https://github.com/Calysto/octave_kernel"
    },
    {
     "text": "MetaKernel Magics",
     "url": "https://metakernel.readthedocs.io/en/latest/source/README.html"
    }
   ],
   "mimetype": "text/x-octave",
   "name": "octave",
   "version": "6.2.0"
  }
 },
 "nbformat": 4,
 "nbformat_minor": 5
}
