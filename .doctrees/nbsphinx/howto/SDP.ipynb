{
 "cells": [
  {
   "cell_type": "markdown",
   "id": "edde1e23",
   "metadata": {},
   "source": [
    "# Symmetric SDPs\n",
    "\n",
    "This document shows how to define an SDP variable with *RepLAB* which satisfies some symmetry constraints."
   ]
  },
  {
   "cell_type": "markdown",
   "id": "5a925625",
   "metadata": {},
   "source": [
    "## Preparation\n",
    "As always, before using *RepLAB* commands, initialize the library:"
   ]
  },
  {
   "cell_type": "code",
   "execution_count": 1,
   "id": "65b85186",
   "metadata": {
    "execution": {
     "iopub.execute_input": "2021-12-13T21:41:49.567224Z",
     "iopub.status.busy": "2021-12-13T21:41:49.566688Z",
     "iopub.status.idle": "2021-12-13T21:41:55.487450Z",
     "shell.execute_reply": "2021-12-13T21:41:55.486640Z"
    }
   },
   "outputs": [
    {
     "name": "stdout",
     "output_type": "stream",
     "text": [
      "replab_init: Initialization done.\r\n"
     ]
    }
   ],
   "source": [
    "addpath([pwd, '/../..']);\n",
    "replab_init('verbose', 0);"
   ]
  },
  {
   "cell_type": "markdown",
   "id": "00e43c0a",
   "metadata": {},
   "source": [
    "## Invariant SDP matrix\n",
    "\n",
    "Consider that we wish to describe a $3 \\times 3$ matrix that is invariant\n",
    "under cyclic relabelling of its rows and columns. In other words, the matrix\n",
    "should satisfy the constraint M(permutation, permutation) == M for"
   ]
  },
  {
   "cell_type": "code",
   "execution_count": 2,
   "id": "7b461be6",
   "metadata": {
    "execution": {
     "iopub.execute_input": "2021-12-13T21:41:55.490041Z",
     "iopub.status.busy": "2021-12-13T21:41:55.489610Z",
     "iopub.status.idle": "2021-12-13T21:41:55.502667Z",
     "shell.execute_reply": "2021-12-13T21:41:55.502232Z"
    }
   },
   "outputs": [],
   "source": [
    "permutation = [2 3 1];"
   ]
  },
  {
   "cell_type": "markdown",
   "id": "50a10626",
   "metadata": {},
   "source": [
    "This is achieved by parametrizing the corresponding commutant with the following command"
   ]
  },
  {
   "cell_type": "code",
   "execution_count": 3,
   "id": "26ef2897",
   "metadata": {
    "execution": {
     "iopub.execute_input": "2021-12-13T21:41:55.505637Z",
     "iopub.status.busy": "2021-12-13T21:41:55.505216Z",
     "iopub.status.idle": "2021-12-13T21:41:57.142002Z",
     "shell.execute_reply": "2021-12-13T21:41:57.141586Z"
    }
   },
   "outputs": [
    {
     "name": "stdout",
     "output_type": "stream",
     "text": [
      "warning: -largeArrayDims and -compatibleArrayDims are accepted for compatibility, but ignored"
     ]
    },
    {
     "name": "stdout",
     "output_type": "stream",
     "text": [
      "\r"
     ]
    },
    {
     "name": "stdout",
     "output_type": "stream",
     "text": [
      "\n",
      "M ="
     ]
    },
    {
     "name": "stdout",
     "output_type": "stream",
     "text": [
      "\r"
     ]
    },
    {
     "name": "stdout",
     "output_type": "stream",
     "text": [
      "\n"
     ]
    },
    {
     "name": "stdout",
     "output_type": "stream",
     "text": [
      "\r\n",
      "Commutant variable 3x3 (2 blocks, 2 scalar variables)\r\n",
      "           dim: 3\r\n",
      "   dimensions1: [1, 2]\r\n",
      "         field: 'real'\r\n",
      "    matrixType: 'symmetric'\r\n",
      "multiplicities: [1, 1]\r\n",
      "         types: 'RC'\r\n",
      "             U: 3 x 3 double\r\n",
      "        blocks: [1, 2]\r\n",
      "\r\n"
     ]
    }
   ],
   "source": [
    "M = replab.CommutantVar.fromPermutations({permutation}, 'symmetric', 'real')"
   ]
  },
  {
   "cell_type": "markdown",
   "id": "5fa254ef",
   "metadata": {},
   "source": [
    "Here, we additionally require the matrix to be symmetric and real.\n",
    "The SDP matrix $M$ involves only 2 variables, corresponding to the only degrees of freedom left by the constraints. Here is their parametrization:"
   ]
  },
  {
   "cell_type": "code",
   "execution_count": 4,
   "id": "1e2b265a",
   "metadata": {
    "execution": {
     "iopub.execute_input": "2021-12-13T21:41:57.145058Z",
     "iopub.status.busy": "2021-12-13T21:41:57.144633Z",
     "iopub.status.idle": "2021-12-13T21:41:57.202168Z",
     "shell.execute_reply": "2021-12-13T21:41:57.201419Z"
    }
   },
   "outputs": [
    {
     "name": "stdout",
     "output_type": "stream",
     "text": [
      " \r\n",
      "Constant matrix\r\n",
      " \r\n",
      "   0   0   0\r\n",
      "   0   0   0\r\n",
      "   0   0   0\r\n",
      "Base matrices\r\n",
      " \r\n",
      "   0.3333   0.3333   0.3333\r\n",
      "   0.3333   0.3333   0.3333\r\n",
      "   0.3333   0.3333   0.3333\r\n",
      " \r\n",
      "   0.6667  -0.3333  -0.3333\r\n",
      "  -0.3333   0.6667  -0.3333\r\n",
      "  -0.3333  -0.3333   0.6667\r\n",
      " \r\n",
      "Used variables\r\n",
      " \r\n",
      "   4   5\r\n"
     ]
    }
   ],
   "source": [
    "see(M.fullMatrix)"
   ]
  },
  {
   "cell_type": "code",
   "execution_count": null,
   "id": "893e1ae8",
   "metadata": {
    "lines_to_next_cell": 2
   },
   "outputs": [],
   "source": []
  }
 ],
 "metadata": {
  "jupytext": {
   "cell_metadata_filter": "-all",
   "main_language": "matlab",
   "notebook_metadata_filter": "-all",
   "text_representation": {
    "extension": ".m",
    "format_name": "light"
   }
  },
  "language_info": {
   "file_extension": ".m",
   "help_links": [
    {
     "text": "GNU Octave",
     "url": "https://www.gnu.org/software/octave/support.html"
    },
    {
     "text": "Octave Kernel",
     "url": "https://github.com/Calysto/octave_kernel"
    },
    {
     "text": "MetaKernel Magics",
     "url": "https://metakernel.readthedocs.io/en/latest/source/README.html"
    }
   ],
   "mimetype": "text/x-octave",
   "name": "octave",
   "version": "6.2.0"
  }
 },
 "nbformat": 4,
 "nbformat_minor": 5
}
