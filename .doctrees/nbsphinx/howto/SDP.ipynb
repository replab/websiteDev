{
 "cells": [
  {
   "cell_type": "markdown",
   "id": "149f178e",
   "metadata": {},
   "source": [
    "# Symmetric SDPs\n",
    "\n",
    "This document shows how to define an SDP variable with *RepLAB* which satisfies some symmetry constraints."
   ]
  },
  {
   "cell_type": "markdown",
   "id": "9f5b8226",
   "metadata": {},
   "source": [
    "## Preparation\n",
    "As always, before using *RepLAB* commands, initialize the library:"
   ]
  },
  {
   "cell_type": "code",
   "execution_count": 1,
   "id": "18206974",
   "metadata": {
    "execution": {
     "iopub.execute_input": "2021-12-13T20:27:17.463939Z",
     "iopub.status.busy": "2021-12-13T20:27:17.463188Z",
     "iopub.status.idle": "2021-12-13T20:27:24.785366Z",
     "shell.execute_reply": "2021-12-13T20:27:24.784331Z"
    }
   },
   "outputs": [
    {
     "name": "stdout",
     "output_type": "stream",
     "text": [
      "replab_init: Initialization done.\r\n"
     ]
    }
   ],
   "source": [
    "addpath([pwd, '/../..']);\n",
    "replab_init('verbose', 0);"
   ]
  },
  {
   "cell_type": "markdown",
   "id": "5e4e9ee1",
   "metadata": {},
   "source": [
    "## Invariant SDP matrix\n",
    "\n",
    "Consider that we wish to describe a $3 \\times 3$ matrix that is invariant\n",
    "under cyclic relabelling of its rows and columns. In other words, the matrix\n",
    "should satisfy the constraint M(permutation, permutation) == M for"
   ]
  },
  {
   "cell_type": "code",
   "execution_count": 2,
   "id": "df3821ec",
   "metadata": {
    "execution": {
     "iopub.execute_input": "2021-12-13T20:27:24.791182Z",
     "iopub.status.busy": "2021-12-13T20:27:24.790657Z",
     "iopub.status.idle": "2021-12-13T20:27:24.809317Z",
     "shell.execute_reply": "2021-12-13T20:27:24.808844Z"
    }
   },
   "outputs": [],
   "source": [
    "permutation = [2 3 1];"
   ]
  },
  {
   "cell_type": "markdown",
   "id": "d0956eb6",
   "metadata": {},
   "source": [
    "This is achieved by parametrizing the corresponding commutant with the following command"
   ]
  },
  {
   "cell_type": "code",
   "execution_count": 3,
   "id": "49c3c100",
   "metadata": {
    "execution": {
     "iopub.execute_input": "2021-12-13T20:27:24.812460Z",
     "iopub.status.busy": "2021-12-13T20:27:24.811970Z",
     "iopub.status.idle": "2021-12-13T20:27:26.876432Z",
     "shell.execute_reply": "2021-12-13T20:27:26.875879Z"
    }
   },
   "outputs": [
    {
     "name": "stdout",
     "output_type": "stream",
     "text": [
      "warning: -largeArrayDims and -compatibleArrayDims are accepted for compatibility, but ignored"
     ]
    },
    {
     "name": "stdout",
     "output_type": "stream",
     "text": [
      "\r"
     ]
    },
    {
     "name": "stdout",
     "output_type": "stream",
     "text": [
      "\n",
      "M ="
     ]
    },
    {
     "name": "stdout",
     "output_type": "stream",
     "text": [
      "\r"
     ]
    },
    {
     "name": "stdout",
     "output_type": "stream",
     "text": [
      "\n"
     ]
    },
    {
     "name": "stdout",
     "output_type": "stream",
     "text": [
      "\r\n",
      "Commutant variable 3x3 (2 blocks, 2 scalar variables)\r\n",
      "           dim: 3\r\n",
      "   dimensions1: [1, 2]\r\n",
      "         field: 'real'\r\n",
      "    matrixType: 'symmetric'\r\n",
      "multiplicities: [1, 1]\r\n",
      "         types: 'RC'\r\n",
      "             U: 3 x 3 double\r\n",
      "        blocks: [1, 2]\r\n",
      "\r\n"
     ]
    }
   ],
   "source": [
    "M = replab.CommutantVar.fromPermutations({permutation}, 'symmetric', 'real')"
   ]
  },
  {
   "cell_type": "markdown",
   "id": "d437e01b",
   "metadata": {},
   "source": [
    "Here, we additionally require the matrix to be symmetric and real.\n",
    "The SDP matrix $M$ involves only 2 variables, corresponding to the only degrees of freedom left by the constraints. Here is their parametrization:"
   ]
  },
  {
   "cell_type": "code",
   "execution_count": 4,
   "id": "f8660d90",
   "metadata": {
    "execution": {
     "iopub.execute_input": "2021-12-13T20:27:26.884366Z",
     "iopub.status.busy": "2021-12-13T20:27:26.883837Z",
     "iopub.status.idle": "2021-12-13T20:27:26.957154Z",
     "shell.execute_reply": "2021-12-13T20:27:26.956656Z"
    }
   },
   "outputs": [
    {
     "name": "stdout",
     "output_type": "stream",
     "text": [
      " \r\n",
      "Constant matrix\r\n",
      " \r\n",
      "   0   0   0\r\n",
      "   0   0   0\r\n",
      "   0   0   0\r\n",
      "Base matrices\r\n",
      " \r\n",
      "   0.3333   0.3333   0.3333\r\n",
      "   0.3333   0.3333   0.3333\r\n",
      "   0.3333   0.3333   0.3333\r\n",
      " \r\n",
      "   0.6667  -0.3333  -0.3333\r\n",
      "  -0.3333   0.6667  -0.3333\r\n",
      "  -0.3333  -0.3333   0.6667\r\n",
      " \r\n",
      "Used variables\r\n",
      " \r\n",
      "   4   5\r\n"
     ]
    }
   ],
   "source": [
    "see(M.fullMatrix)"
   ]
  },
  {
   "cell_type": "code",
   "execution_count": null,
   "id": "f64626c3",
   "metadata": {
    "lines_to_next_cell": 2
   },
   "outputs": [],
   "source": []
  }
 ],
 "metadata": {
  "jupytext": {
   "cell_metadata_filter": "-all",
   "main_language": "matlab",
   "notebook_metadata_filter": "-all",
   "text_representation": {
    "extension": ".m",
    "format_name": "light"
   }
  },
  "language_info": {
   "file_extension": ".m",
   "help_links": [
    {
     "text": "GNU Octave",
     "url": "https://www.gnu.org/software/octave/support.html"
    },
    {
     "text": "Octave Kernel",
     "url": "https://github.com/Calysto/octave_kernel"
    },
    {
     "text": "MetaKernel Magics",
     "url": "https://metakernel.readthedocs.io/en/latest/source/README.html"
    }
   ],
   "mimetype": "text/x-octave",
   "name": "octave",
   "version": "6.2.0"
  }
 },
 "nbformat": 4,
 "nbformat_minor": 5
}
