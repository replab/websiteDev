{
 "cells": [
  {
   "cell_type": "markdown",
   "id": "9def7cad",
   "metadata": {},
   "source": [
    "# Averaging a matrix over a continuous group\n",
    "\n",
    "This document shows how to compute the average of a matrix $M$ over the representation of a compact group in *RepLAB*.\n",
    "\n",
    "## Preparation\n",
    "As always, before using *RepLAB* commands, initialize the library:"
   ]
  },
  {
   "cell_type": "code",
   "execution_count": 1,
   "id": "5ef7d947",
   "metadata": {
    "execution": {
     "iopub.execute_input": "2021-12-28T10:51:49.562157Z",
     "iopub.status.busy": "2021-12-28T10:51:49.558367Z",
     "iopub.status.idle": "2021-12-28T10:51:49.582740Z",
     "shell.execute_reply": "2021-12-28T10:51:49.583186Z"
    }
   },
   "outputs": [
    {
     "name": "stdout",
     "output_type": "stream",
     "text": [
      "error: 'replab_init' undefined near line 1, column 1\r\n"
     ]
    }
   ],
   "source": [
    "addpath([pwd, '/../..']);\n",
    "replab_init('verbose', 0);"
   ]
  },
  {
   "cell_type": "markdown",
   "id": "fdcc8363",
   "metadata": {},
   "source": [
    "## Matrix to be averaged\n",
    "\n",
    "Let us consider a random matrix"
   ]
  },
  {
   "cell_type": "code",
   "execution_count": 2,
   "id": "fd4abb04",
   "metadata": {
    "execution": {
     "iopub.execute_input": "2021-12-28T10:51:49.586196Z",
     "iopub.status.busy": "2021-12-28T10:51:49.585718Z",
     "iopub.status.idle": "2021-12-28T10:51:49.592206Z",
     "shell.execute_reply": "2021-12-28T10:51:49.591848Z"
    }
   },
   "outputs": [
    {
     "name": "stdout",
     "output_type": "stream",
     "text": [
      "M =\r\n",
      "\r\n",
      "   0.961243   0.511524   0.732287   0.236837\r\n",
      "   0.214250   0.441162   0.993138   0.964711\r\n",
      "   0.071387   0.939985   0.860897   0.650204\r\n",
      "   0.244759   0.986310   0.545742   0.549890\r\n",
      "\r\n"
     ]
    }
   ],
   "source": [
    "M = rand(4)"
   ]
  },
  {
   "cell_type": "markdown",
   "id": "dede6729",
   "metadata": {},
   "source": [
    "Our aim is to compute the average $\\sum_{g\\in G} R_g M R_g^\\dag$ over a continuous group $G$,\n",
    "where $R_g$ is a representation of the group element $g$."
   ]
  },
  {
   "cell_type": "markdown",
   "id": "710ac546",
   "metadata": {},
   "source": [
    "## Group and representation definition\n",
    "\n",
    "Let us consider the group of special orthogonal matrices with determinant equal to 1 in dimension 2"
   ]
  },
  {
   "cell_type": "code",
   "execution_count": 3,
   "id": "cfbbb73b",
   "metadata": {
    "execution": {
     "iopub.execute_input": "2021-12-28T10:51:49.594699Z",
     "iopub.status.busy": "2021-12-28T10:51:49.594273Z",
     "iopub.status.idle": "2021-12-28T10:51:49.603783Z",
     "shell.execute_reply": "2021-12-28T10:51:49.603431Z"
    }
   },
   "outputs": [
    {
     "name": "stdout",
     "output_type": "stream",
     "text": [
      "error: 'replab' undefined near line 1, column 1\r\n"
     ]
    }
   ],
   "source": [
    "group = replab.SO(2)"
   ]
  },
  {
   "cell_type": "markdown",
   "id": "f187ee81",
   "metadata": {},
   "source": [
    "We consider the 4-dimensional tensor representation of this group $R=SO(2)\\times SO(2)$"
   ]
  },
  {
   "cell_type": "code",
   "execution_count": 4,
   "id": "063c266c",
   "metadata": {
    "execution": {
     "iopub.execute_input": "2021-12-28T10:51:49.606384Z",
     "iopub.status.busy": "2021-12-28T10:51:49.605921Z",
     "iopub.status.idle": "2021-12-28T10:51:49.613644Z",
     "shell.execute_reply": "2021-12-28T10:51:49.613964Z"
    },
    "lines_to_next_cell": 2
   },
   "outputs": [
    {
     "name": "stdout",
     "output_type": "stream",
     "text": [
      "error: 'group' undefined near line 1, column 1\r\n"
     ]
    }
   ],
   "source": [
    "rep = kron(group.definingRep, group.definingRep)"
   ]
  },
  {
   "cell_type": "markdown",
   "id": "9c5c6e4a",
   "metadata": {},
   "source": [
    "## Averaging over the group\n",
    "\n",
    "The averaging is done by projecting our matrix onto the commutant of the representation"
   ]
  },
  {
   "cell_type": "code",
   "execution_count": 5,
   "id": "22eb92a3",
   "metadata": {
    "execution": {
     "iopub.execute_input": "2021-12-28T10:51:49.618903Z",
     "iopub.status.busy": "2021-12-28T10:51:49.618477Z",
     "iopub.status.idle": "2021-12-28T10:51:49.624984Z",
     "shell.execute_reply": "2021-12-28T10:51:49.624629Z"
    }
   },
   "outputs": [
    {
     "name": "stdout",
     "output_type": "stream",
     "text": [
      "error: 'rep' undefined near line 1, column 1\r\n"
     ]
    }
   ],
   "source": [
    "com = rep.commutant;"
   ]
  },
  {
   "cell_type": "code",
   "execution_count": 6,
   "id": "c1e18cb8",
   "metadata": {
    "execution": {
     "iopub.execute_input": "2021-12-28T10:51:49.627446Z",
     "iopub.status.busy": "2021-12-28T10:51:49.627035Z",
     "iopub.status.idle": "2021-12-28T10:51:49.636295Z",
     "shell.execute_reply": "2021-12-28T10:51:49.635928Z"
    }
   },
   "outputs": [
    {
     "name": "stdout",
     "output_type": "stream",
     "text": [
      "error: 'com' undefined near line 1, column 1\r\n"
     ]
    }
   ],
   "source": [
    "MP = com.project(M)"
   ]
  },
  {
   "cell_type": "markdown",
   "id": "4077ec1b",
   "metadata": {},
   "source": [
    "We can check that the matrix is now invariant over actions of the representation"
   ]
  },
  {
   "cell_type": "code",
   "execution_count": 7,
   "id": "1a5827bb",
   "metadata": {
    "execution": {
     "iopub.execute_input": "2021-12-28T10:51:49.638731Z",
     "iopub.status.busy": "2021-12-28T10:51:49.638313Z",
     "iopub.status.idle": "2021-12-28T10:51:49.652572Z",
     "shell.execute_reply": "2021-12-28T10:51:49.651922Z"
    }
   },
   "outputs": [
    {
     "name": "stdout",
     "output_type": "stream",
     "text": [
      "error: 'rep' undefined near line 1, column 1\r\n"
     ]
    },
    {
     "name": "stdout",
     "output_type": "stream",
     "text": [
      "error: 'el' undefined near line 1, column 1\r\n"
     ]
    }
   ],
   "source": [
    "el = rep.sample;\n",
    "el*MP*el'"
   ]
  }
 ],
 "metadata": {
  "jupytext": {
   "cell_metadata_filter": "-all",
   "main_language": "matlab",
   "notebook_metadata_filter": "-all",
   "text_representation": {
    "extension": ".m",
    "format_name": "light"
   }
  },
  "language_info": {
   "file_extension": ".m",
   "help_links": [
    {
     "text": "GNU Octave",
     "url": "https://www.gnu.org/software/octave/support.html"
    },
    {
     "text": "Octave Kernel",
     "url": "https://github.com/Calysto/octave_kernel"
    },
    {
     "text": "MetaKernel Magics",
     "url": "https://metakernel.readthedocs.io/en/latest/source/README.html"
    }
   ],
   "mimetype": "text/x-octave",
   "name": "octave",
   "version": "6.2.0"
  }
 },
 "nbformat": 4,
 "nbformat_minor": 5
}
