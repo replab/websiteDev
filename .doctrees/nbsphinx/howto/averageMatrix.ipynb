{
 "cells": [
  {
   "cell_type": "markdown",
   "id": "1773fabb",
   "metadata": {},
   "source": [
    "# Averaging a matrix over a continuous group\n",
    "\n",
    "This document shows how to compute the average of a matrix $M$ over the representation of a compact group in *RepLAB*.\n",
    "\n",
    "## Preparation\n",
    "As always, before using *RepLAB* commands, initialize the library:"
   ]
  },
  {
   "cell_type": "code",
   "execution_count": 1,
   "id": "2539a058",
   "metadata": {
    "execution": {
     "iopub.execute_input": "2021-12-07T09:49:16.669374Z",
     "iopub.status.busy": "2021-12-07T09:49:16.668780Z",
     "iopub.status.idle": "2021-12-07T09:49:24.614980Z",
     "shell.execute_reply": "2021-12-07T09:49:24.613875Z"
    }
   },
   "outputs": [
    {
     "name": "stdout",
     "output_type": "stream",
     "text": [
      "replab_init: Initialization done.\r\n"
     ]
    }
   ],
   "source": [
    "addpath([pwd, '/../..']);\n",
    "replab_init('verbose', 0);"
   ]
  },
  {
   "cell_type": "markdown",
   "id": "a8c37cb9",
   "metadata": {},
   "source": [
    "## Matrix to be averaged\n",
    "\n",
    "Let us consider a random matrix"
   ]
  },
  {
   "cell_type": "code",
   "execution_count": 2,
   "id": "65082ef0",
   "metadata": {
    "execution": {
     "iopub.execute_input": "2021-12-07T09:49:24.618518Z",
     "iopub.status.busy": "2021-12-07T09:49:24.617867Z",
     "iopub.status.idle": "2021-12-07T09:49:24.638721Z",
     "shell.execute_reply": "2021-12-07T09:49:24.639351Z"
    }
   },
   "outputs": [
    {
     "name": "stdout",
     "output_type": "stream",
     "text": [
      "M =\r\n",
      "\r\n",
      "   0.307211   0.996935   0.960799   0.535617\r\n",
      "   0.907476   0.568041   0.673490   0.126733\r\n",
      "   0.112421   0.149444   0.823764   0.047052\r\n",
      "   0.697090   0.601642   0.398007   0.269129\r\n",
      "\r\n"
     ]
    }
   ],
   "source": [
    "M = rand(4)"
   ]
  },
  {
   "cell_type": "markdown",
   "id": "f04ec6d0",
   "metadata": {},
   "source": [
    "Our aim is to compute the average $\\sum_{g\\in G} R_g M R_g^\\dag$ over a continuous group $G$,\n",
    "where $R_g$ is a representation of the group element $g$."
   ]
  },
  {
   "cell_type": "markdown",
   "id": "4a8ffff2",
   "metadata": {},
   "source": [
    "## Group and representation definition\n",
    "\n",
    "Let us consider the group of special orthogonal matrices with determinant equal to 1 in dimension 2"
   ]
  },
  {
   "cell_type": "code",
   "execution_count": 3,
   "id": "a7a843f2",
   "metadata": {
    "execution": {
     "iopub.execute_input": "2021-12-07T09:49:24.643063Z",
     "iopub.status.busy": "2021-12-07T09:49:24.642405Z",
     "iopub.status.idle": "2021-12-07T09:49:24.692484Z",
     "shell.execute_reply": "2021-12-07T09:49:24.691890Z"
    }
   },
   "outputs": [
    {
     "name": "stdout",
     "output_type": "stream",
     "text": [
      "group =\r\n",
      "\r\n",
      "Special orthogonal group SO(2)\r\n",
      "  algebra: 'R'\r\n",
      " identity: [1, 0; 0, 1]\r\n",
      "isSpecial: true\r\n",
      "        n: 2\r\n",
      "\r\n"
     ]
    }
   ],
   "source": [
    "group = replab.SO(2)"
   ]
  },
  {
   "cell_type": "markdown",
   "id": "fd603f0b",
   "metadata": {},
   "source": [
    "We consider the 4-dimensional tensor representation of this group $R=SO(2)\\times SO(2)$"
   ]
  },
  {
   "cell_type": "code",
   "execution_count": 4,
   "id": "abbf676b",
   "metadata": {
    "execution": {
     "iopub.execute_input": "2021-12-07T09:49:24.695745Z",
     "iopub.status.busy": "2021-12-07T09:49:24.695260Z",
     "iopub.status.idle": "2021-12-07T09:49:24.753412Z",
     "shell.execute_reply": "2021-12-07T09:49:24.752815Z"
    },
    "lines_to_next_cell": 2
   },
   "outputs": [
    {
     "name": "stdout",
     "output_type": "stream",
     "text": [
      "rep =\r\n",
      "\r\n",
      "Orthogonal tensor representation\r\n",
      "dimension: 4\r\n",
      "    field: 'R'\r\n",
      "    group: Special orthogonal group SO(2)\r\n",
      "isUnitary: true\r\n",
      "factor(1): Orthogonal fully nontrivial irreducible representation\r\n",
      "factor(2): Orthogonal fully nontrivial irreducible representation\r\n",
      "\r\n"
     ]
    }
   ],
   "source": [
    "rep = kron(group.definingRep, group.definingRep)"
   ]
  },
  {
   "cell_type": "markdown",
   "id": "6d63d2ff",
   "metadata": {},
   "source": [
    "## Averaging over the group\n",
    "\n",
    "The averaging is done by projecting our matrix onto the commutant of the representation"
   ]
  },
  {
   "cell_type": "code",
   "execution_count": 5,
   "id": "3ee60769",
   "metadata": {
    "execution": {
     "iopub.execute_input": "2021-12-07T09:49:24.756840Z",
     "iopub.status.busy": "2021-12-07T09:49:24.756298Z",
     "iopub.status.idle": "2021-12-07T09:49:24.778326Z",
     "shell.execute_reply": "2021-12-07T09:49:24.777594Z"
    }
   },
   "outputs": [],
   "source": [
    "com = rep.commutant;"
   ]
  },
  {
   "cell_type": "code",
   "execution_count": 6,
   "id": "6515ec88",
   "metadata": {
    "execution": {
     "iopub.execute_input": "2021-12-07T09:49:24.781936Z",
     "iopub.status.busy": "2021-12-07T09:49:24.781322Z",
     "iopub.status.idle": "2021-12-07T09:49:25.420048Z",
     "shell.execute_reply": "2021-12-07T09:49:25.419491Z"
    }
   },
   "outputs": [
    {
     "name": "stdout",
     "output_type": "stream",
     "text": [
      "MP =\r\n",
      "\r\n",
      "   0.647059   0.073940  -0.045946   0.257465\r\n",
      "   0.204687   0.337014   0.052579   0.232681\r\n",
      "  -0.232681   0.052579   0.337014  -0.204687\r\n",
      "   0.257465   0.045946  -0.073940   0.647059\r\n",
      "\r\n"
     ]
    }
   ],
   "source": [
    "MP = com.project(M)"
   ]
  },
  {
   "cell_type": "markdown",
   "id": "e9aa5e9c",
   "metadata": {},
   "source": [
    "We can check that the matrix is now invariant over actions of the representation"
   ]
  },
  {
   "cell_type": "code",
   "execution_count": 7,
   "id": "94dc43a8",
   "metadata": {
    "execution": {
     "iopub.execute_input": "2021-12-07T09:49:25.427540Z",
     "iopub.status.busy": "2021-12-07T09:49:25.426739Z",
     "iopub.status.idle": "2021-12-07T09:49:25.446063Z",
     "shell.execute_reply": "2021-12-07T09:49:25.445535Z"
    },
    "lines_to_next_cell": 2
   },
   "outputs": [
    {
     "name": "stdout",
     "output_type": "stream",
     "text": [
      "ans =\r\n",
      "\r\n",
      "   0.647059   0.073940  -0.045946   0.257465\r\n",
      "   0.204687   0.337014   0.052579   0.232681\r\n",
      "  -0.232681   0.052579   0.337014  -0.204687\r\n",
      "   0.257465   0.045946  -0.073940   0.647059\r\n",
      "\r\n"
     ]
    }
   ],
   "source": [
    "el = rep.sample;\n",
    "el*MP*el'"
   ]
  }
 ],
 "metadata": {
  "jupytext": {
   "cell_metadata_filter": "-all",
   "main_language": "matlab",
   "notebook_metadata_filter": "-all",
   "text_representation": {
    "extension": ".m",
    "format_name": "light"
   }
  },
  "language_info": {
   "file_extension": ".m",
   "help_links": [
    {
     "text": "GNU Octave",
     "url": "https://www.gnu.org/software/octave/support.html"
    },
    {
     "text": "Octave Kernel",
     "url": "https://github.com/Calysto/octave_kernel"
    },
    {
     "text": "MetaKernel Magics",
     "url": "https://metakernel.readthedocs.io/en/latest/source/README.html"
    }
   ],
   "mimetype": "text/x-octave",
   "name": "octave",
   "version": "6.2.0"
  }
 },
 "nbformat": 4,
 "nbformat_minor": 5
}
