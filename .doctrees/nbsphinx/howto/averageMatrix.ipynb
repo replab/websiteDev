{
 "cells": [
  {
   "cell_type": "markdown",
   "id": "69638d5c",
   "metadata": {},
   "source": [
    "# Averaging a matrix over a continuous group\n",
    "\n",
    "This document shows how to compute the average of a matrix $M$ over the representation of a compact group in *RepLAB*.\n",
    "\n",
    "## Preparation\n",
    "As always, before using *RepLAB* commands, initialize the library:"
   ]
  },
  {
   "cell_type": "code",
   "execution_count": 1,
   "id": "9c583264",
   "metadata": {
    "execution": {
     "iopub.execute_input": "2021-12-18T22:08:35.148948Z",
     "iopub.status.busy": "2021-12-18T22:08:35.145822Z",
     "iopub.status.idle": "2021-12-18T22:08:35.169059Z",
     "shell.execute_reply": "2021-12-18T22:08:35.168597Z"
    }
   },
   "outputs": [
    {
     "name": "stdout",
     "output_type": "stream",
     "text": [
      "error: 'replab_init' undefined near line 1, column 1\r\n"
     ]
    }
   ],
   "source": [
    "addpath([pwd, '/../..']);\n",
    "replab_init('verbose', 0);"
   ]
  },
  {
   "cell_type": "markdown",
   "id": "17047914",
   "metadata": {},
   "source": [
    "## Matrix to be averaged\n",
    "\n",
    "Let us consider a random matrix"
   ]
  },
  {
   "cell_type": "code",
   "execution_count": 2,
   "id": "f7af9b73",
   "metadata": {
    "execution": {
     "iopub.execute_input": "2021-12-18T22:08:35.171564Z",
     "iopub.status.busy": "2021-12-18T22:08:35.171135Z",
     "iopub.status.idle": "2021-12-18T22:08:35.177828Z",
     "shell.execute_reply": "2021-12-18T22:08:35.177193Z"
    }
   },
   "outputs": [
    {
     "name": "stdout",
     "output_type": "stream",
     "text": [
      "M =\r\n",
      "\r\n",
      "   0.427656   0.026044   0.800789   0.635835\r\n",
      "   0.700600   0.615496   0.883198   0.445169\r\n",
      "   0.095327   0.054451   0.213405   0.512137\r\n",
      "   0.368968   0.024355   0.060351   0.214961\r\n",
      "\r\n"
     ]
    }
   ],
   "source": [
    "M = rand(4)"
   ]
  },
  {
   "cell_type": "markdown",
   "id": "e218641b",
   "metadata": {},
   "source": [
    "Our aim is to compute the average $\\sum_{g\\in G} R_g M R_g^\\dag$ over a continuous group $G$,\n",
    "where $R_g$ is a representation of the group element $g$."
   ]
  },
  {
   "cell_type": "markdown",
   "id": "a00b147f",
   "metadata": {},
   "source": [
    "## Group and representation definition\n",
    "\n",
    "Let us consider the group of special orthogonal matrices with determinant equal to 1 in dimension 2"
   ]
  },
  {
   "cell_type": "code",
   "execution_count": 3,
   "id": "564c8d4d",
   "metadata": {
    "execution": {
     "iopub.execute_input": "2021-12-18T22:08:35.180372Z",
     "iopub.status.busy": "2021-12-18T22:08:35.179946Z",
     "iopub.status.idle": "2021-12-18T22:08:35.187995Z",
     "shell.execute_reply": "2021-12-18T22:08:35.187642Z"
    }
   },
   "outputs": [
    {
     "name": "stdout",
     "output_type": "stream",
     "text": [
      "error: 'replab' undefined near line 1, column 1\r\n"
     ]
    }
   ],
   "source": [
    "group = replab.SO(2)"
   ]
  },
  {
   "cell_type": "markdown",
   "id": "c222fa77",
   "metadata": {},
   "source": [
    "We consider the 4-dimensional tensor representation of this group $R=SO(2)\\times SO(2)$"
   ]
  },
  {
   "cell_type": "code",
   "execution_count": 4,
   "id": "ae5ec5aa",
   "metadata": {
    "execution": {
     "iopub.execute_input": "2021-12-18T22:08:35.190553Z",
     "iopub.status.busy": "2021-12-18T22:08:35.190139Z",
     "iopub.status.idle": "2021-12-18T22:08:35.198749Z",
     "shell.execute_reply": "2021-12-18T22:08:35.199072Z"
    },
    "lines_to_next_cell": 2
   },
   "outputs": [
    {
     "name": "stdout",
     "output_type": "stream",
     "text": [
      "error: 'group' undefined near line 1, column 1\r\n"
     ]
    }
   ],
   "source": [
    "rep = kron(group.definingRep, group.definingRep)"
   ]
  },
  {
   "cell_type": "markdown",
   "id": "53548717",
   "metadata": {},
   "source": [
    "## Averaging over the group\n",
    "\n",
    "The averaging is done by projecting our matrix onto the commutant of the representation"
   ]
  },
  {
   "cell_type": "code",
   "execution_count": 5,
   "id": "d6aee2bd",
   "metadata": {
    "execution": {
     "iopub.execute_input": "2021-12-18T22:08:35.201788Z",
     "iopub.status.busy": "2021-12-18T22:08:35.201364Z",
     "iopub.status.idle": "2021-12-18T22:08:35.209032Z",
     "shell.execute_reply": "2021-12-18T22:08:35.208657Z"
    }
   },
   "outputs": [
    {
     "name": "stdout",
     "output_type": "stream",
     "text": [
      "error: 'rep' undefined near line 1, column 1\r\n"
     ]
    }
   ],
   "source": [
    "com = rep.commutant;"
   ]
  },
  {
   "cell_type": "code",
   "execution_count": 6,
   "id": "45aac878",
   "metadata": {
    "execution": {
     "iopub.execute_input": "2021-12-18T22:08:35.211161Z",
     "iopub.status.busy": "2021-12-18T22:08:35.210755Z",
     "iopub.status.idle": "2021-12-18T22:08:35.219300Z",
     "shell.execute_reply": "2021-12-18T22:08:35.218960Z"
    }
   },
   "outputs": [
    {
     "name": "stdout",
     "output_type": "stream",
     "text": [
      "error: 'com' undefined near line 1, column 1\r\n"
     ]
    }
   ],
   "source": [
    "MP = com.project(M)"
   ]
  },
  {
   "cell_type": "markdown",
   "id": "9c611e4c",
   "metadata": {},
   "source": [
    "We can check that the matrix is now invariant over actions of the representation"
   ]
  },
  {
   "cell_type": "code",
   "execution_count": 7,
   "id": "4b28aed7",
   "metadata": {
    "execution": {
     "iopub.execute_input": "2021-12-18T22:08:35.221573Z",
     "iopub.status.busy": "2021-12-18T22:08:35.221160Z",
     "iopub.status.idle": "2021-12-18T22:08:35.232342Z",
     "shell.execute_reply": "2021-12-18T22:08:35.232652Z"
    }
   },
   "outputs": [
    {
     "name": "stdout",
     "output_type": "stream",
     "text": [
      "error: 'rep' undefined near line 1, column 1\r\n"
     ]
    },
    {
     "name": "stdout",
     "output_type": "stream",
     "text": [
      "error: 'el' undefined near line 1, column 1\r\n"
     ]
    }
   ],
   "source": [
    "el = rep.sample;\n",
    "el*MP*el'"
   ]
  }
 ],
 "metadata": {
  "jupytext": {
   "cell_metadata_filter": "-all",
   "main_language": "matlab",
   "notebook_metadata_filter": "-all",
   "text_representation": {
    "extension": ".m",
    "format_name": "light"
   }
  },
  "language_info": {
   "file_extension": ".m",
   "help_links": [
    {
     "text": "GNU Octave",
     "url": "https://www.gnu.org/software/octave/support.html"
    },
    {
     "text": "Octave Kernel",
     "url": "https://github.com/Calysto/octave_kernel"
    },
    {
     "text": "MetaKernel Magics",
     "url": "https://metakernel.readthedocs.io/en/latest/source/README.html"
    }
   ],
   "mimetype": "text/x-octave",
   "name": "octave",
   "version": "6.2.0"
  }
 },
 "nbformat": 4,
 "nbformat_minor": 5
}
