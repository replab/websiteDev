{
 "cells": [
  {
   "cell_type": "markdown",
   "id": "c1106505",
   "metadata": {},
   "source": [
    "# Averaging a matrix over a continuous group\n",
    "\n",
    "This document shows how to compute the average of a matrix $M$ over the representation of a compact group in *RepLAB*.\n",
    "\n",
    "## Preparation\n",
    "As always, before using *RepLAB* commands, initialize the library:"
   ]
  },
  {
   "cell_type": "code",
   "execution_count": 1,
   "id": "86fd6d60",
   "metadata": {
    "execution": {
     "iopub.execute_input": "2021-12-15T18:17:59.911981Z",
     "iopub.status.busy": "2021-12-15T18:17:59.911482Z",
     "iopub.status.idle": "2021-12-15T18:18:05.405684Z",
     "shell.execute_reply": "2021-12-15T18:18:05.404934Z"
    }
   },
   "outputs": [
    {
     "name": "stdout",
     "output_type": "stream",
     "text": [
      "replab_init: Initialization done.\r\n"
     ]
    }
   ],
   "source": [
    "addpath([pwd, '/../..']);\n",
    "replab_init('verbose', 0);"
   ]
  },
  {
   "cell_type": "markdown",
   "id": "d42bc9ea",
   "metadata": {},
   "source": [
    "## Matrix to be averaged\n",
    "\n",
    "Let us consider a random matrix"
   ]
  },
  {
   "cell_type": "code",
   "execution_count": 2,
   "id": "a5231613",
   "metadata": {
    "execution": {
     "iopub.execute_input": "2021-12-15T18:18:05.408731Z",
     "iopub.status.busy": "2021-12-15T18:18:05.408308Z",
     "iopub.status.idle": "2021-12-15T18:18:05.419207Z",
     "shell.execute_reply": "2021-12-15T18:18:05.419528Z"
    }
   },
   "outputs": [
    {
     "name": "stdout",
     "output_type": "stream",
     "text": [
      "M =\r\n",
      "\r\n",
      "   0.8639   0.9574   0.4739   0.5229\r\n",
      "   0.6656   0.7263   0.2757   0.5374\r\n",
      "   0.8079   0.7344   0.6533   0.5660\r\n",
      "   0.1903   0.7974   0.5127   0.3617\r\n",
      "\r\n"
     ]
    }
   ],
   "source": [
    "M = rand(4)"
   ]
  },
  {
   "cell_type": "markdown",
   "id": "4b931996",
   "metadata": {},
   "source": [
    "Our aim is to compute the average $\\sum_{g\\in G} R_g M R_g^\\dag$ over a continuous group $G$,\n",
    "where $R_g$ is a representation of the group element $g$."
   ]
  },
  {
   "cell_type": "markdown",
   "id": "842e7122",
   "metadata": {},
   "source": [
    "## Group and representation definition\n",
    "\n",
    "Let us consider the group of special orthogonal matrices with determinant equal to 1 in dimension 2"
   ]
  },
  {
   "cell_type": "code",
   "execution_count": 3,
   "id": "441c0ca8",
   "metadata": {
    "execution": {
     "iopub.execute_input": "2021-12-15T18:18:05.422254Z",
     "iopub.status.busy": "2021-12-15T18:18:05.421839Z",
     "iopub.status.idle": "2021-12-15T18:18:05.455068Z",
     "shell.execute_reply": "2021-12-15T18:18:05.454661Z"
    }
   },
   "outputs": [
    {
     "name": "stdout",
     "output_type": "stream",
     "text": [
      "group =\r\n",
      "\r\n",
      "Special orthogonal group SO(2)\r\n",
      "  algebra: 'R'\r\n",
      " identity: [1, 0; 0, 1]\r\n",
      "isSpecial: true\r\n",
      "        n: 2\r\n",
      "\r\n"
     ]
    }
   ],
   "source": [
    "group = replab.SO(2)"
   ]
  },
  {
   "cell_type": "markdown",
   "id": "b81b3866",
   "metadata": {},
   "source": [
    "We consider the 4-dimensional tensor representation of this group $R=SO(2)\\times SO(2)$"
   ]
  },
  {
   "cell_type": "code",
   "execution_count": 4,
   "id": "f4a42bff",
   "metadata": {
    "execution": {
     "iopub.execute_input": "2021-12-15T18:18:05.457823Z",
     "iopub.status.busy": "2021-12-15T18:18:05.457409Z",
     "iopub.status.idle": "2021-12-15T18:18:05.498815Z",
     "shell.execute_reply": "2021-12-15T18:18:05.498440Z"
    },
    "lines_to_next_cell": 2
   },
   "outputs": [
    {
     "name": "stdout",
     "output_type": "stream",
     "text": [
      "rep =\r\n",
      "\r\n",
      "Orthogonal tensor representation\r\n",
      "dimension: 4\r\n",
      "    field: 'R'\r\n",
      "    group: Special orthogonal group SO(2)\r\n",
      "isUnitary: true\r\n",
      "factor(1): Orthogonal fully nontrivial irreducible representation\r\n",
      "factor(2): Orthogonal fully nontrivial irreducible representation\r\n",
      "\r\n"
     ]
    }
   ],
   "source": [
    "rep = kron(group.definingRep, group.definingRep)"
   ]
  },
  {
   "cell_type": "markdown",
   "id": "e574a623",
   "metadata": {},
   "source": [
    "## Averaging over the group\n",
    "\n",
    "The averaging is done by projecting our matrix onto the commutant of the representation"
   ]
  },
  {
   "cell_type": "code",
   "execution_count": 5,
   "id": "f2957816",
   "metadata": {
    "execution": {
     "iopub.execute_input": "2021-12-15T18:18:05.501347Z",
     "iopub.status.busy": "2021-12-15T18:18:05.500927Z",
     "iopub.status.idle": "2021-12-15T18:18:05.518639Z",
     "shell.execute_reply": "2021-12-15T18:18:05.518007Z"
    }
   },
   "outputs": [],
   "source": [
    "com = rep.commutant;"
   ]
  },
  {
   "cell_type": "code",
   "execution_count": 6,
   "id": "d023b97c",
   "metadata": {
    "execution": {
     "iopub.execute_input": "2021-12-15T18:18:05.520919Z",
     "iopub.status.busy": "2021-12-15T18:18:05.520516Z",
     "iopub.status.idle": "2021-12-15T18:18:05.868573Z",
     "shell.execute_reply": "2021-12-15T18:18:05.868228Z"
    }
   },
   "outputs": [
    {
     "name": "stdout",
     "output_type": "stream",
     "text": [
      "MP =\r\n",
      "\r\n",
      "   0.847447   0.160938  -0.223168   0.121941\r\n",
      "  -0.011605   0.455143   0.270362  -0.073836\r\n",
      "   0.073836   0.270362   0.455143   0.011605\r\n",
      "   0.121941   0.223168  -0.160938   0.847447\r\n",
      "\r\n"
     ]
    }
   ],
   "source": [
    "MP = com.project(M)"
   ]
  },
  {
   "cell_type": "markdown",
   "id": "e9ca57f0",
   "metadata": {},
   "source": [
    "We can check that the matrix is now invariant over actions of the representation"
   ]
  },
  {
   "cell_type": "code",
   "execution_count": 7,
   "id": "e2fd8df1",
   "metadata": {
    "execution": {
     "iopub.execute_input": "2021-12-15T18:18:05.870994Z",
     "iopub.status.busy": "2021-12-15T18:18:05.870635Z",
     "iopub.status.idle": "2021-12-15T18:18:05.888405Z",
     "shell.execute_reply": "2021-12-15T18:18:05.888050Z"
    }
   },
   "outputs": [
    {
     "name": "stdout",
     "output_type": "stream",
     "text": [
      "ans =\r\n",
      "\r\n",
      "   0.847447   0.160938  -0.223168   0.121941\r\n",
      "  -0.011605   0.455143   0.270362  -0.073836\r\n",
      "   0.073836   0.270362   0.455143   0.011605\r\n",
      "   0.121941   0.223168  -0.160938   0.847447\r\n",
      "\r\n"
     ]
    }
   ],
   "source": [
    "el = rep.sample;\n",
    "el*MP*el'"
   ]
  }
 ],
 "metadata": {
  "jupytext": {
   "cell_metadata_filter": "-all",
   "main_language": "matlab",
   "notebook_metadata_filter": "-all",
   "text_representation": {
    "extension": ".m",
    "format_name": "light"
   }
  },
  "language_info": {
   "file_extension": ".m",
   "help_links": [
    {
     "text": "GNU Octave",
     "url": "https://www.gnu.org/software/octave/support.html"
    },
    {
     "text": "Octave Kernel",
     "url": "https://github.com/Calysto/octave_kernel"
    },
    {
     "text": "MetaKernel Magics",
     "url": "https://metakernel.readthedocs.io/en/latest/source/README.html"
    }
   ],
   "mimetype": "text/x-octave",
   "name": "octave",
   "version": "6.2.0"
  }
 },
 "nbformat": 4,
 "nbformat_minor": 5
}
