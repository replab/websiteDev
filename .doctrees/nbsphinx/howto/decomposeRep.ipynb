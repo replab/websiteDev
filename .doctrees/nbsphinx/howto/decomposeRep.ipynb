{
 "cells": [
  {
   "cell_type": "markdown",
   "id": "db7ef7e0",
   "metadata": {},
   "source": [
    "# Decomposing a representation\n",
    "\n",
    "This document shows how to decompose a group representation with *RepLAB*.\n",
    "\n",
    "## Preparation\n",
    "As always, before using *RepLAB* commands, initialize the library:"
   ]
  },
  {
   "cell_type": "code",
   "execution_count": 1,
   "id": "33de8f6b",
   "metadata": {
    "execution": {
     "iopub.execute_input": "2021-12-18T22:08:40.491378Z",
     "iopub.status.busy": "2021-12-18T22:08:40.488044Z",
     "iopub.status.idle": "2021-12-18T22:08:40.512138Z",
     "shell.execute_reply": "2021-12-18T22:08:40.511431Z"
    }
   },
   "outputs": [
    {
     "name": "stdout",
     "output_type": "stream",
     "text": [
      "error: 'replab_init' undefined near line 1, column 1\r\n"
     ]
    }
   ],
   "source": [
    "addpath([pwd, '/../..']);\n",
    "replab_init('verbose', 0);"
   ]
  },
  {
   "cell_type": "markdown",
   "id": "09a1c229",
   "metadata": {},
   "source": [
    "## Representation definition\n",
    "\n",
    "Let us construct a $4$-dimensional representation"
   ]
  },
  {
   "cell_type": "code",
   "execution_count": 2,
   "id": "4fe37518",
   "metadata": {
    "execution": {
     "iopub.execute_input": "2021-12-18T22:08:40.514359Z",
     "iopub.status.busy": "2021-12-18T22:08:40.513929Z",
     "iopub.status.idle": "2021-12-18T22:08:40.531692Z",
     "shell.execute_reply": "2021-12-18T22:08:40.532017Z"
    }
   },
   "outputs": [
    {
     "name": "stdout",
     "output_type": "stream",
     "text": [
      "error: 'replab' undefined near line 1, column 1\r\n"
     ]
    },
    {
     "name": "stdout",
     "output_type": "stream",
     "text": [
      "error: 'S4' undefined near line 1, column 1\r\n"
     ]
    },
    {
     "name": "stdout",
     "output_type": "stream",
     "text": [
      "error: 'group' undefined near line 1, column 1\r\n"
     ]
    }
   ],
   "source": [
    "S4 = replab.S(4);\n",
    "group = S4.subgroup({[2 1 3 4], [1 2 4 3]})\n",
    "rep = group.naturalRep"
   ]
  },
  {
   "cell_type": "markdown",
   "id": "e0158043",
   "metadata": {},
   "source": [
    "## Decomposition\n",
    "\n",
    "The representation is decomposed with the command"
   ]
  },
  {
   "cell_type": "code",
   "execution_count": 3,
   "id": "7d5f1352",
   "metadata": {
    "execution": {
     "iopub.execute_input": "2021-12-18T22:08:40.534555Z",
     "iopub.status.busy": "2021-12-18T22:08:40.534136Z",
     "iopub.status.idle": "2021-12-18T22:08:40.543970Z",
     "shell.execute_reply": "2021-12-18T22:08:40.543612Z"
    }
   },
   "outputs": [
    {
     "name": "stdout",
     "output_type": "stream",
     "text": [
      "error: 'rep' undefined near line 1, column 1\r\n"
     ]
    }
   ],
   "source": [
    "dec = rep.decomposition"
   ]
  },
  {
   "cell_type": "markdown",
   "id": "1128db9c",
   "metadata": {},
   "source": [
    "This representation contains 3 irreducible components."
   ]
  }
 ],
 "metadata": {
  "jupytext": {
   "cell_metadata_filter": "-all",
   "main_language": "matlab",
   "notebook_metadata_filter": "-all",
   "text_representation": {
    "extension": ".m",
    "format_name": "light"
   }
  },
  "language_info": {
   "file_extension": ".m",
   "help_links": [
    {
     "text": "GNU Octave",
     "url": "https://www.gnu.org/software/octave/support.html"
    },
    {
     "text": "Octave Kernel",
     "url": "https://github.com/Calysto/octave_kernel"
    },
    {
     "text": "MetaKernel Magics",
     "url": "https://metakernel.readthedocs.io/en/latest/source/README.html"
    }
   ],
   "mimetype": "text/x-octave",
   "name": "octave",
   "version": "6.2.0"
  }
 },
 "nbformat": 4,
 "nbformat_minor": 5
}
