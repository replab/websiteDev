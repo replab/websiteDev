{
 "cells": [
  {
   "cell_type": "markdown",
   "id": "f82bec1a",
   "metadata": {},
   "source": [
    "# Symmetric SDPs\n",
    "\n",
    "This document illustrated how *RepLAB* can be used to solve SemiDefinite Programs (SDP) subject to symmetries. Several methods for constructing\n",
    "SDPs subject to symmetries are presented.\n",
    "\n",
    "## Preparation\n",
    "As always, before using *RepLAB* commands, initialize the library:"
   ]
  },
  {
   "cell_type": "code",
   "execution_count": 1,
   "id": "763d52b6",
   "metadata": {
    "execution": {
     "iopub.execute_input": "2021-12-28T10:52:27.128262Z",
     "iopub.status.busy": "2021-12-28T10:52:27.127778Z",
     "iopub.status.idle": "2021-12-28T10:52:27.150799Z",
     "shell.execute_reply": "2021-12-28T10:52:27.150337Z"
    }
   },
   "outputs": [
    {
     "name": "stdout",
     "output_type": "stream",
     "text": [
      "error: 'replab_init' undefined near line 1, column 1\r\n"
     ]
    }
   ],
   "source": [
    "addpath([pwd, '/../..']);\n",
    "replab_init('verbose', 0);"
   ]
  },
  {
   "cell_type": "markdown",
   "id": "13c0083b",
   "metadata": {
    "lines_to_next_cell": 2
   },
   "source": [
    "Commands in this document makes use ot the YALMIP interface to solve\n",
    "convex optimization problems, see\n",
    "<../installation.html installation instructions>."
   ]
  },
  {
   "cell_type": "markdown",
   "id": "261e2132",
   "metadata": {},
   "source": [
    "## Introduction\n",
    "\n",
    "[Semidefinite programming](https://en.wikipedia.org/wiki/Semidefinite_programming)\n",
    "is a form of optimization that admits semidefinite\n",
    "constraints (as in the condition that all eigenvalues of a matrix must be\n",
    "positive). It naturally arises in various fields, including operational\n",
    "research and polynomial optimization.\n",
    "\n",
    "The ability to solve a semidefinite program depends heavily on:\n",
    "\n",
    "* the size of the positive semi-definite (PSD) blocks\n",
    "* the number of variables and constraints involved\n",
    "\n",
    "A positive semi-definite matrix that is invariant under some joint\n",
    "permutation of its lines and columns can be decomposed into a block\n",
    "diagonal form. This allows to:\n",
    "\n",
    "* decompose PSD blocks into smaller PSD blocks\n",
    "* set many variables to zero, hence reducing the number of variables in the problem\n",
    "\n",
    "As we shows below, *RepLAB* performs this simplification automatically.\n",
    "\n",
    "## Formulating a symmetric SDP\n",
    "\n",
    "To illustrate the usage of *RepLAB* for symmetric SDPs, we consider a\n",
    "simple example involving a 3x3 matrix $M$ with trace 1 that is symmetric\n",
    "under cyclic permutation of its indices, i.e. it satisfies $M([2\\ 3\\ 1], [2\\ 3\\ 1]) = M$.\n",
    "We ask what is the smallest value that the off-diagonal element\n",
    "$M(1,2)$ can take if this matrix $M$ has only positive eigenvalues."
   ]
  },
  {
   "cell_type": "markdown",
   "id": "be9ef8a6",
   "metadata": {},
   "source": [
    "### Symmetric formulation\n",
    "\n",
    "Using *RepLAB*, we can solve this problem as follows.\n",
    "\n",
    "We start by defining a matrix which satisfies the desired symmetry"
   ]
  },
  {
   "cell_type": "code",
   "execution_count": 2,
   "id": "c61a821b",
   "metadata": {
    "execution": {
     "iopub.execute_input": "2021-12-28T10:52:27.153569Z",
     "iopub.status.busy": "2021-12-28T10:52:27.153143Z",
     "iopub.status.idle": "2021-12-28T10:52:27.163585Z",
     "shell.execute_reply": "2021-12-28T10:52:27.163231Z"
    }
   },
   "outputs": [
    {
     "name": "stdout",
     "output_type": "stream",
     "text": [
      "error: 'replab' undefined near line 1, column 1\r\n"
     ]
    }
   ],
   "source": [
    "permutation = [2 3 1];\n",
    "MSym = replab.CommutantVar.fromPermutations({permutation}, 'symmetric', 'real');"
   ]
  },
  {
   "cell_type": "markdown",
   "id": "ae41732e",
   "metadata": {},
   "source": [
    "We can then perform the optimization with:"
   ]
  },
  {
   "cell_type": "code",
   "execution_count": 3,
   "id": "ce20620a",
   "metadata": {
    "execution": {
     "iopub.execute_input": "2021-12-28T10:52:27.165885Z",
     "iopub.status.busy": "2021-12-28T10:52:27.165463Z",
     "iopub.status.idle": "2021-12-28T10:52:27.181886Z",
     "shell.execute_reply": "2021-12-28T10:52:27.181486Z"
    }
   },
   "outputs": [
    {
     "name": "stdout",
     "output_type": "stream",
     "text": [
      "error: 'MSym' undefined near line 1, column 1\r\n"
     ]
    },
    {
     "name": "stdout",
     "output_type": "stream",
     "text": [
      "error: 'constraintsSym' undefined near line 1, column 1\r\n"
     ]
    },
    {
     "name": "stdout",
     "output_type": "stream",
     "text": [
      "error: 'MSym' undefined near line 1, column 1\r\n"
     ]
    }
   ],
   "source": [
    "constraintsSym = [trace(MSym) == 1, MSym >= 0];\n",
    "diagnosticSym = optimize(constraintsSym, MSym(1,2), sdpsettings('verbose', 0));\n",
    "MSymOpt = value(MSym)"
   ]
  },
  {
   "cell_type": "markdown",
   "id": "be058dc4",
   "metadata": {},
   "source": [
    "We find the critical value of $-1/6$.\n",
    "\n",
    "At the end of this page, we discuss how this formulation is more\n",
    "efficient than a direct formulation which would not take advantage of the\n",
    "symmetry properties of the considered matrix."
   ]
  },
  {
   "cell_type": "markdown",
   "id": "5802c372",
   "metadata": {},
   "source": [
    "## Constructing a symmetric SDP matrix with additional structure\n",
    "\n",
    "An SDP matrix might sometimes be subject to more than only symmetry\n",
    "constraints. When these additional constraints take the form of equality\n",
    "between some of the matrix elements, it can be conveniently described by\n",
    "a matrix having at each element the index of the corresponding variable.\n",
    "All elements with identical index are then understood as being equal to\n",
    "each other.\n",
    "\n",
    "For instance, imposing on a 3x3 matrix that elements (1,1) ans (2,1) are\n",
    "must be equal to each other can be described by the following index\n",
    "matrix:"
   ]
  },
  {
   "cell_type": "code",
   "execution_count": 4,
   "id": "55298b84",
   "metadata": {
    "execution": {
     "iopub.execute_input": "2021-12-28T10:52:27.184329Z",
     "iopub.status.busy": "2021-12-28T10:52:27.183913Z",
     "iopub.status.idle": "2021-12-28T10:52:27.191813Z",
     "shell.execute_reply": "2021-12-28T10:52:27.191440Z"
    }
   },
   "outputs": [],
   "source": [
    "indexMatrix = [1 2 3\n",
    "1 4 5\n",
    "6 7 8];"
   ]
  },
  {
   "cell_type": "markdown",
   "id": "fe6b4127",
   "metadata": {},
   "source": [
    "An SDP matrix satisfying this constraint is then obtained"
   ]
  },
  {
   "cell_type": "code",
   "execution_count": 5,
   "id": "1c4d2156",
   "metadata": {
    "execution": {
     "iopub.execute_input": "2021-12-28T10:52:27.194163Z",
     "iopub.status.busy": "2021-12-28T10:52:27.193716Z",
     "iopub.status.idle": "2021-12-28T10:52:27.201686Z",
     "shell.execute_reply": "2021-12-28T10:52:27.201333Z"
    }
   },
   "outputs": [
    {
     "name": "stdout",
     "output_type": "stream",
     "text": [
      "error: 'replab' undefined near line 1, column 1\r\n"
     ]
    }
   ],
   "source": [
    "cstrSdpMatrix = replab.CommutantVar.fromIndexMatrix(indexMatrix, {permutation}, 'symmetric', 'real')"
   ]
  },
  {
   "cell_type": "markdown",
   "id": "774946e5",
   "metadata": {
    "lines_to_next_cell": 2
   },
   "source": [
    "In this trivial case, the SDP matrix is left to contain only one variable: the additional constraints collapsed the all group orbits\n",
    "together."
   ]
  },
  {
   "cell_type": "markdown",
   "id": "5d31bc54",
   "metadata": {},
   "source": [
    "## Imposing symmetry to an existing SDP matrix\n",
    "\n",
    "Symmetry constraints can also be straightforwardly imposed on existing SDP matrices with arbitrary structure.\n",
    "\n",
    "For instance, consider the following special SDP matrix"
   ]
  },
  {
   "cell_type": "code",
   "execution_count": 6,
   "id": "3a901e87",
   "metadata": {
    "execution": {
     "iopub.execute_input": "2021-12-28T10:52:27.203973Z",
     "iopub.status.busy": "2021-12-28T10:52:27.203551Z",
     "iopub.status.idle": "2021-12-28T10:52:27.222610Z",
     "shell.execute_reply": "2021-12-28T10:52:27.222222Z"
    }
   },
   "outputs": [
    {
     "name": "stdout",
     "output_type": "stream",
     "text": [
      "error: 'sdpvar' undefined near line 1, column 1\r\n"
     ]
    },
    {
     "name": "stdout",
     "output_type": "stream",
     "text": [
      "error: 'sdpvar' undefined near line 1, column 1\r\n"
     ]
    },
    {
     "name": "stdout",
     "output_type": "stream",
     "text": [
      "error: 'x' undefined near line 1, column 1\r\n"
     ]
    }
   ],
   "source": [
    "x = sdpvar;\n",
    "y = sdpvar\n",
    "MSpecial = [1 x y\n",
    "x 1 y\n",
    "x y 1];"
   ]
  },
  {
   "cell_type": "markdown",
   "id": "0a71e369",
   "metadata": {},
   "source": [
    "We can directly impose cyclic symmetry onto this matrix:"
   ]
  },
  {
   "cell_type": "code",
   "execution_count": 7,
   "id": "f390bb20",
   "metadata": {
    "execution": {
     "iopub.execute_input": "2021-12-28T10:52:27.224857Z",
     "iopub.status.busy": "2021-12-28T10:52:27.224444Z",
     "iopub.status.idle": "2021-12-28T10:52:27.232734Z",
     "shell.execute_reply": "2021-12-28T10:52:27.232368Z"
    }
   },
   "outputs": [
    {
     "name": "stdout",
     "output_type": "stream",
     "text": [
      "error: 'replab' undefined near line 1, column 1\r\n"
     ]
    }
   ],
   "source": [
    "MSpecialSym = replab.CommutantVar.fromSdpMatrix(MSpecial, {[2 3 1]})"
   ]
  },
  {
   "cell_type": "markdown",
   "id": "da647f20",
   "metadata": {},
   "source": [
    "Requesting this matrix to be PSD now imposes both\n",
    "\n",
    "* Positivity of the 1x1 and 2x2 blocks\n",
    "* Equality with the imposed form\n",
    "\n",
    "as can be seen with"
   ]
  },
  {
   "cell_type": "code",
   "execution_count": 8,
   "id": "eadc18c6",
   "metadata": {
    "execution": {
     "iopub.execute_input": "2021-12-28T10:52:27.235269Z",
     "iopub.status.busy": "2021-12-28T10:52:27.234832Z",
     "iopub.status.idle": "2021-12-28T10:52:27.242305Z",
     "shell.execute_reply": "2021-12-28T10:52:27.241933Z"
    }
   },
   "outputs": [
    {
     "name": "stdout",
     "output_type": "stream",
     "text": [
      "error: 'MSpecialSym' undefined near line 1, column 1\r\n"
     ]
    }
   ],
   "source": [
    "MSpecialSym >= 0"
   ]
  },
  {
   "cell_type": "markdown",
   "id": "408a9aa8",
   "metadata": {},
   "source": [
    "## Block-diagonalizing a symmetric SDP matrix\n",
    "\n",
    "When an SDP matrix is invariant under the considered permutations,\n",
    "*RepLAB* can be used to block-diagonalize it. This allows imposing the\n",
    "positivity of the matrix through the positivity of small blocks. As an\n",
    "example, consider the following matrix"
   ]
  },
  {
   "cell_type": "code",
   "execution_count": 9,
   "id": "c2917a70",
   "metadata": {
    "execution": {
     "iopub.execute_input": "2021-12-28T10:52:27.244493Z",
     "iopub.status.busy": "2021-12-28T10:52:27.244060Z",
     "iopub.status.idle": "2021-12-28T10:52:27.254259Z",
     "shell.execute_reply": "2021-12-28T10:52:27.254611Z"
    }
   },
   "outputs": [
    {
     "name": "stdout",
     "output_type": "stream",
     "text": [
      "error: 'x' undefined near line 1, column 1\r\n"
     ]
    }
   ],
   "source": [
    "MInvariant = [x 1 y\n",
    "y x 1\n",
    "1 y x];"
   ]
  },
  {
   "cell_type": "markdown",
   "id": "e2438b4d",
   "metadata": {},
   "source": [
    "It is indeed invariant:"
   ]
  },
  {
   "cell_type": "code",
   "execution_count": 10,
   "id": "3d208940",
   "metadata": {
    "execution": {
     "iopub.execute_input": "2021-12-28T10:52:27.256824Z",
     "iopub.status.busy": "2021-12-28T10:52:27.256418Z",
     "iopub.status.idle": "2021-12-28T10:52:27.265664Z",
     "shell.execute_reply": "2021-12-28T10:52:27.265238Z"
    }
   },
   "outputs": [
    {
     "name": "stdout",
     "output_type": "stream",
     "text": [
      "error: 'MInvariant' undefined near line 1, column 1\r\n"
     ]
    }
   ],
   "source": [
    "MInvariant - MInvariant(permutation,permutation)"
   ]
  },
  {
   "cell_type": "markdown",
   "id": "93c2f916",
   "metadata": {},
   "source": [
    "But not transpose-invariant (which is necessary for PSD matrices), so we enforce it:"
   ]
  },
  {
   "cell_type": "code",
   "execution_count": 11,
   "id": "5a959f27",
   "metadata": {
    "execution": {
     "iopub.execute_input": "2021-12-28T10:52:27.267932Z",
     "iopub.status.busy": "2021-12-28T10:52:27.267527Z",
     "iopub.status.idle": "2021-12-28T10:52:27.281182Z",
     "shell.execute_reply": "2021-12-28T10:52:27.280842Z"
    }
   },
   "outputs": [
    {
     "name": "stdout",
     "output_type": "stream",
     "text": [
      "error: 'MInvariant' undefined near line 1, column 1\r\n"
     ]
    },
    {
     "name": "stdout",
     "output_type": "stream",
     "text": [
      "error: 'MInvariant' undefined near line 1, column 1\r\n"
     ]
    }
   ],
   "source": [
    "MInvariant = MInvariant + MInvariant';\n",
    "MInvariant - MInvariant'"
   ]
  },
  {
   "cell_type": "markdown",
   "id": "67d0ab09",
   "metadata": {},
   "source": [
    "We can now block-diagonalize it by calling"
   ]
  },
  {
   "cell_type": "code",
   "execution_count": 12,
   "id": "3ff3f718",
   "metadata": {
    "execution": {
     "iopub.execute_input": "2021-12-28T10:52:27.283438Z",
     "iopub.status.busy": "2021-12-28T10:52:27.283029Z",
     "iopub.status.idle": "2021-12-28T10:52:27.292292Z",
     "shell.execute_reply": "2021-12-28T10:52:27.291950Z"
    }
   },
   "outputs": [
    {
     "name": "stdout",
     "output_type": "stream",
     "text": [
      "error: 'replab' undefined near line 1, column 1\r\n"
     ]
    }
   ],
   "source": [
    "MInvariantBlock = replab.CommutantVar.fromSymSdpMatrix(MInvariant, {[2 3 1]})"
   ]
  },
  {
   "cell_type": "markdown",
   "id": "149dd457",
   "metadata": {},
   "source": [
    "No new variable has been introduced in the new object, but the block structure has been found:"
   ]
  },
  {
   "cell_type": "code",
   "execution_count": 13,
   "id": "2ec73d76",
   "metadata": {
    "execution": {
     "iopub.execute_input": "2021-12-28T10:52:27.294861Z",
     "iopub.status.busy": "2021-12-28T10:52:27.294154Z",
     "iopub.status.idle": "2021-12-28T10:52:27.303661Z",
     "shell.execute_reply": "2021-12-28T10:52:27.303319Z"
    }
   },
   "outputs": [
    {
     "name": "stdout",
     "output_type": "stream",
     "text": [
      "error: 'MInvariantBlock' undefined near line 1, column 1\r\n"
     ]
    }
   ],
   "source": [
    "full(MInvariantBlock.blockMask)"
   ]
  },
  {
   "cell_type": "markdown",
   "id": "e484e2cf",
   "metadata": {},
   "source": [
    "The block structure is used when requesting this matrix to be PSD:"
   ]
  },
  {
   "cell_type": "code",
   "execution_count": 14,
   "id": "2e47837b",
   "metadata": {
    "execution": {
     "iopub.execute_input": "2021-12-28T10:52:27.305859Z",
     "iopub.status.busy": "2021-12-28T10:52:27.305452Z",
     "iopub.status.idle": "2021-12-28T10:52:27.314109Z",
     "shell.execute_reply": "2021-12-28T10:52:27.314433Z"
    }
   },
   "outputs": [
    {
     "name": "stdout",
     "output_type": "stream",
     "text": [
      "error: 'MInvariantBlock' undefined near line 1, column 1\r\n"
     ]
    }
   ],
   "source": [
    "MInvariantBlock >= 0"
   ]
  },
  {
   "cell_type": "markdown",
   "id": "7e6e09f0",
   "metadata": {},
   "source": [
    "## Comparison with a direct formulation\n",
    "\n",
    "To conclude, let us show in more detail why the SDP formulation of a\n",
    "problem is more efficient if it takes advantage of the available symmetry\n",
    "properties. For this, we consider again the problem described at the\n",
    "beginning of this page. This problem can be solved directly as follows:"
   ]
  },
  {
   "cell_type": "code",
   "execution_count": 15,
   "id": "a2306d16",
   "metadata": {
    "execution": {
     "iopub.execute_input": "2021-12-28T10:52:27.316621Z",
     "iopub.status.busy": "2021-12-28T10:52:27.316212Z",
     "iopub.status.idle": "2021-12-28T10:52:27.339599Z",
     "shell.execute_reply": "2021-12-28T10:52:27.339226Z"
    }
   },
   "outputs": [
    {
     "name": "stdout",
     "output_type": "stream",
     "text": [
      "error: 'sdpvar' undefined near line 1, column 1\r\n"
     ]
    },
    {
     "name": "stdout",
     "output_type": "stream",
     "text": [
      "error: 'M' undefined near line 1, column 1\r\n"
     ]
    },
    {
     "name": "stdout",
     "output_type": "stream",
     "text": [
      "error: 'constraints' undefined near line 1, column 1\r\n"
     ]
    },
    {
     "name": "stdout",
     "output_type": "stream",
     "text": [
      "error: 'M' undefined near line 1, column 1\r\n"
     ]
    }
   ],
   "source": [
    "M = sdpvar(3);\n",
    "constraints = [trace(M) == 1, M(permutation, permutation) == M, M >= 0];\n",
    "diagnostic = optimize(constraints, M(1,2), sdpsettings('verbose', 0))\n",
    "MOpt = value(M)"
   ]
  },
  {
   "cell_type": "markdown",
   "id": "a451f610",
   "metadata": {},
   "source": [
    "Again, we find that the lowest possible value of $M(1,2)$ which is\n",
    "compatible with the matrix $M$ having only positive eigenvalues is\n",
    "$-1/6$. However, this last SDP problem is more complex than the first one\n",
    "which takes into account symmetries."
   ]
  },
  {
   "cell_type": "markdown",
   "id": "c7e9f97e",
   "metadata": {},
   "source": [
    "### Complexity comparison\n",
    "\n",
    "The symmetric formulation of the above problem involves fewer variables\n",
    "and simpler constraints, as summarized in the following table:\n",
    "\n",
    "| Formulation:           | Direct | Symmetric   |\n",
    "|------------------------|--------|-------------|\n",
    "| # variables            | 6      | 2           |\n",
    "| # equality constraints | 10     | 1           |\n",
    "| Size of PSD blocks     | 3      | 1x1 and 2x2 |"
   ]
  },
  {
   "cell_type": "markdown",
   "id": "fe351a33",
   "metadata": {},
   "source": [
    "This can be checked by examining the variables involved. In the non-symmetrized case, we have"
   ]
  },
  {
   "cell_type": "code",
   "execution_count": 16,
   "id": "527fc4d4",
   "metadata": {
    "execution": {
     "iopub.execute_input": "2021-12-28T10:52:27.342119Z",
     "iopub.status.busy": "2021-12-28T10:52:27.341686Z",
     "iopub.status.idle": "2021-12-28T10:52:27.349798Z",
     "shell.execute_reply": "2021-12-28T10:52:27.350227Z"
    }
   },
   "outputs": [
    {
     "name": "stdout",
     "output_type": "stream",
     "text": [
      "error: 'M' undefined near line 1, column 1\r\n"
     ]
    }
   ],
   "source": [
    "M"
   ]
  },
  {
   "cell_type": "code",
   "execution_count": 17,
   "id": "3df65a2d",
   "metadata": {
    "execution": {
     "iopub.execute_input": "2021-12-28T10:52:27.352362Z",
     "iopub.status.busy": "2021-12-28T10:52:27.351952Z",
     "iopub.status.idle": "2021-12-28T10:52:27.360350Z",
     "shell.execute_reply": "2021-12-28T10:52:27.360672Z"
    }
   },
   "outputs": [
    {
     "name": "stdout",
     "output_type": "stream",
     "text": [
      "error: 'constraints' undefined near line 1, column 1\r\n"
     ]
    }
   ],
   "source": [
    "constraints"
   ]
  },
  {
   "cell_type": "markdown",
   "id": "aca8f02a",
   "metadata": {},
   "source": [
    "we see that it involves\n",
    "\n",
    "* 6 variables\n",
    "* 1+3x3=10 equality constraints\n",
    "* 1 PSD block of size 3x3\n",
    "\n",
    "In the symmetrized case, we have"
   ]
  },
  {
   "cell_type": "code",
   "execution_count": 18,
   "id": "d3b74693",
   "metadata": {
    "execution": {
     "iopub.execute_input": "2021-12-28T10:52:27.363002Z",
     "iopub.status.busy": "2021-12-28T10:52:27.362593Z",
     "iopub.status.idle": "2021-12-28T10:52:27.371262Z",
     "shell.execute_reply": "2021-12-28T10:52:27.370889Z"
    }
   },
   "outputs": [
    {
     "name": "stdout",
     "output_type": "stream",
     "text": [
      "error: 'MSym' undefined near line 1, column 1\r\n"
     ]
    }
   ],
   "source": [
    "MSym"
   ]
  },
  {
   "cell_type": "markdown",
   "id": "91f4eced",
   "metadata": {},
   "source": [
    "In other words, the matrix is made of two blocks of size 1x1 and 2x2, and\n",
    "involves altogether just 2 variables."
   ]
  },
  {
   "cell_type": "markdown",
   "id": "25f0f126",
   "metadata": {},
   "source": [
    "The constraints this time are"
   ]
  },
  {
   "cell_type": "code",
   "execution_count": 19,
   "id": "f8ab7f28",
   "metadata": {
    "execution": {
     "iopub.execute_input": "2021-12-28T10:52:27.373792Z",
     "iopub.status.busy": "2021-12-28T10:52:27.373381Z",
     "iopub.status.idle": "2021-12-28T10:52:27.381102Z",
     "shell.execute_reply": "2021-12-28T10:52:27.380757Z"
    }
   },
   "outputs": [
    {
     "name": "stdout",
     "output_type": "stream",
     "text": [
      "error: 'constraintsSym' undefined near line 1, column 1\r\n"
     ]
    }
   ],
   "source": [
    "constraintsSym"
   ]
  },
  {
   "cell_type": "markdown",
   "id": "5446eec7",
   "metadata": {},
   "source": [
    "This formulation thus involves:\n",
    "\n",
    "* 2 variables\n",
    "* 1 equality constraint\n",
    "* SDP blocks of size 1x1 and 2x2"
   ]
  }
 ],
 "metadata": {
  "jupytext": {
   "cell_metadata_filter": "-all",
   "main_language": "matlab",
   "notebook_metadata_filter": "-all",
   "text_representation": {
    "extension": ".m",
    "format_name": "light"
   }
  },
  "language_info": {
   "file_extension": ".m",
   "help_links": [
    {
     "text": "GNU Octave",
     "url": "https://www.gnu.org/software/octave/support.html"
    },
    {
     "text": "Octave Kernel",
     "url": "https://github.com/Calysto/octave_kernel"
    },
    {
     "text": "MetaKernel Magics",
     "url": "https://metakernel.readthedocs.io/en/latest/source/README.html"
    }
   ],
   "mimetype": "text/x-octave",
   "name": "octave",
   "version": "6.2.0"
  }
 },
 "nbformat": 4,
 "nbformat_minor": 5
}
