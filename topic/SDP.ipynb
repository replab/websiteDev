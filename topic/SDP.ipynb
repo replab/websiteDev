{
 "cells": [
  {
   "cell_type": "markdown",
   "id": "f2b9ab2d",
   "metadata": {},
   "source": [
    "# Symmetric SDPs\n",
    "\n",
    "This document illustrated how *RepLAB* can be used to solve SemiDefinite Programs (SDP) subject to symmetries. Several methods for constructing\n",
    "SDPs subject to symmetries are presented.\n",
    "\n",
    "## Preparation\n",
    "As always, before using *RepLAB* commands, initialize the library:"
   ]
  },
  {
   "cell_type": "code",
   "execution_count": 1,
   "id": "14d5a1a6",
   "metadata": {
    "execution": {
     "iopub.execute_input": "2021-12-20T14:17:07.169632Z",
     "iopub.status.busy": "2021-12-20T14:17:07.169142Z",
     "iopub.status.idle": "2021-12-20T14:17:07.191988Z",
     "shell.execute_reply": "2021-12-20T14:17:07.191448Z"
    }
   },
   "outputs": [
    {
     "name": "stdout",
     "output_type": "stream",
     "text": [
      "error: 'replab_init' undefined near line 1, column 1\r\n"
     ]
    }
   ],
   "source": [
    "addpath([pwd, '/../..']);\n",
    "replab_init('verbose', 0);"
   ]
  },
  {
   "cell_type": "markdown",
   "id": "d484d7a6",
   "metadata": {
    "lines_to_next_cell": 2
   },
   "source": [
    "Commands in this document makes use ot the YALMIP interface to solve\n",
    "convex optimization problems, see\n",
    "<../installation.html installation instructions>."
   ]
  },
  {
   "cell_type": "markdown",
   "id": "e88d2c89",
   "metadata": {},
   "source": [
    "## Introduction\n",
    "\n",
    "[Semidefinite programming](https://en.wikipedia.org/wiki/Semidefinite_programming)\n",
    "is a form of optimization that admits semidefinite\n",
    "constraints (as in the condition that all eigenvalues of a matrix must be\n",
    "positive). It naturally arises in various fields, including operational\n",
    "research and polynomial optimization.\n",
    "\n",
    "The ability to solve a semidefinite program depends heavily on:\n",
    "\n",
    "* the size of the positive semi-definite (PSD) blocks\n",
    "* the number of variables and constraints involved\n",
    "\n",
    "A positive semi-definite matrix that is invariant under some joint\n",
    "permutation of its lines and columns can be decomposed into a block\n",
    "diagonal form. This allows to:\n",
    "\n",
    "* decompose PSD blocks into smaller PSD blocks\n",
    "* set many variables to zero, hence reducing the number of variables in the problem\n",
    "\n",
    "As we shows below, *RepLAB* performs this simplification automatically.\n",
    "\n",
    "## Formulating a symmetric SDP\n",
    "\n",
    "To illustrate the usage of *RepLAB* for symmetric SDPs, we consider a\n",
    "simple example involving a 3x3 matrix $M$ with trace 1 that is symmetric\n",
    "under cyclic permutation of its indices, i.e. it satisfies $M([2\\ 3\\ 1], [2\\ 3\\ 1]) = M$.\n",
    "We ask what is the smallest value that the off-diagonal element\n",
    "$M(1,2)$ can take if this matrix $M$ has only positive eigenvalues."
   ]
  },
  {
   "cell_type": "markdown",
   "id": "4a2a3f14",
   "metadata": {},
   "source": [
    "### Symmetric formulation\n",
    "\n",
    "Using *RepLAB*, we can solve this problem as follows.\n",
    "\n",
    "We start by defining a matrix which satisfies the desired symmetry"
   ]
  },
  {
   "cell_type": "code",
   "execution_count": 2,
   "id": "3c701540",
   "metadata": {
    "execution": {
     "iopub.execute_input": "2021-12-20T14:17:07.194921Z",
     "iopub.status.busy": "2021-12-20T14:17:07.194238Z",
     "iopub.status.idle": "2021-12-20T14:17:07.204672Z",
     "shell.execute_reply": "2021-12-20T14:17:07.204288Z"
    }
   },
   "outputs": [
    {
     "name": "stdout",
     "output_type": "stream",
     "text": [
      "error: 'replab' undefined near line 1, column 1\r\n"
     ]
    }
   ],
   "source": [
    "permutation = [2 3 1];\n",
    "MSym = replab.CommutantVar.fromPermutations({permutation}, 'symmetric', 'real');"
   ]
  },
  {
   "cell_type": "markdown",
   "id": "64ce75ca",
   "metadata": {},
   "source": [
    "We can then perform the optimization with:"
   ]
  },
  {
   "cell_type": "code",
   "execution_count": 3,
   "id": "fc6ce7c4",
   "metadata": {
    "execution": {
     "iopub.execute_input": "2021-12-20T14:17:07.207276Z",
     "iopub.status.busy": "2021-12-20T14:17:07.206896Z",
     "iopub.status.idle": "2021-12-20T14:17:07.222573Z",
     "shell.execute_reply": "2021-12-20T14:17:07.222164Z"
    }
   },
   "outputs": [
    {
     "name": "stdout",
     "output_type": "stream",
     "text": [
      "error: 'MSym' undefined near line 1, column 1\r\n"
     ]
    },
    {
     "name": "stdout",
     "output_type": "stream",
     "text": [
      "error: 'constraintsSym' undefined near line 1, column 1\r\n"
     ]
    },
    {
     "name": "stdout",
     "output_type": "stream",
     "text": [
      "error: 'MSym' undefined near line 1, column 1\r\n"
     ]
    }
   ],
   "source": [
    "constraintsSym = [trace(MSym) == 1, MSym >= 0];\n",
    "diagnosticSym = optimize(constraintsSym, MSym(1,2), sdpsettings('verbose', 0));\n",
    "MSymOpt = value(MSym)"
   ]
  },
  {
   "cell_type": "markdown",
   "id": "820985d8",
   "metadata": {},
   "source": [
    "We find the critical value of $-1/6$.\n",
    "\n",
    "At the end of this page, we discuss how this formulation is more\n",
    "efficient than a direct formulation which would not take advantage of the\n",
    "symmetry properties of the considered matrix."
   ]
  },
  {
   "cell_type": "markdown",
   "id": "70b06c27",
   "metadata": {},
   "source": [
    "## Constructing a symmetric SDP matrix with additional structure\n",
    "\n",
    "An SDP matrix might sometimes be subject to more than only symmetry\n",
    "constraints. When these additional constraints take the form of equality\n",
    "between some of the matrix elements, it can be conveniently described by\n",
    "a matrix having at each element the index of the corresponding variable.\n",
    "All elements with identical index are then understood as being equal to\n",
    "each other.\n",
    "\n",
    "For instance, imposing on a 3x3 matrix that elements (1,1) ans (2,1) are\n",
    "must be equal to each other can be described by the following index\n",
    "matrix:"
   ]
  },
  {
   "cell_type": "code",
   "execution_count": 4,
   "id": "6d007e60",
   "metadata": {
    "execution": {
     "iopub.execute_input": "2021-12-20T14:17:07.225103Z",
     "iopub.status.busy": "2021-12-20T14:17:07.224725Z",
     "iopub.status.idle": "2021-12-20T14:17:07.232375Z",
     "shell.execute_reply": "2021-12-20T14:17:07.231987Z"
    }
   },
   "outputs": [],
   "source": [
    "indexMatrix = [1 2 3\n",
    "1 4 5\n",
    "6 7 8];"
   ]
  },
  {
   "cell_type": "markdown",
   "id": "d75d2424",
   "metadata": {},
   "source": [
    "An SDP matrix satisfying this constraint is then obtained"
   ]
  },
  {
   "cell_type": "code",
   "execution_count": 5,
   "id": "2f8deaa8",
   "metadata": {
    "execution": {
     "iopub.execute_input": "2021-12-20T14:17:07.234834Z",
     "iopub.status.busy": "2021-12-20T14:17:07.234459Z",
     "iopub.status.idle": "2021-12-20T14:17:07.243347Z",
     "shell.execute_reply": "2021-12-20T14:17:07.243018Z"
    }
   },
   "outputs": [
    {
     "name": "stdout",
     "output_type": "stream",
     "text": [
      "error: 'replab' undefined near line 1, column 1\r\n"
     ]
    }
   ],
   "source": [
    "cstrSdpMatrix = replab.CommutantVar.fromIndexMatrix(indexMatrix, {permutation}, 'symmetric', 'real')"
   ]
  },
  {
   "cell_type": "markdown",
   "id": "f099e668",
   "metadata": {
    "lines_to_next_cell": 2
   },
   "source": [
    "In this trivial case, the SDP matrix is left to contain only one variable: the additional constraints collapsed the all group orbits\n",
    "together."
   ]
  },
  {
   "cell_type": "markdown",
   "id": "71338ca4",
   "metadata": {},
   "source": [
    "## Imposing symmetry to an existing SDP matrix\n",
    "\n",
    "Symmetry constraints can also be straightforwardly imposed on existing SDP matrices with arbitrary structure.\n",
    "\n",
    "For instance, consider the following special SDP matrix"
   ]
  },
  {
   "cell_type": "code",
   "execution_count": 6,
   "id": "6d7d9087",
   "metadata": {
    "execution": {
     "iopub.execute_input": "2021-12-20T14:17:07.245848Z",
     "iopub.status.busy": "2021-12-20T14:17:07.245472Z",
     "iopub.status.idle": "2021-12-20T14:17:07.263783Z",
     "shell.execute_reply": "2021-12-20T14:17:07.263451Z"
    }
   },
   "outputs": [
    {
     "name": "stdout",
     "output_type": "stream",
     "text": [
      "error: 'sdpvar' undefined near line 1, column 1\r\n"
     ]
    },
    {
     "name": "stdout",
     "output_type": "stream",
     "text": [
      "error: 'sdpvar' undefined near line 1, column 1\r\n"
     ]
    },
    {
     "name": "stdout",
     "output_type": "stream",
     "text": [
      "error: 'x' undefined near line 1, column 1\r\n"
     ]
    }
   ],
   "source": [
    "x = sdpvar;\n",
    "y = sdpvar\n",
    "MSpecial = [1 x y\n",
    "x 1 y\n",
    "x y 1];"
   ]
  },
  {
   "cell_type": "markdown",
   "id": "a41179b2",
   "metadata": {},
   "source": [
    "We can directly impose cyclic symmetry onto this matrix:"
   ]
  },
  {
   "cell_type": "code",
   "execution_count": 7,
   "id": "2311a565",
   "metadata": {
    "execution": {
     "iopub.execute_input": "2021-12-20T14:17:07.266077Z",
     "iopub.status.busy": "2021-12-20T14:17:07.265707Z",
     "iopub.status.idle": "2021-12-20T14:17:07.273665Z",
     "shell.execute_reply": "2021-12-20T14:17:07.273303Z"
    }
   },
   "outputs": [
    {
     "name": "stdout",
     "output_type": "stream",
     "text": [
      "error: 'replab' undefined near line 1, column 1\r\n"
     ]
    }
   ],
   "source": [
    "MSpecialSym = replab.CommutantVar.fromSdpMatrix(MSpecial, {[2 3 1]})"
   ]
  },
  {
   "cell_type": "markdown",
   "id": "f759cee2",
   "metadata": {},
   "source": [
    "Requesting this matrix to be PSD now imposes both\n",
    "\n",
    "* Positivity of the 1x1 and 2x2 blocks\n",
    "* Equality with the imposed form\n",
    "\n",
    "as can be seen with"
   ]
  },
  {
   "cell_type": "code",
   "execution_count": 8,
   "id": "02089c49",
   "metadata": {
    "execution": {
     "iopub.execute_input": "2021-12-20T14:17:07.276164Z",
     "iopub.status.busy": "2021-12-20T14:17:07.275791Z",
     "iopub.status.idle": "2021-12-20T14:17:07.283178Z",
     "shell.execute_reply": "2021-12-20T14:17:07.282857Z"
    }
   },
   "outputs": [
    {
     "name": "stdout",
     "output_type": "stream",
     "text": [
      "error: 'MSpecialSym' undefined near line 1, column 1\r\n"
     ]
    }
   ],
   "source": [
    "MSpecialSym >= 0"
   ]
  },
  {
   "cell_type": "markdown",
   "id": "8b327b75",
   "metadata": {},
   "source": [
    "## Block-diagonalizing a symmetric SDP matrix\n",
    "\n",
    "When an SDP matrix is invariant under the considered permutations,\n",
    "*RepLAB* can be used to block-diagonalize it. This allows imposing the\n",
    "positivity of the matrix through the positivity of small blocks. As an\n",
    "example, consider the following matrix"
   ]
  },
  {
   "cell_type": "code",
   "execution_count": 9,
   "id": "1f441176",
   "metadata": {
    "execution": {
     "iopub.execute_input": "2021-12-20T14:17:07.285458Z",
     "iopub.status.busy": "2021-12-20T14:17:07.285088Z",
     "iopub.status.idle": "2021-12-20T14:17:07.295461Z",
     "shell.execute_reply": "2021-12-20T14:17:07.295133Z"
    }
   },
   "outputs": [
    {
     "name": "stdout",
     "output_type": "stream",
     "text": [
      "error: 'x' undefined near line 1, column 1\r\n"
     ]
    }
   ],
   "source": [
    "MInvariant = [x 1 y\n",
    "y x 1\n",
    "1 y x];"
   ]
  },
  {
   "cell_type": "markdown",
   "id": "a71f86e8",
   "metadata": {},
   "source": [
    "It is indeed invariant:"
   ]
  },
  {
   "cell_type": "code",
   "execution_count": 10,
   "id": "0f46aea3",
   "metadata": {
    "execution": {
     "iopub.execute_input": "2021-12-20T14:17:07.297945Z",
     "iopub.status.busy": "2021-12-20T14:17:07.297574Z",
     "iopub.status.idle": "2021-12-20T14:17:07.305043Z",
     "shell.execute_reply": "2021-12-20T14:17:07.304705Z"
    }
   },
   "outputs": [
    {
     "name": "stdout",
     "output_type": "stream",
     "text": [
      "error: 'MInvariant' undefined near line 1, column 1\r\n"
     ]
    }
   ],
   "source": [
    "MInvariant - MInvariant(permutation,permutation)"
   ]
  },
  {
   "cell_type": "markdown",
   "id": "c1f193db",
   "metadata": {},
   "source": [
    "But not transpose-invariant (which is necessary for PSD matrices), so we enforce it:"
   ]
  },
  {
   "cell_type": "code",
   "execution_count": 11,
   "id": "f41b75f2",
   "metadata": {
    "execution": {
     "iopub.execute_input": "2021-12-20T14:17:07.307469Z",
     "iopub.status.busy": "2021-12-20T14:17:07.307103Z",
     "iopub.status.idle": "2021-12-20T14:17:07.318476Z",
     "shell.execute_reply": "2021-12-20T14:17:07.318131Z"
    }
   },
   "outputs": [
    {
     "name": "stdout",
     "output_type": "stream",
     "text": [
      "error: 'MInvariant' undefined near line 1, column 1\r\n"
     ]
    },
    {
     "name": "stdout",
     "output_type": "stream",
     "text": [
      "error: 'MInvariant' undefined near line 1, column 1\r\n"
     ]
    }
   ],
   "source": [
    "MInvariant = MInvariant + MInvariant';\n",
    "MInvariant - MInvariant'"
   ]
  },
  {
   "cell_type": "markdown",
   "id": "3a6142bf",
   "metadata": {},
   "source": [
    "We can now block-diagonalize it by calling"
   ]
  },
  {
   "cell_type": "code",
   "execution_count": 12,
   "id": "b5f5c5fa",
   "metadata": {
    "execution": {
     "iopub.execute_input": "2021-12-20T14:17:07.320901Z",
     "iopub.status.busy": "2021-12-20T14:17:07.320520Z",
     "iopub.status.idle": "2021-12-20T14:17:07.328982Z",
     "shell.execute_reply": "2021-12-20T14:17:07.328655Z"
    }
   },
   "outputs": [
    {
     "name": "stdout",
     "output_type": "stream",
     "text": [
      "error: 'replab' undefined near line 1, column 1\r\n"
     ]
    }
   ],
   "source": [
    "MInvariantBlock = replab.CommutantVar.fromSymSdpMatrix(MInvariant, {[2 3 1]})"
   ]
  },
  {
   "cell_type": "markdown",
   "id": "0decb5a8",
   "metadata": {},
   "source": [
    "No new variable has been introduced in the new object, but the block structure has been found:"
   ]
  },
  {
   "cell_type": "code",
   "execution_count": 13,
   "id": "7f658170",
   "metadata": {
    "execution": {
     "iopub.execute_input": "2021-12-20T14:17:07.331559Z",
     "iopub.status.busy": "2021-12-20T14:17:07.331189Z",
     "iopub.status.idle": "2021-12-20T14:17:07.338841Z",
     "shell.execute_reply": "2021-12-20T14:17:07.338520Z"
    }
   },
   "outputs": [
    {
     "name": "stdout",
     "output_type": "stream",
     "text": [
      "error: 'MInvariantBlock' undefined near line 1, column 1\r\n"
     ]
    }
   ],
   "source": [
    "full(MInvariantBlock.blockMask)"
   ]
  },
  {
   "cell_type": "markdown",
   "id": "e3b4b042",
   "metadata": {},
   "source": [
    "The block structure is used when requesting this matrix to be PSD:"
   ]
  },
  {
   "cell_type": "code",
   "execution_count": 14,
   "id": "36efc257",
   "metadata": {
    "execution": {
     "iopub.execute_input": "2021-12-20T14:17:07.341256Z",
     "iopub.status.busy": "2021-12-20T14:17:07.340887Z",
     "iopub.status.idle": "2021-12-20T14:17:07.348095Z",
     "shell.execute_reply": "2021-12-20T14:17:07.347759Z"
    }
   },
   "outputs": [
    {
     "name": "stdout",
     "output_type": "stream",
     "text": [
      "error: 'MInvariantBlock' undefined near line 1, column 1\r\n"
     ]
    }
   ],
   "source": [
    "MInvariantBlock >= 0"
   ]
  },
  {
   "cell_type": "markdown",
   "id": "c7399482",
   "metadata": {},
   "source": [
    "## Comparison with a direct formulation\n",
    "\n",
    "To conclude, let us show in more detail why the SDP formulation of a\n",
    "problem is more efficient if it takes advantage of the available symmetry\n",
    "properties. For this, we consider again the problem described at the\n",
    "beginning of this page. This problem can be solved directly as follows:"
   ]
  },
  {
   "cell_type": "code",
   "execution_count": 15,
   "id": "cb719bc8",
   "metadata": {
    "execution": {
     "iopub.execute_input": "2021-12-20T14:17:07.350607Z",
     "iopub.status.busy": "2021-12-20T14:17:07.350227Z",
     "iopub.status.idle": "2021-12-20T14:17:07.369458Z",
     "shell.execute_reply": "2021-12-20T14:17:07.369745Z"
    }
   },
   "outputs": [
    {
     "name": "stdout",
     "output_type": "stream",
     "text": [
      "error: 'sdpvar' undefined near line 1, column 1\r\n"
     ]
    },
    {
     "name": "stdout",
     "output_type": "stream",
     "text": [
      "error: 'M' undefined near line 1, column 1\r\n"
     ]
    },
    {
     "name": "stdout",
     "output_type": "stream",
     "text": [
      "error: 'constraints' undefined near line 1, column 1\r\n"
     ]
    },
    {
     "name": "stdout",
     "output_type": "stream",
     "text": [
      "error: 'M' undefined near line 1, column 1\r\n"
     ]
    }
   ],
   "source": [
    "M = sdpvar(3);\n",
    "constraints = [trace(M) == 1, M(permutation, permutation) == M, M >= 0];\n",
    "diagnostic = optimize(constraints, M(1,2), sdpsettings('verbose', 0))\n",
    "MOpt = value(M)"
   ]
  },
  {
   "cell_type": "markdown",
   "id": "07df076b",
   "metadata": {},
   "source": [
    "Again, we find that the lowest possible value of $M(1,2)$ which is\n",
    "compatible with the matrix $M$ having only positive eigenvalues is\n",
    "$-1/6$. However, this last SDP problem is more complex than the first one\n",
    "which takes into account symmetries."
   ]
  },
  {
   "cell_type": "markdown",
   "id": "69c32f54",
   "metadata": {},
   "source": [
    "### Complexity comparison\n",
    "\n",
    "The symmetric formulation of the above problem involves fewer variables\n",
    "and simpler constraints, as summarized in the following table:\n",
    "\n",
    "| Formulation:           | Direct | Symmetric   |\n",
    "|------------------------|--------|-------------|\n",
    "| # variables            | 6      | 2           |\n",
    "| # equality constraints | 10     | 1           |\n",
    "| Size of PSD blocks     | 3      | 1x1 and 2x2 |"
   ]
  },
  {
   "cell_type": "markdown",
   "id": "b5f8e2b1",
   "metadata": {},
   "source": [
    "This can be checked by examining the variables involved. In the non-symmetrized case, we have"
   ]
  },
  {
   "cell_type": "code",
   "execution_count": 16,
   "id": "d38ff70b",
   "metadata": {
    "execution": {
     "iopub.execute_input": "2021-12-20T14:17:07.372106Z",
     "iopub.status.busy": "2021-12-20T14:17:07.371736Z",
     "iopub.status.idle": "2021-12-20T14:17:07.378953Z",
     "shell.execute_reply": "2021-12-20T14:17:07.378641Z"
    }
   },
   "outputs": [
    {
     "name": "stdout",
     "output_type": "stream",
     "text": [
      "error: 'M' undefined near line 1, column 1\r\n"
     ]
    }
   ],
   "source": [
    "M"
   ]
  },
  {
   "cell_type": "code",
   "execution_count": 17,
   "id": "43bedcf5",
   "metadata": {
    "execution": {
     "iopub.execute_input": "2021-12-20T14:17:07.381216Z",
     "iopub.status.busy": "2021-12-20T14:17:07.380848Z",
     "iopub.status.idle": "2021-12-20T14:17:07.388037Z",
     "shell.execute_reply": "2021-12-20T14:17:07.387725Z"
    }
   },
   "outputs": [
    {
     "name": "stdout",
     "output_type": "stream",
     "text": [
      "error: 'constraints' undefined near line 1, column 1\r\n"
     ]
    }
   ],
   "source": [
    "constraints"
   ]
  },
  {
   "cell_type": "markdown",
   "id": "0ed95e68",
   "metadata": {},
   "source": [
    "we see that it involves\n",
    "\n",
    "* 6 variables\n",
    "* 1+3x3=10 equality constraints\n",
    "* 1 PSD block of size 3x3\n",
    "\n",
    "In the symmetrized case, we have"
   ]
  },
  {
   "cell_type": "code",
   "execution_count": 18,
   "id": "eb8cced8",
   "metadata": {
    "execution": {
     "iopub.execute_input": "2021-12-20T14:17:07.390262Z",
     "iopub.status.busy": "2021-12-20T14:17:07.389891Z",
     "iopub.status.idle": "2021-12-20T14:17:07.397410Z",
     "shell.execute_reply": "2021-12-20T14:17:07.397069Z"
    }
   },
   "outputs": [
    {
     "name": "stdout",
     "output_type": "stream",
     "text": [
      "error: 'MSym' undefined near line 1, column 1\r\n"
     ]
    }
   ],
   "source": [
    "MSym"
   ]
  },
  {
   "cell_type": "markdown",
   "id": "8f5e39f3",
   "metadata": {},
   "source": [
    "In other words, the matrix is made of two blocks of size 1x1 and 2x2, and\n",
    "involves altogether just 2 variables."
   ]
  },
  {
   "cell_type": "markdown",
   "id": "7c39ab84",
   "metadata": {},
   "source": [
    "The constraints this time are"
   ]
  },
  {
   "cell_type": "code",
   "execution_count": 19,
   "id": "84ff7d93",
   "metadata": {
    "execution": {
     "iopub.execute_input": "2021-12-20T14:17:07.399760Z",
     "iopub.status.busy": "2021-12-20T14:17:07.399388Z",
     "iopub.status.idle": "2021-12-20T14:17:07.406764Z",
     "shell.execute_reply": "2021-12-20T14:17:07.406446Z"
    }
   },
   "outputs": [
    {
     "name": "stdout",
     "output_type": "stream",
     "text": [
      "error: 'constraintsSym' undefined near line 1, column 1\r\n"
     ]
    }
   ],
   "source": [
    "constraintsSym"
   ]
  },
  {
   "cell_type": "markdown",
   "id": "410845f2",
   "metadata": {},
   "source": [
    "This formulation thus involves:\n",
    "\n",
    "* 2 variables\n",
    "* 1 equality constraint\n",
    "* SDP blocks of size 1x1 and 2x2"
   ]
  }
 ],
 "metadata": {
  "jupytext": {
   "cell_metadata_filter": "-all",
   "main_language": "matlab",
   "notebook_metadata_filter": "-all",
   "text_representation": {
    "extension": ".m",
    "format_name": "light"
   }
  },
  "language_info": {
   "file_extension": ".m",
   "help_links": [
    {
     "text": "GNU Octave",
     "url": "https://www.gnu.org/software/octave/support.html"
    },
    {
     "text": "Octave Kernel",
     "url": "https://github.com/Calysto/octave_kernel"
    },
    {
     "text": "MetaKernel Magics",
     "url": "https://metakernel.readthedocs.io/en/latest/source/README.html"
    }
   ],
   "mimetype": "text/x-octave",
   "name": "octave",
   "version": "6.2.0"
  }
 },
 "nbformat": 4,
 "nbformat_minor": 5
}
