{
 "cells": [
  {
   "cell_type": "markdown",
   "id": "188b7e65",
   "metadata": {},
   "source": [
    "# Symmetric SDPs\n",
    "\n",
    "This document illustrated how *RepLAB* can be used to solve SemiDefinite Programs (SDP) subject to symmetries. Several methods for constructing\n",
    "SDPs subject to symmetries are presented.\n",
    "\n",
    "## Preparation\n",
    "As always, before using *RepLAB* commands, initialize the library:"
   ]
  },
  {
   "cell_type": "code",
   "execution_count": 1,
   "id": "2171db40",
   "metadata": {
    "execution": {
     "iopub.execute_input": "2021-12-06T15:21:50.121985Z",
     "iopub.status.busy": "2021-12-06T15:21:50.121505Z",
     "iopub.status.idle": "2021-12-06T15:21:56.222421Z",
     "shell.execute_reply": "2021-12-06T15:21:56.221953Z"
    }
   },
   "outputs": [
    {
     "name": "stdout",
     "output_type": "stream",
     "text": [
      "replab_init: Initialization done.\r\n"
     ]
    }
   ],
   "source": [
    "addpath([pwd, '/../..']);\n",
    "replab_init('verbose', 0);"
   ]
  },
  {
   "cell_type": "markdown",
   "id": "9fd79c5b",
   "metadata": {
    "lines_to_next_cell": 2
   },
   "source": [
    "Commands in this document makes use ot the YALMIP interface to solve\n",
    "convex optimization problems, see\n",
    "<../installation.html installation instructions>."
   ]
  },
  {
   "cell_type": "markdown",
   "id": "b9c4016c",
   "metadata": {},
   "source": [
    "## Introduction\n",
    "\n",
    "[Semidefinite programming](https://en.wikipedia.org/wiki/Semidefinite_programming)\n",
    "is a form of optimization that admits semidefinite\n",
    "constraints (as in the condition that all eigenvalues of a matrix must be\n",
    "positive). It naturally arises in various fields, including operational\n",
    "research and polynomial optimization. \n",
    "\n",
    "The ability to solve a semidefinite program depends heavily on:\n",
    "\n",
    "* the size of the positive semi-definite (PSD) blocks\n",
    "* the number of variables and constraints involved\n",
    "\n",
    "A positive semi-definite matrix that is invariant under some joint\n",
    "permutation of its lines and columns can be decomposed into a block\n",
    "diagonal form. This allows to:\n",
    "\n",
    "* decompose PSD blocks into smaller PSD blocks\n",
    "* set many variables to zero, hence reducing the number of variables in the problem\n",
    "\n",
    "As we shows below, *RepLAB* performs this simplification automatically.\n",
    "\n",
    "## Formulating a symmetric SDP\n",
    "\n",
    "To illustrate the usage of *RepLAB* for symmetric SDPs, we consider a\n",
    "simple example involving a 3x3 matrix $M$ with trace 1 that is symmetric\n",
    "under cyclic permutation of its indices, i.e. it satisfies $M([2\\ 3\\ 1], [2\\ 3\\ 1]) = M$.\n",
    "We ask what is the smallest value that the off-diagonal element\n",
    "$M(1,2)$ can take if this matrix $M$ has only positive eigenvalues."
   ]
  },
  {
   "cell_type": "markdown",
   "id": "236d3e21",
   "metadata": {},
   "source": [
    "### Symmetric formulation\n",
    "\n",
    "Using *RepLAB*, we can solve this problem as follows.\n",
    "\n",
    "We start by defining a matrix which satisfies the desired symmetry"
   ]
  },
  {
   "cell_type": "code",
   "execution_count": 2,
   "id": "4ecc94d1",
   "metadata": {
    "execution": {
     "iopub.execute_input": "2021-12-06T15:21:56.225251Z",
     "iopub.status.busy": "2021-12-06T15:21:56.224812Z",
     "iopub.status.idle": "2021-12-06T15:21:57.127655Z",
     "shell.execute_reply": "2021-12-06T15:21:57.127209Z"
    }
   },
   "outputs": [],
   "source": [
    "permutation = [2 3 1];\n",
    "MSym = replab.CommutantVar.fromPermutations({permutation}, 'symmetric', 'real');"
   ]
  },
  {
   "cell_type": "markdown",
   "id": "093318ec",
   "metadata": {},
   "source": [
    "We can then perform the optimization with:"
   ]
  },
  {
   "cell_type": "code",
   "execution_count": 3,
   "id": "8404ec0b",
   "metadata": {
    "execution": {
     "iopub.execute_input": "2021-12-06T15:21:57.130756Z",
     "iopub.status.busy": "2021-12-06T15:21:57.130085Z",
     "iopub.status.idle": "2021-12-06T15:22:00.110843Z",
     "shell.execute_reply": "2021-12-06T15:22:00.109985Z"
    }
   },
   "outputs": [
    {
     "name": "stdout",
     "output_type": "stream",
     "text": [
      "MSymOpt =\r\n",
      "\r\n",
      "   0.3333  -0.1667  -0.1667\r\n",
      "  -0.1667   0.3333  -0.1667\r\n",
      "  -0.1667  -0.1667   0.3333\r\n",
      "\r\n"
     ]
    }
   ],
   "source": [
    "constraintsSym = [trace(MSym) == 1, MSym >= 0];\n",
    "diagnosticSym = optimize(constraintsSym, MSym(1,2), sdpsettings('verbose', 0));\n",
    "MSymOpt = value(MSym)"
   ]
  },
  {
   "cell_type": "markdown",
   "id": "4a485262",
   "metadata": {},
   "source": [
    "We find the critical value of $-1/6$.\n",
    "\n",
    "At the end of this page, we discuss how this formulation is more\n",
    "efficient than a direct formulation which would not take advantage of the\n",
    "symmetry properties of the considered matrix."
   ]
  },
  {
   "cell_type": "markdown",
   "id": "05c230fd",
   "metadata": {},
   "source": [
    "## Constructing a symmetric SDP matrix with additional structure\n",
    "\n",
    "An SDP matrix might sometimes be subject to more than only symmetry\n",
    "constraints. When these additional constraints take the form of equality\n",
    "between some of the matrix elements, it can be conveniently described by\n",
    "a matrix having at each element the index of the corresponding variable.\n",
    "All elements with identical index are then understood as being equal to\n",
    "each other.\n",
    "\n",
    "For instance, imposing on a 3x3 matrix that elements (1,1) ans (2,1) are\n",
    "must be equal to each other can be described by the following index\n",
    "matrix:"
   ]
  },
  {
   "cell_type": "code",
   "execution_count": 4,
   "id": "f5fcf318",
   "metadata": {
    "execution": {
     "iopub.execute_input": "2021-12-06T15:22:00.113961Z",
     "iopub.status.busy": "2021-12-06T15:22:00.113505Z",
     "iopub.status.idle": "2021-12-06T15:22:00.140019Z",
     "shell.execute_reply": "2021-12-06T15:22:00.140393Z"
    }
   },
   "outputs": [],
   "source": [
    "indexMatrix = [1 2 3\n",
    "               1 4 5\n",
    "               6 7 8];"
   ]
  },
  {
   "cell_type": "markdown",
   "id": "e4d43113",
   "metadata": {},
   "source": [
    "An SDP matrix satisfying this constraint is then obtained"
   ]
  },
  {
   "cell_type": "code",
   "execution_count": 5,
   "id": "ba8359cc",
   "metadata": {
    "execution": {
     "iopub.execute_input": "2021-12-06T15:22:00.143556Z",
     "iopub.status.busy": "2021-12-06T15:22:00.143116Z",
     "iopub.status.idle": "2021-12-06T15:22:00.641460Z",
     "shell.execute_reply": "2021-12-06T15:22:00.640979Z"
    }
   },
   "outputs": [
    {
     "name": "stdout",
     "output_type": "stream",
     "text": [
      "cstrSdpMatrix =\r\n",
      "\r\n",
      "Commutant variable 3x3 (2 blocks, 1 scalar variables)\r\n",
      "           dim: 3\r\n",
      "   dimensions1: [1, 2]\r\n",
      "         field: 'real'\r\n",
      "    matrixType: 'symmetric'\r\n",
      "multiplicities: [1, 1]\r\n",
      "         types: 'RC'\r\n",
      "             U: 3 x 3 double\r\n",
      "        blocks: [1, 2]\r\n",
      "\r\n"
     ]
    }
   ],
   "source": [
    "cstrSdpMatrix = replab.CommutantVar.fromIndexMatrix(indexMatrix, {permutation}, 'symmetric', 'real')"
   ]
  },
  {
   "cell_type": "markdown",
   "id": "f67a953d",
   "metadata": {
    "lines_to_next_cell": 2
   },
   "source": [
    "In this trivial case, the SDP matrix is left to contain only one variable: the additional constraints collapsed the all group orbits\n",
    "together."
   ]
  },
  {
   "cell_type": "markdown",
   "id": "10a114b7",
   "metadata": {},
   "source": [
    "## Imposing symmetry to an existing SDP matrix\n",
    "\n",
    "Symmetry constraints can also be straightforwardly imposed on existing SDP matrices with arbitrary structure.\n",
    "\n",
    "For instance, consider the following special SDP matrix"
   ]
  },
  {
   "cell_type": "code",
   "execution_count": 6,
   "id": "aac1dc80",
   "metadata": {
    "execution": {
     "iopub.execute_input": "2021-12-06T15:22:00.645272Z",
     "iopub.status.busy": "2021-12-06T15:22:00.644805Z",
     "iopub.status.idle": "2021-12-06T15:22:01.119715Z",
     "shell.execute_reply": "2021-12-06T15:22:01.119290Z"
    }
   },
   "outputs": [
    {
     "name": "stdout",
     "output_type": "stream",
     "text": [
      "Linear scalar (real, 1 variable)\r\n",
      "Coefficients range: 1 to 1\r\n"
     ]
    }
   ],
   "source": [
    "x = sdpvar;\n",
    "y = sdpvar\n",
    "MSpecial = [1 x y\n",
    "            x 1 y\n",
    "            x y 1];"
   ]
  },
  {
   "cell_type": "markdown",
   "id": "d0b3b461",
   "metadata": {},
   "source": [
    "We can directly impose cyclic symmetry onto this matrix:"
   ]
  },
  {
   "cell_type": "code",
   "execution_count": 7,
   "id": "82c23918",
   "metadata": {
    "execution": {
     "iopub.execute_input": "2021-12-06T15:22:01.122910Z",
     "iopub.status.busy": "2021-12-06T15:22:01.122263Z",
     "iopub.status.idle": "2021-12-06T15:22:01.985392Z",
     "shell.execute_reply": "2021-12-06T15:22:01.984952Z"
    }
   },
   "outputs": [
    {
     "name": "stdout",
     "output_type": "stream",
     "text": [
      "MSpecialSym =\r\n",
      "\r\n",
      "Commutant variable 3x3 (2 blocks, 5 scalar variables)\r\n",
      "              dim: 3\r\n",
      "      dimensions1: [1, 2]\r\n",
      "            field: 'real'\r\n",
      "       matrixType: 'full'\r\n",
      "   multiplicities: [1, 1]\r\n",
      "            types: 'RC'\r\n",
      "                U: 3 x 3 double\r\n",
      "           blocks: [1, 2]\r\n",
      "linearConstraints: constraint\r\n",
      "\r\n"
     ]
    }
   ],
   "source": [
    "MSpecialSym = replab.CommutantVar.fromSdpMatrix(MSpecial, {[2 3 1]})"
   ]
  },
  {
   "cell_type": "markdown",
   "id": "5ea1c697",
   "metadata": {},
   "source": [
    "Requesting this matrix to be PSD now imposes both\n",
    "\n",
    "* Positivity of the 1x1 and 2x2 blocks\n",
    "* Equality with the imposed form\n",
    "\n",
    "as can be seen with"
   ]
  },
  {
   "cell_type": "code",
   "execution_count": 8,
   "id": "6b2404af",
   "metadata": {
    "execution": {
     "iopub.execute_input": "2021-12-06T15:22:01.988335Z",
     "iopub.status.busy": "2021-12-06T15:22:01.987910Z",
     "iopub.status.idle": "2021-12-06T15:22:02.096876Z",
     "shell.execute_reply": "2021-12-06T15:22:02.096457Z"
    }
   },
   "outputs": [
    {
     "name": "stdout",
     "output_type": "stream",
     "text": [
      "+++++++++++++++++++++++++++++++++++++++++++++++++++++++++++\r\n",
      "|   ID|                    Constraint|   Coefficient range|\r\n",
      "+++++++++++++++++++++++++++++++++++++++++++++++++++++++++++\r\n",
      "|   #1|   Element-wise inequality 1x1|              1 to 1|\r\n",
      "|   #2|   Element-wise inequality 4x1|              1 to 1|\r\n",
      "|   #3|       Equality constraint 3x3|        0.33333 to 1|\r\n",
      "+++++++++++++++++++++++++++++++++++++++++++++++++++++++++++\r\n"
     ]
    }
   ],
   "source": [
    "MSpecialSym >= 0"
   ]
  },
  {
   "cell_type": "markdown",
   "id": "23ffa860",
   "metadata": {},
   "source": [
    "## Block-diagonalizing a symmetric SDP matrix\n",
    "\n",
    "When an SDP matrix is invariant under the considered permutations,\n",
    "*RepLAB* can be used to block-diagonalize it. This allows imposing the\n",
    "positivity of the matrix through the positivity of small blocks. As an\n",
    "example, consider the following matrix"
   ]
  },
  {
   "cell_type": "code",
   "execution_count": 9,
   "id": "7a41e318",
   "metadata": {
    "execution": {
     "iopub.execute_input": "2021-12-06T15:22:02.099395Z",
     "iopub.status.busy": "2021-12-06T15:22:02.098979Z",
     "iopub.status.idle": "2021-12-06T15:22:02.190702Z",
     "shell.execute_reply": "2021-12-06T15:22:02.190285Z"
    }
   },
   "outputs": [],
   "source": [
    "MInvariant = [x 1 y\n",
    "              y x 1\n",
    "              1 y x];"
   ]
  },
  {
   "cell_type": "markdown",
   "id": "57ae8eb3",
   "metadata": {},
   "source": [
    "It is indeed invariant:"
   ]
  },
  {
   "cell_type": "code",
   "execution_count": 10,
   "id": "eb73efca",
   "metadata": {
    "execution": {
     "iopub.execute_input": "2021-12-06T15:22:02.193191Z",
     "iopub.status.busy": "2021-12-06T15:22:02.192750Z",
     "iopub.status.idle": "2021-12-06T15:22:02.209448Z",
     "shell.execute_reply": "2021-12-06T15:22:02.209049Z"
    }
   },
   "outputs": [
    {
     "name": "stdout",
     "output_type": "stream",
     "text": [
      "ans =\r\n",
      "\r\n",
      "   0   0   0\r\n",
      "   0   0   0\r\n",
      "   0   0   0\r\n",
      "\r\n"
     ]
    }
   ],
   "source": [
    "MInvariant - MInvariant(permutation,permutation)"
   ]
  },
  {
   "cell_type": "markdown",
   "id": "d36cdb6c",
   "metadata": {},
   "source": [
    "But not transpose-invariant (which is necessary for PSD matrices), so we enforce it:"
   ]
  },
  {
   "cell_type": "code",
   "execution_count": 11,
   "id": "6f3ea8dc",
   "metadata": {
    "execution": {
     "iopub.execute_input": "2021-12-06T15:22:02.212068Z",
     "iopub.status.busy": "2021-12-06T15:22:02.211639Z",
     "iopub.status.idle": "2021-12-06T15:22:02.232995Z",
     "shell.execute_reply": "2021-12-06T15:22:02.232564Z"
    }
   },
   "outputs": [
    {
     "name": "stdout",
     "output_type": "stream",
     "text": [
      "ans =\r\n",
      "\r\n",
      "   0   0   0\r\n",
      "   0   0   0\r\n",
      "   0   0   0\r\n",
      "\r\n"
     ]
    }
   ],
   "source": [
    "MInvariant = MInvariant + MInvariant';\n",
    "MInvariant - MInvariant'"
   ]
  },
  {
   "cell_type": "markdown",
   "id": "062ea7f6",
   "metadata": {},
   "source": [
    "We can now block-diagonalize it by calling"
   ]
  },
  {
   "cell_type": "code",
   "execution_count": 12,
   "id": "4e651a72",
   "metadata": {
    "execution": {
     "iopub.execute_input": "2021-12-06T15:22:02.235668Z",
     "iopub.status.busy": "2021-12-06T15:22:02.235243Z",
     "iopub.status.idle": "2021-12-06T15:22:02.534903Z",
     "shell.execute_reply": "2021-12-06T15:22:02.534489Z"
    }
   },
   "outputs": [
    {
     "name": "stdout",
     "output_type": "stream",
     "text": [
      "MInvariantBlock =\r\n",
      "\r\n",
      "Commutant variable 3x3 (2 blocks, 2 scalar variables)\r\n",
      "           dim: 3\r\n",
      "   dimensions1: [1, 2]\r\n",
      "         field: 'real'\r\n",
      "    matrixType: 'symmetric'\r\n",
      "multiplicities: [1, 1]\r\n",
      "         types: 'RC'\r\n",
      "             U: 3 x 3 double\r\n",
      "        blocks: [1, 2]\r\n",
      "\r\n"
     ]
    }
   ],
   "source": [
    "MInvariantBlock = replab.CommutantVar.fromSymSdpMatrix(MInvariant, {[2 3 1]})"
   ]
  },
  {
   "cell_type": "markdown",
   "id": "2f8baeed",
   "metadata": {},
   "source": [
    "No new variable has been introduced in the new object, but the block structure has been found:"
   ]
  },
  {
   "cell_type": "code",
   "execution_count": 13,
   "id": "6f5b1ef3",
   "metadata": {
    "execution": {
     "iopub.execute_input": "2021-12-06T15:22:02.537865Z",
     "iopub.status.busy": "2021-12-06T15:22:02.537437Z",
     "iopub.status.idle": "2021-12-06T15:22:02.554036Z",
     "shell.execute_reply": "2021-12-06T15:22:02.552140Z"
    }
   },
   "outputs": [
    {
     "name": "stdout",
     "output_type": "stream",
     "text": [
      "ans =\r\n",
      "\r\n",
      "   1   0   0\r\n",
      "   0   1   1\r\n",
      "   0   1   1\r\n",
      "\r\n"
     ]
    }
   ],
   "source": [
    "full(MInvariantBlock.blockMask)"
   ]
  },
  {
   "cell_type": "markdown",
   "id": "4c7988d2",
   "metadata": {},
   "source": [
    "The block structure is used when requesting this matrix to be PSD:"
   ]
  },
  {
   "cell_type": "code",
   "execution_count": 14,
   "id": "3ab80c2e",
   "metadata": {
    "execution": {
     "iopub.execute_input": "2021-12-06T15:22:02.558204Z",
     "iopub.status.busy": "2021-12-06T15:22:02.557614Z",
     "iopub.status.idle": "2021-12-06T15:22:02.631953Z",
     "shell.execute_reply": "2021-12-06T15:22:02.631465Z"
    }
   },
   "outputs": [
    {
     "name": "stdout",
     "output_type": "stream",
     "text": [
      "+++++++++++++++++++++++++++++++++++++++++++++++++++++++++++\r\n",
      "|   ID|                    Constraint|   Coefficient range|\r\n",
      "+++++++++++++++++++++++++++++++++++++++++++++++++++++++++++\r\n",
      "|   #1|   Element-wise inequality 1x1|              2 to 2|\r\n",
      "|   #2|         Matrix inequality 2x2|     2.7756e-17 to 2|\r\n",
      "+++++++++++++++++++++++++++++++++++++++++++++++++++++++++++\r\n"
     ]
    }
   ],
   "source": [
    "MInvariantBlock >= 0"
   ]
  },
  {
   "cell_type": "markdown",
   "id": "b0b4f08b",
   "metadata": {},
   "source": [
    "## Comparison with a direct formulation\n",
    "\n",
    "To conclude, let us show in more detail why the SDP formulation of a\n",
    "problem is more efficient if it takes advantage of the available symmetry\n",
    "properties. For this, we consider again the problem described at the\n",
    "beginning of this page. This problem can be solved directly as follows:"
   ]
  },
  {
   "cell_type": "code",
   "execution_count": 15,
   "id": "6ff5bfdb",
   "metadata": {
    "execution": {
     "iopub.execute_input": "2021-12-06T15:22:02.634878Z",
     "iopub.status.busy": "2021-12-06T15:22:02.634459Z",
     "iopub.status.idle": "2021-12-06T15:22:05.393972Z",
     "shell.execute_reply": "2021-12-06T15:22:05.393584Z"
    }
   },
   "outputs": [
    {
     "name": "stdout",
     "output_type": "stream",
     "text": [
      "diagnostic =\r\n",
      "\r\n",
      "  scalar structure containing the fields:\r\n",
      "\r\n",
      "    yalmipversion = 20200930\r\n",
      "    matlabversion = 6.2.0\r\n",
      "    yalmiptime = 0.1167\r\n",
      "    solvertime = 1.0134\r\n",
      "    info = Successfully solved (SDPT3-4)\r\n",
      "    problem = 0\r\n",
      "\r\n"
     ]
    },
    {
     "name": "stdout",
     "output_type": "stream",
     "text": [
      "MOpt =\r\n",
      "\r\n",
      "   0.3333  -0.1667  -0.1667\r\n",
      "  -0.1667   0.3333  -0.1667\r\n",
      "  -0.1667  -0.1667   0.3333\r\n",
      "\r\n"
     ]
    }
   ],
   "source": [
    "M = sdpvar(3);\n",
    "constraints = [trace(M) == 1, M(permutation, permutation) == M, M >= 0];\n",
    "diagnostic = optimize(constraints, M(1,2), sdpsettings('verbose', 0))\n",
    "MOpt = value(M)"
   ]
  },
  {
   "cell_type": "markdown",
   "id": "569172df",
   "metadata": {},
   "source": [
    "Again, we find that the lowest possible value of $M(1,2)$ which is\n",
    "compatible with the matrix $M$ having only positive eigenvalues is\n",
    "$-1/6$. However, this last SDP problem is more complex than the first one\n",
    "which takes into account symmetries."
   ]
  },
  {
   "cell_type": "markdown",
   "id": "aa8e8b73",
   "metadata": {},
   "source": [
    "### Complexity comparison\n",
    "\n",
    "The symmetric formulation of the above problem involves fewer variables\n",
    "and simpler constraints, as summarized in the following table:\n",
    "\n",
    "| Formulation:           | Direct | Symmetric   |\n",
    "|------------------------|--------|-------------|\n",
    "| # variables            | 6      | 2           |\n",
    "| # equality constraints | 10     | 1           |\n",
    "| Size of PSD blocks     | 3      | 1x1 and 2x2 |"
   ]
  },
  {
   "cell_type": "markdown",
   "id": "6b2ad8e9",
   "metadata": {},
   "source": [
    "This can be checked by examining the variables involved. In the non-symmetrized case, we have"
   ]
  },
  {
   "cell_type": "code",
   "execution_count": 16,
   "id": "55e808a3",
   "metadata": {
    "execution": {
     "iopub.execute_input": "2021-12-06T15:22:05.396989Z",
     "iopub.status.busy": "2021-12-06T15:22:05.396282Z",
     "iopub.status.idle": "2021-12-06T15:22:05.442756Z",
     "shell.execute_reply": "2021-12-06T15:22:05.442378Z"
    }
   },
   "outputs": [
    {
     "name": "stdout",
     "output_type": "stream",
     "text": [
      "Linear matrix variable 3x3 (symmetric, real, 6 variables)\r\n",
      "Eigenvalues between [-2.2285e-09,0.5]\r\n",
      "Coeffiecient range: 1 to 1\r\n"
     ]
    }
   ],
   "source": [
    "M"
   ]
  },
  {
   "cell_type": "code",
   "execution_count": 17,
   "id": "3ff7fc45",
   "metadata": {
    "execution": {
     "iopub.execute_input": "2021-12-06T15:22:05.445491Z",
     "iopub.status.busy": "2021-12-06T15:22:05.445069Z",
     "iopub.status.idle": "2021-12-06T15:22:05.539897Z",
     "shell.execute_reply": "2021-12-06T15:22:05.539479Z"
    }
   },
   "outputs": [
    {
     "name": "stdout",
     "output_type": "stream",
     "text": [
      "+++++++++++++++++++++++++++++++++++++++++++++++++++++++\r\n",
      "|   ID|                Constraint|   Coefficient range|\r\n",
      "+++++++++++++++++++++++++++++++++++++++++++++++++++++++\r\n",
      "|   #1|   Equality constraint 1x1|              1 to 1|\r\n",
      "|   #2|   Equality constraint 3x3|              1 to 1|\r\n",
      "|   #3|     Matrix inequality 3x3|              1 to 1|\r\n",
      "+++++++++++++++++++++++++++++++++++++++++++++++++++++++\r\n"
     ]
    }
   ],
   "source": [
    "constraints"
   ]
  },
  {
   "cell_type": "markdown",
   "id": "8eaa0840",
   "metadata": {},
   "source": [
    "we see that it involves\n",
    "\n",
    "* 6 variables\n",
    "* 1+3x3=10 equality constraints\n",
    "* 1 PSD block of size 3x3\n",
    "\n",
    "In the symmetrized case, we have"
   ]
  },
  {
   "cell_type": "code",
   "execution_count": 18,
   "id": "f14fd620",
   "metadata": {
    "execution": {
     "iopub.execute_input": "2021-12-06T15:22:05.542645Z",
     "iopub.status.busy": "2021-12-06T15:22:05.542225Z",
     "iopub.status.idle": "2021-12-06T15:22:05.588425Z",
     "shell.execute_reply": "2021-12-06T15:22:05.588041Z"
    }
   },
   "outputs": [
    {
     "name": "stdout",
     "output_type": "stream",
     "text": [
      "MSym =\r\n",
      "\r\n",
      "Commutant variable 3x3 (2 blocks, 2 scalar variables)\r\n",
      "           dim: 3\r\n",
      "   dimensions1: [1, 2]\r\n",
      "         field: 'real'\r\n",
      "    matrixType: 'symmetric'\r\n",
      "multiplicities: [1, 1]\r\n",
      "         types: 'RC'\r\n",
      "             U: 3 x 3 double\r\n",
      "        blocks: [1, 2]\r\n",
      "\r\n"
     ]
    }
   ],
   "source": [
    "MSym"
   ]
  },
  {
   "cell_type": "markdown",
   "id": "15ab790d",
   "metadata": {},
   "source": [
    "In other words, the matrix is made of two blocks of size 1x1 and 2x2, and\n",
    "involves altogether just 2 variables."
   ]
  },
  {
   "cell_type": "markdown",
   "id": "4a4f0c01",
   "metadata": {},
   "source": [
    "The constraints this time are"
   ]
  },
  {
   "cell_type": "code",
   "execution_count": 19,
   "id": "3d2ffa05",
   "metadata": {
    "execution": {
     "iopub.execute_input": "2021-12-06T15:22:05.591036Z",
     "iopub.status.busy": "2021-12-06T15:22:05.590618Z",
     "iopub.status.idle": "2021-12-06T15:22:05.686733Z",
     "shell.execute_reply": "2021-12-06T15:22:05.687081Z"
    }
   },
   "outputs": [
    {
     "name": "stdout",
     "output_type": "stream",
     "text": [
      "+++++++++++++++++++++++++++++++++++++++++++++++++++++++++++\r\n",
      "|   ID|                    Constraint|   Coefficient range|\r\n",
      "+++++++++++++++++++++++++++++++++++++++++++++++++++++++++++\r\n",
      "|   #1|       Equality constraint 1x1|              1 to 2|\r\n",
      "|   #2|   Element-wise inequality 1x1|              1 to 1|\r\n",
      "|   #3|         Matrix inequality 2x2|              1 to 1|\r\n",
      "+++++++++++++++++++++++++++++++++++++++++++++++++++++++++++\r\n"
     ]
    }
   ],
   "source": [
    "constraintsSym"
   ]
  },
  {
   "cell_type": "markdown",
   "id": "174b3545",
   "metadata": {
    "lines_to_next_cell": 2
   },
   "source": [
    "This formulation thus involves:\n",
    "\n",
    "* 2 variables\n",
    "* 1 equality constraint\n",
    "* SDP blocks of size 1x1 and 2x2"
   ]
  }
 ],
 "metadata": {
  "jupytext": {
   "cell_metadata_filter": "-all",
   "main_language": "matlab",
   "notebook_metadata_filter": "-all",
   "text_representation": {
    "extension": ".m",
    "format_name": "light"
   }
  },
  "language_info": {
   "file_extension": ".m",
   "help_links": [
    {
     "text": "GNU Octave",
     "url": "https://www.gnu.org/software/octave/support.html"
    },
    {
     "text": "Octave Kernel",
     "url": "https://github.com/Calysto/octave_kernel"
    },
    {
     "text": "MetaKernel Magics",
     "url": "https://metakernel.readthedocs.io/en/latest/source/README.html"
    }
   ],
   "mimetype": "text/x-octave",
   "name": "octave",
   "version": "6.2.0"
  }
 },
 "nbformat": 4,
 "nbformat_minor": 5
}
