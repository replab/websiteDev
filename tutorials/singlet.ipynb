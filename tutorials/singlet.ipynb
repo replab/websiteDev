{
 "cells": [
  {
   "cell_type": "markdown",
   "id": "308d0332",
   "metadata": {},
   "source": [
    "# Tutorial for physicists\n",
    "\n",
    "The unitary group $U(n)$ describes the possible change of basis in the\n",
    "complex Hilbert space of dimension $n$. For $n=2$, this captures the\n",
    "possible choices of basis in the qubit space $C^2$. For a system composed\n",
    "of two qubits, we can similarly define the effect of a joint change of\n",
    "basis performed on both subsystems simultaneously. It is known that a\n",
    "single state is invariant under such joint change of basis. Here, we\n",
    "identify this state by extracting the subspace of $(C^2)^{\\otimes 2}$\n",
    "which is invariant under the joint change of basis for both subsystems."
   ]
  },
  {
   "cell_type": "markdown",
   "id": "2bae05ee",
   "metadata": {},
   "source": [
    "Before trying any of the *RepLAB* commands, we must initialize the library:"
   ]
  },
  {
   "cell_type": "code",
   "execution_count": 1,
   "id": "ffc5962a",
   "metadata": {
    "execution": {
     "iopub.execute_input": "2021-12-15T17:57:39.076380Z",
     "iopub.status.busy": "2021-12-15T17:57:39.075869Z",
     "iopub.status.idle": "2021-12-15T17:57:46.590793Z",
     "shell.execute_reply": "2021-12-15T17:57:46.589660Z"
    }
   },
   "outputs": [
    {
     "name": "stdout",
     "output_type": "stream",
     "text": [
      "replab_init: Initialization done.\r\n"
     ]
    }
   ],
   "source": [
    "addpath([pwd, '/../..']);\n",
    "replab_init('verbose', 0);"
   ]
  },
  {
   "cell_type": "markdown",
   "id": "711c9434",
   "metadata": {},
   "source": [
    "## The unitary group representation\n",
    "\n",
    "Changes of bases for one system are described by the group $U(2)$"
   ]
  },
  {
   "cell_type": "code",
   "execution_count": 2,
   "id": "0fe74745",
   "metadata": {
    "execution": {
     "iopub.execute_input": "2021-12-15T17:57:46.594434Z",
     "iopub.status.busy": "2021-12-15T17:57:46.592949Z",
     "iopub.status.idle": "2021-12-15T17:57:46.620317Z",
     "shell.execute_reply": "2021-12-15T17:57:46.619683Z"
    }
   },
   "outputs": [],
   "source": [
    "d = 2;\n",
    "U2 = replab.U(d);"
   ]
  },
  {
   "cell_type": "markdown",
   "id": "0d583ad9",
   "metadata": {},
   "source": [
    "We construct the defining representation of this group, which acts on $C^2$:"
   ]
  },
  {
   "cell_type": "code",
   "execution_count": 3,
   "id": "83baf4f3",
   "metadata": {
    "execution": {
     "iopub.execute_input": "2021-12-15T17:57:46.624498Z",
     "iopub.status.busy": "2021-12-15T17:57:46.624013Z",
     "iopub.status.idle": "2021-12-15T17:57:46.657902Z",
     "shell.execute_reply": "2021-12-15T17:57:46.657430Z"
    }
   },
   "outputs": [],
   "source": [
    "U2Rep = U2.definingRep;"
   ]
  },
  {
   "cell_type": "markdown",
   "id": "cc978ce2",
   "metadata": {},
   "source": [
    "## Tensor product of two representations\n",
    "\n",
    "We can now construct the representation which acts jointly on two\n",
    "subsystems of dimension 2:"
   ]
  },
  {
   "cell_type": "code",
   "execution_count": 4,
   "id": "c0b826a6",
   "metadata": {
    "execution": {
     "iopub.execute_input": "2021-12-15T17:57:46.661389Z",
     "iopub.status.busy": "2021-12-15T17:57:46.660707Z",
     "iopub.status.idle": "2021-12-15T17:57:46.686369Z",
     "shell.execute_reply": "2021-12-15T17:57:46.685876Z"
    }
   },
   "outputs": [],
   "source": [
    "U2TensorRep = kron(U2Rep, U2Rep);"
   ]
  },
  {
   "cell_type": "markdown",
   "id": "bbc2e532",
   "metadata": {},
   "source": [
    "To identify the subspaces which are invariant under this group, we decompose the representation:"
   ]
  },
  {
   "cell_type": "code",
   "execution_count": 5,
   "id": "f7b4c496",
   "metadata": {
    "execution": {
     "iopub.execute_input": "2021-12-15T17:57:46.690162Z",
     "iopub.status.busy": "2021-12-15T17:57:46.688558Z",
     "iopub.status.idle": "2021-12-15T17:57:53.365495Z",
     "shell.execute_reply": "2021-12-15T17:57:53.364544Z"
    }
   },
   "outputs": [],
   "source": [
    "dec = U2TensorRep.decomposition.nice;"
   ]
  },
  {
   "cell_type": "markdown",
   "id": "db882ecd",
   "metadata": {},
   "source": [
    "The decomposition has"
   ]
  },
  {
   "cell_type": "code",
   "execution_count": 6,
   "id": "72cdad86",
   "metadata": {
    "execution": {
     "iopub.execute_input": "2021-12-15T17:57:53.369163Z",
     "iopub.status.busy": "2021-12-15T17:57:53.368520Z",
     "iopub.status.idle": "2021-12-15T17:57:53.384175Z",
     "shell.execute_reply": "2021-12-15T17:57:53.383639Z"
    }
   },
   "outputs": [
    {
     "name": "stdout",
     "output_type": "stream",
     "text": [
      "ans = 2\r\n"
     ]
    }
   ],
   "source": [
    "dec.nComponents"
   ]
  },
  {
   "cell_type": "markdown",
   "id": "5595e876",
   "metadata": {},
   "source": [
    "components, of dimension"
   ]
  },
  {
   "cell_type": "code",
   "execution_count": 7,
   "id": "c9e2b274",
   "metadata": {
    "execution": {
     "iopub.execute_input": "2021-12-15T17:57:53.386700Z",
     "iopub.status.busy": "2021-12-15T17:57:53.386230Z",
     "iopub.status.idle": "2021-12-15T17:57:53.401163Z",
     "shell.execute_reply": "2021-12-15T17:57:53.401563Z"
    }
   },
   "outputs": [
    {
     "name": "stdout",
     "output_type": "stream",
     "text": [
      "ans = 1\r\n"
     ]
    }
   ],
   "source": [
    "dec.component(1).irrepDimension"
   ]
  },
  {
   "cell_type": "markdown",
   "id": "49dd8631",
   "metadata": {},
   "source": [
    "and"
   ]
  },
  {
   "cell_type": "code",
   "execution_count": 8,
   "id": "3359c2d0",
   "metadata": {
    "execution": {
     "iopub.execute_input": "2021-12-15T17:57:53.404416Z",
     "iopub.status.busy": "2021-12-15T17:57:53.403589Z",
     "iopub.status.idle": "2021-12-15T17:57:53.423299Z",
     "shell.execute_reply": "2021-12-15T17:57:53.418974Z"
    }
   },
   "outputs": [
    {
     "name": "stdout",
     "output_type": "stream",
     "text": [
      "ans = 3\r\n"
     ]
    }
   ],
   "source": [
    "dec.component(2).irrepDimension"
   ]
  },
  {
   "cell_type": "markdown",
   "id": "b3e3db23",
   "metadata": {},
   "source": [
    "These are the antisymmetric and symmetric subspaces respectively. The change of basis into the first component\n",
    "identifies the antisymetric subspace, also known as the *singlet state*:"
   ]
  },
  {
   "cell_type": "code",
   "execution_count": 9,
   "id": "a6f222c2",
   "metadata": {
    "execution": {
     "iopub.execute_input": "2021-12-15T17:57:53.426107Z",
     "iopub.status.busy": "2021-12-15T17:57:53.425651Z",
     "iopub.status.idle": "2021-12-15T17:57:53.448982Z",
     "shell.execute_reply": "2021-12-15T17:57:53.448589Z"
    }
   },
   "outputs": [
    {
     "name": "stdout",
     "output_type": "stream",
     "text": [
      "singletBasis =\r\n",
      "\r\n",
      "        0\r\n",
      "   0.5000\r\n",
      "  -0.5000\r\n",
      "        0\r\n",
      "\r\n"
     ]
    },
    {
     "name": "stdout",
     "output_type": "stream",
     "text": [
      "rest =\r\n",
      "\r\n",
      "   1.0000        0        0\r\n",
      "        0        0   0.5000\r\n",
      "        0        0   0.5000\r\n",
      "        0   1.0000        0\r\n",
      "\r\n"
     ]
    }
   ],
   "source": [
    "singletBasis = dec.component(1).basis\n",
    "rest = dec.component(2).basis"
   ]
  }
 ],
 "metadata": {
  "jupytext": {
   "cell_metadata_filter": "-all",
   "main_language": "matlab",
   "notebook_metadata_filter": "-all",
   "text_representation": {
    "extension": ".m",
    "format_name": "light"
   }
  },
  "language_info": {
   "file_extension": ".m",
   "help_links": [
    {
     "text": "GNU Octave",
     "url": "https://www.gnu.org/software/octave/support.html"
    },
    {
     "text": "Octave Kernel",
     "url": "https://github.com/Calysto/octave_kernel"
    },
    {
     "text": "MetaKernel Magics",
     "url": "https://metakernel.readthedocs.io/en/latest/source/README.html"
    }
   ],
   "mimetype": "text/x-octave",
   "name": "octave",
   "version": "6.2.0"
  }
 },
 "nbformat": 4,
 "nbformat_minor": 5
}
