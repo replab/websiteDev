{
 "cells": [
  {
   "cell_type": "markdown",
   "id": "74f45486",
   "metadata": {},
   "source": [
    "# Tutorial for physicists\n",
    "\n",
    "The unitary group $U(n)$ describes the possible change of basis in the\n",
    "complex Hilbert space of dimension $n$. For $n=2$, this captures the\n",
    "possible choices of basis in the qubit space $C^2$. For a system composed\n",
    "of two qubits, we can similarly define the effect of a joint change of\n",
    "basis performed on both subsystems simultaneously. It is known that a\n",
    "single state is invariant under such joint change of basis. Here, we\n",
    "identify this state by extracting the subspace of $(C^2)^{\\otimes 2}$\n",
    "which is invariant under the joint change of basis for both subsystems."
   ]
  },
  {
   "cell_type": "markdown",
   "id": "b3026a74",
   "metadata": {},
   "source": [
    "Before trying any of the *RepLAB* commands, we must initialize the library:"
   ]
  },
  {
   "cell_type": "code",
   "execution_count": 1,
   "id": "63d8d6cf",
   "metadata": {
    "execution": {
     "iopub.execute_input": "2021-12-13T21:46:19.577075Z",
     "iopub.status.busy": "2021-12-13T21:46:19.576580Z",
     "iopub.status.idle": "2021-12-13T21:46:25.532987Z",
     "shell.execute_reply": "2021-12-13T21:46:25.532462Z"
    }
   },
   "outputs": [
    {
     "name": "stdout",
     "output_type": "stream",
     "text": [
      "replab_init: Initialization done.\r\n"
     ]
    }
   ],
   "source": [
    "addpath([pwd, '/../..']);\n",
    "replab_init('verbose', 0);"
   ]
  },
  {
   "cell_type": "markdown",
   "id": "9b84c551",
   "metadata": {},
   "source": [
    "## The unitary group representation\n",
    "\n",
    "Changes of bases for one system are described by the group $U(2)$"
   ]
  },
  {
   "cell_type": "code",
   "execution_count": 2,
   "id": "390baac9",
   "metadata": {
    "execution": {
     "iopub.execute_input": "2021-12-13T21:46:25.535729Z",
     "iopub.status.busy": "2021-12-13T21:46:25.535285Z",
     "iopub.status.idle": "2021-12-13T21:46:25.557698Z",
     "shell.execute_reply": "2021-12-13T21:46:25.557265Z"
    }
   },
   "outputs": [],
   "source": [
    "d = 2;\n",
    "U2 = replab.U(d);"
   ]
  },
  {
   "cell_type": "markdown",
   "id": "e094511f",
   "metadata": {},
   "source": [
    "We construct the defining representation of this group, which acts on $C^2$:"
   ]
  },
  {
   "cell_type": "code",
   "execution_count": 3,
   "id": "4f2d667a",
   "metadata": {
    "execution": {
     "iopub.execute_input": "2021-12-13T21:46:25.560344Z",
     "iopub.status.busy": "2021-12-13T21:46:25.559930Z",
     "iopub.status.idle": "2021-12-13T21:46:25.586035Z",
     "shell.execute_reply": "2021-12-13T21:46:25.585604Z"
    }
   },
   "outputs": [],
   "source": [
    "U2Rep = U2.definingRep;"
   ]
  },
  {
   "cell_type": "markdown",
   "id": "05494e63",
   "metadata": {},
   "source": [
    "## Tensor product of two representations\n",
    "\n",
    "We can now construct the representation which acts jointly on two\n",
    "subsystems of dimension 2:"
   ]
  },
  {
   "cell_type": "code",
   "execution_count": 4,
   "id": "015c91af",
   "metadata": {
    "execution": {
     "iopub.execute_input": "2021-12-13T21:46:25.589199Z",
     "iopub.status.busy": "2021-12-13T21:46:25.588513Z",
     "iopub.status.idle": "2021-12-13T21:46:25.606577Z",
     "shell.execute_reply": "2021-12-13T21:46:25.606915Z"
    }
   },
   "outputs": [],
   "source": [
    "U2TensorRep = kron(U2Rep, U2Rep);"
   ]
  },
  {
   "cell_type": "markdown",
   "id": "c07111b2",
   "metadata": {},
   "source": [
    "To identify the subspaces which are invariant under this group, we decompose the representation:"
   ]
  },
  {
   "cell_type": "code",
   "execution_count": 5,
   "id": "ec31b4b7",
   "metadata": {
    "execution": {
     "iopub.execute_input": "2021-12-13T21:46:25.610007Z",
     "iopub.status.busy": "2021-12-13T21:46:25.609596Z",
     "iopub.status.idle": "2021-12-13T21:46:29.583064Z",
     "shell.execute_reply": "2021-12-13T21:46:29.583451Z"
    }
   },
   "outputs": [],
   "source": [
    "dec = U2TensorRep.decomposition.nice;"
   ]
  },
  {
   "cell_type": "markdown",
   "id": "120f8c01",
   "metadata": {},
   "source": [
    "The decomposition has"
   ]
  },
  {
   "cell_type": "code",
   "execution_count": 6,
   "id": "bdc94201",
   "metadata": {
    "execution": {
     "iopub.execute_input": "2021-12-13T21:46:29.586569Z",
     "iopub.status.busy": "2021-12-13T21:46:29.586142Z",
     "iopub.status.idle": "2021-12-13T21:46:29.601128Z",
     "shell.execute_reply": "2021-12-13T21:46:29.601488Z"
    }
   },
   "outputs": [
    {
     "name": "stdout",
     "output_type": "stream",
     "text": [
      "ans = 2\r\n"
     ]
    }
   ],
   "source": [
    "dec.nComponents"
   ]
  },
  {
   "cell_type": "markdown",
   "id": "ab031f4c",
   "metadata": {},
   "source": [
    "components, of dimension"
   ]
  },
  {
   "cell_type": "code",
   "execution_count": 7,
   "id": "41c3018a",
   "metadata": {
    "execution": {
     "iopub.execute_input": "2021-12-13T21:46:29.604431Z",
     "iopub.status.busy": "2021-12-13T21:46:29.604022Z",
     "iopub.status.idle": "2021-12-13T21:46:29.616095Z",
     "shell.execute_reply": "2021-12-13T21:46:29.615735Z"
    }
   },
   "outputs": [
    {
     "name": "stdout",
     "output_type": "stream",
     "text": [
      "ans = 1\r\n"
     ]
    }
   ],
   "source": [
    "dec.component(1).irrepDimension"
   ]
  },
  {
   "cell_type": "markdown",
   "id": "514f99f7",
   "metadata": {},
   "source": [
    "and"
   ]
  },
  {
   "cell_type": "code",
   "execution_count": 8,
   "id": "b351c1d6",
   "metadata": {
    "execution": {
     "iopub.execute_input": "2021-12-13T21:46:29.618946Z",
     "iopub.status.busy": "2021-12-13T21:46:29.618546Z",
     "iopub.status.idle": "2021-12-13T21:46:29.630586Z",
     "shell.execute_reply": "2021-12-13T21:46:29.630218Z"
    }
   },
   "outputs": [
    {
     "name": "stdout",
     "output_type": "stream",
     "text": [
      "ans = 3\r\n"
     ]
    }
   ],
   "source": [
    "dec.component(2).irrepDimension"
   ]
  },
  {
   "cell_type": "markdown",
   "id": "37f1df1b",
   "metadata": {},
   "source": [
    "These are the antisymmetric and symmetric subspaces respectively. The change of basis into the first component\n",
    "identifies the antisymetric subspace, also known as the *singlet state*:"
   ]
  },
  {
   "cell_type": "code",
   "execution_count": 9,
   "id": "cd4c6f15",
   "metadata": {
    "execution": {
     "iopub.execute_input": "2021-12-13T21:46:29.633148Z",
     "iopub.status.busy": "2021-12-13T21:46:29.632733Z",
     "iopub.status.idle": "2021-12-13T21:46:29.650966Z",
     "shell.execute_reply": "2021-12-13T21:46:29.650606Z"
    }
   },
   "outputs": [
    {
     "name": "stdout",
     "output_type": "stream",
     "text": [
      "singletBasis =\r\n",
      "\r\n",
      "        0\r\n",
      "   0.5000\r\n",
      "  -0.5000\r\n",
      "        0\r\n",
      "\r\n"
     ]
    },
    {
     "name": "stdout",
     "output_type": "stream",
     "text": [
      "rest =\r\n",
      "\r\n",
      "   1.0000        0        0\r\n",
      "        0        0   0.5000\r\n",
      "        0        0   0.5000\r\n",
      "        0   1.0000        0\r\n",
      "\r\n"
     ]
    }
   ],
   "source": [
    "singletBasis = dec.component(1).basis\n",
    "rest = dec.component(2).basis"
   ]
  },
  {
   "cell_type": "code",
   "execution_count": null,
   "id": "195c83d4",
   "metadata": {},
   "outputs": [],
   "source": []
  }
 ],
 "metadata": {
  "jupytext": {
   "cell_metadata_filter": "-all",
   "main_language": "matlab",
   "notebook_metadata_filter": "-all",
   "text_representation": {
    "extension": ".m",
    "format_name": "light"
   }
  },
  "language_info": {
   "file_extension": ".m",
   "help_links": [
    {
     "text": "GNU Octave",
     "url": "https://www.gnu.org/software/octave/support.html"
    },
    {
     "text": "Octave Kernel",
     "url": "https://github.com/Calysto/octave_kernel"
    },
    {
     "text": "MetaKernel Magics",
     "url": "https://metakernel.readthedocs.io/en/latest/source/README.html"
    }
   ],
   "mimetype": "text/x-octave",
   "name": "octave",
   "version": "6.2.0"
  }
 },
 "nbformat": 4,
 "nbformat_minor": 5
}
