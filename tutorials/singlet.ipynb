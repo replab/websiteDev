{
 "cells": [
  {
   "cell_type": "markdown",
   "id": "53a2a829",
   "metadata": {},
   "source": [
    "# Tutorial for physicists\n",
    "\n",
    "The unitary group $U(n)$ describes the possible change of basis in the\n",
    "complex Hilbert space of dimension $n$. For $n=2$, this captures the\n",
    "possible choices of basis in the qubit space $C^2$. For a system composed\n",
    "of two qubits, we can similarly define the effect of a joint change of\n",
    "basis performed on both subsystems simultaneously. It is known that a\n",
    "single state is invariant under such joint change of basis. Here, we\n",
    "identify this state by extracting the subspace of $(C^2)^{\\otimes 2}$\n",
    "which is invariant under the joint change of basis for both subsystems."
   ]
  },
  {
   "cell_type": "markdown",
   "id": "89752bfd",
   "metadata": {},
   "source": [
    "Before trying any of the *RepLAB* commands, we must initialize the library:"
   ]
  },
  {
   "cell_type": "code",
   "execution_count": 1,
   "id": "5e0ed934",
   "metadata": {
    "execution": {
     "iopub.execute_input": "2021-12-07T09:54:33.070629Z",
     "iopub.status.busy": "2021-12-07T09:54:33.067367Z",
     "iopub.status.idle": "2021-12-07T09:54:41.468189Z",
     "shell.execute_reply": "2021-12-07T09:54:41.467158Z"
    }
   },
   "outputs": [
    {
     "name": "stdout",
     "output_type": "stream",
     "text": [
      "replab_init: Initialization done.\r\n"
     ]
    }
   ],
   "source": [
    "addpath([pwd, '/../..']);\n",
    "replab_init('verbose', 0);"
   ]
  },
  {
   "cell_type": "markdown",
   "id": "9367aadc",
   "metadata": {},
   "source": [
    "## The unitary group representation\n",
    "\n",
    "Changes of bases for one system are described by the group $U(2)$"
   ]
  },
  {
   "cell_type": "code",
   "execution_count": 2,
   "id": "e033d76e",
   "metadata": {
    "execution": {
     "iopub.execute_input": "2021-12-07T09:54:41.472450Z",
     "iopub.status.busy": "2021-12-07T09:54:41.471767Z",
     "iopub.status.idle": "2021-12-07T09:54:41.502996Z",
     "shell.execute_reply": "2021-12-07T09:54:41.502179Z"
    }
   },
   "outputs": [],
   "source": [
    "d = 2;\n",
    "U2 = replab.U(d);"
   ]
  },
  {
   "cell_type": "markdown",
   "id": "9df248c0",
   "metadata": {},
   "source": [
    "We construct the defining representation of this group, which acts on $C^2$:"
   ]
  },
  {
   "cell_type": "code",
   "execution_count": 3,
   "id": "afe5b9e3",
   "metadata": {
    "execution": {
     "iopub.execute_input": "2021-12-07T09:54:41.506062Z",
     "iopub.status.busy": "2021-12-07T09:54:41.505530Z",
     "iopub.status.idle": "2021-12-07T09:54:41.540823Z",
     "shell.execute_reply": "2021-12-07T09:54:41.540231Z"
    }
   },
   "outputs": [],
   "source": [
    "U2Rep = U2.definingRep;"
   ]
  },
  {
   "cell_type": "markdown",
   "id": "dd1354d8",
   "metadata": {},
   "source": [
    "## Tensor product of two representations\n",
    "\n",
    "We can now construct the representation which acts jointly on two\n",
    "subsystems of dimension 2:"
   ]
  },
  {
   "cell_type": "code",
   "execution_count": 4,
   "id": "bd1c4646",
   "metadata": {
    "execution": {
     "iopub.execute_input": "2021-12-07T09:54:41.544946Z",
     "iopub.status.busy": "2021-12-07T09:54:41.543417Z",
     "iopub.status.idle": "2021-12-07T09:54:41.571852Z",
     "shell.execute_reply": "2021-12-07T09:54:41.571027Z"
    }
   },
   "outputs": [],
   "source": [
    "U2TensorRep = kron(U2Rep, U2Rep);"
   ]
  },
  {
   "cell_type": "markdown",
   "id": "53b7fd07",
   "metadata": {},
   "source": [
    "To identify the subspaces which are invariant under this group, we decompose the representation:"
   ]
  },
  {
   "cell_type": "code",
   "execution_count": 5,
   "id": "8c409397",
   "metadata": {
    "execution": {
     "iopub.execute_input": "2021-12-07T09:54:41.576076Z",
     "iopub.status.busy": "2021-12-07T09:54:41.574634Z",
     "iopub.status.idle": "2021-12-07T09:54:48.257544Z",
     "shell.execute_reply": "2021-12-07T09:54:48.257943Z"
    }
   },
   "outputs": [],
   "source": [
    "dec = U2TensorRep.decomposition.nice;"
   ]
  },
  {
   "cell_type": "markdown",
   "id": "3d1f910b",
   "metadata": {},
   "source": [
    "The decomposition has"
   ]
  },
  {
   "cell_type": "code",
   "execution_count": 6,
   "id": "f8bd6852",
   "metadata": {
    "execution": {
     "iopub.execute_input": "2021-12-07T09:54:48.261834Z",
     "iopub.status.busy": "2021-12-07T09:54:48.261259Z",
     "iopub.status.idle": "2021-12-07T09:54:48.278450Z",
     "shell.execute_reply": "2021-12-07T09:54:48.278835Z"
    }
   },
   "outputs": [
    {
     "name": "stdout",
     "output_type": "stream",
     "text": [
      "ans = 2\r\n"
     ]
    }
   ],
   "source": [
    "dec.nComponents"
   ]
  },
  {
   "cell_type": "markdown",
   "id": "1640da6e",
   "metadata": {},
   "source": [
    "components, of dimension"
   ]
  },
  {
   "cell_type": "code",
   "execution_count": 7,
   "id": "bca11361",
   "metadata": {
    "execution": {
     "iopub.execute_input": "2021-12-07T09:54:48.282045Z",
     "iopub.status.busy": "2021-12-07T09:54:48.281538Z",
     "iopub.status.idle": "2021-12-07T09:54:48.295550Z",
     "shell.execute_reply": "2021-12-07T09:54:48.294704Z"
    }
   },
   "outputs": [
    {
     "name": "stdout",
     "output_type": "stream",
     "text": [
      "ans = 1\r\n"
     ]
    }
   ],
   "source": [
    "dec.component(1).irrepDimension"
   ]
  },
  {
   "cell_type": "markdown",
   "id": "7aa63d89",
   "metadata": {},
   "source": [
    "and"
   ]
  },
  {
   "cell_type": "code",
   "execution_count": 8,
   "id": "2aeced06",
   "metadata": {
    "execution": {
     "iopub.execute_input": "2021-12-07T09:54:48.298420Z",
     "iopub.status.busy": "2021-12-07T09:54:48.297899Z",
     "iopub.status.idle": "2021-12-07T09:54:48.312974Z",
     "shell.execute_reply": "2021-12-07T09:54:48.313422Z"
    }
   },
   "outputs": [
    {
     "name": "stdout",
     "output_type": "stream",
     "text": [
      "ans = 3\r\n"
     ]
    }
   ],
   "source": [
    "dec.component(2).irrepDimension"
   ]
  },
  {
   "cell_type": "markdown",
   "id": "8ab28374",
   "metadata": {},
   "source": [
    "These are the antisymmetric and symmetric subspaces respectively. The change of basis into the first component\n",
    "identifies the antisymetric subspace, also known as the *singlet state*:"
   ]
  },
  {
   "cell_type": "code",
   "execution_count": 9,
   "id": "fa81d8e1",
   "metadata": {
    "execution": {
     "iopub.execute_input": "2021-12-07T09:54:48.316678Z",
     "iopub.status.busy": "2021-12-07T09:54:48.316077Z",
     "iopub.status.idle": "2021-12-07T09:54:48.337188Z",
     "shell.execute_reply": "2021-12-07T09:54:48.337606Z"
    }
   },
   "outputs": [
    {
     "name": "stdout",
     "output_type": "stream",
     "text": [
      "singletBasis =\r\n",
      "\r\n",
      "        0\r\n",
      "   0.5000\r\n",
      "  -0.5000\r\n",
      "        0\r\n",
      "\r\n"
     ]
    },
    {
     "name": "stdout",
     "output_type": "stream",
     "text": [
      "rest =\r\n",
      "\r\n",
      "   1.0000        0        0\r\n",
      "        0        0   0.5000\r\n",
      "        0        0   0.5000\r\n",
      "        0   1.0000        0\r\n",
      "\r\n"
     ]
    }
   ],
   "source": [
    "singletBasis = dec.component(1).basis\n",
    "rest = dec.component(2).basis"
   ]
  }
 ],
 "metadata": {
  "jupytext": {
   "cell_metadata_filter": "-all",
   "main_language": "matlab",
   "notebook_metadata_filter": "-all",
   "text_representation": {
    "extension": ".m",
    "format_name": "light"
   }
  },
  "language_info": {
   "file_extension": ".m",
   "help_links": [
    {
     "text": "GNU Octave",
     "url": "https://www.gnu.org/software/octave/support.html"
    },
    {
     "text": "Octave Kernel",
     "url": "https://github.com/Calysto/octave_kernel"
    },
    {
     "text": "MetaKernel Magics",
     "url": "https://metakernel.readthedocs.io/en/latest/source/README.html"
    }
   ],
   "mimetype": "text/x-octave",
   "name": "octave",
   "version": "6.2.0"
  }
 },
 "nbformat": 4,
 "nbformat_minor": 5
}
