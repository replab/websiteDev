{
 "cells": [
  {
   "cell_type": "markdown",
   "id": "58839127",
   "metadata": {},
   "source": [
    "# Tutorial for physicists\n",
    "\n",
    "The unitary group $U(n)$ describes the possible change of basis in the\n",
    "complex Hilbert space of dimension $n$. For $n=2$, this captures the\n",
    "possible choices of basis in the qubit space $C^2$. For a system composed\n",
    "of two qubits, we can similarly define the effect of a joint change of\n",
    "basis performed on both subsystems simultaneously. It is known that a\n",
    "single state is invariant under such joint change of basis. Here, we\n",
    "identify this state by extracting the subspace of $(C^2)^{\\otimes 2}$\n",
    "which is invariant under the joint change of basis for both subsystems."
   ]
  },
  {
   "cell_type": "markdown",
   "id": "2d05548f",
   "metadata": {},
   "source": [
    "Before trying any of the *RepLAB* commands, we must initialize the library:"
   ]
  },
  {
   "cell_type": "code",
   "execution_count": 1,
   "id": "e8514113",
   "metadata": {
    "execution": {
     "iopub.execute_input": "2021-12-15T18:21:54.750552Z",
     "iopub.status.busy": "2021-12-15T18:21:54.750131Z",
     "iopub.status.idle": "2021-12-15T18:22:00.086825Z",
     "shell.execute_reply": "2021-12-15T18:22:00.086365Z"
    }
   },
   "outputs": [
    {
     "name": "stdout",
     "output_type": "stream",
     "text": [
      "replab_init: Initialization done.\r\n"
     ]
    }
   ],
   "source": [
    "addpath([pwd, '/../..']);\n",
    "replab_init('verbose', 0);"
   ]
  },
  {
   "cell_type": "markdown",
   "id": "e4a6db90",
   "metadata": {},
   "source": [
    "## The unitary group representation\n",
    "\n",
    "Changes of bases for one system are described by the group $U(2)$"
   ]
  },
  {
   "cell_type": "code",
   "execution_count": 2,
   "id": "ac8028a0",
   "metadata": {
    "execution": {
     "iopub.execute_input": "2021-12-15T18:22:00.089493Z",
     "iopub.status.busy": "2021-12-15T18:22:00.089070Z",
     "iopub.status.idle": "2021-12-15T18:22:00.109390Z",
     "shell.execute_reply": "2021-12-15T18:22:00.108985Z"
    }
   },
   "outputs": [],
   "source": [
    "d = 2;\n",
    "U2 = replab.U(d);"
   ]
  },
  {
   "cell_type": "markdown",
   "id": "83856f47",
   "metadata": {},
   "source": [
    "We construct the defining representation of this group, which acts on $C^2$:"
   ]
  },
  {
   "cell_type": "code",
   "execution_count": 3,
   "id": "aeea8169",
   "metadata": {
    "execution": {
     "iopub.execute_input": "2021-12-15T18:22:00.111606Z",
     "iopub.status.busy": "2021-12-15T18:22:00.111158Z",
     "iopub.status.idle": "2021-12-15T18:22:00.136259Z",
     "shell.execute_reply": "2021-12-15T18:22:00.135844Z"
    }
   },
   "outputs": [],
   "source": [
    "U2Rep = U2.definingRep;"
   ]
  },
  {
   "cell_type": "markdown",
   "id": "2a2ff4f0",
   "metadata": {},
   "source": [
    "## Tensor product of two representations\n",
    "\n",
    "We can now construct the representation which acts jointly on two\n",
    "subsystems of dimension 2:"
   ]
  },
  {
   "cell_type": "code",
   "execution_count": 4,
   "id": "55ca1413",
   "metadata": {
    "execution": {
     "iopub.execute_input": "2021-12-15T18:22:00.138866Z",
     "iopub.status.busy": "2021-12-15T18:22:00.138423Z",
     "iopub.status.idle": "2021-12-15T18:22:00.155754Z",
     "shell.execute_reply": "2021-12-15T18:22:00.155400Z"
    }
   },
   "outputs": [],
   "source": [
    "U2TensorRep = kron(U2Rep, U2Rep);"
   ]
  },
  {
   "cell_type": "markdown",
   "id": "18e0005b",
   "metadata": {},
   "source": [
    "To identify the subspaces which are invariant under this group, we decompose the representation:"
   ]
  },
  {
   "cell_type": "code",
   "execution_count": 5,
   "id": "5fe4bfb6",
   "metadata": {
    "execution": {
     "iopub.execute_input": "2021-12-15T18:22:00.158119Z",
     "iopub.status.busy": "2021-12-15T18:22:00.157745Z",
     "iopub.status.idle": "2021-12-15T18:22:04.051082Z",
     "shell.execute_reply": "2021-12-15T18:22:04.050336Z"
    }
   },
   "outputs": [],
   "source": [
    "dec = U2TensorRep.decomposition.nice;"
   ]
  },
  {
   "cell_type": "markdown",
   "id": "68240d69",
   "metadata": {},
   "source": [
    "The decomposition has"
   ]
  },
  {
   "cell_type": "code",
   "execution_count": 6,
   "id": "2a01833b",
   "metadata": {
    "execution": {
     "iopub.execute_input": "2021-12-15T18:22:04.053719Z",
     "iopub.status.busy": "2021-12-15T18:22:04.053336Z",
     "iopub.status.idle": "2021-12-15T18:22:04.066857Z",
     "shell.execute_reply": "2021-12-15T18:22:04.066468Z"
    }
   },
   "outputs": [
    {
     "name": "stdout",
     "output_type": "stream",
     "text": [
      "ans = 2\r\n"
     ]
    }
   ],
   "source": [
    "dec.nComponents"
   ]
  },
  {
   "cell_type": "markdown",
   "id": "eb48c56e",
   "metadata": {},
   "source": [
    "components, of dimension"
   ]
  },
  {
   "cell_type": "code",
   "execution_count": 7,
   "id": "705d2457",
   "metadata": {
    "execution": {
     "iopub.execute_input": "2021-12-15T18:22:04.069612Z",
     "iopub.status.busy": "2021-12-15T18:22:04.069193Z",
     "iopub.status.idle": "2021-12-15T18:22:04.081240Z",
     "shell.execute_reply": "2021-12-15T18:22:04.080657Z"
    }
   },
   "outputs": [
    {
     "name": "stdout",
     "output_type": "stream",
     "text": [
      "ans = 1\r\n"
     ]
    }
   ],
   "source": [
    "dec.component(1).irrepDimension"
   ]
  },
  {
   "cell_type": "markdown",
   "id": "b8ca5711",
   "metadata": {},
   "source": [
    "and"
   ]
  },
  {
   "cell_type": "code",
   "execution_count": 8,
   "id": "7df275b9",
   "metadata": {
    "execution": {
     "iopub.execute_input": "2021-12-15T18:22:04.083760Z",
     "iopub.status.busy": "2021-12-15T18:22:04.083345Z",
     "iopub.status.idle": "2021-12-15T18:22:04.095103Z",
     "shell.execute_reply": "2021-12-15T18:22:04.094689Z"
    }
   },
   "outputs": [
    {
     "name": "stdout",
     "output_type": "stream",
     "text": [
      "ans = 3\r\n"
     ]
    }
   ],
   "source": [
    "dec.component(2).irrepDimension"
   ]
  },
  {
   "cell_type": "markdown",
   "id": "316ae071",
   "metadata": {},
   "source": [
    "These are the antisymmetric and symmetric subspaces respectively. The change of basis into the first component\n",
    "identifies the antisymetric subspace, also known as the *singlet state*:"
   ]
  },
  {
   "cell_type": "code",
   "execution_count": 9,
   "id": "d0f94819",
   "metadata": {
    "execution": {
     "iopub.execute_input": "2021-12-15T18:22:04.097558Z",
     "iopub.status.busy": "2021-12-15T18:22:04.097144Z",
     "iopub.status.idle": "2021-12-15T18:22:04.115372Z",
     "shell.execute_reply": "2021-12-15T18:22:04.115019Z"
    }
   },
   "outputs": [
    {
     "name": "stdout",
     "output_type": "stream",
     "text": [
      "singletBasis =\r\n",
      "\r\n",
      "        0\r\n",
      "   0.5000\r\n",
      "  -0.5000\r\n",
      "        0\r\n",
      "\r\n"
     ]
    },
    {
     "name": "stdout",
     "output_type": "stream",
     "text": [
      "rest =\r\n",
      "\r\n",
      "   1.0000        0        0\r\n",
      "        0        0   0.5000\r\n",
      "        0        0   0.5000\r\n",
      "        0   1.0000        0\r\n",
      "\r\n"
     ]
    }
   ],
   "source": [
    "singletBasis = dec.component(1).basis\n",
    "rest = dec.component(2).basis"
   ]
  }
 ],
 "metadata": {
  "jupytext": {
   "cell_metadata_filter": "-all",
   "main_language": "matlab",
   "notebook_metadata_filter": "-all",
   "text_representation": {
    "extension": ".m",
    "format_name": "light"
   }
  },
  "language_info": {
   "file_extension": ".m",
   "help_links": [
    {
     "text": "GNU Octave",
     "url": "https://www.gnu.org/software/octave/support.html"
    },
    {
     "text": "Octave Kernel",
     "url": "https://github.com/Calysto/octave_kernel"
    },
    {
     "text": "MetaKernel Magics",
     "url": "https://metakernel.readthedocs.io/en/latest/source/README.html"
    }
   ],
   "mimetype": "text/x-octave",
   "name": "octave",
   "version": "6.2.0"
  }
 },
 "nbformat": 4,
 "nbformat_minor": 5
}
