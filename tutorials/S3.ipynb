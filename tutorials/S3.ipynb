{
 "cells": [
  {
   "cell_type": "markdown",
   "id": "7e319428",
   "metadata": {},
   "source": [
    "# Tutorial for mathematicians\n",
    "\n",
    "The symmetric group $S_n$ is group of primary importance. Here, we consider this group for $n=3$ and discuss several of its representations with *RepLAB*.\n",
    "\n",
    "Before trying any of the *RepLAB* commands, we must initialize the library:"
   ]
  },
  {
   "cell_type": "code",
   "execution_count": 1,
   "id": "215e745a",
   "metadata": {
    "execution": {
     "iopub.execute_input": "2021-12-20T14:17:24.230223Z",
     "iopub.status.busy": "2021-12-20T14:17:24.229764Z",
     "iopub.status.idle": "2021-12-20T14:17:24.266109Z",
     "shell.execute_reply": "2021-12-20T14:17:24.265618Z"
    }
   },
   "outputs": [
    {
     "name": "stdout",
     "output_type": "stream",
     "text": [
      "error: 'replab_init' undefined near line 1, column 1\r\n"
     ]
    }
   ],
   "source": [
    "addpath([pwd, '/../..']);\n",
    "replab_init('verbose', 0);"
   ]
  },
  {
   "cell_type": "markdown",
   "id": "3bba2844",
   "metadata": {},
   "source": [
    "## The symmetric group\n",
    "\n",
    "Consider $n$ distinct elements, numbered $1,2,\\ldots,n$. The symmetric group describes all possible ways in which these elements can be permuted.\n",
    "\n",
    "With $n=3$, for instance, two possible arrangements are"
   ]
  },
  {
   "cell_type": "code",
   "execution_count": 2,
   "id": "fa074ef9",
   "metadata": {
    "execution": {
     "iopub.execute_input": "2021-12-20T14:17:24.269503Z",
     "iopub.status.busy": "2021-12-20T14:17:24.269033Z",
     "iopub.status.idle": "2021-12-20T14:17:24.277643Z",
     "shell.execute_reply": "2021-12-20T14:17:24.277988Z"
    }
   },
   "outputs": [],
   "source": [
    "[1 2 3];"
   ]
  },
  {
   "cell_type": "markdown",
   "id": "cfdc8e8f",
   "metadata": {},
   "source": [
    "and"
   ]
  },
  {
   "cell_type": "code",
   "execution_count": 3,
   "id": "37d7a1c1",
   "metadata": {
    "execution": {
     "iopub.execute_input": "2021-12-20T14:17:24.280467Z",
     "iopub.status.busy": "2021-12-20T14:17:24.279999Z",
     "iopub.status.idle": "2021-12-20T14:17:24.286876Z",
     "shell.execute_reply": "2021-12-20T14:17:24.286381Z"
    }
   },
   "outputs": [],
   "source": [
    "[1 3 2];"
   ]
  },
  {
   "cell_type": "markdown",
   "id": "9814a883",
   "metadata": {},
   "source": [
    "In general there are $n!$ such arrangements (i.e. $6$ arrangements for $n=3$).\n",
    "\n",
    "In *RepLAB*, the symmetric group can be constructed with a simple command"
   ]
  },
  {
   "cell_type": "code",
   "execution_count": 4,
   "id": "60d842c1",
   "metadata": {
    "execution": {
     "iopub.execute_input": "2021-12-20T14:17:24.289710Z",
     "iopub.status.busy": "2021-12-20T14:17:24.289055Z",
     "iopub.status.idle": "2021-12-20T14:17:24.300311Z",
     "shell.execute_reply": "2021-12-20T14:17:24.300692Z"
    }
   },
   "outputs": [
    {
     "name": "stdout",
     "output_type": "stream",
     "text": [
      "error: 'replab' undefined near line 1, column 1\r\n"
     ]
    }
   ],
   "source": [
    "n = 3;\n",
    "S3 = replab.S(n);"
   ]
  },
  {
   "cell_type": "markdown",
   "id": "ab2d2135",
   "metadata": {},
   "source": [
    "The elements of the group can be easily listed"
   ]
  },
  {
   "cell_type": "code",
   "execution_count": 5,
   "id": "fefd4506",
   "metadata": {
    "execution": {
     "iopub.execute_input": "2021-12-20T14:17:24.303534Z",
     "iopub.status.busy": "2021-12-20T14:17:24.302858Z",
     "iopub.status.idle": "2021-12-20T14:17:24.310201Z",
     "shell.execute_reply": "2021-12-20T14:17:24.309743Z"
    }
   },
   "outputs": [
    {
     "name": "stdout",
     "output_type": "stream",
     "text": [
      "error: invalid call to script /github/workspace/generated/sphinx/tutorials/S3.m\r\n",
      "error: called from\r\n",
      "    S3\r\n"
     ]
    }
   ],
   "source": [
    "S3.elements"
   ]
  },
  {
   "cell_type": "markdown",
   "id": "9ad1358e",
   "metadata": {},
   "source": [
    "The number of elements is the order of the group"
   ]
  },
  {
   "cell_type": "code",
   "execution_count": 6,
   "id": "755d95a2",
   "metadata": {
    "execution": {
     "iopub.execute_input": "2021-12-20T14:17:24.313191Z",
     "iopub.status.busy": "2021-12-20T14:17:24.312759Z",
     "iopub.status.idle": "2021-12-20T14:17:24.319515Z",
     "shell.execute_reply": "2021-12-20T14:17:24.319081Z"
    }
   },
   "outputs": [
    {
     "name": "stdout",
     "output_type": "stream",
     "text": [
      "error: invalid call to script /github/workspace/generated/sphinx/tutorials/S3.m\r\n",
      "error: called from\r\n",
      "    S3\r\n"
     ]
    }
   ],
   "source": [
    "S3.order"
   ]
  },
  {
   "cell_type": "markdown",
   "id": "2136367f",
   "metadata": {},
   "source": [
    "As we see, permutations are represented by row-vectors with an arrangement of the elements $1,\\ldots,n$.\n",
    "\n",
    "The group structure defines how elements of the group compose with each other.\n",
    "For instance, permuting the first two elements in $1,2,3$, followed by a permutation of the second and third elements results in a cyclic permutation:"
   ]
  },
  {
   "cell_type": "code",
   "execution_count": 7,
   "id": "26fe55a6",
   "metadata": {
    "execution": {
     "iopub.execute_input": "2021-12-20T14:17:24.322386Z",
     "iopub.status.busy": "2021-12-20T14:17:24.321892Z",
     "iopub.status.idle": "2021-12-20T14:17:24.330212Z",
     "shell.execute_reply": "2021-12-20T14:17:24.330570Z"
    }
   },
   "outputs": [
    {
     "name": "stdout",
     "output_type": "stream",
     "text": [
      "error: invalid call to script /github/workspace/generated/sphinx/tutorials/S3.m\r\n",
      "error: called from\r\n",
      "    S3\r\n"
     ]
    }
   ],
   "source": [
    "element1 = [2 1 3];\n",
    "element2 = [1 3 2];\n",
    "S3.compose(element1, element2)"
   ]
  },
  {
   "cell_type": "markdown",
   "id": "8cb8e8a3",
   "metadata": {},
   "source": [
    "## The natural representation of S(3)\n",
    "\n",
    "A group can always be represented by matrices of finite dimension. In a $d$-dimensional matrix representation, each group element is associated with a $d \\times d$ matrix called the image of the group\n",
    "element. The action of matrix multiplication on the images then reflects the group composition rule.\n",
    "\n",
    "Several matrix representations are possible for the same group, possibly in various dimension $d$. Here, we are going to explore some representations of the group $S_3$\n",
    "\n",
    "When seeing the group as a permutation within $n$ elements, a natural choice of representation arises in dimension $d=n$, where the permutation\n",
    "is applied to the coordinates of the vector space $R^n$. This is called the *natural representation* of a group. It can be constructed easily:"
   ]
  },
  {
   "cell_type": "code",
   "execution_count": 8,
   "id": "418987c2",
   "metadata": {
    "execution": {
     "iopub.execute_input": "2021-12-20T14:17:24.333288Z",
     "iopub.status.busy": "2021-12-20T14:17:24.332868Z",
     "iopub.status.idle": "2021-12-20T14:17:24.339550Z",
     "shell.execute_reply": "2021-12-20T14:17:24.339868Z"
    }
   },
   "outputs": [
    {
     "name": "stdout",
     "output_type": "stream",
     "text": [
      "error: invalid call to script /github/workspace/generated/sphinx/tutorials/S3.m\r\n",
      "error: called from\r\n",
      "    S3\r\n"
     ]
    }
   ],
   "source": [
    "natRep = S3.naturalRep;"
   ]
  },
  {
   "cell_type": "markdown",
   "id": "c2bc5c3f",
   "metadata": {},
   "source": [
    "The image of a group element in this representation can be extracted"
   ]
  },
  {
   "cell_type": "code",
   "execution_count": 9,
   "id": "eedf3e5c",
   "metadata": {
    "execution": {
     "iopub.execute_input": "2021-12-20T14:17:24.342454Z",
     "iopub.status.busy": "2021-12-20T14:17:24.342045Z",
     "iopub.status.idle": "2021-12-20T14:17:24.353160Z",
     "shell.execute_reply": "2021-12-20T14:17:24.352769Z"
    }
   },
   "outputs": [
    {
     "name": "stdout",
     "output_type": "stream",
     "text": [
      "error: 'natRep' undefined near line 1, column 1\r\n"
     ]
    }
   ],
   "source": [
    "natRep.image([2 1 3])"
   ]
  },
  {
   "cell_type": "markdown",
   "id": "3d02d3af",
   "metadata": {},
   "source": [
    "We see that the matrices representing the group elements are $n \\times n$ permutation matrices, which simply apply the permutation to the coordinates of the vector space $R^n$.\n",
    "\n",
    "For a representation to be valid, the images must follow the structure of the group:"
   ]
  },
  {
   "cell_type": "code",
   "execution_count": 10,
   "id": "4167f040",
   "metadata": {
    "execution": {
     "iopub.execute_input": "2021-12-20T14:17:24.356054Z",
     "iopub.status.busy": "2021-12-20T14:17:24.355611Z",
     "iopub.status.idle": "2021-12-20T14:17:24.383672Z",
     "shell.execute_reply": "2021-12-20T14:17:24.384310Z"
    }
   },
   "outputs": [
    {
     "name": "stdout",
     "output_type": "stream",
     "text": [
      "error: 'natRep' undefined near line 1, column 1\r\n"
     ]
    },
    {
     "name": "stdout",
     "output_type": "stream",
     "text": [
      "error: 'natRep' undefined near line 1, column 1\r\n"
     ]
    },
    {
     "name": "stdout",
     "output_type": "stream",
     "text": [
      "error: 'image1' undefined near line 1, column 1\r\n"
     ]
    },
    {
     "name": "stdout",
     "output_type": "stream",
     "text": [
      "error: 'natRep' undefined near line 1, column 1\r\n"
     ]
    }
   ],
   "source": [
    "image1 = natRep.image(element1);\n",
    "image2 = natRep.image(element2);\n",
    "image1*image2\n",
    "natRep.image(S3.compose(element1, element2))"
   ]
  },
  {
   "cell_type": "markdown",
   "id": "39068ff8",
   "metadata": {},
   "source": [
    "We see that the image of the product of elements is indeed the product of the images of the respective elements, i.e. the algebra of matrices\n",
    "acting on the representation images accurately reflects the group algebra.\n",
    "\n",
    "It can be checked, moreover, that the natural representation is faithful, i.e. each group element has its own distinct image. This needs\n",
    "not always be the case as in the following two examples.\n",
    "\n",
    "## The parity representation of $S_3$\n",
    "\n",
    "To construct an arbitrary group representation in *RepLAB*, it is sufficient to provide the image of the generators of the group. The group $S_3$ has two generators:"
   ]
  },
  {
   "cell_type": "code",
   "execution_count": 11,
   "id": "cb0b900f",
   "metadata": {
    "execution": {
     "iopub.execute_input": "2021-12-20T14:17:24.387548Z",
     "iopub.status.busy": "2021-12-20T14:17:24.387110Z",
     "iopub.status.idle": "2021-12-20T14:17:24.401617Z",
     "shell.execute_reply": "2021-12-20T14:17:24.401209Z"
    }
   },
   "outputs": [
    {
     "name": "stdout",
     "output_type": "stream",
     "text": [
      "error: invalid call to script /github/workspace/generated/sphinx/tutorials/S3.m\r\n",
      "error: called from\r\n",
      "    S3\r\n"
     ]
    },
    {
     "name": "stdout",
     "output_type": "stream",
     "text": [
      "error: 'generators' undefined near line 1, column 1\r\n"
     ]
    }
   ],
   "source": [
    "generators = S3.generators;\n",
    "generators{:}"
   ]
  },
  {
   "cell_type": "markdown",
   "id": "5e16c0c2",
   "metadata": {},
   "source": [
    "Let us construct a representation of this group in dimension"
   ]
  },
  {
   "cell_type": "code",
   "execution_count": 12,
   "id": "f33ea9f4",
   "metadata": {
    "execution": {
     "iopub.execute_input": "2021-12-20T14:17:24.404457Z",
     "iopub.status.busy": "2021-12-20T14:17:24.403975Z",
     "iopub.status.idle": "2021-12-20T14:17:24.411592Z",
     "shell.execute_reply": "2021-12-20T14:17:24.411955Z"
    }
   },
   "outputs": [],
   "source": [
    "d = 1;"
   ]
  },
  {
   "cell_type": "markdown",
   "id": "1cfd9d5b",
   "metadata": {},
   "source": [
    "associating the each generator its parity (i.e. either $+1$ or $-1$). Since the parity of [2 3 1] is 1 and the parity of [2 1 3] is -1, this is achieved by instantiating calling the *repByImages* methods on the group:"
   ]
  },
  {
   "cell_type": "code",
   "execution_count": 13,
   "id": "38de4825",
   "metadata": {
    "execution": {
     "iopub.execute_input": "2021-12-20T14:17:24.415143Z",
     "iopub.status.busy": "2021-12-20T14:17:24.414700Z",
     "iopub.status.idle": "2021-12-20T14:17:24.422441Z",
     "shell.execute_reply": "2021-12-20T14:17:24.422016Z"
    }
   },
   "outputs": [
    {
     "name": "stdout",
     "output_type": "stream",
     "text": [
      "error: invalid call to script /github/workspace/generated/sphinx/tutorials/S3.m\r\n",
      "error: called from\r\n",
      "    S3\r\n"
     ]
    }
   ],
   "source": [
    "parRep = S3.repByImages('R', d, 'preimages', S3.generators, 'images', {1 -1});"
   ]
  },
  {
   "cell_type": "markdown",
   "id": "54499a3b",
   "metadata": {},
   "source": [
    "We can check that this representation is valid"
   ]
  },
  {
   "cell_type": "code",
   "execution_count": 14,
   "id": "ed271e82",
   "metadata": {
    "execution": {
     "iopub.execute_input": "2021-12-20T14:17:24.425350Z",
     "iopub.status.busy": "2021-12-20T14:17:24.424906Z",
     "iopub.status.idle": "2021-12-20T14:17:24.451610Z",
     "shell.execute_reply": "2021-12-20T14:17:24.451972Z"
    }
   },
   "outputs": [
    {
     "name": "stdout",
     "output_type": "stream",
     "text": [
      "error: 'parRep' undefined near line 1, column 1\r\n"
     ]
    },
    {
     "name": "stdout",
     "output_type": "stream",
     "text": [
      "error: 'parRep' undefined near line 1, column 1\r\n"
     ]
    },
    {
     "name": "stdout",
     "output_type": "stream",
     "text": [
      "error: 'image1' undefined near line 1, column 1\r\n"
     ]
    },
    {
     "name": "stdout",
     "output_type": "stream",
     "text": [
      "error: 'parRep' undefined near line 1, column 1\r\n"
     ]
    }
   ],
   "source": [
    "image1 = parRep.image(element1)\n",
    "image2 = parRep.image(element2)\n",
    "image1*image2\n",
    "parRep.image(S3.compose(element1, element2))"
   ]
  },
  {
   "cell_type": "markdown",
   "id": "03c99b68",
   "metadata": {},
   "source": [
    "The parity of each binary permutation ``[2 1 3]`` and ``[1 3 2]`` is $-1$, and their product, the cycle [2 3 1], has parity $1$.\n",
    "\n",
    "Clearly, this representation carries some information about the group, namely the parity, but some elements have the same image:"
   ]
  },
  {
   "cell_type": "code",
   "execution_count": 15,
   "id": "b51838db",
   "metadata": {
    "execution": {
     "iopub.execute_input": "2021-12-20T14:17:24.455183Z",
     "iopub.status.busy": "2021-12-20T14:17:24.454737Z",
     "iopub.status.idle": "2021-12-20T14:17:24.470483Z",
     "shell.execute_reply": "2021-12-20T14:17:24.470061Z"
    }
   },
   "outputs": [
    {
     "name": "stdout",
     "output_type": "stream",
     "text": [
      "error: invalid call to script /github/workspace/generated/sphinx/tutorials/S3.m\r\n",
      "error: called from\r\n",
      "    S3\r\n"
     ]
    },
    {
     "name": "stdout",
     "output_type": "stream",
     "text": [
      "error: 'allElements' undefined near line 1, column 1\r\n"
     ]
    }
   ],
   "source": [
    "allElements = S3.elements;\n",
    "for i = 1:length(allElements)\n",
    "disp(['Image of [', num2str(allElements{i}), '] : ', num2str(parRep.image(allElements{i}))]);\n",
    "end"
   ]
  },
  {
   "cell_type": "markdown",
   "id": "0d6c1191",
   "metadata": {},
   "source": [
    "Therefore, this representation is not *faithful*.\n",
    "\n",
    "## The trivial representation of S(3)\n",
    "An even simpler representation of the group S(n) is one in which the image of all elements is set to $1$. This is called the *trivial representation*.\n",
    "\n",
    "It can be constructed similarly from the image of the generators:"
   ]
  },
  {
   "cell_type": "code",
   "execution_count": 16,
   "id": "47211faf",
   "metadata": {
    "execution": {
     "iopub.execute_input": "2021-12-20T14:17:24.473674Z",
     "iopub.status.busy": "2021-12-20T14:17:24.473244Z",
     "iopub.status.idle": "2021-12-20T14:17:24.480436Z",
     "shell.execute_reply": "2021-12-20T14:17:24.480802Z"
    }
   },
   "outputs": [
    {
     "name": "stdout",
     "output_type": "stream",
     "text": [
      "error: invalid call to script /github/workspace/generated/sphinx/tutorials/S3.m\r\n",
      "error: called from\r\n",
      "    S3\r\n"
     ]
    }
   ],
   "source": [
    "trivRep = S3.repByImages('R', d, 'preimages', S3.generators, 'images', {1 1});"
   ]
  },
  {
   "cell_type": "markdown",
   "id": "d47b9729",
   "metadata": {},
   "source": [
    "This time, the group law is trivially satisfied since all images are indeed equal to $1$:"
   ]
  },
  {
   "cell_type": "code",
   "execution_count": 17,
   "id": "f33b82e5",
   "metadata": {
    "execution": {
     "iopub.execute_input": "2021-12-20T14:17:24.484232Z",
     "iopub.status.busy": "2021-12-20T14:17:24.483791Z",
     "iopub.status.idle": "2021-12-20T14:17:24.497043Z",
     "shell.execute_reply": "2021-12-20T14:17:24.496629Z"
    }
   },
   "outputs": [
    {
     "name": "stdout",
     "output_type": "stream",
     "text": [
      "error: 'allElements' undefined near line 1, column 1\r\n"
     ]
    }
   ],
   "source": [
    "for i = 1:length(allElements)\n",
    "disp(['Image of [', num2str(allElements{i}), '] : ', num2str(trivRep.image(allElements{i}))]);\n",
    "end"
   ]
  },
  {
   "cell_type": "markdown",
   "id": "5ed09f3e",
   "metadata": {},
   "source": [
    "## Direct sum of representation of S(3)\n",
    "\n",
    "We have seen that a group can admit several representations. Any two representations of a group in dimension $d_1$ and $d_2$ can be joined\n",
    "together by taking their *direct sum* in order to create a new valid representation in dimension $d_1 + d_2$.\n",
    "\n",
    "For instance, we can construct a $4$-dimensional representation of S(3) by taking the direct sum of the natural representation with the parity\n",
    "representation"
   ]
  },
  {
   "cell_type": "code",
   "execution_count": 18,
   "id": "cab404c0",
   "metadata": {
    "execution": {
     "iopub.execute_input": "2021-12-20T14:17:24.500074Z",
     "iopub.status.busy": "2021-12-20T14:17:24.499631Z",
     "iopub.status.idle": "2021-12-20T14:17:24.510346Z",
     "shell.execute_reply": "2021-12-20T14:17:24.509924Z"
    }
   },
   "outputs": [
    {
     "name": "stdout",
     "output_type": "stream",
     "text": [
      "error: 'natRep' undefined near line 1, column 1\r\n"
     ]
    }
   ],
   "source": [
    "newRep = blkdiag(natRep, parRep)"
   ]
  },
  {
   "cell_type": "markdown",
   "id": "f39fe943",
   "metadata": {},
   "source": [
    "The images are then $4 \\times 4$ matrices"
   ]
  },
  {
   "cell_type": "code",
   "execution_count": 19,
   "id": "8aa627c0",
   "metadata": {
    "execution": {
     "iopub.execute_input": "2021-12-20T14:17:24.513295Z",
     "iopub.status.busy": "2021-12-20T14:17:24.512866Z",
     "iopub.status.idle": "2021-12-20T14:17:24.527741Z",
     "shell.execute_reply": "2021-12-20T14:17:24.527346Z"
    }
   },
   "outputs": [
    {
     "name": "stdout",
     "output_type": "stream",
     "text": [
      "error: 'newRep' undefined near line 1, column 1\r\n"
     ]
    },
    {
     "name": "stdout",
     "output_type": "stream",
     "text": [
      "error: 'newRep' undefined near line 1, column 1\r\n"
     ]
    }
   ],
   "source": [
    "newRep.image(element1)\n",
    "newRep.image(element2)"
   ]
  },
  {
   "cell_type": "markdown",
   "id": "0c029ea1",
   "metadata": {},
   "source": [
    "As expected, the images have a block diagonal structure. The properties\n",
    "of a direct sum representation are thus captured by the properties of\n",
    "the representation in each block. Such a representation is *reducible*.\n",
    "\n",
    "## Irreducible representations of S(3)\n",
    "\n",
    "Given a representation, it is not always obvious whether it is the direct\n",
    "sum of more fundamental representations or if the representation is\n",
    "*irreducible*. For instance, the images of the natural representation\n",
    "introduced above are not obviously block-diagonal. Yet, this\n",
    "representation is also reducible. To see this, one needs to find a basis\n",
    "of the vector space $R^d$ in which the images have a block diagonal\n",
    "structure.\n",
    "\n",
    "This can be achieved in *RepLAB* by decomposing the representation"
   ]
  },
  {
   "cell_type": "code",
   "execution_count": 20,
   "id": "addb6cf9",
   "metadata": {
    "execution": {
     "iopub.execute_input": "2021-12-20T14:17:24.530622Z",
     "iopub.status.busy": "2021-12-20T14:17:24.530206Z",
     "iopub.status.idle": "2021-12-20T14:17:24.544588Z",
     "shell.execute_reply": "2021-12-20T14:17:24.544930Z"
    }
   },
   "outputs": [
    {
     "name": "stdout",
     "output_type": "stream",
     "text": [
      "error: 'natRep' undefined near line 1, column 1\r\n"
     ]
    },
    {
     "name": "stdout",
     "output_type": "stream",
     "text": [
      "error: 'natDec' undefined near line 1, column 1\r\n"
     ]
    }
   ],
   "source": [
    "natDec = natRep.decomposition.nice;\n",
    "natDec.nComponents"
   ]
  },
  {
   "cell_type": "markdown",
   "id": "1f34a89a",
   "metadata": {},
   "source": [
    "This shows that the defininig representation of $S_3$ has two *irreducible components*, of dimension $1$ and $2$ respectively:"
   ]
  },
  {
   "cell_type": "code",
   "execution_count": 21,
   "id": "3b975937",
   "metadata": {
    "execution": {
     "iopub.execute_input": "2021-12-20T14:17:24.547818Z",
     "iopub.status.busy": "2021-12-20T14:17:24.547383Z",
     "iopub.status.idle": "2021-12-20T14:17:24.562615Z",
     "shell.execute_reply": "2021-12-20T14:17:24.562212Z"
    }
   },
   "outputs": [
    {
     "name": "stdout",
     "output_type": "stream",
     "text": [
      "error: 'natDec' undefined near line 1, column 1\r\n"
     ]
    },
    {
     "name": "stdout",
     "output_type": "stream",
     "text": [
      "error: 'natDec' undefined near line 1, column 1\r\n"
     ]
    }
   ],
   "source": [
    "natDec.component(1).irrepDimension\n",
    "natDec.component(2).irrepDimension"
   ]
  },
  {
   "cell_type": "markdown",
   "id": "b84e67c4",
   "metadata": {},
   "source": [
    "The decomposition also provides the change of basis matrix which makes |this decomposition apparent"
   ]
  },
  {
   "cell_type": "code",
   "execution_count": 22,
   "id": "26808239",
   "metadata": {
    "execution": {
     "iopub.execute_input": "2021-12-20T14:17:24.565674Z",
     "iopub.status.busy": "2021-12-20T14:17:24.565257Z",
     "iopub.status.idle": "2021-12-20T14:17:24.575161Z",
     "shell.execute_reply": "2021-12-20T14:17:24.574727Z"
    }
   },
   "outputs": [
    {
     "name": "stdout",
     "output_type": "stream",
     "text": [
      "error: 'natDec' undefined near line 1, column 1\r\n"
     ]
    }
   ],
   "source": [
    "basis = natDec.basis"
   ]
  },
  {
   "cell_type": "markdown",
   "id": "70809973",
   "metadata": {},
   "source": [
    "The images of the two elements of $S_3$, ``[2 1 3]`` and ``[1 3 2]`` are indeed block-diagonal in this basis:"
   ]
  },
  {
   "cell_type": "code",
   "execution_count": 23,
   "id": "12eb0377",
   "metadata": {
    "execution": {
     "iopub.execute_input": "2021-12-20T14:17:24.578184Z",
     "iopub.status.busy": "2021-12-20T14:17:24.577742Z",
     "iopub.status.idle": "2021-12-20T14:17:24.593462Z",
     "shell.execute_reply": "2021-12-20T14:17:24.593017Z"
    }
   },
   "outputs": [
    {
     "name": "stdout",
     "output_type": "stream",
     "text": [
      "error: 'basis' undefined near line 1, column 1\r\n"
     ]
    },
    {
     "name": "stdout",
     "output_type": "stream",
     "text": [
      "error: 'basis' undefined near line 1, column 1\r\n"
     ]
    }
   ],
   "source": [
    "inv(basis)*natRep.image(element1)*basis\n",
    "inv(basis)*natRep.image(element2)*basis"
   ]
  },
  {
   "cell_type": "markdown",
   "id": "ef29633d",
   "metadata": {},
   "source": [
    "## Summary\n",
    "\n",
    "This shows that the natural representation of S(3) contains\n",
    "\n",
    "* One copy of the trivial representation of S(3)\n",
    "* One copy of the a faithful 2 x 2 representation of S(3)"
   ]
  }
 ],
 "metadata": {
  "jupytext": {
   "cell_metadata_filter": "-all",
   "main_language": "matlab",
   "notebook_metadata_filter": "-all",
   "text_representation": {
    "extension": ".m",
    "format_name": "light"
   }
  },
  "language_info": {
   "file_extension": ".m",
   "help_links": [
    {
     "text": "GNU Octave",
     "url": "https://www.gnu.org/software/octave/support.html"
    },
    {
     "text": "Octave Kernel",
     "url": "https://github.com/Calysto/octave_kernel"
    },
    {
     "text": "MetaKernel Magics",
     "url": "https://metakernel.readthedocs.io/en/latest/source/README.html"
    }
   ],
   "mimetype": "text/x-octave",
   "name": "octave",
   "version": "6.2.0"
  }
 },
 "nbformat": 4,
 "nbformat_minor": 5
}
