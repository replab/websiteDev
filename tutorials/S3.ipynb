{
 "cells": [
  {
   "cell_type": "markdown",
   "id": "ab301c10",
   "metadata": {},
   "source": [
    "# Tutorial for mathematicians\n",
    "\n",
    "The symmetric group $S_n$ is group of primary importance. Here, we consider this group for $n=3$ and discuss several of its representations with *RepLAB*.\n",
    "\n",
    "Before trying any of the *RepLAB* commands, we must initialize the library:"
   ]
  },
  {
   "cell_type": "code",
   "execution_count": 1,
   "id": "6ba392ed",
   "metadata": {
    "execution": {
     "iopub.execute_input": "2021-12-06T15:24:32.092651Z",
     "iopub.status.busy": "2021-12-06T15:24:32.092197Z",
     "iopub.status.idle": "2021-12-06T15:24:38.199023Z",
     "shell.execute_reply": "2021-12-06T15:24:38.198147Z"
    }
   },
   "outputs": [
    {
     "name": "stdout",
     "output_type": "stream",
     "text": [
      "replab_init: Initialization done.\r\n"
     ]
    }
   ],
   "source": [
    "addpath([pwd, '/../..']);\n",
    "replab_init('verbose', 0);"
   ]
  },
  {
   "cell_type": "markdown",
   "id": "84f7b0bd",
   "metadata": {},
   "source": [
    "## The symmetric group\n",
    "\n",
    "Consider $n$ distinct elements, numbered $1,2,\\ldots,n$. The symmetric group describes all possible ways in which these elements can be permuted.\n",
    "\n",
    "With $n=3$, for instance, two possible arrangements are"
   ]
  },
  {
   "cell_type": "code",
   "execution_count": 2,
   "id": "587ebb13",
   "metadata": {
    "execution": {
     "iopub.execute_input": "2021-12-06T15:24:38.201875Z",
     "iopub.status.busy": "2021-12-06T15:24:38.201439Z",
     "iopub.status.idle": "2021-12-06T15:24:38.214507Z",
     "shell.execute_reply": "2021-12-06T15:24:38.214107Z"
    }
   },
   "outputs": [],
   "source": [
    "[1 2 3];"
   ]
  },
  {
   "cell_type": "markdown",
   "id": "118b03eb",
   "metadata": {},
   "source": [
    "and"
   ]
  },
  {
   "cell_type": "code",
   "execution_count": 3,
   "id": "1715c9b3",
   "metadata": {
    "execution": {
     "iopub.execute_input": "2021-12-06T15:24:38.217180Z",
     "iopub.status.busy": "2021-12-06T15:24:38.216455Z",
     "iopub.status.idle": "2021-12-06T15:24:38.228847Z",
     "shell.execute_reply": "2021-12-06T15:24:38.228454Z"
    }
   },
   "outputs": [],
   "source": [
    "[1 3 2];"
   ]
  },
  {
   "cell_type": "markdown",
   "id": "1e62f27e",
   "metadata": {},
   "source": [
    "In general there are $n!$ such arrangements (i.e. $6$ arrangements for $n=3$).\n",
    "\n",
    "In *RepLAB*, the symmetric group can be constructed with a simple command"
   ]
  },
  {
   "cell_type": "code",
   "execution_count": 4,
   "id": "cf413e79",
   "metadata": {
    "execution": {
     "iopub.execute_input": "2021-12-06T15:24:38.231877Z",
     "iopub.status.busy": "2021-12-06T15:24:38.231220Z",
     "iopub.status.idle": "2021-12-06T15:24:38.274835Z",
     "shell.execute_reply": "2021-12-06T15:24:38.274412Z"
    }
   },
   "outputs": [],
   "source": [
    "n = 3;\n",
    "S3 = replab.S(n);"
   ]
  },
  {
   "cell_type": "markdown",
   "id": "3a720af0",
   "metadata": {},
   "source": [
    "The elements of the group can be easily listed"
   ]
  },
  {
   "cell_type": "code",
   "execution_count": 5,
   "id": "5c13d833",
   "metadata": {
    "execution": {
     "iopub.execute_input": "2021-12-06T15:24:38.277818Z",
     "iopub.status.busy": "2021-12-06T15:24:38.277397Z",
     "iopub.status.idle": "2021-12-06T15:24:38.364521Z",
     "shell.execute_reply": "2021-12-06T15:24:38.364086Z"
    }
   },
   "outputs": [
    {
     "name": "stdout",
     "output_type": "stream",
     "text": [
      "ans =\r\n",
      "{\r\n",
      "  [1,1] =\r\n",
      "\r\n",
      "     1   2   3\r\n",
      "\r\n",
      "  [1,2] =\r\n",
      "\r\n",
      "     1   3   2\r\n",
      "\r\n",
      "  [1,3] =\r\n",
      "\r\n",
      "     2   1   3\r\n",
      "\r\n",
      "  [1,4] =\r\n",
      "\r\n",
      "     2   3   1\r\n",
      "\r\n",
      "  [1,5] =\r\n",
      "\r\n",
      "     3   1   2\r\n",
      "\r\n",
      "  [1,6] =\r\n",
      "\r\n",
      "     3   2   1\r\n",
      "\r\n",
      "}\r\n",
      "\r\n"
     ]
    }
   ],
   "source": [
    "S3.elements"
   ]
  },
  {
   "cell_type": "markdown",
   "id": "d75ce8a7",
   "metadata": {},
   "source": [
    "The number of elements is the order of the group"
   ]
  },
  {
   "cell_type": "code",
   "execution_count": 6,
   "id": "49ceb288",
   "metadata": {
    "execution": {
     "iopub.execute_input": "2021-12-06T15:24:38.367272Z",
     "iopub.status.busy": "2021-12-06T15:24:38.366849Z",
     "iopub.status.idle": "2021-12-06T15:24:38.382293Z",
     "shell.execute_reply": "2021-12-06T15:24:38.381877Z"
    }
   },
   "outputs": [
    {
     "name": "stdout",
     "output_type": "stream",
     "text": [
      "ans =\r\n",
      "    6\r\n"
     ]
    }
   ],
   "source": [
    "S3.order"
   ]
  },
  {
   "cell_type": "markdown",
   "id": "366673a7",
   "metadata": {},
   "source": [
    "As we see, permutations are represented by row-vectors with an arrangement of the elements $1,\\ldots,n$.\n",
    "\n",
    "The group structure defines how elements of the group compose with each other.\n",
    "For instance, permuting the first two elements in $1,2,3$, followed by a permutation of the second and third elements results in a cyclic permutation:"
   ]
  },
  {
   "cell_type": "code",
   "execution_count": 7,
   "id": "d580acdc",
   "metadata": {
    "execution": {
     "iopub.execute_input": "2021-12-06T15:24:38.385210Z",
     "iopub.status.busy": "2021-12-06T15:24:38.384779Z",
     "iopub.status.idle": "2021-12-06T15:24:38.406302Z",
     "shell.execute_reply": "2021-12-06T15:24:38.406627Z"
    }
   },
   "outputs": [
    {
     "name": "stdout",
     "output_type": "stream",
     "text": [
      "ans =\r\n",
      "\r\n",
      "   2   3   1\r\n",
      "\r\n"
     ]
    }
   ],
   "source": [
    "element1 = [2 1 3];\n",
    "element2 = [1 3 2];\n",
    "S3.compose(element1, element2)"
   ]
  },
  {
   "cell_type": "markdown",
   "id": "eadd78cb",
   "metadata": {},
   "source": [
    "## The natural representation of S(3)\n",
    "\n",
    "A group can always be represented by matrices of finite dimension. In a $d$-dimensional matrix representation, each group element is associated with a $d \\times d$ matrix called the image of the group\n",
    "element. The action of matrix multiplication on the images then reflects the group composition rule.\n",
    "\n",
    "Several matrix representations are possible for the same group, possibly in various dimension $d$. Here, we are going to explore some representations of the group $S_3$\n",
    "\n",
    "When seeing the group as a permutation within $n$ elements, a natural choice of representation arises in dimension $d=n$, where the permutation\n",
    "is applied to the coordinates of the vector space $R^n$. This is called the *natural representation* of a group. It can be constructed easily:"
   ]
  },
  {
   "cell_type": "code",
   "execution_count": 8,
   "id": "0395be82",
   "metadata": {
    "execution": {
     "iopub.execute_input": "2021-12-06T15:24:38.409314Z",
     "iopub.status.busy": "2021-12-06T15:24:38.408893Z",
     "iopub.status.idle": "2021-12-06T15:24:38.547708Z",
     "shell.execute_reply": "2021-12-06T15:24:38.546993Z"
    }
   },
   "outputs": [],
   "source": [
    "natRep = S3.naturalRep;"
   ]
  },
  {
   "cell_type": "markdown",
   "id": "2d347a9e",
   "metadata": {},
   "source": [
    "The image of a group element in this representation can be extracted"
   ]
  },
  {
   "cell_type": "code",
   "execution_count": 9,
   "id": "c26e2524",
   "metadata": {
    "execution": {
     "iopub.execute_input": "2021-12-06T15:24:38.550798Z",
     "iopub.status.busy": "2021-12-06T15:24:38.550039Z",
     "iopub.status.idle": "2021-12-06T15:24:38.566174Z",
     "shell.execute_reply": "2021-12-06T15:24:38.565786Z"
    }
   },
   "outputs": [
    {
     "name": "stdout",
     "output_type": "stream",
     "text": [
      "ans =\r\n",
      "\r\n",
      "   0   1   0\r\n",
      "   1   0   0\r\n",
      "   0   0   1\r\n",
      "\r\n"
     ]
    }
   ],
   "source": [
    "natRep.image([2 1 3])"
   ]
  },
  {
   "cell_type": "markdown",
   "id": "6a8c07e1",
   "metadata": {},
   "source": [
    "We see that the matrices representing the group elements are $n \\times n$ permutation matrices, which simply apply the permutation to the coordinates of the vector space $R^n$.\n",
    "\n",
    "For a representation to be valid, the images must follow the structure of the group:"
   ]
  },
  {
   "cell_type": "code",
   "execution_count": 10,
   "id": "8abf66eb",
   "metadata": {
    "execution": {
     "iopub.execute_input": "2021-12-06T15:24:38.569258Z",
     "iopub.status.busy": "2021-12-06T15:24:38.568841Z",
     "iopub.status.idle": "2021-12-06T15:24:38.602375Z",
     "shell.execute_reply": "2021-12-06T15:24:38.602733Z"
    }
   },
   "outputs": [
    {
     "name": "stdout",
     "output_type": "stream",
     "text": [
      "ans =\r\n",
      "\r\n",
      "   0   0   1\r\n",
      "   1   0   0\r\n",
      "   0   1   0\r\n",
      "\r\n"
     ]
    },
    {
     "name": "stdout",
     "output_type": "stream",
     "text": [
      "ans =\r\n",
      "\r\n",
      "   0   0   1\r\n",
      "   1   0   0\r\n",
      "   0   1   0\r\n",
      "\r\n"
     ]
    }
   ],
   "source": [
    "image1 = natRep.image(element1);\n",
    "image2 = natRep.image(element2);\n",
    "image1*image2\n",
    "natRep.image(S3.compose(element1, element2))"
   ]
  },
  {
   "cell_type": "markdown",
   "id": "b3714dc7",
   "metadata": {},
   "source": [
    "We see that the image of the product of elements is indeed the product of the images of the respective elements, i.e. the algebra of matrices\n",
    "acting on the representation images accurately reflects the group algebra.\n",
    "\n",
    "It can be checked, moreover, that the natural representation is faithful, i.e. each group element has its own distinct image. This needs\n",
    "not always be the case as in the following two examples.\n",
    "\n",
    "## The parity representation of $S_3$\n",
    "\n",
    "To construct an arbitrary group representation in *RepLAB*, it is sufficient to provide the image of the generators of the group. The group $S_3$ has two generators:"
   ]
  },
  {
   "cell_type": "code",
   "execution_count": 11,
   "id": "238b91ca",
   "metadata": {
    "execution": {
     "iopub.execute_input": "2021-12-06T15:24:38.605583Z",
     "iopub.status.busy": "2021-12-06T15:24:38.605169Z",
     "iopub.status.idle": "2021-12-06T15:24:38.624618Z",
     "shell.execute_reply": "2021-12-06T15:24:38.624986Z"
    }
   },
   "outputs": [
    {
     "name": "stdout",
     "output_type": "stream",
     "text": [
      "ans =\r\n",
      "\r\n",
      "   2   3   1\r\n",
      "\r\n",
      "ans =\r\n",
      "\r\n",
      "   2   1   3\r\n",
      "\r\n"
     ]
    }
   ],
   "source": [
    "generators = S3.generators;\n",
    "generators{:}"
   ]
  },
  {
   "cell_type": "markdown",
   "id": "33e3b3da",
   "metadata": {},
   "source": [
    "Let us construct a representation of this group in dimension"
   ]
  },
  {
   "cell_type": "code",
   "execution_count": 12,
   "id": "8919ca21",
   "metadata": {
    "execution": {
     "iopub.execute_input": "2021-12-06T15:24:38.627356Z",
     "iopub.status.busy": "2021-12-06T15:24:38.626824Z",
     "iopub.status.idle": "2021-12-06T15:24:38.639848Z",
     "shell.execute_reply": "2021-12-06T15:24:38.639407Z"
    }
   },
   "outputs": [],
   "source": [
    "d = 1;"
   ]
  },
  {
   "cell_type": "markdown",
   "id": "9aac643d",
   "metadata": {},
   "source": [
    "associating the each generator its parity (i.e. either $+1$ or $-1$). Since the parity of [2 3 1] is 1 and the parity of [2 1 3] is -1, this is achieved by instantiating calling the *repByImages* methods on the group:"
   ]
  },
  {
   "cell_type": "code",
   "execution_count": 13,
   "id": "2902c434",
   "metadata": {
    "execution": {
     "iopub.execute_input": "2021-12-06T15:24:38.642395Z",
     "iopub.status.busy": "2021-12-06T15:24:38.641983Z",
     "iopub.status.idle": "2021-12-06T15:24:38.766076Z",
     "shell.execute_reply": "2021-12-06T15:24:38.765628Z"
    }
   },
   "outputs": [],
   "source": [
    "parRep = S3.repByImages('R', d, 'preimages', S3.generators, 'images', {1 -1});"
   ]
  },
  {
   "cell_type": "markdown",
   "id": "61c53399",
   "metadata": {},
   "source": [
    "We can check that this representation is valid"
   ]
  },
  {
   "cell_type": "code",
   "execution_count": 14,
   "id": "cbc1ed6c",
   "metadata": {
    "execution": {
     "iopub.execute_input": "2021-12-06T15:24:38.769317Z",
     "iopub.status.busy": "2021-12-06T15:24:38.768289Z",
     "iopub.status.idle": "2021-12-06T15:24:38.802769Z",
     "shell.execute_reply": "2021-12-06T15:24:38.802099Z"
    }
   },
   "outputs": [
    {
     "name": "stdout",
     "output_type": "stream",
     "text": [
      "image1 = -1\r\n"
     ]
    },
    {
     "name": "stdout",
     "output_type": "stream",
     "text": [
      "image2 = -1\r\n"
     ]
    },
    {
     "name": "stdout",
     "output_type": "stream",
     "text": [
      "ans = 1\r\n"
     ]
    },
    {
     "name": "stdout",
     "output_type": "stream",
     "text": [
      "ans = 1\r\n"
     ]
    }
   ],
   "source": [
    "image1 = parRep.image(element1)\n",
    "image2 = parRep.image(element2)\n",
    "image1*image2\n",
    "parRep.image(S3.compose(element1, element2))"
   ]
  },
  {
   "cell_type": "markdown",
   "id": "81b87802",
   "metadata": {},
   "source": [
    "The parity of each binary permutation ``[2 1 3]`` and ``[1 3 2]`` is $-1$, and their product, the cycle [2 3 1], has parity $1$.\n",
    "\n",
    "Clearly, this representation carries some information about the group, namely the parity, but some elements have the same image:"
   ]
  },
  {
   "cell_type": "code",
   "execution_count": 15,
   "id": "6b0e313c",
   "metadata": {
    "execution": {
     "iopub.execute_input": "2021-12-06T15:24:38.805540Z",
     "iopub.status.busy": "2021-12-06T15:24:38.805128Z",
     "iopub.status.idle": "2021-12-06T15:24:38.914913Z",
     "shell.execute_reply": "2021-12-06T15:24:38.914510Z"
    }
   },
   "outputs": [
    {
     "name": "stdout",
     "output_type": "stream",
     "text": [
      "Image of [1  2  3] : 1\r\n",
      "Image of [1  3  2] : -1\r\n",
      "Image of [2  1  3] : -1\r\n",
      "Image of [2  3  1] : 1\r\n",
      "Image of [3  1  2] : 1\r\n",
      "Image of [3  2  1] : -1\r\n"
     ]
    }
   ],
   "source": [
    "allElements = S3.elements;\n",
    "for i = 1:length(allElements)\n",
    "    disp(['Image of [', num2str(allElements{i}), '] : ', num2str(parRep.image(allElements{i}))]);\n",
    "end"
   ]
  },
  {
   "cell_type": "markdown",
   "id": "0618b17e",
   "metadata": {},
   "source": [
    "Therefore, this representation is not *faithful*.\n",
    "\n",
    "## The trivial representation of S(3)\n",
    "An even simpler representation of the group S(n) is one in which the image of all elements is set to $1$. This is called the *trivial representation*.\n",
    "\n",
    "It can be constructed similarly from the image of the generators:"
   ]
  },
  {
   "cell_type": "code",
   "execution_count": 16,
   "id": "c5810834",
   "metadata": {
    "execution": {
     "iopub.execute_input": "2021-12-06T15:24:38.917805Z",
     "iopub.status.busy": "2021-12-06T15:24:38.917382Z",
     "iopub.status.idle": "2021-12-06T15:24:39.029280Z",
     "shell.execute_reply": "2021-12-06T15:24:39.028835Z"
    }
   },
   "outputs": [],
   "source": [
    "trivRep = S3.repByImages('R', d, 'preimages', S3.generators, 'images', {1 1});"
   ]
  },
  {
   "cell_type": "markdown",
   "id": "e5fdc2ab",
   "metadata": {},
   "source": [
    "This time, the group law is trivially satisfied since all images are indeed equal to $1$:"
   ]
  },
  {
   "cell_type": "code",
   "execution_count": 17,
   "id": "6bbf7ce4",
   "metadata": {
    "execution": {
     "iopub.execute_input": "2021-12-06T15:24:39.031817Z",
     "iopub.status.busy": "2021-12-06T15:24:39.031249Z",
     "iopub.status.idle": "2021-12-06T15:24:39.069519Z",
     "shell.execute_reply": "2021-12-06T15:24:39.069845Z"
    }
   },
   "outputs": [
    {
     "name": "stdout",
     "output_type": "stream",
     "text": [
      "Image of [1  2  3] : 1\r\n",
      "Image of [1  3  2] : 1\r\n",
      "Image of [2  1  3] : 1\r\n",
      "Image of [2  3  1] : 1\r\n",
      "Image of [3  1  2] : 1\r\n",
      "Image of [3  2  1] : 1\r\n"
     ]
    }
   ],
   "source": [
    "for i = 1:length(allElements)\n",
    "    disp(['Image of [', num2str(allElements{i}), '] : ', num2str(trivRep.image(allElements{i}))]);\n",
    "end"
   ]
  },
  {
   "cell_type": "markdown",
   "id": "b5f752dc",
   "metadata": {},
   "source": [
    "## Direct sum of representation of S(3)\n",
    "\n",
    "We have seen that a group can admit several representations. Any two representations of a group in dimension $d_1$ and $d_2$ can be joined\n",
    "together by taking their *direct sum* in order to create a new valid representation in dimension $d_1 + d_2$.\n",
    "\n",
    "For instance, we can construct a $4$-dimensional representation of S(3) by taking the direct sum of the natural representation with the parity\n",
    "representation"
   ]
  },
  {
   "cell_type": "code",
   "execution_count": 18,
   "id": "8cc266f1",
   "metadata": {
    "execution": {
     "iopub.execute_input": "2021-12-06T15:24:39.072368Z",
     "iopub.status.busy": "2021-12-06T15:24:39.071767Z",
     "iopub.status.idle": "2021-12-06T15:24:39.116631Z",
     "shell.execute_reply": "2021-12-06T15:24:39.116183Z"
    }
   },
   "outputs": [
    {
     "name": "stdout",
     "output_type": "stream",
     "text": [
      "newRep =\r\n",
      "\r\n",
      "Orthogonal direct sum representation\r\n",
      "dimension: 4\r\n",
      "    field: 'R'\r\n",
      "    group: Symmetric group acting on 3 elements\r\n",
      "isUnitary: true\r\n",
      "factor(1): Orthogonal reducible representation\r\n",
      "factor(2): Orthogonal representation\r\n",
      "\r\n"
     ]
    }
   ],
   "source": [
    "newRep = blkdiag(natRep, parRep)"
   ]
  },
  {
   "cell_type": "markdown",
   "id": "23955ba2",
   "metadata": {},
   "source": [
    "The images are then $4 \\times 4$ matrices"
   ]
  },
  {
   "cell_type": "code",
   "execution_count": 19,
   "id": "979af2bd",
   "metadata": {
    "execution": {
     "iopub.execute_input": "2021-12-06T15:24:39.119649Z",
     "iopub.status.busy": "2021-12-06T15:24:39.119009Z",
     "iopub.status.idle": "2021-12-06T15:24:39.147481Z",
     "shell.execute_reply": "2021-12-06T15:24:39.147074Z"
    }
   },
   "outputs": [
    {
     "name": "stdout",
     "output_type": "stream",
     "text": [
      "ans =\r\n",
      "\r\n",
      "   0   1   0   0\r\n",
      "   1   0   0   0\r\n",
      "   0   0   1   0\r\n",
      "   0   0   0  -1\r\n",
      "\r\n"
     ]
    },
    {
     "name": "stdout",
     "output_type": "stream",
     "text": [
      "ans =\r\n",
      "\r\n",
      "   1   0   0   0\r\n",
      "   0   0   1   0\r\n",
      "   0   1   0   0\r\n",
      "   0   0   0  -1\r\n",
      "\r\n"
     ]
    }
   ],
   "source": [
    "newRep.image(element1)\n",
    "newRep.image(element2)"
   ]
  },
  {
   "cell_type": "markdown",
   "id": "eb9a2afd",
   "metadata": {},
   "source": [
    "As expected, the images have a block diagonal structure. The properties\n",
    "of a direct sum representation are thus captured by the properties of\n",
    "the representation in each block. Such a representation is *reducible*.\n",
    "\n",
    "## Irreducible representations of S(3)\n",
    "\n",
    "Given a representation, it is not always obvious whether it is the direct\n",
    "sum of more fundamental representations or if the representation is\n",
    "*irreducible*. For instance, the images of the natural representation\n",
    "introduced above are not obviously block-diagonal. Yet, this\n",
    "representation is also reducible. To see this, one needs to find a basis\n",
    "of the vector space $R^d$ in which the images have a block diagonal\n",
    "structure.\n",
    "\n",
    "This can be achieved in *RepLAB* by decomposing the representation"
   ]
  },
  {
   "cell_type": "code",
   "execution_count": 20,
   "id": "985e6236",
   "metadata": {
    "execution": {
     "iopub.execute_input": "2021-12-06T15:24:39.150401Z",
     "iopub.status.busy": "2021-12-06T15:24:39.149716Z",
     "iopub.status.idle": "2021-12-06T15:24:40.900048Z",
     "shell.execute_reply": "2021-12-06T15:24:40.899633Z"
    }
   },
   "outputs": [
    {
     "name": "stdout",
     "output_type": "stream",
     "text": [
      "ans = 2\r\n"
     ]
    }
   ],
   "source": [
    "natDec = natRep.decomposition.nice;\n",
    "natDec.nComponents"
   ]
  },
  {
   "cell_type": "markdown",
   "id": "62d4132e",
   "metadata": {},
   "source": [
    "This shows that the defininig representation of $S_3$ has two *irreducible components*, of dimension $1$ and $2$ respectively:"
   ]
  },
  {
   "cell_type": "code",
   "execution_count": 21,
   "id": "b3929632",
   "metadata": {
    "execution": {
     "iopub.execute_input": "2021-12-06T15:24:40.903192Z",
     "iopub.status.busy": "2021-12-06T15:24:40.902770Z",
     "iopub.status.idle": "2021-12-06T15:24:40.922283Z",
     "shell.execute_reply": "2021-12-06T15:24:40.921920Z"
    }
   },
   "outputs": [
    {
     "name": "stdout",
     "output_type": "stream",
     "text": [
      "ans = 1\r\n"
     ]
    },
    {
     "name": "stdout",
     "output_type": "stream",
     "text": [
      "ans = 2\r\n"
     ]
    }
   ],
   "source": [
    "natDec.component(1).irrepDimension\n",
    "natDec.component(2).irrepDimension"
   ]
  },
  {
   "cell_type": "markdown",
   "id": "e7d39cac",
   "metadata": {},
   "source": [
    "The decomposition also provides the change of basis matrix which makes |this decomposition apparent"
   ]
  },
  {
   "cell_type": "code",
   "execution_count": 22,
   "id": "fc15e87e",
   "metadata": {
    "execution": {
     "iopub.execute_input": "2021-12-06T15:24:40.925229Z",
     "iopub.status.busy": "2021-12-06T15:24:40.924807Z",
     "iopub.status.idle": "2021-12-06T15:24:40.939457Z",
     "shell.execute_reply": "2021-12-06T15:24:40.939064Z"
    }
   },
   "outputs": [
    {
     "name": "stdout",
     "output_type": "stream",
     "text": [
      "basis =\r\n",
      "\r\n",
      "   0.3333   0.6667  -0.3333\r\n",
      "   0.3333  -0.3333   0.6667\r\n",
      "   0.3333  -0.3333  -0.3333\r\n",
      "\r\n"
     ]
    }
   ],
   "source": [
    "basis = natDec.basis"
   ]
  },
  {
   "cell_type": "markdown",
   "id": "97d4ab70",
   "metadata": {},
   "source": [
    "The images of the two elements of $S_3$, ``[2 1 3]`` and ``[1 3 2]`` are indeed block-diagonal in this basis:"
   ]
  },
  {
   "cell_type": "code",
   "execution_count": 23,
   "id": "35a2d97a",
   "metadata": {
    "execution": {
     "iopub.execute_input": "2021-12-06T15:24:40.942342Z",
     "iopub.status.busy": "2021-12-06T15:24:40.941920Z",
     "iopub.status.idle": "2021-12-06T15:24:40.964255Z",
     "shell.execute_reply": "2021-12-06T15:24:40.963880Z"
    }
   },
   "outputs": [
    {
     "name": "stdout",
     "output_type": "stream",
     "text": [
      "ans =\r\n",
      "\r\n",
      "   1   0   0\r\n",
      "   0   0   1\r\n",
      "   0   1   0\r\n",
      "\r\n"
     ]
    },
    {
     "name": "stdout",
     "output_type": "stream",
     "text": [
      "ans =\r\n",
      "\r\n",
      "   1   0   0\r\n",
      "   0   1  -1\r\n",
      "   0   0  -1\r\n",
      "\r\n"
     ]
    }
   ],
   "source": [
    "inv(basis)*natRep.image(element1)*basis\n",
    "inv(basis)*natRep.image(element2)*basis"
   ]
  },
  {
   "cell_type": "markdown",
   "id": "b3d40b6a",
   "metadata": {},
   "source": [
    "## Summary\n",
    "\n",
    "This shows that the natural representation of S(3) contains\n",
    "\n",
    "* One copy of the trivial representation of S(3)\n",
    "* One copy of the a faithful 2 x 2 representation of S(3)"
   ]
  }
 ],
 "metadata": {
  "jupytext": {
   "cell_metadata_filter": "-all",
   "main_language": "matlab",
   "notebook_metadata_filter": "-all",
   "text_representation": {
    "extension": ".m",
    "format_name": "light"
   }
  },
  "language_info": {
   "file_extension": ".m",
   "help_links": [
    {
     "text": "GNU Octave",
     "url": "https://www.gnu.org/software/octave/support.html"
    },
    {
     "text": "Octave Kernel",
     "url": "https://github.com/Calysto/octave_kernel"
    },
    {
     "text": "MetaKernel Magics",
     "url": "https://metakernel.readthedocs.io/en/latest/source/README.html"
    }
   ],
   "mimetype": "text/x-octave",
   "name": "octave",
   "version": "6.2.0"
  }
 },
 "nbformat": 4,
 "nbformat_minor": 5
}
