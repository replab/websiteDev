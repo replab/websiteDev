{
 "cells": [
  {
   "cell_type": "markdown",
   "id": "c0a51e4f",
   "metadata": {},
   "source": [
    "# Tutorial for mathematicians\n",
    "\n",
    "The symmetric group $S_n$ is group of primary importance. Here, we consider this group for $n=3$ and discuss several of its representations with *RepLAB*.\n",
    "\n",
    "Before trying any of the *RepLAB* commands, we must initialize the library:"
   ]
  },
  {
   "cell_type": "code",
   "execution_count": 1,
   "id": "b5b7f8fc",
   "metadata": {
    "execution": {
     "iopub.execute_input": "2021-12-18T22:09:27.338045Z",
     "iopub.status.busy": "2021-12-18T22:09:27.337604Z",
     "iopub.status.idle": "2021-12-18T22:09:27.361221Z",
     "shell.execute_reply": "2021-12-18T22:09:27.360706Z"
    }
   },
   "outputs": [
    {
     "name": "stdout",
     "output_type": "stream",
     "text": [
      "error: 'replab_init' undefined near line 1, column 1\r\n"
     ]
    }
   ],
   "source": [
    "addpath([pwd, '/../..']);\n",
    "replab_init('verbose', 0);"
   ]
  },
  {
   "cell_type": "markdown",
   "id": "f697ad6a",
   "metadata": {},
   "source": [
    "## The symmetric group\n",
    "\n",
    "Consider $n$ distinct elements, numbered $1,2,\\ldots,n$. The symmetric group describes all possible ways in which these elements can be permuted.\n",
    "\n",
    "With $n=3$, for instance, two possible arrangements are"
   ]
  },
  {
   "cell_type": "code",
   "execution_count": 2,
   "id": "1e94cf18",
   "metadata": {
    "execution": {
     "iopub.execute_input": "2021-12-18T22:09:27.363713Z",
     "iopub.status.busy": "2021-12-18T22:09:27.363294Z",
     "iopub.status.idle": "2021-12-18T22:09:27.368612Z",
     "shell.execute_reply": "2021-12-18T22:09:27.368233Z"
    }
   },
   "outputs": [],
   "source": [
    "[1 2 3];"
   ]
  },
  {
   "cell_type": "markdown",
   "id": "0e8a0f04",
   "metadata": {},
   "source": [
    "and"
   ]
  },
  {
   "cell_type": "code",
   "execution_count": 3,
   "id": "1adeed2b",
   "metadata": {
    "execution": {
     "iopub.execute_input": "2021-12-18T22:09:27.371095Z",
     "iopub.status.busy": "2021-12-18T22:09:27.370680Z",
     "iopub.status.idle": "2021-12-18T22:09:27.375467Z",
     "shell.execute_reply": "2021-12-18T22:09:27.375788Z"
    }
   },
   "outputs": [],
   "source": [
    "[1 3 2];"
   ]
  },
  {
   "cell_type": "markdown",
   "id": "a99d0780",
   "metadata": {},
   "source": [
    "In general there are $n!$ such arrangements (i.e. $6$ arrangements for $n=3$).\n",
    "\n",
    "In *RepLAB*, the symmetric group can be constructed with a simple command"
   ]
  },
  {
   "cell_type": "code",
   "execution_count": 4,
   "id": "a79dd29a",
   "metadata": {
    "execution": {
     "iopub.execute_input": "2021-12-18T22:09:27.378295Z",
     "iopub.status.busy": "2021-12-18T22:09:27.377880Z",
     "iopub.status.idle": "2021-12-18T22:09:27.387952Z",
     "shell.execute_reply": "2021-12-18T22:09:27.387553Z"
    }
   },
   "outputs": [
    {
     "name": "stdout",
     "output_type": "stream",
     "text": [
      "error: 'replab' undefined near line 1, column 1\r\n"
     ]
    }
   ],
   "source": [
    "n = 3;\n",
    "S3 = replab.S(n);"
   ]
  },
  {
   "cell_type": "markdown",
   "id": "a8f2b009",
   "metadata": {},
   "source": [
    "The elements of the group can be easily listed"
   ]
  },
  {
   "cell_type": "code",
   "execution_count": 5,
   "id": "e932ed9a",
   "metadata": {
    "execution": {
     "iopub.execute_input": "2021-12-18T22:09:27.390347Z",
     "iopub.status.busy": "2021-12-18T22:09:27.389931Z",
     "iopub.status.idle": "2021-12-18T22:09:27.396257Z",
     "shell.execute_reply": "2021-12-18T22:09:27.395913Z"
    }
   },
   "outputs": [
    {
     "name": "stdout",
     "output_type": "stream",
     "text": [
      "error: invalid call to script /github/workspace/generated/sphinx/tutorials/S3.m\r\n",
      "error: called from\r\n",
      "    S3\r\n"
     ]
    }
   ],
   "source": [
    "S3.elements"
   ]
  },
  {
   "cell_type": "markdown",
   "id": "8c0546ba",
   "metadata": {},
   "source": [
    "The number of elements is the order of the group"
   ]
  },
  {
   "cell_type": "code",
   "execution_count": 6,
   "id": "0374bdb3",
   "metadata": {
    "execution": {
     "iopub.execute_input": "2021-12-18T22:09:27.398475Z",
     "iopub.status.busy": "2021-12-18T22:09:27.398060Z",
     "iopub.status.idle": "2021-12-18T22:09:27.403716Z",
     "shell.execute_reply": "2021-12-18T22:09:27.403374Z"
    }
   },
   "outputs": [
    {
     "name": "stdout",
     "output_type": "stream",
     "text": [
      "error: invalid call to script /github/workspace/generated/sphinx/tutorials/S3.m\r\n",
      "error: called from\r\n",
      "    S3\r\n"
     ]
    }
   ],
   "source": [
    "S3.order"
   ]
  },
  {
   "cell_type": "markdown",
   "id": "76e50056",
   "metadata": {},
   "source": [
    "As we see, permutations are represented by row-vectors with an arrangement of the elements $1,\\ldots,n$.\n",
    "\n",
    "The group structure defines how elements of the group compose with each other.\n",
    "For instance, permuting the first two elements in $1,2,3$, followed by a permutation of the second and third elements results in a cyclic permutation:"
   ]
  },
  {
   "cell_type": "code",
   "execution_count": 7,
   "id": "3c19558f",
   "metadata": {
    "execution": {
     "iopub.execute_input": "2021-12-18T22:09:27.406278Z",
     "iopub.status.busy": "2021-12-18T22:09:27.405854Z",
     "iopub.status.idle": "2021-12-18T22:09:27.413609Z",
     "shell.execute_reply": "2021-12-18T22:09:27.413929Z"
    }
   },
   "outputs": [
    {
     "name": "stdout",
     "output_type": "stream",
     "text": [
      "error: invalid call to script /github/workspace/generated/sphinx/tutorials/S3.m\r\n",
      "error: called from\r\n",
      "    S3\r\n"
     ]
    }
   ],
   "source": [
    "element1 = [2 1 3];\n",
    "element2 = [1 3 2];\n",
    "S3.compose(element1, element2)"
   ]
  },
  {
   "cell_type": "markdown",
   "id": "7563c099",
   "metadata": {},
   "source": [
    "## The natural representation of S(3)\n",
    "\n",
    "A group can always be represented by matrices of finite dimension. In a $d$-dimensional matrix representation, each group element is associated with a $d \\times d$ matrix called the image of the group\n",
    "element. The action of matrix multiplication on the images then reflects the group composition rule.\n",
    "\n",
    "Several matrix representations are possible for the same group, possibly in various dimension $d$. Here, we are going to explore some representations of the group $S_3$\n",
    "\n",
    "When seeing the group as a permutation within $n$ elements, a natural choice of representation arises in dimension $d=n$, where the permutation\n",
    "is applied to the coordinates of the vector space $R^n$. This is called the *natural representation* of a group. It can be constructed easily:"
   ]
  },
  {
   "cell_type": "code",
   "execution_count": 8,
   "id": "3d4b4c3d",
   "metadata": {
    "execution": {
     "iopub.execute_input": "2021-12-18T22:09:27.416160Z",
     "iopub.status.busy": "2021-12-18T22:09:27.415743Z",
     "iopub.status.idle": "2021-12-18T22:09:27.421327Z",
     "shell.execute_reply": "2021-12-18T22:09:27.420981Z"
    }
   },
   "outputs": [
    {
     "name": "stdout",
     "output_type": "stream",
     "text": [
      "error: invalid call to script /github/workspace/generated/sphinx/tutorials/S3.m\r\n",
      "error: called from\r\n",
      "    S3\r\n"
     ]
    }
   ],
   "source": [
    "natRep = S3.naturalRep;"
   ]
  },
  {
   "cell_type": "markdown",
   "id": "fd90eb36",
   "metadata": {},
   "source": [
    "The image of a group element in this representation can be extracted"
   ]
  },
  {
   "cell_type": "code",
   "execution_count": 9,
   "id": "b8d35ba9",
   "metadata": {
    "execution": {
     "iopub.execute_input": "2021-12-18T22:09:27.423569Z",
     "iopub.status.busy": "2021-12-18T22:09:27.423160Z",
     "iopub.status.idle": "2021-12-18T22:09:27.431347Z",
     "shell.execute_reply": "2021-12-18T22:09:27.430991Z"
    }
   },
   "outputs": [
    {
     "name": "stdout",
     "output_type": "stream",
     "text": [
      "error: 'natRep' undefined near line 1, column 1\r\n"
     ]
    }
   ],
   "source": [
    "natRep.image([2 1 3])"
   ]
  },
  {
   "cell_type": "markdown",
   "id": "88f83cdc",
   "metadata": {},
   "source": [
    "We see that the matrices representing the group elements are $n \\times n$ permutation matrices, which simply apply the permutation to the coordinates of the vector space $R^n$.\n",
    "\n",
    "For a representation to be valid, the images must follow the structure of the group:"
   ]
  },
  {
   "cell_type": "code",
   "execution_count": 10,
   "id": "334c155d",
   "metadata": {
    "execution": {
     "iopub.execute_input": "2021-12-18T22:09:27.433874Z",
     "iopub.status.busy": "2021-12-18T22:09:27.433469Z",
     "iopub.status.idle": "2021-12-18T22:09:27.454529Z",
     "shell.execute_reply": "2021-12-18T22:09:27.454112Z"
    }
   },
   "outputs": [
    {
     "name": "stdout",
     "output_type": "stream",
     "text": [
      "error: 'natRep' undefined near line 1, column 1\r\n"
     ]
    },
    {
     "name": "stdout",
     "output_type": "stream",
     "text": [
      "error: 'natRep' undefined near line 1, column 1\r\n"
     ]
    },
    {
     "name": "stdout",
     "output_type": "stream",
     "text": [
      "error: 'image1' undefined near line 1, column 1\r\n"
     ]
    },
    {
     "name": "stdout",
     "output_type": "stream",
     "text": [
      "error: 'natRep' undefined near line 1, column 1\r\n"
     ]
    }
   ],
   "source": [
    "image1 = natRep.image(element1);\n",
    "image2 = natRep.image(element2);\n",
    "image1*image2\n",
    "natRep.image(S3.compose(element1, element2))"
   ]
  },
  {
   "cell_type": "markdown",
   "id": "f8759f09",
   "metadata": {},
   "source": [
    "We see that the image of the product of elements is indeed the product of the images of the respective elements, i.e. the algebra of matrices\n",
    "acting on the representation images accurately reflects the group algebra.\n",
    "\n",
    "It can be checked, moreover, that the natural representation is faithful, i.e. each group element has its own distinct image. This needs\n",
    "not always be the case as in the following two examples.\n",
    "\n",
    "## The parity representation of $S_3$\n",
    "\n",
    "To construct an arbitrary group representation in *RepLAB*, it is sufficient to provide the image of the generators of the group. The group $S_3$ has two generators:"
   ]
  },
  {
   "cell_type": "code",
   "execution_count": 11,
   "id": "482a677a",
   "metadata": {
    "execution": {
     "iopub.execute_input": "2021-12-18T22:09:27.456840Z",
     "iopub.status.busy": "2021-12-18T22:09:27.456410Z",
     "iopub.status.idle": "2021-12-18T22:09:27.466018Z",
     "shell.execute_reply": "2021-12-18T22:09:27.465660Z"
    }
   },
   "outputs": [
    {
     "name": "stdout",
     "output_type": "stream",
     "text": [
      "error: invalid call to script /github/workspace/generated/sphinx/tutorials/S3.m\r\n",
      "error: called from\r\n",
      "    S3\r\n"
     ]
    },
    {
     "name": "stdout",
     "output_type": "stream",
     "text": [
      "error: 'generators' undefined near line 1, column 1\r\n"
     ]
    }
   ],
   "source": [
    "generators = S3.generators;\n",
    "generators{:}"
   ]
  },
  {
   "cell_type": "markdown",
   "id": "5256dda2",
   "metadata": {},
   "source": [
    "Let us construct a representation of this group in dimension"
   ]
  },
  {
   "cell_type": "code",
   "execution_count": 12,
   "id": "72111766",
   "metadata": {
    "execution": {
     "iopub.execute_input": "2021-12-18T22:09:27.468347Z",
     "iopub.status.busy": "2021-12-18T22:09:27.467945Z",
     "iopub.status.idle": "2021-12-18T22:09:27.473083Z",
     "shell.execute_reply": "2021-12-18T22:09:27.472695Z"
    }
   },
   "outputs": [],
   "source": [
    "d = 1;"
   ]
  },
  {
   "cell_type": "markdown",
   "id": "eba183ff",
   "metadata": {},
   "source": [
    "associating the each generator its parity (i.e. either $+1$ or $-1$). Since the parity of [2 3 1] is 1 and the parity of [2 1 3] is -1, this is achieved by instantiating calling the *repByImages* methods on the group:"
   ]
  },
  {
   "cell_type": "code",
   "execution_count": 13,
   "id": "e457f448",
   "metadata": {
    "execution": {
     "iopub.execute_input": "2021-12-18T22:09:27.475429Z",
     "iopub.status.busy": "2021-12-18T22:09:27.475022Z",
     "iopub.status.idle": "2021-12-18T22:09:27.480101Z",
     "shell.execute_reply": "2021-12-18T22:09:27.480415Z"
    }
   },
   "outputs": [
    {
     "name": "stdout",
     "output_type": "stream",
     "text": [
      "error: invalid call to script /github/workspace/generated/sphinx/tutorials/S3.m\r\n",
      "error: called from\r\n",
      "    S3\r\n"
     ]
    }
   ],
   "source": [
    "parRep = S3.repByImages('R', d, 'preimages', S3.generators, 'images', {1 -1});"
   ]
  },
  {
   "cell_type": "markdown",
   "id": "e786a4f9",
   "metadata": {},
   "source": [
    "We can check that this representation is valid"
   ]
  },
  {
   "cell_type": "code",
   "execution_count": 14,
   "id": "e9945cde",
   "metadata": {
    "execution": {
     "iopub.execute_input": "2021-12-18T22:09:27.482727Z",
     "iopub.status.busy": "2021-12-18T22:09:27.482323Z",
     "iopub.status.idle": "2021-12-18T22:09:27.502575Z",
     "shell.execute_reply": "2021-12-18T22:09:27.502888Z"
    }
   },
   "outputs": [
    {
     "name": "stdout",
     "output_type": "stream",
     "text": [
      "error: 'parRep' undefined near line 1, column 1\r\n"
     ]
    },
    {
     "name": "stdout",
     "output_type": "stream",
     "text": [
      "error: 'parRep' undefined near line 1, column 1\r\n"
     ]
    },
    {
     "name": "stdout",
     "output_type": "stream",
     "text": [
      "error: 'image1' undefined near line 1, column 1\r\n"
     ]
    },
    {
     "name": "stdout",
     "output_type": "stream",
     "text": [
      "error: 'parRep' undefined near line 1, column 1\r\n"
     ]
    }
   ],
   "source": [
    "image1 = parRep.image(element1)\n",
    "image2 = parRep.image(element2)\n",
    "image1*image2\n",
    "parRep.image(S3.compose(element1, element2))"
   ]
  },
  {
   "cell_type": "markdown",
   "id": "6c089664",
   "metadata": {},
   "source": [
    "The parity of each binary permutation ``[2 1 3]`` and ``[1 3 2]`` is $-1$, and their product, the cycle [2 3 1], has parity $1$.\n",
    "\n",
    "Clearly, this representation carries some information about the group, namely the parity, but some elements have the same image:"
   ]
  },
  {
   "cell_type": "code",
   "execution_count": 15,
   "id": "a3231338",
   "metadata": {
    "execution": {
     "iopub.execute_input": "2021-12-18T22:09:27.505353Z",
     "iopub.status.busy": "2021-12-18T22:09:27.504940Z",
     "iopub.status.idle": "2021-12-18T22:09:27.516971Z",
     "shell.execute_reply": "2021-12-18T22:09:27.516581Z"
    }
   },
   "outputs": [
    {
     "name": "stdout",
     "output_type": "stream",
     "text": [
      "error: invalid call to script /github/workspace/generated/sphinx/tutorials/S3.m\r\n",
      "error: called from\r\n",
      "    S3\r\n"
     ]
    },
    {
     "name": "stdout",
     "output_type": "stream",
     "text": [
      "error: 'allElements' undefined near line 1, column 1\r\n"
     ]
    }
   ],
   "source": [
    "allElements = S3.elements;\n",
    "for i = 1:length(allElements)\n",
    "disp(['Image of [', num2str(allElements{i}), '] : ', num2str(parRep.image(allElements{i}))]);\n",
    "end"
   ]
  },
  {
   "cell_type": "markdown",
   "id": "75beecfd",
   "metadata": {},
   "source": [
    "Therefore, this representation is not *faithful*.\n",
    "\n",
    "## The trivial representation of S(3)\n",
    "An even simpler representation of the group S(n) is one in which the image of all elements is set to $1$. This is called the *trivial representation*.\n",
    "\n",
    "It can be constructed similarly from the image of the generators:"
   ]
  },
  {
   "cell_type": "code",
   "execution_count": 16,
   "id": "55ac454f",
   "metadata": {
    "execution": {
     "iopub.execute_input": "2021-12-18T22:09:27.519270Z",
     "iopub.status.busy": "2021-12-18T22:09:27.518870Z",
     "iopub.status.idle": "2021-12-18T22:09:27.524549Z",
     "shell.execute_reply": "2021-12-18T22:09:27.524175Z"
    }
   },
   "outputs": [
    {
     "name": "stdout",
     "output_type": "stream",
     "text": [
      "error: invalid call to script /github/workspace/generated/sphinx/tutorials/S3.m\r\n",
      "error: called from\r\n",
      "    S3\r\n"
     ]
    }
   ],
   "source": [
    "trivRep = S3.repByImages('R', d, 'preimages', S3.generators, 'images', {1 1});"
   ]
  },
  {
   "cell_type": "markdown",
   "id": "a0d7a4f8",
   "metadata": {},
   "source": [
    "This time, the group law is trivially satisfied since all images are indeed equal to $1$:"
   ]
  },
  {
   "cell_type": "code",
   "execution_count": 17,
   "id": "d9402258",
   "metadata": {
    "execution": {
     "iopub.execute_input": "2021-12-18T22:09:27.526769Z",
     "iopub.status.busy": "2021-12-18T22:09:27.526363Z",
     "iopub.status.idle": "2021-12-18T22:09:27.536485Z",
     "shell.execute_reply": "2021-12-18T22:09:27.536147Z"
    }
   },
   "outputs": [
    {
     "name": "stdout",
     "output_type": "stream",
     "text": [
      "error: 'allElements' undefined near line 1, column 1\r\n"
     ]
    }
   ],
   "source": [
    "for i = 1:length(allElements)\n",
    "disp(['Image of [', num2str(allElements{i}), '] : ', num2str(trivRep.image(allElements{i}))]);\n",
    "end"
   ]
  },
  {
   "cell_type": "markdown",
   "id": "f94c67d8",
   "metadata": {},
   "source": [
    "## Direct sum of representation of S(3)\n",
    "\n",
    "We have seen that a group can admit several representations. Any two representations of a group in dimension $d_1$ and $d_2$ can be joined\n",
    "together by taking their *direct sum* in order to create a new valid representation in dimension $d_1 + d_2$.\n",
    "\n",
    "For instance, we can construct a $4$-dimensional representation of S(3) by taking the direct sum of the natural representation with the parity\n",
    "representation"
   ]
  },
  {
   "cell_type": "code",
   "execution_count": 18,
   "id": "1d5fab68",
   "metadata": {
    "execution": {
     "iopub.execute_input": "2021-12-18T22:09:27.538704Z",
     "iopub.status.busy": "2021-12-18T22:09:27.538303Z",
     "iopub.status.idle": "2021-12-18T22:09:27.546823Z",
     "shell.execute_reply": "2021-12-18T22:09:27.546455Z"
    }
   },
   "outputs": [
    {
     "name": "stdout",
     "output_type": "stream",
     "text": [
      "error: 'natRep' undefined near line 1, column 1\r\n"
     ]
    }
   ],
   "source": [
    "newRep = blkdiag(natRep, parRep)"
   ]
  },
  {
   "cell_type": "markdown",
   "id": "ef60adf9",
   "metadata": {},
   "source": [
    "The images are then $4 \\times 4$ matrices"
   ]
  },
  {
   "cell_type": "code",
   "execution_count": 19,
   "id": "3e07c789",
   "metadata": {
    "execution": {
     "iopub.execute_input": "2021-12-18T22:09:27.549303Z",
     "iopub.status.busy": "2021-12-18T22:09:27.548890Z",
     "iopub.status.idle": "2021-12-18T22:09:27.561847Z",
     "shell.execute_reply": "2021-12-18T22:09:27.561497Z"
    }
   },
   "outputs": [
    {
     "name": "stdout",
     "output_type": "stream",
     "text": [
      "error: 'newRep' undefined near line 1, column 1\r\n"
     ]
    },
    {
     "name": "stdout",
     "output_type": "stream",
     "text": [
      "error: 'newRep' undefined near line 1, column 1\r\n"
     ]
    }
   ],
   "source": [
    "newRep.image(element1)\n",
    "newRep.image(element2)"
   ]
  },
  {
   "cell_type": "markdown",
   "id": "59818c99",
   "metadata": {},
   "source": [
    "As expected, the images have a block diagonal structure. The properties\n",
    "of a direct sum representation are thus captured by the properties of\n",
    "the representation in each block. Such a representation is *reducible*.\n",
    "\n",
    "## Irreducible representations of S(3)\n",
    "\n",
    "Given a representation, it is not always obvious whether it is the direct\n",
    "sum of more fundamental representations or if the representation is\n",
    "*irreducible*. For instance, the images of the natural representation\n",
    "introduced above are not obviously block-diagonal. Yet, this\n",
    "representation is also reducible. To see this, one needs to find a basis\n",
    "of the vector space $R^d$ in which the images have a block diagonal\n",
    "structure.\n",
    "\n",
    "This can be achieved in *RepLAB* by decomposing the representation"
   ]
  },
  {
   "cell_type": "code",
   "execution_count": 20,
   "id": "823d5827",
   "metadata": {
    "execution": {
     "iopub.execute_input": "2021-12-18T22:09:27.564050Z",
     "iopub.status.busy": "2021-12-18T22:09:27.563639Z",
     "iopub.status.idle": "2021-12-18T22:09:27.575944Z",
     "shell.execute_reply": "2021-12-18T22:09:27.575608Z"
    }
   },
   "outputs": [
    {
     "name": "stdout",
     "output_type": "stream",
     "text": [
      "error: 'natRep' undefined near line 1, column 1\r\n"
     ]
    },
    {
     "name": "stdout",
     "output_type": "stream",
     "text": [
      "error: 'natDec' undefined near line 1, column 1\r\n"
     ]
    }
   ],
   "source": [
    "natDec = natRep.decomposition.nice;\n",
    "natDec.nComponents"
   ]
  },
  {
   "cell_type": "markdown",
   "id": "1c4f44a7",
   "metadata": {},
   "source": [
    "This shows that the defininig representation of $S_3$ has two *irreducible components*, of dimension $1$ and $2$ respectively:"
   ]
  },
  {
   "cell_type": "code",
   "execution_count": 21,
   "id": "57c0f67a",
   "metadata": {
    "execution": {
     "iopub.execute_input": "2021-12-18T22:09:27.578240Z",
     "iopub.status.busy": "2021-12-18T22:09:27.577839Z",
     "iopub.status.idle": "2021-12-18T22:09:27.590078Z",
     "shell.execute_reply": "2021-12-18T22:09:27.589740Z"
    }
   },
   "outputs": [
    {
     "name": "stdout",
     "output_type": "stream",
     "text": [
      "error: 'natDec' undefined near line 1, column 1\r\n"
     ]
    },
    {
     "name": "stdout",
     "output_type": "stream",
     "text": [
      "error: 'natDec' undefined near line 1, column 1\r\n"
     ]
    }
   ],
   "source": [
    "natDec.component(1).irrepDimension\n",
    "natDec.component(2).irrepDimension"
   ]
  },
  {
   "cell_type": "markdown",
   "id": "b97ec856",
   "metadata": {},
   "source": [
    "The decomposition also provides the change of basis matrix which makes |this decomposition apparent"
   ]
  },
  {
   "cell_type": "code",
   "execution_count": 22,
   "id": "1d6c75d5",
   "metadata": {
    "execution": {
     "iopub.execute_input": "2021-12-18T22:09:27.592452Z",
     "iopub.status.busy": "2021-12-18T22:09:27.592052Z",
     "iopub.status.idle": "2021-12-18T22:09:27.600156Z",
     "shell.execute_reply": "2021-12-18T22:09:27.599803Z"
    }
   },
   "outputs": [
    {
     "name": "stdout",
     "output_type": "stream",
     "text": [
      "error: 'natDec' undefined near line 1, column 1\r\n"
     ]
    }
   ],
   "source": [
    "basis = natDec.basis"
   ]
  },
  {
   "cell_type": "markdown",
   "id": "6df07e82",
   "metadata": {},
   "source": [
    "The images of the two elements of $S_3$, ``[2 1 3]`` and ``[1 3 2]`` are indeed block-diagonal in this basis:"
   ]
  },
  {
   "cell_type": "code",
   "execution_count": 23,
   "id": "8a029d43",
   "metadata": {
    "execution": {
     "iopub.execute_input": "2021-12-18T22:09:27.602458Z",
     "iopub.status.busy": "2021-12-18T22:09:27.602054Z",
     "iopub.status.idle": "2021-12-18T22:09:27.614718Z",
     "shell.execute_reply": "2021-12-18T22:09:27.614379Z"
    }
   },
   "outputs": [
    {
     "name": "stdout",
     "output_type": "stream",
     "text": [
      "error: 'basis' undefined near line 1, column 1\r\n"
     ]
    },
    {
     "name": "stdout",
     "output_type": "stream",
     "text": [
      "error: 'basis' undefined near line 1, column 1\r\n"
     ]
    }
   ],
   "source": [
    "inv(basis)*natRep.image(element1)*basis\n",
    "inv(basis)*natRep.image(element2)*basis"
   ]
  },
  {
   "cell_type": "markdown",
   "id": "70ecc156",
   "metadata": {},
   "source": [
    "## Summary\n",
    "\n",
    "This shows that the natural representation of S(3) contains\n",
    "\n",
    "* One copy of the trivial representation of S(3)\n",
    "* One copy of the a faithful 2 x 2 representation of S(3)"
   ]
  }
 ],
 "metadata": {
  "jupytext": {
   "cell_metadata_filter": "-all",
   "main_language": "matlab",
   "notebook_metadata_filter": "-all",
   "text_representation": {
    "extension": ".m",
    "format_name": "light"
   }
  },
  "language_info": {
   "file_extension": ".m",
   "help_links": [
    {
     "text": "GNU Octave",
     "url": "https://www.gnu.org/software/octave/support.html"
    },
    {
     "text": "Octave Kernel",
     "url": "https://github.com/Calysto/octave_kernel"
    },
    {
     "text": "MetaKernel Magics",
     "url": "https://metakernel.readthedocs.io/en/latest/source/README.html"
    }
   ],
   "mimetype": "text/x-octave",
   "name": "octave",
   "version": "6.2.0"
  }
 },
 "nbformat": 4,
 "nbformat_minor": 5
}
