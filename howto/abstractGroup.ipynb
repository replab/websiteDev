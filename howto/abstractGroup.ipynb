{
 "cells": [
  {
   "cell_type": "markdown",
   "id": "c967d2c9",
   "metadata": {},
   "source": [
    "# Defining an abstract group\n",
    "\n",
    "This document illustrates how to define an abstract group in *RepLAB*.\n",
    "\n",
    "## Preparation\n",
    "As always, before using *RepLAB* commands, initialize the library:"
   ]
  },
  {
   "cell_type": "code",
   "execution_count": 1,
   "id": "0d05666b",
   "metadata": {
    "execution": {
     "iopub.execute_input": "2021-12-28T11:52:21.575380Z",
     "iopub.status.busy": "2021-12-28T11:52:21.574889Z",
     "iopub.status.idle": "2021-12-28T11:52:21.598987Z",
     "shell.execute_reply": "2021-12-28T11:52:21.598562Z"
    }
   },
   "outputs": [
    {
     "name": "stdout",
     "output_type": "stream",
     "text": [
      "error: 'replab_init' undefined near line 1, column 1\r\n"
     ]
    }
   ],
   "source": [
    "addpath([pwd, '/../..']);\n",
    "replab_init('verbose', 0);"
   ]
  },
  {
   "cell_type": "markdown",
   "id": "f3b11aa2",
   "metadata": {},
   "source": [
    "## Group definition\n",
    "\n",
    "An abstract group can be defined from its presentation. For instance,\n",
    "the cyclic group of order 3 can be defined as"
   ]
  },
  {
   "cell_type": "code",
   "execution_count": 2,
   "id": "e1431c3b",
   "metadata": {
    "execution": {
     "iopub.execute_input": "2021-12-28T11:52:21.601602Z",
     "iopub.status.busy": "2021-12-28T11:52:21.601186Z",
     "iopub.status.idle": "2021-12-28T11:52:21.608973Z",
     "shell.execute_reply": "2021-12-28T11:52:21.609298Z"
    }
   },
   "outputs": [
    {
     "name": "stdout",
     "output_type": "stream",
     "text": [
      "error: 'replab' undefined near line 1, column 1\r\n"
     ]
    }
   ],
   "source": [
    "group = replab.AbstractGroup.fromPresentation('< x | x^3 = 1 >')"
   ]
  }
 ],
 "metadata": {
  "jupytext": {
   "cell_metadata_filter": "-all",
   "main_language": "matlab",
   "notebook_metadata_filter": "-all",
   "text_representation": {
    "extension": ".m",
    "format_name": "light"
   }
  },
  "language_info": {
   "file_extension": ".m",
   "help_links": [
    {
     "text": "GNU Octave",
     "url": "https://www.gnu.org/software/octave/support.html"
    },
    {
     "text": "Octave Kernel",
     "url": "https://github.com/Calysto/octave_kernel"
    },
    {
     "text": "MetaKernel Magics",
     "url": "https://metakernel.readthedocs.io/en/latest/source/README.html"
    }
   ],
   "mimetype": "text/x-octave",
   "name": "octave",
   "version": "6.2.0"
  }
 },
 "nbformat": 4,
 "nbformat_minor": 5
}
