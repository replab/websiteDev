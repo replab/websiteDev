{
 "cells": [
  {
   "cell_type": "markdown",
   "id": "17ecce05",
   "metadata": {},
   "source": [
    "# Defining an abstract group\n",
    "\n",
    "This document illustrates how to define an abstract group in *RepLAB*.\n",
    "\n",
    "## Preparation\n",
    "As always, before using *RepLAB* commands, initialize the library:"
   ]
  },
  {
   "cell_type": "code",
   "execution_count": 1,
   "id": "a48365a4",
   "metadata": {
    "execution": {
     "iopub.execute_input": "2021-12-15T17:52:21.739443Z",
     "iopub.status.busy": "2021-12-15T17:52:21.735811Z",
     "iopub.status.idle": "2021-12-15T17:52:29.259013Z",
     "shell.execute_reply": "2021-12-15T17:52:29.258401Z"
    }
   },
   "outputs": [
    {
     "name": "stdout",
     "output_type": "stream",
     "text": [
      "replab_init: Initialization done.\r\n"
     ]
    }
   ],
   "source": [
    "addpath([pwd, '/../..']);\n",
    "replab_init('verbose', 0);"
   ]
  },
  {
   "cell_type": "markdown",
   "id": "4dde4758",
   "metadata": {},
   "source": [
    "## Group definition\n",
    "\n",
    "An abstract group can be defined from its presentation. For instance,\n",
    "the cyclic group of order 3 can be defined as"
   ]
  },
  {
   "cell_type": "code",
   "execution_count": 2,
   "id": "b857947f",
   "metadata": {
    "execution": {
     "iopub.execute_input": "2021-12-15T17:52:29.262375Z",
     "iopub.status.busy": "2021-12-15T17:52:29.261764Z",
     "iopub.status.idle": "2021-12-15T17:52:31.248905Z",
     "shell.execute_reply": "2021-12-15T17:52:31.247707Z"
    }
   },
   "outputs": [
    {
     "name": "stdout",
     "output_type": "stream",
     "text": [
      "group ="
     ]
    },
    {
     "name": "stdout",
     "output_type": "stream",
     "text": [
      "\r"
     ]
    },
    {
     "name": "stdout",
     "output_type": "stream",
     "text": [
      "\n"
     ]
    },
    {
     "name": "stdout",
     "output_type": "stream",
     "text": [
      "\r\n",
      "Abstract group\r\n",
      "           identity: '1'\r\n",
      "               name: 'Abstract group'\r\n",
      "generator(1 or 'x'): 'x'\r\n",
      "   recognize.source: Cyclic group C(3) of order 3 < x | x^3 = 1 >\r\n",
      "       relatorsWord: {'x^3'}\r\n",
      "\r\n"
     ]
    }
   ],
   "source": [
    "group = replab.AbstractGroup.fromPresentation('< x | x^3 = 1 >')"
   ]
  }
 ],
 "metadata": {
  "jupytext": {
   "cell_metadata_filter": "-all",
   "main_language": "matlab",
   "notebook_metadata_filter": "-all",
   "text_representation": {
    "extension": ".m",
    "format_name": "light"
   }
  },
  "language_info": {
   "file_extension": ".m",
   "help_links": [
    {
     "text": "GNU Octave",
     "url": "https://www.gnu.org/software/octave/support.html"
    },
    {
     "text": "Octave Kernel",
     "url": "https://github.com/Calysto/octave_kernel"
    },
    {
     "text": "MetaKernel Magics",
     "url": "https://metakernel.readthedocs.io/en/latest/source/README.html"
    }
   ],
   "mimetype": "text/x-octave",
   "name": "octave",
   "version": "6.2.0"
  }
 },
 "nbformat": 4,
 "nbformat_minor": 5
}
