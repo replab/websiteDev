{
 "cells": [
  {
   "cell_type": "markdown",
   "id": "a5031b27",
   "metadata": {},
   "source": [
    "# Defining an abstract group\n",
    "\n",
    "This document illustrates how to define an abstract group in *RepLAB*.\n",
    "\n",
    "## Preparation\n",
    "As always, before using *RepLAB* commands, initialize the library:"
   ]
  },
  {
   "cell_type": "code",
   "execution_count": 1,
   "id": "847eafa7",
   "metadata": {
    "execution": {
     "iopub.execute_input": "2021-12-20T14:16:26.820660Z",
     "iopub.status.busy": "2021-12-20T14:16:26.817617Z",
     "iopub.status.idle": "2021-12-20T14:16:26.841435Z",
     "shell.execute_reply": "2021-12-20T14:16:26.840877Z"
    }
   },
   "outputs": [
    {
     "name": "stdout",
     "output_type": "stream",
     "text": [
      "error: 'replab_init' undefined near line 1, column 1\r\n"
     ]
    }
   ],
   "source": [
    "addpath([pwd, '/../..']);\n",
    "replab_init('verbose', 0);"
   ]
  },
  {
   "cell_type": "markdown",
   "id": "7c6090e0",
   "metadata": {},
   "source": [
    "## Group definition\n",
    "\n",
    "An abstract group can be defined from its presentation. For instance,\n",
    "the cyclic group of order 3 can be defined as"
   ]
  },
  {
   "cell_type": "code",
   "execution_count": 2,
   "id": "1bfb53f2",
   "metadata": {
    "execution": {
     "iopub.execute_input": "2021-12-20T14:16:26.844548Z",
     "iopub.status.busy": "2021-12-20T14:16:26.844100Z",
     "iopub.status.idle": "2021-12-20T14:16:26.853775Z",
     "shell.execute_reply": "2021-12-20T14:16:26.853358Z"
    }
   },
   "outputs": [
    {
     "name": "stdout",
     "output_type": "stream",
     "text": [
      "error: 'replab' undefined near line 1, column 1\r\n"
     ]
    }
   ],
   "source": [
    "group = replab.AbstractGroup.fromPresentation('< x | x^3 = 1 >')"
   ]
  }
 ],
 "metadata": {
  "jupytext": {
   "cell_metadata_filter": "-all",
   "main_language": "matlab",
   "notebook_metadata_filter": "-all",
   "text_representation": {
    "extension": ".m",
    "format_name": "light"
   }
  },
  "language_info": {
   "file_extension": ".m",
   "help_links": [
    {
     "text": "GNU Octave",
     "url": "https://www.gnu.org/software/octave/support.html"
    },
    {
     "text": "Octave Kernel",
     "url": "https://github.com/Calysto/octave_kernel"
    },
    {
     "text": "MetaKernel Magics",
     "url": "https://metakernel.readthedocs.io/en/latest/source/README.html"
    }
   ],
   "mimetype": "text/x-octave",
   "name": "octave",
   "version": "6.2.0"
  }
 },
 "nbformat": 4,
 "nbformat_minor": 5
}
