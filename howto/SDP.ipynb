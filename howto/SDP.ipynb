{
 "cells": [
  {
   "cell_type": "markdown",
   "id": "3258d282",
   "metadata": {},
   "source": [
    "# Symmetric SDPs\n",
    "\n",
    "This document shows how to define an SDP variable with *RepLAB* which satisfies some symmetry constraints."
   ]
  },
  {
   "cell_type": "markdown",
   "id": "23b9c22d",
   "metadata": {},
   "source": [
    "## Preparation\n",
    "As always, before using *RepLAB* commands, initialize the library:"
   ]
  },
  {
   "cell_type": "code",
   "execution_count": 1,
   "id": "d3d7cc56",
   "metadata": {
    "execution": {
     "iopub.execute_input": "2021-12-18T22:08:29.946684Z",
     "iopub.status.busy": "2021-12-18T22:08:29.946045Z",
     "iopub.status.idle": "2021-12-18T22:08:29.968882Z",
     "shell.execute_reply": "2021-12-18T22:08:29.968365Z"
    }
   },
   "outputs": [
    {
     "name": "stdout",
     "output_type": "stream",
     "text": [
      "error: 'replab_init' undefined near line 1, column 1\r\n"
     ]
    }
   ],
   "source": [
    "addpath([pwd, '/../..']);\n",
    "replab_init('verbose', 0);"
   ]
  },
  {
   "cell_type": "markdown",
   "id": "a82ba2aa",
   "metadata": {},
   "source": [
    "## Invariant SDP matrix\n",
    "\n",
    "Consider that we wish to describe a $3 \\times 3$ matrix that is invariant\n",
    "under cyclic relabelling of its rows and columns. In other words, the matrix\n",
    "should satisfy the constraint M(permutation, permutation) == M for"
   ]
  },
  {
   "cell_type": "code",
   "execution_count": 2,
   "id": "e6dba5a5",
   "metadata": {
    "execution": {
     "iopub.execute_input": "2021-12-18T22:08:29.971360Z",
     "iopub.status.busy": "2021-12-18T22:08:29.970942Z",
     "iopub.status.idle": "2021-12-18T22:08:29.976511Z",
     "shell.execute_reply": "2021-12-18T22:08:29.976140Z"
    }
   },
   "outputs": [],
   "source": [
    "permutation = [2 3 1];"
   ]
  },
  {
   "cell_type": "markdown",
   "id": "384e34d0",
   "metadata": {},
   "source": [
    "This is achieved by parametrizing the corresponding commutant with the following command"
   ]
  },
  {
   "cell_type": "code",
   "execution_count": 3,
   "id": "65d81e2d",
   "metadata": {
    "execution": {
     "iopub.execute_input": "2021-12-18T22:08:29.979031Z",
     "iopub.status.busy": "2021-12-18T22:08:29.978620Z",
     "iopub.status.idle": "2021-12-18T22:08:29.987267Z",
     "shell.execute_reply": "2021-12-18T22:08:29.986919Z"
    }
   },
   "outputs": [
    {
     "name": "stdout",
     "output_type": "stream",
     "text": [
      "error: 'replab' undefined near line 1, column 1\r\n"
     ]
    }
   ],
   "source": [
    "M = replab.CommutantVar.fromPermutations({permutation}, 'symmetric', 'real')"
   ]
  },
  {
   "cell_type": "markdown",
   "id": "af438278",
   "metadata": {},
   "source": [
    "Here, we additionally require the matrix to be symmetric and real.\n",
    "The SDP matrix $M$ involves only 2 variables, corresponding to the only degrees of freedom left by the constraints. Here is their parametrization:"
   ]
  },
  {
   "cell_type": "code",
   "execution_count": 4,
   "id": "b323055f",
   "metadata": {
    "execution": {
     "iopub.execute_input": "2021-12-18T22:08:29.989886Z",
     "iopub.status.busy": "2021-12-18T22:08:29.989471Z",
     "iopub.status.idle": "2021-12-18T22:08:29.997032Z",
     "shell.execute_reply": "2021-12-18T22:08:29.996662Z"
    }
   },
   "outputs": [
    {
     "name": "stdout",
     "output_type": "stream",
     "text": [
      "error: 'M' undefined near line 1, column 1\r\n"
     ]
    }
   ],
   "source": [
    "see(M.fullMatrix)"
   ]
  }
 ],
 "metadata": {
  "jupytext": {
   "cell_metadata_filter": "-all",
   "main_language": "matlab",
   "notebook_metadata_filter": "-all",
   "text_representation": {
    "extension": ".m",
    "format_name": "light"
   }
  },
  "language_info": {
   "file_extension": ".m",
   "help_links": [
    {
     "text": "GNU Octave",
     "url": "https://www.gnu.org/software/octave/support.html"
    },
    {
     "text": "Octave Kernel",
     "url": "https://github.com/Calysto/octave_kernel"
    },
    {
     "text": "MetaKernel Magics",
     "url": "https://metakernel.readthedocs.io/en/latest/source/README.html"
    }
   ],
   "mimetype": "text/x-octave",
   "name": "octave",
   "version": "6.2.0"
  }
 },
 "nbformat": 4,
 "nbformat_minor": 5
}
