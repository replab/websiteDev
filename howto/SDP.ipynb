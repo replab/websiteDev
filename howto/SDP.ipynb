{
 "cells": [
  {
   "cell_type": "markdown",
   "id": "dddcfa60",
   "metadata": {},
   "source": [
    "# Symmetric SDPs\n",
    "\n",
    "This document shows how to define an SDP variable with *RepLAB* which satisfies some symmetry constraints."
   ]
  },
  {
   "cell_type": "markdown",
   "id": "25f0f0a3",
   "metadata": {},
   "source": [
    "## Preparation\n",
    "As always, before using *RepLAB* commands, initialize the library:"
   ]
  },
  {
   "cell_type": "code",
   "execution_count": 1,
   "id": "4b291305",
   "metadata": {
    "execution": {
     "iopub.execute_input": "2021-12-15T18:17:41.213602Z",
     "iopub.status.busy": "2021-12-15T18:17:41.212999Z",
     "iopub.status.idle": "2021-12-15T18:17:46.789414Z",
     "shell.execute_reply": "2021-12-15T18:17:46.788955Z"
    }
   },
   "outputs": [
    {
     "name": "stdout",
     "output_type": "stream",
     "text": [
      "replab_init: Initialization done.\r\n"
     ]
    }
   ],
   "source": [
    "addpath([pwd, '/../..']);\n",
    "replab_init('verbose', 0);"
   ]
  },
  {
   "cell_type": "markdown",
   "id": "6160c355",
   "metadata": {},
   "source": [
    "## Invariant SDP matrix\n",
    "\n",
    "Consider that we wish to describe a $3 \\times 3$ matrix that is invariant\n",
    "under cyclic relabelling of its rows and columns. In other words, the matrix\n",
    "should satisfy the constraint M(permutation, permutation) == M for"
   ]
  },
  {
   "cell_type": "code",
   "execution_count": 2,
   "id": "40b2dad5",
   "metadata": {
    "execution": {
     "iopub.execute_input": "2021-12-15T18:17:46.792457Z",
     "iopub.status.busy": "2021-12-15T18:17:46.792024Z",
     "iopub.status.idle": "2021-12-15T18:17:46.802685Z",
     "shell.execute_reply": "2021-12-15T18:17:46.802306Z"
    }
   },
   "outputs": [],
   "source": [
    "permutation = [2 3 1];"
   ]
  },
  {
   "cell_type": "markdown",
   "id": "96ca7cc4",
   "metadata": {},
   "source": [
    "This is achieved by parametrizing the corresponding commutant with the following command"
   ]
  },
  {
   "cell_type": "code",
   "execution_count": 3,
   "id": "0212284d",
   "metadata": {
    "execution": {
     "iopub.execute_input": "2021-12-15T18:17:46.805512Z",
     "iopub.status.busy": "2021-12-15T18:17:46.805095Z",
     "iopub.status.idle": "2021-12-15T18:17:48.329625Z",
     "shell.execute_reply": "2021-12-15T18:17:48.329252Z"
    }
   },
   "outputs": [
    {
     "name": "stdout",
     "output_type": "stream",
     "text": [
      "warning: -largeArrayDims and -compatibleArrayDims are accepted for compatibility, but ignored"
     ]
    },
    {
     "name": "stdout",
     "output_type": "stream",
     "text": [
      "\r"
     ]
    },
    {
     "name": "stdout",
     "output_type": "stream",
     "text": [
      "\n",
      "M ="
     ]
    },
    {
     "name": "stdout",
     "output_type": "stream",
     "text": [
      "\r"
     ]
    },
    {
     "name": "stdout",
     "output_type": "stream",
     "text": [
      "\n"
     ]
    },
    {
     "name": "stdout",
     "output_type": "stream",
     "text": [
      "\r\n",
      "Commutant variable 3x3 (2 blocks, 2 scalar variables)\r\n",
      "           dim: 3\r\n",
      "   dimensions1: [1, 2]\r\n",
      "         field: 'real'\r\n",
      "    matrixType: 'symmetric'\r\n",
      "multiplicities: [1, 1]\r\n",
      "         types: 'RC'\r\n",
      "             U: 3 x 3 double\r\n",
      "        blocks: [1, 2]\r\n",
      "\r\n"
     ]
    }
   ],
   "source": [
    "M = replab.CommutantVar.fromPermutations({permutation}, 'symmetric', 'real')"
   ]
  },
  {
   "cell_type": "markdown",
   "id": "a2363d09",
   "metadata": {},
   "source": [
    "Here, we additionally require the matrix to be symmetric and real.\n",
    "The SDP matrix $M$ involves only 2 variables, corresponding to the only degrees of freedom left by the constraints. Here is their parametrization:"
   ]
  },
  {
   "cell_type": "code",
   "execution_count": 4,
   "id": "c5d71320",
   "metadata": {
    "execution": {
     "iopub.execute_input": "2021-12-15T18:17:48.332315Z",
     "iopub.status.busy": "2021-12-15T18:17:48.331838Z",
     "iopub.status.idle": "2021-12-15T18:17:48.378584Z",
     "shell.execute_reply": "2021-12-15T18:17:48.378158Z"
    }
   },
   "outputs": [
    {
     "name": "stdout",
     "output_type": "stream",
     "text": [
      " \r\n",
      "Constant matrix\r\n",
      " \r\n",
      "   0   0   0\r\n",
      "   0   0   0\r\n",
      "   0   0   0\r\n",
      "Base matrices\r\n",
      " \r\n",
      "   0.3333   0.3333   0.3333\r\n",
      "   0.3333   0.3333   0.3333\r\n",
      "   0.3333   0.3333   0.3333\r\n",
      " \r\n",
      "   0.6667  -0.3333  -0.3333\r\n",
      "  -0.3333   0.6667  -0.3333\r\n",
      "  -0.3333  -0.3333   0.6667\r\n",
      " \r\n",
      "Used variables\r\n",
      " \r\n",
      "   4   5\r\n"
     ]
    }
   ],
   "source": [
    "see(M.fullMatrix)"
   ]
  }
 ],
 "metadata": {
  "jupytext": {
   "cell_metadata_filter": "-all",
   "main_language": "matlab",
   "notebook_metadata_filter": "-all",
   "text_representation": {
    "extension": ".m",
    "format_name": "light"
   }
  },
  "language_info": {
   "file_extension": ".m",
   "help_links": [
    {
     "text": "GNU Octave",
     "url": "https://www.gnu.org/software/octave/support.html"
    },
    {
     "text": "Octave Kernel",
     "url": "https://github.com/Calysto/octave_kernel"
    },
    {
     "text": "MetaKernel Magics",
     "url": "https://metakernel.readthedocs.io/en/latest/source/README.html"
    }
   ],
   "mimetype": "text/x-octave",
   "name": "octave",
   "version": "6.2.0"
  }
 },
 "nbformat": 4,
 "nbformat_minor": 5
}
