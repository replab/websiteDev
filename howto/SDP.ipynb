{
 "cells": [
  {
   "cell_type": "markdown",
   "id": "da8f0b3e",
   "metadata": {},
   "source": [
    "# Symmetric SDPs\n",
    "\n",
    "This document shows how to define an SDP variable with *RepLAB* which satisfies some symmetry constraints."
   ]
  },
  {
   "cell_type": "markdown",
   "id": "c93bf04a",
   "metadata": {},
   "source": [
    "## Preparation\n",
    "As always, before using *RepLAB* commands, initialize the library:"
   ]
  },
  {
   "cell_type": "code",
   "execution_count": 1,
   "id": "f2665eb0",
   "metadata": {
    "execution": {
     "iopub.execute_input": "2021-12-28T10:51:44.313873Z",
     "iopub.status.busy": "2021-12-28T10:51:44.313324Z",
     "iopub.status.idle": "2021-12-28T10:51:44.336848Z",
     "shell.execute_reply": "2021-12-28T10:51:44.336333Z"
    }
   },
   "outputs": [
    {
     "name": "stdout",
     "output_type": "stream",
     "text": [
      "error: 'replab_init' undefined near line 1, column 1\r\n"
     ]
    }
   ],
   "source": [
    "addpath([pwd, '/../..']);\n",
    "replab_init('verbose', 0);"
   ]
  },
  {
   "cell_type": "markdown",
   "id": "27331b01",
   "metadata": {},
   "source": [
    "## Invariant SDP matrix\n",
    "\n",
    "Consider that we wish to describe a $3 \\times 3$ matrix that is invariant\n",
    "under cyclic relabelling of its rows and columns. In other words, the matrix\n",
    "should satisfy the constraint M(permutation, permutation) == M for"
   ]
  },
  {
   "cell_type": "code",
   "execution_count": 2,
   "id": "3c32ee9f",
   "metadata": {
    "execution": {
     "iopub.execute_input": "2021-12-28T10:51:44.340952Z",
     "iopub.status.busy": "2021-12-28T10:51:44.340494Z",
     "iopub.status.idle": "2021-12-28T10:51:44.345177Z",
     "shell.execute_reply": "2021-12-28T10:51:44.344728Z"
    }
   },
   "outputs": [],
   "source": [
    "permutation = [2 3 1];"
   ]
  },
  {
   "cell_type": "markdown",
   "id": "a8404635",
   "metadata": {},
   "source": [
    "This is achieved by parametrizing the corresponding commutant with the following command"
   ]
  },
  {
   "cell_type": "code",
   "execution_count": 3,
   "id": "2bbbb861",
   "metadata": {
    "execution": {
     "iopub.execute_input": "2021-12-28T10:51:44.351552Z",
     "iopub.status.busy": "2021-12-28T10:51:44.347042Z",
     "iopub.status.idle": "2021-12-28T10:51:44.357459Z",
     "shell.execute_reply": "2021-12-28T10:51:44.357017Z"
    }
   },
   "outputs": [
    {
     "name": "stdout",
     "output_type": "stream",
     "text": [
      "error: 'replab' undefined near line 1, column 1\r\n"
     ]
    }
   ],
   "source": [
    "M = replab.CommutantVar.fromPermutations({permutation}, 'symmetric', 'real')"
   ]
  },
  {
   "cell_type": "markdown",
   "id": "23b4e641",
   "metadata": {},
   "source": [
    "Here, we additionally require the matrix to be symmetric and real.\n",
    "The SDP matrix $M$ involves only 2 variables, corresponding to the only degrees of freedom left by the constraints. Here is their parametrization:"
   ]
  },
  {
   "cell_type": "code",
   "execution_count": 4,
   "id": "0730153f",
   "metadata": {
    "execution": {
     "iopub.execute_input": "2021-12-28T10:51:44.360090Z",
     "iopub.status.busy": "2021-12-28T10:51:44.359668Z",
     "iopub.status.idle": "2021-12-28T10:51:44.369805Z",
     "shell.execute_reply": "2021-12-28T10:51:44.369421Z"
    }
   },
   "outputs": [
    {
     "name": "stdout",
     "output_type": "stream",
     "text": [
      "error: 'M' undefined near line 1, column 1\r\n"
     ]
    }
   ],
   "source": [
    "see(M.fullMatrix)"
   ]
  }
 ],
 "metadata": {
  "jupytext": {
   "cell_metadata_filter": "-all",
   "main_language": "matlab",
   "notebook_metadata_filter": "-all",
   "text_representation": {
    "extension": ".m",
    "format_name": "light"
   }
  },
  "language_info": {
   "file_extension": ".m",
   "help_links": [
    {
     "text": "GNU Octave",
     "url": "https://www.gnu.org/software/octave/support.html"
    },
    {
     "text": "Octave Kernel",
     "url": "https://github.com/Calysto/octave_kernel"
    },
    {
     "text": "MetaKernel Magics",
     "url": "https://metakernel.readthedocs.io/en/latest/source/README.html"
    }
   ],
   "mimetype": "text/x-octave",
   "name": "octave",
   "version": "6.2.0"
  }
 },
 "nbformat": 4,
 "nbformat_minor": 5
}
