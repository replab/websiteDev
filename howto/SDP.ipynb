{
 "cells": [
  {
   "cell_type": "markdown",
   "id": "dea27de6",
   "metadata": {},
   "source": [
    "# Symmetric SDPs\n",
    "\n",
    "This document shows how to define an SDP variable with *RepLAB* which satisfies some symmetry constraints."
   ]
  },
  {
   "cell_type": "markdown",
   "id": "fe5aa47f",
   "metadata": {},
   "source": [
    "## Preparation\n",
    "As always, before using *RepLAB* commands, initialize the library:"
   ]
  },
  {
   "cell_type": "code",
   "execution_count": 1,
   "id": "9700b7dd",
   "metadata": {
    "execution": {
     "iopub.execute_input": "2021-12-28T11:52:18.878331Z",
     "iopub.status.busy": "2021-12-28T11:52:18.874942Z",
     "iopub.status.idle": "2021-12-28T11:52:18.898019Z",
     "shell.execute_reply": "2021-12-28T11:52:18.897518Z"
    }
   },
   "outputs": [
    {
     "name": "stdout",
     "output_type": "stream",
     "text": [
      "error: 'replab_init' undefined near line 1, column 1\r\n"
     ]
    }
   ],
   "source": [
    "addpath([pwd, '/../..']);\n",
    "replab_init('verbose', 0);"
   ]
  },
  {
   "cell_type": "markdown",
   "id": "fdd4fdb1",
   "metadata": {},
   "source": [
    "## Invariant SDP matrix\n",
    "\n",
    "Consider that we wish to describe a $3 \\times 3$ matrix that is invariant\n",
    "under cyclic relabelling of its rows and columns. In other words, the matrix\n",
    "should satisfy the constraint M(permutation, permutation) == M for"
   ]
  },
  {
   "cell_type": "code",
   "execution_count": 2,
   "id": "ca9438e9",
   "metadata": {
    "execution": {
     "iopub.execute_input": "2021-12-28T11:52:18.900486Z",
     "iopub.status.busy": "2021-12-28T11:52:18.900065Z",
     "iopub.status.idle": "2021-12-28T11:52:18.905776Z",
     "shell.execute_reply": "2021-12-28T11:52:18.905355Z"
    }
   },
   "outputs": [],
   "source": [
    "permutation = [2 3 1];"
   ]
  },
  {
   "cell_type": "markdown",
   "id": "7ab8bda0",
   "metadata": {},
   "source": [
    "This is achieved by parametrizing the corresponding commutant with the following command"
   ]
  },
  {
   "cell_type": "code",
   "execution_count": 3,
   "id": "c457cea9",
   "metadata": {
    "execution": {
     "iopub.execute_input": "2021-12-28T11:52:18.908354Z",
     "iopub.status.busy": "2021-12-28T11:52:18.907937Z",
     "iopub.status.idle": "2021-12-28T11:52:18.916133Z",
     "shell.execute_reply": "2021-12-28T11:52:18.915768Z"
    }
   },
   "outputs": [
    {
     "name": "stdout",
     "output_type": "stream",
     "text": [
      "error: 'replab' undefined near line 1, column 1\r\n"
     ]
    }
   ],
   "source": [
    "M = replab.CommutantVar.fromPermutations({permutation}, 'symmetric', 'real')"
   ]
  },
  {
   "cell_type": "markdown",
   "id": "273b9788",
   "metadata": {},
   "source": [
    "Here, we additionally require the matrix to be symmetric and real.\n",
    "The SDP matrix $M$ involves only 2 variables, corresponding to the only degrees of freedom left by the constraints. Here is their parametrization:"
   ]
  },
  {
   "cell_type": "code",
   "execution_count": 4,
   "id": "536ca5eb",
   "metadata": {
    "execution": {
     "iopub.execute_input": "2021-12-28T11:52:18.918726Z",
     "iopub.status.busy": "2021-12-28T11:52:18.918312Z",
     "iopub.status.idle": "2021-12-28T11:52:18.925873Z",
     "shell.execute_reply": "2021-12-28T11:52:18.925503Z"
    }
   },
   "outputs": [
    {
     "name": "stdout",
     "output_type": "stream",
     "text": [
      "error: 'M' undefined near line 1, column 1\r\n"
     ]
    }
   ],
   "source": [
    "see(M.fullMatrix)"
   ]
  }
 ],
 "metadata": {
  "jupytext": {
   "cell_metadata_filter": "-all",
   "main_language": "matlab",
   "notebook_metadata_filter": "-all",
   "text_representation": {
    "extension": ".m",
    "format_name": "light"
   }
  },
  "language_info": {
   "file_extension": ".m",
   "help_links": [
    {
     "text": "GNU Octave",
     "url": "https://www.gnu.org/software/octave/support.html"
    },
    {
     "text": "Octave Kernel",
     "url": "https://github.com/Calysto/octave_kernel"
    },
    {
     "text": "MetaKernel Magics",
     "url": "https://metakernel.readthedocs.io/en/latest/source/README.html"
    }
   ],
   "mimetype": "text/x-octave",
   "name": "octave",
   "version": "6.2.0"
  }
 },
 "nbformat": 4,
 "nbformat_minor": 5
}
