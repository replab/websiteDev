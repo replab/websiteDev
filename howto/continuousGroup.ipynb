{
 "cells": [
  {
   "cell_type": "markdown",
   "id": "c1c67cbb",
   "metadata": {},
   "source": [
    "# Defining a continuous group\n",
    "\n",
    "This document illustrates how to define a compact group in *RepLAB*.\n",
    "\n",
    "## Preparation\n",
    "As always, before using *RepLAB* commands, initialize the library:"
   ]
  },
  {
   "cell_type": "code",
   "execution_count": 1,
   "id": "d17b2c94",
   "metadata": {
    "execution": {
     "iopub.execute_input": "2021-12-07T09:49:28.452039Z",
     "iopub.status.busy": "2021-12-07T09:49:28.451337Z",
     "iopub.status.idle": "2021-12-07T09:49:36.175284Z",
     "shell.execute_reply": "2021-12-07T09:49:36.174651Z"
    }
   },
   "outputs": [
    {
     "name": "stdout",
     "output_type": "stream",
     "text": [
      "replab_init: Initialization done.\r\n"
     ]
    }
   ],
   "source": [
    "addpath([pwd, '/../..']);\n",
    "replab_init('verbose', 0);"
   ]
  },
  {
   "cell_type": "markdown",
   "id": "19d05e32",
   "metadata": {},
   "source": [
    "## Group definition\n",
    "\n",
    "The group of unitary matrices in dimension 2 can be constructed simply as"
   ]
  },
  {
   "cell_type": "code",
   "execution_count": 2,
   "id": "48611384",
   "metadata": {
    "execution": {
     "iopub.execute_input": "2021-12-07T09:49:36.179023Z",
     "iopub.status.busy": "2021-12-07T09:49:36.178477Z",
     "iopub.status.idle": "2021-12-07T09:49:36.224929Z",
     "shell.execute_reply": "2021-12-07T09:49:36.225306Z"
    }
   },
   "outputs": [
    {
     "name": "stdout",
     "output_type": "stream",
     "text": [
      "group =\r\n",
      "\r\n",
      "Unitary group U(2)\r\n",
      "  algebra: 'C'\r\n",
      " identity: [1, 0; 0, 1]\r\n",
      "isSpecial: false\r\n",
      "        n: 2\r\n",
      "\r\n"
     ]
    }
   ],
   "source": [
    "group = replab.U(2)"
   ]
  },
  {
   "cell_type": "markdown",
   "id": "46c06f96",
   "metadata": {
    "lines_to_next_cell": 2
   },
   "source": [
    "*RepLAB* integrates several standard compact groups, which can be constructed\n",
    "in a similar fashion. This includes in particular the special unitary group,\n",
    "the (special) orthogonal group and the symplectic group."
   ]
  }
 ],
 "metadata": {
  "jupytext": {
   "cell_metadata_filter": "-all",
   "main_language": "matlab",
   "notebook_metadata_filter": "-all",
   "text_representation": {
    "extension": ".m",
    "format_name": "light"
   }
  },
  "language_info": {
   "file_extension": ".m",
   "help_links": [
    {
     "text": "GNU Octave",
     "url": "https://www.gnu.org/software/octave/support.html"
    },
    {
     "text": "Octave Kernel",
     "url": "https://github.com/Calysto/octave_kernel"
    },
    {
     "text": "MetaKernel Magics",
     "url": "https://metakernel.readthedocs.io/en/latest/source/README.html"
    }
   ],
   "mimetype": "text/x-octave",
   "name": "octave",
   "version": "6.2.0"
  }
 },
 "nbformat": 4,
 "nbformat_minor": 5
}
