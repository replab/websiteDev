{
 "cells": [
  {
   "cell_type": "markdown",
   "id": "5f1d2ecb",
   "metadata": {},
   "source": [
    "# Defining a continuous group\n",
    "\n",
    "This document illustrates how to define a compact group in *RepLAB*.\n",
    "\n",
    "## Preparation\n",
    "As always, before using *RepLAB* commands, initialize the library:"
   ]
  },
  {
   "cell_type": "code",
   "execution_count": 1,
   "id": "684ceb43",
   "metadata": {
    "execution": {
     "iopub.execute_input": "2021-12-28T11:52:26.941661Z",
     "iopub.status.busy": "2021-12-28T11:52:26.938103Z",
     "iopub.status.idle": "2021-12-28T11:52:26.961818Z",
     "shell.execute_reply": "2021-12-28T11:52:26.961362Z"
    }
   },
   "outputs": [
    {
     "name": "stdout",
     "output_type": "stream",
     "text": [
      "error: 'replab_init' undefined near line 1, column 1\r\n"
     ]
    }
   ],
   "source": [
    "addpath([pwd, '/../..']);\n",
    "replab_init('verbose', 0);"
   ]
  },
  {
   "cell_type": "markdown",
   "id": "77ea66d0",
   "metadata": {},
   "source": [
    "## Group definition\n",
    "\n",
    "The group of unitary matrices in dimension 2 can be constructed simply as"
   ]
  },
  {
   "cell_type": "code",
   "execution_count": 2,
   "id": "9106e89e",
   "metadata": {
    "execution": {
     "iopub.execute_input": "2021-12-28T11:52:26.964234Z",
     "iopub.status.busy": "2021-12-28T11:52:26.963809Z",
     "iopub.status.idle": "2021-12-28T11:52:26.974212Z",
     "shell.execute_reply": "2021-12-28T11:52:26.973819Z"
    }
   },
   "outputs": [
    {
     "name": "stdout",
     "output_type": "stream",
     "text": [
      "error: 'replab' undefined near line 1, column 1\r\n"
     ]
    }
   ],
   "source": [
    "group = replab.U(2)"
   ]
  },
  {
   "cell_type": "markdown",
   "id": "e7b0db4b",
   "metadata": {},
   "source": [
    "*RepLAB* integrates several standard compact groups, which can be constructed\n",
    "in a similar fashion. This includes in particular the special unitary group,\n",
    "the (special) orthogonal group and the symplectic group."
   ]
  }
 ],
 "metadata": {
  "jupytext": {
   "cell_metadata_filter": "-all",
   "main_language": "matlab",
   "notebook_metadata_filter": "-all",
   "text_representation": {
    "extension": ".m",
    "format_name": "light"
   }
  },
  "language_info": {
   "file_extension": ".m",
   "help_links": [
    {
     "text": "GNU Octave",
     "url": "https://www.gnu.org/software/octave/support.html"
    },
    {
     "text": "Octave Kernel",
     "url": "https://github.com/Calysto/octave_kernel"
    },
    {
     "text": "MetaKernel Magics",
     "url": "https://metakernel.readthedocs.io/en/latest/source/README.html"
    }
   ],
   "mimetype": "text/x-octave",
   "name": "octave",
   "version": "6.2.0"
  }
 },
 "nbformat": 4,
 "nbformat_minor": 5
}
