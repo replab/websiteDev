{
 "cells": [
  {
   "cell_type": "markdown",
   "id": "ab13bc0f",
   "metadata": {},
   "source": [
    "# Group intersection\n",
    "\n",
    "This document illustrated how *RepLAB* can be used to compute the intersection between two permutation groups\n",
    "\n",
    "## Preparation\n",
    "As always, before using *RepLAB* commands, initialize the library:"
   ]
  },
  {
   "cell_type": "code",
   "execution_count": 1,
   "id": "8bd6112c",
   "metadata": {
    "execution": {
     "iopub.execute_input": "2021-12-28T11:52:42.954531Z",
     "iopub.status.busy": "2021-12-28T11:52:42.954061Z",
     "iopub.status.idle": "2021-12-28T11:52:42.975285Z",
     "shell.execute_reply": "2021-12-28T11:52:42.974802Z"
    }
   },
   "outputs": [
    {
     "name": "stdout",
     "output_type": "stream",
     "text": [
      "error: 'replab_init' undefined near line 1, column 1\r\n"
     ]
    }
   ],
   "source": [
    "addpath([pwd, '/../..']);\n",
    "replab_init('verbose', 0);"
   ]
  },
  {
   "cell_type": "markdown",
   "id": "a67c4e49",
   "metadata": {},
   "source": [
    "## Group definition\n",
    "\n",
    "In *RepLAB*, a permutation group is defined from its generators. For instance,\n",
    "we can define the group which permutes arbitrarily the first three elements among four element with the following two generators:"
   ]
  },
  {
   "cell_type": "code",
   "execution_count": 2,
   "id": "7d669d6e",
   "metadata": {
    "execution": {
     "iopub.execute_input": "2021-12-28T11:52:42.978331Z",
     "iopub.status.busy": "2021-12-28T11:52:42.977896Z",
     "iopub.status.idle": "2021-12-28T11:52:42.992949Z",
     "shell.execute_reply": "2021-12-28T11:52:42.992566Z"
    }
   },
   "outputs": [
    {
     "name": "stdout",
     "output_type": "stream",
     "text": [
      "error: 'replab' undefined near line 1, column 1\r\n"
     ]
    },
    {
     "name": "stdout",
     "output_type": "stream",
     "text": [
      "error: 'S4' undefined near line 1, column 1\r\n"
     ]
    }
   ],
   "source": [
    "generators1 = {[2 1 3 4], [2 3 1 4]};\n",
    "S4 = replab.S(4);\n",
    "G1 = S4.subgroup(generators1)"
   ]
  },
  {
   "cell_type": "code",
   "execution_count": 3,
   "id": "7b1e176a",
   "metadata": {
    "execution": {
     "iopub.execute_input": "2021-12-28T11:52:42.995589Z",
     "iopub.status.busy": "2021-12-28T11:52:42.995141Z",
     "iopub.status.idle": "2021-12-28T11:52:43.006069Z",
     "shell.execute_reply": "2021-12-28T11:52:43.005673Z"
    }
   },
   "outputs": [
    {
     "name": "stdout",
     "output_type": "stream",
     "text": [
      "error: 'S4' undefined near line 1, column 1\r\n"
     ]
    }
   ],
   "source": [
    "% Similarly, the group which permutes any of the (hence leaves 1 invariant)\n",
    "generators2 = {[1 3 2 4], [1 3 4 2]};\n",
    "G2 = S4.subgroup(generators2)"
   ]
  },
  {
   "cell_type": "markdown",
   "id": "630a3b34",
   "metadata": {},
   "source": [
    "## Intersection\n",
    "\n",
    "The intersection between these two groups is then simply obtained by calling"
   ]
  },
  {
   "cell_type": "code",
   "execution_count": 4,
   "id": "1b5dcedc",
   "metadata": {
    "execution": {
     "iopub.execute_input": "2021-12-28T11:52:43.008742Z",
     "iopub.status.busy": "2021-12-28T11:52:43.008325Z",
     "iopub.status.idle": "2021-12-28T11:52:43.015679Z",
     "shell.execute_reply": "2021-12-28T11:52:43.015322Z"
    }
   },
   "outputs": [
    {
     "name": "stdout",
     "output_type": "stream",
     "text": [
      "error: 'G1' undefined near line 1, column 1\r\n"
     ]
    }
   ],
   "source": [
    "G12 = intersection(G1, G2)"
   ]
  },
  {
   "cell_type": "markdown",
   "id": "286467f4",
   "metadata": {},
   "source": [
    "In this case, the intersection is the group which only permutes the two middle elements, i.e. S(2) action on elements 2 and 3."
   ]
  }
 ],
 "metadata": {
  "jupytext": {
   "cell_metadata_filter": "-all",
   "main_language": "matlab",
   "notebook_metadata_filter": "-all",
   "text_representation": {
    "extension": ".m",
    "format_name": "light"
   }
  },
  "language_info": {
   "file_extension": ".m",
   "help_links": [
    {
     "text": "GNU Octave",
     "url": "https://www.gnu.org/software/octave/support.html"
    },
    {
     "text": "Octave Kernel",
     "url": "https://github.com/Calysto/octave_kernel"
    },
    {
     "text": "MetaKernel Magics",
     "url": "https://metakernel.readthedocs.io/en/latest/source/README.html"
    }
   ],
   "mimetype": "text/x-octave",
   "name": "octave",
   "version": "6.2.0"
  }
 },
 "nbformat": 4,
 "nbformat_minor": 5
}
