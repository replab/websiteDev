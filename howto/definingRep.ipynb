{
 "cells": [
  {
   "cell_type": "markdown",
   "id": "e4bf7eda",
   "metadata": {},
   "source": [
    "# Defining representation\n",
    "\n",
    "This document shows how to construct the defining representation of a compact group in *RepLAB*.\n",
    "\n",
    "## Preparation\n",
    "As always, before using *RepLAB* commands, initialize the library:"
   ]
  },
  {
   "cell_type": "code",
   "execution_count": 1,
   "id": "c1e1a437",
   "metadata": {
    "execution": {
     "iopub.execute_input": "2021-12-15T18:18:28.688654Z",
     "iopub.status.busy": "2021-12-15T18:18:28.688226Z",
     "iopub.status.idle": "2021-12-15T18:18:34.031222Z",
     "shell.execute_reply": "2021-12-15T18:18:34.030499Z"
    }
   },
   "outputs": [
    {
     "name": "stdout",
     "output_type": "stream",
     "text": [
      "replab_init: Initialization done.\r\n"
     ]
    }
   ],
   "source": [
    "addpath([pwd, '/../..']);\n",
    "replab_init('verbose', 0);"
   ]
  },
  {
   "cell_type": "markdown",
   "id": "7cf17858",
   "metadata": {},
   "source": [
    "## Group definition\n",
    "\n",
    "Consider the group of unitary matrices in dimension $d=3$"
   ]
  },
  {
   "cell_type": "code",
   "execution_count": 2,
   "id": "1dc41502",
   "metadata": {
    "execution": {
     "iopub.execute_input": "2021-12-15T18:18:34.033699Z",
     "iopub.status.busy": "2021-12-15T18:18:34.033320Z",
     "iopub.status.idle": "2021-12-15T18:18:34.049837Z",
     "shell.execute_reply": "2021-12-15T18:18:34.049240Z"
    }
   },
   "outputs": [],
   "source": [
    "group = replab.U(3);"
   ]
  },
  {
   "cell_type": "markdown",
   "id": "3a6777c6",
   "metadata": {},
   "source": [
    "## Representation\n",
    "\n",
    "The defining representation is given by"
   ]
  },
  {
   "cell_type": "code",
   "execution_count": 3,
   "id": "8a9dd7b5",
   "metadata": {
    "execution": {
     "iopub.execute_input": "2021-12-15T18:18:34.052403Z",
     "iopub.status.busy": "2021-12-15T18:18:34.051785Z",
     "iopub.status.idle": "2021-12-15T18:18:34.094579Z",
     "shell.execute_reply": "2021-12-15T18:18:34.094164Z"
    }
   },
   "outputs": [
    {
     "name": "stdout",
     "output_type": "stream",
     "text": [
      "rep =\r\n",
      "\r\n",
      "Unitary fully nontrivial irreducible representation\r\n",
      "dimension: 3\r\n",
      "    field: 'C'\r\n",
      "    group: Unitary group U(3)\r\n",
      "isUnitary: true\r\n",
      "\r\n"
     ]
    }
   ],
   "source": [
    "rep = group.definingRep"
   ]
  }
 ],
 "metadata": {
  "jupytext": {
   "cell_metadata_filter": "-all",
   "main_language": "matlab",
   "notebook_metadata_filter": "-all",
   "text_representation": {
    "extension": ".m",
    "format_name": "light"
   }
  },
  "language_info": {
   "file_extension": ".m",
   "help_links": [
    {
     "text": "GNU Octave",
     "url": "https://www.gnu.org/software/octave/support.html"
    },
    {
     "text": "Octave Kernel",
     "url": "https://github.com/Calysto/octave_kernel"
    },
    {
     "text": "MetaKernel Magics",
     "url": "https://metakernel.readthedocs.io/en/latest/source/README.html"
    }
   ],
   "mimetype": "text/x-octave",
   "name": "octave",
   "version": "6.2.0"
  }
 },
 "nbformat": 4,
 "nbformat_minor": 5
}
