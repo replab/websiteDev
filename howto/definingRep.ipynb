{
 "cells": [
  {
   "cell_type": "markdown",
   "id": "2a8604ad",
   "metadata": {},
   "source": [
    "# Defining representation\n",
    "\n",
    "This document shows how to construct the defining representation of a compact group in *RepLAB*.\n",
    "\n",
    "## Preparation\n",
    "As always, before using *RepLAB* commands, initialize the library:"
   ]
  },
  {
   "cell_type": "code",
   "execution_count": 1,
   "id": "0530f4cd",
   "metadata": {
    "execution": {
     "iopub.execute_input": "2021-12-15T17:53:10.845126Z",
     "iopub.status.busy": "2021-12-15T17:53:10.844641Z",
     "iopub.status.idle": "2021-12-15T17:53:18.117994Z",
     "shell.execute_reply": "2021-12-15T17:53:18.118365Z"
    }
   },
   "outputs": [
    {
     "name": "stdout",
     "output_type": "stream",
     "text": [
      "replab_init: Initialization done.\r\n"
     ]
    }
   ],
   "source": [
    "addpath([pwd, '/../..']);\n",
    "replab_init('verbose', 0);"
   ]
  },
  {
   "cell_type": "markdown",
   "id": "68b0e4db",
   "metadata": {},
   "source": [
    "## Group definition\n",
    "\n",
    "Consider the group of unitary matrices in dimension $d=3$"
   ]
  },
  {
   "cell_type": "code",
   "execution_count": 2,
   "id": "f07a5ec4",
   "metadata": {
    "execution": {
     "iopub.execute_input": "2021-12-15T17:53:18.121801Z",
     "iopub.status.busy": "2021-12-15T17:53:18.121015Z",
     "iopub.status.idle": "2021-12-15T17:53:18.146177Z",
     "shell.execute_reply": "2021-12-15T17:53:18.146632Z"
    }
   },
   "outputs": [],
   "source": [
    "group = replab.U(3);"
   ]
  },
  {
   "cell_type": "markdown",
   "id": "ec2cfd04",
   "metadata": {},
   "source": [
    "## Representation\n",
    "\n",
    "The defining representation is given by"
   ]
  },
  {
   "cell_type": "code",
   "execution_count": 3,
   "id": "4637c365",
   "metadata": {
    "execution": {
     "iopub.execute_input": "2021-12-15T17:53:18.150054Z",
     "iopub.status.busy": "2021-12-15T17:53:18.149588Z",
     "iopub.status.idle": "2021-12-15T17:53:18.202933Z",
     "shell.execute_reply": "2021-12-15T17:53:18.202320Z"
    }
   },
   "outputs": [
    {
     "name": "stdout",
     "output_type": "stream",
     "text": [
      "rep =\r\n",
      "\r\n",
      "Unitary fully nontrivial irreducible representation\r\n",
      "dimension: 3\r\n",
      "    field: 'C'\r\n",
      "    group: Unitary group U(3)\r\n",
      "isUnitary: true\r\n",
      "\r\n"
     ]
    }
   ],
   "source": [
    "rep = group.definingRep"
   ]
  }
 ],
 "metadata": {
  "jupytext": {
   "cell_metadata_filter": "-all",
   "main_language": "matlab",
   "notebook_metadata_filter": "-all",
   "text_representation": {
    "extension": ".m",
    "format_name": "light"
   }
  },
  "language_info": {
   "file_extension": ".m",
   "help_links": [
    {
     "text": "GNU Octave",
     "url": "https://www.gnu.org/software/octave/support.html"
    },
    {
     "text": "Octave Kernel",
     "url": "https://github.com/Calysto/octave_kernel"
    },
    {
     "text": "MetaKernel Magics",
     "url": "https://metakernel.readthedocs.io/en/latest/source/README.html"
    }
   ],
   "mimetype": "text/x-octave",
   "name": "octave",
   "version": "6.2.0"
  }
 },
 "nbformat": 4,
 "nbformat_minor": 5
}
