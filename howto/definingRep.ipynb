{
 "cells": [
  {
   "cell_type": "markdown",
   "id": "feafe0d0",
   "metadata": {},
   "source": [
    "# Defining representation\n",
    "\n",
    "This document shows how to construct the defining representation of a compact group in *RepLAB*.\n",
    "\n",
    "## Preparation\n",
    "As always, before using *RepLAB* commands, initialize the library:"
   ]
  },
  {
   "cell_type": "code",
   "execution_count": 1,
   "id": "13a231f9",
   "metadata": {
    "execution": {
     "iopub.execute_input": "2021-12-18T22:08:43.104140Z",
     "iopub.status.busy": "2021-12-18T22:08:43.103663Z",
     "iopub.status.idle": "2021-12-18T22:08:43.127658Z",
     "shell.execute_reply": "2021-12-18T22:08:43.127229Z"
    }
   },
   "outputs": [
    {
     "name": "stdout",
     "output_type": "stream",
     "text": [
      "error: 'replab_init' undefined near line 1, column 1\r\n"
     ]
    }
   ],
   "source": [
    "addpath([pwd, '/../..']);\n",
    "replab_init('verbose', 0);"
   ]
  },
  {
   "cell_type": "markdown",
   "id": "86a9849c",
   "metadata": {},
   "source": [
    "## Group definition\n",
    "\n",
    "Consider the group of unitary matrices in dimension $d=3$"
   ]
  },
  {
   "cell_type": "code",
   "execution_count": 2,
   "id": "204a9e71",
   "metadata": {
    "execution": {
     "iopub.execute_input": "2021-12-18T22:08:43.130323Z",
     "iopub.status.busy": "2021-12-18T22:08:43.129901Z",
     "iopub.status.idle": "2021-12-18T22:08:43.138117Z",
     "shell.execute_reply": "2021-12-18T22:08:43.137759Z"
    }
   },
   "outputs": [
    {
     "name": "stdout",
     "output_type": "stream",
     "text": [
      "error: 'replab' undefined near line 1, column 1\r\n"
     ]
    }
   ],
   "source": [
    "group = replab.U(3);"
   ]
  },
  {
   "cell_type": "markdown",
   "id": "6dc8cd53",
   "metadata": {},
   "source": [
    "## Representation\n",
    "\n",
    "The defining representation is given by"
   ]
  },
  {
   "cell_type": "code",
   "execution_count": 3,
   "id": "13211376",
   "metadata": {
    "execution": {
     "iopub.execute_input": "2021-12-18T22:08:43.140655Z",
     "iopub.status.busy": "2021-12-18T22:08:43.140237Z",
     "iopub.status.idle": "2021-12-18T22:08:43.148037Z",
     "shell.execute_reply": "2021-12-18T22:08:43.148359Z"
    }
   },
   "outputs": [
    {
     "name": "stdout",
     "output_type": "stream",
     "text": [
      "error: 'group' undefined near line 1, column 1\r\n"
     ]
    }
   ],
   "source": [
    "rep = group.definingRep"
   ]
  }
 ],
 "metadata": {
  "jupytext": {
   "cell_metadata_filter": "-all",
   "main_language": "matlab",
   "notebook_metadata_filter": "-all",
   "text_representation": {
    "extension": ".m",
    "format_name": "light"
   }
  },
  "language_info": {
   "file_extension": ".m",
   "help_links": [
    {
     "text": "GNU Octave",
     "url": "https://www.gnu.org/software/octave/support.html"
    },
    {
     "text": "Octave Kernel",
     "url": "https://github.com/Calysto/octave_kernel"
    },
    {
     "text": "MetaKernel Magics",
     "url": "https://metakernel.readthedocs.io/en/latest/source/README.html"
    }
   ],
   "mimetype": "text/x-octave",
   "name": "octave",
   "version": "6.2.0"
  }
 },
 "nbformat": 4,
 "nbformat_minor": 5
}
