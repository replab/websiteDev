{
 "cells": [
  {
   "cell_type": "markdown",
   "id": "e419eb16",
   "metadata": {},
   "source": [
    "# Defining representation\n",
    "\n",
    "This document shows how to construct the defining representation of a compact group in *RepLAB*.\n",
    "\n",
    "## Preparation\n",
    "As always, before using *RepLAB* commands, initialize the library:"
   ]
  },
  {
   "cell_type": "code",
   "execution_count": 1,
   "id": "99ecfc02",
   "metadata": {
    "execution": {
     "iopub.execute_input": "2021-12-20T14:16:37.559231Z",
     "iopub.status.busy": "2021-12-20T14:16:37.558788Z",
     "iopub.status.idle": "2021-12-20T14:16:37.585730Z",
     "shell.execute_reply": "2021-12-20T14:16:37.585198Z"
    }
   },
   "outputs": [
    {
     "name": "stdout",
     "output_type": "stream",
     "text": [
      "error: 'replab_init' undefined near line 1, column 1\r\n"
     ]
    }
   ],
   "source": [
    "addpath([pwd, '/../..']);\n",
    "replab_init('verbose', 0);"
   ]
  },
  {
   "cell_type": "markdown",
   "id": "19ac135e",
   "metadata": {},
   "source": [
    "## Group definition\n",
    "\n",
    "Consider the group of unitary matrices in dimension $d=3$"
   ]
  },
  {
   "cell_type": "code",
   "execution_count": 2,
   "id": "59d9ff0e",
   "metadata": {
    "execution": {
     "iopub.execute_input": "2021-12-20T14:16:37.588731Z",
     "iopub.status.busy": "2021-12-20T14:16:37.588220Z",
     "iopub.status.idle": "2021-12-20T14:16:37.598466Z",
     "shell.execute_reply": "2021-12-20T14:16:37.598078Z"
    }
   },
   "outputs": [
    {
     "name": "stdout",
     "output_type": "stream",
     "text": [
      "error: 'replab' undefined near line 1, column 1\r\n"
     ]
    }
   ],
   "source": [
    "group = replab.U(3);"
   ]
  },
  {
   "cell_type": "markdown",
   "id": "624f77ac",
   "metadata": {},
   "source": [
    "## Representation\n",
    "\n",
    "The defining representation is given by"
   ]
  },
  {
   "cell_type": "code",
   "execution_count": 3,
   "id": "b65f8ddb",
   "metadata": {
    "execution": {
     "iopub.execute_input": "2021-12-20T14:16:37.601407Z",
     "iopub.status.busy": "2021-12-20T14:16:37.600978Z",
     "iopub.status.idle": "2021-12-20T14:16:37.610251Z",
     "shell.execute_reply": "2021-12-20T14:16:37.609880Z"
    }
   },
   "outputs": [
    {
     "name": "stdout",
     "output_type": "stream",
     "text": [
      "error: 'group' undefined near line 1, column 1\r\n"
     ]
    }
   ],
   "source": [
    "rep = group.definingRep"
   ]
  }
 ],
 "metadata": {
  "jupytext": {
   "cell_metadata_filter": "-all",
   "main_language": "matlab",
   "notebook_metadata_filter": "-all",
   "text_representation": {
    "extension": ".m",
    "format_name": "light"
   }
  },
  "language_info": {
   "file_extension": ".m",
   "help_links": [
    {
     "text": "GNU Octave",
     "url": "https://www.gnu.org/software/octave/support.html"
    },
    {
     "text": "Octave Kernel",
     "url": "https://github.com/Calysto/octave_kernel"
    },
    {
     "text": "MetaKernel Magics",
     "url": "https://metakernel.readthedocs.io/en/latest/source/README.html"
    }
   ],
   "mimetype": "text/x-octave",
   "name": "octave",
   "version": "6.2.0"
  }
 },
 "nbformat": 4,
 "nbformat_minor": 5
}
