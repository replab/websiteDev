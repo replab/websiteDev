{
 "cells": [
  {
   "cell_type": "markdown",
   "id": "56dfa0fc",
   "metadata": {},
   "source": [
    "# Averaging a matrix over a continuous group\n",
    "\n",
    "This document shows how to compute the average of a matrix $M$ over the representation of a compact group in *RepLAB*.\n",
    "\n",
    "## Preparation\n",
    "As always, before using *RepLAB* commands, initialize the library:"
   ]
  },
  {
   "cell_type": "code",
   "execution_count": 1,
   "id": "e6fb3301",
   "metadata": {
    "execution": {
     "iopub.execute_input": "2021-12-20T14:16:29.334732Z",
     "iopub.status.busy": "2021-12-20T14:16:29.334294Z",
     "iopub.status.idle": "2021-12-20T14:16:29.360625Z",
     "shell.execute_reply": "2021-12-20T14:16:29.360061Z"
    }
   },
   "outputs": [
    {
     "name": "stdout",
     "output_type": "stream",
     "text": [
      "error: 'replab_init' undefined near line 1, column 1\r\n"
     ]
    }
   ],
   "source": [
    "addpath([pwd, '/../..']);\n",
    "replab_init('verbose', 0);"
   ]
  },
  {
   "cell_type": "markdown",
   "id": "13bb3b60",
   "metadata": {},
   "source": [
    "## Matrix to be averaged\n",
    "\n",
    "Let us consider a random matrix"
   ]
  },
  {
   "cell_type": "code",
   "execution_count": 2,
   "id": "f71c3fc1",
   "metadata": {
    "execution": {
     "iopub.execute_input": "2021-12-20T14:16:29.363286Z",
     "iopub.status.busy": "2021-12-20T14:16:29.362891Z",
     "iopub.status.idle": "2021-12-20T14:16:29.370106Z",
     "shell.execute_reply": "2021-12-20T14:16:29.369708Z"
    }
   },
   "outputs": [
    {
     "name": "stdout",
     "output_type": "stream",
     "text": [
      "M =\r\n",
      "\r\n",
      "   0.573556   0.732351   0.019476   0.213197\r\n",
      "   0.473257   0.163937   0.697539   0.700259\r\n",
      "   0.412164   0.912101   0.187632   0.367241\r\n",
      "   0.872807   0.710376   0.993364   0.547149\r\n",
      "\r\n"
     ]
    }
   ],
   "source": [
    "M = rand(4)"
   ]
  },
  {
   "cell_type": "markdown",
   "id": "329bfc55",
   "metadata": {},
   "source": [
    "Our aim is to compute the average $\\sum_{g\\in G} R_g M R_g^\\dag$ over a continuous group $G$,\n",
    "where $R_g$ is a representation of the group element $g$."
   ]
  },
  {
   "cell_type": "markdown",
   "id": "5631d8e4",
   "metadata": {},
   "source": [
    "## Group and representation definition\n",
    "\n",
    "Let us consider the group of special orthogonal matrices with determinant equal to 1 in dimension 2"
   ]
  },
  {
   "cell_type": "code",
   "execution_count": 3,
   "id": "79399d14",
   "metadata": {
    "execution": {
     "iopub.execute_input": "2021-12-20T14:16:29.373119Z",
     "iopub.status.busy": "2021-12-20T14:16:29.372740Z",
     "iopub.status.idle": "2021-12-20T14:16:29.382120Z",
     "shell.execute_reply": "2021-12-20T14:16:29.381656Z"
    }
   },
   "outputs": [
    {
     "name": "stdout",
     "output_type": "stream",
     "text": [
      "error: 'replab' undefined near line 1, column 1\r\n"
     ]
    }
   ],
   "source": [
    "group = replab.SO(2)"
   ]
  },
  {
   "cell_type": "markdown",
   "id": "c5b9a127",
   "metadata": {},
   "source": [
    "We consider the 4-dimensional tensor representation of this group $R=SO(2)\\times SO(2)$"
   ]
  },
  {
   "cell_type": "code",
   "execution_count": 4,
   "id": "2c0898ee",
   "metadata": {
    "execution": {
     "iopub.execute_input": "2021-12-20T14:16:29.384808Z",
     "iopub.status.busy": "2021-12-20T14:16:29.384378Z",
     "iopub.status.idle": "2021-12-20T14:16:29.392574Z",
     "shell.execute_reply": "2021-12-20T14:16:29.392921Z"
    },
    "lines_to_next_cell": 2
   },
   "outputs": [
    {
     "name": "stdout",
     "output_type": "stream",
     "text": [
      "error: 'group' undefined near line 1, column 1\r\n"
     ]
    }
   ],
   "source": [
    "rep = kron(group.definingRep, group.definingRep)"
   ]
  },
  {
   "cell_type": "markdown",
   "id": "b633e371",
   "metadata": {},
   "source": [
    "## Averaging over the group\n",
    "\n",
    "The averaging is done by projecting our matrix onto the commutant of the representation"
   ]
  },
  {
   "cell_type": "code",
   "execution_count": 5,
   "id": "6fd8e94a",
   "metadata": {
    "execution": {
     "iopub.execute_input": "2021-12-20T14:16:29.403442Z",
     "iopub.status.busy": "2021-12-20T14:16:29.399768Z",
     "iopub.status.idle": "2021-12-20T14:16:29.405352Z",
     "shell.execute_reply": "2021-12-20T14:16:29.405935Z"
    }
   },
   "outputs": [
    {
     "name": "stdout",
     "output_type": "stream",
     "text": [
      "error: 'rep' undefined near line 1, column 1\r\n"
     ]
    }
   ],
   "source": [
    "com = rep.commutant;"
   ]
  },
  {
   "cell_type": "code",
   "execution_count": 6,
   "id": "6f8c1527",
   "metadata": {
    "execution": {
     "iopub.execute_input": "2021-12-20T14:16:29.408411Z",
     "iopub.status.busy": "2021-12-20T14:16:29.407969Z",
     "iopub.status.idle": "2021-12-20T14:16:29.416529Z",
     "shell.execute_reply": "2021-12-20T14:16:29.416123Z"
    }
   },
   "outputs": [
    {
     "name": "stdout",
     "output_type": "stream",
     "text": [
      "error: 'com' undefined near line 1, column 1\r\n"
     ]
    }
   ],
   "source": [
    "MP = com.project(M)"
   ]
  },
  {
   "cell_type": "markdown",
   "id": "38897056",
   "metadata": {},
   "source": [
    "We can check that the matrix is now invariant over actions of the representation"
   ]
  },
  {
   "cell_type": "code",
   "execution_count": 7,
   "id": "4a736d71",
   "metadata": {
    "execution": {
     "iopub.execute_input": "2021-12-20T14:16:29.418964Z",
     "iopub.status.busy": "2021-12-20T14:16:29.418553Z",
     "iopub.status.idle": "2021-12-20T14:16:29.432138Z",
     "shell.execute_reply": "2021-12-20T14:16:29.431775Z"
    }
   },
   "outputs": [
    {
     "name": "stdout",
     "output_type": "stream",
     "text": [
      "error: 'rep' undefined near line 1, column 1\r\n"
     ]
    },
    {
     "name": "stdout",
     "output_type": "stream",
     "text": [
      "error: 'el' undefined near line 1, column 1\r\n"
     ]
    }
   ],
   "source": [
    "el = rep.sample;\n",
    "el*MP*el'"
   ]
  }
 ],
 "metadata": {
  "jupytext": {
   "cell_metadata_filter": "-all",
   "main_language": "matlab",
   "notebook_metadata_filter": "-all",
   "text_representation": {
    "extension": ".m",
    "format_name": "light"
   }
  },
  "language_info": {
   "file_extension": ".m",
   "help_links": [
    {
     "text": "GNU Octave",
     "url": "https://www.gnu.org/software/octave/support.html"
    },
    {
     "text": "Octave Kernel",
     "url": "https://github.com/Calysto/octave_kernel"
    },
    {
     "text": "MetaKernel Magics",
     "url": "https://metakernel.readthedocs.io/en/latest/source/README.html"
    }
   ],
   "mimetype": "text/x-octave",
   "name": "octave",
   "version": "6.2.0"
  }
 },
 "nbformat": 4,
 "nbformat_minor": 5
}
