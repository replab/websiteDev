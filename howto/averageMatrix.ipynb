{
 "cells": [
  {
   "cell_type": "markdown",
   "id": "f002fcec",
   "metadata": {},
   "source": [
    "# Averaging a matrix over a continuous group\n",
    "\n",
    "This document shows how to compute the average of a matrix $M$ over the representation of a compact group in *RepLAB*.\n",
    "\n",
    "## Preparation\n",
    "As always, before using *RepLAB* commands, initialize the library:"
   ]
  },
  {
   "cell_type": "code",
   "execution_count": 1,
   "id": "d42c7242",
   "metadata": {
    "execution": {
     "iopub.execute_input": "2021-12-13T20:27:41.848426Z",
     "iopub.status.busy": "2021-12-13T20:27:41.844436Z",
     "iopub.status.idle": "2021-12-13T20:27:48.989241Z",
     "shell.execute_reply": "2021-12-13T20:27:48.988640Z"
    }
   },
   "outputs": [
    {
     "name": "stdout",
     "output_type": "stream",
     "text": [
      "replab_init: Initialization done.\r\n"
     ]
    }
   ],
   "source": [
    "addpath([pwd, '/../..']);\n",
    "replab_init('verbose', 0);"
   ]
  },
  {
   "cell_type": "markdown",
   "id": "3b9c2e2a",
   "metadata": {},
   "source": [
    "## Matrix to be averaged\n",
    "\n",
    "Let us consider a random matrix"
   ]
  },
  {
   "cell_type": "code",
   "execution_count": 2,
   "id": "c35aa7a6",
   "metadata": {
    "execution": {
     "iopub.execute_input": "2021-12-13T20:27:48.992520Z",
     "iopub.status.busy": "2021-12-13T20:27:48.992008Z",
     "iopub.status.idle": "2021-12-13T20:27:49.008173Z",
     "shell.execute_reply": "2021-12-13T20:27:49.007728Z"
    }
   },
   "outputs": [
    {
     "name": "stdout",
     "output_type": "stream",
     "text": [
      "M =\r\n",
      "\r\n",
      "   1.5870e-01   7.8323e-01   3.0146e-01   2.1143e-01\r\n",
      "   8.0462e-01   7.2598e-01   2.7596e-01   5.6273e-01\r\n",
      "   7.5168e-01   1.7044e-03   2.6654e-01   9.7338e-03\r\n",
      "   1.3442e-01   8.1838e-01   8.1396e-01   7.6368e-01\r\n",
      "\r\n"
     ]
    }
   ],
   "source": [
    "M = rand(4)"
   ]
  },
  {
   "cell_type": "markdown",
   "id": "6d751e95",
   "metadata": {},
   "source": [
    "Our aim is to compute the average $\\sum_{g\\in G} R_g M R_g^\\dag$ over a continuous group $G$,\n",
    "where $R_g$ is a representation of the group element $g$."
   ]
  },
  {
   "cell_type": "markdown",
   "id": "19ac37ba",
   "metadata": {},
   "source": [
    "## Group and representation definition\n",
    "\n",
    "Let us consider the group of special orthogonal matrices with determinant equal to 1 in dimension 2"
   ]
  },
  {
   "cell_type": "code",
   "execution_count": 3,
   "id": "2e3982cb",
   "metadata": {
    "execution": {
     "iopub.execute_input": "2021-12-13T20:27:49.011291Z",
     "iopub.status.busy": "2021-12-13T20:27:49.010782Z",
     "iopub.status.idle": "2021-12-13T20:27:49.061615Z",
     "shell.execute_reply": "2021-12-13T20:27:49.061135Z"
    }
   },
   "outputs": [
    {
     "name": "stdout",
     "output_type": "stream",
     "text": [
      "group =\r\n",
      "\r\n",
      "Special orthogonal group SO(2)\r\n",
      "  algebra: 'R'\r\n",
      " identity: [1, 0; 0, 1]\r\n",
      "isSpecial: true\r\n",
      "        n: 2\r\n",
      "\r\n"
     ]
    }
   ],
   "source": [
    "group = replab.SO(2)"
   ]
  },
  {
   "cell_type": "markdown",
   "id": "e96ed830",
   "metadata": {},
   "source": [
    "We consider the 4-dimensional tensor representation of this group $R=SO(2)\\times SO(2)$"
   ]
  },
  {
   "cell_type": "code",
   "execution_count": 4,
   "id": "a87ebe37",
   "metadata": {
    "execution": {
     "iopub.execute_input": "2021-12-13T20:27:49.064841Z",
     "iopub.status.busy": "2021-12-13T20:27:49.064291Z",
     "iopub.status.idle": "2021-12-13T20:27:49.126956Z",
     "shell.execute_reply": "2021-12-13T20:27:49.126461Z"
    },
    "lines_to_next_cell": 2
   },
   "outputs": [
    {
     "name": "stdout",
     "output_type": "stream",
     "text": [
      "rep =\r\n",
      "\r\n",
      "Orthogonal tensor representation\r\n",
      "dimension: 4\r\n",
      "    field: 'R'\r\n",
      "    group: Special orthogonal group SO(2)\r\n",
      "isUnitary: true\r\n",
      "factor(1): Orthogonal fully nontrivial irreducible representation\r\n",
      "factor(2): Orthogonal fully nontrivial irreducible representation\r\n",
      "\r\n"
     ]
    }
   ],
   "source": [
    "rep = kron(group.definingRep, group.definingRep)"
   ]
  },
  {
   "cell_type": "markdown",
   "id": "e7b54824",
   "metadata": {},
   "source": [
    "## Averaging over the group\n",
    "\n",
    "The averaging is done by projecting our matrix onto the commutant of the representation"
   ]
  },
  {
   "cell_type": "code",
   "execution_count": 5,
   "id": "8e750152",
   "metadata": {
    "execution": {
     "iopub.execute_input": "2021-12-13T20:27:49.131022Z",
     "iopub.status.busy": "2021-12-13T20:27:49.130515Z",
     "iopub.status.idle": "2021-12-13T20:27:49.159659Z",
     "shell.execute_reply": "2021-12-13T20:27:49.159198Z"
    }
   },
   "outputs": [],
   "source": [
    "com = rep.commutant;"
   ]
  },
  {
   "cell_type": "code",
   "execution_count": 6,
   "id": "3bfdfc87",
   "metadata": {
    "execution": {
     "iopub.execute_input": "2021-12-13T20:27:49.162749Z",
     "iopub.status.busy": "2021-12-13T20:27:49.162252Z",
     "iopub.status.idle": "2021-12-13T20:27:49.569815Z",
     "shell.execute_reply": "2021-12-13T20:27:49.569214Z"
    }
   },
   "outputs": [
    {
     "name": "stdout",
     "output_type": "stream",
     "text": [
      "MP =\r\n",
      "\r\n",
      "   0.547895  -0.069891  -0.312985   0.086217\r\n",
      "   0.342922   0.409553   0.052125  -0.039954\r\n",
      "   0.039954   0.052125   0.409553  -0.342922\r\n",
      "   0.086217   0.312985   0.069891   0.547895\r\n",
      "\r\n"
     ]
    }
   ],
   "source": [
    "MP = com.project(M)"
   ]
  },
  {
   "cell_type": "markdown",
   "id": "1e3131dc",
   "metadata": {},
   "source": [
    "We can check that the matrix is now invariant over actions of the representation"
   ]
  },
  {
   "cell_type": "code",
   "execution_count": 7,
   "id": "c387cf7a",
   "metadata": {
    "execution": {
     "iopub.execute_input": "2021-12-13T20:27:49.573143Z",
     "iopub.status.busy": "2021-12-13T20:27:49.572612Z",
     "iopub.status.idle": "2021-12-13T20:27:49.597672Z",
     "shell.execute_reply": "2021-12-13T20:27:49.598084Z"
    }
   },
   "outputs": [
    {
     "name": "stdout",
     "output_type": "stream",
     "text": [
      "ans =\r\n",
      "\r\n",
      "   0.547895  -0.069891  -0.312985   0.086217\r\n",
      "   0.342922   0.409553   0.052125  -0.039954\r\n",
      "   0.039954   0.052125   0.409553  -0.342922\r\n",
      "   0.086217   0.312985   0.069891   0.547895\r\n",
      "\r\n"
     ]
    }
   ],
   "source": [
    "el = rep.sample;\n",
    "el*MP*el'"
   ]
  },
  {
   "cell_type": "code",
   "execution_count": null,
   "id": "9735f3b0",
   "metadata": {
    "lines_to_next_cell": 2
   },
   "outputs": [],
   "source": []
  }
 ],
 "metadata": {
  "jupytext": {
   "cell_metadata_filter": "-all",
   "main_language": "matlab",
   "notebook_metadata_filter": "-all",
   "text_representation": {
    "extension": ".m",
    "format_name": "light"
   }
  },
  "language_info": {
   "file_extension": ".m",
   "help_links": [
    {
     "text": "GNU Octave",
     "url": "https://www.gnu.org/software/octave/support.html"
    },
    {
     "text": "Octave Kernel",
     "url": "https://github.com/Calysto/octave_kernel"
    },
    {
     "text": "MetaKernel Magics",
     "url": "https://metakernel.readthedocs.io/en/latest/source/README.html"
    }
   ],
   "mimetype": "text/x-octave",
   "name": "octave",
   "version": "6.2.0"
  }
 },
 "nbformat": 4,
 "nbformat_minor": 5
}
