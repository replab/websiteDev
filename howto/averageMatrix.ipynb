{
 "cells": [
  {
   "cell_type": "markdown",
   "id": "1e7e1e66",
   "metadata": {},
   "source": [
    "# Averaging a matrix over a continuous group\n",
    "\n",
    "This document shows how to compute the average of a matrix $M$ over the representation of a compact group in *RepLAB*.\n",
    "\n",
    "## Preparation\n",
    "As always, before using *RepLAB* commands, initialize the library:"
   ]
  },
  {
   "cell_type": "code",
   "execution_count": 1,
   "id": "5034efb5",
   "metadata": {
    "execution": {
     "iopub.execute_input": "2021-12-15T17:52:33.919361Z",
     "iopub.status.busy": "2021-12-15T17:52:33.918803Z",
     "iopub.status.idle": "2021-12-15T17:52:41.217017Z",
     "shell.execute_reply": "2021-12-15T17:52:41.218092Z"
    }
   },
   "outputs": [
    {
     "name": "stdout",
     "output_type": "stream",
     "text": [
      "replab_init: Initialization done.\r\n"
     ]
    }
   ],
   "source": [
    "addpath([pwd, '/../..']);\n",
    "replab_init('verbose', 0);"
   ]
  },
  {
   "cell_type": "markdown",
   "id": "a36aa8ad",
   "metadata": {},
   "source": [
    "## Matrix to be averaged\n",
    "\n",
    "Let us consider a random matrix"
   ]
  },
  {
   "cell_type": "code",
   "execution_count": 2,
   "id": "8d814924",
   "metadata": {
    "execution": {
     "iopub.execute_input": "2021-12-15T17:52:41.222100Z",
     "iopub.status.busy": "2021-12-15T17:52:41.221417Z",
     "iopub.status.idle": "2021-12-15T17:52:41.237001Z",
     "shell.execute_reply": "2021-12-15T17:52:41.236584Z"
    }
   },
   "outputs": [
    {
     "name": "stdout",
     "output_type": "stream",
     "text": [
      "M =\r\n",
      "\r\n",
      "   0.6091   0.9433   0.1883   0.6634\r\n",
      "   0.6844   0.4340   0.7187   0.6000\r\n",
      "   0.2157   0.8353   0.3706   0.5559\r\n",
      "   0.4366   0.3651   0.1453   0.1781\r\n",
      "\r\n"
     ]
    }
   ],
   "source": [
    "M = rand(4)"
   ]
  },
  {
   "cell_type": "markdown",
   "id": "be012126",
   "metadata": {},
   "source": [
    "Our aim is to compute the average $\\sum_{g\\in G} R_g M R_g^\\dag$ over a continuous group $G$,\n",
    "where $R_g$ is a representation of the group element $g$."
   ]
  },
  {
   "cell_type": "markdown",
   "id": "d1c1c8aa",
   "metadata": {},
   "source": [
    "## Group and representation definition\n",
    "\n",
    "Let us consider the group of special orthogonal matrices with determinant equal to 1 in dimension 2"
   ]
  },
  {
   "cell_type": "code",
   "execution_count": 3,
   "id": "3ef40114",
   "metadata": {
    "execution": {
     "iopub.execute_input": "2021-12-15T17:52:41.239965Z",
     "iopub.status.busy": "2021-12-15T17:52:41.239465Z",
     "iopub.status.idle": "2021-12-15T17:52:41.285552Z",
     "shell.execute_reply": "2021-12-15T17:52:41.286000Z"
    }
   },
   "outputs": [
    {
     "name": "stdout",
     "output_type": "stream",
     "text": [
      "group =\r\n",
      "\r\n",
      "Special orthogonal group SO(2)\r\n",
      "  algebra: 'R'\r\n",
      " identity: [1, 0; 0, 1]\r\n",
      "isSpecial: true\r\n",
      "        n: 2\r\n",
      "\r\n"
     ]
    }
   ],
   "source": [
    "group = replab.SO(2)"
   ]
  },
  {
   "cell_type": "markdown",
   "id": "eaa5f6e6",
   "metadata": {},
   "source": [
    "We consider the 4-dimensional tensor representation of this group $R=SO(2)\\times SO(2)$"
   ]
  },
  {
   "cell_type": "code",
   "execution_count": 4,
   "id": "2c93abec",
   "metadata": {
    "execution": {
     "iopub.execute_input": "2021-12-15T17:52:41.289958Z",
     "iopub.status.busy": "2021-12-15T17:52:41.289404Z",
     "iopub.status.idle": "2021-12-15T17:52:41.345779Z",
     "shell.execute_reply": "2021-12-15T17:52:41.346402Z"
    },
    "lines_to_next_cell": 2
   },
   "outputs": [
    {
     "name": "stdout",
     "output_type": "stream",
     "text": [
      "rep =\r\n",
      "\r\n",
      "Orthogonal tensor representation\r\n",
      "dimension: 4\r\n",
      "    field: 'R'\r\n",
      "    group: Special orthogonal group SO(2)\r\n",
      "isUnitary: true\r\n",
      "factor(1): Orthogonal fully nontrivial irreducible representation\r\n",
      "factor(2): Orthogonal fully nontrivial irreducible representation\r\n",
      "\r\n"
     ]
    }
   ],
   "source": [
    "rep = kron(group.definingRep, group.definingRep)"
   ]
  },
  {
   "cell_type": "markdown",
   "id": "56120139",
   "metadata": {},
   "source": [
    "## Averaging over the group\n",
    "\n",
    "The averaging is done by projecting our matrix onto the commutant of the representation"
   ]
  },
  {
   "cell_type": "code",
   "execution_count": 5,
   "id": "aa764525",
   "metadata": {
    "execution": {
     "iopub.execute_input": "2021-12-15T17:52:41.349312Z",
     "iopub.status.busy": "2021-12-15T17:52:41.348839Z",
     "iopub.status.idle": "2021-12-15T17:52:41.370976Z",
     "shell.execute_reply": "2021-12-15T17:52:41.371315Z"
    }
   },
   "outputs": [],
   "source": [
    "com = rep.commutant;"
   ]
  },
  {
   "cell_type": "code",
   "execution_count": 6,
   "id": "44ea02f7",
   "metadata": {
    "execution": {
     "iopub.execute_input": "2021-12-15T17:52:41.374239Z",
     "iopub.status.busy": "2021-12-15T17:52:41.373339Z",
     "iopub.status.idle": "2021-12-15T17:52:41.900014Z",
     "shell.execute_reply": "2021-12-15T17:52:41.899116Z"
    }
   },
   "outputs": [
    {
     "name": "stdout",
     "output_type": "stream",
     "text": [
      "MP =\r\n",
      "\r\n",
      "   0.727537   0.353315  -0.134072   0.216082\r\n",
      "   0.018572   0.068377   0.443079   0.237815\r\n",
      "  -0.237815   0.443079   0.068377  -0.018572\r\n",
      "   0.216082   0.134072  -0.353315   0.727537\r\n",
      "\r\n"
     ]
    }
   ],
   "source": [
    "MP = com.project(M)"
   ]
  },
  {
   "cell_type": "markdown",
   "id": "bd3c8d58",
   "metadata": {},
   "source": [
    "We can check that the matrix is now invariant over actions of the representation"
   ]
  },
  {
   "cell_type": "code",
   "execution_count": 7,
   "id": "4a7afaed",
   "metadata": {
    "execution": {
     "iopub.execute_input": "2021-12-15T17:52:41.906267Z",
     "iopub.status.busy": "2021-12-15T17:52:41.903405Z",
     "iopub.status.idle": "2021-12-15T17:52:41.931987Z",
     "shell.execute_reply": "2021-12-15T17:52:41.932571Z"
    }
   },
   "outputs": [
    {
     "name": "stdout",
     "output_type": "stream",
     "text": [
      "ans =\r\n",
      "\r\n",
      "   0.727537   0.353315  -0.134072   0.216082\r\n",
      "   0.018572   0.068377   0.443079   0.237815\r\n",
      "  -0.237815   0.443079   0.068377  -0.018572\r\n",
      "   0.216082   0.134072  -0.353315   0.727537\r\n",
      "\r\n"
     ]
    }
   ],
   "source": [
    "el = rep.sample;\n",
    "el*MP*el'"
   ]
  }
 ],
 "metadata": {
  "jupytext": {
   "cell_metadata_filter": "-all",
   "main_language": "matlab",
   "notebook_metadata_filter": "-all",
   "text_representation": {
    "extension": ".m",
    "format_name": "light"
   }
  },
  "language_info": {
   "file_extension": ".m",
   "help_links": [
    {
     "text": "GNU Octave",
     "url": "https://www.gnu.org/software/octave/support.html"
    },
    {
     "text": "Octave Kernel",
     "url": "https://github.com/Calysto/octave_kernel"
    },
    {
     "text": "MetaKernel Magics",
     "url": "https://metakernel.readthedocs.io/en/latest/source/README.html"
    }
   ],
   "mimetype": "text/x-octave",
   "name": "octave",
   "version": "6.2.0"
  }
 },
 "nbformat": 4,
 "nbformat_minor": 5
}
