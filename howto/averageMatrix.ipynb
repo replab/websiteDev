{
 "cells": [
  {
   "cell_type": "markdown",
   "id": "2ab6fed6",
   "metadata": {},
   "source": [
    "# Averaging a matrix over a continuous group\n",
    "\n",
    "This document shows how to compute the average of a matrix $M$ over the representation of a compact group in *RepLAB*.\n",
    "\n",
    "## Preparation\n",
    "As always, before using *RepLAB* commands, initialize the library:"
   ]
  },
  {
   "cell_type": "code",
   "execution_count": 1,
   "id": "5f815da2",
   "metadata": {
    "execution": {
     "iopub.execute_input": "2021-12-14T09:15:26.025920Z",
     "iopub.status.busy": "2021-12-14T09:15:26.025546Z",
     "iopub.status.idle": "2021-12-14T09:15:31.795848Z",
     "shell.execute_reply": "2021-12-14T09:15:31.795070Z"
    }
   },
   "outputs": [
    {
     "name": "stdout",
     "output_type": "stream",
     "text": [
      "replab_init: Initialization done.\r\n"
     ]
    }
   ],
   "source": [
    "addpath([pwd, '/../..']);\n",
    "replab_init('verbose', 0);"
   ]
  },
  {
   "cell_type": "markdown",
   "id": "6af74fdc",
   "metadata": {},
   "source": [
    "## Matrix to be averaged\n",
    "\n",
    "Let us consider a random matrix"
   ]
  },
  {
   "cell_type": "code",
   "execution_count": 2,
   "id": "1b10a6b3",
   "metadata": {
    "execution": {
     "iopub.execute_input": "2021-12-14T09:15:31.798327Z",
     "iopub.status.busy": "2021-12-14T09:15:31.797898Z",
     "iopub.status.idle": "2021-12-14T09:15:31.810293Z",
     "shell.execute_reply": "2021-12-14T09:15:31.810612Z"
    }
   },
   "outputs": [
    {
     "name": "stdout",
     "output_type": "stream",
     "text": [
      "M =\r\n",
      "\r\n",
      "   7.9155e-01   8.2190e-01   7.0135e-01   9.2895e-04\r\n",
      "   9.6768e-03   3.4826e-01   8.2510e-01   5.6510e-01\r\n",
      "   3.3015e-01   6.6267e-01   6.0226e-01   3.8503e-01\r\n",
      "   2.4237e-01   8.2048e-01   4.9526e-01   1.6779e-01\r\n",
      "\r\n"
     ]
    }
   ],
   "source": [
    "M = rand(4)"
   ]
  },
  {
   "cell_type": "markdown",
   "id": "6f1469f3",
   "metadata": {},
   "source": [
    "Our aim is to compute the average $\\sum_{g\\in G} R_g M R_g^\\dag$ over a continuous group $G$,\n",
    "where $R_g$ is a representation of the group element $g$."
   ]
  },
  {
   "cell_type": "markdown",
   "id": "ad407ab0",
   "metadata": {},
   "source": [
    "## Group and representation definition\n",
    "\n",
    "Let us consider the group of special orthogonal matrices with determinant equal to 1 in dimension 2"
   ]
  },
  {
   "cell_type": "code",
   "execution_count": 3,
   "id": "2ee20c5a",
   "metadata": {
    "execution": {
     "iopub.execute_input": "2021-12-14T09:15:31.812994Z",
     "iopub.status.busy": "2021-12-14T09:15:31.812597Z",
     "iopub.status.idle": "2021-12-14T09:15:31.849983Z",
     "shell.execute_reply": "2021-12-14T09:15:31.849573Z"
    }
   },
   "outputs": [
    {
     "name": "stdout",
     "output_type": "stream",
     "text": [
      "group =\r\n",
      "\r\n",
      "Special orthogonal group SO(2)\r\n",
      "  algebra: 'R'\r\n",
      " identity: [1, 0; 0, 1]\r\n",
      "isSpecial: true\r\n",
      "        n: 2\r\n",
      "\r\n"
     ]
    }
   ],
   "source": [
    "group = replab.SO(2)"
   ]
  },
  {
   "cell_type": "markdown",
   "id": "f7311da8",
   "metadata": {},
   "source": [
    "We consider the 4-dimensional tensor representation of this group $R=SO(2)\\times SO(2)$"
   ]
  },
  {
   "cell_type": "code",
   "execution_count": 4,
   "id": "d82654ff",
   "metadata": {
    "execution": {
     "iopub.execute_input": "2021-12-14T09:15:31.852565Z",
     "iopub.status.busy": "2021-12-14T09:15:31.852165Z",
     "iopub.status.idle": "2021-12-14T09:15:31.898117Z",
     "shell.execute_reply": "2021-12-14T09:15:31.897715Z"
    },
    "lines_to_next_cell": 2
   },
   "outputs": [
    {
     "name": "stdout",
     "output_type": "stream",
     "text": [
      "rep =\r\n",
      "\r\n",
      "Orthogonal tensor representation\r\n",
      "dimension: 4\r\n",
      "    field: 'R'\r\n",
      "    group: Special orthogonal group SO(2)\r\n",
      "isUnitary: true\r\n",
      "factor(1): Orthogonal fully nontrivial irreducible representation\r\n",
      "factor(2): Orthogonal fully nontrivial irreducible representation\r\n",
      "\r\n"
     ]
    }
   ],
   "source": [
    "rep = kron(group.definingRep, group.definingRep)"
   ]
  },
  {
   "cell_type": "markdown",
   "id": "20befd9c",
   "metadata": {},
   "source": [
    "## Averaging over the group\n",
    "\n",
    "The averaging is done by projecting our matrix onto the commutant of the representation"
   ]
  },
  {
   "cell_type": "code",
   "execution_count": 5,
   "id": "17d0858d",
   "metadata": {
    "execution": {
     "iopub.execute_input": "2021-12-14T09:15:31.900515Z",
     "iopub.status.busy": "2021-12-14T09:15:31.900137Z",
     "iopub.status.idle": "2021-12-14T09:15:31.919416Z",
     "shell.execute_reply": "2021-12-14T09:15:31.919038Z"
    }
   },
   "outputs": [],
   "source": [
    "com = rep.commutant;"
   ]
  },
  {
   "cell_type": "code",
   "execution_count": 6,
   "id": "c9461822",
   "metadata": {
    "execution": {
     "iopub.execute_input": "2021-12-14T09:15:31.922073Z",
     "iopub.status.busy": "2021-12-14T09:15:31.921509Z",
     "iopub.status.idle": "2021-12-14T09:15:32.207377Z",
     "shell.execute_reply": "2021-12-14T09:15:32.207695Z"
    }
   },
   "outputs": [
    {
     "name": "stdout",
     "output_type": "stream",
     "text": [
      "MP =\r\n",
      "\r\n",
      "   6.9495e-01   2.1367e-01  -9.2162e-03  -9.3634e-02\r\n",
      "  -1.3733e-01   2.5998e-01   5.2860e-01   6.7124e-02\r\n",
      "  -6.7124e-02   5.2860e-01   2.5998e-01   1.3733e-01\r\n",
      "  -9.3634e-02   9.2162e-03  -2.1367e-01   6.9495e-01\r\n",
      "\r\n"
     ]
    }
   ],
   "source": [
    "MP = com.project(M)"
   ]
  },
  {
   "cell_type": "markdown",
   "id": "6e7534a5",
   "metadata": {},
   "source": [
    "We can check that the matrix is now invariant over actions of the representation"
   ]
  },
  {
   "cell_type": "code",
   "execution_count": 7,
   "id": "6cda5e44",
   "metadata": {
    "execution": {
     "iopub.execute_input": "2021-12-14T09:15:32.210041Z",
     "iopub.status.busy": "2021-12-14T09:15:32.209643Z",
     "iopub.status.idle": "2021-12-14T09:15:32.227631Z",
     "shell.execute_reply": "2021-12-14T09:15:32.227232Z"
    }
   },
   "outputs": [
    {
     "name": "stdout",
     "output_type": "stream",
     "text": [
      "ans =\r\n",
      "\r\n",
      "   6.9495e-01   2.1367e-01  -9.2162e-03  -9.3634e-02\r\n",
      "  -1.3733e-01   2.5998e-01   5.2860e-01   6.7124e-02\r\n",
      "  -6.7124e-02   5.2860e-01   2.5998e-01   1.3733e-01\r\n",
      "  -9.3634e-02   9.2162e-03  -2.1367e-01   6.9495e-01\r\n",
      "\r\n"
     ]
    }
   ],
   "source": [
    "el = rep.sample;\n",
    "el*MP*el'"
   ]
  }
 ],
 "metadata": {
  "jupytext": {
   "cell_metadata_filter": "-all",
   "main_language": "matlab",
   "notebook_metadata_filter": "-all",
   "text_representation": {
    "extension": ".m",
    "format_name": "light"
   }
  },
  "language_info": {
   "file_extension": ".m",
   "help_links": [
    {
     "text": "GNU Octave",
     "url": "https://www.gnu.org/software/octave/support.html"
    },
    {
     "text": "Octave Kernel",
     "url": "https://github.com/Calysto/octave_kernel"
    },
    {
     "text": "MetaKernel Magics",
     "url": "https://metakernel.readthedocs.io/en/latest/source/README.html"
    }
   ],
   "mimetype": "text/x-octave",
   "name": "octave",
   "version": "6.2.0"
  }
 },
 "nbformat": 4,
 "nbformat_minor": 5
}
