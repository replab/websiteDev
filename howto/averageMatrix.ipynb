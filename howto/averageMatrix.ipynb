{
 "cells": [
  {
   "cell_type": "markdown",
   "id": "a03b16db",
   "metadata": {},
   "source": [
    "# Averaging a matrix over a continuous group\n",
    "\n",
    "This document shows how to compute the average of a matrix $M$ over the representation of a compact group in *RepLAB*.\n",
    "\n",
    "## Preparation\n",
    "As always, before using *RepLAB* commands, initialize the library:"
   ]
  },
  {
   "cell_type": "code",
   "execution_count": 1,
   "id": "e380091c",
   "metadata": {
    "execution": {
     "iopub.execute_input": "2021-12-13T21:42:09.725611Z",
     "iopub.status.busy": "2021-12-13T21:42:09.725132Z",
     "iopub.status.idle": "2021-12-13T21:42:15.642646Z",
     "shell.execute_reply": "2021-12-13T21:42:15.642984Z"
    }
   },
   "outputs": [
    {
     "name": "stdout",
     "output_type": "stream",
     "text": [
      "replab_init: Initialization done.\r\n"
     ]
    }
   ],
   "source": [
    "addpath([pwd, '/../..']);\n",
    "replab_init('verbose', 0);"
   ]
  },
  {
   "cell_type": "markdown",
   "id": "4038eff0",
   "metadata": {},
   "source": [
    "## Matrix to be averaged\n",
    "\n",
    "Let us consider a random matrix"
   ]
  },
  {
   "cell_type": "code",
   "execution_count": 2,
   "id": "7dde6b7e",
   "metadata": {
    "execution": {
     "iopub.execute_input": "2021-12-13T21:42:15.645665Z",
     "iopub.status.busy": "2021-12-13T21:42:15.645224Z",
     "iopub.status.idle": "2021-12-13T21:42:15.657482Z",
     "shell.execute_reply": "2021-12-13T21:42:15.657105Z"
    }
   },
   "outputs": [
    {
     "name": "stdout",
     "output_type": "stream",
     "text": [
      "M =\r\n",
      "\r\n",
      "   0.936055   0.772334   0.436085   0.254696\r\n",
      "   0.461704   0.488666   0.884595   0.031303\r\n",
      "   0.453544   0.179839   0.197153   0.127001\r\n",
      "   0.258770   0.615344   0.287969   0.057493\r\n",
      "\r\n"
     ]
    }
   ],
   "source": [
    "M = rand(4)"
   ]
  },
  {
   "cell_type": "markdown",
   "id": "1758b30f",
   "metadata": {},
   "source": [
    "Our aim is to compute the average $\\sum_{g\\in G} R_g M R_g^\\dag$ over a continuous group $G$,\n",
    "where $R_g$ is a representation of the group element $g$."
   ]
  },
  {
   "cell_type": "markdown",
   "id": "7c2ef282",
   "metadata": {},
   "source": [
    "## Group and representation definition\n",
    "\n",
    "Let us consider the group of special orthogonal matrices with determinant equal to 1 in dimension 2"
   ]
  },
  {
   "cell_type": "code",
   "execution_count": 3,
   "id": "d24d8795",
   "metadata": {
    "execution": {
     "iopub.execute_input": "2021-12-13T21:42:15.660272Z",
     "iopub.status.busy": "2021-12-13T21:42:15.659842Z",
     "iopub.status.idle": "2021-12-13T21:42:15.696923Z",
     "shell.execute_reply": "2021-12-13T21:42:15.696515Z"
    }
   },
   "outputs": [
    {
     "name": "stdout",
     "output_type": "stream",
     "text": [
      "group =\r\n",
      "\r\n",
      "Special orthogonal group SO(2)\r\n",
      "  algebra: 'R'\r\n",
      " identity: [1, 0; 0, 1]\r\n",
      "isSpecial: true\r\n",
      "        n: 2\r\n",
      "\r\n"
     ]
    }
   ],
   "source": [
    "group = replab.SO(2)"
   ]
  },
  {
   "cell_type": "markdown",
   "id": "7f5bc03c",
   "metadata": {},
   "source": [
    "We consider the 4-dimensional tensor representation of this group $R=SO(2)\\times SO(2)$"
   ]
  },
  {
   "cell_type": "code",
   "execution_count": 4,
   "id": "e4d90327",
   "metadata": {
    "execution": {
     "iopub.execute_input": "2021-12-13T21:42:15.699493Z",
     "iopub.status.busy": "2021-12-13T21:42:15.699050Z",
     "iopub.status.idle": "2021-12-13T21:42:15.746104Z",
     "shell.execute_reply": "2021-12-13T21:42:15.745711Z"
    },
    "lines_to_next_cell": 2
   },
   "outputs": [
    {
     "name": "stdout",
     "output_type": "stream",
     "text": [
      "rep =\r\n",
      "\r\n",
      "Orthogonal tensor representation\r\n",
      "dimension: 4\r\n",
      "    field: 'R'\r\n",
      "    group: Special orthogonal group SO(2)\r\n",
      "isUnitary: true\r\n",
      "factor(1): Orthogonal fully nontrivial irreducible representation\r\n",
      "factor(2): Orthogonal fully nontrivial irreducible representation\r\n",
      "\r\n"
     ]
    }
   ],
   "source": [
    "rep = kron(group.definingRep, group.definingRep)"
   ]
  },
  {
   "cell_type": "markdown",
   "id": "4ba3240a",
   "metadata": {},
   "source": [
    "## Averaging over the group\n",
    "\n",
    "The averaging is done by projecting our matrix onto the commutant of the representation"
   ]
  },
  {
   "cell_type": "code",
   "execution_count": 5,
   "id": "d3082787",
   "metadata": {
    "execution": {
     "iopub.execute_input": "2021-12-13T21:42:15.748822Z",
     "iopub.status.busy": "2021-12-13T21:42:15.748402Z",
     "iopub.status.idle": "2021-12-13T21:42:15.767403Z",
     "shell.execute_reply": "2021-12-13T21:42:15.767781Z"
    }
   },
   "outputs": [],
   "source": [
    "com = rep.commutant;"
   ]
  },
  {
   "cell_type": "code",
   "execution_count": 6,
   "id": "16aeb6cf",
   "metadata": {
    "execution": {
     "iopub.execute_input": "2021-12-13T21:42:15.770367Z",
     "iopub.status.busy": "2021-12-13T21:42:15.769635Z",
     "iopub.status.idle": "2021-12-13T21:42:16.130154Z",
     "shell.execute_reply": "2021-12-13T21:42:16.129758Z"
    }
   },
   "outputs": [
    {
     "name": "stdout",
     "output_type": "stream",
     "text": [
      "MP =\r\n",
      "\r\n",
      "   0.655545   0.109426  -0.222386   0.097962\r\n",
      "   0.034595   0.184138   0.373446  -0.078364\r\n",
      "   0.078364   0.373446   0.184138  -0.034595\r\n",
      "   0.097962   0.222386  -0.109426   0.655545\r\n",
      "\r\n"
     ]
    }
   ],
   "source": [
    "MP = com.project(M)"
   ]
  },
  {
   "cell_type": "markdown",
   "id": "4b239e98",
   "metadata": {},
   "source": [
    "We can check that the matrix is now invariant over actions of the representation"
   ]
  },
  {
   "cell_type": "code",
   "execution_count": 7,
   "id": "55abe4a4",
   "metadata": {
    "execution": {
     "iopub.execute_input": "2021-12-13T21:42:16.132662Z",
     "iopub.status.busy": "2021-12-13T21:42:16.132242Z",
     "iopub.status.idle": "2021-12-13T21:42:16.150823Z",
     "shell.execute_reply": "2021-12-13T21:42:16.150461Z"
    }
   },
   "outputs": [
    {
     "name": "stdout",
     "output_type": "stream",
     "text": [
      "ans =\r\n",
      "\r\n",
      "   0.655545   0.109426  -0.222386   0.097962\r\n",
      "   0.034595   0.184138   0.373446  -0.078364\r\n",
      "   0.078364   0.373446   0.184138  -0.034595\r\n",
      "   0.097962   0.222386  -0.109426   0.655545\r\n",
      "\r\n"
     ]
    }
   ],
   "source": [
    "el = rep.sample;\n",
    "el*MP*el'"
   ]
  },
  {
   "cell_type": "code",
   "execution_count": null,
   "id": "52e211e5",
   "metadata": {
    "lines_to_next_cell": 2
   },
   "outputs": [],
   "source": []
  }
 ],
 "metadata": {
  "jupytext": {
   "cell_metadata_filter": "-all",
   "main_language": "matlab",
   "notebook_metadata_filter": "-all",
   "text_representation": {
    "extension": ".m",
    "format_name": "light"
   }
  },
  "language_info": {
   "file_extension": ".m",
   "help_links": [
    {
     "text": "GNU Octave",
     "url": "https://www.gnu.org/software/octave/support.html"
    },
    {
     "text": "Octave Kernel",
     "url": "https://github.com/Calysto/octave_kernel"
    },
    {
     "text": "MetaKernel Magics",
     "url": "https://metakernel.readthedocs.io/en/latest/source/README.html"
    }
   ],
   "mimetype": "text/x-octave",
   "name": "octave",
   "version": "6.2.0"
  }
 },
 "nbformat": 4,
 "nbformat_minor": 5
}
