{
 "cells": [
  {
   "cell_type": "markdown",
   "id": "789ed61b",
   "metadata": {},
   "source": [
    "# Averaging a matrix over a continuous group\n",
    "\n",
    "This document shows how to compute the average of a matrix $M$ over the representation of a compact group in *RepLAB*.\n",
    "\n",
    "## Preparation\n",
    "As always, before using *RepLAB* commands, initialize the library:"
   ]
  },
  {
   "cell_type": "code",
   "execution_count": 1,
   "id": "8324fbb9",
   "metadata": {
    "execution": {
     "iopub.execute_input": "2021-12-28T11:52:24.105526Z",
     "iopub.status.busy": "2021-12-28T11:52:24.105093Z",
     "iopub.status.idle": "2021-12-28T11:52:24.127524Z",
     "shell.execute_reply": "2021-12-28T11:52:24.127901Z"
    }
   },
   "outputs": [
    {
     "name": "stdout",
     "output_type": "stream",
     "text": [
      "error: 'replab_init' undefined near line 1, column 1\r\n"
     ]
    }
   ],
   "source": [
    "addpath([pwd, '/../..']);\n",
    "replab_init('verbose', 0);"
   ]
  },
  {
   "cell_type": "markdown",
   "id": "ce373064",
   "metadata": {},
   "source": [
    "## Matrix to be averaged\n",
    "\n",
    "Let us consider a random matrix"
   ]
  },
  {
   "cell_type": "code",
   "execution_count": 2,
   "id": "232e3549",
   "metadata": {
    "execution": {
     "iopub.execute_input": "2021-12-28T11:52:24.130882Z",
     "iopub.status.busy": "2021-12-28T11:52:24.130402Z",
     "iopub.status.idle": "2021-12-28T11:52:24.136159Z",
     "shell.execute_reply": "2021-12-28T11:52:24.135813Z"
    }
   },
   "outputs": [
    {
     "name": "stdout",
     "output_type": "stream",
     "text": [
      "M =\r\n",
      "\r\n",
      "   5.2615e-01   4.6066e-01   2.1440e-01   9.2805e-03\r\n",
      "   5.7758e-01   3.6404e-01   8.1634e-01   4.7696e-02\r\n",
      "   6.1188e-01   9.0599e-01   2.8695e-01   1.2861e-01\r\n",
      "   1.0196e-01   5.1088e-01   2.4301e-01   9.9117e-01\r\n",
      "\r\n"
     ]
    }
   ],
   "source": [
    "M = rand(4)"
   ]
  },
  {
   "cell_type": "markdown",
   "id": "8a386922",
   "metadata": {},
   "source": [
    "Our aim is to compute the average $\\sum_{g\\in G} R_g M R_g^\\dag$ over a continuous group $G$,\n",
    "where $R_g$ is a representation of the group element $g$."
   ]
  },
  {
   "cell_type": "markdown",
   "id": "67eb763e",
   "metadata": {},
   "source": [
    "## Group and representation definition\n",
    "\n",
    "Let us consider the group of special orthogonal matrices with determinant equal to 1 in dimension 2"
   ]
  },
  {
   "cell_type": "code",
   "execution_count": 3,
   "id": "0474d946",
   "metadata": {
    "execution": {
     "iopub.execute_input": "2021-12-28T11:52:24.138731Z",
     "iopub.status.busy": "2021-12-28T11:52:24.138308Z",
     "iopub.status.idle": "2021-12-28T11:52:24.146647Z",
     "shell.execute_reply": "2021-12-28T11:52:24.146300Z"
    }
   },
   "outputs": [
    {
     "name": "stdout",
     "output_type": "stream",
     "text": [
      "error: 'replab' undefined near line 1, column 1\r\n"
     ]
    }
   ],
   "source": [
    "group = replab.SO(2)"
   ]
  },
  {
   "cell_type": "markdown",
   "id": "09097a98",
   "metadata": {},
   "source": [
    "We consider the 4-dimensional tensor representation of this group $R=SO(2)\\times SO(2)$"
   ]
  },
  {
   "cell_type": "code",
   "execution_count": 4,
   "id": "24fe6c35",
   "metadata": {
    "execution": {
     "iopub.execute_input": "2021-12-28T11:52:24.149421Z",
     "iopub.status.busy": "2021-12-28T11:52:24.149009Z",
     "iopub.status.idle": "2021-12-28T11:52:24.156779Z",
     "shell.execute_reply": "2021-12-28T11:52:24.156440Z"
    },
    "lines_to_next_cell": 2
   },
   "outputs": [
    {
     "name": "stdout",
     "output_type": "stream",
     "text": [
      "error: 'group' undefined near line 1, column 1\r\n"
     ]
    }
   ],
   "source": [
    "rep = kron(group.definingRep, group.definingRep)"
   ]
  },
  {
   "cell_type": "markdown",
   "id": "7e1ed7a5",
   "metadata": {},
   "source": [
    "## Averaging over the group\n",
    "\n",
    "The averaging is done by projecting our matrix onto the commutant of the representation"
   ]
  },
  {
   "cell_type": "code",
   "execution_count": 5,
   "id": "5381425a",
   "metadata": {
    "execution": {
     "iopub.execute_input": "2021-12-28T11:52:24.159286Z",
     "iopub.status.busy": "2021-12-28T11:52:24.158808Z",
     "iopub.status.idle": "2021-12-28T11:52:24.166767Z",
     "shell.execute_reply": "2021-12-28T11:52:24.166429Z"
    }
   },
   "outputs": [
    {
     "name": "stdout",
     "output_type": "stream",
     "text": [
      "error: 'rep' undefined near line 1, column 1\r\n"
     ]
    }
   ],
   "source": [
    "com = rep.commutant;"
   ]
  },
  {
   "cell_type": "code",
   "execution_count": 6,
   "id": "b2b5806d",
   "metadata": {
    "execution": {
     "iopub.execute_input": "2021-12-28T11:52:24.169045Z",
     "iopub.status.busy": "2021-12-28T11:52:24.168627Z",
     "iopub.status.idle": "2021-12-28T11:52:24.176120Z",
     "shell.execute_reply": "2021-12-28T11:52:24.176431Z"
    }
   },
   "outputs": [
    {
     "name": "stdout",
     "output_type": "stream",
     "text": [
      "error: 'com' undefined near line 1, column 1\r\n"
     ]
    }
   ],
   "source": [
    "MP = com.project(M)"
   ]
  },
  {
   "cell_type": "markdown",
   "id": "17627072",
   "metadata": {},
   "source": [
    "We can check that the matrix is now invariant over actions of the representation"
   ]
  },
  {
   "cell_type": "code",
   "execution_count": 7,
   "id": "3b021a34",
   "metadata": {
    "execution": {
     "iopub.execute_input": "2021-12-28T11:52:24.178964Z",
     "iopub.status.busy": "2021-12-28T11:52:24.178553Z",
     "iopub.status.idle": "2021-12-28T11:52:24.190066Z",
     "shell.execute_reply": "2021-12-28T11:52:24.189668Z"
    }
   },
   "outputs": [
    {
     "name": "stdout",
     "output_type": "stream",
     "text": [
      "error: 'rep' undefined near line 1, column 1\r\n"
     ]
    },
    {
     "name": "stdout",
     "output_type": "stream",
     "text": [
      "error: 'el' undefined near line 1, column 1\r\n"
     ]
    }
   ],
   "source": [
    "el = rep.sample;\n",
    "el*MP*el'"
   ]
  }
 ],
 "metadata": {
  "jupytext": {
   "cell_metadata_filter": "-all",
   "main_language": "matlab",
   "notebook_metadata_filter": "-all",
   "text_representation": {
    "extension": ".m",
    "format_name": "light"
   }
  },
  "language_info": {
   "file_extension": ".m",
   "help_links": [
    {
     "text": "GNU Octave",
     "url": "https://www.gnu.org/software/octave/support.html"
    },
    {
     "text": "Octave Kernel",
     "url": "https://github.com/Calysto/octave_kernel"
    },
    {
     "text": "MetaKernel Magics",
     "url": "https://metakernel.readthedocs.io/en/latest/source/README.html"
    }
   ],
   "mimetype": "text/x-octave",
   "name": "octave",
   "version": "6.2.0"
  }
 },
 "nbformat": 4,
 "nbformat_minor": 5
}
