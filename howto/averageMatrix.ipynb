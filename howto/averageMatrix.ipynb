{
 "cells": [
  {
   "cell_type": "markdown",
   "id": "b8a2ef58",
   "metadata": {},
   "source": [
    "# Averaging a matrix over a continuous group\n",
    "\n",
    "This document shows how to compute the average of a matrix $M$ over the representation of a compact group in *RepLAB*.\n",
    "\n",
    "## Preparation\n",
    "As always, before using *RepLAB* commands, initialize the library:"
   ]
  },
  {
   "cell_type": "code",
   "execution_count": 1,
   "id": "c59090bb",
   "metadata": {
    "execution": {
     "iopub.execute_input": "2021-12-13T21:23:10.284290Z",
     "iopub.status.busy": "2021-12-13T21:23:10.283735Z",
     "iopub.status.idle": "2021-12-13T21:23:16.241149Z",
     "shell.execute_reply": "2021-12-13T21:23:16.240627Z"
    }
   },
   "outputs": [
    {
     "name": "stdout",
     "output_type": "stream",
     "text": [
      "replab_init: Initialization done.\r\n"
     ]
    }
   ],
   "source": [
    "addpath([pwd, '/../..']);\n",
    "replab_init('verbose', 0);"
   ]
  },
  {
   "cell_type": "markdown",
   "id": "3213764b",
   "metadata": {},
   "source": [
    "## Matrix to be averaged\n",
    "\n",
    "Let us consider a random matrix"
   ]
  },
  {
   "cell_type": "code",
   "execution_count": 2,
   "id": "8769567b",
   "metadata": {
    "execution": {
     "iopub.execute_input": "2021-12-13T21:23:16.243875Z",
     "iopub.status.busy": "2021-12-13T21:23:16.243436Z",
     "iopub.status.idle": "2021-12-13T21:23:16.258067Z",
     "shell.execute_reply": "2021-12-13T21:23:16.257704Z"
    }
   },
   "outputs": [
    {
     "name": "stdout",
     "output_type": "stream",
     "text": [
      "M =\r\n",
      "\r\n",
      "   9.4019e-02   9.2926e-01   4.6250e-01   8.9781e-01\r\n",
      "   7.7053e-01   8.1304e-01   2.8213e-01   5.5687e-01\r\n",
      "   6.4889e-01   2.9319e-01   4.4294e-01   2.6103e-01\r\n",
      "   2.4189e-03   6.8686e-02   6.0614e-01   6.9975e-01\r\n",
      "\r\n"
     ]
    }
   ],
   "source": [
    "M = rand(4)"
   ]
  },
  {
   "cell_type": "markdown",
   "id": "380de6f3",
   "metadata": {},
   "source": [
    "Our aim is to compute the average $\\sum_{g\\in G} R_g M R_g^\\dag$ over a continuous group $G$,\n",
    "where $R_g$ is a representation of the group element $g$."
   ]
  },
  {
   "cell_type": "markdown",
   "id": "0b6f7507",
   "metadata": {},
   "source": [
    "## Group and representation definition\n",
    "\n",
    "Let us consider the group of special orthogonal matrices with determinant equal to 1 in dimension 2"
   ]
  },
  {
   "cell_type": "code",
   "execution_count": 3,
   "id": "fe2c0909",
   "metadata": {
    "execution": {
     "iopub.execute_input": "2021-12-13T21:23:16.260853Z",
     "iopub.status.busy": "2021-12-13T21:23:16.260421Z",
     "iopub.status.idle": "2021-12-13T21:23:16.298243Z",
     "shell.execute_reply": "2021-12-13T21:23:16.297865Z"
    }
   },
   "outputs": [
    {
     "name": "stdout",
     "output_type": "stream",
     "text": [
      "group =\r\n",
      "\r\n",
      "Special orthogonal group SO(2)\r\n",
      "  algebra: 'R'\r\n",
      " identity: [1, 0; 0, 1]\r\n",
      "isSpecial: true\r\n",
      "        n: 2\r\n",
      "\r\n"
     ]
    }
   ],
   "source": [
    "group = replab.SO(2)"
   ]
  },
  {
   "cell_type": "markdown",
   "id": "1c74bba9",
   "metadata": {},
   "source": [
    "We consider the 4-dimensional tensor representation of this group $R=SO(2)\\times SO(2)$"
   ]
  },
  {
   "cell_type": "code",
   "execution_count": 4,
   "id": "41607f49",
   "metadata": {
    "execution": {
     "iopub.execute_input": "2021-12-13T21:23:16.300774Z",
     "iopub.status.busy": "2021-12-13T21:23:16.300356Z",
     "iopub.status.idle": "2021-12-13T21:23:16.346979Z",
     "shell.execute_reply": "2021-12-13T21:23:16.346572Z"
    },
    "lines_to_next_cell": 2
   },
   "outputs": [
    {
     "name": "stdout",
     "output_type": "stream",
     "text": [
      "rep =\r\n",
      "\r\n",
      "Orthogonal tensor representation\r\n",
      "dimension: 4\r\n",
      "    field: 'R'\r\n",
      "    group: Special orthogonal group SO(2)\r\n",
      "isUnitary: true\r\n",
      "factor(1): Orthogonal fully nontrivial irreducible representation\r\n",
      "factor(2): Orthogonal fully nontrivial irreducible representation\r\n",
      "\r\n"
     ]
    }
   ],
   "source": [
    "rep = kron(group.definingRep, group.definingRep)"
   ]
  },
  {
   "cell_type": "markdown",
   "id": "30029a87",
   "metadata": {},
   "source": [
    "## Averaging over the group\n",
    "\n",
    "The averaging is done by projecting our matrix onto the commutant of the representation"
   ]
  },
  {
   "cell_type": "code",
   "execution_count": 5,
   "id": "6d7b4f63",
   "metadata": {
    "execution": {
     "iopub.execute_input": "2021-12-13T21:23:16.349820Z",
     "iopub.status.busy": "2021-12-13T21:23:16.349402Z",
     "iopub.status.idle": "2021-12-13T21:23:16.367455Z",
     "shell.execute_reply": "2021-12-13T21:23:16.367079Z"
    }
   },
   "outputs": [],
   "source": [
    "com = rep.commutant;"
   ]
  },
  {
   "cell_type": "code",
   "execution_count": 6,
   "id": "f38b04fd",
   "metadata": {
    "execution": {
     "iopub.execute_input": "2021-12-13T21:23:16.369973Z",
     "iopub.status.busy": "2021-12-13T21:23:16.369263Z",
     "iopub.status.idle": "2021-12-13T21:23:16.686124Z",
     "shell.execute_reply": "2021-12-13T21:23:16.685726Z"
    }
   },
   "outputs": [
    {
     "name": "stdout",
     "output_type": "stream",
     "text": [
      "MP =\r\n",
      "\r\n",
      "   6.3910e-01  -3.2500e-03   3.2102e-02   2.0789e-01\r\n",
      "   8.9945e-02   3.8577e-01   4.5441e-02   1.1880e-01\r\n",
      "  -1.1880e-01   4.5441e-02   3.8577e-01  -8.9945e-02\r\n",
      "   2.0789e-01  -3.2102e-02   3.2500e-03   6.3910e-01\r\n",
      "\r\n"
     ]
    }
   ],
   "source": [
    "MP = com.project(M)"
   ]
  },
  {
   "cell_type": "markdown",
   "id": "52af60ac",
   "metadata": {},
   "source": [
    "We can check that the matrix is now invariant over actions of the representation"
   ]
  },
  {
   "cell_type": "code",
   "execution_count": 7,
   "id": "d05f4c76",
   "metadata": {
    "execution": {
     "iopub.execute_input": "2021-12-13T21:23:16.688813Z",
     "iopub.status.busy": "2021-12-13T21:23:16.688392Z",
     "iopub.status.idle": "2021-12-13T21:23:16.705944Z",
     "shell.execute_reply": "2021-12-13T21:23:16.705571Z"
    }
   },
   "outputs": [
    {
     "name": "stdout",
     "output_type": "stream",
     "text": [
      "ans =\r\n",
      "\r\n",
      "   6.3910e-01  -3.2500e-03   3.2102e-02   2.0789e-01\r\n",
      "   8.9945e-02   3.8577e-01   4.5441e-02   1.1880e-01\r\n",
      "  -1.1880e-01   4.5441e-02   3.8577e-01  -8.9945e-02\r\n",
      "   2.0789e-01  -3.2102e-02   3.2500e-03   6.3910e-01\r\n",
      "\r\n"
     ]
    }
   ],
   "source": [
    "el = rep.sample;\n",
    "el*MP*el'"
   ]
  },
  {
   "cell_type": "code",
   "execution_count": null,
   "id": "18386e42",
   "metadata": {
    "lines_to_next_cell": 2
   },
   "outputs": [],
   "source": []
  }
 ],
 "metadata": {
  "jupytext": {
   "cell_metadata_filter": "-all",
   "main_language": "matlab",
   "notebook_metadata_filter": "-all",
   "text_representation": {
    "extension": ".m",
    "format_name": "light"
   }
  },
  "language_info": {
   "file_extension": ".m",
   "help_links": [
    {
     "text": "GNU Octave",
     "url": "https://www.gnu.org/software/octave/support.html"
    },
    {
     "text": "Octave Kernel",
     "url": "https://github.com/Calysto/octave_kernel"
    },
    {
     "text": "MetaKernel Magics",
     "url": "https://metakernel.readthedocs.io/en/latest/source/README.html"
    }
   ],
   "mimetype": "text/x-octave",
   "name": "octave",
   "version": "6.2.0"
  }
 },
 "nbformat": 4,
 "nbformat_minor": 5
}
