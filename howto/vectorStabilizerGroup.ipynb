{
 "cells": [
  {
   "cell_type": "markdown",
   "id": "dd959f53",
   "metadata": {},
   "source": [
    "# Vector stabilizer group\n",
    "\n",
    "This document illustrated how to define groups which leave a vector invariant in *RepLAB*.\n",
    "\n",
    "## Preparation\n",
    "As always, before using *RepLAB* commands, initialize the library:"
   ]
  },
  {
   "cell_type": "code",
   "execution_count": 1,
   "id": "1141c394",
   "metadata": {
    "execution": {
     "iopub.execute_input": "2021-12-28T10:52:24.234830Z",
     "iopub.status.busy": "2021-12-28T10:52:24.234334Z",
     "iopub.status.idle": "2021-12-28T10:52:24.258487Z",
     "shell.execute_reply": "2021-12-28T10:52:24.257808Z"
    }
   },
   "outputs": [
    {
     "name": "stdout",
     "output_type": "stream",
     "text": [
      "error: 'replab_init' undefined near line 1, column 1\r\n"
     ]
    }
   ],
   "source": [
    "addpath([pwd, '/../..']);\n",
    "replab_init('verbose', 0);"
   ]
  },
  {
   "cell_type": "markdown",
   "id": "d36ade7e",
   "metadata": {},
   "source": [
    "## Vector stabilizer group\n",
    "\n",
    "Given a vector"
   ]
  },
  {
   "cell_type": "code",
   "execution_count": 2,
   "id": "bd0aa734",
   "metadata": {
    "execution": {
     "iopub.execute_input": "2021-12-28T10:52:24.261167Z",
     "iopub.status.busy": "2021-12-28T10:52:24.260472Z",
     "iopub.status.idle": "2021-12-28T10:52:24.266384Z",
     "shell.execute_reply": "2021-12-28T10:52:24.265780Z"
    }
   },
   "outputs": [],
   "source": [
    "v = [3 2 3 1 2 5 4];"
   ]
  },
  {
   "cell_type": "markdown",
   "id": "4028250b",
   "metadata": {},
   "source": [
    "in $\\mathbb{R}^7$, the most general group acting on the components which leaves the vector invariant can be obtained by first defining the general group permuting all possible components"
   ]
  },
  {
   "cell_type": "code",
   "execution_count": 3,
   "id": "cd90643f",
   "metadata": {
    "execution": {
     "iopub.execute_input": "2021-12-28T10:52:24.268900Z",
     "iopub.status.busy": "2021-12-28T10:52:24.268241Z",
     "iopub.status.idle": "2021-12-28T10:52:24.276572Z",
     "shell.execute_reply": "2021-12-28T10:52:24.276219Z"
    }
   },
   "outputs": [
    {
     "name": "stdout",
     "output_type": "stream",
     "text": [
      "error: 'replab' undefined near line 1, column 1\r\n"
     ]
    }
   ],
   "source": [
    "S7 = replab.S(7)"
   ]
  },
  {
   "cell_type": "markdown",
   "id": "edf4f978",
   "metadata": {},
   "source": [
    "and then asking for its stabilization over the vector"
   ]
  },
  {
   "cell_type": "code",
   "execution_count": 4,
   "id": "ed50f6f1",
   "metadata": {
    "execution": {
     "iopub.execute_input": "2021-12-28T10:52:24.278934Z",
     "iopub.status.busy": "2021-12-28T10:52:24.278510Z",
     "iopub.status.idle": "2021-12-28T10:52:24.286317Z",
     "shell.execute_reply": "2021-12-28T10:52:24.285938Z"
    }
   },
   "outputs": [
    {
     "name": "stdout",
     "output_type": "stream",
     "text": [
      "error: 'S7' undefined near line 1, column 1\r\n"
     ]
    }
   ],
   "source": [
    "Gv = S7.vectorStabilizer(v)"
   ]
  },
  {
   "cell_type": "markdown",
   "id": "536f6c8d",
   "metadata": {},
   "source": [
    "This group G1 contains all 4 permutations which leave the vector v invariant:"
   ]
  },
  {
   "cell_type": "code",
   "execution_count": 5,
   "id": "3018d7e6",
   "metadata": {
    "execution": {
     "iopub.execute_input": "2021-12-28T10:52:24.288575Z",
     "iopub.status.busy": "2021-12-28T10:52:24.288154Z",
     "iopub.status.idle": "2021-12-28T10:52:24.296093Z",
     "shell.execute_reply": "2021-12-28T10:52:24.295738Z"
    }
   },
   "outputs": [
    {
     "name": "stdout",
     "output_type": "stream",
     "text": [
      "error: 'Gv' undefined near line 1, column 1\r\n"
     ]
    }
   ],
   "source": [
    "Gv.elements"
   ]
  },
  {
   "cell_type": "markdown",
   "id": "a34e0391",
   "metadata": {},
   "source": [
    "## Vector stabilization over a specific group\n",
    "\n",
    "Alternatively, it is possible to identify all the permutations which leave a vector invariant and which belong to a specific group. This is achieved by first defining the group of interest, for instance"
   ]
  },
  {
   "cell_type": "code",
   "execution_count": 6,
   "id": "2598bea7",
   "metadata": {
    "execution": {
     "iopub.execute_input": "2021-12-28T10:52:24.298598Z",
     "iopub.status.busy": "2021-12-28T10:52:24.298162Z",
     "iopub.status.idle": "2021-12-28T10:52:24.306446Z",
     "shell.execute_reply": "2021-12-28T10:52:24.306801Z"
    }
   },
   "outputs": [
    {
     "name": "stdout",
     "output_type": "stream",
     "text": [
      "error: 'replab' undefined near line 1, column 1\r\n"
     ]
    }
   ],
   "source": [
    "G1 = replab.PermutationGroup.of([2 1 3:7], [2 3 1 4:7])"
   ]
  },
  {
   "cell_type": "markdown",
   "id": "1d8a5729",
   "metadata": {},
   "source": [
    "and then stabilize this group over the vector"
   ]
  },
  {
   "cell_type": "code",
   "execution_count": 7,
   "id": "3497e75f",
   "metadata": {
    "execution": {
     "iopub.execute_input": "2021-12-28T10:52:24.309064Z",
     "iopub.status.busy": "2021-12-28T10:52:24.308644Z",
     "iopub.status.idle": "2021-12-28T10:52:24.316378Z",
     "shell.execute_reply": "2021-12-28T10:52:24.316703Z"
    }
   },
   "outputs": [
    {
     "name": "stdout",
     "output_type": "stream",
     "text": [
      "error: 'G1' undefined near line 1, column 1\r\n"
     ]
    }
   ],
   "source": [
    "G1v = G1.vectorStabilizer(v)"
   ]
  },
  {
   "cell_type": "markdown",
   "id": "9097bdf5",
   "metadata": {},
   "source": [
    "This group only contains the two permutations of Gv which also belong to G1:"
   ]
  },
  {
   "cell_type": "code",
   "execution_count": 8,
   "id": "3b4efafd",
   "metadata": {
    "execution": {
     "iopub.execute_input": "2021-12-28T10:52:24.319211Z",
     "iopub.status.busy": "2021-12-28T10:52:24.318784Z",
     "iopub.status.idle": "2021-12-28T10:52:24.326418Z",
     "shell.execute_reply": "2021-12-28T10:52:24.326764Z"
    }
   },
   "outputs": [
    {
     "name": "stdout",
     "output_type": "stream",
     "text": [
      "error: 'G1v' undefined near line 1, column 1\r\n"
     ]
    }
   ],
   "source": [
    "G1v.elements"
   ]
  }
 ],
 "metadata": {
  "jupytext": {
   "cell_metadata_filter": "-all",
   "main_language": "matlab",
   "notebook_metadata_filter": "-all",
   "text_representation": {
    "extension": ".m",
    "format_name": "light"
   }
  },
  "language_info": {
   "file_extension": ".m",
   "help_links": [
    {
     "text": "GNU Octave",
     "url": "https://www.gnu.org/software/octave/support.html"
    },
    {
     "text": "Octave Kernel",
     "url": "https://github.com/Calysto/octave_kernel"
    },
    {
     "text": "MetaKernel Magics",
     "url": "https://metakernel.readthedocs.io/en/latest/source/README.html"
    }
   ],
   "mimetype": "text/x-octave",
   "name": "octave",
   "version": "6.2.0"
  }
 },
 "nbformat": 4,
 "nbformat_minor": 5
}
