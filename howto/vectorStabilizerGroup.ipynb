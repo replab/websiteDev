{
 "cells": [
  {
   "cell_type": "markdown",
   "id": "930dd35c",
   "metadata": {},
   "source": [
    "# Vector stabilizer group\n",
    "\n",
    "This document illustrated how to define groups which leave a vector invariant in *RepLAB*.\n",
    "\n",
    "## Preparation\n",
    "As always, before using *RepLAB* commands, initialize the library:"
   ]
  },
  {
   "cell_type": "code",
   "execution_count": 1,
   "id": "77de4694",
   "metadata": {
    "execution": {
     "iopub.execute_input": "2021-12-18T22:09:09.812441Z",
     "iopub.status.busy": "2021-12-18T22:09:09.809137Z",
     "iopub.status.idle": "2021-12-18T22:09:09.832143Z",
     "shell.execute_reply": "2021-12-18T22:09:09.832474Z"
    }
   },
   "outputs": [
    {
     "name": "stdout",
     "output_type": "stream",
     "text": [
      "error: 'replab_init' undefined near line 1, column 1\r\n"
     ]
    }
   ],
   "source": [
    "addpath([pwd, '/../..']);\n",
    "replab_init('verbose', 0);"
   ]
  },
  {
   "cell_type": "markdown",
   "id": "bb6fdbf1",
   "metadata": {},
   "source": [
    "## Vector stabilizer group\n",
    "\n",
    "Given a vector"
   ]
  },
  {
   "cell_type": "code",
   "execution_count": 2,
   "id": "a3b00f99",
   "metadata": {
    "execution": {
     "iopub.execute_input": "2021-12-18T22:09:09.834973Z",
     "iopub.status.busy": "2021-12-18T22:09:09.834547Z",
     "iopub.status.idle": "2021-12-18T22:09:09.839885Z",
     "shell.execute_reply": "2021-12-18T22:09:09.839501Z"
    }
   },
   "outputs": [],
   "source": [
    "v = [3 2 3 1 2 5 4];"
   ]
  },
  {
   "cell_type": "markdown",
   "id": "a3c14caa",
   "metadata": {},
   "source": [
    "in $\\mathbb{R}^7$, the most general group acting on the components which leaves the vector invariant can be obtained by first defining the general group permuting all possible components"
   ]
  },
  {
   "cell_type": "code",
   "execution_count": 3,
   "id": "fa9162ea",
   "metadata": {
    "execution": {
     "iopub.execute_input": "2021-12-18T22:09:09.842453Z",
     "iopub.status.busy": "2021-12-18T22:09:09.842037Z",
     "iopub.status.idle": "2021-12-18T22:09:09.851707Z",
     "shell.execute_reply": "2021-12-18T22:09:09.851347Z"
    }
   },
   "outputs": [
    {
     "name": "stdout",
     "output_type": "stream",
     "text": [
      "error: 'replab' undefined near line 1, column 1\r\n"
     ]
    }
   ],
   "source": [
    "S7 = replab.S(7)"
   ]
  },
  {
   "cell_type": "markdown",
   "id": "582a49d7",
   "metadata": {},
   "source": [
    "and then asking for its stabilization over the vector"
   ]
  },
  {
   "cell_type": "code",
   "execution_count": 4,
   "id": "b2587746",
   "metadata": {
    "execution": {
     "iopub.execute_input": "2021-12-18T22:09:09.854291Z",
     "iopub.status.busy": "2021-12-18T22:09:09.853869Z",
     "iopub.status.idle": "2021-12-18T22:09:09.861791Z",
     "shell.execute_reply": "2021-12-18T22:09:09.861444Z"
    }
   },
   "outputs": [
    {
     "name": "stdout",
     "output_type": "stream",
     "text": [
      "error: 'S7' undefined near line 1, column 1\r\n"
     ]
    }
   ],
   "source": [
    "Gv = S7.vectorStabilizer(v)"
   ]
  },
  {
   "cell_type": "markdown",
   "id": "bc737933",
   "metadata": {},
   "source": [
    "This group G1 contains all 4 permutations which leave the vector v invariant:"
   ]
  },
  {
   "cell_type": "code",
   "execution_count": 5,
   "id": "478d8e0c",
   "metadata": {
    "execution": {
     "iopub.execute_input": "2021-12-18T22:09:09.864151Z",
     "iopub.status.busy": "2021-12-18T22:09:09.863737Z",
     "iopub.status.idle": "2021-12-18T22:09:09.871683Z",
     "shell.execute_reply": "2021-12-18T22:09:09.871152Z"
    }
   },
   "outputs": [
    {
     "name": "stdout",
     "output_type": "stream",
     "text": [
      "error: 'Gv' undefined near line 1, column 1\r\n"
     ]
    }
   ],
   "source": [
    "Gv.elements"
   ]
  },
  {
   "cell_type": "markdown",
   "id": "0c3b991d",
   "metadata": {},
   "source": [
    "## Vector stabilization over a specific group\n",
    "\n",
    "Alternatively, it is possible to identify all the permutations which leave a vector invariant and which belong to a specific group. This is achieved by first defining the group of interest, for instance"
   ]
  },
  {
   "cell_type": "code",
   "execution_count": 6,
   "id": "62af40f4",
   "metadata": {
    "execution": {
     "iopub.execute_input": "2021-12-18T22:09:09.874229Z",
     "iopub.status.busy": "2021-12-18T22:09:09.873814Z",
     "iopub.status.idle": "2021-12-18T22:09:09.882216Z",
     "shell.execute_reply": "2021-12-18T22:09:09.881847Z"
    }
   },
   "outputs": [
    {
     "name": "stdout",
     "output_type": "stream",
     "text": [
      "error: 'replab' undefined near line 1, column 1\r\n"
     ]
    }
   ],
   "source": [
    "G1 = replab.PermutationGroup.of([2 1 3:7], [2 3 1 4:7])"
   ]
  },
  {
   "cell_type": "markdown",
   "id": "ddfaf76d",
   "metadata": {},
   "source": [
    "and then stabilize this group over the vector"
   ]
  },
  {
   "cell_type": "code",
   "execution_count": 7,
   "id": "eb144bd5",
   "metadata": {
    "execution": {
     "iopub.execute_input": "2021-12-18T22:09:09.884450Z",
     "iopub.status.busy": "2021-12-18T22:09:09.884032Z",
     "iopub.status.idle": "2021-12-18T22:09:09.891933Z",
     "shell.execute_reply": "2021-12-18T22:09:09.891563Z"
    }
   },
   "outputs": [
    {
     "name": "stdout",
     "output_type": "stream",
     "text": [
      "error: 'G1' undefined near line 1, column 1\r\n"
     ]
    }
   ],
   "source": [
    "G1v = G1.vectorStabilizer(v)"
   ]
  },
  {
   "cell_type": "markdown",
   "id": "32f21832",
   "metadata": {},
   "source": [
    "This group only contains the two permutations of Gv which also belong to G1:"
   ]
  },
  {
   "cell_type": "code",
   "execution_count": 8,
   "id": "a31960c9",
   "metadata": {
    "execution": {
     "iopub.execute_input": "2021-12-18T22:09:09.894359Z",
     "iopub.status.busy": "2021-12-18T22:09:09.893940Z",
     "iopub.status.idle": "2021-12-18T22:09:09.901713Z",
     "shell.execute_reply": "2021-12-18T22:09:09.901354Z"
    }
   },
   "outputs": [
    {
     "name": "stdout",
     "output_type": "stream",
     "text": [
      "error: 'G1v' undefined near line 1, column 1\r\n"
     ]
    }
   ],
   "source": [
    "G1v.elements"
   ]
  }
 ],
 "metadata": {
  "jupytext": {
   "cell_metadata_filter": "-all",
   "main_language": "matlab",
   "notebook_metadata_filter": "-all",
   "text_representation": {
    "extension": ".m",
    "format_name": "light"
   }
  },
  "language_info": {
   "file_extension": ".m",
   "help_links": [
    {
     "text": "GNU Octave",
     "url": "https://www.gnu.org/software/octave/support.html"
    },
    {
     "text": "Octave Kernel",
     "url": "https://github.com/Calysto/octave_kernel"
    },
    {
     "text": "MetaKernel Magics",
     "url": "https://metakernel.readthedocs.io/en/latest/source/README.html"
    }
   ],
   "mimetype": "text/x-octave",
   "name": "octave",
   "version": "6.2.0"
  }
 },
 "nbformat": 4,
 "nbformat_minor": 5
}
