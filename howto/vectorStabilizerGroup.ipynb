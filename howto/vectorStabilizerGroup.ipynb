{
 "cells": [
  {
   "cell_type": "markdown",
   "id": "b0d53e5b",
   "metadata": {},
   "source": [
    "# Vector stabilizer group\n",
    "\n",
    "This document illustrated how to define groups which leave a vector invariant in *RepLAB*.\n",
    "\n",
    "## Preparation\n",
    "As always, before using *RepLAB* commands, initialize the library:"
   ]
  },
  {
   "cell_type": "code",
   "execution_count": 1,
   "id": "364ba724",
   "metadata": {
    "execution": {
     "iopub.execute_input": "2021-12-28T11:52:58.901018Z",
     "iopub.status.busy": "2021-12-28T11:52:58.898040Z",
     "iopub.status.idle": "2021-12-28T11:52:58.922708Z",
     "shell.execute_reply": "2021-12-28T11:52:58.922171Z"
    }
   },
   "outputs": [
    {
     "name": "stdout",
     "output_type": "stream",
     "text": [
      "error: 'replab_init' undefined near line 1, column 1\r\n"
     ]
    }
   ],
   "source": [
    "addpath([pwd, '/../..']);\n",
    "replab_init('verbose', 0);"
   ]
  },
  {
   "cell_type": "markdown",
   "id": "3d2c8e68",
   "metadata": {},
   "source": [
    "## Vector stabilizer group\n",
    "\n",
    "Given a vector"
   ]
  },
  {
   "cell_type": "code",
   "execution_count": 2,
   "id": "9e05aecc",
   "metadata": {
    "execution": {
     "iopub.execute_input": "2021-12-28T11:52:58.925513Z",
     "iopub.status.busy": "2021-12-28T11:52:58.925086Z",
     "iopub.status.idle": "2021-12-28T11:52:58.930329Z",
     "shell.execute_reply": "2021-12-28T11:52:58.930659Z"
    }
   },
   "outputs": [],
   "source": [
    "v = [3 2 3 1 2 5 4];"
   ]
  },
  {
   "cell_type": "markdown",
   "id": "978fea60",
   "metadata": {},
   "source": [
    "in $\\mathbb{R}^7$, the most general group acting on the components which leaves the vector invariant can be obtained by first defining the general group permuting all possible components"
   ]
  },
  {
   "cell_type": "code",
   "execution_count": 3,
   "id": "4b410772",
   "metadata": {
    "execution": {
     "iopub.execute_input": "2021-12-28T11:52:58.933271Z",
     "iopub.status.busy": "2021-12-28T11:52:58.932842Z",
     "iopub.status.idle": "2021-12-28T11:52:58.941353Z",
     "shell.execute_reply": "2021-12-28T11:52:58.940979Z"
    }
   },
   "outputs": [
    {
     "name": "stdout",
     "output_type": "stream",
     "text": [
      "error: 'replab' undefined near line 1, column 1\r\n"
     ]
    }
   ],
   "source": [
    "S7 = replab.S(7)"
   ]
  },
  {
   "cell_type": "markdown",
   "id": "5108187e",
   "metadata": {},
   "source": [
    "and then asking for its stabilization over the vector"
   ]
  },
  {
   "cell_type": "code",
   "execution_count": 4,
   "id": "c8357f15",
   "metadata": {
    "execution": {
     "iopub.execute_input": "2021-12-28T11:52:58.944070Z",
     "iopub.status.busy": "2021-12-28T11:52:58.943544Z",
     "iopub.status.idle": "2021-12-28T11:52:58.951795Z",
     "shell.execute_reply": "2021-12-28T11:52:58.951419Z"
    }
   },
   "outputs": [
    {
     "name": "stdout",
     "output_type": "stream",
     "text": [
      "error: 'S7' undefined near line 1, column 1\r\n"
     ]
    }
   ],
   "source": [
    "Gv = S7.vectorStabilizer(v)"
   ]
  },
  {
   "cell_type": "markdown",
   "id": "e884901d",
   "metadata": {},
   "source": [
    "This group G1 contains all 4 permutations which leave the vector v invariant:"
   ]
  },
  {
   "cell_type": "code",
   "execution_count": 5,
   "id": "e5061aff",
   "metadata": {
    "execution": {
     "iopub.execute_input": "2021-12-28T11:52:58.954472Z",
     "iopub.status.busy": "2021-12-28T11:52:58.953962Z",
     "iopub.status.idle": "2021-12-28T11:52:58.961668Z",
     "shell.execute_reply": "2021-12-28T11:52:58.961328Z"
    }
   },
   "outputs": [
    {
     "name": "stdout",
     "output_type": "stream",
     "text": [
      "error: 'Gv' undefined near line 1, column 1\r\n"
     ]
    }
   ],
   "source": [
    "Gv.elements"
   ]
  },
  {
   "cell_type": "markdown",
   "id": "fbc6edc3",
   "metadata": {},
   "source": [
    "## Vector stabilization over a specific group\n",
    "\n",
    "Alternatively, it is possible to identify all the permutations which leave a vector invariant and which belong to a specific group. This is achieved by first defining the group of interest, for instance"
   ]
  },
  {
   "cell_type": "code",
   "execution_count": 6,
   "id": "debbe038",
   "metadata": {
    "execution": {
     "iopub.execute_input": "2021-12-28T11:52:58.964107Z",
     "iopub.status.busy": "2021-12-28T11:52:58.963693Z",
     "iopub.status.idle": "2021-12-28T11:52:58.971872Z",
     "shell.execute_reply": "2021-12-28T11:52:58.971493Z"
    }
   },
   "outputs": [
    {
     "name": "stdout",
     "output_type": "stream",
     "text": [
      "error: 'replab' undefined near line 1, column 1\r\n"
     ]
    }
   ],
   "source": [
    "G1 = replab.PermutationGroup.of([2 1 3:7], [2 3 1 4:7])"
   ]
  },
  {
   "cell_type": "markdown",
   "id": "9a7b525c",
   "metadata": {},
   "source": [
    "and then stabilize this group over the vector"
   ]
  },
  {
   "cell_type": "code",
   "execution_count": 7,
   "id": "bcb24c72",
   "metadata": {
    "execution": {
     "iopub.execute_input": "2021-12-28T11:52:58.974461Z",
     "iopub.status.busy": "2021-12-28T11:52:58.974047Z",
     "iopub.status.idle": "2021-12-28T11:52:58.981448Z",
     "shell.execute_reply": "2021-12-28T11:52:58.981102Z"
    }
   },
   "outputs": [
    {
     "name": "stdout",
     "output_type": "stream",
     "text": [
      "error: 'G1' undefined near line 1, column 1\r\n"
     ]
    }
   ],
   "source": [
    "G1v = G1.vectorStabilizer(v)"
   ]
  },
  {
   "cell_type": "markdown",
   "id": "82d661bb",
   "metadata": {},
   "source": [
    "This group only contains the two permutations of Gv which also belong to G1:"
   ]
  },
  {
   "cell_type": "code",
   "execution_count": 8,
   "id": "310e6209",
   "metadata": {
    "execution": {
     "iopub.execute_input": "2021-12-28T11:52:58.983831Z",
     "iopub.status.busy": "2021-12-28T11:52:58.983413Z",
     "iopub.status.idle": "2021-12-28T11:52:58.991288Z",
     "shell.execute_reply": "2021-12-28T11:52:58.990924Z"
    }
   },
   "outputs": [
    {
     "name": "stdout",
     "output_type": "stream",
     "text": [
      "error: 'G1v' undefined near line 1, column 1\r\n"
     ]
    }
   ],
   "source": [
    "G1v.elements"
   ]
  }
 ],
 "metadata": {
  "jupytext": {
   "cell_metadata_filter": "-all",
   "main_language": "matlab",
   "notebook_metadata_filter": "-all",
   "text_representation": {
    "extension": ".m",
    "format_name": "light"
   }
  },
  "language_info": {
   "file_extension": ".m",
   "help_links": [
    {
     "text": "GNU Octave",
     "url": "https://www.gnu.org/software/octave/support.html"
    },
    {
     "text": "Octave Kernel",
     "url": "https://github.com/Calysto/octave_kernel"
    },
    {
     "text": "MetaKernel Magics",
     "url": "https://metakernel.readthedocs.io/en/latest/source/README.html"
    }
   ],
   "mimetype": "text/x-octave",
   "name": "octave",
   "version": "6.2.0"
  }
 },
 "nbformat": 4,
 "nbformat_minor": 5
}
