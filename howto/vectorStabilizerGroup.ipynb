{
 "cells": [
  {
   "cell_type": "markdown",
   "id": "074fd5df",
   "metadata": {},
   "source": [
    "# Vector stabilizer group\n",
    "\n",
    "This document illustrated how to define groups which leave a vector invariant in *RepLAB*.\n",
    "\n",
    "## Preparation\n",
    "As always, before using *RepLAB* commands, initialize the library:"
   ]
  },
  {
   "cell_type": "code",
   "execution_count": 1,
   "id": "40c101d0",
   "metadata": {
    "execution": {
     "iopub.execute_input": "2021-12-20T14:17:04.360642Z",
     "iopub.status.busy": "2021-12-20T14:17:04.356854Z",
     "iopub.status.idle": "2021-12-20T14:17:04.385676Z",
     "shell.execute_reply": "2021-12-20T14:17:04.386060Z"
    }
   },
   "outputs": [
    {
     "name": "stdout",
     "output_type": "stream",
     "text": [
      "error: 'replab_init' undefined near line 1, column 1\r\n"
     ]
    }
   ],
   "source": [
    "addpath([pwd, '/../..']);\n",
    "replab_init('verbose', 0);"
   ]
  },
  {
   "cell_type": "markdown",
   "id": "f23d352d",
   "metadata": {},
   "source": [
    "## Vector stabilizer group\n",
    "\n",
    "Given a vector"
   ]
  },
  {
   "cell_type": "code",
   "execution_count": 2,
   "id": "1e45f017",
   "metadata": {
    "execution": {
     "iopub.execute_input": "2021-12-20T14:17:04.389429Z",
     "iopub.status.busy": "2021-12-20T14:17:04.388933Z",
     "iopub.status.idle": "2021-12-20T14:17:04.395850Z",
     "shell.execute_reply": "2021-12-20T14:17:04.395366Z"
    }
   },
   "outputs": [],
   "source": [
    "v = [3 2 3 1 2 5 4];"
   ]
  },
  {
   "cell_type": "markdown",
   "id": "a98636ec",
   "metadata": {},
   "source": [
    "in $\\mathbb{R}^7$, the most general group acting on the components which leaves the vector invariant can be obtained by first defining the general group permuting all possible components"
   ]
  },
  {
   "cell_type": "code",
   "execution_count": 3,
   "id": "6d4f27c3",
   "metadata": {
    "execution": {
     "iopub.execute_input": "2021-12-20T14:17:04.398393Z",
     "iopub.status.busy": "2021-12-20T14:17:04.397963Z",
     "iopub.status.idle": "2021-12-20T14:17:04.412316Z",
     "shell.execute_reply": "2021-12-20T14:17:04.411420Z"
    }
   },
   "outputs": [
    {
     "name": "stdout",
     "output_type": "stream",
     "text": [
      "error: 'replab' undefined near line 1, column 1\r\n"
     ]
    }
   ],
   "source": [
    "S7 = replab.S(7)"
   ]
  },
  {
   "cell_type": "markdown",
   "id": "53fdec0e",
   "metadata": {},
   "source": [
    "and then asking for its stabilization over the vector"
   ]
  },
  {
   "cell_type": "code",
   "execution_count": 4,
   "id": "0909cb34",
   "metadata": {
    "execution": {
     "iopub.execute_input": "2021-12-20T14:17:04.415954Z",
     "iopub.status.busy": "2021-12-20T14:17:04.415211Z",
     "iopub.status.idle": "2021-12-20T14:17:04.428573Z",
     "shell.execute_reply": "2021-12-20T14:17:04.428091Z"
    }
   },
   "outputs": [
    {
     "name": "stdout",
     "output_type": "stream",
     "text": [
      "error: 'S7' undefined near line 1, column 1\r\n"
     ]
    }
   ],
   "source": [
    "Gv = S7.vectorStabilizer(v)"
   ]
  },
  {
   "cell_type": "markdown",
   "id": "f43dfb4b",
   "metadata": {},
   "source": [
    "This group G1 contains all 4 permutations which leave the vector v invariant:"
   ]
  },
  {
   "cell_type": "code",
   "execution_count": 5,
   "id": "32c2d8f6",
   "metadata": {
    "execution": {
     "iopub.execute_input": "2021-12-20T14:17:04.431629Z",
     "iopub.status.busy": "2021-12-20T14:17:04.431174Z",
     "iopub.status.idle": "2021-12-20T14:17:04.443993Z",
     "shell.execute_reply": "2021-12-20T14:17:04.443568Z"
    }
   },
   "outputs": [
    {
     "name": "stdout",
     "output_type": "stream",
     "text": [
      "error: 'Gv' undefined near line 1, column 1\r\n"
     ]
    }
   ],
   "source": [
    "Gv.elements"
   ]
  },
  {
   "cell_type": "markdown",
   "id": "c13badb8",
   "metadata": {},
   "source": [
    "## Vector stabilization over a specific group\n",
    "\n",
    "Alternatively, it is possible to identify all the permutations which leave a vector invariant and which belong to a specific group. This is achieved by first defining the group of interest, for instance"
   ]
  },
  {
   "cell_type": "code",
   "execution_count": 6,
   "id": "68386402",
   "metadata": {
    "execution": {
     "iopub.execute_input": "2021-12-20T14:17:04.446886Z",
     "iopub.status.busy": "2021-12-20T14:17:04.446446Z",
     "iopub.status.idle": "2021-12-20T14:17:04.458591Z",
     "shell.execute_reply": "2021-12-20T14:17:04.458936Z"
    }
   },
   "outputs": [
    {
     "name": "stdout",
     "output_type": "stream",
     "text": [
      "error: 'replab' undefined near line 1, column 1\r\n"
     ]
    }
   ],
   "source": [
    "G1 = replab.PermutationGroup.of([2 1 3:7], [2 3 1 4:7])"
   ]
  },
  {
   "cell_type": "markdown",
   "id": "5f238067",
   "metadata": {},
   "source": [
    "and then stabilize this group over the vector"
   ]
  },
  {
   "cell_type": "code",
   "execution_count": 7,
   "id": "ff404fe4",
   "metadata": {
    "execution": {
     "iopub.execute_input": "2021-12-20T14:17:04.462389Z",
     "iopub.status.busy": "2021-12-20T14:17:04.461941Z",
     "iopub.status.idle": "2021-12-20T14:17:04.471379Z",
     "shell.execute_reply": "2021-12-20T14:17:04.471723Z"
    }
   },
   "outputs": [
    {
     "name": "stdout",
     "output_type": "stream",
     "text": [
      "error: 'G1' undefined near line 1, column 1\r\n"
     ]
    }
   ],
   "source": [
    "G1v = G1.vectorStabilizer(v)"
   ]
  },
  {
   "cell_type": "markdown",
   "id": "a0b56b4c",
   "metadata": {},
   "source": [
    "This group only contains the two permutations of Gv which also belong to G1:"
   ]
  },
  {
   "cell_type": "code",
   "execution_count": 8,
   "id": "0e5c2f6c",
   "metadata": {
    "execution": {
     "iopub.execute_input": "2021-12-20T14:17:04.474550Z",
     "iopub.status.busy": "2021-12-20T14:17:04.474125Z",
     "iopub.status.idle": "2021-12-20T14:17:04.483687Z",
     "shell.execute_reply": "2021-12-20T14:17:04.483308Z"
    }
   },
   "outputs": [
    {
     "name": "stdout",
     "output_type": "stream",
     "text": [
      "error: 'G1v' undefined near line 1, column 1\r\n"
     ]
    }
   ],
   "source": [
    "G1v.elements"
   ]
  }
 ],
 "metadata": {
  "jupytext": {
   "cell_metadata_filter": "-all",
   "main_language": "matlab",
   "notebook_metadata_filter": "-all",
   "text_representation": {
    "extension": ".m",
    "format_name": "light"
   }
  },
  "language_info": {
   "file_extension": ".m",
   "help_links": [
    {
     "text": "GNU Octave",
     "url": "https://www.gnu.org/software/octave/support.html"
    },
    {
     "text": "Octave Kernel",
     "url": "https://github.com/Calysto/octave_kernel"
    },
    {
     "text": "MetaKernel Magics",
     "url": "https://metakernel.readthedocs.io/en/latest/source/README.html"
    }
   ],
   "mimetype": "text/x-octave",
   "name": "octave",
   "version": "6.2.0"
  }
 },
 "nbformat": 4,
 "nbformat_minor": 5
}
