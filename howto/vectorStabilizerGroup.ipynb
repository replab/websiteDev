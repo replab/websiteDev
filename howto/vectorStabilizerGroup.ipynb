{
 "cells": [
  {
   "cell_type": "markdown",
   "id": "24fc935b",
   "metadata": {},
   "source": [
    "# Vector stabilizer group\n",
    "\n",
    "This document illustrated how to define groups which leave a vector invariant in *RepLAB*.\n",
    "\n",
    "## Preparation\n",
    "As always, before using *RepLAB* commands, initialize the library:"
   ]
  },
  {
   "cell_type": "code",
   "execution_count": 1,
   "id": "787e0b1c",
   "metadata": {
    "execution": {
     "iopub.execute_input": "2021-12-13T21:25:42.576248Z",
     "iopub.status.busy": "2021-12-13T21:25:42.575793Z",
     "iopub.status.idle": "2021-12-13T21:25:48.463090Z",
     "shell.execute_reply": "2021-12-13T21:25:48.463430Z"
    }
   },
   "outputs": [
    {
     "name": "stdout",
     "output_type": "stream",
     "text": [
      "replab_init: Initialization done.\r\n"
     ]
    }
   ],
   "source": [
    "addpath([pwd, '/../..']);\n",
    "replab_init('verbose', 0);"
   ]
  },
  {
   "cell_type": "markdown",
   "id": "b8c7f6bd",
   "metadata": {},
   "source": [
    "## Vector stabilizer group\n",
    "\n",
    "Given a vector"
   ]
  },
  {
   "cell_type": "code",
   "execution_count": 2,
   "id": "1e6f9cd2",
   "metadata": {
    "execution": {
     "iopub.execute_input": "2021-12-13T21:25:48.466433Z",
     "iopub.status.busy": "2021-12-13T21:25:48.465619Z",
     "iopub.status.idle": "2021-12-13T21:25:48.477984Z",
     "shell.execute_reply": "2021-12-13T21:25:48.477604Z"
    }
   },
   "outputs": [],
   "source": [
    "v = [3 2 3 1 2 5 4];"
   ]
  },
  {
   "cell_type": "markdown",
   "id": "adfd271f",
   "metadata": {},
   "source": [
    "in $\\mathbb{R}^7$, the most general group acting on the components which leaves the vector invariant can be obtained by first defining the general group permuting all possible components"
   ]
  },
  {
   "cell_type": "code",
   "execution_count": 3,
   "id": "6a9ab4a5",
   "metadata": {
    "execution": {
     "iopub.execute_input": "2021-12-13T21:25:48.480896Z",
     "iopub.status.busy": "2021-12-13T21:25:48.480472Z",
     "iopub.status.idle": "2021-12-13T21:25:48.634017Z",
     "shell.execute_reply": "2021-12-13T21:25:48.633639Z"
    }
   },
   "outputs": [
    {
     "name": "stdout",
     "output_type": "stream",
     "text": [
      "S7 ="
     ]
    },
    {
     "name": "stdout",
     "output_type": "stream",
     "text": [
      "\r"
     ]
    },
    {
     "name": "stdout",
     "output_type": "stream",
     "text": [
      "\n"
     ]
    },
    {
     "name": "stdout",
     "output_type": "stream",
     "text": [
      "\r\n",
      "Symmetric group acting on 7 elements\r\n",
      "            identity: [1, 2, 3, 4, 5, 6, 7]\r\n",
      "generator(1 or 'x1'): [2, 3, 4, 5, 6, 7, 1]\r\n",
      "generator(2 or 'x2'): [2, 1, 3, 4, 5, 6, 7]\r\n",
      "\r\n"
     ]
    }
   ],
   "source": [
    "S7 = replab.S(7)"
   ]
  },
  {
   "cell_type": "markdown",
   "id": "3fe4e801",
   "metadata": {},
   "source": [
    "and then asking for its stabilization over the vector"
   ]
  },
  {
   "cell_type": "code",
   "execution_count": 4,
   "id": "859cd2ef",
   "metadata": {
    "execution": {
     "iopub.execute_input": "2021-12-13T21:25:48.636778Z",
     "iopub.status.busy": "2021-12-13T21:25:48.636356Z",
     "iopub.status.idle": "2021-12-13T21:25:52.433676Z",
     "shell.execute_reply": "2021-12-13T21:25:52.433293Z"
    }
   },
   "outputs": [
    {
     "name": "stdout",
     "output_type": "stream",
     "text": [
      "Gv ="
     ]
    },
    {
     "name": "stdout",
     "output_type": "stream",
     "text": [
      "\r"
     ]
    },
    {
     "name": "stdout",
     "output_type": "stream",
     "text": [
      "\n"
     ]
    },
    {
     "name": "stdout",
     "output_type": "stream",
     "text": [
      "\r\n",
      "Permutation group acting on 7 elements of order 4\r\n",
      "            identity: [1, 2, 3, 4, 5, 6, 7]\r\n",
      "generator(1 or 'x1'): [3, 2, 1, 4, 5, 6, 7]\r\n",
      "generator(2 or 'x2'): [1, 5, 3, 4, 2, 6, 7]\r\n",
      "    recognize.source: Klein four-group < a, x | a^2 = x^2 = x a x^-1 a^-1 = 1 >\r\n",
      "\r\n"
     ]
    }
   ],
   "source": [
    "Gv = S7.vectorStabilizer(v)"
   ]
  },
  {
   "cell_type": "markdown",
   "id": "bd25f00a",
   "metadata": {},
   "source": [
    "This group G1 contains all 4 permutations which leave the vector v invariant:"
   ]
  },
  {
   "cell_type": "code",
   "execution_count": 5,
   "id": "890e7c7f",
   "metadata": {
    "execution": {
     "iopub.execute_input": "2021-12-13T21:25:52.436527Z",
     "iopub.status.busy": "2021-12-13T21:25:52.435800Z",
     "iopub.status.idle": "2021-12-13T21:25:52.457502Z",
     "shell.execute_reply": "2021-12-13T21:25:52.458068Z"
    }
   },
   "outputs": [
    {
     "name": "stdout",
     "output_type": "stream",
     "text": [
      "ans =\r\n",
      "{\r\n",
      "  [1,1] =\r\n",
      "\r\n",
      "     1   2   3   4   5   6   7\r\n",
      "\r\n",
      "  [1,2] =\r\n",
      "\r\n",
      "     1   5   3   4   2   6   7\r\n",
      "\r\n",
      "  [1,3] =\r\n",
      "\r\n",
      "     3   2   1   4   5   6   7\r\n",
      "\r\n",
      "  [1,4] =\r\n",
      "\r\n",
      "     3   5   1   4   2   6   7\r\n",
      "\r\n",
      "}\r\n",
      "\r\n"
     ]
    }
   ],
   "source": [
    "Gv.elements"
   ]
  },
  {
   "cell_type": "markdown",
   "id": "10d70ceb",
   "metadata": {},
   "source": [
    "## Vector stabilization over a specific group\n",
    "\n",
    "Alternatively, it is possible to identify all the permutations which leave a vector invariant and which belong to a specific group. This is achieved by first defining the group of interest, for instance"
   ]
  },
  {
   "cell_type": "code",
   "execution_count": 6,
   "id": "cb84bb99",
   "metadata": {
    "execution": {
     "iopub.execute_input": "2021-12-13T21:25:52.464694Z",
     "iopub.status.busy": "2021-12-13T21:25:52.460201Z",
     "iopub.status.idle": "2021-12-13T21:25:55.042720Z",
     "shell.execute_reply": "2021-12-13T21:25:55.042020Z"
    }
   },
   "outputs": [
    {
     "name": "stdout",
     "output_type": "stream",
     "text": [
      "G1 ="
     ]
    },
    {
     "name": "stdout",
     "output_type": "stream",
     "text": [
      "\r"
     ]
    },
    {
     "name": "stdout",
     "output_type": "stream",
     "text": [
      "\n"
     ]
    },
    {
     "name": "stdout",
     "output_type": "stream",
     "text": [
      "\r\n",
      "Permutation group acting on 7 elements of order 6\r\n",
      "            identity: [1, 2, 3, 4, 5, 6, 7]\r\n",
      "generator(1 or 'x1'): [2, 1, 3, 4, 5, 6, 7]\r\n",
      "generator(2 or 'x2'): [2, 3, 1, 4, 5, 6, 7]\r\n",
      "    recognize.source: Dihedral group of order 6\r\n",
      "\r\n"
     ]
    }
   ],
   "source": [
    "G1 = replab.PermutationGroup.of([2 1 3:7], [2 3 1 4:7])"
   ]
  },
  {
   "cell_type": "markdown",
   "id": "1765b6e1",
   "metadata": {},
   "source": [
    "and then stabilize this group over the vector"
   ]
  },
  {
   "cell_type": "code",
   "execution_count": 7,
   "id": "d4303066",
   "metadata": {
    "execution": {
     "iopub.execute_input": "2021-12-13T21:25:55.045702Z",
     "iopub.status.busy": "2021-12-13T21:25:55.045279Z",
     "iopub.status.idle": "2021-12-13T21:25:55.967421Z",
     "shell.execute_reply": "2021-12-13T21:25:55.967044Z"
    }
   },
   "outputs": [
    {
     "name": "stdout",
     "output_type": "stream",
     "text": [
      "G1v ="
     ]
    },
    {
     "name": "stdout",
     "output_type": "stream",
     "text": [
      "\r"
     ]
    },
    {
     "name": "stdout",
     "output_type": "stream",
     "text": [
      "\n"
     ]
    },
    {
     "name": "stdout",
     "output_type": "stream",
     "text": [
      "\r\n",
      "Permutation group acting on 7 elements of order 2\r\n",
      "            identity: [1, 2, 3, 4, 5, 6, 7]\r\n",
      "generator(1 or 'x1'): [3, 2, 1, 4, 5, 6, 7]\r\n",
      "    recognize.source: Cyclic group C(2) of order 2 < x | x^2 = 1 >\r\n",
      "\r\n"
     ]
    }
   ],
   "source": [
    "G1v = G1.vectorStabilizer(v)"
   ]
  },
  {
   "cell_type": "markdown",
   "id": "d5ecb292",
   "metadata": {},
   "source": [
    "This group only contains the two permutations of Gv which also belong to G1:"
   ]
  },
  {
   "cell_type": "code",
   "execution_count": 8,
   "id": "a1e64fbd",
   "metadata": {
    "execution": {
     "iopub.execute_input": "2021-12-13T21:25:55.970025Z",
     "iopub.status.busy": "2021-12-13T21:25:55.969617Z",
     "iopub.status.idle": "2021-12-13T21:25:55.986598Z",
     "shell.execute_reply": "2021-12-13T21:25:55.986226Z"
    }
   },
   "outputs": [
    {
     "name": "stdout",
     "output_type": "stream",
     "text": [
      "ans =\r\n",
      "{\r\n",
      "  [1,1] =\r\n",
      "\r\n",
      "     1   2   3   4   5   6   7\r\n",
      "\r\n",
      "  [1,2] =\r\n",
      "\r\n",
      "     3   2   1   4   5   6   7\r\n",
      "\r\n",
      "}\r\n",
      "\r\n"
     ]
    }
   ],
   "source": [
    "G1v.elements"
   ]
  },
  {
   "cell_type": "code",
   "execution_count": null,
   "id": "40cec80e",
   "metadata": {
    "lines_to_next_cell": 2
   },
   "outputs": [],
   "source": []
  }
 ],
 "metadata": {
  "jupytext": {
   "cell_metadata_filter": "-all",
   "main_language": "matlab",
   "notebook_metadata_filter": "-all",
   "text_representation": {
    "extension": ".m",
    "format_name": "light"
   }
  },
  "language_info": {
   "file_extension": ".m",
   "help_links": [
    {
     "text": "GNU Octave",
     "url": "https://www.gnu.org/software/octave/support.html"
    },
    {
     "text": "Octave Kernel",
     "url": "https://github.com/Calysto/octave_kernel"
    },
    {
     "text": "MetaKernel Magics",
     "url": "https://metakernel.readthedocs.io/en/latest/source/README.html"
    }
   ],
   "mimetype": "text/x-octave",
   "name": "octave",
   "version": "6.2.0"
  }
 },
 "nbformat": 4,
 "nbformat_minor": 5
}
