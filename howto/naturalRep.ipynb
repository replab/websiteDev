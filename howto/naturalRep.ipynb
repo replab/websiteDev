{
 "cells": [
  {
   "cell_type": "markdown",
   "id": "9672c508",
   "metadata": {},
   "source": [
    "# Natural representation\n",
    "\n",
    "This document shows how to construct the natural representation of a permutation group in *RepLAB*.\n",
    "\n",
    "## Preparation\n",
    "As always, before using *RepLAB* commands, initialize the library:"
   ]
  },
  {
   "cell_type": "code",
   "execution_count": 1,
   "id": "eb515408",
   "metadata": {
    "execution": {
     "iopub.execute_input": "2021-12-13T20:29:46.100653Z",
     "iopub.status.busy": "2021-12-13T20:29:46.098500Z",
     "iopub.status.idle": "2021-12-13T20:29:53.568371Z",
     "shell.execute_reply": "2021-12-13T20:29:53.568833Z"
    }
   },
   "outputs": [
    {
     "name": "stdout",
     "output_type": "stream",
     "text": [
      "replab_init: Initialization done.\r\n"
     ]
    }
   ],
   "source": [
    "addpath([pwd, '/../..']);\n",
    "replab_init('verbose', 0);"
   ]
  },
  {
   "cell_type": "markdown",
   "id": "ed58be2b",
   "metadata": {},
   "source": [
    "## Group definition\n",
    "\n",
    "Consider a permutation group acting on $n=5$ elements"
   ]
  },
  {
   "cell_type": "code",
   "execution_count": 2,
   "id": "d59d9ef0",
   "metadata": {
    "execution": {
     "iopub.execute_input": "2021-12-13T20:29:53.572110Z",
     "iopub.status.busy": "2021-12-13T20:29:53.571577Z",
     "iopub.status.idle": "2021-12-13T20:29:56.838935Z",
     "shell.execute_reply": "2021-12-13T20:29:56.838106Z"
    }
   },
   "outputs": [
    {
     "name": "stdout",
     "output_type": "stream",
     "text": [
      "group ="
     ]
    },
    {
     "name": "stdout",
     "output_type": "stream",
     "text": [
      "\r"
     ]
    },
    {
     "name": "stdout",
     "output_type": "stream",
     "text": [
      "\n"
     ]
    },
    {
     "name": "stdout",
     "output_type": "stream",
     "text": [
      "\r\n",
      "Permutation group acting on 5 elements of order 6\r\n",
      "            identity: [1, 2, 3, 4, 5]\r\n",
      "generator(1 or 'x1'): [2, 1, 4, 5, 3]\r\n",
      "    recognize.source: Cyclic group C(6) of order 6 < x | x^6 = 1 >\r\n",
      "\r\n"
     ]
    }
   ],
   "source": [
    "S5 = replab.S(5);\n",
    "group = S5.subgroup({[2 1 4 5 3]})"
   ]
  },
  {
   "cell_type": "markdown",
   "id": "a066e6a3",
   "metadata": {},
   "source": [
    "## Representation\n",
    "\n",
    "The natural representation is"
   ]
  },
  {
   "cell_type": "code",
   "execution_count": 3,
   "id": "892a1036",
   "metadata": {
    "execution": {
     "iopub.execute_input": "2021-12-13T20:29:56.841751Z",
     "iopub.status.busy": "2021-12-13T20:29:56.841244Z",
     "iopub.status.idle": "2021-12-13T20:29:57.023494Z",
     "shell.execute_reply": "2021-12-13T20:29:57.022994Z"
    }
   },
   "outputs": [
    {
     "name": "stdout",
     "output_type": "stream",
     "text": [
      "rep =\r\n",
      "\r\n",
      "Orthogonal reducible representation\r\n",
      "   dimension: 5\r\n",
      "       field: 'R'\r\n",
      "       group: Permutation group acting on 5 elements of order 6\r\n",
      "   isUnitary: true\r\n",
      "preimages{1}: [2, 1, 4, 5, 3]\r\n",
      "   images{1}: 5 x 5 double\r\n",
      "\r\n"
     ]
    }
   ],
   "source": [
    "rep = group.naturalRep"
   ]
  },
  {
   "cell_type": "markdown",
   "id": "e8341156",
   "metadata": {},
   "source": [
    "The representation of group elements are the expected $5 \\times 5$ matrices:"
   ]
  },
  {
   "cell_type": "code",
   "execution_count": 4,
   "id": "4a473fab",
   "metadata": {
    "execution": {
     "iopub.execute_input": "2021-12-13T20:29:57.027066Z",
     "iopub.status.busy": "2021-12-13T20:29:57.026556Z",
     "iopub.status.idle": "2021-12-13T20:29:57.051690Z",
     "shell.execute_reply": "2021-12-13T20:29:57.051250Z"
    }
   },
   "outputs": [
    {
     "name": "stdout",
     "output_type": "stream",
     "text": [
      "ans =\r\n",
      "\r\n",
      "   0   1   0   0   0\r\n",
      "   1   0   0   0   0\r\n",
      "   0   0   0   1   0\r\n",
      "   0   0   0   0   1\r\n",
      "   0   0   1   0   0\r\n",
      "\r\n"
     ]
    }
   ],
   "source": [
    "rep.image([2 1 5 3 4])"
   ]
  },
  {
   "cell_type": "code",
   "execution_count": null,
   "id": "d72a8f63",
   "metadata": {
    "lines_to_next_cell": 2
   },
   "outputs": [],
   "source": []
  }
 ],
 "metadata": {
  "jupytext": {
   "cell_metadata_filter": "-all",
   "main_language": "matlab",
   "notebook_metadata_filter": "-all",
   "text_representation": {
    "extension": ".m",
    "format_name": "light"
   }
  },
  "language_info": {
   "file_extension": ".m",
   "help_links": [
    {
     "text": "GNU Octave",
     "url": "https://www.gnu.org/software/octave/support.html"
    },
    {
     "text": "Octave Kernel",
     "url": "https://github.com/Calysto/octave_kernel"
    },
    {
     "text": "MetaKernel Magics",
     "url": "https://metakernel.readthedocs.io/en/latest/source/README.html"
    }
   ],
   "mimetype": "text/x-octave",
   "name": "octave",
   "version": "6.2.0"
  }
 },
 "nbformat": 4,
 "nbformat_minor": 5
}
