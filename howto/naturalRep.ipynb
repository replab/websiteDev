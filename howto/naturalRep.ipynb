{
 "cells": [
  {
   "cell_type": "markdown",
   "id": "64c68069",
   "metadata": {},
   "source": [
    "# Natural representation\n",
    "\n",
    "This document shows how to construct the natural representation of a permutation group in *RepLAB*.\n",
    "\n",
    "## Preparation\n",
    "As always, before using *RepLAB* commands, initialize the library:"
   ]
  },
  {
   "cell_type": "code",
   "execution_count": 1,
   "id": "cb07556c",
   "metadata": {
    "execution": {
     "iopub.execute_input": "2021-12-20T14:16:53.545015Z",
     "iopub.status.busy": "2021-12-20T14:16:53.544579Z",
     "iopub.status.idle": "2021-12-20T14:16:53.567416Z",
     "shell.execute_reply": "2021-12-20T14:16:53.566939Z"
    }
   },
   "outputs": [
    {
     "name": "stdout",
     "output_type": "stream",
     "text": [
      "error: 'replab_init' undefined near line 1, column 1\r\n"
     ]
    }
   ],
   "source": [
    "addpath([pwd, '/../..']);\n",
    "replab_init('verbose', 0);"
   ]
  },
  {
   "cell_type": "markdown",
   "id": "79c4bbb6",
   "metadata": {},
   "source": [
    "## Group definition\n",
    "\n",
    "Consider a permutation group acting on $n=5$ elements"
   ]
  },
  {
   "cell_type": "code",
   "execution_count": 2,
   "id": "ed8a2961",
   "metadata": {
    "execution": {
     "iopub.execute_input": "2021-12-20T14:16:53.570590Z",
     "iopub.status.busy": "2021-12-20T14:16:53.570181Z",
     "iopub.status.idle": "2021-12-20T14:16:53.582617Z",
     "shell.execute_reply": "2021-12-20T14:16:53.582939Z"
    }
   },
   "outputs": [
    {
     "name": "stdout",
     "output_type": "stream",
     "text": [
      "error: 'replab' undefined near line 1, column 1\r\n"
     ]
    },
    {
     "name": "stdout",
     "output_type": "stream",
     "text": [
      "error: 'S5' undefined near line 1, column 1\r\n"
     ]
    }
   ],
   "source": [
    "S5 = replab.S(5);\n",
    "group = S5.subgroup({[2 1 4 5 3]})"
   ]
  },
  {
   "cell_type": "markdown",
   "id": "6cbee4f9",
   "metadata": {},
   "source": [
    "## Representation\n",
    "\n",
    "The natural representation is"
   ]
  },
  {
   "cell_type": "code",
   "execution_count": 3,
   "id": "9f4a1330",
   "metadata": {
    "execution": {
     "iopub.execute_input": "2021-12-20T14:16:53.585602Z",
     "iopub.status.busy": "2021-12-20T14:16:53.585214Z",
     "iopub.status.idle": "2021-12-20T14:16:53.594249Z",
     "shell.execute_reply": "2021-12-20T14:16:53.593835Z"
    }
   },
   "outputs": [
    {
     "name": "stdout",
     "output_type": "stream",
     "text": [
      "error: 'group' undefined near line 1, column 1\r\n"
     ]
    }
   ],
   "source": [
    "rep = group.naturalRep"
   ]
  },
  {
   "cell_type": "markdown",
   "id": "a6139c1c",
   "metadata": {},
   "source": [
    "The representation of group elements are the expected $5 \\times 5$ matrices:"
   ]
  },
  {
   "cell_type": "code",
   "execution_count": 4,
   "id": "2ddd2007",
   "metadata": {
    "execution": {
     "iopub.execute_input": "2021-12-20T14:16:53.596937Z",
     "iopub.status.busy": "2021-12-20T14:16:53.596542Z",
     "iopub.status.idle": "2021-12-20T14:16:53.607259Z",
     "shell.execute_reply": "2021-12-20T14:16:53.606883Z"
    }
   },
   "outputs": [
    {
     "name": "stdout",
     "output_type": "stream",
     "text": [
      "error: 'rep' undefined near line 1, column 1\r\n"
     ]
    }
   ],
   "source": [
    "rep.image([2 1 5 3 4])"
   ]
  }
 ],
 "metadata": {
  "jupytext": {
   "cell_metadata_filter": "-all",
   "main_language": "matlab",
   "notebook_metadata_filter": "-all",
   "text_representation": {
    "extension": ".m",
    "format_name": "light"
   }
  },
  "language_info": {
   "file_extension": ".m",
   "help_links": [
    {
     "text": "GNU Octave",
     "url": "https://www.gnu.org/software/octave/support.html"
    },
    {
     "text": "Octave Kernel",
     "url": "https://github.com/Calysto/octave_kernel"
    },
    {
     "text": "MetaKernel Magics",
     "url": "https://metakernel.readthedocs.io/en/latest/source/README.html"
    }
   ],
   "mimetype": "text/x-octave",
   "name": "octave",
   "version": "6.2.0"
  }
 },
 "nbformat": 4,
 "nbformat_minor": 5
}
