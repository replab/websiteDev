{
 "cells": [
  {
   "cell_type": "markdown",
   "id": "4844a602",
   "metadata": {},
   "source": [
    "# Symmetrizing a matrix\n",
    "\n",
    "This document shows how to perform a Reynolds averaging of a matrix in *RepLAB*.\n",
    "\n",
    "## Preparation\n",
    "As always, before using *RepLAB* commands, initialize the library:"
   ]
  },
  {
   "cell_type": "code",
   "execution_count": 1,
   "id": "c54e1dd8",
   "metadata": {
    "execution": {
     "iopub.execute_input": "2021-12-13T21:44:30.646735Z",
     "iopub.status.busy": "2021-12-13T21:44:30.646310Z",
     "iopub.status.idle": "2021-12-13T21:44:36.535696Z",
     "shell.execute_reply": "2021-12-13T21:44:36.534835Z"
    }
   },
   "outputs": [
    {
     "name": "stdout",
     "output_type": "stream",
     "text": [
      "replab_init: Initialization done.\r\n"
     ]
    }
   ],
   "source": [
    "addpath([pwd, '/../..']);\n",
    "replab_init('verbose', 0);"
   ]
  },
  {
   "cell_type": "markdown",
   "id": "5d665270",
   "metadata": {},
   "source": [
    "## Matrix to be symmetrized\n",
    "\n",
    "Let us consider a random matrix"
   ]
  },
  {
   "cell_type": "code",
   "execution_count": 2,
   "id": "ae5dce08",
   "metadata": {
    "execution": {
     "iopub.execute_input": "2021-12-13T21:44:36.538297Z",
     "iopub.status.busy": "2021-12-13T21:44:36.537868Z",
     "iopub.status.idle": "2021-12-13T21:44:36.551509Z",
     "shell.execute_reply": "2021-12-13T21:44:36.551106Z"
    }
   },
   "outputs": [
    {
     "name": "stdout",
     "output_type": "stream",
     "text": [
      "M =\r\n",
      "\r\n",
      "   4.7204e-01   9.1408e-01   4.4374e-01   3.3129e-01   7.8494e-02\r\n",
      "   7.6482e-01   2.4400e-01   8.9899e-01   4.0096e-01   5.6479e-01\r\n",
      "   6.9469e-01   3.2511e-01   7.3513e-01   1.2188e-03   1.0043e-01\r\n",
      "   9.6736e-01   2.6171e-01   5.2899e-01   3.2546e-01   6.5598e-02\r\n",
      "   8.7698e-01   7.5214e-01   3.6356e-01   5.5908e-01   5.2705e-01\r\n",
      "\r\n"
     ]
    }
   ],
   "source": [
    "M = rand(5)"
   ]
  },
  {
   "cell_type": "markdown",
   "id": "fefa9991",
   "metadata": {},
   "source": [
    "Our aim is to compute the average $\\sum_{g\\in G} M(g,g)$ over a group $G$,\n",
    "where the group elements $g$ act on the rows and on the columns of our matrix."
   ]
  },
  {
   "cell_type": "markdown",
   "id": "1b4a02f8",
   "metadata": {},
   "source": [
    "## Group definition\n",
    "\n",
    "Let us consider the permutation group over which we wish to perform the average"
   ]
  },
  {
   "cell_type": "code",
   "execution_count": 3,
   "id": "772ec3d5",
   "metadata": {
    "execution": {
     "iopub.execute_input": "2021-12-13T21:44:36.554084Z",
     "iopub.status.busy": "2021-12-13T21:44:36.553664Z",
     "iopub.status.idle": "2021-12-13T21:44:39.171856Z",
     "shell.execute_reply": "2021-12-13T21:44:39.171405Z"
    }
   },
   "outputs": [
    {
     "name": "stdout",
     "output_type": "stream",
     "text": [
      "group ="
     ]
    },
    {
     "name": "stdout",
     "output_type": "stream",
     "text": [
      "\r"
     ]
    },
    {
     "name": "stdout",
     "output_type": "stream",
     "text": [
      "\n"
     ]
    },
    {
     "name": "stdout",
     "output_type": "stream",
     "text": [
      "\r\n",
      "Permutation group acting on 5 elements of order 6\r\n",
      "            identity: [1, 2, 3, 4, 5]\r\n",
      "generator(1 or 'x1'): [2, 1, 4, 5, 3]\r\n",
      "    recognize.source: Cyclic group C(6) of order 6 < x | x^6 = 1 >\r\n",
      "\r\n"
     ]
    }
   ],
   "source": [
    "S5 = replab.S(5);\n",
    "group = S5.subgroup({[2 1 4 5 3]})"
   ]
  },
  {
   "cell_type": "markdown",
   "id": "e069d035",
   "metadata": {},
   "source": [
    "## Averaging over the group\n",
    "\n",
    "The averaging is done by projecting our matrix onto the commutant of the group's natural representation"
   ]
  },
  {
   "cell_type": "code",
   "execution_count": 4,
   "id": "d219dcb8",
   "metadata": {
    "execution": {
     "iopub.execute_input": "2021-12-13T21:44:39.174665Z",
     "iopub.status.busy": "2021-12-13T21:44:39.174229Z",
     "iopub.status.idle": "2021-12-13T21:44:39.299979Z",
     "shell.execute_reply": "2021-12-13T21:44:39.299518Z"
    }
   },
   "outputs": [],
   "source": [
    "rep = group.naturalRep;\n",
    "com = rep.commutant;"
   ]
  },
  {
   "cell_type": "code",
   "execution_count": 5,
   "id": "f2f0c084",
   "metadata": {
    "execution": {
     "iopub.execute_input": "2021-12-13T21:44:39.302728Z",
     "iopub.status.busy": "2021-12-13T21:44:39.302306Z",
     "iopub.status.idle": "2021-12-13T21:44:39.323256Z",
     "shell.execute_reply": "2021-12-13T21:44:39.322894Z"
    }
   },
   "outputs": [
    {
     "name": "stdout",
     "output_type": "stream",
     "text": [
      "MP =\r\n",
      "\r\n",
      "   0.3580   0.8394   0.4530   0.4530   0.4530\r\n",
      "   0.8394   0.3580   0.4530   0.4530   0.4530\r\n",
      "   0.6463   0.6463   0.5292   0.1435   0.3962\r\n",
      "   0.6463   0.6463   0.3962   0.5292   0.1435\r\n",
      "   0.6463   0.6463   0.1435   0.3962   0.5292\r\n",
      "\r\n"
     ]
    }
   ],
   "source": [
    "MP = com.project(M)"
   ]
  },
  {
   "cell_type": "markdown",
   "id": "cbeb7326",
   "metadata": {},
   "source": [
    "We can check that the matrix is now invariant over permutation by the group elements"
   ]
  },
  {
   "cell_type": "code",
   "execution_count": 6,
   "id": "2873bbe9",
   "metadata": {
    "execution": {
     "iopub.execute_input": "2021-12-13T21:44:39.325743Z",
     "iopub.status.busy": "2021-12-13T21:44:39.325329Z",
     "iopub.status.idle": "2021-12-13T21:44:39.343200Z",
     "shell.execute_reply": "2021-12-13T21:44:39.342850Z"
    }
   },
   "outputs": [
    {
     "name": "stdout",
     "output_type": "stream",
     "text": [
      "el =\r\n",
      "\r\n",
      "   2   1   5   3   4\r\n",
      "\r\n"
     ]
    },
    {
     "name": "stdout",
     "output_type": "stream",
     "text": [
      "ans =\r\n",
      "\r\n",
      "   0.3580   0.8394   0.4530   0.4530   0.4530\r\n",
      "   0.8394   0.3580   0.4530   0.4530   0.4530\r\n",
      "   0.6463   0.6463   0.5292   0.1435   0.3962\r\n",
      "   0.6463   0.6463   0.3962   0.5292   0.1435\r\n",
      "   0.6463   0.6463   0.1435   0.3962   0.5292\r\n",
      "\r\n"
     ]
    }
   ],
   "source": [
    "el = group.sample\n",
    "MP(el,el)"
   ]
  },
  {
   "cell_type": "code",
   "execution_count": null,
   "id": "b922ad64",
   "metadata": {
    "lines_to_next_cell": 2
   },
   "outputs": [],
   "source": []
  }
 ],
 "metadata": {
  "jupytext": {
   "cell_metadata_filter": "-all",
   "main_language": "matlab",
   "notebook_metadata_filter": "-all",
   "text_representation": {
    "extension": ".m",
    "format_name": "light"
   }
  },
  "language_info": {
   "file_extension": ".m",
   "help_links": [
    {
     "text": "GNU Octave",
     "url": "https://www.gnu.org/software/octave/support.html"
    },
    {
     "text": "Octave Kernel",
     "url": "https://github.com/Calysto/octave_kernel"
    },
    {
     "text": "MetaKernel Magics",
     "url": "https://metakernel.readthedocs.io/en/latest/source/README.html"
    }
   ],
   "mimetype": "text/x-octave",
   "name": "octave",
   "version": "6.2.0"
  }
 },
 "nbformat": 4,
 "nbformat_minor": 5
}
