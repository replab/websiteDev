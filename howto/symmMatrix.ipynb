{
 "cells": [
  {
   "cell_type": "markdown",
   "id": "ca902e73",
   "metadata": {},
   "source": [
    "# Symmetrizing a matrix\n",
    "\n",
    "This document shows how to perform a Reynolds averaging of a matrix in *RepLAB*.\n",
    "\n",
    "## Preparation\n",
    "As always, before using *RepLAB* commands, initialize the library:"
   ]
  },
  {
   "cell_type": "code",
   "execution_count": 1,
   "id": "e314fef8",
   "metadata": {
    "execution": {
     "iopub.execute_input": "2021-12-06T15:43:55.447737Z",
     "iopub.status.busy": "2021-12-06T15:43:55.447356Z",
     "iopub.status.idle": "2021-12-06T15:44:01.101796Z",
     "shell.execute_reply": "2021-12-06T15:44:01.102144Z"
    }
   },
   "outputs": [
    {
     "name": "stdout",
     "output_type": "stream",
     "text": [
      "replab_init: Initialization done.\r\n"
     ]
    }
   ],
   "source": [
    "addpath([pwd, '/../..']);\n",
    "replab_init('verbose', 0);"
   ]
  },
  {
   "cell_type": "markdown",
   "id": "1a8d1aaa",
   "metadata": {},
   "source": [
    "## Definition of the matrix to symmetrize\n",
    "\n",
    "Let us consider a random matrix"
   ]
  },
  {
   "cell_type": "code",
   "execution_count": 2,
   "id": "07a20ee9",
   "metadata": {
    "execution": {
     "iopub.execute_input": "2021-12-06T15:44:01.104876Z",
     "iopub.status.busy": "2021-12-06T15:44:01.104468Z",
     "iopub.status.idle": "2021-12-06T15:44:01.116112Z",
     "shell.execute_reply": "2021-12-06T15:44:01.116427Z"
    }
   },
   "outputs": [
    {
     "name": "stdout",
     "output_type": "stream",
     "text": [
      "M =\r\n",
      "\r\n",
      "   0.697380   0.999097   0.332613   0.692345   0.380676\r\n",
      "   0.274510   0.140521   0.013084   0.398878   0.704344\r\n",
      "   0.480858   0.901229   0.431076   0.046454   0.054431\r\n",
      "   0.206657   0.480423   0.560119   0.354455   0.277955\r\n",
      "   0.022384   0.534448   0.012327   0.313384   0.302097\r\n",
      "\r\n"
     ]
    }
   ],
   "source": [
    "M = rand(5)"
   ]
  },
  {
   "cell_type": "markdown",
   "id": "f69264ff",
   "metadata": {},
   "source": [
    "Our aim is to compute the average $\\sum_{g\\in G} M(g,g)$ over a group $G$,\n",
    "where the group elements $g$ act on the rows and on the columns of our matrix."
   ]
  },
  {
   "cell_type": "markdown",
   "id": "66fa803b",
   "metadata": {},
   "source": [
    "## Definition of the group\n",
    "\n",
    "Let us consider the permutation group over which we wish to perform the average"
   ]
  },
  {
   "cell_type": "code",
   "execution_count": 3,
   "id": "8612ad24",
   "metadata": {
    "execution": {
     "iopub.execute_input": "2021-12-06T15:44:01.118746Z",
     "iopub.status.busy": "2021-12-06T15:44:01.118350Z",
     "iopub.status.idle": "2021-12-06T15:44:03.894943Z",
     "shell.execute_reply": "2021-12-06T15:44:03.894244Z"
    }
   },
   "outputs": [
    {
     "name": "stdout",
     "output_type": "stream",
     "text": [
      "group ="
     ]
    },
    {
     "name": "stdout",
     "output_type": "stream",
     "text": [
      "\r"
     ]
    },
    {
     "name": "stdout",
     "output_type": "stream",
     "text": [
      "\n"
     ]
    },
    {
     "name": "stdout",
     "output_type": "stream",
     "text": [
      "\r\n",
      "Permutation group acting on 5 elements of order 6\r\n",
      "            identity: [1, 2, 3, 4, 5]\r\n",
      "generator(1 or 'x1'): [2, 1, 4, 5, 3]\r\n",
      "    recognize.source: Cyclic group C(6) of order 6 < x | x^6 = 1 >\r\n",
      "\r\n"
     ]
    }
   ],
   "source": [
    "S5 = replab.S(5);\n",
    "group = S5.subgroup({[2 1 4 5 3]})"
   ]
  },
  {
   "cell_type": "markdown",
   "id": "387b118c",
   "metadata": {},
   "source": [
    "## Averaging\n",
    "\n",
    "The averaging is done by projecting our matrix onto the commutant of the group's natural representation"
   ]
  },
  {
   "cell_type": "code",
   "execution_count": 4,
   "id": "879bfae8",
   "metadata": {
    "execution": {
     "iopub.execute_input": "2021-12-06T15:44:03.897574Z",
     "iopub.status.busy": "2021-12-06T15:44:03.897152Z",
     "iopub.status.idle": "2021-12-06T15:44:04.001045Z",
     "shell.execute_reply": "2021-12-06T15:44:04.000619Z"
    }
   },
   "outputs": [],
   "source": [
    "rep = group.naturalRep;\n",
    "com = rep.commutant;"
   ]
  },
  {
   "cell_type": "code",
   "execution_count": 5,
   "id": "d8bfaa54",
   "metadata": {
    "execution": {
     "iopub.execute_input": "2021-12-06T15:44:04.003185Z",
     "iopub.status.busy": "2021-12-06T15:44:04.002786Z",
     "iopub.status.idle": "2021-12-06T15:44:04.021398Z",
     "shell.execute_reply": "2021-12-06T15:44:04.021739Z"
    }
   },
   "outputs": [
    {
     "name": "stdout",
     "output_type": "stream",
     "text": [
      "MP =\r\n",
      "\r\n",
      "   0.4190   0.6368   0.4203   0.4203   0.4203\r\n",
      "   0.6368   0.4190   0.4203   0.4203   0.4203\r\n",
      "   0.4377   0.4377   0.3625   0.1122   0.3093\r\n",
      "   0.4377   0.4377   0.3093   0.3625   0.1122\r\n",
      "   0.4377   0.4377   0.1122   0.3093   0.3625\r\n",
      "\r\n"
     ]
    }
   ],
   "source": [
    "MP = com.project(M)"
   ]
  },
  {
   "cell_type": "markdown",
   "id": "b23c5d3b",
   "metadata": {},
   "source": [
    "We can check that the matrix is now invariant over permutation by the group elements"
   ]
  },
  {
   "cell_type": "code",
   "execution_count": 6,
   "id": "12b83765",
   "metadata": {
    "execution": {
     "iopub.execute_input": "2021-12-06T15:44:04.024319Z",
     "iopub.status.busy": "2021-12-06T15:44:04.023919Z",
     "iopub.status.idle": "2021-12-06T15:44:04.039893Z",
     "shell.execute_reply": "2021-12-06T15:44:04.039563Z"
    },
    "lines_to_next_cell": 2
   },
   "outputs": [
    {
     "name": "stdout",
     "output_type": "stream",
     "text": [
      "el =\r\n",
      "\r\n",
      "   1   2   4   5   3\r\n",
      "\r\n"
     ]
    },
    {
     "name": "stdout",
     "output_type": "stream",
     "text": [
      "ans =\r\n",
      "\r\n",
      "   0.4190   0.6368   0.4203   0.4203   0.4203\r\n",
      "   0.6368   0.4190   0.4203   0.4203   0.4203\r\n",
      "   0.4377   0.4377   0.3625   0.1122   0.3093\r\n",
      "   0.4377   0.4377   0.3093   0.3625   0.1122\r\n",
      "   0.4377   0.4377   0.1122   0.3093   0.3625\r\n",
      "\r\n"
     ]
    }
   ],
   "source": [
    "el = group.sample\n",
    "MP(el,el)"
   ]
  }
 ],
 "metadata": {
  "jupytext": {
   "cell_metadata_filter": "-all",
   "main_language": "matlab",
   "notebook_metadata_filter": "-all",
   "text_representation": {
    "extension": ".m",
    "format_name": "light"
   }
  },
  "language_info": {
   "file_extension": ".m",
   "help_links": [
    {
     "text": "GNU Octave",
     "url": "https://www.gnu.org/software/octave/support.html"
    },
    {
     "text": "Octave Kernel",
     "url": "https://github.com/Calysto/octave_kernel"
    },
    {
     "text": "MetaKernel Magics",
     "url": "https://metakernel.readthedocs.io/en/latest/source/README.html"
    }
   ],
   "mimetype": "text/x-octave",
   "name": "octave",
   "version": "6.2.0"
  }
 },
 "nbformat": 4,
 "nbformat_minor": 5
}
