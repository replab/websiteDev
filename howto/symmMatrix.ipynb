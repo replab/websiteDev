{
 "cells": [
  {
   "cell_type": "markdown",
   "id": "7c83953b",
   "metadata": {},
   "source": [
    "# Symmetrizing a matrix\n",
    "\n",
    "This document shows how to perform a Reynolds averaging of a matrix in *RepLAB*.\n",
    "\n",
    "## Preparation\n",
    "As always, before using *RepLAB* commands, initialize the library:"
   ]
  },
  {
   "cell_type": "code",
   "execution_count": 1,
   "id": "e38cf5b7",
   "metadata": {
    "execution": {
     "iopub.execute_input": "2021-12-20T14:17:01.537805Z",
     "iopub.status.busy": "2021-12-20T14:17:01.537384Z",
     "iopub.status.idle": "2021-12-20T14:17:01.566979Z",
     "shell.execute_reply": "2021-12-20T14:17:01.566162Z"
    }
   },
   "outputs": [
    {
     "name": "stdout",
     "output_type": "stream",
     "text": [
      "error: 'replab_init' undefined near line 1, column 1\r\n"
     ]
    }
   ],
   "source": [
    "addpath([pwd, '/../..']);\n",
    "replab_init('verbose', 0);"
   ]
  },
  {
   "cell_type": "markdown",
   "id": "eabc3820",
   "metadata": {},
   "source": [
    "## Matrix to be symmetrized\n",
    "\n",
    "Let us consider a random matrix"
   ]
  },
  {
   "cell_type": "code",
   "execution_count": 2,
   "id": "88d3361e",
   "metadata": {
    "execution": {
     "iopub.execute_input": "2021-12-20T14:17:01.569767Z",
     "iopub.status.busy": "2021-12-20T14:17:01.569333Z",
     "iopub.status.idle": "2021-12-20T14:17:01.576992Z",
     "shell.execute_reply": "2021-12-20T14:17:01.576611Z"
    }
   },
   "outputs": [
    {
     "name": "stdout",
     "output_type": "stream",
     "text": [
      "M =\r\n",
      "\r\n",
      "   0.366811   0.727644   0.432000   0.255118   0.631262\r\n",
      "   0.658949   0.695361   0.542073   0.253674   0.683723\r\n",
      "   0.409633   0.213663   0.116364   0.574475   0.290199\r\n",
      "   0.866119   0.512567   0.020247   0.062123   0.497697\r\n",
      "   0.727878   0.195915   0.919638   0.050863   0.181236\r\n",
      "\r\n"
     ]
    }
   ],
   "source": [
    "M = rand(5)"
   ]
  },
  {
   "cell_type": "markdown",
   "id": "66fa0e99",
   "metadata": {},
   "source": [
    "Our aim is to compute the average $\\sum_{g\\in G} M(g,g)$ over a group $G$,\n",
    "where the group elements $g$ act on the rows and on the columns of our matrix."
   ]
  },
  {
   "cell_type": "markdown",
   "id": "06416df2",
   "metadata": {},
   "source": [
    "## Group definition\n",
    "\n",
    "Let us consider the permutation group over which we wish to perform the average"
   ]
  },
  {
   "cell_type": "code",
   "execution_count": 3,
   "id": "40da98ea",
   "metadata": {
    "execution": {
     "iopub.execute_input": "2021-12-20T14:17:01.579519Z",
     "iopub.status.busy": "2021-12-20T14:17:01.579094Z",
     "iopub.status.idle": "2021-12-20T14:17:01.592788Z",
     "shell.execute_reply": "2021-12-20T14:17:01.593128Z"
    }
   },
   "outputs": [
    {
     "name": "stdout",
     "output_type": "stream",
     "text": [
      "error: 'replab' undefined near line 1, column 1\r\n"
     ]
    },
    {
     "name": "stdout",
     "output_type": "stream",
     "text": [
      "error: 'S5' undefined near line 1, column 1\r\n"
     ]
    }
   ],
   "source": [
    "S5 = replab.S(5);\n",
    "group = S5.subgroup({[2 1 4 5 3]})"
   ]
  },
  {
   "cell_type": "markdown",
   "id": "c11ae8f8",
   "metadata": {},
   "source": [
    "## Averaging over the group\n",
    "\n",
    "The averaging is done by projecting our matrix onto the commutant of the group's natural representation"
   ]
  },
  {
   "cell_type": "code",
   "execution_count": 4,
   "id": "49ec4387",
   "metadata": {
    "execution": {
     "iopub.execute_input": "2021-12-20T14:17:01.595907Z",
     "iopub.status.busy": "2021-12-20T14:17:01.595486Z",
     "iopub.status.idle": "2021-12-20T14:17:01.610353Z",
     "shell.execute_reply": "2021-12-20T14:17:01.609971Z"
    }
   },
   "outputs": [
    {
     "name": "stdout",
     "output_type": "stream",
     "text": [
      "error: 'group' undefined near line 1, column 1\r\n"
     ]
    },
    {
     "name": "stdout",
     "output_type": "stream",
     "text": [
      "error: 'rep' undefined near line 1, column 1\r\n"
     ]
    }
   ],
   "source": [
    "rep = group.naturalRep;\n",
    "com = rep.commutant;"
   ]
  },
  {
   "cell_type": "code",
   "execution_count": 5,
   "id": "916ef550",
   "metadata": {
    "execution": {
     "iopub.execute_input": "2021-12-20T14:17:01.612983Z",
     "iopub.status.busy": "2021-12-20T14:17:01.612555Z",
     "iopub.status.idle": "2021-12-20T14:17:01.622789Z",
     "shell.execute_reply": "2021-12-20T14:17:01.622410Z"
    }
   },
   "outputs": [
    {
     "name": "stdout",
     "output_type": "stream",
     "text": [
      "error: 'com' undefined near line 1, column 1\r\n"
     ]
    }
   ],
   "source": [
    "MP = com.project(M)"
   ]
  },
  {
   "cell_type": "markdown",
   "id": "5b3e576c",
   "metadata": {},
   "source": [
    "We can check that the matrix is now invariant over permutation by the group elements"
   ]
  },
  {
   "cell_type": "code",
   "execution_count": 6,
   "id": "5e29a040",
   "metadata": {
    "execution": {
     "iopub.execute_input": "2021-12-20T14:17:01.625610Z",
     "iopub.status.busy": "2021-12-20T14:17:01.625191Z",
     "iopub.status.idle": "2021-12-20T14:17:01.639052Z",
     "shell.execute_reply": "2021-12-20T14:17:01.638675Z"
    }
   },
   "outputs": [
    {
     "name": "stdout",
     "output_type": "stream",
     "text": [
      "error: 'group' undefined near line 1, column 1\r\n"
     ]
    },
    {
     "name": "stdout",
     "output_type": "stream",
     "text": [
      "error: 'el' undefined near line 1, column 1\r\n"
     ]
    }
   ],
   "source": [
    "el = group.sample\n",
    "MP(el,el)"
   ]
  }
 ],
 "metadata": {
  "jupytext": {
   "cell_metadata_filter": "-all",
   "main_language": "matlab",
   "notebook_metadata_filter": "-all",
   "text_representation": {
    "extension": ".m",
    "format_name": "light"
   }
  },
  "language_info": {
   "file_extension": ".m",
   "help_links": [
    {
     "text": "GNU Octave",
     "url": "https://www.gnu.org/software/octave/support.html"
    },
    {
     "text": "Octave Kernel",
     "url": "https://github.com/Calysto/octave_kernel"
    },
    {
     "text": "MetaKernel Magics",
     "url": "https://metakernel.readthedocs.io/en/latest/source/README.html"
    }
   ],
   "mimetype": "text/x-octave",
   "name": "octave",
   "version": "6.2.0"
  }
 },
 "nbformat": 4,
 "nbformat_minor": 5
}
