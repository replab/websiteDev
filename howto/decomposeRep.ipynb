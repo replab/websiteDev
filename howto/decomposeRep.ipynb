{
 "cells": [
  {
   "cell_type": "markdown",
   "id": "360fb3c3",
   "metadata": {},
   "source": [
    "# Decomposing a representation\n",
    "\n",
    "This document shows how to decompose a group representation with *RepLAB*.\n",
    "\n",
    "## Preparation\n",
    "As always, before using *RepLAB* commands, initialize the library:"
   ]
  },
  {
   "cell_type": "code",
   "execution_count": 1,
   "id": "3d3c5ac0",
   "metadata": {
    "execution": {
     "iopub.execute_input": "2021-12-28T11:52:29.498619Z",
     "iopub.status.busy": "2021-12-28T11:52:29.498176Z",
     "iopub.status.idle": "2021-12-28T11:52:29.521046Z",
     "shell.execute_reply": "2021-12-28T11:52:29.521431Z"
    }
   },
   "outputs": [
    {
     "name": "stdout",
     "output_type": "stream",
     "text": [
      "error: 'replab_init' undefined near line 1, column 1\r\n"
     ]
    }
   ],
   "source": [
    "addpath([pwd, '/../..']);\n",
    "replab_init('verbose', 0);"
   ]
  },
  {
   "cell_type": "markdown",
   "id": "b243ff08",
   "metadata": {},
   "source": [
    "## Representation definition\n",
    "\n",
    "Let us construct a $4$-dimensional representation"
   ]
  },
  {
   "cell_type": "code",
   "execution_count": 2,
   "id": "9d90939e",
   "metadata": {
    "execution": {
     "iopub.execute_input": "2021-12-28T11:52:29.524302Z",
     "iopub.status.busy": "2021-12-28T11:52:29.523812Z",
     "iopub.status.idle": "2021-12-28T11:52:29.540076Z",
     "shell.execute_reply": "2021-12-28T11:52:29.539719Z"
    }
   },
   "outputs": [
    {
     "name": "stdout",
     "output_type": "stream",
     "text": [
      "error: 'replab' undefined near line 1, column 1\r\n"
     ]
    },
    {
     "name": "stdout",
     "output_type": "stream",
     "text": [
      "error: 'S4' undefined near line 1, column 1\r\n"
     ]
    },
    {
     "name": "stdout",
     "output_type": "stream",
     "text": [
      "error: 'group' undefined near line 1, column 1\r\n"
     ]
    }
   ],
   "source": [
    "S4 = replab.S(4);\n",
    "group = S4.subgroup({[2 1 3 4], [1 2 4 3]})\n",
    "rep = group.naturalRep"
   ]
  },
  {
   "cell_type": "markdown",
   "id": "e2b7542a",
   "metadata": {},
   "source": [
    "## Decomposition\n",
    "\n",
    "The representation is decomposed with the command"
   ]
  },
  {
   "cell_type": "code",
   "execution_count": 3,
   "id": "ab68a447",
   "metadata": {
    "execution": {
     "iopub.execute_input": "2021-12-28T11:52:29.542653Z",
     "iopub.status.busy": "2021-12-28T11:52:29.542230Z",
     "iopub.status.idle": "2021-12-28T11:52:29.551982Z",
     "shell.execute_reply": "2021-12-28T11:52:29.551581Z"
    }
   },
   "outputs": [
    {
     "name": "stdout",
     "output_type": "stream",
     "text": [
      "error: 'rep' undefined near line 1, column 1\r\n"
     ]
    }
   ],
   "source": [
    "dec = rep.decomposition"
   ]
  },
  {
   "cell_type": "markdown",
   "id": "91185936",
   "metadata": {},
   "source": [
    "This representation contains 3 irreducible components."
   ]
  }
 ],
 "metadata": {
  "jupytext": {
   "cell_metadata_filter": "-all",
   "main_language": "matlab",
   "notebook_metadata_filter": "-all",
   "text_representation": {
    "extension": ".m",
    "format_name": "light"
   }
  },
  "language_info": {
   "file_extension": ".m",
   "help_links": [
    {
     "text": "GNU Octave",
     "url": "https://www.gnu.org/software/octave/support.html"
    },
    {
     "text": "Octave Kernel",
     "url": "https://github.com/Calysto/octave_kernel"
    },
    {
     "text": "MetaKernel Magics",
     "url": "https://metakernel.readthedocs.io/en/latest/source/README.html"
    }
   ],
   "mimetype": "text/x-octave",
   "name": "octave",
   "version": "6.2.0"
  }
 },
 "nbformat": 4,
 "nbformat_minor": 5
}
