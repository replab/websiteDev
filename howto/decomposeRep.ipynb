{
 "cells": [
  {
   "cell_type": "markdown",
   "id": "65fe03f3",
   "metadata": {},
   "source": [
    "# Decomposing a representation\n",
    "\n",
    "This document shows how to decompose a group representation with *RepLAB*.\n",
    "\n",
    "## Preparation\n",
    "As always, before using *RepLAB* commands, initialize the library:"
   ]
  },
  {
   "cell_type": "code",
   "execution_count": 1,
   "id": "7c7e1a68",
   "metadata": {
    "execution": {
     "iopub.execute_input": "2021-12-28T10:51:54.958886Z",
     "iopub.status.busy": "2021-12-28T10:51:54.958405Z",
     "iopub.status.idle": "2021-12-28T10:51:54.982328Z",
     "shell.execute_reply": "2021-12-28T10:51:54.981613Z"
    }
   },
   "outputs": [
    {
     "name": "stdout",
     "output_type": "stream",
     "text": [
      "error: 'replab_init' undefined near line 1, column 1\r\n"
     ]
    }
   ],
   "source": [
    "addpath([pwd, '/../..']);\n",
    "replab_init('verbose', 0);"
   ]
  },
  {
   "cell_type": "markdown",
   "id": "6fbdf307",
   "metadata": {},
   "source": [
    "## Representation definition\n",
    "\n",
    "Let us construct a $4$-dimensional representation"
   ]
  },
  {
   "cell_type": "code",
   "execution_count": 2,
   "id": "ee0015f8",
   "metadata": {
    "execution": {
     "iopub.execute_input": "2021-12-28T10:51:54.984650Z",
     "iopub.status.busy": "2021-12-28T10:51:54.984219Z",
     "iopub.status.idle": "2021-12-28T10:51:55.001436Z",
     "shell.execute_reply": "2021-12-28T10:51:55.001060Z"
    }
   },
   "outputs": [
    {
     "name": "stdout",
     "output_type": "stream",
     "text": [
      "error: 'replab' undefined near line 1, column 1\r\n"
     ]
    },
    {
     "name": "stdout",
     "output_type": "stream",
     "text": [
      "error: 'S4' undefined near line 1, column 1\r\n"
     ]
    },
    {
     "name": "stdout",
     "output_type": "stream",
     "text": [
      "error: 'group' undefined near line 1, column 1\r\n"
     ]
    }
   ],
   "source": [
    "S4 = replab.S(4);\n",
    "group = S4.subgroup({[2 1 3 4], [1 2 4 3]})\n",
    "rep = group.naturalRep"
   ]
  },
  {
   "cell_type": "markdown",
   "id": "f1eddfa7",
   "metadata": {},
   "source": [
    "## Decomposition\n",
    "\n",
    "The representation is decomposed with the command"
   ]
  },
  {
   "cell_type": "code",
   "execution_count": 3,
   "id": "c1a19faf",
   "metadata": {
    "execution": {
     "iopub.execute_input": "2021-12-28T10:51:55.003980Z",
     "iopub.status.busy": "2021-12-28T10:51:55.003523Z",
     "iopub.status.idle": "2021-12-28T10:51:55.013142Z",
     "shell.execute_reply": "2021-12-28T10:51:55.012497Z"
    }
   },
   "outputs": [
    {
     "name": "stdout",
     "output_type": "stream",
     "text": [
      "error: 'rep' undefined near line 1, column 1\r\n"
     ]
    }
   ],
   "source": [
    "dec = rep.decomposition"
   ]
  },
  {
   "cell_type": "markdown",
   "id": "edd07b5a",
   "metadata": {},
   "source": [
    "This representation contains 3 irreducible components."
   ]
  }
 ],
 "metadata": {
  "jupytext": {
   "cell_metadata_filter": "-all",
   "main_language": "matlab",
   "notebook_metadata_filter": "-all",
   "text_representation": {
    "extension": ".m",
    "format_name": "light"
   }
  },
  "language_info": {
   "file_extension": ".m",
   "help_links": [
    {
     "text": "GNU Octave",
     "url": "https://www.gnu.org/software/octave/support.html"
    },
    {
     "text": "Octave Kernel",
     "url": "https://github.com/Calysto/octave_kernel"
    },
    {
     "text": "MetaKernel Magics",
     "url": "https://metakernel.readthedocs.io/en/latest/source/README.html"
    }
   ],
   "mimetype": "text/x-octave",
   "name": "octave",
   "version": "6.2.0"
  }
 },
 "nbformat": 4,
 "nbformat_minor": 5
}
