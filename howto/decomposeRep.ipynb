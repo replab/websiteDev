{
 "cells": [
  {
   "cell_type": "markdown",
   "id": "63d85d27",
   "metadata": {},
   "source": [
    "# Decomposing a representation\n",
    "\n",
    "This document shows how to decompose a group representation with *RepLAB*.\n",
    "\n",
    "## Preparation\n",
    "As always, before using *RepLAB* commands, initialize the library:"
   ]
  },
  {
   "cell_type": "code",
   "execution_count": 1,
   "id": "b393924e",
   "metadata": {
    "execution": {
     "iopub.execute_input": "2021-12-20T14:16:34.782918Z",
     "iopub.status.busy": "2021-12-20T14:16:34.782496Z",
     "iopub.status.idle": "2021-12-20T14:16:34.810422Z",
     "shell.execute_reply": "2021-12-20T14:16:34.809890Z"
    }
   },
   "outputs": [
    {
     "name": "stdout",
     "output_type": "stream",
     "text": [
      "error: 'replab_init' undefined near line 1, column 1\r\n"
     ]
    }
   ],
   "source": [
    "addpath([pwd, '/../..']);\n",
    "replab_init('verbose', 0);"
   ]
  },
  {
   "cell_type": "markdown",
   "id": "c4451341",
   "metadata": {},
   "source": [
    "## Representation definition\n",
    "\n",
    "Let us construct a $4$-dimensional representation"
   ]
  },
  {
   "cell_type": "code",
   "execution_count": 2,
   "id": "cf91cf5d",
   "metadata": {
    "execution": {
     "iopub.execute_input": "2021-12-20T14:16:34.813663Z",
     "iopub.status.busy": "2021-12-20T14:16:34.813197Z",
     "iopub.status.idle": "2021-12-20T14:16:34.832671Z",
     "shell.execute_reply": "2021-12-20T14:16:34.832262Z"
    }
   },
   "outputs": [
    {
     "name": "stdout",
     "output_type": "stream",
     "text": [
      "error: 'replab' undefined near line 1, column 1\r\n"
     ]
    },
    {
     "name": "stdout",
     "output_type": "stream",
     "text": [
      "error: 'S4' undefined near line 1, column 1\r\n"
     ]
    },
    {
     "name": "stdout",
     "output_type": "stream",
     "text": [
      "error: 'group' undefined near line 1, column 1\r\n"
     ]
    }
   ],
   "source": [
    "S4 = replab.S(4);\n",
    "group = S4.subgroup({[2 1 3 4], [1 2 4 3]})\n",
    "rep = group.naturalRep"
   ]
  },
  {
   "cell_type": "markdown",
   "id": "dde3aad2",
   "metadata": {},
   "source": [
    "## Decomposition\n",
    "\n",
    "The representation is decomposed with the command"
   ]
  },
  {
   "cell_type": "code",
   "execution_count": 3,
   "id": "69f243b7",
   "metadata": {
    "execution": {
     "iopub.execute_input": "2021-12-20T14:16:34.835364Z",
     "iopub.status.busy": "2021-12-20T14:16:34.834945Z",
     "iopub.status.idle": "2021-12-20T14:16:34.843885Z",
     "shell.execute_reply": "2021-12-20T14:16:34.844232Z"
    }
   },
   "outputs": [
    {
     "name": "stdout",
     "output_type": "stream",
     "text": [
      "error: 'rep' undefined near line 1, column 1\r\n"
     ]
    }
   ],
   "source": [
    "dec = rep.decomposition"
   ]
  },
  {
   "cell_type": "markdown",
   "id": "2217e8c1",
   "metadata": {},
   "source": [
    "This representation contains 3 irreducible components."
   ]
  }
 ],
 "metadata": {
  "jupytext": {
   "cell_metadata_filter": "-all",
   "main_language": "matlab",
   "notebook_metadata_filter": "-all",
   "text_representation": {
    "extension": ".m",
    "format_name": "light"
   }
  },
  "language_info": {
   "file_extension": ".m",
   "help_links": [
    {
     "text": "GNU Octave",
     "url": "https://www.gnu.org/software/octave/support.html"
    },
    {
     "text": "Octave Kernel",
     "url": "https://github.com/Calysto/octave_kernel"
    },
    {
     "text": "MetaKernel Magics",
     "url": "https://metakernel.readthedocs.io/en/latest/source/README.html"
    }
   ],
   "mimetype": "text/x-octave",
   "name": "octave",
   "version": "6.2.0"
  }
 },
 "nbformat": 4,
 "nbformat_minor": 5
}
