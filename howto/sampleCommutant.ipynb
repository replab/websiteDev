{
 "cells": [
  {
   "cell_type": "markdown",
   "id": "dfc3d1f0",
   "metadata": {},
   "source": [
    "# Sampling the commutant of a representation\n",
    "\n",
    "This document shows how to sample the commutant of a representation in *RepLAB*.\n",
    "\n",
    "## Preparation\n",
    "As always, before using *RepLAB* commands, initialize the library:"
   ]
  },
  {
   "cell_type": "code",
   "execution_count": 1,
   "id": "188423a5",
   "metadata": {
    "execution": {
     "iopub.execute_input": "2021-12-20T14:16:58.755571Z",
     "iopub.status.busy": "2021-12-20T14:16:58.755177Z",
     "iopub.status.idle": "2021-12-20T14:16:58.779353Z",
     "shell.execute_reply": "2021-12-20T14:16:58.778871Z"
    }
   },
   "outputs": [
    {
     "name": "stdout",
     "output_type": "stream",
     "text": [
      "error: 'replab_init' undefined near line 1, column 1\r\n"
     ]
    }
   ],
   "source": [
    "addpath([pwd, '/../..']);\n",
    "replab_init('verbose', 0);"
   ]
  },
  {
   "cell_type": "markdown",
   "id": "50345f0c",
   "metadata": {},
   "source": [
    "## Definition of the commutant\n",
    "\n",
    "Consider a group representation"
   ]
  },
  {
   "cell_type": "code",
   "execution_count": 2,
   "id": "137460dc",
   "metadata": {
    "execution": {
     "iopub.execute_input": "2021-12-20T14:16:58.782267Z",
     "iopub.status.busy": "2021-12-20T14:16:58.781874Z",
     "iopub.status.idle": "2021-12-20T14:16:58.801026Z",
     "shell.execute_reply": "2021-12-20T14:16:58.801331Z"
    }
   },
   "outputs": [
    {
     "name": "stdout",
     "output_type": "stream",
     "text": [
      "error: 'replab' undefined near line 1, column 1\r\n"
     ]
    },
    {
     "name": "stdout",
     "output_type": "stream",
     "text": [
      "error: 'S5' undefined near line 1, column 1\r\n"
     ]
    },
    {
     "name": "stdout",
     "output_type": "stream",
     "text": [
      "error: 'group' undefined near line 1, column 1\r\n"
     ]
    }
   ],
   "source": [
    "S5 = replab.S(5);\n",
    "group = S5.subgroup({[2 1 4 5 3]})\n",
    "rep = group.naturalRep"
   ]
  },
  {
   "cell_type": "markdown",
   "id": "792b6282",
   "metadata": {},
   "source": [
    "The commutant is obtained with the command"
   ]
  },
  {
   "cell_type": "code",
   "execution_count": 3,
   "id": "8b265590",
   "metadata": {
    "execution": {
     "iopub.execute_input": "2021-12-20T14:16:58.804358Z",
     "iopub.status.busy": "2021-12-20T14:16:58.803954Z",
     "iopub.status.idle": "2021-12-20T14:16:58.812870Z",
     "shell.execute_reply": "2021-12-20T14:16:58.813179Z"
    }
   },
   "outputs": [
    {
     "name": "stdout",
     "output_type": "stream",
     "text": [
      "error: 'rep' undefined near line 1, column 1\r\n"
     ]
    }
   ],
   "source": [
    "comm = rep.commutant"
   ]
  },
  {
   "cell_type": "markdown",
   "id": "15293591",
   "metadata": {},
   "source": [
    "## Sampling the commutant\n",
    "\n",
    "Elements of the commutant can then be sampled"
   ]
  },
  {
   "cell_type": "code",
   "execution_count": 4,
   "id": "3c594d57",
   "metadata": {
    "execution": {
     "iopub.execute_input": "2021-12-20T14:16:58.815943Z",
     "iopub.status.busy": "2021-12-20T14:16:58.815559Z",
     "iopub.status.idle": "2021-12-20T14:16:58.826638Z",
     "shell.execute_reply": "2021-12-20T14:16:58.826282Z"
    }
   },
   "outputs": [
    {
     "name": "stdout",
     "output_type": "stream",
     "text": [
      "error: 'comm' undefined near line 1, column 1\r\n"
     ]
    }
   ],
   "source": [
    "commEl = comm.sample"
   ]
  },
  {
   "cell_type": "markdown",
   "id": "158bd79b",
   "metadata": {},
   "source": [
    "These matrices are invariant under transformation by the group representations"
   ]
  },
  {
   "cell_type": "code",
   "execution_count": 5,
   "id": "852d1133",
   "metadata": {
    "execution": {
     "iopub.execute_input": "2021-12-20T14:16:58.829489Z",
     "iopub.status.busy": "2021-12-20T14:16:58.829104Z",
     "iopub.status.idle": "2021-12-20T14:16:58.840549Z",
     "shell.execute_reply": "2021-12-20T14:16:58.840158Z"
    }
   },
   "outputs": [
    {
     "name": "stdout",
     "output_type": "stream",
     "text": [
      "error: 'rep' undefined near line 1, column 1\r\n"
     ]
    }
   ],
   "source": [
    "groupEl = rep.sample"
   ]
  },
  {
   "cell_type": "code",
   "execution_count": 6,
   "id": "0f7a3ef7",
   "metadata": {
    "execution": {
     "iopub.execute_input": "2021-12-20T14:16:58.842962Z",
     "iopub.status.busy": "2021-12-20T14:16:58.842589Z",
     "iopub.status.idle": "2021-12-20T14:16:58.851246Z",
     "shell.execute_reply": "2021-12-20T14:16:58.850927Z"
    }
   },
   "outputs": [
    {
     "name": "stdout",
     "output_type": "stream",
     "text": [
      "error: 'groupEl' undefined near line 1, column 1\r\n"
     ]
    }
   ],
   "source": [
    "groupEl*commEl*groupEl'"
   ]
  }
 ],
 "metadata": {
  "jupytext": {
   "cell_metadata_filter": "-all",
   "main_language": "matlab",
   "notebook_metadata_filter": "-all",
   "text_representation": {
    "extension": ".m",
    "format_name": "light"
   }
  },
  "language_info": {
   "file_extension": ".m",
   "help_links": [
    {
     "text": "GNU Octave",
     "url": "https://www.gnu.org/software/octave/support.html"
    },
    {
     "text": "Octave Kernel",
     "url": "https://github.com/Calysto/octave_kernel"
    },
    {
     "text": "MetaKernel Magics",
     "url": "https://metakernel.readthedocs.io/en/latest/source/README.html"
    }
   ],
   "mimetype": "text/x-octave",
   "name": "octave",
   "version": "6.2.0"
  }
 },
 "nbformat": 4,
 "nbformat_minor": 5
}
