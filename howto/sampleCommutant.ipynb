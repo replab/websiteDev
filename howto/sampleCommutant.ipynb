{
 "cells": [
  {
   "cell_type": "markdown",
   "id": "3f335886",
   "metadata": {},
   "source": [
    "# Sampling the commutant of a representation\n",
    "\n",
    "This document shows how to sample the commutant of a representation in *RepLAB*.\n",
    "\n",
    "## Preparation\n",
    "As always, before using *RepLAB* commands, initialize the library:"
   ]
  },
  {
   "cell_type": "code",
   "execution_count": 1,
   "id": "19aa65bf",
   "metadata": {
    "execution": {
     "iopub.execute_input": "2021-12-13T21:25:15.803661Z",
     "iopub.status.busy": "2021-12-13T21:25:15.803217Z",
     "iopub.status.idle": "2021-12-13T21:25:21.735673Z",
     "shell.execute_reply": "2021-12-13T21:25:21.734904Z"
    }
   },
   "outputs": [
    {
     "name": "stdout",
     "output_type": "stream",
     "text": [
      "replab_init: Initialization done.\r\n"
     ]
    }
   ],
   "source": [
    "addpath([pwd, '/../..']);\n",
    "replab_init('verbose', 0);"
   ]
  },
  {
   "cell_type": "markdown",
   "id": "755504dd",
   "metadata": {},
   "source": [
    "## Definition of the commutant\n",
    "\n",
    "Consider a group representation"
   ]
  },
  {
   "cell_type": "code",
   "execution_count": 2,
   "id": "7fdd21d3",
   "metadata": {
    "execution": {
     "iopub.execute_input": "2021-12-13T21:25:21.738469Z",
     "iopub.status.busy": "2021-12-13T21:25:21.738040Z",
     "iopub.status.idle": "2021-12-13T21:25:24.518096Z",
     "shell.execute_reply": "2021-12-13T21:25:24.517687Z"
    }
   },
   "outputs": [
    {
     "name": "stdout",
     "output_type": "stream",
     "text": [
      "group ="
     ]
    },
    {
     "name": "stdout",
     "output_type": "stream",
     "text": [
      "\r"
     ]
    },
    {
     "name": "stdout",
     "output_type": "stream",
     "text": [
      "\n"
     ]
    },
    {
     "name": "stdout",
     "output_type": "stream",
     "text": [
      "\r\n",
      "Permutation group acting on 5 elements of order 6\r\n",
      "            identity: [1, 2, 3, 4, 5]\r\n",
      "generator(1 or 'x1'): [2, 1, 4, 5, 3]\r\n",
      "    recognize.source: Cyclic group C(6) of order 6 < x | x^6 = 1 >\r\n",
      "\r\n"
     ]
    },
    {
     "name": "stdout",
     "output_type": "stream",
     "text": [
      "rep ="
     ]
    },
    {
     "name": "stdout",
     "output_type": "stream",
     "text": [
      "\r"
     ]
    },
    {
     "name": "stdout",
     "output_type": "stream",
     "text": [
      "\n"
     ]
    },
    {
     "name": "stdout",
     "output_type": "stream",
     "text": [
      "\r\n",
      "Orthogonal reducible representation\r\n",
      "   dimension: 5\r\n",
      "       field: 'R'\r\n",
      "       group: Permutation group acting on 5 elements of order 6\r\n",
      "   isUnitary: true\r\n",
      "preimages{1}: [2, 1, 4, 5, 3]\r\n",
      "   images{1}: 5 x 5 double\r\n",
      "\r\n"
     ]
    }
   ],
   "source": [
    "S5 = replab.S(5);\n",
    "group = S5.subgroup({[2 1 4 5 3]})\n",
    "rep = group.naturalRep"
   ]
  },
  {
   "cell_type": "markdown",
   "id": "17738669",
   "metadata": {},
   "source": [
    "The commutant is obtained with the command"
   ]
  },
  {
   "cell_type": "code",
   "execution_count": 3,
   "id": "f98dfa0f",
   "metadata": {
    "execution": {
     "iopub.execute_input": "2021-12-13T21:25:24.520816Z",
     "iopub.status.busy": "2021-12-13T21:25:24.520393Z",
     "iopub.status.idle": "2021-12-13T21:25:24.582091Z",
     "shell.execute_reply": "2021-12-13T21:25:24.581696Z"
    }
   },
   "outputs": [
    {
     "name": "stdout",
     "output_type": "stream",
     "text": [
      "comm =\r\n",
      "\r\n",
      "5 x 5 commutant matrices over R\r\n",
      "     field: 'R'\r\n",
      "     group: Permutation group acting on 5 elements of order 6\r\n",
      "   imagesC: {[2, 1, 4, 5, 3; 0, 0, 0, 0, 0]}\r\n",
      "   imagesR: {[2, 1, 4, 5, 3; 0, 0, 0, 0, 0]}\r\n",
      "        nC: 5\r\n",
      "        nR: 5\r\n",
      "phaseOrder: 1\r\n",
      "      repC: Orthogonal reducible representation\r\n",
      "      repR: Orthogonal reducible representation\r\n",
      "   special: 'commutant'\r\n",
      "\r\n"
     ]
    }
   ],
   "source": [
    "comm = rep.commutant"
   ]
  },
  {
   "cell_type": "markdown",
   "id": "36a1ce00",
   "metadata": {},
   "source": [
    "## Sampling the commutant\n",
    "\n",
    "Elements of the commutant can then be sampled"
   ]
  },
  {
   "cell_type": "code",
   "execution_count": 4,
   "id": "510f84ac",
   "metadata": {
    "execution": {
     "iopub.execute_input": "2021-12-13T21:25:24.585013Z",
     "iopub.status.busy": "2021-12-13T21:25:24.584588Z",
     "iopub.status.idle": "2021-12-13T21:25:24.604476Z",
     "shell.execute_reply": "2021-12-13T21:25:24.604834Z"
    }
   },
   "outputs": [
    {
     "name": "stdout",
     "output_type": "stream",
     "text": [
      "commEl =\r\n",
      "\r\n",
      "  -1.017794   0.134749   0.562506   0.562506   0.562506\r\n",
      "   0.134749  -1.017794   0.562506   0.562506   0.562506\r\n",
      "  -0.038087  -0.038087   0.505969   0.690517  -1.094458\r\n",
      "  -0.038087  -0.038087  -1.094458   0.505969   0.690517\r\n",
      "  -0.038087  -0.038087   0.690517  -1.094458   0.505969\r\n",
      "\r\n"
     ]
    }
   ],
   "source": [
    "commEl = comm.sample"
   ]
  },
  {
   "cell_type": "markdown",
   "id": "860bbc5a",
   "metadata": {},
   "source": [
    "These matrices are invariant under transformation by the group representations"
   ]
  },
  {
   "cell_type": "code",
   "execution_count": 5,
   "id": "71ab3129",
   "metadata": {
    "execution": {
     "iopub.execute_input": "2021-12-13T21:25:24.607810Z",
     "iopub.status.busy": "2021-12-13T21:25:24.607392Z",
     "iopub.status.idle": "2021-12-13T21:25:24.622368Z",
     "shell.execute_reply": "2021-12-13T21:25:24.621981Z"
    }
   },
   "outputs": [
    {
     "name": "stdout",
     "output_type": "stream",
     "text": [
      "groupEl =\r\n",
      "\r\n",
      "   1   0   0   0   0\r\n",
      "   0   1   0   0   0\r\n",
      "   0   0   0   0   1\r\n",
      "   0   0   1   0   0\r\n",
      "   0   0   0   1   0\r\n",
      "\r\n"
     ]
    }
   ],
   "source": [
    "groupEl = rep.sample"
   ]
  },
  {
   "cell_type": "code",
   "execution_count": 6,
   "id": "2be6e689",
   "metadata": {
    "execution": {
     "iopub.execute_input": "2021-12-13T21:25:24.624822Z",
     "iopub.status.busy": "2021-12-13T21:25:24.624401Z",
     "iopub.status.idle": "2021-12-13T21:25:24.637823Z",
     "shell.execute_reply": "2021-12-13T21:25:24.637434Z"
    }
   },
   "outputs": [
    {
     "name": "stdout",
     "output_type": "stream",
     "text": [
      "ans =\r\n",
      "\r\n",
      "  -1.017794   0.134749   0.562506   0.562506   0.562506\r\n",
      "   0.134749  -1.017794   0.562506   0.562506   0.562506\r\n",
      "  -0.038087  -0.038087   0.505969   0.690517  -1.094458\r\n",
      "  -0.038087  -0.038087  -1.094458   0.505969   0.690517\r\n",
      "  -0.038087  -0.038087   0.690517  -1.094458   0.505969\r\n",
      "\r\n"
     ]
    }
   ],
   "source": [
    "groupEl*commEl*groupEl'"
   ]
  },
  {
   "cell_type": "code",
   "execution_count": null,
   "id": "c0f69bdc",
   "metadata": {
    "lines_to_next_cell": 2
   },
   "outputs": [],
   "source": []
  }
 ],
 "metadata": {
  "jupytext": {
   "cell_metadata_filter": "-all",
   "main_language": "matlab",
   "notebook_metadata_filter": "-all",
   "text_representation": {
    "extension": ".m",
    "format_name": "light"
   }
  },
  "language_info": {
   "file_extension": ".m",
   "help_links": [
    {
     "text": "GNU Octave",
     "url": "https://www.gnu.org/software/octave/support.html"
    },
    {
     "text": "Octave Kernel",
     "url": "https://github.com/Calysto/octave_kernel"
    },
    {
     "text": "MetaKernel Magics",
     "url": "https://metakernel.readthedocs.io/en/latest/source/README.html"
    }
   ],
   "mimetype": "text/x-octave",
   "name": "octave",
   "version": "6.2.0"
  }
 },
 "nbformat": 4,
 "nbformat_minor": 5
}
