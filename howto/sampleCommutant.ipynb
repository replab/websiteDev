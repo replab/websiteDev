{
 "cells": [
  {
   "cell_type": "markdown",
   "id": "0ae0bd79",
   "metadata": {},
   "source": [
    "# Sampling the commutant of a representation\n",
    "\n",
    "This document shows how to sample the commutant of a representation in *RepLAB*.\n",
    "\n",
    "## Preparation\n",
    "As always, before using *RepLAB* commands, initialize the library:"
   ]
  },
  {
   "cell_type": "code",
   "execution_count": 1,
   "id": "88cc1812",
   "metadata": {
    "execution": {
     "iopub.execute_input": "2021-12-06T15:21:08.463805Z",
     "iopub.status.busy": "2021-12-06T15:21:08.463316Z",
     "iopub.status.idle": "2021-12-06T15:21:14.540533Z",
     "shell.execute_reply": "2021-12-06T15:21:14.540027Z"
    }
   },
   "outputs": [
    {
     "name": "stdout",
     "output_type": "stream",
     "text": [
      "replab_init: Initialization done.\r\n"
     ]
    }
   ],
   "source": [
    "addpath([pwd, '/../..']);\n",
    "replab_init('verbose', 0);"
   ]
  },
  {
   "cell_type": "markdown",
   "id": "df45214b",
   "metadata": {},
   "source": [
    "## Definition of the commutant\n",
    "\n",
    "Consider a group representation"
   ]
  },
  {
   "cell_type": "code",
   "execution_count": 2,
   "id": "d719cd94",
   "metadata": {
    "execution": {
     "iopub.execute_input": "2021-12-06T15:21:14.543653Z",
     "iopub.status.busy": "2021-12-06T15:21:14.543197Z",
     "iopub.status.idle": "2021-12-06T15:21:17.712783Z",
     "shell.execute_reply": "2021-12-06T15:21:17.712353Z"
    }
   },
   "outputs": [
    {
     "name": "stdout",
     "output_type": "stream",
     "text": [
      "group ="
     ]
    },
    {
     "name": "stdout",
     "output_type": "stream",
     "text": [
      "\r"
     ]
    },
    {
     "name": "stdout",
     "output_type": "stream",
     "text": [
      "\n"
     ]
    },
    {
     "name": "stdout",
     "output_type": "stream",
     "text": [
      "\r\n",
      "Permutation group acting on 5 elements of order 6\r\n",
      "            identity: [1, 2, 3, 4, 5]\r\n",
      "generator(1 or 'x1'): [2, 1, 4, 5, 3]\r\n",
      "    recognize.source: Cyclic group C(6) of order 6 < x | x^6 = 1 >\r\n",
      "\r\n"
     ]
    },
    {
     "name": "stdout",
     "output_type": "stream",
     "text": [
      "rep ="
     ]
    },
    {
     "name": "stdout",
     "output_type": "stream",
     "text": [
      "\r"
     ]
    },
    {
     "name": "stdout",
     "output_type": "stream",
     "text": [
      "\n"
     ]
    },
    {
     "name": "stdout",
     "output_type": "stream",
     "text": [
      "\r\n",
      "Orthogonal reducible representation\r\n",
      "   dimension: 5\r\n",
      "       field: 'R'\r\n",
      "       group: Permutation group acting on 5 elements of order 6\r\n",
      "   isUnitary: true\r\n",
      "preimages{1}: [2, 1, 4, 5, 3]\r\n",
      "   images{1}: 5 x 5 double\r\n",
      "\r\n"
     ]
    }
   ],
   "source": [
    "S5 = replab.S(5);\n",
    "group = S5.subgroup({[2 1 4 5 3]})\n",
    "rep = group.naturalRep"
   ]
  },
  {
   "cell_type": "markdown",
   "id": "1cbc8bd4",
   "metadata": {},
   "source": [
    "The commutant is obtained with the command"
   ]
  },
  {
   "cell_type": "code",
   "execution_count": 3,
   "id": "1b913748",
   "metadata": {
    "execution": {
     "iopub.execute_input": "2021-12-06T15:21:17.715429Z",
     "iopub.status.busy": "2021-12-06T15:21:17.715001Z",
     "iopub.status.idle": "2021-12-06T15:21:17.775780Z",
     "shell.execute_reply": "2021-12-06T15:21:17.775379Z"
    }
   },
   "outputs": [
    {
     "name": "stdout",
     "output_type": "stream",
     "text": [
      "comm =\r\n",
      "\r\n",
      "5 x 5 commutant matrices over R\r\n",
      "     field: 'R'\r\n",
      "     group: Permutation group acting on 5 elements of order 6\r\n",
      "   imagesC: {[2, 1, 4, 5, 3; 0, 0, 0, 0, 0]}\r\n",
      "   imagesR: {[2, 1, 4, 5, 3; 0, 0, 0, 0, 0]}\r\n",
      "        nC: 5\r\n",
      "        nR: 5\r\n",
      "phaseOrder: 1\r\n",
      "      repC: Orthogonal reducible representation\r\n",
      "      repR: Orthogonal reducible representation\r\n",
      "   special: 'commutant'\r\n",
      "\r\n"
     ]
    }
   ],
   "source": [
    "comm = rep.commutant"
   ]
  },
  {
   "cell_type": "markdown",
   "id": "7f06fce8",
   "metadata": {},
   "source": [
    "## Sampling the commutant\n",
    "\n",
    "Elements of the commutant can then be sampled"
   ]
  },
  {
   "cell_type": "code",
   "execution_count": 4,
   "id": "4dde38c3",
   "metadata": {
    "execution": {
     "iopub.execute_input": "2021-12-06T15:21:17.778486Z",
     "iopub.status.busy": "2021-12-06T15:21:17.777806Z",
     "iopub.status.idle": "2021-12-06T15:21:17.800333Z",
     "shell.execute_reply": "2021-12-06T15:21:17.799929Z"
    }
   },
   "outputs": [
    {
     "name": "stdout",
     "output_type": "stream",
     "text": [
      "commEl =\r\n",
      "\r\n",
      "  -0.4970   1.0171   1.0924   1.0924   1.0924\r\n",
      "   1.0171  -0.4970   1.0924   1.0924   1.0924\r\n",
      "  -0.3139  -0.3139  -0.3308  -0.3177   0.2300\r\n",
      "  -0.3139  -0.3139   0.2300  -0.3308  -0.3177\r\n",
      "  -0.3139  -0.3139  -0.3177   0.2300  -0.3308\r\n",
      "\r\n"
     ]
    }
   ],
   "source": [
    "commEl = comm.sample"
   ]
  },
  {
   "cell_type": "markdown",
   "id": "9f798ff4",
   "metadata": {},
   "source": [
    "These matrices are invariant under transformation by the group representations"
   ]
  },
  {
   "cell_type": "code",
   "execution_count": 5,
   "id": "559e525d",
   "metadata": {
    "execution": {
     "iopub.execute_input": "2021-12-06T15:21:17.803113Z",
     "iopub.status.busy": "2021-12-06T15:21:17.802678Z",
     "iopub.status.idle": "2021-12-06T15:21:17.818643Z",
     "shell.execute_reply": "2021-12-06T15:21:17.818272Z"
    }
   },
   "outputs": [
    {
     "name": "stdout",
     "output_type": "stream",
     "text": [
      "groupEl =\r\n",
      "\r\n",
      "   0   1   0   0   0\r\n",
      "   1   0   0   0   0\r\n",
      "   0   0   0   1   0\r\n",
      "   0   0   0   0   1\r\n",
      "   0   0   1   0   0\r\n",
      "\r\n"
     ]
    }
   ],
   "source": [
    "groupEl = rep.sample"
   ]
  },
  {
   "cell_type": "code",
   "execution_count": 6,
   "id": "3c4af26d",
   "metadata": {
    "execution": {
     "iopub.execute_input": "2021-12-06T15:21:17.821440Z",
     "iopub.status.busy": "2021-12-06T15:21:17.821025Z",
     "iopub.status.idle": "2021-12-06T15:21:17.832852Z",
     "shell.execute_reply": "2021-12-06T15:21:17.833185Z"
    },
    "lines_to_next_cell": 2
   },
   "outputs": [
    {
     "name": "stdout",
     "output_type": "stream",
     "text": [
      "ans =\r\n",
      "\r\n",
      "  -0.4970   1.0171   1.0924   1.0924   1.0924\r\n",
      "   1.0171  -0.4970   1.0924   1.0924   1.0924\r\n",
      "  -0.3139  -0.3139  -0.3308  -0.3177   0.2300\r\n",
      "  -0.3139  -0.3139   0.2300  -0.3308  -0.3177\r\n",
      "  -0.3139  -0.3139  -0.3177   0.2300  -0.3308\r\n",
      "\r\n"
     ]
    }
   ],
   "source": [
    "groupEl*commEl*groupEl'"
   ]
  }
 ],
 "metadata": {
  "jupytext": {
   "cell_metadata_filter": "-all",
   "main_language": "matlab",
   "notebook_metadata_filter": "-all",
   "text_representation": {
    "extension": ".m",
    "format_name": "light"
   }
  },
  "language_info": {
   "file_extension": ".m",
   "help_links": [
    {
     "text": "GNU Octave",
     "url": "https://www.gnu.org/software/octave/support.html"
    },
    {
     "text": "Octave Kernel",
     "url": "https://github.com/Calysto/octave_kernel"
    },
    {
     "text": "MetaKernel Magics",
     "url": "https://metakernel.readthedocs.io/en/latest/source/README.html"
    }
   ],
   "mimetype": "text/x-octave",
   "name": "octave",
   "version": "6.2.0"
  }
 },
 "nbformat": 4,
 "nbformat_minor": 5
}
