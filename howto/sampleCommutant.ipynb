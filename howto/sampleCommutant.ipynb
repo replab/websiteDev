{
 "cells": [
  {
   "cell_type": "markdown",
   "id": "a6b77eec",
   "metadata": {},
   "source": [
    "# Sampling the commutant of a representation\n",
    "\n",
    "This document shows how to sample the commutant of a representation in *RepLAB*.\n",
    "\n",
    "## Preparation\n",
    "As always, before using *RepLAB* commands, initialize the library:"
   ]
  },
  {
   "cell_type": "code",
   "execution_count": 1,
   "id": "a3d1dfd0",
   "metadata": {
    "execution": {
     "iopub.execute_input": "2021-12-14T09:17:25.182651Z",
     "iopub.status.busy": "2021-12-14T09:17:25.182263Z",
     "iopub.status.idle": "2021-12-14T09:17:30.969767Z",
     "shell.execute_reply": "2021-12-14T09:17:30.968986Z"
    }
   },
   "outputs": [
    {
     "name": "stdout",
     "output_type": "stream",
     "text": [
      "replab_init: Initialization done.\r\n"
     ]
    }
   ],
   "source": [
    "addpath([pwd, '/../..']);\n",
    "replab_init('verbose', 0);"
   ]
  },
  {
   "cell_type": "markdown",
   "id": "ef0b084f",
   "metadata": {},
   "source": [
    "## Definition of the commutant\n",
    "\n",
    "Consider a group representation"
   ]
  },
  {
   "cell_type": "code",
   "execution_count": 2,
   "id": "0294d950",
   "metadata": {
    "execution": {
     "iopub.execute_input": "2021-12-14T09:17:30.972299Z",
     "iopub.status.busy": "2021-12-14T09:17:30.971891Z",
     "iopub.status.idle": "2021-12-14T09:17:33.650438Z",
     "shell.execute_reply": "2021-12-14T09:17:33.650014Z"
    }
   },
   "outputs": [
    {
     "name": "stdout",
     "output_type": "stream",
     "text": [
      "group ="
     ]
    },
    {
     "name": "stdout",
     "output_type": "stream",
     "text": [
      "\r"
     ]
    },
    {
     "name": "stdout",
     "output_type": "stream",
     "text": [
      "\n"
     ]
    },
    {
     "name": "stdout",
     "output_type": "stream",
     "text": [
      "\r\n",
      "Permutation group acting on 5 elements of order 6\r\n",
      "            identity: [1, 2, 3, 4, 5]\r\n",
      "generator(1 or 'x1'): [2, 1, 4, 5, 3]\r\n",
      "    recognize.source: Cyclic group C(6) of order 6 < x | x^6 = 1 >\r\n",
      "\r\n"
     ]
    },
    {
     "name": "stdout",
     "output_type": "stream",
     "text": [
      "rep ="
     ]
    },
    {
     "name": "stdout",
     "output_type": "stream",
     "text": [
      "\r"
     ]
    },
    {
     "name": "stdout",
     "output_type": "stream",
     "text": [
      "\n"
     ]
    },
    {
     "name": "stdout",
     "output_type": "stream",
     "text": [
      "\r\n",
      "Orthogonal reducible representation\r\n",
      "   dimension: 5\r\n",
      "       field: 'R'\r\n",
      "       group: Permutation group acting on 5 elements of order 6\r\n",
      "   isUnitary: true\r\n",
      "preimages{1}: [2, 1, 4, 5, 3]\r\n",
      "   images{1}: 5 x 5 double\r\n",
      "\r\n"
     ]
    }
   ],
   "source": [
    "S5 = replab.S(5);\n",
    "group = S5.subgroup({[2 1 4 5 3]})\n",
    "rep = group.naturalRep"
   ]
  },
  {
   "cell_type": "markdown",
   "id": "126f8679",
   "metadata": {},
   "source": [
    "The commutant is obtained with the command"
   ]
  },
  {
   "cell_type": "code",
   "execution_count": 3,
   "id": "f4e82cce",
   "metadata": {
    "execution": {
     "iopub.execute_input": "2021-12-14T09:17:33.652998Z",
     "iopub.status.busy": "2021-12-14T09:17:33.652594Z",
     "iopub.status.idle": "2021-12-14T09:17:33.711035Z",
     "shell.execute_reply": "2021-12-14T09:17:33.710666Z"
    }
   },
   "outputs": [
    {
     "name": "stdout",
     "output_type": "stream",
     "text": [
      "comm =\r\n",
      "\r\n",
      "5 x 5 commutant matrices over R\r\n",
      "     field: 'R'\r\n",
      "     group: Permutation group acting on 5 elements of order 6\r\n",
      "   imagesC: {[2, 1, 4, 5, 3; 0, 0, 0, 0, 0]}\r\n",
      "   imagesR: {[2, 1, 4, 5, 3; 0, 0, 0, 0, 0]}\r\n",
      "        nC: 5\r\n",
      "        nR: 5\r\n",
      "phaseOrder: 1\r\n",
      "      repC: Orthogonal reducible representation\r\n",
      "      repR: Orthogonal reducible representation\r\n",
      "   special: 'commutant'\r\n",
      "\r\n"
     ]
    }
   ],
   "source": [
    "comm = rep.commutant"
   ]
  },
  {
   "cell_type": "markdown",
   "id": "4a2ac1d5",
   "metadata": {},
   "source": [
    "## Sampling the commutant\n",
    "\n",
    "Elements of the commutant can then be sampled"
   ]
  },
  {
   "cell_type": "code",
   "execution_count": 4,
   "id": "842774d0",
   "metadata": {
    "execution": {
     "iopub.execute_input": "2021-12-14T09:17:33.713487Z",
     "iopub.status.busy": "2021-12-14T09:17:33.713095Z",
     "iopub.status.idle": "2021-12-14T09:17:33.733709Z",
     "shell.execute_reply": "2021-12-14T09:17:33.733361Z"
    }
   },
   "outputs": [
    {
     "name": "stdout",
     "output_type": "stream",
     "text": [
      "commEl =\r\n",
      "\r\n",
      "  -0.693107   0.266631   0.031271   0.031271   0.031271\r\n",
      "   0.266631  -0.693107   0.031271   0.031271   0.031271\r\n",
      "   0.127755   0.127755  -0.516101  -0.777250  -0.377811\r\n",
      "   0.127755   0.127755  -0.377811  -0.516101  -0.777250\r\n",
      "   0.127755   0.127755  -0.777250  -0.377811  -0.516101\r\n",
      "\r\n"
     ]
    }
   ],
   "source": [
    "commEl = comm.sample"
   ]
  },
  {
   "cell_type": "markdown",
   "id": "69fdca08",
   "metadata": {},
   "source": [
    "These matrices are invariant under transformation by the group representations"
   ]
  },
  {
   "cell_type": "code",
   "execution_count": 5,
   "id": "1b58af28",
   "metadata": {
    "execution": {
     "iopub.execute_input": "2021-12-14T09:17:33.736165Z",
     "iopub.status.busy": "2021-12-14T09:17:33.735780Z",
     "iopub.status.idle": "2021-12-14T09:17:33.750309Z",
     "shell.execute_reply": "2021-12-14T09:17:33.749918Z"
    }
   },
   "outputs": [
    {
     "name": "stdout",
     "output_type": "stream",
     "text": [
      "groupEl =\r\n",
      "\r\n",
      "   0   1   0   0   0\r\n",
      "   1   0   0   0   0\r\n",
      "   0   0   1   0   0\r\n",
      "   0   0   0   1   0\r\n",
      "   0   0   0   0   1\r\n",
      "\r\n"
     ]
    }
   ],
   "source": [
    "groupEl = rep.sample"
   ]
  },
  {
   "cell_type": "code",
   "execution_count": 6,
   "id": "435c725d",
   "metadata": {
    "execution": {
     "iopub.execute_input": "2021-12-14T09:17:33.752497Z",
     "iopub.status.busy": "2021-12-14T09:17:33.752096Z",
     "iopub.status.idle": "2021-12-14T09:17:33.763621Z",
     "shell.execute_reply": "2021-12-14T09:17:33.763914Z"
    }
   },
   "outputs": [
    {
     "name": "stdout",
     "output_type": "stream",
     "text": [
      "ans =\r\n",
      "\r\n",
      "  -0.693107   0.266631   0.031271   0.031271   0.031271\r\n",
      "   0.266631  -0.693107   0.031271   0.031271   0.031271\r\n",
      "   0.127755   0.127755  -0.516101  -0.777250  -0.377811\r\n",
      "   0.127755   0.127755  -0.377811  -0.516101  -0.777250\r\n",
      "   0.127755   0.127755  -0.777250  -0.377811  -0.516101\r\n",
      "\r\n"
     ]
    }
   ],
   "source": [
    "groupEl*commEl*groupEl'"
   ]
  }
 ],
 "metadata": {
  "jupytext": {
   "cell_metadata_filter": "-all",
   "main_language": "matlab",
   "notebook_metadata_filter": "-all",
   "text_representation": {
    "extension": ".m",
    "format_name": "light"
   }
  },
  "language_info": {
   "file_extension": ".m",
   "help_links": [
    {
     "text": "GNU Octave",
     "url": "https://www.gnu.org/software/octave/support.html"
    },
    {
     "text": "Octave Kernel",
     "url": "https://github.com/Calysto/octave_kernel"
    },
    {
     "text": "MetaKernel Magics",
     "url": "https://metakernel.readthedocs.io/en/latest/source/README.html"
    }
   ],
   "mimetype": "text/x-octave",
   "name": "octave",
   "version": "6.2.0"
  }
 },
 "nbformat": 4,
 "nbformat_minor": 5
}
