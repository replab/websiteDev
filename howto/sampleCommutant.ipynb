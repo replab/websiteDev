{
 "cells": [
  {
   "cell_type": "markdown",
   "id": "f69ddc7c",
   "metadata": {},
   "source": [
    "# Sampling the commutant of a representation\n",
    "\n",
    "This document shows how to sample the commutant of a representation in *RepLAB*.\n",
    "\n",
    "## Preparation\n",
    "As always, before using *RepLAB* commands, initialize the library:"
   ]
  },
  {
   "cell_type": "code",
   "execution_count": 1,
   "id": "6d280125",
   "metadata": {
    "execution": {
     "iopub.execute_input": "2021-12-07T09:52:04.414678Z",
     "iopub.status.busy": "2021-12-07T09:52:04.410581Z",
     "iopub.status.idle": "2021-12-07T09:52:11.379066Z",
     "shell.execute_reply": "2021-12-07T09:52:11.378097Z"
    }
   },
   "outputs": [
    {
     "name": "stdout",
     "output_type": "stream",
     "text": [
      "replab_init: Initialization done.\r\n"
     ]
    }
   ],
   "source": [
    "addpath([pwd, '/../..']);\n",
    "replab_init('verbose', 0);"
   ]
  },
  {
   "cell_type": "markdown",
   "id": "6e7b9977",
   "metadata": {},
   "source": [
    "## Definition of the commutant\n",
    "\n",
    "Consider a group representation"
   ]
  },
  {
   "cell_type": "code",
   "execution_count": 2,
   "id": "d93f5328",
   "metadata": {
    "execution": {
     "iopub.execute_input": "2021-12-07T09:52:11.383108Z",
     "iopub.status.busy": "2021-12-07T09:52:11.382595Z",
     "iopub.status.idle": "2021-12-07T09:52:15.542527Z",
     "shell.execute_reply": "2021-12-07T09:52:15.543111Z"
    }
   },
   "outputs": [
    {
     "name": "stdout",
     "output_type": "stream",
     "text": [
      "group ="
     ]
    },
    {
     "name": "stdout",
     "output_type": "stream",
     "text": [
      "\r"
     ]
    },
    {
     "name": "stdout",
     "output_type": "stream",
     "text": [
      "\n"
     ]
    },
    {
     "name": "stdout",
     "output_type": "stream",
     "text": [
      "\r\n",
      "Permutation group acting on 5 elements of order 6\r\n",
      "            identity: [1, 2, 3, 4, 5]\r\n",
      "generator(1 or 'x1'): [2, 1, 4, 5, 3]\r\n",
      "    recognize.source: Cyclic group C(6) of order 6 < x | x^6 = 1 >\r\n",
      "\r\n"
     ]
    },
    {
     "name": "stdout",
     "output_type": "stream",
     "text": [
      "rep =\r\n",
      "\r\n",
      "Orthogonal reducible representation\r\n",
      "   dimension: 5\r\n",
      "       field: 'R'\r\n",
      "       group: Permutation group acting on 5 elements of order 6\r\n",
      "   isUnitary: true\r\n",
      "preimages{1}: [2, 1, 4, 5, 3]\r\n",
      "   images{1}: 5 x 5 double\r\n",
      "\r\n"
     ]
    }
   ],
   "source": [
    "S5 = replab.S(5);\n",
    "group = S5.subgroup({[2 1 4 5 3]})\n",
    "rep = group.naturalRep"
   ]
  },
  {
   "cell_type": "markdown",
   "id": "50d0d570",
   "metadata": {},
   "source": [
    "The commutant is obtained with the command"
   ]
  },
  {
   "cell_type": "code",
   "execution_count": 3,
   "id": "7b8cc3e1",
   "metadata": {
    "execution": {
     "iopub.execute_input": "2021-12-07T09:52:15.546754Z",
     "iopub.status.busy": "2021-12-07T09:52:15.546150Z",
     "iopub.status.idle": "2021-12-07T09:52:15.617027Z",
     "shell.execute_reply": "2021-12-07T09:52:15.616378Z"
    }
   },
   "outputs": [
    {
     "name": "stdout",
     "output_type": "stream",
     "text": [
      "comm =\r\n",
      "\r\n",
      "5 x 5 commutant matrices over R\r\n",
      "     field: 'R'\r\n",
      "     group: Permutation group acting on 5 elements of order 6\r\n",
      "   imagesC: {[2, 1, 4, 5, 3; 0, 0, 0, 0, 0]}\r\n",
      "   imagesR: {[2, 1, 4, 5, 3; 0, 0, 0, 0, 0]}\r\n",
      "        nC: 5\r\n",
      "        nR: 5\r\n",
      "phaseOrder: 1\r\n",
      "      repC: Orthogonal reducible representation\r\n",
      "      repR: Orthogonal reducible representation\r\n",
      "   special: 'commutant'\r\n",
      "\r\n"
     ]
    }
   ],
   "source": [
    "comm = rep.commutant"
   ]
  },
  {
   "cell_type": "markdown",
   "id": "272fc76a",
   "metadata": {},
   "source": [
    "## Sampling the commutant\n",
    "\n",
    "Elements of the commutant can then be sampled"
   ]
  },
  {
   "cell_type": "code",
   "execution_count": 4,
   "id": "3b65b55d",
   "metadata": {
    "execution": {
     "iopub.execute_input": "2021-12-07T09:52:15.620664Z",
     "iopub.status.busy": "2021-12-07T09:52:15.619978Z",
     "iopub.status.idle": "2021-12-07T09:52:15.642983Z",
     "shell.execute_reply": "2021-12-07T09:52:15.642558Z"
    }
   },
   "outputs": [
    {
     "name": "stdout",
     "output_type": "stream",
     "text": [
      "commEl =\r\n",
      "\r\n",
      "  -0.4787   0.9643  -0.1101  -0.1101  -0.1101\r\n",
      "   0.9643  -0.4787  -0.1101  -0.1101  -0.1101\r\n",
      "   0.6222   0.6222   0.9049   0.3565  -0.8022\r\n",
      "   0.6222   0.6222  -0.8022   0.9049   0.3565\r\n",
      "   0.6222   0.6222   0.3565  -0.8022   0.9049\r\n",
      "\r\n"
     ]
    }
   ],
   "source": [
    "commEl = comm.sample"
   ]
  },
  {
   "cell_type": "markdown",
   "id": "26e81289",
   "metadata": {},
   "source": [
    "These matrices are invariant under transformation by the group representations"
   ]
  },
  {
   "cell_type": "code",
   "execution_count": 5,
   "id": "274cfb9d",
   "metadata": {
    "execution": {
     "iopub.execute_input": "2021-12-07T09:52:15.645586Z",
     "iopub.status.busy": "2021-12-07T09:52:15.645075Z",
     "iopub.status.idle": "2021-12-07T09:52:15.664923Z",
     "shell.execute_reply": "2021-12-07T09:52:15.664497Z"
    }
   },
   "outputs": [
    {
     "name": "stdout",
     "output_type": "stream",
     "text": [
      "groupEl =\r\n",
      "\r\n",
      "   0   1   0   0   0\r\n",
      "   1   0   0   0   0\r\n",
      "   0   0   0   1   0\r\n",
      "   0   0   0   0   1\r\n",
      "   0   0   1   0   0\r\n",
      "\r\n"
     ]
    }
   ],
   "source": [
    "groupEl = rep.sample"
   ]
  },
  {
   "cell_type": "code",
   "execution_count": 6,
   "id": "9e18fc27",
   "metadata": {
    "execution": {
     "iopub.execute_input": "2021-12-07T09:52:15.668127Z",
     "iopub.status.busy": "2021-12-07T09:52:15.667537Z",
     "iopub.status.idle": "2021-12-07T09:52:15.684931Z",
     "shell.execute_reply": "2021-12-07T09:52:15.685380Z"
    },
    "lines_to_next_cell": 2
   },
   "outputs": [
    {
     "name": "stdout",
     "output_type": "stream",
     "text": [
      "ans =\r\n",
      "\r\n",
      "  -0.4787   0.9643  -0.1101  -0.1101  -0.1101\r\n",
      "   0.9643  -0.4787  -0.1101  -0.1101  -0.1101\r\n",
      "   0.6222   0.6222   0.9049   0.3565  -0.8022\r\n",
      "   0.6222   0.6222  -0.8022   0.9049   0.3565\r\n",
      "   0.6222   0.6222   0.3565  -0.8022   0.9049\r\n",
      "\r\n"
     ]
    }
   ],
   "source": [
    "groupEl*commEl*groupEl'"
   ]
  }
 ],
 "metadata": {
  "jupytext": {
   "cell_metadata_filter": "-all",
   "main_language": "matlab",
   "notebook_metadata_filter": "-all",
   "text_representation": {
    "extension": ".m",
    "format_name": "light"
   }
  },
  "language_info": {
   "file_extension": ".m",
   "help_links": [
    {
     "text": "GNU Octave",
     "url": "https://www.gnu.org/software/octave/support.html"
    },
    {
     "text": "Octave Kernel",
     "url": "https://github.com/Calysto/octave_kernel"
    },
    {
     "text": "MetaKernel Magics",
     "url": "https://metakernel.readthedocs.io/en/latest/source/README.html"
    }
   ],
   "mimetype": "text/x-octave",
   "name": "octave",
   "version": "6.2.0"
  }
 },
 "nbformat": 4,
 "nbformat_minor": 5
}
