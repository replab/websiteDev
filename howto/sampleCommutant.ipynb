{
 "cells": [
  {
   "cell_type": "markdown",
   "id": "4ceabf15",
   "metadata": {},
   "source": [
    "# Sampling the commutant of a representation\n",
    "\n",
    "This document shows how to sample the commutant of a representation in *RepLAB*.\n",
    "\n",
    "## Preparation\n",
    "As always, before using *RepLAB* commands, initialize the library:"
   ]
  },
  {
   "cell_type": "code",
   "execution_count": 1,
   "id": "8f86de95",
   "metadata": {
    "execution": {
     "iopub.execute_input": "2021-12-13T20:30:13.167159Z",
     "iopub.status.busy": "2021-12-13T20:30:13.166657Z",
     "iopub.status.idle": "2021-12-13T20:30:20.378275Z",
     "shell.execute_reply": "2021-12-13T20:30:20.377720Z"
    }
   },
   "outputs": [
    {
     "name": "stdout",
     "output_type": "stream",
     "text": [
      "replab_init: Initialization done.\r\n"
     ]
    }
   ],
   "source": [
    "addpath([pwd, '/../..']);\n",
    "replab_init('verbose', 0);"
   ]
  },
  {
   "cell_type": "markdown",
   "id": "44163a4c",
   "metadata": {},
   "source": [
    "## Definition of the commutant\n",
    "\n",
    "Consider a group representation"
   ]
  },
  {
   "cell_type": "code",
   "execution_count": 2,
   "id": "ec1119d5",
   "metadata": {
    "execution": {
     "iopub.execute_input": "2021-12-13T20:30:20.381592Z",
     "iopub.status.busy": "2021-12-13T20:30:20.380961Z",
     "iopub.status.idle": "2021-12-13T20:30:23.733700Z",
     "shell.execute_reply": "2021-12-13T20:30:23.733232Z"
    }
   },
   "outputs": [
    {
     "name": "stdout",
     "output_type": "stream",
     "text": [
      "group ="
     ]
    },
    {
     "name": "stdout",
     "output_type": "stream",
     "text": [
      "\r"
     ]
    },
    {
     "name": "stdout",
     "output_type": "stream",
     "text": [
      "\n"
     ]
    },
    {
     "name": "stdout",
     "output_type": "stream",
     "text": [
      "\r\n",
      "Permutation group acting on 5 elements of order 6\r\n",
      "            identity: [1, 2, 3, 4, 5]\r\n",
      "generator(1 or 'x1'): [2, 1, 4, 5, 3]\r\n",
      "    recognize.source: Cyclic group C(6) of order 6 < x | x^6 = 1 >\r\n",
      "\r\n"
     ]
    },
    {
     "name": "stdout",
     "output_type": "stream",
     "text": [
      "rep =\r\n",
      "\r\n",
      "Orthogonal reducible representation\r\n",
      "   dimension: 5\r\n",
      "       field: 'R'\r\n",
      "       group: Permutation group acting on 5 elements of order 6\r\n",
      "   isUnitary: true\r\n",
      "preimages{1}: [2, 1, 4, 5, 3]\r\n",
      "   images{1}: 5 x 5 double\r\n",
      "\r\n"
     ]
    }
   ],
   "source": [
    "S5 = replab.S(5);\n",
    "group = S5.subgroup({[2 1 4 5 3]})\n",
    "rep = group.naturalRep"
   ]
  },
  {
   "cell_type": "markdown",
   "id": "a34da192",
   "metadata": {},
   "source": [
    "The commutant is obtained with the command"
   ]
  },
  {
   "cell_type": "code",
   "execution_count": 3,
   "id": "005f5a3c",
   "metadata": {
    "execution": {
     "iopub.execute_input": "2021-12-13T20:30:23.736720Z",
     "iopub.status.busy": "2021-12-13T20:30:23.736178Z",
     "iopub.status.idle": "2021-12-13T20:30:23.814970Z",
     "shell.execute_reply": "2021-12-13T20:30:23.814466Z"
    }
   },
   "outputs": [
    {
     "name": "stdout",
     "output_type": "stream",
     "text": [
      "comm =\r\n",
      "\r\n",
      "5 x 5 commutant matrices over R\r\n",
      "     field: 'R'\r\n",
      "     group: Permutation group acting on 5 elements of order 6\r\n",
      "   imagesC: {[2, 1, 4, 5, 3; 0, 0, 0, 0, 0]}\r\n",
      "   imagesR: {[2, 1, 4, 5, 3; 0, 0, 0, 0, 0]}\r\n",
      "        nC: 5\r\n",
      "        nR: 5\r\n",
      "phaseOrder: 1\r\n",
      "      repC: Orthogonal reducible representation\r\n",
      "      repR: Orthogonal reducible representation\r\n",
      "   special: 'commutant'\r\n",
      "\r\n"
     ]
    }
   ],
   "source": [
    "comm = rep.commutant"
   ]
  },
  {
   "cell_type": "markdown",
   "id": "4a01ad2a",
   "metadata": {},
   "source": [
    "## Sampling the commutant\n",
    "\n",
    "Elements of the commutant can then be sampled"
   ]
  },
  {
   "cell_type": "code",
   "execution_count": 4,
   "id": "a557660e",
   "metadata": {
    "execution": {
     "iopub.execute_input": "2021-12-13T20:30:23.818601Z",
     "iopub.status.busy": "2021-12-13T20:30:23.818096Z",
     "iopub.status.idle": "2021-12-13T20:30:23.844325Z",
     "shell.execute_reply": "2021-12-13T20:30:23.843843Z"
    }
   },
   "outputs": [
    {
     "name": "stdout",
     "output_type": "stream",
     "text": [
      "commEl =\r\n",
      "\r\n",
      "   0.507686   0.074908   0.376216   0.376216   0.376216\r\n",
      "   0.074908   0.507686   0.376216   0.376216   0.376216\r\n",
      "  -0.384229  -0.384229   0.565479   0.256163   0.436411\r\n",
      "  -0.384229  -0.384229   0.436411   0.565479   0.256163\r\n",
      "  -0.384229  -0.384229   0.256163   0.436411   0.565479\r\n",
      "\r\n"
     ]
    }
   ],
   "source": [
    "commEl = comm.sample"
   ]
  },
  {
   "cell_type": "markdown",
   "id": "4490a727",
   "metadata": {},
   "source": [
    "These matrices are invariant under transformation by the group representations"
   ]
  },
  {
   "cell_type": "code",
   "execution_count": 5,
   "id": "8932801b",
   "metadata": {
    "execution": {
     "iopub.execute_input": "2021-12-13T20:30:23.847981Z",
     "iopub.status.busy": "2021-12-13T20:30:23.847472Z",
     "iopub.status.idle": "2021-12-13T20:30:23.866478Z",
     "shell.execute_reply": "2021-12-13T20:30:23.866908Z"
    }
   },
   "outputs": [
    {
     "name": "stdout",
     "output_type": "stream",
     "text": [
      "groupEl =\r\n",
      "\r\n",
      "   1   0   0   0   0\r\n",
      "   0   1   0   0   0\r\n",
      "   0   0   0   0   1\r\n",
      "   0   0   1   0   0\r\n",
      "   0   0   0   1   0\r\n",
      "\r\n"
     ]
    }
   ],
   "source": [
    "groupEl = rep.sample"
   ]
  },
  {
   "cell_type": "code",
   "execution_count": 6,
   "id": "8472a670",
   "metadata": {
    "execution": {
     "iopub.execute_input": "2021-12-13T20:30:23.869871Z",
     "iopub.status.busy": "2021-12-13T20:30:23.869376Z",
     "iopub.status.idle": "2021-12-13T20:30:23.885161Z",
     "shell.execute_reply": "2021-12-13T20:30:23.884702Z"
    }
   },
   "outputs": [
    {
     "name": "stdout",
     "output_type": "stream",
     "text": [
      "ans =\r\n",
      "\r\n",
      "   0.507686   0.074908   0.376216   0.376216   0.376216\r\n",
      "   0.074908   0.507686   0.376216   0.376216   0.376216\r\n",
      "  -0.384229  -0.384229   0.565479   0.256163   0.436411\r\n",
      "  -0.384229  -0.384229   0.436411   0.565479   0.256163\r\n",
      "  -0.384229  -0.384229   0.256163   0.436411   0.565479\r\n",
      "\r\n"
     ]
    }
   ],
   "source": [
    "groupEl*commEl*groupEl'"
   ]
  },
  {
   "cell_type": "code",
   "execution_count": null,
   "id": "9301ca05",
   "metadata": {
    "lines_to_next_cell": 2
   },
   "outputs": [],
   "source": []
  }
 ],
 "metadata": {
  "jupytext": {
   "cell_metadata_filter": "-all",
   "main_language": "matlab",
   "notebook_metadata_filter": "-all",
   "text_representation": {
    "extension": ".m",
    "format_name": "light"
   }
  },
  "language_info": {
   "file_extension": ".m",
   "help_links": [
    {
     "text": "GNU Octave",
     "url": "https://www.gnu.org/software/octave/support.html"
    },
    {
     "text": "Octave Kernel",
     "url": "https://github.com/Calysto/octave_kernel"
    },
    {
     "text": "MetaKernel Magics",
     "url": "https://metakernel.readthedocs.io/en/latest/source/README.html"
    }
   ],
   "mimetype": "text/x-octave",
   "name": "octave",
   "version": "6.2.0"
  }
 },
 "nbformat": 4,
 "nbformat_minor": 5
}
