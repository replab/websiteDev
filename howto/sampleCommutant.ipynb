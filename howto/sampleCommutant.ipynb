{
 "cells": [
  {
   "cell_type": "markdown",
   "id": "d8daeabf",
   "metadata": {},
   "source": [
    "# Sampling the commutant of a representation\n",
    "\n",
    "This document shows how to sample the commutant of a representation in *RepLAB*.\n",
    "\n",
    "## Preparation\n",
    "As always, before using *RepLAB* commands, initialize the library:"
   ]
  },
  {
   "cell_type": "code",
   "execution_count": 1,
   "id": "6b650ce4",
   "metadata": {
    "execution": {
     "iopub.execute_input": "2021-12-13T21:44:17.291182Z",
     "iopub.status.busy": "2021-12-13T21:44:17.287376Z",
     "iopub.status.idle": "2021-12-13T21:44:23.272572Z",
     "shell.execute_reply": "2021-12-13T21:44:23.271730Z"
    }
   },
   "outputs": [
    {
     "name": "stdout",
     "output_type": "stream",
     "text": [
      "replab_init: Initialization done.\r\n"
     ]
    }
   ],
   "source": [
    "addpath([pwd, '/../..']);\n",
    "replab_init('verbose', 0);"
   ]
  },
  {
   "cell_type": "markdown",
   "id": "855abb86",
   "metadata": {},
   "source": [
    "## Definition of the commutant\n",
    "\n",
    "Consider a group representation"
   ]
  },
  {
   "cell_type": "code",
   "execution_count": 2,
   "id": "27743208",
   "metadata": {
    "execution": {
     "iopub.execute_input": "2021-12-13T21:44:23.275381Z",
     "iopub.status.busy": "2021-12-13T21:44:23.274945Z",
     "iopub.status.idle": "2021-12-13T21:44:26.032120Z",
     "shell.execute_reply": "2021-12-13T21:44:26.031684Z"
    }
   },
   "outputs": [
    {
     "name": "stdout",
     "output_type": "stream",
     "text": [
      "group ="
     ]
    },
    {
     "name": "stdout",
     "output_type": "stream",
     "text": [
      "\r"
     ]
    },
    {
     "name": "stdout",
     "output_type": "stream",
     "text": [
      "\n"
     ]
    },
    {
     "name": "stdout",
     "output_type": "stream",
     "text": [
      "\r\n",
      "Permutation group acting on 5 elements of order 6\r\n",
      "            identity: [1, 2, 3, 4, 5]\r\n",
      "generator(1 or 'x1'): [2, 1, 4, 5, 3]\r\n",
      "    recognize.source: Cyclic group C(6) of order 6 < x | x^6 = 1 >\r\n",
      "\r\n"
     ]
    },
    {
     "name": "stdout",
     "output_type": "stream",
     "text": [
      "rep ="
     ]
    },
    {
     "name": "stdout",
     "output_type": "stream",
     "text": [
      "\r"
     ]
    },
    {
     "name": "stdout",
     "output_type": "stream",
     "text": [
      "\n"
     ]
    },
    {
     "name": "stdout",
     "output_type": "stream",
     "text": [
      "\r\n",
      "Orthogonal reducible representation\r\n",
      "   dimension: 5\r\n",
      "       field: 'R'\r\n",
      "       group: Permutation group acting on 5 elements of order 6\r\n",
      "   isUnitary: true\r\n",
      "preimages{1}: [2, 1, 4, 5, 3]\r\n",
      "   images{1}: 5 x 5 double\r\n",
      "\r\n"
     ]
    }
   ],
   "source": [
    "S5 = replab.S(5);\n",
    "group = S5.subgroup({[2 1 4 5 3]})\n",
    "rep = group.naturalRep"
   ]
  },
  {
   "cell_type": "markdown",
   "id": "3b74ffd8",
   "metadata": {},
   "source": [
    "The commutant is obtained with the command"
   ]
  },
  {
   "cell_type": "code",
   "execution_count": 3,
   "id": "65ed5361",
   "metadata": {
    "execution": {
     "iopub.execute_input": "2021-12-13T21:44:26.036357Z",
     "iopub.status.busy": "2021-12-13T21:44:26.035934Z",
     "iopub.status.idle": "2021-12-13T21:44:26.094918Z",
     "shell.execute_reply": "2021-12-13T21:44:26.094468Z"
    }
   },
   "outputs": [
    {
     "name": "stdout",
     "output_type": "stream",
     "text": [
      "comm =\r\n",
      "\r\n",
      "5 x 5 commutant matrices over R\r\n",
      "     field: 'R'\r\n",
      "     group: Permutation group acting on 5 elements of order 6\r\n",
      "   imagesC: {[2, 1, 4, 5, 3; 0, 0, 0, 0, 0]}\r\n",
      "   imagesR: {[2, 1, 4, 5, 3; 0, 0, 0, 0, 0]}\r\n",
      "        nC: 5\r\n",
      "        nR: 5\r\n",
      "phaseOrder: 1\r\n",
      "      repC: Orthogonal reducible representation\r\n",
      "      repR: Orthogonal reducible representation\r\n",
      "   special: 'commutant'\r\n",
      "\r\n"
     ]
    }
   ],
   "source": [
    "comm = rep.commutant"
   ]
  },
  {
   "cell_type": "markdown",
   "id": "c827d5e7",
   "metadata": {},
   "source": [
    "## Sampling the commutant\n",
    "\n",
    "Elements of the commutant can then be sampled"
   ]
  },
  {
   "cell_type": "code",
   "execution_count": 4,
   "id": "a1a4f17b",
   "metadata": {
    "execution": {
     "iopub.execute_input": "2021-12-13T21:44:26.097519Z",
     "iopub.status.busy": "2021-12-13T21:44:26.097102Z",
     "iopub.status.idle": "2021-12-13T21:44:26.117704Z",
     "shell.execute_reply": "2021-12-13T21:44:26.117316Z"
    }
   },
   "outputs": [
    {
     "name": "stdout",
     "output_type": "stream",
     "text": [
      "commEl =\r\n",
      "\r\n",
      "   0.947386  -0.128159   0.153423   0.153423   0.153423\r\n",
      "  -0.128159   0.947386   0.153423   0.153423   0.153423\r\n",
      "   0.306270   0.306270  -0.261862  -0.569303   0.059539\r\n",
      "   0.306270   0.306270   0.059539  -0.261862  -0.569303\r\n",
      "   0.306270   0.306270  -0.569303   0.059539  -0.261862\r\n",
      "\r\n"
     ]
    }
   ],
   "source": [
    "commEl = comm.sample"
   ]
  },
  {
   "cell_type": "markdown",
   "id": "e32d7946",
   "metadata": {},
   "source": [
    "These matrices are invariant under transformation by the group representations"
   ]
  },
  {
   "cell_type": "code",
   "execution_count": 5,
   "id": "9d4e1034",
   "metadata": {
    "execution": {
     "iopub.execute_input": "2021-12-13T21:44:26.120583Z",
     "iopub.status.busy": "2021-12-13T21:44:26.120169Z",
     "iopub.status.idle": "2021-12-13T21:44:26.134472Z",
     "shell.execute_reply": "2021-12-13T21:44:26.134793Z"
    }
   },
   "outputs": [
    {
     "name": "stdout",
     "output_type": "stream",
     "text": [
      "groupEl =\r\n",
      "\r\n",
      "   1   0   0   0   0\r\n",
      "   0   1   0   0   0\r\n",
      "   0   0   0   0   1\r\n",
      "   0   0   1   0   0\r\n",
      "   0   0   0   1   0\r\n",
      "\r\n"
     ]
    }
   ],
   "source": [
    "groupEl = rep.sample"
   ]
  },
  {
   "cell_type": "code",
   "execution_count": 6,
   "id": "2e46406a",
   "metadata": {
    "execution": {
     "iopub.execute_input": "2021-12-13T21:44:26.137361Z",
     "iopub.status.busy": "2021-12-13T21:44:26.136951Z",
     "iopub.status.idle": "2021-12-13T21:44:26.148635Z",
     "shell.execute_reply": "2021-12-13T21:44:26.148978Z"
    }
   },
   "outputs": [
    {
     "name": "stdout",
     "output_type": "stream",
     "text": [
      "ans =\r\n",
      "\r\n",
      "   0.947386  -0.128159   0.153423   0.153423   0.153423\r\n",
      "  -0.128159   0.947386   0.153423   0.153423   0.153423\r\n",
      "   0.306270   0.306270  -0.261862  -0.569303   0.059539\r\n",
      "   0.306270   0.306270   0.059539  -0.261862  -0.569303\r\n",
      "   0.306270   0.306270  -0.569303   0.059539  -0.261862\r\n",
      "\r\n"
     ]
    }
   ],
   "source": [
    "groupEl*commEl*groupEl'"
   ]
  },
  {
   "cell_type": "code",
   "execution_count": null,
   "id": "bfd08c08",
   "metadata": {
    "lines_to_next_cell": 2
   },
   "outputs": [],
   "source": []
  }
 ],
 "metadata": {
  "jupytext": {
   "cell_metadata_filter": "-all",
   "main_language": "matlab",
   "notebook_metadata_filter": "-all",
   "text_representation": {
    "extension": ".m",
    "format_name": "light"
   }
  },
  "language_info": {
   "file_extension": ".m",
   "help_links": [
    {
     "text": "GNU Octave",
     "url": "https://www.gnu.org/software/octave/support.html"
    },
    {
     "text": "Octave Kernel",
     "url": "https://github.com/Calysto/octave_kernel"
    },
    {
     "text": "MetaKernel Magics",
     "url": "https://metakernel.readthedocs.io/en/latest/source/README.html"
    }
   ],
   "mimetype": "text/x-octave",
   "name": "octave",
   "version": "6.2.0"
  }
 },
 "nbformat": 4,
 "nbformat_minor": 5
}
