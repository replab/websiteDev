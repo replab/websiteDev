{
 "cells": [
  {
   "cell_type": "markdown",
   "id": "e9f66039",
   "metadata": {},
   "source": [
    "# Sampling the commutant of a representation\n",
    "\n",
    "This document shows how to sample the commutant of a representation in *RepLAB*.\n",
    "\n",
    "## Preparation\n",
    "As always, before using *RepLAB* commands, initialize the library:"
   ]
  },
  {
   "cell_type": "code",
   "execution_count": 1,
   "id": "68cf9e3a",
   "metadata": {
    "execution": {
     "iopub.execute_input": "2021-12-06T15:43:44.834376Z",
     "iopub.status.busy": "2021-12-06T15:43:44.834000Z",
     "iopub.status.idle": "2021-12-06T15:43:50.510442Z",
     "shell.execute_reply": "2021-12-06T15:43:50.509938Z"
    }
   },
   "outputs": [
    {
     "name": "stdout",
     "output_type": "stream",
     "text": [
      "replab_init: Initialization done.\r\n"
     ]
    }
   ],
   "source": [
    "addpath([pwd, '/../..']);\n",
    "replab_init('verbose', 0);"
   ]
  },
  {
   "cell_type": "markdown",
   "id": "0d1de6ed",
   "metadata": {},
   "source": [
    "## Definition of the commutant\n",
    "\n",
    "Consider a group representation"
   ]
  },
  {
   "cell_type": "code",
   "execution_count": 2,
   "id": "51f3ae54",
   "metadata": {
    "execution": {
     "iopub.execute_input": "2021-12-06T15:43:50.512790Z",
     "iopub.status.busy": "2021-12-06T15:43:50.512364Z",
     "iopub.status.idle": "2021-12-06T15:43:53.444810Z",
     "shell.execute_reply": "2021-12-06T15:43:53.444457Z"
    }
   },
   "outputs": [
    {
     "name": "stdout",
     "output_type": "stream",
     "text": [
      "group ="
     ]
    },
    {
     "name": "stdout",
     "output_type": "stream",
     "text": [
      "\r"
     ]
    },
    {
     "name": "stdout",
     "output_type": "stream",
     "text": [
      "\n"
     ]
    },
    {
     "name": "stdout",
     "output_type": "stream",
     "text": [
      "\r\n",
      "Permutation group acting on 5 elements of order 6\r\n",
      "            identity: [1, 2, 3, 4, 5]\r\n",
      "generator(1 or 'x1'): [2, 1, 4, 5, 3]\r\n",
      "    recognize.source: Cyclic group C(6) of order 6 < x | x^6 = 1 >\r\n",
      "\r\n"
     ]
    },
    {
     "name": "stdout",
     "output_type": "stream",
     "text": [
      "rep ="
     ]
    },
    {
     "name": "stdout",
     "output_type": "stream",
     "text": [
      "\r"
     ]
    },
    {
     "name": "stdout",
     "output_type": "stream",
     "text": [
      "\n"
     ]
    },
    {
     "name": "stdout",
     "output_type": "stream",
     "text": [
      "\r\n",
      "Orthogonal reducible representation\r\n",
      "   dimension: 5\r\n",
      "       field: 'R'\r\n",
      "       group: Permutation group acting on 5 elements of order 6\r\n",
      "   isUnitary: true\r\n",
      "preimages{1}: [2, 1, 4, 5, 3]\r\n",
      "   images{1}: 5 x 5 double\r\n",
      "\r\n"
     ]
    }
   ],
   "source": [
    "S5 = replab.S(5);\n",
    "group = S5.subgroup({[2 1 4 5 3]})\n",
    "rep = group.naturalRep"
   ]
  },
  {
   "cell_type": "markdown",
   "id": "1e74760a",
   "metadata": {},
   "source": [
    "The commutant is obtained with the command"
   ]
  },
  {
   "cell_type": "code",
   "execution_count": 3,
   "id": "cd909111",
   "metadata": {
    "execution": {
     "iopub.execute_input": "2021-12-06T15:43:53.447701Z",
     "iopub.status.busy": "2021-12-06T15:43:53.447305Z",
     "iopub.status.idle": "2021-12-06T15:43:53.500108Z",
     "shell.execute_reply": "2021-12-06T15:43:53.499736Z"
    }
   },
   "outputs": [
    {
     "name": "stdout",
     "output_type": "stream",
     "text": [
      "comm =\r\n",
      "\r\n",
      "5 x 5 commutant matrices over R\r\n",
      "     field: 'R'\r\n",
      "     group: Permutation group acting on 5 elements of order 6\r\n",
      "   imagesC: {[2, 1, 4, 5, 3; 0, 0, 0, 0, 0]}\r\n",
      "   imagesR: {[2, 1, 4, 5, 3; 0, 0, 0, 0, 0]}\r\n",
      "        nC: 5\r\n",
      "        nR: 5\r\n",
      "phaseOrder: 1\r\n",
      "      repC: Orthogonal reducible representation\r\n",
      "      repR: Orthogonal reducible representation\r\n",
      "   special: 'commutant'\r\n",
      "\r\n"
     ]
    }
   ],
   "source": [
    "comm = rep.commutant"
   ]
  },
  {
   "cell_type": "markdown",
   "id": "55d29e1a",
   "metadata": {},
   "source": [
    "## Sampling the commutant\n",
    "\n",
    "Elements of the commutant can then be sampled"
   ]
  },
  {
   "cell_type": "code",
   "execution_count": 4,
   "id": "1f50a6f9",
   "metadata": {
    "execution": {
     "iopub.execute_input": "2021-12-06T15:43:53.502632Z",
     "iopub.status.busy": "2021-12-06T15:43:53.502245Z",
     "iopub.status.idle": "2021-12-06T15:43:53.520505Z",
     "shell.execute_reply": "2021-12-06T15:43:53.520806Z"
    }
   },
   "outputs": [
    {
     "name": "stdout",
     "output_type": "stream",
     "text": [
      "commEl =\r\n",
      "\r\n",
      "   0.316656   0.901790   0.297941   0.297941   0.297941\r\n",
      "   0.901790   0.316656   0.297941   0.297941   0.297941\r\n",
      "   0.093229   0.093229   0.115147  -0.710210  -0.506168\r\n",
      "   0.093229   0.093229  -0.506168   0.115147  -0.710210\r\n",
      "   0.093229   0.093229  -0.710210  -0.506168   0.115147\r\n",
      "\r\n"
     ]
    }
   ],
   "source": [
    "commEl = comm.sample"
   ]
  },
  {
   "cell_type": "markdown",
   "id": "22102284",
   "metadata": {},
   "source": [
    "These matrices are invariant under transformation by the group representations"
   ]
  },
  {
   "cell_type": "code",
   "execution_count": 5,
   "id": "37bb0446",
   "metadata": {
    "execution": {
     "iopub.execute_input": "2021-12-06T15:43:53.523045Z",
     "iopub.status.busy": "2021-12-06T15:43:53.522675Z",
     "iopub.status.idle": "2021-12-06T15:43:53.536723Z",
     "shell.execute_reply": "2021-12-06T15:43:53.536352Z"
    }
   },
   "outputs": [
    {
     "name": "stdout",
     "output_type": "stream",
     "text": [
      "groupEl =\r\n",
      "\r\n",
      "   0   1   0   0   0\r\n",
      "   1   0   0   0   0\r\n",
      "   0   0   0   0   1\r\n",
      "   0   0   1   0   0\r\n",
      "   0   0   0   1   0\r\n",
      "\r\n"
     ]
    }
   ],
   "source": [
    "groupEl = rep.sample"
   ]
  },
  {
   "cell_type": "code",
   "execution_count": 6,
   "id": "080fb0e6",
   "metadata": {
    "execution": {
     "iopub.execute_input": "2021-12-06T15:43:53.538775Z",
     "iopub.status.busy": "2021-12-06T15:43:53.538379Z",
     "iopub.status.idle": "2021-12-06T15:43:53.549699Z",
     "shell.execute_reply": "2021-12-06T15:43:53.549351Z"
    },
    "lines_to_next_cell": 2
   },
   "outputs": [
    {
     "name": "stdout",
     "output_type": "stream",
     "text": [
      "ans =\r\n",
      "\r\n",
      "   0.316656   0.901790   0.297941   0.297941   0.297941\r\n",
      "   0.901790   0.316656   0.297941   0.297941   0.297941\r\n",
      "   0.093229   0.093229   0.115147  -0.710210  -0.506168\r\n",
      "   0.093229   0.093229  -0.506168   0.115147  -0.710210\r\n",
      "   0.093229   0.093229  -0.710210  -0.506168   0.115147\r\n",
      "\r\n"
     ]
    }
   ],
   "source": [
    "groupEl*commEl*groupEl'"
   ]
  }
 ],
 "metadata": {
  "jupytext": {
   "cell_metadata_filter": "-all",
   "main_language": "matlab",
   "notebook_metadata_filter": "-all",
   "text_representation": {
    "extension": ".m",
    "format_name": "light"
   }
  },
  "language_info": {
   "file_extension": ".m",
   "help_links": [
    {
     "text": "GNU Octave",
     "url": "https://www.gnu.org/software/octave/support.html"
    },
    {
     "text": "Octave Kernel",
     "url": "https://github.com/Calysto/octave_kernel"
    },
    {
     "text": "MetaKernel Magics",
     "url": "https://metakernel.readthedocs.io/en/latest/source/README.html"
    }
   ],
   "mimetype": "text/x-octave",
   "name": "octave",
   "version": "6.2.0"
  }
 },
 "nbformat": 4,
 "nbformat_minor": 5
}
