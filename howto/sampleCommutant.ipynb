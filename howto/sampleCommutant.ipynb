{
 "cells": [
  {
   "cell_type": "markdown",
   "id": "b759ac9d",
   "metadata": {},
   "source": [
    "# Sampling the commutant of a representation\n",
    "\n",
    "This document shows how to sample the commutant of a representation in *RepLAB*.\n",
    "\n",
    "## Preparation\n",
    "As always, before using *RepLAB* commands, initialize the library:"
   ]
  },
  {
   "cell_type": "code",
   "execution_count": 1,
   "id": "b77ae681",
   "metadata": {
    "execution": {
     "iopub.execute_input": "2021-12-28T10:52:18.819788Z",
     "iopub.status.busy": "2021-12-28T10:52:18.819288Z",
     "iopub.status.idle": "2021-12-28T10:52:18.843988Z",
     "shell.execute_reply": "2021-12-28T10:52:18.843334Z"
    }
   },
   "outputs": [
    {
     "name": "stdout",
     "output_type": "stream",
     "text": [
      "error: 'replab_init' undefined near line 1, column 1\r\n"
     ]
    }
   ],
   "source": [
    "addpath([pwd, '/../..']);\n",
    "replab_init('verbose', 0);"
   ]
  },
  {
   "cell_type": "markdown",
   "id": "6687b985",
   "metadata": {},
   "source": [
    "## Definition of the commutant\n",
    "\n",
    "Consider a group representation"
   ]
  },
  {
   "cell_type": "code",
   "execution_count": 2,
   "id": "40920475",
   "metadata": {
    "execution": {
     "iopub.execute_input": "2021-12-28T10:52:18.846638Z",
     "iopub.status.busy": "2021-12-28T10:52:18.845939Z",
     "iopub.status.idle": "2021-12-28T10:52:18.861967Z",
     "shell.execute_reply": "2021-12-28T10:52:18.861602Z"
    }
   },
   "outputs": [
    {
     "name": "stdout",
     "output_type": "stream",
     "text": [
      "error: 'replab' undefined near line 1, column 1\r\n"
     ]
    },
    {
     "name": "stdout",
     "output_type": "stream",
     "text": [
      "error: 'S5' undefined near line 1, column 1\r\n"
     ]
    },
    {
     "name": "stdout",
     "output_type": "stream",
     "text": [
      "error: 'group' undefined near line 1, column 1\r\n"
     ]
    }
   ],
   "source": [
    "S5 = replab.S(5);\n",
    "group = S5.subgroup({[2 1 4 5 3]})\n",
    "rep = group.naturalRep"
   ]
  },
  {
   "cell_type": "markdown",
   "id": "54ec53ac",
   "metadata": {},
   "source": [
    "The commutant is obtained with the command"
   ]
  },
  {
   "cell_type": "code",
   "execution_count": 3,
   "id": "fd624035",
   "metadata": {
    "execution": {
     "iopub.execute_input": "2021-12-28T10:52:18.864755Z",
     "iopub.status.busy": "2021-12-28T10:52:18.864336Z",
     "iopub.status.idle": "2021-12-28T10:52:18.871893Z",
     "shell.execute_reply": "2021-12-28T10:52:18.871540Z"
    }
   },
   "outputs": [
    {
     "name": "stdout",
     "output_type": "stream",
     "text": [
      "error: 'rep' undefined near line 1, column 1\r\n"
     ]
    }
   ],
   "source": [
    "comm = rep.commutant"
   ]
  },
  {
   "cell_type": "markdown",
   "id": "7762c912",
   "metadata": {},
   "source": [
    "## Sampling the commutant\n",
    "\n",
    "Elements of the commutant can then be sampled"
   ]
  },
  {
   "cell_type": "code",
   "execution_count": 4,
   "id": "ff64fee9",
   "metadata": {
    "execution": {
     "iopub.execute_input": "2021-12-28T10:52:18.874741Z",
     "iopub.status.busy": "2021-12-28T10:52:18.874317Z",
     "iopub.status.idle": "2021-12-28T10:52:18.881917Z",
     "shell.execute_reply": "2021-12-28T10:52:18.881563Z"
    }
   },
   "outputs": [
    {
     "name": "stdout",
     "output_type": "stream",
     "text": [
      "error: 'comm' undefined near line 1, column 1\r\n"
     ]
    }
   ],
   "source": [
    "commEl = comm.sample"
   ]
  },
  {
   "cell_type": "markdown",
   "id": "6b32f36c",
   "metadata": {},
   "source": [
    "These matrices are invariant under transformation by the group representations"
   ]
  },
  {
   "cell_type": "code",
   "execution_count": 5,
   "id": "1b2ad329",
   "metadata": {
    "execution": {
     "iopub.execute_input": "2021-12-28T10:52:18.884499Z",
     "iopub.status.busy": "2021-12-28T10:52:18.884074Z",
     "iopub.status.idle": "2021-12-28T10:52:18.892070Z",
     "shell.execute_reply": "2021-12-28T10:52:18.891697Z"
    }
   },
   "outputs": [
    {
     "name": "stdout",
     "output_type": "stream",
     "text": [
      "error: 'rep' undefined near line 1, column 1\r\n"
     ]
    }
   ],
   "source": [
    "groupEl = rep.sample"
   ]
  },
  {
   "cell_type": "code",
   "execution_count": 6,
   "id": "0fbaff11",
   "metadata": {
    "execution": {
     "iopub.execute_input": "2021-12-28T10:52:18.894244Z",
     "iopub.status.busy": "2021-12-28T10:52:18.893563Z",
     "iopub.status.idle": "2021-12-28T10:52:18.902129Z",
     "shell.execute_reply": "2021-12-28T10:52:18.901748Z"
    }
   },
   "outputs": [
    {
     "name": "stdout",
     "output_type": "stream",
     "text": [
      "error: 'groupEl' undefined near line 1, column 1\r\n"
     ]
    }
   ],
   "source": [
    "groupEl*commEl*groupEl'"
   ]
  }
 ],
 "metadata": {
  "jupytext": {
   "cell_metadata_filter": "-all",
   "main_language": "matlab",
   "notebook_metadata_filter": "-all",
   "text_representation": {
    "extension": ".m",
    "format_name": "light"
   }
  },
  "language_info": {
   "file_extension": ".m",
   "help_links": [
    {
     "text": "GNU Octave",
     "url": "https://www.gnu.org/software/octave/support.html"
    },
    {
     "text": "Octave Kernel",
     "url": "https://github.com/Calysto/octave_kernel"
    },
    {
     "text": "MetaKernel Magics",
     "url": "https://metakernel.readthedocs.io/en/latest/source/README.html"
    }
   ],
   "mimetype": "text/x-octave",
   "name": "octave",
   "version": "6.2.0"
  }
 },
 "nbformat": 4,
 "nbformat_minor": 5
}
