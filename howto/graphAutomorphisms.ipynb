{
 "cells": [
  {
   "cell_type": "markdown",
   "id": "af46d007",
   "metadata": {},
   "source": [
    "# Graph automorphism group\n",
    "\n",
    "This document illustrated how *RepLAB* can be used to compute the automorphism group of a graph.\n",
    "\n",
    "## Preparation\n",
    "As always, before using *RepLAB* commands, initialize the library:"
   ]
  },
  {
   "cell_type": "code",
   "execution_count": 1,
   "id": "d57c9ea2",
   "metadata": {
    "execution": {
     "iopub.execute_input": "2021-12-28T10:52:00.142252Z",
     "iopub.status.busy": "2021-12-28T10:52:00.140126Z",
     "iopub.status.idle": "2021-12-28T10:52:00.164006Z",
     "shell.execute_reply": "2021-12-28T10:52:00.163506Z"
    }
   },
   "outputs": [
    {
     "name": "stdout",
     "output_type": "stream",
     "text": [
      "error: 'replab_init' undefined near line 1, column 1\r\n"
     ]
    }
   ],
   "source": [
    "addpath([pwd, '/../..']);\n",
    "replab_init('verbose', 0);"
   ]
  },
  {
   "cell_type": "markdown",
   "id": "ce123c12",
   "metadata": {},
   "source": [
    "## Graph definition\n",
    "\n",
    "In *RepLAB*, undirected graphs are represented by the class\n",
    "replab.UndirectedGraph. A graph can be initialized from a list of edges\n",
    "or from an adjacency matrix. For instance, the graph with adjacency matrix"
   ]
  },
  {
   "cell_type": "code",
   "execution_count": 2,
   "id": "fe37129d",
   "metadata": {
    "execution": {
     "iopub.execute_input": "2021-12-28T10:52:00.166615Z",
     "iopub.status.busy": "2021-12-28T10:52:00.166162Z",
     "iopub.status.idle": "2021-12-28T10:52:00.174992Z",
     "shell.execute_reply": "2021-12-28T10:52:00.174627Z"
    }
   },
   "outputs": [],
   "source": [
    "M = [0 1 1 1\n",
    "1 0 0 1\n",
    "1 0 0 1\n",
    "1 1 1 0];"
   ]
  },
  {
   "cell_type": "markdown",
   "id": "ca522d4b",
   "metadata": {},
   "source": [
    "is constructed by calling"
   ]
  },
  {
   "cell_type": "code",
   "execution_count": 3,
   "id": "d917a99e",
   "metadata": {
    "execution": {
     "iopub.execute_input": "2021-12-28T10:52:00.177483Z",
     "iopub.status.busy": "2021-12-28T10:52:00.177051Z",
     "iopub.status.idle": "2021-12-28T10:52:00.185285Z",
     "shell.execute_reply": "2021-12-28T10:52:00.184899Z"
    }
   },
   "outputs": [
    {
     "name": "stdout",
     "output_type": "stream",
     "text": [
      "error: 'replab' undefined near line 1, column 1\r\n"
     ]
    }
   ],
   "source": [
    "graph = replab.UndirectedGraph.fromAdjacencyMatrix(M)"
   ]
  },
  {
   "cell_type": "markdown",
   "id": "f05a3890",
   "metadata": {},
   "source": [
    "## Automorphism computation\n",
    "\n",
    "The automorphisms of a graph are obtained by simply calling"
   ]
  },
  {
   "cell_type": "code",
   "execution_count": 4,
   "id": "eab1171a",
   "metadata": {
    "execution": {
     "iopub.execute_input": "2021-12-28T10:52:00.187845Z",
     "iopub.status.busy": "2021-12-28T10:52:00.187406Z",
     "iopub.status.idle": "2021-12-28T10:52:00.347430Z",
     "shell.execute_reply": "2021-12-28T10:52:00.346985Z"
    }
   },
   "outputs": [
    {
     "name": "stdout",
     "output_type": "stream",
     "text": [
      "error: 'graph' undefined near line 1, column 1\r\n",
      "\r\n",
      "The 'graph' function is not yet implemented in Octave.\r\n",
      "\r\n",
      "Please read <https://www.octave.org/missing.html> to learn how you can\r\n",
      "contribute missing functionality.\r\n"
     ]
    }
   ],
   "source": [
    "group = graph.automorphismGroup"
   ]
  },
  {
   "cell_type": "markdown",
   "id": "9e83fdd1",
   "metadata": {},
   "source": [
    "This returns the group under which the graph is invariant. In the present case, this group is a Klein group of order 4, which admits 2 generators."
   ]
  },
  {
   "cell_type": "markdown",
   "id": "7568d250",
   "metadata": {},
   "source": [
    "## Bonus\n",
    "\n",
    "Graphs can have colored vertices as well as weighted edges. These are taken into account during the automorphism computation."
   ]
  }
 ],
 "metadata": {
  "jupytext": {
   "cell_metadata_filter": "-all",
   "main_language": "matlab",
   "notebook_metadata_filter": "-all",
   "text_representation": {
    "extension": ".m",
    "format_name": "light"
   }
  },
  "language_info": {
   "file_extension": ".m",
   "help_links": [
    {
     "text": "GNU Octave",
     "url": "https://www.gnu.org/software/octave/support.html"
    },
    {
     "text": "Octave Kernel",
     "url": "https://github.com/Calysto/octave_kernel"
    },
    {
     "text": "MetaKernel Magics",
     "url": "https://metakernel.readthedocs.io/en/latest/source/README.html"
    }
   ],
   "mimetype": "text/x-octave",
   "name": "octave",
   "version": "6.2.0"
  }
 },
 "nbformat": 4,
 "nbformat_minor": 5
}
