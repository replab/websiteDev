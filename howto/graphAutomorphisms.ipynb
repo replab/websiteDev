{
 "cells": [
  {
   "cell_type": "markdown",
   "id": "b0a8527a",
   "metadata": {},
   "source": [
    "# Graph automorphism group\n",
    "\n",
    "This document illustrated how *RepLAB* can be used to compute the automorphism group of a graph.\n",
    "\n",
    "## Preparation\n",
    "As always, before using *RepLAB* commands, initialize the library:"
   ]
  },
  {
   "cell_type": "code",
   "execution_count": 1,
   "id": "02ec17f5",
   "metadata": {
    "execution": {
     "iopub.execute_input": "2021-12-20T14:16:40.313284Z",
     "iopub.status.busy": "2021-12-20T14:16:40.312664Z",
     "iopub.status.idle": "2021-12-20T14:16:40.335319Z",
     "shell.execute_reply": "2021-12-20T14:16:40.334812Z"
    }
   },
   "outputs": [
    {
     "name": "stdout",
     "output_type": "stream",
     "text": [
      "error: 'replab_init' undefined near line 1, column 1\r\n"
     ]
    }
   ],
   "source": [
    "addpath([pwd, '/../..']);\n",
    "replab_init('verbose', 0);"
   ]
  },
  {
   "cell_type": "markdown",
   "id": "f2671161",
   "metadata": {},
   "source": [
    "## Graph definition\n",
    "\n",
    "In *RepLAB*, undirected graphs are represented by the class\n",
    "replab.UndirectedGraph. A graph can be initialized from a list of edges\n",
    "or from an adjacency matrix. For instance, the graph with adjacency matrix"
   ]
  },
  {
   "cell_type": "code",
   "execution_count": 2,
   "id": "e0009eef",
   "metadata": {
    "execution": {
     "iopub.execute_input": "2021-12-20T14:16:40.338303Z",
     "iopub.status.busy": "2021-12-20T14:16:40.337900Z",
     "iopub.status.idle": "2021-12-20T14:16:40.349388Z",
     "shell.execute_reply": "2021-12-20T14:16:40.349017Z"
    }
   },
   "outputs": [],
   "source": [
    "M = [0 1 1 1\n",
    "1 0 0 1\n",
    "1 0 0 1\n",
    "1 1 1 0];"
   ]
  },
  {
   "cell_type": "markdown",
   "id": "96ae60e5",
   "metadata": {},
   "source": [
    "is constructed by calling"
   ]
  },
  {
   "cell_type": "code",
   "execution_count": 3,
   "id": "eaeb165f",
   "metadata": {
    "execution": {
     "iopub.execute_input": "2021-12-20T14:16:40.352459Z",
     "iopub.status.busy": "2021-12-20T14:16:40.352048Z",
     "iopub.status.idle": "2021-12-20T14:16:40.362025Z",
     "shell.execute_reply": "2021-12-20T14:16:40.361637Z"
    }
   },
   "outputs": [
    {
     "name": "stdout",
     "output_type": "stream",
     "text": [
      "error: 'replab' undefined near line 1, column 1\r\n"
     ]
    }
   ],
   "source": [
    "graph = replab.UndirectedGraph.fromAdjacencyMatrix(M)"
   ]
  },
  {
   "cell_type": "markdown",
   "id": "74087208",
   "metadata": {},
   "source": [
    "## Automorphism computation\n",
    "\n",
    "The automorphisms of a graph are obtained by simply calling"
   ]
  },
  {
   "cell_type": "code",
   "execution_count": 4,
   "id": "c4503bb5",
   "metadata": {
    "execution": {
     "iopub.execute_input": "2021-12-20T14:16:40.365198Z",
     "iopub.status.busy": "2021-12-20T14:16:40.364803Z",
     "iopub.status.idle": "2021-12-20T14:16:40.536037Z",
     "shell.execute_reply": "2021-12-20T14:16:40.535617Z"
    }
   },
   "outputs": [
    {
     "name": "stdout",
     "output_type": "stream",
     "text": [
      "error: 'graph' undefined near line 1, column 1\r\n",
      "\r\n",
      "The 'graph' function is not yet implemented in Octave.\r\n",
      "\r\n",
      "Please read <https://www.octave.org/missing.html> to learn how you can\r\n",
      "contribute missing functionality.\r\n"
     ]
    }
   ],
   "source": [
    "group = graph.automorphismGroup"
   ]
  },
  {
   "cell_type": "markdown",
   "id": "d3473f3c",
   "metadata": {},
   "source": [
    "This returns the group under which the graph is invariant. In the present case, this group is a Klein group of order 4, which admits 2 generators."
   ]
  },
  {
   "cell_type": "markdown",
   "id": "354aa9d0",
   "metadata": {},
   "source": [
    "## Bonus\n",
    "\n",
    "Graphs can have colored vertices as well as weighted edges. These are taken into account during the automorphism computation."
   ]
  }
 ],
 "metadata": {
  "jupytext": {
   "cell_metadata_filter": "-all",
   "main_language": "matlab",
   "notebook_metadata_filter": "-all",
   "text_representation": {
    "extension": ".m",
    "format_name": "light"
   }
  },
  "language_info": {
   "file_extension": ".m",
   "help_links": [
    {
     "text": "GNU Octave",
     "url": "https://www.gnu.org/software/octave/support.html"
    },
    {
     "text": "Octave Kernel",
     "url": "https://github.com/Calysto/octave_kernel"
    },
    {
     "text": "MetaKernel Magics",
     "url": "https://metakernel.readthedocs.io/en/latest/source/README.html"
    }
   ],
   "mimetype": "text/x-octave",
   "name": "octave",
   "version": "6.2.0"
  }
 },
 "nbformat": 4,
 "nbformat_minor": 5
}
