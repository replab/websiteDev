{
 "cells": [
  {
   "cell_type": "markdown",
   "id": "6dbcb1bd",
   "metadata": {},
   "source": [
    "# Graph automorphism group\n",
    "\n",
    "This document illustrated how *RepLAB* can be used to compute the automorphism group of a graph.\n",
    "\n",
    "## Preparation\n",
    "As always, before using *RepLAB* commands, initialize the library:"
   ]
  },
  {
   "cell_type": "code",
   "execution_count": 1,
   "id": "6ef39b2b",
   "metadata": {
    "execution": {
     "iopub.execute_input": "2021-12-13T21:42:48.852391Z",
     "iopub.status.busy": "2021-12-13T21:42:48.851897Z",
     "iopub.status.idle": "2021-12-13T21:42:54.786971Z",
     "shell.execute_reply": "2021-12-13T21:42:54.786197Z"
    }
   },
   "outputs": [
    {
     "name": "stdout",
     "output_type": "stream",
     "text": [
      "replab_init: Initialization done.\r\n"
     ]
    }
   ],
   "source": [
    "addpath([pwd, '/../..']);\n",
    "replab_init('verbose', 0);"
   ]
  },
  {
   "cell_type": "markdown",
   "id": "3e715a37",
   "metadata": {},
   "source": [
    "## Graph definition\n",
    "\n",
    "In *RepLAB*, undirected graphs are represented by the class\n",
    "replab.UndirectedGraph. A graph can be initialized from a list of edges\n",
    "or from an adjacency matrix. For instance, the graph with adjacency matrix"
   ]
  },
  {
   "cell_type": "code",
   "execution_count": 2,
   "id": "d35f999b",
   "metadata": {
    "execution": {
     "iopub.execute_input": "2021-12-13T21:42:54.789925Z",
     "iopub.status.busy": "2021-12-13T21:42:54.789488Z",
     "iopub.status.idle": "2021-12-13T21:42:54.813952Z",
     "shell.execute_reply": "2021-12-13T21:42:54.814321Z"
    }
   },
   "outputs": [],
   "source": [
    "M = [0 1 1 1\n",
    "1 0 0 1\n",
    "1 0 0 1\n",
    "1 1 1 0];"
   ]
  },
  {
   "cell_type": "markdown",
   "id": "f2e99c00",
   "metadata": {},
   "source": [
    "is constructed by calling"
   ]
  },
  {
   "cell_type": "code",
   "execution_count": 3,
   "id": "d5cc4078",
   "metadata": {
    "execution": {
     "iopub.execute_input": "2021-12-13T21:42:54.817046Z",
     "iopub.status.busy": "2021-12-13T21:42:54.816609Z",
     "iopub.status.idle": "2021-12-13T21:42:54.854616Z",
     "shell.execute_reply": "2021-12-13T21:42:54.854202Z"
    }
   },
   "outputs": [
    {
     "name": "stdout",
     "output_type": "stream",
     "text": [
      "graph =\r\n",
      "\r\n",
      "Undirected graph with 4 vertices and 5 edges\r\n",
      "edges: [1, 2; 1, 3; 1, 4; 2, 4; 3, 4]\r\n",
      "\r\n"
     ]
    }
   ],
   "source": [
    "graph = replab.UndirectedGraph.fromAdjacencyMatrix(M)"
   ]
  },
  {
   "cell_type": "markdown",
   "id": "1f2ea680",
   "metadata": {},
   "source": [
    "## Automorphism computation\n",
    "\n",
    "The automorphisms of a graph are obtained by simply calling"
   ]
  },
  {
   "cell_type": "code",
   "execution_count": 4,
   "id": "2885d9e0",
   "metadata": {
    "execution": {
     "iopub.execute_input": "2021-12-13T21:42:54.857036Z",
     "iopub.status.busy": "2021-12-13T21:42:54.856597Z",
     "iopub.status.idle": "2021-12-13T21:42:58.699405Z",
     "shell.execute_reply": "2021-12-13T21:42:58.698993Z"
    }
   },
   "outputs": [
    {
     "name": "stdout",
     "output_type": "stream",
     "text": [
      "group ="
     ]
    },
    {
     "name": "stdout",
     "output_type": "stream",
     "text": [
      "\r"
     ]
    },
    {
     "name": "stdout",
     "output_type": "stream",
     "text": [
      "\n"
     ]
    },
    {
     "name": "stdout",
     "output_type": "stream",
     "text": [
      "\r\n",
      "Permutation group acting on 4 elements of order 4\r\n",
      "            identity: [1, 2, 3, 4]\r\n",
      "generator(1 or 'x1'): [4, 2, 3, 1]\r\n",
      "generator(2 or 'x2'): [1, 3, 2, 4]\r\n",
      "    recognize.source: Klein four-group < a, x | a^2 = x^2 = x a x^-1 a^-1 = 1 >\r\n",
      "\r\n"
     ]
    }
   ],
   "source": [
    "group = graph.automorphismGroup"
   ]
  },
  {
   "cell_type": "markdown",
   "id": "e476002b",
   "metadata": {},
   "source": [
    "This returns the group under which the graph is invariant. In the present case, this group is a Klein group of order 4, which admits 2 generators."
   ]
  },
  {
   "cell_type": "markdown",
   "id": "a7bab926",
   "metadata": {},
   "source": [
    "## Bonus\n",
    "\n",
    "Graphs can have colored vertices as well as weighted edges. These are taken into account during the automorphism computation."
   ]
  },
  {
   "cell_type": "code",
   "execution_count": null,
   "id": "e5dbd55e",
   "metadata": {
    "lines_to_next_cell": 2
   },
   "outputs": [],
   "source": []
  }
 ],
 "metadata": {
  "jupytext": {
   "cell_metadata_filter": "-all",
   "main_language": "matlab",
   "notebook_metadata_filter": "-all",
   "text_representation": {
    "extension": ".m",
    "format_name": "light"
   }
  },
  "language_info": {
   "file_extension": ".m",
   "help_links": [
    {
     "text": "GNU Octave",
     "url": "https://www.gnu.org/software/octave/support.html"
    },
    {
     "text": "Octave Kernel",
     "url": "https://github.com/Calysto/octave_kernel"
    },
    {
     "text": "MetaKernel Magics",
     "url": "https://metakernel.readthedocs.io/en/latest/source/README.html"
    }
   ],
   "mimetype": "text/x-octave",
   "name": "octave",
   "version": "6.2.0"
  }
 },
 "nbformat": 4,
 "nbformat_minor": 5
}
