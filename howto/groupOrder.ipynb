{
 "cells": [
  {
   "cell_type": "markdown",
   "id": "c589e7a0",
   "metadata": {},
   "source": [
    "# Computing the order of a permutation group\n",
    "\n",
    "This document shows how to compute the order of a permutation group in *RepLAB*.\n",
    "\n",
    "## Preparation\n",
    "As always, before using *RepLAB* commands, initialize the library:"
   ]
  },
  {
   "cell_type": "code",
   "execution_count": 1,
   "id": "cb70ec27",
   "metadata": {
    "execution": {
     "iopub.execute_input": "2021-12-28T11:52:40.321447Z",
     "iopub.status.busy": "2021-12-28T11:52:40.318750Z",
     "iopub.status.idle": "2021-12-28T11:52:40.341418Z",
     "shell.execute_reply": "2021-12-28T11:52:40.341780Z"
    }
   },
   "outputs": [
    {
     "name": "stdout",
     "output_type": "stream",
     "text": [
      "error: 'replab_init' undefined near line 1, column 1\r\n"
     ]
    }
   ],
   "source": [
    "addpath([pwd, '/../..']);\n",
    "replab_init('verbose', 0);"
   ]
  },
  {
   "cell_type": "markdown",
   "id": "b83fdd22",
   "metadata": {},
   "source": [
    "## Permutation group\n",
    "\n",
    "Consider the following group"
   ]
  },
  {
   "cell_type": "code",
   "execution_count": 2,
   "id": "917fd607",
   "metadata": {
    "execution": {
     "iopub.execute_input": "2021-12-28T11:52:40.344511Z",
     "iopub.status.busy": "2021-12-28T11:52:40.344079Z",
     "iopub.status.idle": "2021-12-28T11:52:40.352706Z",
     "shell.execute_reply": "2021-12-28T11:52:40.352304Z"
    }
   },
   "outputs": [
    {
     "name": "stdout",
     "output_type": "stream",
     "text": [
      "error: 'replab' undefined near line 1, column 1\r\n"
     ]
    }
   ],
   "source": [
    "G = replab.PermutationGroup.of([2 3 4 5 1 7 8 9 10 6], [2 1 4 3 6 5 8 7 10 9])"
   ]
  },
  {
   "cell_type": "markdown",
   "id": "002b888f",
   "metadata": {},
   "source": [
    "## Order computation\n",
    "\n",
    "The order of the group can be computed by simply"
   ]
  },
  {
   "cell_type": "code",
   "execution_count": 3,
   "id": "c6b15363",
   "metadata": {
    "execution": {
     "iopub.execute_input": "2021-12-28T11:52:40.355250Z",
     "iopub.status.busy": "2021-12-28T11:52:40.354830Z",
     "iopub.status.idle": "2021-12-28T11:52:40.362763Z",
     "shell.execute_reply": "2021-12-28T11:52:40.362400Z"
    }
   },
   "outputs": [
    {
     "name": "stdout",
     "output_type": "stream",
     "text": [
      "error: 'G' undefined near line 1, column 1\r\n"
     ]
    }
   ],
   "source": [
    "G.order"
   ]
  },
  {
   "cell_type": "markdown",
   "id": "b2d07445",
   "metadata": {},
   "source": [
    "Once computed, the order is a property of the group"
   ]
  },
  {
   "cell_type": "code",
   "execution_count": 4,
   "id": "84129d91",
   "metadata": {
    "execution": {
     "iopub.execute_input": "2021-12-28T11:52:40.365026Z",
     "iopub.status.busy": "2021-12-28T11:52:40.364604Z",
     "iopub.status.idle": "2021-12-28T11:52:40.373637Z",
     "shell.execute_reply": "2021-12-28T11:52:40.373262Z"
    }
   },
   "outputs": [
    {
     "name": "stdout",
     "output_type": "stream",
     "text": [
      "error: 'G' undefined near line 1, column 1\r\n"
     ]
    }
   ],
   "source": [
    "G"
   ]
  }
 ],
 "metadata": {
  "jupytext": {
   "cell_metadata_filter": "-all",
   "main_language": "matlab",
   "notebook_metadata_filter": "-all",
   "text_representation": {
    "extension": ".m",
    "format_name": "light"
   }
  },
  "language_info": {
   "file_extension": ".m",
   "help_links": [
    {
     "text": "GNU Octave",
     "url": "https://www.gnu.org/software/octave/support.html"
    },
    {
     "text": "Octave Kernel",
     "url": "https://github.com/Calysto/octave_kernel"
    },
    {
     "text": "MetaKernel Magics",
     "url": "https://metakernel.readthedocs.io/en/latest/source/README.html"
    }
   ],
   "mimetype": "text/x-octave",
   "name": "octave",
   "version": "6.2.0"
  }
 },
 "nbformat": 4,
 "nbformat_minor": 5
}
