{
 "cells": [
  {
   "cell_type": "markdown",
   "id": "2bf21385",
   "metadata": {},
   "source": [
    "# Computing the order of a permutation group\n",
    "\n",
    "This document shows how to compute the order of a permutation group in *RepLAB*.\n",
    "\n",
    "## Preparation\n",
    "As always, before using *RepLAB* commands, initialize the library:"
   ]
  },
  {
   "cell_type": "code",
   "execution_count": 1,
   "id": "f49e1c38",
   "metadata": {
    "execution": {
     "iopub.execute_input": "2021-12-18T22:08:51.273718Z",
     "iopub.status.busy": "2021-12-18T22:08:51.273271Z",
     "iopub.status.idle": "2021-12-18T22:08:51.296702Z",
     "shell.execute_reply": "2021-12-18T22:08:51.296224Z"
    }
   },
   "outputs": [
    {
     "name": "stdout",
     "output_type": "stream",
     "text": [
      "error: 'replab_init' undefined near line 1, column 1\r\n"
     ]
    }
   ],
   "source": [
    "addpath([pwd, '/../..']);\n",
    "replab_init('verbose', 0);"
   ]
  },
  {
   "cell_type": "markdown",
   "id": "0a49acc6",
   "metadata": {},
   "source": [
    "## Permutation group\n",
    "\n",
    "Consider the following group"
   ]
  },
  {
   "cell_type": "code",
   "execution_count": 2,
   "id": "df476882",
   "metadata": {
    "execution": {
     "iopub.execute_input": "2021-12-18T22:08:51.299325Z",
     "iopub.status.busy": "2021-12-18T22:08:51.298855Z",
     "iopub.status.idle": "2021-12-18T22:08:51.306642Z",
     "shell.execute_reply": "2021-12-18T22:08:51.306969Z"
    }
   },
   "outputs": [
    {
     "name": "stdout",
     "output_type": "stream",
     "text": [
      "error: 'replab' undefined near line 1, column 1\r\n"
     ]
    }
   ],
   "source": [
    "G = replab.PermutationGroup.of([2 3 4 5 1 7 8 9 10 6], [2 1 4 3 6 5 8 7 10 9])"
   ]
  },
  {
   "cell_type": "markdown",
   "id": "75c9039b",
   "metadata": {},
   "source": [
    "## Order computation\n",
    "\n",
    "The order of the group can be computed by simply"
   ]
  },
  {
   "cell_type": "code",
   "execution_count": 3,
   "id": "4a22e969",
   "metadata": {
    "execution": {
     "iopub.execute_input": "2021-12-18T22:08:51.309522Z",
     "iopub.status.busy": "2021-12-18T22:08:51.309096Z",
     "iopub.status.idle": "2021-12-18T22:08:51.316962Z",
     "shell.execute_reply": "2021-12-18T22:08:51.316549Z"
    }
   },
   "outputs": [
    {
     "name": "stdout",
     "output_type": "stream",
     "text": [
      "error: 'G' undefined near line 1, column 1\r\n"
     ]
    }
   ],
   "source": [
    "G.order"
   ]
  },
  {
   "cell_type": "markdown",
   "id": "2630ac10",
   "metadata": {},
   "source": [
    "Once computed, the order is a property of the group"
   ]
  },
  {
   "cell_type": "code",
   "execution_count": 4,
   "id": "6fc97d6e",
   "metadata": {
    "execution": {
     "iopub.execute_input": "2021-12-18T22:08:51.319280Z",
     "iopub.status.busy": "2021-12-18T22:08:51.318854Z",
     "iopub.status.idle": "2021-12-18T22:08:51.326736Z",
     "shell.execute_reply": "2021-12-18T22:08:51.326359Z"
    }
   },
   "outputs": [
    {
     "name": "stdout",
     "output_type": "stream",
     "text": [
      "error: 'G' undefined near line 1, column 1\r\n"
     ]
    }
   ],
   "source": [
    "G"
   ]
  }
 ],
 "metadata": {
  "jupytext": {
   "cell_metadata_filter": "-all",
   "main_language": "matlab",
   "notebook_metadata_filter": "-all",
   "text_representation": {
    "extension": ".m",
    "format_name": "light"
   }
  },
  "language_info": {
   "file_extension": ".m",
   "help_links": [
    {
     "text": "GNU Octave",
     "url": "https://www.gnu.org/software/octave/support.html"
    },
    {
     "text": "Octave Kernel",
     "url": "https://github.com/Calysto/octave_kernel"
    },
    {
     "text": "MetaKernel Magics",
     "url": "https://metakernel.readthedocs.io/en/latest/source/README.html"
    }
   ],
   "mimetype": "text/x-octave",
   "name": "octave",
   "version": "6.2.0"
  }
 },
 "nbformat": 4,
 "nbformat_minor": 5
}
