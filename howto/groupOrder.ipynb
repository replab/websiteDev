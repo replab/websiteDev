{
 "cells": [
  {
   "cell_type": "markdown",
   "id": "b02dc5c3",
   "metadata": {},
   "source": [
    "# Computing the order of a permutation group\n",
    "\n",
    "This document shows how to compute the order of a permutation group in *RepLAB*.\n",
    "\n",
    "## Preparation\n",
    "As always, before using *RepLAB* commands, initialize the library:"
   ]
  },
  {
   "cell_type": "code",
   "execution_count": 1,
   "id": "50506c7a",
   "metadata": {
    "execution": {
     "iopub.execute_input": "2021-12-28T10:52:05.748059Z",
     "iopub.status.busy": "2021-12-28T10:52:05.747574Z",
     "iopub.status.idle": "2021-12-28T10:52:05.771629Z",
     "shell.execute_reply": "2021-12-28T10:52:05.771110Z"
    }
   },
   "outputs": [
    {
     "name": "stdout",
     "output_type": "stream",
     "text": [
      "error: 'replab_init' undefined near line 1, column 1\r\n"
     ]
    }
   ],
   "source": [
    "addpath([pwd, '/../..']);\n",
    "replab_init('verbose', 0);"
   ]
  },
  {
   "cell_type": "markdown",
   "id": "9b5b9693",
   "metadata": {},
   "source": [
    "## Permutation group\n",
    "\n",
    "Consider the following group"
   ]
  },
  {
   "cell_type": "code",
   "execution_count": 2,
   "id": "ad3ac371",
   "metadata": {
    "execution": {
     "iopub.execute_input": "2021-12-28T10:52:05.774433Z",
     "iopub.status.busy": "2021-12-28T10:52:05.773968Z",
     "iopub.status.idle": "2021-12-28T10:52:05.782334Z",
     "shell.execute_reply": "2021-12-28T10:52:05.781927Z"
    }
   },
   "outputs": [
    {
     "name": "stdout",
     "output_type": "stream",
     "text": [
      "error: 'replab' undefined near line 1, column 1\r\n"
     ]
    }
   ],
   "source": [
    "G = replab.PermutationGroup.of([2 3 4 5 1 7 8 9 10 6], [2 1 4 3 6 5 8 7 10 9])"
   ]
  },
  {
   "cell_type": "markdown",
   "id": "07bff883",
   "metadata": {},
   "source": [
    "## Order computation\n",
    "\n",
    "The order of the group can be computed by simply"
   ]
  },
  {
   "cell_type": "code",
   "execution_count": 3,
   "id": "ee6b4cf5",
   "metadata": {
    "execution": {
     "iopub.execute_input": "2021-12-28T10:52:05.784978Z",
     "iopub.status.busy": "2021-12-28T10:52:05.784545Z",
     "iopub.status.idle": "2021-12-28T10:52:05.792455Z",
     "shell.execute_reply": "2021-12-28T10:52:05.792061Z"
    }
   },
   "outputs": [
    {
     "name": "stdout",
     "output_type": "stream",
     "text": [
      "error: 'G' undefined near line 1, column 1\r\n"
     ]
    }
   ],
   "source": [
    "G.order"
   ]
  },
  {
   "cell_type": "markdown",
   "id": "fa3a1ddb",
   "metadata": {},
   "source": [
    "Once computed, the order is a property of the group"
   ]
  },
  {
   "cell_type": "code",
   "execution_count": 4,
   "id": "818a2f9d",
   "metadata": {
    "execution": {
     "iopub.execute_input": "2021-12-28T10:52:05.794908Z",
     "iopub.status.busy": "2021-12-28T10:52:05.794480Z",
     "iopub.status.idle": "2021-12-28T10:52:05.803767Z",
     "shell.execute_reply": "2021-12-28T10:52:05.803383Z"
    }
   },
   "outputs": [
    {
     "name": "stdout",
     "output_type": "stream",
     "text": [
      "error: 'G' undefined near line 1, column 1\r\n"
     ]
    }
   ],
   "source": [
    "G"
   ]
  }
 ],
 "metadata": {
  "jupytext": {
   "cell_metadata_filter": "-all",
   "main_language": "matlab",
   "notebook_metadata_filter": "-all",
   "text_representation": {
    "extension": ".m",
    "format_name": "light"
   }
  },
  "language_info": {
   "file_extension": ".m",
   "help_links": [
    {
     "text": "GNU Octave",
     "url": "https://www.gnu.org/software/octave/support.html"
    },
    {
     "text": "Octave Kernel",
     "url": "https://github.com/Calysto/octave_kernel"
    },
    {
     "text": "MetaKernel Magics",
     "url": "https://metakernel.readthedocs.io/en/latest/source/README.html"
    }
   ],
   "mimetype": "text/x-octave",
   "name": "octave",
   "version": "6.2.0"
  }
 },
 "nbformat": 4,
 "nbformat_minor": 5
}
