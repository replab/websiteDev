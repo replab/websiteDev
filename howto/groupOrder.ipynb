{
 "cells": [
  {
   "cell_type": "markdown",
   "id": "86855bf4",
   "metadata": {},
   "source": [
    "# Computing the order of a permutation group\n",
    "\n",
    "This document shows how to compute the order of a permutation group in *RepLAB*.\n",
    "\n",
    "## Preparation\n",
    "As always, before using *RepLAB* commands, initialize the library:"
   ]
  },
  {
   "cell_type": "code",
   "execution_count": 1,
   "id": "91147f13",
   "metadata": {
    "execution": {
     "iopub.execute_input": "2021-12-20T14:16:45.936205Z",
     "iopub.status.busy": "2021-12-20T14:16:45.932178Z",
     "iopub.status.idle": "2021-12-20T14:16:45.956569Z",
     "shell.execute_reply": "2021-12-20T14:16:45.955854Z"
    }
   },
   "outputs": [
    {
     "name": "stdout",
     "output_type": "stream",
     "text": [
      "error: 'replab_init' undefined near line 1, column 1\r\n"
     ]
    }
   ],
   "source": [
    "addpath([pwd, '/../..']);\n",
    "replab_init('verbose', 0);"
   ]
  },
  {
   "cell_type": "markdown",
   "id": "551857b3",
   "metadata": {},
   "source": [
    "## Permutation group\n",
    "\n",
    "Consider the following group"
   ]
  },
  {
   "cell_type": "code",
   "execution_count": 2,
   "id": "6a993538",
   "metadata": {
    "execution": {
     "iopub.execute_input": "2021-12-20T14:16:45.959142Z",
     "iopub.status.busy": "2021-12-20T14:16:45.958754Z",
     "iopub.status.idle": "2021-12-20T14:16:45.967136Z",
     "shell.execute_reply": "2021-12-20T14:16:45.966739Z"
    }
   },
   "outputs": [
    {
     "name": "stdout",
     "output_type": "stream",
     "text": [
      "error: 'replab' undefined near line 1, column 1\r\n"
     ]
    }
   ],
   "source": [
    "G = replab.PermutationGroup.of([2 3 4 5 1 7 8 9 10 6], [2 1 4 3 6 5 8 7 10 9])"
   ]
  },
  {
   "cell_type": "markdown",
   "id": "47ba1c64",
   "metadata": {},
   "source": [
    "## Order computation\n",
    "\n",
    "The order of the group can be computed by simply"
   ]
  },
  {
   "cell_type": "code",
   "execution_count": 3,
   "id": "fcdbed3d",
   "metadata": {
    "execution": {
     "iopub.execute_input": "2021-12-20T14:16:45.969580Z",
     "iopub.status.busy": "2021-12-20T14:16:45.969155Z",
     "iopub.status.idle": "2021-12-20T14:16:45.976807Z",
     "shell.execute_reply": "2021-12-20T14:16:45.976443Z"
    }
   },
   "outputs": [
    {
     "name": "stdout",
     "output_type": "stream",
     "text": [
      "error: 'G' undefined near line 1, column 1\r\n"
     ]
    }
   ],
   "source": [
    "G.order"
   ]
  },
  {
   "cell_type": "markdown",
   "id": "a560f863",
   "metadata": {},
   "source": [
    "Once computed, the order is a property of the group"
   ]
  },
  {
   "cell_type": "code",
   "execution_count": 4,
   "id": "9aa5acd3",
   "metadata": {
    "execution": {
     "iopub.execute_input": "2021-12-20T14:16:45.979534Z",
     "iopub.status.busy": "2021-12-20T14:16:45.979117Z",
     "iopub.status.idle": "2021-12-20T14:16:45.986141Z",
     "shell.execute_reply": "2021-12-20T14:16:45.985762Z"
    }
   },
   "outputs": [
    {
     "name": "stdout",
     "output_type": "stream",
     "text": [
      "error: 'G' undefined near line 1, column 1\r\n"
     ]
    }
   ],
   "source": [
    "G"
   ]
  }
 ],
 "metadata": {
  "jupytext": {
   "cell_metadata_filter": "-all",
   "main_language": "matlab",
   "notebook_metadata_filter": "-all",
   "text_representation": {
    "extension": ".m",
    "format_name": "light"
   }
  },
  "language_info": {
   "file_extension": ".m",
   "help_links": [
    {
     "text": "GNU Octave",
     "url": "https://www.gnu.org/software/octave/support.html"
    },
    {
     "text": "Octave Kernel",
     "url": "https://github.com/Calysto/octave_kernel"
    },
    {
     "text": "MetaKernel Magics",
     "url": "https://metakernel.readthedocs.io/en/latest/source/README.html"
    }
   ],
   "mimetype": "text/x-octave",
   "name": "octave",
   "version": "6.2.0"
  }
 },
 "nbformat": 4,
 "nbformat_minor": 5
}
